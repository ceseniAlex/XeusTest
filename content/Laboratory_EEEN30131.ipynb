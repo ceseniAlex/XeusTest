{
 "cells": [
  {
   "cell_type": "markdown",
   "metadata": {},
   "source": [
    "# EEEN30131 Power Flow Analysis & Power System Control Coursework"
   ]
  },
  {
   "cell_type": "markdown",
   "metadata": {},
   "source": [
    "***&copy; 2024 Martínez Ceseña — University of Manchester, UK***"
   ]
  },
  {
   "cell_type": "markdown",
   "metadata": {},
   "source": [
    "This notebook provides the tools required to complete EEEN30131's coursework, and should be used alongside the **EEEN30131 Coursework Instructions.docx** file."
   ]
  },
  {
   "cell_type": "markdown",
   "metadata": {},
   "source": [
    "## List of contents"
   ]
  },
  {
   "cell_type": "markdown",
   "metadata": {},
   "source": [
    "- [Important dates](#Important-dates)\n",
    "- [Before we begin](#Before-we-begin)\n",
    "- [Practise - Getting familiar with Jupyter notebooks](#Practise---Getting-familiar-with-Jupyter-notebooks)\n",
    "  - [Activating the notebook](#Activating-the-notebook)\n",
    "  - [Using the tools presented in this notebook](#Using-the-tools-presented-in-this-notebook)\n",
    "- [Part A – Power Flow Analysis](#Part-A-–-Power-Flow-Analysis)\n",
    "  - [Task A.1 - Load Variations](#Task-A.1---Load-Variations)\n",
    "    - [A.1.1 (Record in excel template) [10 marks]](#A.1.1-(Record-in-excel-template)-[10-marks])\n",
    "    - [A.1.2 (Record in excel template) [10 marks]](#A.1.2-(Record-in-excel-template)-[10-marks])\n",
    "    - [A.1.3 (Report) [10 marks]](#A.1.3-(Report)-[10-marks])\n",
    "  - [Task A.2 Generation Variations](#Task-A.2-Generation-Variations)\n",
    "    - [A.2.1 (Report) [7 marks]](#A.2.1-(Report)-[7-marks])\n",
    "    - [A.2.2 (Report) [3 marks]](#A.2.2-(Report)-[3-marks])\n",
    "    - [A.2.3 (Report) [10 marks]](#A.2.3-(Report)-[10-marks])\n",
    "- [Part B - Power System Control](#Part-B---Power-System-Control)\n",
    "  - [Task B.1 - Primary frequency control for systems with low inertia](#Task-B.1---Primary-frequency-control-for-systems-with-low-inertia)\n",
    "    - [B.1.1 (Record in excel template) [10 marks]](#B.1.1-(Record-in-excel-template)-[10-marks])\n",
    "    - [B.1.2 (Report) [7 marks]](#B.1.2-(Report)-[7-marks])\n",
    "  - [Task B.2 - Primary frequency control – Contributions of loads](#Task-B.2---Primary-frequency-control-–-Contributions-of-loads)\n",
    "    - [B.2.1 (Record in excel template) [10 marks]](#B.2.1-(Record-in-excel-template)-[10-marks])\n",
    "    - [B.2.2 (Report) [5 marks]](#B.2.2-(Report)-[5-marks])\n",
    "  - [Task B.3 - Voltage control](#Task-B.3---Voltage-control)\n",
    "    - [B.3.1 (Record in excel template) [10 marks]](#B.3.1-(Record-in-excel-template)-[10-marks])\n",
    "    - [B.3.2 (Report) [5 marks]](#B.3.2-(Report)-[5-marks])\n",
    "- [Summary](#Summary)"
   ]
  },
  {
   "cell_type": "markdown",
   "metadata": {},
   "source": [
    "[Back to top](#EEEN30131-Power-Flow-Analysis-&-Power-System-Control-Coursework)"
   ]
  },
  {
   "cell_type": "markdown",
   "metadata": {},
   "source": [
    "## Important dates"
   ]
  },
  {
   "cell_type": "markdown",
   "metadata": {},
   "source": [
    "Review the EEEN30131 [Blackboard space](https://online.manchester.ac.uk/webapps/blackboard/content/listContentEditable.jsp?content_id=_15046413_1&course_id=_78315_1) and look for the following:\n",
    "* Deadline to upload pre-lab exercise.\n",
    "* The date when and place where tab takes place.\n",
    "* Deadline to submit the coursework (i.e., report and excel template)."
   ]
  },
  {
   "cell_type": "markdown",
   "metadata": {},
   "source": [
    "## Before we begin"
   ]
  },
  {
   "cell_type": "markdown",
   "metadata": {},
   "source": [
    "Before we begin, remember that you should have completed the pre-lab exercise and filled the **EEEN30131_PSA_PreWork_Template.xlsm** template. Otherwise, you will **lose 3 marks** and will not have the information required to complete the exercises presented below.\n",
    "\n",
    "If you have completed the pre-lab exercise, you can proceed.\n",
    "- This notebook will provide all the tools required to address every exercise presented in the laboratory.\n",
    "- The tools have been discussed in the lectures and presented in relevant jupyter notebooks. Please refer to the lectures if you need more details about the tools.\n",
    "- To import the tools, we will use a python library (*nbimporter*) that allows us to import tools developed in other jupyter notebooks."
   ]
  },
  {
   "cell_type": "markdown",
   "metadata": {},
   "source": [
    "If this data notebook is being used in Jupyter lite, the folders where the python code that supports this notebook are stored, have to be enabled."
   ]
  },
  {
   "cell_type": "code",
   "execution_count": null,
   "metadata": {},
   "outputs": [],
   "source": [
    "from pathlib import Path\n",
    "if Path.cwd().drive == '':\n",
    "    a_dir = Path(\"dir\")\n",
    "    a_dir.mkdir(exist_ok=True)"
   ]
  },
  {
   "cell_type": "markdown",
   "metadata": {},
   "source": [
    "The following conventional python libraries are used:"
   ]
  },
  {
   "cell_type": "code",
   "execution_count": null,
   "metadata": {},
   "outputs": [],
   "source": [
    "import numpy\n",
    "try:\n",
    "    import ipywidgets as widgets\n",
    "except:\n",
    "    import micropip\n",
    "    await micropip.install('ipywidgets')\n",
    "    import ipywidgets as widgets\n",
    "from ipywidgets import interact\n",
    "import cmath\n",
    "import numpy\n",
    "import matplotlib.pyplot as plt\n",
    "import math\n",
    "import warnings\n",
    "warnings.filterwarnings(\"ignore\")"
   ]
  },
  {
   "cell_type": "markdown",
   "metadata": {},
   "source": [
    "The following tools that were developed for EEEN30131 are loaded:"
   ]
  },
  {
   "cell_type": "code",
   "execution_count": 1,
   "metadata": {},
   "outputs": [],
   "source": [
    "from Code.Wk2_EEEN30131 import get_Bus_Type, develop_PF_Equations\n",
    "from Code.Wk3_EEEN30131 import Newtons_Method, Visualize_Elec\n",
    "from Code.Wk4_EEEN30131 import get_Primary_Response, get_pu, get_Δw, get_step\n",
    "from Code.Wk5_EEEN30131 import get_Tie_Data, get_TieLine, interconnected_frequency_primary\n",
    "from Code.Wk5_EEEN30131 import interconnected_power, plot_Δw, plot_Ppu, print_TieLine\n",
    "from Code.Wk6_EEEN30131 import get_Ybus, get_Parameters"
   ]
  },
  {
   "cell_type": "markdown",
   "metadata": {},
   "source": [
    "FInally, to facilitate the work in this lab, a bespoke display method is introduced to produce the results in the units and format required for your coursework."
   ]
  },
  {
   "cell_type": "code",
   "execution_count": 3,
   "metadata": {},
   "outputs": [],
   "source": [
    "def Visualize_Lab(Connectivity, Load, P, Q, Base, V_All, 𝜃_All, Succes):\n",
    "    if Succes:\n",
    "        Results = get_Parameters(Connectivity, V_All, 𝜃_All, Succes)\n",
    "\n",
    "        print('LOADS:')\n",
    "        for xb in range(len(V_All)):\n",
    "            print('P%d = %10.4f [GW], Q%d = %10.4f [GVAr]'%(xb+1, P[xb]*Base, xb+1, Q[xb]*Base))\n",
    "\n",
    "        print('\\nGENERATORS:')\n",
    "        for xg in range(len(V_All)):\n",
    "            G = Results['Net_Power'][xg]/1000 + Load[xg][1]*Base\n",
    "            if abs(G) > 0.001:\n",
    "                print('G%d = %7.4f + j %7.4f [GVA]'%(xg+1, G.real, G.imag))\n",
    "\n",
    "        print('\\nVOLTAGES:')\n",
    "        for xb in range(len(V_All)):\n",
    "            print('V%d =  %7.4f ∠ %8.4f [pu][deg]'%(xb+1, V_All[xb], 𝜃_All[xb]*180/math.pi))\n",
    "        \n",
    "        NoBranch = len(Results['Connectivity'])\n",
    "        print('\\nPOWER FLOWS:')\n",
    "        for xb in range(NoBranch):\n",
    "            print('%2.0f - %2.0f %7.4f + j %7.4f [GVA] to %7.4f + j %7.4f [GVA]'%\n",
    "                  (Results['Connectivity'][xb][0],Results['Connectivity'][xb][1],\n",
    "                  Results['Sending_Power'][xb].real/1000, Results['Sending_Power'][xb].imag/1000,\n",
    "                  Results['Receiving_Power'][xb].real/1000, Results['Receiving_Power'][xb].imag/1000))\n",
    "\n",
    "        print('\\nLOSSES:')\n",
    "        for xb in range(NoBranch):\n",
    "            print('%2.0f - %2.0f %7.4f + j %7.4f [GVA]'%\n",
    "                  (Results['Connectivity'][xb][0],Results['Connectivity'][xb][1],\n",
    "                  Results['Loss'][xb].real/1000, Results['Loss'][xb].imag/1000))\n",
    "        return Results\n",
    "    return False"
   ]
  },
  {
   "cell_type": "markdown",
   "metadata": {},
   "source": [
    "[Back to top](#EEEN30131-Power-Flow-Analysis-&-Power-System-Control-Coursework)"
   ]
  },
  {
   "cell_type": "markdown",
   "metadata": {},
   "source": [
    "## Practise - Getting familiar with Jupyter notebooks"
   ]
  },
  {
   "cell_type": "markdown",
   "metadata": {},
   "source": [
    "### Activating the notebook"
   ]
  },
  {
   "cell_type": "markdown",
   "metadata": {},
   "source": [
    "Remember that this notebook is displaying the results that were generated the last time the file was saved. However, the notebook may not be operational. \n",
    "\n",
    "To activate the notebook, you can restart and run all cells in the notebook by selecting the \"Restart & Run All\" option within the \"Kernel menu\", which is located on the top left of this browser."
   ]
  },
  {
   "cell_type": "markdown",
   "metadata": {},
   "source": [
    "`Kernel/Restart & Run All`"
   ]
  },
  {
   "cell_type": "markdown",
   "metadata": {},
   "source": [
    "Once you have activated the notebook, it is possible to use the different tools available. \n",
    "\n",
    "Let us check if the notebook is active by running the cell below. For this purpose, click on the cell and, afterwards, click on ▶."
   ]
  },
  {
   "cell_type": "code",
   "execution_count": 4,
   "metadata": {},
   "outputs": [
    {
     "name": "stdout",
     "output_type": "stream",
     "text": [
      "The notebook is active and can use different tools\n",
      "such as the numpy library which allows us to create\n",
      "vectors such as:\n",
      "[0. 1. 2. 3. 4. 5.]\n"
     ]
    }
   ],
   "source": [
    "t = numpy.linspace(0,5,6)\n",
    "print('The notebook is active and can use different tools')\n",
    "print('such as the numpy library which allows us to create')\n",
    "print('vectors such as:')\n",
    "print(t)"
   ]
  },
  {
   "cell_type": "markdown",
   "metadata": {},
   "source": [
    "[Back to top](#EEEN30131-Power-Flow-Analysis-&-Power-System-Control-Coursework)"
   ]
  },
  {
   "cell_type": "markdown",
   "metadata": {},
   "source": [
    "### Using the tools presented in this notebook"
   ]
  },
  {
   "cell_type": "markdown",
   "metadata": {},
   "source": [
    "The tools in this take inputs from graphical user interfaces. To be more specific, you do not need to edit the code, you just need to manipulate the sliders.\n",
    "\n",
    "For this purpose, play with the tool presented below:\n",
    "- Drag the slider and check how the display changes:\n",
    "  - Can you select a number that is outside the 0 - 10 range?\n",
    "  - Can you select a non-integer number (e.g., 7.5)?\n",
    "- Click on the number on the right of the slider and type a number:\n",
    "  - Does the number change if you do not press `Enter`?\n",
    "  - Can you select a number that is outside the 0 - 10 range?\n",
    "  - Can you select a non-integer number (e.g., 7.5)?"
   ]
  },
  {
   "cell_type": "code",
   "execution_count": 5,
   "metadata": {},
   "outputs": [
    {
     "data": {
      "application/vnd.jupyter.widget-view+json": {
       "model_id": "7a4ff0346cac411ebb41f61cfaed013e",
       "version_major": 2,
       "version_minor": 0
      },
      "text/plain": [
       "interactive(children=(FloatSlider(value=5.0, continuous_update=False, description='Input', max=10.0, readout_f…"
      ]
     },
     "metadata": {},
     "output_type": "display_data"
    }
   ],
   "source": [
    "@interact\n",
    "def A_1_1(Input = widgets.FloatSlider(min=0, max=10,step=1,value=5, description='Input',\n",
    "                                    continuous_update=False, readout_format='.4f')):\n",
    "    print('The value of the input is %.4f'%Input)"
   ]
  },
  {
   "cell_type": "markdown",
   "metadata": {},
   "source": [
    "Make sure that you understand the outputs provided by the interactive cells, as you will need to record some of the information and use it to inform your discussion. If something is unclear, please ask the demonstrators (during the laboratory) or post your questions in the discussion boards."
   ]
  },
  {
   "cell_type": "markdown",
   "metadata": {},
   "source": [
    "[Back to top](#EEEN30131-Power-Flow-Analysis-&-Power-System-Control-Coursework)"
   ]
  },
  {
   "cell_type": "markdown",
   "metadata": {},
   "source": [
    "## Part A – Power Flow Analysis"
   ]
  },
  {
   "cell_type": "markdown",
   "metadata": {},
   "source": [
    "In this part of the laboratory, you will be simulating steady-state power flows for the simplified GB system presented in Figure 1."
   ]
  },
  {
   "cell_type": "markdown",
   "metadata": {},
   "source": [
    "![Week06_3Bus_UK.png](Figures/Week06_3Bus_UK.png)\n",
    "<div align=\"center\">\n",
    "Figure 1: Simplified equivalent model of the GB system.\n",
    "</div>"
   ]
  },
  {
   "cell_type": "markdown",
   "metadata": {},
   "source": [
    "To complete this part of the laboratory, you will have to complete two tasks:\n",
    "- Task A.1 involves performing a series of power flows for the GB system using predefined load values (defined in pre-lab exercise) to simulate and discuss the conditions of the system. This task will allow you to explore how the conditions of the power flow are affected by the ever changing demands.\n",
    "- Task A.2 involves changing the set-points of some generators in the simplified GB system until reaching its limits. This task will allow you to explore how non-synchronous generators (renewable generators), such as wind generators, can cause network stress."
   ]
  },
  {
   "cell_type": "markdown",
   "metadata": {},
   "source": [
    "[Back to top](#EEEN30131-Power-Flow-Analysis-&-Power-System-Control-Coursework)"
   ]
  },
  {
   "cell_type": "markdown",
   "metadata": {},
   "source": [
    "### Task A.1 - Load Variations"
   ]
  },
  {
   "cell_type": "markdown",
   "metadata": {},
   "source": [
    "This task involves three activities, each one with a value of 10 marks:\n",
    "- A.1.1: Use the tool presented to simulate power flows under different conditions and a load power factor of 0.95 lagging. The results should be recorded in the excel template provided.\n",
    "- A.1.2: Use the tool presented to simulate power flows under different conditions and a load power factor of 0.92 lagging. The results should be recorded in the excel template provided.\n",
    "- A.1.3: Analyse your results and discuss your findings in the report."
   ]
  },
  {
   "cell_type": "markdown",
   "metadata": {},
   "source": [
    "[Back to top](#EEEN30131-Power-Flow-Analysis-&-Power-System-Control-Coursework)"
   ]
  },
  {
   "cell_type": "markdown",
   "metadata": {},
   "source": [
    "#### A.1.1 (Record in excel template) [10 marks]"
   ]
  },
  {
   "cell_type": "markdown",
   "metadata": {},
   "source": [
    "To complete this activity you will have to:\n",
    "- Perform power flow simulations for the simplified GB systems.\n",
    "  - Consider a load power factor of **0.95 lagging**.\n",
    "  - Simulate the system as the load varies from 40% to 100% of peak load (in steps of 10%); you should have these load values in your **EEEN30131_PSA_PreWork_Template.xlsm**.\n",
    "- Set simulation rules for the generators:\n",
    "  - Bus 1 (Scotland) is modelled as a PV bus:\n",
    "    - The voltage set-point of the synchronous generator in Scotland is set to 1.02 pu.\n",
    "    - The synchronous generator in Scotland is dispatched with an active power set-point that is 1.0 GW higher than the active power load demand in Scotland. So if the load in Scotland is 2.4 GW, then the active power set-point in Scotland should be set to 3.4 GW.\n",
    "  - Bus 2 (Northern England) is modelled as a PQ bus.\n",
    "  - Bus 3 (England and Wales) is modelled as a Slack bus:\n",
    "    - The voltage magnitude of the synchronous generator in England is set to 1.0 pu.\n",
    "    - The voltage angle of the synchronous generator in England is set to 0 deg.\n",
    "- Record your results in the **EEEN30131_PSA_Coursework_Template.xlsm**\n",
    "  - Select the A.1.1 tab.\n",
    "  - Record your results to four decimal places."
   ]
  },
  {
   "cell_type": "markdown",
   "metadata": {},
   "source": [
    "The tool below can be used to perform the power flow studies. The tool already includes the GB network information, and the bus types and voltage settings. Accordingly, you will have to provide the following inputs:\n",
    "- Ld P1 (GW): Active load in Bus 1 in GW.\n",
    "- Ld Q1 (GVAr): Reactive load in Bus 1 in GVAr.\n",
    "- Ld P2 (GW): Active load in Bus 2 in GW.\n",
    "- Ld Q2 (GVAr): Reactive load in Bus 2 in GVAr.\n",
    "- Ld P3 (GW): Active load in Bus 3 in GW.\n",
    "- Ld Q3 (GVAr): Reactive load in Bus 3 in GVAr.\n",
    "- G P1 (GW): Active power output set point GW for the synchronous generator in Scotland."
   ]
  },
  {
   "cell_type": "code",
   "execution_count": 6,
   "metadata": {},
   "outputs": [
    {
     "data": {
      "application/vnd.jupyter.widget-view+json": {
       "model_id": "b9e64a6a99134e92bfd7946bd8bfec4f",
       "version_major": 2,
       "version_minor": 0
      },
      "text/plain": [
       "interactive(children=(FloatSlider(value=2.0, continuous_update=False, description='Ld P1 (GW)', max=5.0, min=1…"
      ]
     },
     "metadata": {},
     "output_type": "display_data"
    }
   ],
   "source": [
    "@interact\n",
    "def A_1_1(LP1 = widgets.FloatSlider(min=1,max=5,step=0.5,value=2, description='Ld P1 (GW)',\n",
    "                                    continuous_update=False, readout_format='.4f'),\n",
    "          LQ1 = widgets.FloatSlider(min=0.49305795,max=3,step=0.16434205,value=0.6574, description='Ld Q1 (GVAr)',\n",
    "                                    continuous_update=False, readout_format='.4f'),\n",
    "          LP2 = widgets.FloatSlider(min=0.8,max=5,step=0.4,value=1.6, description='Ld P2 (GW)',\n",
    "                                    continuous_update=False, readout_format='.4f'),\n",
    "          LQ2 = widgets.FloatSlider(min=0.39442636,max=2,step=0.13147364,value=0.5259, description='Ld Q2 (GVAr)',\n",
    "                                    continuous_update=False, readout_format='.4f'),\n",
    "          LP3 = widgets.FloatSlider(min=4,max=40,step=4,value=16, description='Ld P3 (GW)',\n",
    "                                    continuous_update=False, readout_format='.4f'),\n",
    "          LQ3 = widgets.FloatSlider(min=3.94416358,max=20,step=1.31473642,value=5.2589, description='Ld Q3 (GVAr)',\n",
    "                                    continuous_update=False, readout_format='.4f'),\n",
    "          GP1 = widgets.FloatSlider(min=1,max=6,step=0.5,value=3, description='G P1 (GW)',\n",
    "                                    continuous_update=False, readout_format='.4f')):\n",
    "\n",
    "    # Get active and reactive loads\n",
    "    Base = 1/10\n",
    "    P = [LP1/Base, LP2/Base, LP3/Base]\n",
    "    Q = [LQ1/Base, LQ2/Base, LQ3/Base]\n",
    "\n",
    "    Connectivity = [\n",
    "        [1, 2, complex(0.0003, 0.0030), 1.2],\n",
    "        [2, 3, complex(0.0015, 0.0150), 2.2]\n",
    "    ]\n",
    "    Load = [\n",
    "        [1, complex(P[0], Q[0])],\n",
    "        [2, complex(P[1], Q[1])],\n",
    "        [3, complex(P[2], Q[2])]\n",
    "    ]\n",
    "    Generator = [\n",
    "        {'Bus':3, 'V':1, '𝜃':0 },\n",
    "        {'Bus':1, 'P':GP1/Base, 'V':1.02 }\n",
    "    ]\n",
    "    \n",
    "    Flg = True\n",
    "    for xBus in range(3):\n",
    "        if abs(P[xBus]/(P[xBus]**2+Q[xBus]**2)**0.5-0.95) > 0.01:\n",
    "            Flg = False\n",
    "    Per = P[0]/5\n",
    "    if abs(P[1]/4-Per) > 0.1 or abs(P[2]/40-Per) > 0.1:\n",
    "        Flg = False\n",
    "    if abs(GP1-LP1-1) > 0.01:\n",
    "        Flg = False\n",
    "    if Flg:\n",
    "        print('RESULTS FOR A POWER FACTOR OF 0.95 LAGGING:')\n",
    "    else:\n",
    "        print('WARNING THE SETTINGS OF THIS STUDY DO NOT SEEM CORRECT')\n",
    "    print()\n",
    "    \n",
    "    Ybus = get_Ybus(Connectivity, True, False)\n",
    "\n",
    "    P_Data, Q_Data = develop_PF_Equations(Load, Generator, Ybus, True, False)\n",
    "    Bus_Data, Bus_Type = get_Bus_Type(Ybus, Load, Generator)\n",
    "\n",
    "    V_All, 𝜃_All, Threshold, Succes = Newtons_Method(P_Data, Q_Data, Bus_Data, Bus_Type, Generator, 0)\n",
    "    Visualize_Lab(Connectivity, Load, P, Q, Base, V_All, 𝜃_All, Succes)"
   ]
  },
  {
   "cell_type": "markdown",
   "metadata": {},
   "source": [
    "[Back to top](#EEEN30131-Power-Flow-Analysis-&-Power-System-Control-Coursework)"
   ]
  },
  {
   "cell_type": "markdown",
   "metadata": {},
   "source": [
    "#### A.1.2 (Record in excel template) [10 marks]"
   ]
  },
  {
   "cell_type": "markdown",
   "metadata": {},
   "source": [
    "To complete this activity you will have to perform a similar set of studies as those performed above in Task A.1.1, but now using a load power factor of **0.92 lagging**. \n",
    "\n",
    "The full set of instructions for this task are provided below:\n",
    "- Perform power flow simulations for the simplified GB systems.\n",
    "  - Consider a load power factor of **0.92 lagging**.\n",
    "  - Simulate the system as the load varies from 40% to 100% of peak load (in steps of 10%); you should have these load values in your **EEEN30131_PSA_PreWork_Template.xlsm**.\n",
    "- Set simulation rules for the generators:\n",
    "  - Bus 1 (Scotland) is modelled as a PV bus:\n",
    "    - The voltage set-point of the synchronous generator in Scotland is set to 1.02 pu.\n",
    "    - The synchronous generator in Scotland is dispatched with an active power set-point that is 1.0 GW higher than the active power load demand in Scotland. So if the load in Scotland is 2.4 GW, then the active power set-point in Scotland should be set to 3.4 GW. \n",
    "  - Bus 2 (Northern England) is modelled as a PQ bus.\n",
    "  - Bus 3 (England and Wales) is modelled as a Slack bus:\n",
    "    - The voltage magnitude of the synchronous generator in England is set to 1.0 pu.\n",
    "    - The voltage angle of the synchronous generator in England is set to 0 deg.\n",
    "- Record your results in the **EEEN30131_PSA_Coursework_Template.xlsm**.\n",
    "  - Select the A.1.1 tab.\n",
    "  - Record your results to four decimal places."
   ]
  },
  {
   "cell_type": "markdown",
   "metadata": {},
   "source": [
    "The tool below can be used to perform the power flow studies. The tool already includes the GB network information, and the bus types and voltage settings. Accordingly, you will have to provide the following inputs:\n",
    "- Ld P1 (GW): Active load in Bus 1 in GW.\n",
    "- Ld Q1 (GVAr): Reactive load in Bus 1 in GVAr.\n",
    "- Ld P2 (GW): Active load in Bus 2 in GW.\n",
    "- Ld Q2 (GVAr): Reactive load in Bus 2 in GVAr.\n",
    "- Ld P3 (GW): Active load in Bus 3 in GW.\n",
    "- Ld Q3 (GVAr): Reactive load in Bus 3 in GVAr.\n",
    "- G P1 (GW): Active power output set point GW for the synchronous generator in Scotland."
   ]
  },
  {
   "cell_type": "code",
   "execution_count": 7,
   "metadata": {},
   "outputs": [
    {
     "data": {
      "application/vnd.jupyter.widget-view+json": {
       "model_id": "40a64b4184f84c4aa8744a659922d2d2",
       "version_major": 2,
       "version_minor": 0
      },
      "text/plain": [
       "interactive(children=(FloatSlider(value=2.0, continuous_update=False, description='Ld P1 (GW)', max=5.0, min=1…"
      ]
     },
     "metadata": {},
     "output_type": "display_data"
    }
   ],
   "source": [
    "@interact\n",
    "def A_1_1(LP1 = widgets.FloatSlider(min=1,max=5,step=0.5,value=2, description='Ld P1 (GW)',\n",
    "                                    continuous_update=False, readout_format='.4f'),\n",
    "          LQ1 = widgets.FloatSlider(min=0.4260018,max=3,step=0.21299910,value=0.8520, description='Ld Q1 (GVAr)',\n",
    "                                    continuous_update=False, readout_format='.4f'),\n",
    "          LP2 = widgets.FloatSlider(min=0.8,max=5,step=0.4,value=1.6, description='Ld P2 (GW)',\n",
    "                                    continuous_update=False, readout_format='.4f'),\n",
    "          LQ2 = widgets.FloatSlider(min=0.34080144,max=2,step=0.17039928,value=0.6816, description='Ld Q2 (GVAr)',\n",
    "                                    continuous_update=False, readout_format='.4f'),\n",
    "          LP3 = widgets.FloatSlider(min=4,max=40,step=4,value=16, description='Ld P3 (GW)',\n",
    "                                    continuous_update=False, readout_format='.4f'),\n",
    "          LQ3 = widgets.FloatSlider(min=3.40801428,max=20,step=1.70399286,value=6.8160, description='Ld Q3 (GVAr)',\n",
    "                                    continuous_update=False, readout_format='.4f'),\n",
    "          GP1 = widgets.FloatSlider(min=1,max=6,step=0.5,value=3, description='G P1 (GW)',\n",
    "                                    continuous_update=False, readout_format='.4f')):\n",
    "\n",
    "    # Get active and reactive loads\n",
    "    Base = 1/10\n",
    "    P = [LP1/Base, LP2/Base, LP3/Base]\n",
    "    Q = [LQ1/Base, LQ2/Base, LQ3/Base]\n",
    "\n",
    "    Connectivity = [\n",
    "        [1, 2, complex(0.0003, 0.0030), 1.2],\n",
    "        [2, 3, complex(0.0015, 0.0150), 2.2]\n",
    "    ]\n",
    "    Load = [\n",
    "        [1, complex(P[0], Q[0])],\n",
    "        [2, complex(P[1], Q[1])],\n",
    "        [3, complex(P[2], Q[2])]\n",
    "    ]\n",
    "    Generator = [\n",
    "        {'Bus':3, 'V':1, '𝜃':0 },\n",
    "        {'Bus':1, 'P':GP1/Base, 'V':1.02 }\n",
    "    ]\n",
    "    \n",
    "    Flg = True\n",
    "    for xBus in range(3):\n",
    "        if abs(P[xBus]/(P[xBus]**2+Q[xBus]**2)**0.5-0.92) > 0.01:\n",
    "            Flg = False\n",
    "    Per = P[0]/5\n",
    "    if abs(P[1]/4-Per) > 0.1 or abs(P[2]/40-Per) > 0.1:\n",
    "        Flg = False\n",
    "    if abs(GP1-LP1-1) > 0.01:\n",
    "        Flg = False\n",
    "    if Flg:\n",
    "        print('RESULTS FOR A POWER FACTOR OF 0.92 LAGGING:')\n",
    "    else:\n",
    "        print('WARNING THE SETTINGS OF THIS STUDY DO NOT SEEM CORRECT')\n",
    "    print()\n",
    "\n",
    "    Ybus = get_Ybus(Connectivity, True, False)\n",
    "\n",
    "    P_Data, Q_Data = develop_PF_Equations(Load, Generator, Ybus, True, False)\n",
    "    Bus_Data, Bus_Type = get_Bus_Type(Ybus, Load, Generator)\n",
    "\n",
    "    V_All, 𝜃_All, Threshold, Succes = Newtons_Method(P_Data, Q_Data, Bus_Data, Bus_Type, Generator, 0)\n",
    "    Visualize_Lab(Connectivity, Load, P, Q, Base, V_All, 𝜃_All, Succes)"
   ]
  },
  {
   "cell_type": "markdown",
   "metadata": {},
   "source": [
    "[Back to top](#EEEN30131-Power-Flow-Analysis-&-Power-System-Control-Coursework)"
   ]
  },
  {
   "cell_type": "markdown",
   "metadata": {},
   "source": [
    "#### A.1.3 (Report) [10 marks]"
   ]
  },
  {
   "cell_type": "markdown",
   "metadata": {},
   "source": [
    "Discuss in your report the results you have obtained.\n",
    "\n",
    "You might want to include some of the following in your discussion:\n",
    "- Descriptions and explanations about how the results change with varying loading.\n",
    "- Comparisons about the results with different load power factors.\n",
    "- Data visualisation that supports your discussion. \n",
    "- Information from the lectures or literature that supports your discussion."
   ]
  },
  {
   "cell_type": "markdown",
   "metadata": {},
   "source": [
    "[Back to top](#EEEN30131-Power-Flow-Analysis-&-Power-System-Control-Coursework)"
   ]
  },
  {
   "cell_type": "markdown",
   "metadata": {},
   "source": [
    "### Task A.2 Generation Variations"
   ]
  },
  {
   "cell_type": "markdown",
   "metadata": {},
   "source": [
    "This task involves three activities worth seven, three, and ten marks, respectively:\n",
    "- A.2.1: Use the tool presented to simulate power flows as the non-synchronous generation in Scotland increases. Produce a table with the voltage magnitudes and angles and add it to your report.\n",
    "- A.2.2: Building on the simulations in A.2.1, determine the maximum output of the generator in Scotland (to the nearest 100 MW) which can be accommodated by the system without (i.e., without exceeding its statutory limits). State this value in your report.\n",
    "- A.2.3: Analyse your results and discuss your findings in the report."
   ]
  },
  {
   "cell_type": "markdown",
   "metadata": {},
   "source": [
    "[Back to top](#EEEN30131-Power-Flow-Analysis-&-Power-System-Control-Coursework)"
   ]
  },
  {
   "cell_type": "markdown",
   "metadata": {},
   "source": [
    "#### A.2.1 (Report) [7 marks]"
   ]
  },
  {
   "cell_type": "markdown",
   "metadata": {},
   "source": [
    "To complete this activity you will have to:\n",
    "- Perform power flow simulations for the simplified GB systems.\n",
    "  - Consider 100% loading conditions (peak demand) and a power factor of **0.95 lagging**.\n",
    "  - Assume there is a synchronous generator and a non-synchronous generator in Scotland.\n",
    "- Set simulation rules for the generators:\n",
    "  - Bus 1 (Scotland) is modelled as a PV bus with both a synchronous and a non-synchronous (Wind) generator:\n",
    "    - The voltage set-point of the synchronous generator in Scotland is set to 1.02 pu.\n",
    "    - The active power output of the synchronous generator is set to 7 GW.\n",
    "    - The active power output of the wind generator is initially set to zero, but is increased until the statutory limits of the network are exceeded (i.e., voltages must be kept between 0.95 pu and 1.05 pu). \n",
    "  - Bus 2 (Northern England) is modelled as a PQ bus.\n",
    "  - Bus 3 (England and Wales) is modelled as a Slack bus:\n",
    "    - The voltage magnitude of the synchronous generator in England is set to 1.0 pu.\n",
    "    - The voltage angle of the synchronous generator in England is set to 0 deg.\n",
    "- Create a table to record the results in your report (do not add these results to the excel template).\n",
    "  - Record the voltage magnitudes and angles for every bus in the table.\n",
    "  - Record your results to four decimal places.\n",
    "  - You will have to include enough values in the table to illustrate how the increased wind generation in Scotland impacts the voltages across the network, e.g., are voltages increasing or decreasing?"
   ]
  },
  {
   "cell_type": "markdown",
   "metadata": {},
   "source": [
    "The tool below can be used to perform the power flow studies. The tool already includes the GB network information, and the bus types and voltage settings. \n",
    "\n",
    "You will first need to set the loads in every bus as well as the output of the synchronous generator in Scotland:\n",
    "- Ld P1 (GW): Active load in Bus 1 in GW\n",
    "- Ld Q1 (GVAr): Reactive load in Bus 1 in GVAr\n",
    "- Ld P2 (GW): Active load in Bus 2 in GW\n",
    "- Ld Q2 (GVAr): Reactive load in Bus 2 in GVAr\n",
    "- Ld P3 (GW): Active load in Bus 3 in GW\n",
    "- Ld Q3 (GVAr): Reactive load in Bus 3 in GVAr\n",
    "- G P1 (GW): Active power output set point in GW for the synchronous generator in Scotland\n",
    "\n",
    "Once you have set the values above, you can change the output of the wind generator by adjusting the following input:\n",
    "- Wind (GW): Active power output set point in GW for the non-synchronous generator in Scotland"
   ]
  },
  {
   "cell_type": "code",
   "execution_count": 8,
   "metadata": {},
   "outputs": [
    {
     "data": {
      "application/vnd.jupyter.widget-view+json": {
       "model_id": "c0c0bcc64c544af69c2ec0fb037bef6c",
       "version_major": 2,
       "version_minor": 0
      },
      "text/plain": [
       "interactive(children=(FloatSlider(value=2.0, continuous_update=False, description='Ld P1 (GW)', max=5.0, min=1…"
      ]
     },
     "metadata": {},
     "output_type": "display_data"
    }
   ],
   "source": [
    "@interact\n",
    "def A_1_1(LP1 = widgets.FloatSlider(min=1,max=5,step=0.5,value=2, description='Ld P1 (GW)',\n",
    "                                    continuous_update=False, readout_format='.4f'),\n",
    "          LQ1 = widgets.FloatSlider(min=0.49305795,max=3,step=0.16434205,value=0.6574, description='Ld Q1 (GVAr)',\n",
    "                                    continuous_update=False, readout_format='.4f'),\n",
    "          LP2 = widgets.FloatSlider(min=0.8,max=5,step=0.4,value=1.6, description='Ld P2 (GW)',\n",
    "                                    continuous_update=False, readout_format='.4f'),\n",
    "          LQ2 = widgets.FloatSlider(min=0.39442636,max=2,step=0.13147364,value=0.5259, description='Ld Q2 (GVAr)',\n",
    "                                    continuous_update=False, readout_format='.4f'),\n",
    "          LP3 = widgets.FloatSlider(min=4,max=40,step=4,value=16, description='Ld P3 (GW)',\n",
    "                                    continuous_update=False, readout_format='.4f'),\n",
    "          LQ3 = widgets.FloatSlider(min=3.94416358,max=20,step=1.31473642,value=5.2589, description='Ld Q3 (GVAr)',\n",
    "                                    continuous_update=False, readout_format='.4f'),\n",
    "          GP1 = widgets.FloatSlider(min=1,max=10,step=0.5,value=3, description='G P1 (GW)',\n",
    "                                    continuous_update=False, readout_format='.4f'),\n",
    "          Wind = widgets.FloatSlider(min=0,max=6,step=0.1,value=3, description='Wind (GW)',\n",
    "                                     continuous_update=False, readout_format='.4f')):\n",
    "\n",
    "    # Get active and reactive loads\n",
    "    Base = 1/10\n",
    "    P = [LP1/Base, LP2/Base, LP3/Base]\n",
    "    Q = [LQ1/Base, LQ2/Base, LQ3/Base]\n",
    "\n",
    "    Connectivity = [\n",
    "        [1, 2, complex(0.0003, 0.0030), 1.2],\n",
    "        [2, 3, complex(0.0015, 0.0150), 2.2]\n",
    "    ]\n",
    "    Load = [\n",
    "        [1, complex(P[0], Q[0])],\n",
    "        [2, complex(P[1], Q[1])],\n",
    "        [3, complex(P[2], Q[2])]\n",
    "    ]\n",
    "    Generator = [\n",
    "        {'Bus':3, 'V':1, '𝜃':0 },\n",
    "        {'Bus':1, 'P':(GP1+Wind)/Base, 'V':1.02 }\n",
    "    ]\n",
    "\n",
    "    Ybus = get_Ybus(Connectivity, True, False)\n",
    "\n",
    "    P_Data, Q_Data = develop_PF_Equations(Load, Generator, Ybus, True, False)\n",
    "    Bus_Data, Bus_Type = get_Bus_Type(Ybus, Load, Generator)\n",
    "\n",
    "    V_All, 𝜃_All, Threshold, Succes = Newtons_Method(P_Data, Q_Data, Bus_Data, Bus_Type, Generator, 0)\n",
    "    Results = Visualize_Lab(Connectivity, Load, P, Q, Base, V_All, 𝜃_All, Succes)\n",
    "\n",
    "    print('\\nG1 above is the combined output of both generators:')\n",
    "    print('\\tThe Wind generator in Scotland is producing %.4f GW'%Wind)\n",
    "    G = Results['Net_Power'][0]/1000 + Load[0][1]*Base\n",
    "    print('\\tThe synchronous generator in Scotland is producing %.4f + j %.4f GVA'%(GP1, G.imag))"
   ]
  },
  {
   "cell_type": "markdown",
   "metadata": {},
   "source": [
    "[Back to top](#EEEN30131-Power-Flow-Analysis-&-Power-System-Control-Coursework)"
   ]
  },
  {
   "cell_type": "markdown",
   "metadata": {},
   "source": [
    "#### A.2.2 (Report) [3 marks]"
   ]
  },
  {
   "cell_type": "markdown",
   "metadata": {},
   "source": [
    "Using the tool presented above in Section A.2.1, find the maximum power output of the non-synchronous generator in Scotland (to the nearest 100 MW) that can be accommodated by the system before the system voltage limits are violated.\n",
    "\n",
    "Make sure to clearly present this value in your report, and discuss why the system cannot withstand higher power outputs from the non-synchronous generator in Scotland."
   ]
  },
  {
   "cell_type": "markdown",
   "metadata": {},
   "source": [
    "[Back to top](#EEEN30131-Power-Flow-Analysis-&-Power-System-Control-Coursework)"
   ]
  },
  {
   "cell_type": "markdown",
   "metadata": {},
   "source": [
    "#### A.2.3 (Report) [10 marks]"
   ]
  },
  {
   "cell_type": "markdown",
   "metadata": {},
   "source": [
    "Discuss the results you have obtained. [10 marks]\n",
    "You might want to include some of the following in your discussion:\n",
    "- Descriptions and explanations about how the system parameters change with varying loading.\n",
    "- Make sure you consider the different parameters in the test system that vary.\n",
    "- Data visualisation that supports your discussion.\n"
   ]
  },
  {
   "cell_type": "markdown",
   "metadata": {},
   "source": [
    "[Back to top](#EEEN30131-Power-Flow-Analysis-&-Power-System-Control-Coursework)"
   ]
  },
  {
   "cell_type": "markdown",
   "metadata": {},
   "source": [
    "## Part B - Power System Control"
   ]
  },
  {
   "cell_type": "markdown",
   "metadata": {},
   "source": [
    "In this part of the laboratory, you will explore different control actions that can be taken to keep the power system operating within statutory limits, as well as to facilitate the integration of larger volumes of non-synchronous generation."
   ]
  },
  {
   "cell_type": "markdown",
   "metadata": {},
   "source": [
    "To complete this part of the laboratory, you will have to complete three activities worth 17, 13 and 20 marks, respectively:\n",
    "- Task B.1 involves simulating the primary response of two interconnected areas as synchronous generators are replaced with low carbon technologies and inertia decreases.\n",
    "- Task B.2 involves analysing the frequency response of generators and loads in a single area.\n",
    "- Task B.3 involves a new series of power flow studies with the simplified GB system."
   ]
  },
  {
   "cell_type": "markdown",
   "metadata": {},
   "source": [
    "[Back to top](#EEEN30131-Power-Flow-Analysis-&-Power-System-Control-Coursework)"
   ]
  },
  {
   "cell_type": "markdown",
   "metadata": {},
   "source": [
    "### Task B.1 - Primary frequency control for systems with low inertia"
   ]
  },
  {
   "cell_type": "markdown",
   "metadata": {},
   "source": [
    "This task involves two activities worth 10 and 7 marks, respectively:\n",
    "- B.1.1: Use the tool presented to simulate the primary frequency response of the interconnected areas depicted in Figure 2.\n",
    "- B.1.2: Analyse your results and discuss your findings in the report."
   ]
  },
  {
   "cell_type": "markdown",
   "metadata": {},
   "source": [
    "![Week06_Interconnected.png](Figures/Week06_Interconnected.png)\n",
    "<div align=\"center\">\n",
    "Figure 2: Two interconnected areas.\n",
    "</div>"
   ]
  },
  {
   "cell_type": "markdown",
   "metadata": {},
   "source": [
    "[Back to top](#EEEN30131-Power-Flow-Analysis-&-Power-System-Control-Coursework)"
   ]
  },
  {
   "cell_type": "markdown",
   "metadata": {},
   "source": [
    "#### B.1.1 (Record in excel template) [10 marks]"
   ]
  },
  {
   "cell_type": "markdown",
   "metadata": {},
   "source": [
    "To complete this activity you will have to:\n",
    "- Consider the following model settings:\n",
    "  - $P_{L}^{ref}$: The reference power settings are zero in both areas.\n",
    "  - $K_{G}$: The integral gain is 100 pu in area 1 and 53.333 pu in area 2.\n",
    "  - $T_{CH}$: The charging time parameter is 0.5 pu in area 1 and 0.6 pu in area 2.\n",
    "  - $R$: The regulation constant (droop characteristic) is 0.05 pu in area 1 and 0.0625 pu in area 2.\n",
    "  - $M$: The angular momentum is 20 pu in area 1 and 10 pu in area 2.\n",
    "  - $D$: The load damping is 0.6 pu in area 1 and 0.9 pu in area 2.\n",
    "  - A generator in area 1 with a capacity of 2000 MW and a generator in area 2 with a capacity of 1000 MW.\n",
    "  - A contingency when the demand is suddenly 300 MW greater than demand.\n",
    "  - A 1000 MVA, 50 Hz base.\n",
    "- Gradually reduce the inertia in area 1 by decreasing the angular momentum by one pu and the capacity of the generator by 10 MW.\n",
    "- If the frequency response of the system is stable after 30 seconds , record the nadir (lowest system frequency) and system settling frequency (new equilibrium) for each simulation.\n",
    "\n",
    "- If the frequency response of the system is unstable after 30 seconds, stop the study and do not attempt to record the nadir or settling frequency."
   ]
  },
  {
   "cell_type": "code",
   "execution_count": 9,
   "metadata": {},
   "outputs": [
    {
     "data": {
      "application/vnd.jupyter.widget-view+json": {
       "model_id": "cfda1d6d62ca4ffdb4a3466d2c170d49",
       "version_major": 2,
       "version_minor": 0
      },
      "text/plain": [
       "interactive(children=(FloatSlider(value=1.0, continuous_update=False, description='Area', max=2.0, min=1.0, re…"
      ]
     },
     "metadata": {},
     "output_type": "display_data"
    }
   ],
   "source": [
    "@interact\n",
    "def A_1_1(Area = widgets.FloatSlider(min=1,max=2,step=1,value=1, description='Area',\n",
    "                                    continuous_update=False, readout_format='.0f'),\n",
    "          Contingency = widgets.FloatSlider(min=-1000,max=1000,step=100,value=-300, \n",
    "                                            description='Fault (MW)',\n",
    "                                            continuous_update=False, readout_format='.0f'),\n",
    "          M1 = widgets.FloatSlider(min=0,max=20,step=1,value=20, description='M1 (kgm2/s)',\n",
    "                                   continuous_update=False, readout_format='.0f'),\n",
    "          M2 = widgets.FloatSlider(min=0,max=20,step=1,value=10, description='M2 (kgm2/s)',\n",
    "                                   continuous_update=False, readout_format='.0f'),\n",
    "          Cap1 = widgets.FloatSlider(min=1700,max=2000,step=10,value=2000, description='Cap.1 (MW)',\n",
    "                                     continuous_update=False, readout_format='.0f'),\n",
    "          Cap2 = widgets.FloatSlider(min=100,max=2000,step=100,value=1000, description='Cap.2 (MW)',\n",
    "                                     continuous_update=False, readout_format='.0f')):\n",
    "    Dist = {\n",
    "        'Area': Area,\n",
    "        'Magnitude': Contingency,  # Positive: Generation is higher than load\n",
    "        'Flow': 0  # From area 1 to 2 by default\n",
    "    }\n",
    "    Gen = [\n",
    "        {'Area':1, 'Capacity': Cap1, 'R':10, 'Units': '%', 'Output': 500},\n",
    "        {'Area':2, 'Capacity': Cap2, 'R':4.5, 'Units': '%', 'Output': 500}\n",
    "    ]\n",
    "    Loads = [\n",
    "        {'D':0.6, 'Units': 'pu'},\n",
    "        {'D':0.9, 'Units': 'pu'}\n",
    "    ]\n",
    "    BaseD = 1000\n",
    "    F = 50\n",
    "    T = 30\n",
    "    \n",
    "    # System data\n",
    "    Tch = [0.5, 0.6]\n",
    "    Kg = [100, 53.3333]\n",
    "    Tl = 2\n",
    "\n",
    "    Disturbance, Generators, Damping = get_pu(Dist, Gen, Loads, BaseD, F)\n",
    "    Δw, _, _ = get_Δw(Disturbance, Generators, Damping, F)\n",
    "\n",
    "    # Tie line\n",
    "    R, D = get_Tie_Data(Dist, Generators, Damping, Kg)\n",
    "    Tg = [1/Kg[0]/R[0], 1/Kg[1]/R[1]]\n",
    "\n",
    "    # Create input signals\n",
    "    t = numpy.linspace(0,T,1000)\n",
    "    ΔPL = get_step(t, 1, Disturbance['Magnitude'])\n",
    "    if M1==0:\n",
    "        M1=0.1\n",
    "    M = [M1, M2]\n",
    "\n",
    "    # Model frequency response\n",
    "    Δw1, Δw2, mod = \\\n",
    "        interconnected_frequency_primary(Dist['Area'], R, D, M, Tch,\n",
    "                                         Kg, Tg, Tl, t, ΔPL)\n",
    "\n",
    "    # Get nadir and settling\n",
    "    aux = max(Δw1[900:])-min(Δw1[900:])+max(Δw2[900:])-min(Δw2[900:])\n",
    "    Nadir = (1+min([min(Δw1), min(Δw2)]))\n",
    "    print('A %6.2f pu (%.0f MW) contingency is simulated in area %d\\n'\n",
    "          %(Contingency/BaseD, Contingency, Area))\n",
    "\n",
    "    plot_Δw(t, Δw1, Δw2)\n",
    "\n",
    "    if aux < 0.0005:\n",
    "        Settling = (1+Δw1[-1])\n",
    "        print('The nadir is %10.4f pu (%10.4f Hz))'%(Nadir, Nadir*F))\n",
    "        print('The settling is %10.4f pu (%10.4f Hz))'%(Settling, Settling*F))\n",
    "    else:\n",
    "        print('The system is now unstable after %d seconds'%T)\n",
    "    "
   ]
  },
  {
   "cell_type": "markdown",
   "metadata": {},
   "source": [
    "[Back to top](#EEEN30131-Power-Flow-Analysis-&-Power-System-Control-Coursework)"
   ]
  },
  {
   "cell_type": "markdown",
   "metadata": {},
   "source": [
    "#### B.1.2 (Report) [7 marks]"
   ]
  },
  {
   "cell_type": "markdown",
   "metadata": {},
   "source": [
    "Discuss the results you have obtained\n",
    "\n",
    "You might want to include some of the following in your discussion:\n",
    "- Description of the study.\n",
    "- The lowest angular momentum in area 1 (M1) that allows the system to reach a stable frequency equilibrium after 30 seconds.\n",
    "- Descriptions and explanations about how the frequency stability metrics (nadir and settling frequency) change as the angular momentum varies.\n",
    "- Data visualisation that supports your discussion. "
   ]
  },
  {
   "cell_type": "markdown",
   "metadata": {},
   "source": [
    "[Back to top](#EEEN30131-Power-Flow-Analysis-&-Power-System-Control-Coursework)"
   ]
  },
  {
   "cell_type": "markdown",
   "metadata": {},
   "source": [
    "### Task B.2 - Primary frequency control – Contributions of loads"
   ]
  },
  {
   "cell_type": "markdown",
   "metadata": {},
   "source": [
    "This task involves two activities worth 10 and 5 marks, respectively:\n",
    "- B.2.1: Calculate the primary frequency response of the generators and loads.\n",
    "- B.2.2: Analyse your results and discuss your findings in the report."
   ]
  },
  {
   "cell_type": "markdown",
   "metadata": {},
   "source": [
    "[Back to top](#EEEN30131-Power-Flow-Analysis-&-Power-System-Control-Coursework)"
   ]
  },
  {
   "cell_type": "markdown",
   "metadata": {},
   "source": [
    "#### B.2.1 (Record in excel template) [10 marks]"
   ]
  },
  {
   "cell_type": "markdown",
   "metadata": {},
   "source": [
    "Use the information below to calculate the primary frequency response of the synchronous generators and loads:\n",
    "- An area faces a contingency where demand is suddenly greater than generation by 300 MW.\n",
    "\n",
    "- Two generators are connected to the area, their regulation constants are $R_1=0.05 pu$ and $R_2=0.025 pu$.\n",
    "\n",
    "- Two large loads are connected to the area, their damping constants are $D_1=5 pu$ and $D_2=10 pu$.\n",
    "\n",
    "- The frequency drop caused by the contingency is $∆ω=-0.004 pu$ (-0.2 Hz). Accordingly, the new frequency of the system is 49.8 Hz.\n",
    "\n",
    "- Consider a 1000 MW, 50 Hz base."
   ]
  },
  {
   "cell_type": "markdown",
   "metadata": {},
   "source": [
    "[Back to top](#EEEN30131-Power-Flow-Analysis-&-Power-System-Control-Coursework)"
   ]
  },
  {
   "cell_type": "markdown",
   "metadata": {},
   "source": [
    "#### B.2.2 (Report) [5 marks]"
   ]
  },
  {
   "cell_type": "markdown",
   "metadata": {},
   "source": [
    "Discuss the results you have obtained.\n",
    "\n",
    "You might want to address the following questions in your discussion:\n",
    "- What is the combined response of the synchronous generators and demands?\n",
    "- How would the frequency response of the loads vary with different damping constraints?"
   ]
  },
  {
   "cell_type": "markdown",
   "metadata": {},
   "source": [
    "[Back to top](#EEEN30131-Power-Flow-Analysis-&-Power-System-Control-Coursework)"
   ]
  },
  {
   "cell_type": "markdown",
   "metadata": {},
   "source": [
    "### Task B.3 - Voltage control"
   ]
  },
  {
   "cell_type": "markdown",
   "metadata": {},
   "source": [
    "This task involves two activities worth 10 and 5 marks, respectively:\n",
    "- B.2.1: Use the tool provided to obtain voltage magnitudes and angles as well as active and reactive power flows across the lines of the power system shown in Figure 3.\n",
    "- B.2.2: Analyse your results and discuss your findings in the report."
   ]
  },
  {
   "cell_type": "markdown",
   "metadata": {},
   "source": [
    "![Week06_CWK_Condenser.png](Figures/Week06_CWK_Condenser.png)\n",
    "<div align=\"center\">\n",
    "Figure 3: Simplified GB system with added synchronous condenser.\n",
    "</div>"
   ]
  },
  {
   "cell_type": "markdown",
   "metadata": {},
   "source": [
    "#### B.3.1 (Record in excel template) [10 marks]"
   ]
  },
  {
   "cell_type": "markdown",
   "metadata": {},
   "source": [
    "Set the output of the synchronous condenser to -250 MVAr, and simulate the system as the output of the condenser increases to 250 MVAr in steps of 50 MVAr."
   ]
  },
  {
   "cell_type": "code",
   "execution_count": 10,
   "metadata": {},
   "outputs": [
    {
     "data": {
      "application/vnd.jupyter.widget-view+json": {
       "model_id": "f649442bc17b4e69915bb17ae8fd7a71",
       "version_major": 2,
       "version_minor": 0
      },
      "text/plain": [
       "interactive(children=(FloatSlider(value=2.0, continuous_update=False, description='Ld P1 (GW)', max=5.0, min=1…"
      ]
     },
     "metadata": {},
     "output_type": "display_data"
    }
   ],
   "source": [
    "@interact\n",
    "def A_1_1(LP1 = widgets.FloatSlider(min=1,max=5,step=0.5,value=2, description='Ld P1 (GW)',\n",
    "                                    continuous_update=False, readout_format='.4f'),\n",
    "          LQ1 = widgets.FloatSlider(min=0.49305795,max=3,step=0.16434205,value=0.6574, description='Ld Q1 (GVAr)',\n",
    "                                    continuous_update=False, readout_format='.4f'),\n",
    "          LP2 = widgets.FloatSlider(min=0.8,max=5,step=0.4,value=1.6, description='Ld P2 (GW)',\n",
    "                                    continuous_update=False, readout_format='.4f'),\n",
    "          LQ2 = widgets.FloatSlider(min=0.39442636,max=2,step=0.13147364,value=0.5259, description='Ld Q2 (GVAr)',\n",
    "                                    continuous_update=False, readout_format='.4f'),\n",
    "          LP3 = widgets.FloatSlider(min=4,max=40,step=4,value=16, description='Ld P3 (GW)',\n",
    "                                    continuous_update=False, readout_format='.4f'),\n",
    "          LQ3 = widgets.FloatSlider(min=3.94416358,max=20,step=1.31473642,value=5.2589, description='Ld Q3 (GVAr)',\n",
    "                                    continuous_update=False, readout_format='.4f'),\n",
    "          SC = widgets.FloatSlider(min=-300,max=300,step=50,value=-50, description='SC (MVAr)',\n",
    "                                    continuous_update=False, readout_format='.4f')):\n",
    "\n",
    "    # Get active and reactive loads\n",
    "    Base = 1/10\n",
    "    P = [LP1/Base, LP2/Base, LP3/Base]\n",
    "    Q = [LQ1/Base, LQ2/Base, LQ3/Base]\n",
    "\n",
    "    Connectivity = [\n",
    "        [1, 2, complex(0.0003, 0.0030), 1.2],\n",
    "        [2, 3, complex(0.0015, 0.0150), 2.2]\n",
    "    ]\n",
    "    Load = [\n",
    "        [1, complex(P[0], Q[0])],\n",
    "        [2, complex(P[1], Q[1])],\n",
    "        [3, complex(P[2], Q[2])]\n",
    "    ]\n",
    "    Generator = [\n",
    "        {'Bus':1, 'V':1, '𝜃':0 },\n",
    "        {'Bus':3, 'P':P[2], 'Q':Q[2]+SC/100}\n",
    "    ]\n",
    "\n",
    "    Ybus = get_Ybus(Connectivity, True, False)\n",
    "\n",
    "    P_Data, Q_Data = develop_PF_Equations(Load, Generator, Ybus, True, False)\n",
    "    Bus_Data, Bus_Type = get_Bus_Type(Ybus, Load, Generator)\n",
    "\n",
    "    V_All, 𝜃_All, Threshold, Succes = Newtons_Method(P_Data, Q_Data, Bus_Data, Bus_Type, Generator, 0)\n",
    "    Results = Visualize_Lab(Connectivity, Load, P, Q, Base, V_All, 𝜃_All, Succes)\n",
    "\n",
    "    print('\\nG3 above is the combined output of the generator and condenser:')\n",
    "    #print('\\tThe Wind generator in Scotland is producing %.4f GW'%Wind)\n",
    "    #G = Results['Net_Power'][0]/1000 + Load[0][1]*Base\n",
    "    #print('\\tThe synchronous generator in Scotland is producing %.4f + j %.4f GVA'%(GP1, G.imag))"
   ]
  },
  {
   "cell_type": "markdown",
   "metadata": {},
   "source": [
    "[Back to top](#EEEN30131-Power-Flow-Analysis-&-Power-System-Control-Coursework)"
   ]
  },
  {
   "cell_type": "markdown",
   "metadata": {},
   "source": [
    "#### B.3.2 (Report) [5 marks]"
   ]
  },
  {
   "cell_type": "markdown",
   "metadata": {},
   "source": [
    "Discuss the results you have obtained.\n",
    "\n",
    "You might want to include some of the following in your discussion:\n",
    "- Description of the study.\n",
    "- Visualization of the results.\n",
    "- The impacts of reactive injections at the receiving end of a line (Bus 3).\n"
   ]
  },
  {
   "cell_type": "markdown",
   "metadata": {},
   "source": [
    "[Back to top](#EEEN30131-Power-Flow-Analysis-&-Power-System-Control-Coursework)"
   ]
  },
  {
   "cell_type": "markdown",
   "metadata": {},
   "source": [
    "## Summary"
   ]
  },
  {
   "cell_type": "markdown",
   "metadata": {},
   "source": [
    "Your excel template should include results for:\n",
    "\n",
    "| Task/Discussion   | Description                                                                      | Marks |\n",
    "| ----------------- | -------------------------------------------------------------------------------- | ------|\n",
    "| Task A.1.1        |system parameters for different loading conditions at power factor of 0.95 lagging| 10    |\n",
    "| Task A.1.2        |system parameters for different loading conditions at power factor of 0.92 lagging| 10    |\n",
    "| Task B.1.1        |system nadir and settling frequencies                                             | 10    |\n",
    "| Task B.2.1        |calculated generation and load values                                             | 10    |\n",
    "| Task B.3.1        |system parameters under different reactive power injections                       | 10    |\n",
    "\n",
    "Your report should include:\n",
    "\n",
    "| Task/Discussion   | Description                                                                      | Marks |\n",
    "| ----------------- | -------------------------------------------------------------------------------- | ------|\n",
    "| Discussion A.1.3  |about the results obtained for tasks A.1.1 and A.1.2, the power flow simulations at different power factors| 10    |\n",
    "| Task A.2.1        |the system parameters as the non-synchronous generation in Scotland increases its output (until unacceptable voltages are seen)| 7     |\n",
    "| Task A.2.2        |statement on the maximum allowable value of Scottish non-synchronous generation                                             | 3     |\n",
    "| Discussion A.2.3  |about the results obtained in tasks A.2.1 and A.2.2                                             | 10    |\n",
    "| Discussion B.1.3  |about the results obtained for tasks B.1.1 and B.1.2, frequency response results for different levels of inertia                                             | 10    |\n",
    "| Discussion B.2.2  |about the results obtained in task B.2.1, the generation and load variation values based on your calculations                                             | 5     |\n",
    "| Discussion B.3.3  |about the results obtained in task B.3.1, the voltages and flows subject to different reactive power injections                                             | 5     |"
   ]
  },
  {
   "cell_type": "markdown",
   "metadata": {},
   "source": [
    "[Back to top](#EEEN30131-Power-Flow-Analysis-&-Power-System-Control-Coursework)"
   ]
  }
 ],
 "metadata": {
  "kernelspec": {
   "display_name": "Python 3 (ipykernel)",
   "language": "python",
   "name": "python3"
  },
  "language_info": {
   "codemirror_mode": {
    "name": "ipython",
    "version": 3
   },
   "file_extension": ".py",
   "mimetype": "text/x-python",
   "name": "python",
   "nbconvert_exporter": "python",
   "pygments_lexer": "ipython3",
   "version": "3.11.4"
  },
  "toc": {
   "base_numbering": 1,
   "nav_menu": {},
   "number_sections": true,
   "sideBar": true,
   "skip_h1_title": true,
   "title_cell": "Table of Contents",
   "title_sidebar": "Contents",
   "toc_cell": false,
   "toc_position": {
    "height": "calc(100% - 180px)",
    "left": "10px",
    "top": "150px",
    "width": "259.306px"
   },
   "toc_section_display": true,
   "toc_window_display": true
  }
 },
 "nbformat": 4,
 "nbformat_minor": 4
}
