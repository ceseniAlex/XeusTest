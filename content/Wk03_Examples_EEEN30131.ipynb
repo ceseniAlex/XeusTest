{
 "cells": [
  {
   "cell_type": "markdown",
   "metadata": {},
   "source": [
    "# EEEN30131 Power System Analysis: Week 03 - Newton Raphson"
   ]
  },
  {
   "cell_type": "markdown",
   "metadata": {},
   "source": [
    "***&copy; 2024 Martínez Ceseña — University of Manchester, UK***"
   ]
  },
  {
   "cell_type": "markdown",
   "metadata": {},
   "source": [
    "This notebook provides examples of the applications of Newton's method.\n",
    "\n",
    "The use of the notebooks is optional and will not be marked. That said, you are strongly encouraged to play with the tools and examples, as you can explore many different variations of the power flow formulation, which will better prepare you for the exams."
   ]
  },
  {
   "cell_type": "markdown",
   "metadata": {},
   "source": [
    "## List of contents"
   ]
  },
  {
   "cell_type": "markdown",
   "metadata": {},
   "source": [
    "- [Newton's method](#Newton's-method)\n",
    "  - [Newton's example](#Newton's-example)\n",
    "- [Three-bus network](#Three-bus-network)\n",
    "  - [Three-bus normal example](#Three-bus-normal-example)\n",
    "  - [Three-bus interactive example](#Three-bus-interactive-example)\n",
    "- [Two-bus network](#Two-bus-network)\n",
    "  - [Two-bus normal example](#Two-bus-normal-example)\n",
    "  - [Two-bus interactive example](#Two-bus-interactive-example)\n",
    "- [Four-bus network](#Four-bus-network)\n",
    "- [Three-bus radial network](#Three-bus-radial-network)\n",
    "- [Create your own example](#Create-your-own-example)"
   ]
  },
  {
   "cell_type": "markdown",
   "metadata": {},
   "source": [
    "## Before we begin"
   ]
  },
  {
   "cell_type": "markdown",
   "metadata": {},
   "source": [
    "This notebook builds on the materials that were presented during the last two weeks. Therefore, before we begin: \n",
    "- Make sure to review the asynchronous materials provided in blackboard for EEEN30131:\n",
    "  - Week 1 - Nodal analysis \n",
    "  - Week 2 - Power Flow Formulation \n",
    "  - Week 3 - Newton Raphson\n",
    "- If you have any questions, please post them in the discussion boards or, if that is not possible, send an email to alex.martinezcesena@manchester.ac.uk"
   ]
  },
  {
   "cell_type": "markdown",
   "metadata": {},
   "source": [
    "If this data notebook is being used in Jupyter lite, the folders where the python code that supports this notebook are stored, have to be enabled."
   ]
  },
  {
   "cell_type": "code",
   "execution_count": null,
   "metadata": {},
   "outputs": [],
   "source": [
    "from pathlib import Path\n",
    "if Path.cwd().drive == '':\n",
    "    a_dir = Path(\"dir\")\n",
    "    a_dir.mkdir(exist_ok=True)"
   ]
  },
  {
   "cell_type": "markdown",
   "metadata": {},
   "source": [
    "The `ipywidgets` library is used to allow the creation of interactive case studies."
   ]
  },
  {
   "cell_type": "code",
   "execution_count": 1,
   "metadata": {},
   "outputs": [],
   "source": [
    "try:\n",
    "    import ipywidgets as widgets\n",
    "except:\n",
    "    import micropip\n",
    "    await micropip.install('ipywidgets')\n",
    "    import ipywidgets as widgets\n",
    "from ipywidgets import interact"
   ]
  },
  {
   "cell_type": "markdown",
   "metadata": {},
   "source": [
    "Some figures will be created using the `matplotlib` library."
   ]
  },
  {
   "cell_type": "code",
   "execution_count": 2,
   "metadata": {},
   "outputs": [],
   "source": [
    "import matplotlib.pyplot as plt\n",
    "import numpy as np"
   ]
  },
  {
   "cell_type": "markdown",
   "metadata": {},
   "source": [
    "We will import tools developed in week 01 and week 02."
   ]
  },
  {
   "cell_type": "code",
   "execution_count": 3,
   "metadata": {},
   "outputs": [],
   "source": [
    "import math\n",
    "from Code.Wk1_EEEN30131 import get_Ybus\n",
    "from Code.Wk2_EEEN30131 import get_Bus_Type, develop_PF_Equations\n",
    "from Code.Wk3_EEEN30131 import develop_Jacobian, Newtons_Method, Visualize_Elec"
   ]
  },
  {
   "cell_type": "markdown",
   "metadata": {},
   "source": [
    "[Back to top](#EEEN30131-Power-System-Analysis:-Week-03---Newton-Raphson)"
   ]
  },
  {
   "cell_type": "markdown",
   "metadata": {},
   "source": [
    "## Newton's method"
   ]
  },
  {
   "cell_type": "markdown",
   "metadata": {},
   "source": [
    "Newton's method can be summarized with the equation below. To solve it, we need an initial guess, the equation (or system of equations) and the derivative of the equation.\n",
    "\n",
    "$$\n",
    "x_1 = x_0 - \\frac{f(x_0)}{f'(x_0)}\n",
    "$$"
   ]
  },
  {
   "cell_type": "markdown",
   "metadata": {},
   "source": [
    "Let us create an equation, such as the following quadratic equation.\n",
    "\n",
    "$$\n",
    "f(x) = A + B x + Cx^2\n",
    "$$"
   ]
  },
  {
   "cell_type": "code",
   "execution_count": 4,
   "metadata": {},
   "outputs": [],
   "source": [
    "def fx(x, A=1, B=1, C=1):\n",
    "    return A*x**2 + B*x + C"
   ]
  },
  {
   "cell_type": "markdown",
   "metadata": {},
   "source": [
    "If we know the equation (as it is the case for power flows), we can differentiate it and apply Newton's method:\n",
    "\n",
    "$$\n",
    "f'(x) = B + 2Cx\n",
    "$$"
   ]
  },
  {
   "cell_type": "code",
   "execution_count": 5,
   "metadata": {},
   "outputs": [],
   "source": [
    "def fxprime (x, A=1, B=1, C=1):\n",
    "    return 2*A*x + B\n",
    "\n",
    "def Newton_Step_Algebraic(A=-1, B=3, C=4, x=0, Extra=None):\n",
    "    Current_error = fx(x, A, B, C)/fxprime (x, A, B, C)\n",
    "    x = x - Current_error\n",
    "\n",
    "    return(x, abs(Current_error))"
   ]
  },
  {
   "cell_type": "markdown",
   "metadata": {},
   "source": [
    "However, even if we do not know the equation, we can still get the differentials by using numerical approximations:\n",
    "\n",
    "$$\n",
    "f'(x) \\approx \\Delta f(x) = \\lim_{\\Delta x \\to 0} \\frac{f(x + \\Delta x) - f(x)}{\\Delta x}\n",
    "$$"
   ]
  },
  {
   "cell_type": "code",
   "execution_count": 6,
   "metadata": {},
   "outputs": [],
   "source": [
    "def Newton_Step_Numeric(A=-1, B=3, C=4, x=0, Deltax=0.0001):\n",
    "    Deltaf = (fx(x+Deltax, A, B, C) - fx(x, A, B, C))/Deltax\n",
    "    Current_error = fx(x, A, B, C)/Deltaf\n",
    "    x = x - Current_error\n",
    "\n",
    "    return(x, abs(Current_error))"
   ]
  },
  {
   "cell_type": "markdown",
   "metadata": {},
   "source": [
    "To demonstrate the difference between the approaches, let us create a method to plot the function and each step of Newton's method:"
   ]
  },
  {
   "cell_type": "code",
   "execution_count": 7,
   "metadata": {},
   "outputs": [],
   "source": [
    "def plot_Newton_Quadratic(A=-1, B=3, C=4, x=0, Plot_Begin=-5, Plot_End=5, mthd=[], Deltax=0.0001):\n",
    "    plt.figure()\n",
    "    X = np.arange(Plot_Begin, Plot_End, 0.1)\n",
    "    Y = [A*x**2 + B*x + C for x in X]\n",
    "    plt.plot(X, Y, label='Function')\n",
    "    \n",
    "    X2 = [x, x]\n",
    "    Y2 = [0, fx(x, A, B, C)]\n",
    "    Acceptable_Error = 0.0001\n",
    "    Current_error = np.inf\n",
    "    Number_Iterations = 0\n",
    "    while Current_error > Acceptable_Error:\n",
    "        Number_Iterations += 1\n",
    "        (x, Current_error) = mthd(A, B, C, x, Deltax)\n",
    "        X2.append(x)\n",
    "        Y2.append(0)\n",
    "        X2.append(x)\n",
    "        Y2.append(fx(x, A, B, C))\n",
    "    \n",
    "    plt.plot(X2, Y2, label='Guesses')\n",
    "    \n",
    "    plt.xlabel('x')\n",
    "    plt.ylabel('f(x)')\n",
    "    plt.legend()\n",
    "    plt.grid()\n",
    "    plt.show()\n",
    "\n",
    "    return (x, Current_error, Number_Iterations)"
   ]
  },
  {
   "cell_type": "markdown",
   "metadata": {},
   "source": [
    "[Back to top](#EEEN30131-Power-System-Analysis:-Week-03---Newton-Raphson)"
   ]
  },
  {
   "cell_type": "markdown",
   "metadata": {},
   "source": [
    "### Newton's example"
   ]
  },
  {
   "cell_type": "markdown",
   "metadata": {},
   "source": [
    "Let us now use an example."
   ]
  },
  {
   "cell_type": "code",
   "execution_count": 8,
   "metadata": {},
   "outputs": [
    {
     "data": {
      "application/vnd.jupyter.widget-view+json": {
       "model_id": "87632aaccb194a2b8ef3fd4cd518618b",
       "version_major": 2,
       "version_minor": 0
      },
      "text/plain": [
       "HBox(children=(VBox(children=(FloatSlider(value=1.0, max=5.0, min=-5.0),)), Output()))"
      ]
     },
     "metadata": {},
     "output_type": "display_data"
    },
    {
     "data": {
      "application/vnd.jupyter.widget-view+json": {
       "model_id": "7696b118b8cc425f96afa796b2663d34",
       "version_major": 2,
       "version_minor": 0
      },
      "text/plain": [
       "HBox(children=(VBox(children=(FloatSlider(value=1.0, max=5.0, min=-5.0), FloatSlider(value=0.0001, continuous_…"
      ]
     },
     "metadata": {},
     "output_type": "display_data"
    }
   ],
   "source": [
    "#%matplotlib widget\n",
    "Guess = widgets.FloatSlider(min=-5,max=5,step=0.1,value=1)\n",
    "ui = widgets.VBox([Guess])\n",
    "def NRAlg(Guess):\n",
    "    A = -1\n",
    "    B = 3\n",
    "    C = 4\n",
    "    x = Guess\n",
    "\n",
    "    # Select range of the figure\n",
    "    Plot_Begin = -5\n",
    "    Plot_End = 5\n",
    "\n",
    "    # Apply Newton's method (algebraic)\n",
    "    (x, error, iter) = plot_Newton_Quadratic(A, B, C, x, Plot_Begin, Plot_End, Newton_Step_Algebraic)\n",
    "    print('The result converged to ', x, 'after', iter, 'iterations')\n",
    "    print('Estimated error', error)\n",
    "out = widgets.interactive_output(NRAlg, {'Guess': Guess})\n",
    "display(widgets.HBox([ui, out]))\n",
    "\n",
    "Guess = widgets.FloatSlider(min=-5,max=5,step=0.1,value=1)\n",
    "Error = widgets.FloatSlider(min=0.0001,max=1,step=0.0001,value=0.0001,continuous_update=False)\n",
    "ui = widgets.VBox([Guess, Error])\n",
    "def NRNum(Guess, Error):\n",
    "    A = -1\n",
    "    B = 3\n",
    "    C = 4\n",
    "    x = Guess\n",
    "\n",
    "    # Select range of the figure\n",
    "    Plot_Begin = -5\n",
    "    Plot_End = 5\n",
    "\n",
    "    # Apply Newton's method (Numeric)\n",
    "    (x, error, iter) = plot_Newton_Quadratic(A, B, C, x, Plot_Begin, Plot_End, Newton_Step_Numeric, Error)\n",
    "    print('The result converged to ', x, 'after', iter, 'iterations')\n",
    "    print('Estimated error', error)\n",
    "out = widgets.interactive_output(NRNum, {'Guess': Guess, 'Error': Error})\n",
    "display(widgets.HBox([ui, out]))"
   ]
  },
  {
   "cell_type": "markdown",
   "metadata": {},
   "source": [
    "[Back to top](#EEEN30131-Power-System-Analysis:-Week-03---Newton-Raphson)"
   ]
  },
  {
   "cell_type": "markdown",
   "metadata": {},
   "source": [
    "## Three-bus network"
   ]
  },
  {
   "cell_type": "markdown",
   "metadata": {},
   "source": [
    "### Three-bus normal example"
   ]
  },
  {
   "cell_type": "markdown",
   "metadata": {},
   "source": [
    "The example presented above can be solved with the tools as follows:"
   ]
  },
  {
   "cell_type": "markdown",
   "metadata": {},
   "source": [
    "<img src=\"Figures/Week02_3Bus.png\" alt=\"Fig01\" class=\"bg-primary\" width=\"500px\">"
   ]
  },
  {
   "cell_type": "code",
   "execution_count": 9,
   "metadata": {},
   "outputs": [
    {
     "name": "stdout",
     "output_type": "stream",
     "text": [
      "The network has 3 branches and 3 buses\n",
      "______________________________\n",
      "Branch | From - To | Impedance\n",
      "------------------------------\n",
      "    1  |    1 -  2 | 0.1j\n",
      "    2  |    1 -  3 | 0.2j\n",
      "    3  |    2 -  3 | 0.25j\n",
      "_______|___________|__________\n",
      "\n",
      "Ybus = \n",
      " [[ 0.-15.j -0.+10.j -0. +5.j]\n",
      " [-0.+10.j  0.-14.j -0. +4.j]\n",
      " [-0. +5.j -0. +4.j  0. -9.j]]\n",
      "\n",
      "Bus:  Type:       V:       𝜃:     Pinj:     Qinj:\n",
      "   1  Slack   1.0000   0.0000         ?         ?\n",
      "   2     PQ        ?        ?   -1.5000   -0.8000\n",
      "   3     PV   1.0000        ?    1.0000         ?\n",
      "\n",
      "***DEVELOP AND SIMPLIFY***\n",
      "P1:\n",
      "P₁ = V₁V₁[G₁,₁cos𝜃₁,₁+B₁,₁sin𝜃₁,₁] + V₁V₂[G₁,₂cos𝜃₁,₂+B₁,₂sin𝜃₁,₂] + V₁V₃[G₁,₃cos𝜃₁,₃+B₁,₃sin𝜃₁,₃] \n",
      "P₁ = V₁*V₁*B₁,₁*sin𝜃₁,₁ + V₁*V₂*B₁,₂*sin𝜃₁,₂ + V₁*V₃*B₁,₃*sin𝜃₁,₃\n",
      "P₁ = V₁*V₂*B₁,₂*sin𝜃₁,₂ + V₁*V₃*B₁,₃*sin𝜃₁,₃\n",
      "P₁ = 1*V₂*10.0*sin(0-𝜃₂) + 1*1*5.0*sin(0-𝜃₃)\n",
      "P₁ = -10.0000V₂sin(𝜃₂)-5.0000sin(𝜃₃).....[Explicit]\n",
      "\n",
      "P2:\n",
      "P₂ = V₂V₁[G₂,₁cos𝜃₂,₁+B₂,₁sin𝜃₂,₁] + V₂V₂[G₂,₂cos𝜃₂,₂+B₂,₂sin𝜃₂,₂] + V₂V₃[G₂,₃cos𝜃₂,₃+B₂,₃sin𝜃₂,₃] \n",
      "P₂ = V₂*V₁*B₂,₁*sin𝜃₂,₁ + V₂*V₂*B₂,₂*sin𝜃₂,₂ + V₂*V₃*B₂,₃*sin𝜃₂,₃\n",
      "P₂ = V₂*V₁*B₂,₁*sin𝜃₂,₁ + V₂*V₃*B₂,₃*sin𝜃₂,₃\n",
      "-1.5 = V₂*1*10.0*sin(𝜃₂-0) + V₂*1*4.0*sin(𝜃₂-𝜃₃)\n",
      "-1.5 = 10.0000V₂sin(𝜃₂) + 4.0000V₂sin(𝜃₂-𝜃₃).....[Implicit]\n",
      "\n",
      "P3:\n",
      "P₃ = V₃V₁[G₃,₁cos𝜃₃,₁+B₃,₁sin𝜃₃,₁] + V₃V₂[G₃,₂cos𝜃₃,₂+B₃,₂sin𝜃₃,₂] + V₃V₃[G₃,₃cos𝜃₃,₃+B₃,₃sin𝜃₃,₃] \n",
      "P₃ = V₃*V₁*B₃,₁*sin𝜃₃,₁ + V₃*V₂*B₃,₂*sin𝜃₃,₂ + V₃*V₃*B₃,₃*sin𝜃₃,₃\n",
      "P₃ = V₃*V₁*B₃,₁*sin𝜃₃,₁ + V₃*V₂*B₃,₂*sin𝜃₃,₂\n",
      "1 = 1*1*5.0*sin(𝜃₃-0) + 1*V₂*4.0*sin(𝜃₃-𝜃₂)\n",
      "1 = 5.0000sin(𝜃₃) + 4.0000V₂sin(𝜃₃-𝜃₂).....[Implicit]\n",
      "\n",
      "Q1:\n",
      "Q₁ = V₁V₁[G₁,₁sin𝜃₁,₁-B₁,₁cos𝜃₁,₁] + V₁V₂[G₁,₂sin𝜃₁,₂-B₁,₂cos𝜃₁,₂] + V₁V₃[G₁,₃sin𝜃₁,₃-B₁,₃cos𝜃₁,₃] \n",
      "Q₁ = V₁*V₁*-B₁,₁*cos𝜃₁,₁ + V₁*V₂*-B₁,₂*cos𝜃₁,₂ + V₁*V₃*-B₁,₃*cos𝜃₁,₃\n",
      "Q₁ = V₁²*-B₁,₁ + V₁*V₂*-B₁,₂*cos𝜃₁,₂ + V₁*V₃*-B₁,₃*cos𝜃₁,₃\n",
      "Q₁ = 1²*--15.0 + 1*V₂*-10.0*cos(0-𝜃₂) + 1*1*-5.0*cos(0-𝜃₃)\n",
      "Q₁ = 15.0000-10.0000V₂cos(𝜃₂)-5.0000cos(𝜃₃).....[Explicit]\n",
      "\n",
      "Q2:\n",
      "Q₂ = V₂V₁[G₂,₁sin𝜃₂,₁-B₂,₁cos𝜃₂,₁] + V₂V₂[G₂,₂sin𝜃₂,₂-B₂,₂cos𝜃₂,₂] + V₂V₃[G₂,₃sin𝜃₂,₃-B₂,₃cos𝜃₂,₃] \n",
      "Q₂ = V₂*V₁*-B₂,₁*cos𝜃₂,₁ + V₂*V₂*-B₂,₂*cos𝜃₂,₂ + V₂*V₃*-B₂,₃*cos𝜃₂,₃\n",
      "Q₂ = V₂*V₁*-B₂,₁*cos𝜃₂,₁ + V₂²*-B₂,₂ + V₂*V₃*-B₂,₃*cos𝜃₂,₃\n",
      "-0.8 = V₂*1*-10.0*cos(𝜃₂-0) + V₂²*--14.0 + V₂*1*-4.0*cos(𝜃₂-𝜃₃)\n",
      "-0.8 = -10.0000V₂cos(𝜃₂) + 14.0000V₂²-4.0000V₂cos(𝜃₂-𝜃₃).....[Implicit]\n",
      "\n",
      "Q3:\n",
      "Q₃ = V₃V₁[G₃,₁sin𝜃₃,₁-B₃,₁cos𝜃₃,₁] + V₃V₂[G₃,₂sin𝜃₃,₂-B₃,₂cos𝜃₃,₂] + V₃V₃[G₃,₃sin𝜃₃,₃-B₃,₃cos𝜃₃,₃] \n",
      "Q₃ = V₃*V₁*-B₃,₁*cos𝜃₃,₁ + V₃*V₂*-B₃,₂*cos𝜃₃,₂ + V₃*V₃*-B₃,₃*cos𝜃₃,₃\n",
      "Q₃ = V₃*V₁*-B₃,₁*cos𝜃₃,₁ + V₃*V₂*-B₃,₂*cos𝜃₃,₂ + V₃²*-B₃,₃\n",
      "Q₃ = 1*1*-5.0*cos(𝜃₃-0) + 1*V₂*-4.0*cos(𝜃₃-𝜃₂) + 1²*--9.0\n",
      "Q₃ = -5.0000cos(𝜃₃)-4.0000V₂cos(𝜃₃-𝜃₂) + 9.0000.....[Explicit]\n",
      "\n",
      "The implicit equations correspond to:\n",
      "P2 P3 Q2 \n",
      "The unknown variables are:\n",
      "𝜃2 𝜃3 V2 \n",
      "\n",
      "Vector of missmatches\n",
      "ΔP₂ = 10.0000V₂sin𝜃₂ + 4.0000V₂sin(𝜃₂-𝜃₃) + 1.5000\n",
      "ΔP₃ = 5.0000sin𝜃₃ + 4.0000V₂sin(𝜃₃-𝜃₂) - 1.0000\n",
      "ΔQ₂ = -10.0000V₂cos𝜃₂ + 14.0000V₂²-4.0000V₂cos(𝜃₂-𝜃₃) + 0.8000\n",
      "\n",
      "Equations that form the Jacobian matrix\n",
      "∂ΔP₂/∂𝜃2 = 10.0000V₂cos𝜃₂ + 4.0000V₂cos(𝜃₂-𝜃₃)\n",
      "∂ΔP₂/∂𝜃3 = -4.0000V₂cos(𝜃₂-𝜃₃)\n",
      "∂ΔP₂/∂V2 = 10.0000sin𝜃₂ + 4.0000sin(𝜃₂-𝜃₃)\n",
      "\n",
      "∂ΔP₃/∂𝜃2 = -4.0000V₂cos(𝜃₃-𝜃₂)\n",
      "∂ΔP₃/∂𝜃3 = 5.0000cos𝜃₃ + 4.0000V₂cos(𝜃₃-𝜃₂)\n",
      "∂ΔP₃/∂V2 = 4.0000sin(𝜃₃-𝜃₂)\n",
      "\n",
      "∂ΔQ₂/∂𝜃2 = 10.0000V₂sin𝜃₂ + 4.0000V₂sin(𝜃₂-𝜃₃)\n",
      "∂ΔQ₂/∂𝜃3 = -4.0000V₂sin(𝜃₂-𝜃₃)\n",
      "∂ΔQ₂/∂V2 = -10.0000cos𝜃₂ + 28.0000-4.0000cos(𝜃₂-𝜃₃)\n",
      "\n",
      "ITERATION: 1\n",
      "Vector of mismatches: [1.5, -1.0, 0.8]\n",
      "Jacobian:\n",
      " [[14. -4.  0.]\n",
      " [-4.  9.  0.]\n",
      " [ 0.  0. 14.]]\n",
      "dx [ 0.08636364 -0.07272727  0.05714286]\n",
      "Updated voltage magnitudes [pu]:  [1, 0.9428571428571428, 1]\n",
      "Updated voltage angles    [rad]:  [0, -0.08636363636363636, 0.07272727272727272]\n",
      "\n",
      "RESULTS:\n",
      "V: [1, 0.9314373515543346, 1] (pu)\n",
      "𝜃: [0, -0.09396781843186998, 0.07486267875586886] (rad)\n",
      "\n",
      "VOLTAGES  [pu] [deg]:\n",
      " 1)   1.0000 +j   0.0000 (  1.0000 ∠   0.0000)\n",
      " 2)   0.9273 +j  -0.0874 (  0.9314 ∠  -5.3840)\n",
      " 3)   0.9972 +j   0.0748 (  1.0000 ∠   4.2893)\n",
      "NET POWER INJECTIONS [MVA]:\n",
      " 1)  50.0000 +j  74.0723\n",
      " 2) -150.0000 +j -80.0000\n",
      " 3) 100.0000 +j  34.1228\n",
      "CURRENTS [pu] [deg]:\n",
      " 1- 2)   0.8740 +j  -0.7267 (  1.1366 ∠ -39.7442)\n",
      " 1- 3)  -0.3740 +j  -0.0140 (  0.3742 ∠ -177.8553)\n",
      " 2- 3)  -0.6488 +j   0.2795 (  0.7064 ∠ 156.6937)\n",
      "POWER FLOWS [MVA]:\n",
      "      From:                To:                   Loss:\n",
      " 1- 2)  87.3964 +j  72.6719 -87.3964 +j -59.7526 (  0.0000 +j  12.9193)\n",
      " 1- 3) -37.3964 +j   1.4005  37.3964 +j   1.4005 (  0.0000 +j   2.8009)\n",
      " 2- 3) -62.6036 +j -20.2474  62.6036 +j  32.7223 (  0.0000 +j  12.4749)\n"
     ]
    }
   ],
   "source": [
    "Connectivity = [\n",
    "    [1, 2, complex(0, 0.10)],\n",
    "    [1, 3, complex(0, 0.20)],\n",
    "    [2, 3, complex(0, 0.25)]\n",
    "]\n",
    "Load = [\n",
    "    [2, complex(1.5, 0.8)]\n",
    "]\n",
    "Generator = [\n",
    "    {'Bus':1, 'V':1, '𝜃':0 },\n",
    "    {'Bus':3, 'P':1, 'V':1}\n",
    "]\n",
    "\n",
    "# From Week 01\n",
    "Ybus = get_Ybus(Connectivity, True)\n",
    "\n",
    "# From Week 02\n",
    "P_Data, Q_Data = develop_PF_Equations(Load, Generator, Ybus, True)\n",
    "Bus_Data, Bus_Type = get_Bus_Type(Ybus, Load, Generator)\n",
    "\n",
    "# From Week 03\n",
    "develop_Jacobian(P_Data, Q_Data, Bus_Type, Generator)\n",
    "V_All, 𝜃_All, Threshold, Succes = Newtons_Method(P_Data, Q_Data, Bus_Data, Bus_Type, Generator)\n",
    "Visualize_Elec(Connectivity, V_All, 𝜃_All, Succes)"
   ]
  },
  {
   "cell_type": "markdown",
   "metadata": {},
   "source": [
    "[Back to top](#EEEN30131-Power-System-Analysis:-Week-03---Newton-Raphson)"
   ]
  },
  {
   "cell_type": "markdown",
   "metadata": {},
   "source": [
    "### Three-bus interactive example"
   ]
  },
  {
   "cell_type": "markdown",
   "metadata": {},
   "source": [
    "<img src=\"Figures/Week02_3Bus.png\" alt=\"Fig01\" class=\"bg-primary\" width=\"500px\">"
   ]
  },
  {
   "cell_type": "code",
   "execution_count": 10,
   "metadata": {},
   "outputs": [
    {
     "data": {
      "application/vnd.jupyter.widget-view+json": {
       "model_id": "1cc24829af6b4acab11c8c0f409e270d",
       "version_major": 2,
       "version_minor": 0
      },
      "text/plain": [
       "interactive(children=(FloatSlider(value=1.5, description='P', max=2.0, step=0.01), FloatSlider(value=0.8, desc…"
      ]
     },
     "metadata": {},
     "output_type": "display_data"
    }
   ],
   "source": [
    "@interact\n",
    "def Bus3(P = widgets.FloatSlider(min=0,max=2,step=0.01,value=1.5),\n",
    "         Q = widgets.FloatSlider(min=0,max=2,step=0.01,value=0.8)):\n",
    "    Connectivity = [\n",
    "        [1, 2, complex(0, 0.10)],\n",
    "        [1, 3, complex(0, 0.20)],\n",
    "        [2, 3, complex(0, 0.25)]\n",
    "    ]\n",
    "    Load = [\n",
    "        [2, complex(P, Q)]\n",
    "    ]\n",
    "    Generator = [\n",
    "        {'Bus':1, 'V':1, '𝜃':0 },\n",
    "        {'Bus':3, 'P':1, 'V':1}\n",
    "    ]\n",
    "\n",
    "    # From Week 01\n",
    "    Ybus = get_Ybus(Connectivity, True, False)\n",
    "\n",
    "    # From Week 02\n",
    "    P_Data, Q_Data = develop_PF_Equations(Load, Generator, Ybus, True, False)\n",
    "    Bus_Data, Bus_Type = get_Bus_Type(Ybus, Load, Generator)\n",
    "\n",
    "    # From Week 03\n",
    "    V_All, 𝜃_All, Threshold, Succes = Newtons_Method(P_Data, Q_Data, Bus_Data, Bus_Type, Generator, 0)\n",
    "    Visualize_Elec(Connectivity, V_All, 𝜃_All, Succes)"
   ]
  },
  {
   "cell_type": "markdown",
   "metadata": {},
   "source": [
    "[Back to top](#EEEN30131-Power-System-Analysis:-Week-03---Newton-Raphson)"
   ]
  },
  {
   "cell_type": "markdown",
   "metadata": {},
   "source": [
    "## Two-bus network"
   ]
  },
  {
   "cell_type": "markdown",
   "metadata": {},
   "source": [
    "### Two-bus normal example"
   ]
  },
  {
   "cell_type": "markdown",
   "metadata": {},
   "source": [
    "Let us now try a different example, a 2-bus system:"
   ]
  },
  {
   "cell_type": "markdown",
   "metadata": {},
   "source": [
    "![Week02_2Bus.png](Figures/Week02_2Bus.png)"
   ]
  },
  {
   "cell_type": "code",
   "execution_count": 11,
   "metadata": {},
   "outputs": [
    {
     "name": "stdout",
     "output_type": "stream",
     "text": [
      "The network has 1 branches and 2 buses\n",
      "______________________________\n",
      "Branch | From - To | Impedance\n",
      "------------------------------\n",
      "    1  |    1 -  2 | 0.1j\n",
      "_______|___________|__________\n",
      "\n",
      "Ybus = \n",
      " [[ 0.-10.j -0.+10.j]\n",
      " [-0.+10.j  0.-10.j]]\n",
      "\n",
      "Bus:  Type:       V:       𝜃:     Pinj:     Qinj:\n",
      "   1  Slack   1.0000   0.0000         ?         ?\n",
      "   2     PQ        ?        ?   -0.5000   -0.5000\n",
      "\n",
      "***DEVELOP AND SIMPLIFY***\n",
      "P1:\n",
      "P₁ = V₁V₁[G₁,₁cos𝜃₁,₁+B₁,₁sin𝜃₁,₁] + V₁V₂[G₁,₂cos𝜃₁,₂+B₁,₂sin𝜃₁,₂] \n",
      "P₁ = V₁*V₁*B₁,₁*sin𝜃₁,₁ + V₁*V₂*B₁,₂*sin𝜃₁,₂\n",
      "P₁ = V₁*V₂*B₁,₂*sin𝜃₁,₂\n",
      "P₁ = 1*V₂*10.0*sin(0-𝜃₂)\n",
      "P₁ = -10.0000V₂sin(𝜃₂).....[Explicit]\n",
      "\n",
      "P2:\n",
      "P₂ = V₂V₁[G₂,₁cos𝜃₂,₁+B₂,₁sin𝜃₂,₁] + V₂V₂[G₂,₂cos𝜃₂,₂+B₂,₂sin𝜃₂,₂] \n",
      "P₂ = V₂*V₁*B₂,₁*sin𝜃₂,₁ + V₂*V₂*B₂,₂*sin𝜃₂,₂\n",
      "P₂ = V₂*V₁*B₂,₁*sin𝜃₂,₁\n",
      "-0.5 = V₂*1*10.0*sin(𝜃₂-0)\n",
      "-0.5 = 10.0000V₂sin(𝜃₂).....[Implicit]\n",
      "\n",
      "Q1:\n",
      "Q₁ = V₁V₁[G₁,₁sin𝜃₁,₁-B₁,₁cos𝜃₁,₁] + V₁V₂[G₁,₂sin𝜃₁,₂-B₁,₂cos𝜃₁,₂] \n",
      "Q₁ = V₁*V₁*-B₁,₁*cos𝜃₁,₁ + V₁*V₂*-B₁,₂*cos𝜃₁,₂\n",
      "Q₁ = V₁²*-B₁,₁ + V₁*V₂*-B₁,₂*cos𝜃₁,₂\n",
      "Q₁ = 1²*--10.0 + 1*V₂*-10.0*cos(0-𝜃₂)\n",
      "Q₁ = 10.0000-10.0000V₂cos(𝜃₂).....[Explicit]\n",
      "\n",
      "Q2:\n",
      "Q₂ = V₂V₁[G₂,₁sin𝜃₂,₁-B₂,₁cos𝜃₂,₁] + V₂V₂[G₂,₂sin𝜃₂,₂-B₂,₂cos𝜃₂,₂] \n",
      "Q₂ = V₂*V₁*-B₂,₁*cos𝜃₂,₁ + V₂*V₂*-B₂,₂*cos𝜃₂,₂\n",
      "Q₂ = V₂*V₁*-B₂,₁*cos𝜃₂,₁ + V₂²*-B₂,₂\n",
      "-0.5 = V₂*1*-10.0*cos(𝜃₂-0) + V₂²*--10.0\n",
      "-0.5 = -10.0000V₂cos(𝜃₂) + 10.0000V₂².....[Implicit]\n",
      "\n",
      "The implicit equations correspond to:\n",
      "P2 Q2 \n",
      "The unknown variables are:\n",
      "𝜃2 V2 \n",
      "\n",
      "Vector of missmatches\n",
      "ΔP₂ = 10.0000V₂sin𝜃₂ + 0.5000\n",
      "ΔQ₂ = -10.0000V₂cos𝜃₂ + 10.0000V₂² + 0.5000\n",
      "\n",
      "Equations that form the Jacobian matrix\n",
      "∂ΔP₂/∂𝜃2 = 10.0000V₂cos𝜃₂\n",
      "∂ΔP₂/∂V2 = 10.0000sin𝜃₂\n",
      "\n",
      "∂ΔQ₂/∂𝜃2 = 10.0000V₂sin𝜃₂\n",
      "∂ΔQ₂/∂V2 = -10.0000cos𝜃₂ + 20.0000\n",
      "\n",
      "ITERATION: 1\n",
      "Vector of mismatches: [0.5, 0.5]\n",
      "Jacobian:\n",
      " [[10.  0.]\n",
      " [ 0. 10.]]\n",
      "dx [0.05 0.05]\n",
      "Updated voltage magnitudes [pu]:  [1, 0.95]\n",
      "Updated voltage angles    [rad]:  [0, -0.05]\n",
      "\n",
      "RESULTS:\n",
      "V: [1, 0.9457323735452622] (pu)\n",
      "𝜃: [0, -0.052893739510771955] (rad)\n",
      "\n",
      "VOLTAGES  [pu] [deg]:\n",
      " 1)   1.0000 +j   0.0000 (  1.0000 ∠   0.0000)\n",
      " 2)   0.9444 +j  -0.0500 (  0.9457 ∠  -3.0306)\n",
      "NET POWER INJECTIONS [MVA]:\n",
      " 1)  50.0000 +j  55.5903\n",
      " 2) -50.0000 +j -50.0000\n",
      "CURRENTS [pu] [deg]:\n",
      " 1- 2)   0.5000 +j  -0.5559 (  0.7477 ∠ -48.0306)\n",
      "POWER FLOWS [MVA]:\n",
      "      From:                To:                   Loss:\n",
      " 1- 2)  50.0000 +j  55.5903 -50.0000 +j -50.0000 (  0.0000 +j   5.5903)\n"
     ]
    }
   ],
   "source": [
    "Connectivity = [\n",
    "    [1, 2, complex(0, 0.10)]\n",
    "]\n",
    "Load = [\n",
    "    [2, complex(0.5, 0.5)]\n",
    "]\n",
    "Generator = [\n",
    "    {'Bus':1, 'V':1, '𝜃':0 }\n",
    "]\n",
    "\n",
    "# From Week 01\n",
    "Ybus = get_Ybus(Connectivity, True)\n",
    "\n",
    "# From Week 02\n",
    "P_Data, Q_Data = develop_PF_Equations(Load, Generator, Ybus, True)\n",
    "Bus_Data, Bus_Type = get_Bus_Type(Ybus, Load, Generator)\n",
    "\n",
    "# From Week 03\n",
    "develop_Jacobian(P_Data, Q_Data, Bus_Type, Generator)\n",
    "V_All, 𝜃_All, Threshold, Succes = Newtons_Method(P_Data, Q_Data, Bus_Data, Bus_Type, Generator)\n",
    "Visualize_Elec(Connectivity, V_All, 𝜃_All, Succes)"
   ]
  },
  {
   "cell_type": "markdown",
   "metadata": {},
   "source": [
    "[Back to top](#EEEN30131-Power-System-Analysis:-Week-03---Newton-Raphson)"
   ]
  },
  {
   "cell_type": "markdown",
   "metadata": {},
   "source": [
    "### Two-bus interactive example"
   ]
  },
  {
   "cell_type": "markdown",
   "metadata": {},
   "source": [
    "![Week02_2Bus.png](Figures/Week02_2Bus.png)"
   ]
  },
  {
   "cell_type": "code",
   "execution_count": 12,
   "metadata": {},
   "outputs": [
    {
     "data": {
      "application/vnd.jupyter.widget-view+json": {
       "model_id": "72bd231853cc40bb8953d2b26554f2a1",
       "version_major": 2,
       "version_minor": 0
      },
      "text/plain": [
       "interactive(children=(FloatSlider(value=0.5, description='P', max=2.0, step=0.01), FloatSlider(value=0.5, desc…"
      ]
     },
     "metadata": {},
     "output_type": "display_data"
    }
   ],
   "source": [
    "@interact\n",
    "def Bus3(P = widgets.FloatSlider(min=0,max=2,step=0.01,value=0.5),\n",
    "         Q = widgets.FloatSlider(min=-2,max=2,step=0.01,value=0.5),\n",
    "         R = widgets.FloatSlider(min=0,max=0.2,step=0.01,value=0),\n",
    "         X = widgets.FloatSlider(min=0.0,max=0.2,step=0.01,value=0.1)\n",
    "        ):\n",
    "    Connectivity = [\n",
    "        [1, 2, complex(R, X)]\n",
    "    ]\n",
    "    Load = [\n",
    "        [2, complex(P, Q)]\n",
    "    ]\n",
    "    Generator = [\n",
    "        {'Bus':1, 'V':1, '𝜃':0 }\n",
    "    ]\n",
    "\n",
    "    # From Week 01\n",
    "    Ybus = get_Ybus(Connectivity, True, False)\n",
    "\n",
    "    # From Week 02\n",
    "    P_Data, Q_Data = develop_PF_Equations(Load, Generator, Ybus, True, False)\n",
    "    Bus_Data, Bus_Type = get_Bus_Type(Ybus, Load, Generator)\n",
    "\n",
    "    # From Week 03\n",
    "    V_All, 𝜃_All, Threshold, Succes = Newtons_Method(P_Data, Q_Data, Bus_Data, Bus_Type, Generator, 0)\n",
    "    Visualize_Elec(Connectivity, V_All, 𝜃_All, Succes)"
   ]
  },
  {
   "cell_type": "markdown",
   "metadata": {},
   "source": [
    "[Back to top](#EEEN30131-Power-System-Analysis:-Week-03---Newton-Raphson)"
   ]
  },
  {
   "cell_type": "markdown",
   "metadata": {},
   "source": [
    "## Four-bus network"
   ]
  },
  {
   "cell_type": "markdown",
   "metadata": {},
   "source": [
    "Let us now try a bigger network:"
   ]
  },
  {
   "cell_type": "markdown",
   "metadata": {},
   "source": [
    "![Week02_4Bus.png](Figures/Week02_4Bus.png)"
   ]
  },
  {
   "cell_type": "code",
   "execution_count": 13,
   "metadata": {},
   "outputs": [
    {
     "name": "stdout",
     "output_type": "stream",
     "text": [
      "The network has 3 branches and 4 buses\n",
      "______________________________\n",
      "Branch | From - To | Impedance\n",
      "------------------------------\n",
      "    1  |    1 -  2 | 0.25j\n",
      "    2  |    1 -  3 | 0.5j\n",
      "    3  |    3 -  4 | 0.25j\n",
      "_______|___________|__________\n",
      "\n",
      "Ybus = \n",
      " [[ 0.-6.j -0.+4.j -0.+2.j  0.+0.j]\n",
      " [-0.+4.j  0.-4.j  0.+0.j  0.+0.j]\n",
      " [-0.+2.j  0.+0.j  0.-6.j -0.+4.j]\n",
      " [ 0.+0.j  0.+0.j -0.+4.j  0.-4.j]]\n",
      "\n",
      "Bus:  Type:       V:       𝜃:     Pinj:     Qinj:\n",
      "   1  Slack   1.0000   0.0000         ?         ?\n",
      "   2     PQ        ?        ?   -0.5000   -0.3000\n",
      "   3     PV   1.0000        ?    0.2000         ?\n",
      "   4     PQ        ?        ?   -1.0000   -0.5000\n",
      "\n",
      "***DEVELOP AND SIMPLIFY***\n",
      "P1:\n",
      "P₁ = V₁V₁[G₁,₁cos𝜃₁,₁+B₁,₁sin𝜃₁,₁] + V₁V₂[G₁,₂cos𝜃₁,₂+B₁,₂sin𝜃₁,₂] + V₁V₃[G₁,₃cos𝜃₁,₃+B₁,₃sin𝜃₁,₃] + V₁V₄[G₁,₄cos𝜃₁,₄+B₁,₄sin𝜃₁,₄] \n",
      "P₁ = V₁*V₁*B₁,₁*sin𝜃₁,₁ + V₁*V₂*B₁,₂*sin𝜃₁,₂ + V₁*V₃*B₁,₃*sin𝜃₁,₃\n",
      "P₁ = V₁*V₂*B₁,₂*sin𝜃₁,₂ + V₁*V₃*B₁,₃*sin𝜃₁,₃\n",
      "P₁ = 1*V₂*4.0*sin(0-𝜃₂) + 1*1*2.0*sin(0-𝜃₃)\n",
      "P₁ = -4.0000V₂sin(𝜃₂)-2.0000sin(𝜃₃).....[Explicit]\n",
      "\n",
      "P2:\n",
      "P₂ = V₂V₁[G₂,₁cos𝜃₂,₁+B₂,₁sin𝜃₂,₁] + V₂V₂[G₂,₂cos𝜃₂,₂+B₂,₂sin𝜃₂,₂] + V₂V₃[G₂,₃cos𝜃₂,₃+B₂,₃sin𝜃₂,₃] + V₂V₄[G₂,₄cos𝜃₂,₄+B₂,₄sin𝜃₂,₄] \n",
      "P₂ = V₂*V₁*B₂,₁*sin𝜃₂,₁ + V₂*V₂*B₂,₂*sin𝜃₂,₂\n",
      "P₂ = V₂*V₁*B₂,₁*sin𝜃₂,₁\n",
      "-0.5 = V₂*1*4.0*sin(𝜃₂-0)\n",
      "-0.5 = 4.0000V₂sin(𝜃₂).....[Implicit]\n",
      "\n",
      "P3:\n",
      "P₃ = V₃V₁[G₃,₁cos𝜃₃,₁+B₃,₁sin𝜃₃,₁] + V₃V₂[G₃,₂cos𝜃₃,₂+B₃,₂sin𝜃₃,₂] + V₃V₃[G₃,₃cos𝜃₃,₃+B₃,₃sin𝜃₃,₃] + V₃V₄[G₃,₄cos𝜃₃,₄+B₃,₄sin𝜃₃,₄] \n",
      "P₃ = V₃*V₁*B₃,₁*sin𝜃₃,₁ + V₃*V₃*B₃,₃*sin𝜃₃,₃ + V₃*V₄*B₃,₄*sin𝜃₃,₄\n",
      "P₃ = V₃*V₁*B₃,₁*sin𝜃₃,₁ + V₃*V₄*B₃,₄*sin𝜃₃,₄\n",
      "0.19999999999999996 = 1*1*2.0*sin(𝜃₃-0) + 1*V₄*4.0*sin(𝜃₃-𝜃₄)\n",
      "0.19999999999999996 = 2.0000sin(𝜃₃) + 4.0000V₄sin(𝜃₃-𝜃₄).....[Implicit]\n",
      "\n",
      "P4:\n",
      "P₄ = V₄V₁[G₄,₁cos𝜃₄,₁+B₄,₁sin𝜃₄,₁] + V₄V₂[G₄,₂cos𝜃₄,₂+B₄,₂sin𝜃₄,₂] + V₄V₃[G₄,₃cos𝜃₄,₃+B₄,₃sin𝜃₄,₃] + V₄V₄[G₄,₄cos𝜃₄,₄+B₄,₄sin𝜃₄,₄] \n",
      "P₄ = V₄*V₃*B₄,₃*sin𝜃₄,₃ + V₄*V₄*B₄,₄*sin𝜃₄,₄\n",
      "P₄ = V₄*V₃*B₄,₃*sin𝜃₄,₃\n",
      "-1.0 = V₄*1*4.0*sin(𝜃₄-𝜃₃)\n",
      "-1.0 = 4.0000V₄sin(𝜃₄-𝜃₃).....[Implicit]\n",
      "\n",
      "Q1:\n",
      "Q₁ = V₁V₁[G₁,₁sin𝜃₁,₁-B₁,₁cos𝜃₁,₁] + V₁V₂[G₁,₂sin𝜃₁,₂-B₁,₂cos𝜃₁,₂] + V₁V₃[G₁,₃sin𝜃₁,₃-B₁,₃cos𝜃₁,₃] + V₁V₄[G₁,₄sin𝜃₁,₄-B₁,₄cos𝜃₁,₄] \n",
      "Q₁ = V₁*V₁*-B₁,₁*cos𝜃₁,₁ + V₁*V₂*-B₁,₂*cos𝜃₁,₂ + V₁*V₃*-B₁,₃*cos𝜃₁,₃\n",
      "Q₁ = V₁²*-B₁,₁ + V₁*V₂*-B₁,₂*cos𝜃₁,₂ + V₁*V₃*-B₁,₃*cos𝜃₁,₃\n",
      "Q₁ = 1²*--6.0 + 1*V₂*-4.0*cos(0-𝜃₂) + 1*1*-2.0*cos(0-𝜃₃)\n",
      "Q₁ = 6.0000-4.0000V₂cos(𝜃₂)-2.0000cos(𝜃₃).....[Explicit]\n",
      "\n",
      "Q2:\n",
      "Q₂ = V₂V₁[G₂,₁sin𝜃₂,₁-B₂,₁cos𝜃₂,₁] + V₂V₂[G₂,₂sin𝜃₂,₂-B₂,₂cos𝜃₂,₂] + V₂V₃[G₂,₃sin𝜃₂,₃-B₂,₃cos𝜃₂,₃] + V₂V₄[G₂,₄sin𝜃₂,₄-B₂,₄cos𝜃₂,₄] \n",
      "Q₂ = V₂*V₁*-B₂,₁*cos𝜃₂,₁ + V₂*V₂*-B₂,₂*cos𝜃₂,₂\n",
      "Q₂ = V₂*V₁*-B₂,₁*cos𝜃₂,₁ + V₂²*-B₂,₂\n",
      "-0.3 = V₂*1*-4.0*cos(𝜃₂-0) + V₂²*--4.0\n",
      "-0.3 = -4.0000V₂cos(𝜃₂) + 4.0000V₂².....[Implicit]\n",
      "\n",
      "Q3:\n",
      "Q₃ = V₃V₁[G₃,₁sin𝜃₃,₁-B₃,₁cos𝜃₃,₁] + V₃V₂[G₃,₂sin𝜃₃,₂-B₃,₂cos𝜃₃,₂] + V₃V₃[G₃,₃sin𝜃₃,₃-B₃,₃cos𝜃₃,₃] + V₃V₄[G₃,₄sin𝜃₃,₄-B₃,₄cos𝜃₃,₄] \n",
      "Q₃ = V₃*V₁*-B₃,₁*cos𝜃₃,₁ + V₃*V₃*-B₃,₃*cos𝜃₃,₃ + V₃*V₄*-B₃,₄*cos𝜃₃,₄\n",
      "Q₃ = V₃*V₁*-B₃,₁*cos𝜃₃,₁ + V₃²*-B₃,₃ + V₃*V₄*-B₃,₄*cos𝜃₃,₄\n",
      "Q₃ = 1*1*-2.0*cos(𝜃₃-0) + 1²*--6.0 + 1*V₄*-4.0*cos(𝜃₃-𝜃₄)\n",
      "Q₃ = -2.0000cos(𝜃₃) + 6.0000-4.0000V₄cos(𝜃₃-𝜃₄).....[Explicit]\n",
      "\n",
      "Q4:\n",
      "Q₄ = V₄V₁[G₄,₁sin𝜃₄,₁-B₄,₁cos𝜃₄,₁] + V₄V₂[G₄,₂sin𝜃₄,₂-B₄,₂cos𝜃₄,₂] + V₄V₃[G₄,₃sin𝜃₄,₃-B₄,₃cos𝜃₄,₃] + V₄V₄[G₄,₄sin𝜃₄,₄-B₄,₄cos𝜃₄,₄] \n",
      "Q₄ = V₄*V₃*-B₄,₃*cos𝜃₄,₃ + V₄*V₄*-B₄,₄*cos𝜃₄,₄\n",
      "Q₄ = V₄*V₃*-B₄,₃*cos𝜃₄,₃ + V₄²*-B₄,₄\n",
      "-0.5 = V₄*1*-4.0*cos(𝜃₄-𝜃₃) + V₄²*--4.0\n",
      "-0.5 = -4.0000V₄cos(𝜃₄-𝜃₃) + 4.0000V₄².....[Implicit]\n",
      "\n",
      "The implicit equations correspond to:\n",
      "P2 P3 P4 Q2 Q4 \n",
      "The unknown variables are:\n",
      "𝜃2 𝜃3 𝜃4 V2 V4 \n",
      "\n",
      "Vector of missmatches\n",
      "ΔP₂ = 4.0000V₂sin𝜃₂ + 0.5000\n",
      "ΔP₃ = 2.0000sin𝜃₃ + 4.0000V₄sin(𝜃₃-𝜃₄) - 0.2000\n",
      "ΔP₄ = 4.0000V₄sin(𝜃₄-𝜃₃) + 1.0000\n",
      "ΔQ₂ = -4.0000V₂cos𝜃₂ + 4.0000V₂² + 0.3000\n",
      "ΔQ₄ = -4.0000V₄cos(𝜃₄-𝜃₃) + 4.0000V₄² + 0.5000\n",
      "\n",
      "Equations that form the Jacobian matrix\n",
      "∂ΔP₂/∂𝜃2 = 4.0000V₂cos𝜃₂\n",
      "∂ΔP₂/∂𝜃3 = 0\n",
      "∂ΔP₂/∂𝜃4 = 0\n",
      "∂ΔP₂/∂V2 = 4.0000sin𝜃₂\n",
      "∂ΔP₂/∂V4 = 0\n",
      "\n",
      "∂ΔP₃/∂𝜃2 = 0\n",
      "∂ΔP₃/∂𝜃3 = 2.0000cos𝜃₃ + 4.0000V₄cos(𝜃₃-𝜃₄)\n",
      "∂ΔP₃/∂𝜃4 = -4.0000V₄cos(𝜃₃-𝜃₄)\n",
      "∂ΔP₃/∂V2 = 0\n",
      "∂ΔP₃/∂V4 = 4.0000sin(𝜃₃-𝜃₄)\n",
      "\n",
      "∂ΔP₄/∂𝜃2 = 0\n",
      "∂ΔP₄/∂𝜃3 = -4.0000V₄cos(𝜃₄-𝜃₃)\n",
      "∂ΔP₄/∂𝜃4 = 4.0000V₄cos(𝜃₄-𝜃₃)\n",
      "∂ΔP₄/∂V2 = 0\n",
      "∂ΔP₄/∂V4 = 4.0000sin(𝜃₄-𝜃₃)\n",
      "\n",
      "∂ΔQ₂/∂𝜃2 = 4.0000V₂sin𝜃₂\n",
      "∂ΔQ₂/∂𝜃3 = 0\n",
      "∂ΔQ₂/∂𝜃4 = 0\n",
      "∂ΔQ₂/∂V2 = -4.0000cos𝜃₂ + 8.0000\n",
      "∂ΔQ₂/∂V4 = 0\n",
      "\n",
      "∂ΔQ₄/∂𝜃2 = 0\n",
      "∂ΔQ₄/∂𝜃3 = -4.0000V₄sin(𝜃₄-𝜃₃)\n",
      "∂ΔQ₄/∂𝜃4 = 4.0000V₄sin(𝜃₄-𝜃₃)\n",
      "∂ΔQ₄/∂V2 = 0\n",
      "∂ΔQ₄/∂V4 = -4.0000cos(𝜃₄-𝜃₃) + 8.0000\n",
      "\n",
      "ITERATION: 1\n",
      "Vector of mismatches: [0.5, -0.19999999999999996, 1.0, 0.3, 0.5]\n",
      "Jacobian:\n",
      " [[ 4.  0.  0.  0.  0.]\n",
      " [ 0.  6. -4.  0.  0.]\n",
      " [ 0. -4.  4.  0.  0.]\n",
      " [ 0.  0.  0.  4.  0.]\n",
      " [ 0.  0.  0.  0.  4.]]\n",
      "dx [0.125 0.4   0.65  0.075 0.125]\n",
      "Updated voltage magnitudes [pu]:  [1, 0.925, 1, 0.875]\n",
      "Updated voltage angles    [rad]:  [0, -0.125, -0.39999999999999997, -0.6499999999999999]\n",
      "\n",
      "RESULTS:\n",
      "V: [1, 0.9078645193897507, 1, 0.790569415042493] (pu)\n",
      "𝜃: [0, -0.13812452201255493, -0.41151684606748806, -0.7332674004637589] (rad)\n",
      "\n",
      "VOLTAGES  [pu] [deg]:\n",
      " 1)   1.0000 +j   0.0000 (  1.0000 ∠   0.0000)\n",
      " 2)   0.8992 +j  -0.1250 (  0.9079 ∠  -7.9140)\n",
      " 3)   0.9165 +j  -0.4000 (  1.0000 ∠ -23.5782)\n",
      " 4)   0.5874 +j  -0.5291 (  0.7906 ∠ -42.0131)\n",
      "NET POWER INJECTIONS [MVA]:\n",
      " 1) 130.0000 +j  57.0098\n",
      " 2) -50.0000 +j -30.0000\n",
      " 3)  20.0000 +j 116.6970\n",
      " 4) -100.0000 +j -50.0000\n",
      "CURRENTS [pu] [deg]:\n",
      " 1- 2)   0.5000 +j  -0.4031 (  0.6423 ∠ -38.8777)\n",
      " 1- 3)   0.8000 +j  -0.1670 (  0.8172 ∠ -11.7891)\n",
      " 3- 4)   0.5165 +j  -1.3165 (  1.4142 ∠ -68.5782)\n",
      "POWER FLOWS [MVA]:\n",
      "      From:                To:                   Loss:\n",
      " 1- 2)  50.0000 +j  40.3128 -50.0000 +j -30.0000 (  0.0000 +j  10.3128)\n",
      " 1- 3)  80.0000 +j  16.6970 -80.0000 +j  16.6970 (  0.0000 +j  33.3939)\n",
      " 3- 4) 100.0000 +j 100.0000 -100.0000 +j -50.0000 (  0.0000 +j  50.0000)\n"
     ]
    }
   ],
   "source": [
    "Connectivity = [\n",
    "    [1, 2, complex(0, 0.25)],\n",
    "    [1, 3, complex(0, 0.5)],\n",
    "    [3, 4, complex(0, 0.25)]\n",
    "]\n",
    "Load = [\n",
    "    [2, complex(0.5, 0.3)],\n",
    "    [3, complex(1, 0.5)],\n",
    "    [4, complex(1, 0.5)],\n",
    "]\n",
    "Generator = [\n",
    "    {'Bus':1, 'V':1, '𝜃':0 },\n",
    "    {'Bus':3, 'V':1, 'P':1.2 }\n",
    "]\n",
    "\n",
    "# From Week 01\n",
    "Ybus = get_Ybus(Connectivity, True)\n",
    "\n",
    "# From Week 02\n",
    "P_Data, Q_Data = develop_PF_Equations(Load, Generator, Ybus, True)\n",
    "Bus_Data, Bus_Type = get_Bus_Type(Ybus, Load, Generator)\n",
    "\n",
    "# From Week 03\n",
    "develop_Jacobian(P_Data, Q_Data, Bus_Type, Generator)\n",
    "V_All, 𝜃_All, Threshold, Succes = Newtons_Method(P_Data, Q_Data, Bus_Data, Bus_Type, Generator)\n",
    "Visualize_Elec(Connectivity, V_All, 𝜃_All, Succes)"
   ]
  },
  {
   "cell_type": "markdown",
   "metadata": {},
   "source": [
    "[Back to top](#EEEN30131-Power-System-Analysis:-Week-03---Newton-Raphson)"
   ]
  },
  {
   "cell_type": "markdown",
   "metadata": {},
   "source": [
    "## Three-bus radial network"
   ]
  },
  {
   "cell_type": "markdown",
   "metadata": {},
   "source": [
    "We can also develop the equations for networks with complex impedances:"
   ]
  },
  {
   "cell_type": "markdown",
   "metadata": {},
   "source": [
    "![Week02_2Bus_radial.png](Figures/Week02_2Bus_radial.png)"
   ]
  },
  {
   "cell_type": "code",
   "execution_count": 14,
   "metadata": {},
   "outputs": [
    {
     "name": "stdout",
     "output_type": "stream",
     "text": [
      "The network has 2 branches and 3 buses\n",
      "______________________________\n",
      "Branch | From - To | Impedance\n",
      "------------------------------\n",
      "    1  |    1 -  2 | (0.1+0.2j)\n",
      "    2  |    2 -  3 | (0.1+0.2j)\n",
      "_______|___________|__________\n",
      "\n",
      "Ybus = \n",
      " [[ 2.-4.j -2.+4.j  0.+0.j]\n",
      " [-2.+4.j  4.-8.j -2.+4.j]\n",
      " [ 0.+0.j -2.+4.j  2.-4.j]]\n",
      "\n",
      "Bus:  Type:       V:       𝜃:     Pinj:     Qinj:\n",
      "   1  Slack   1.0500   0.0000         ?         ?\n",
      "   2     PQ        ?        ?   -1.5000   -0.5000\n",
      "   3     PV   1.0000        ?    1.0000         ?\n",
      "\n",
      "***DEVELOP AND SIMPLIFY***\n",
      "P1:\n",
      "P₁ = V₁V₁[G₁,₁cos𝜃₁,₁+B₁,₁sin𝜃₁,₁] + V₁V₂[G₁,₂cos𝜃₁,₂+B₁,₂sin𝜃₁,₂] + V₁V₃[G₁,₃cos𝜃₁,₃+B₁,₃sin𝜃₁,₃] \n",
      "P₁ = V₁*V₁*[G₁,₁*cos𝜃₁,₁+B₁,₁*sin𝜃₁,₁] + V₁*V₂*[G₁,₂*cos𝜃₁,₂+B₁,₂*sin𝜃₁,₂]\n",
      "P₁ = V₁²*G₁,₁*cos𝜃₁,₁ + V₁*V₂*[G₁,₂*cos𝜃₁,₂+B₁,₂*sin𝜃₁,₂]\n",
      "P₁ = 1.05²*2.0*cos(0-0) + 1.05*V₂*[-2.0*cos(0-𝜃₂)+4.0*sin(0-𝜃₂)]\n",
      "P₁ = 2.2050 + 1.0500V₂[-2.0000cos(𝜃₂)-4.0000sin(𝜃₂)].....[Explicit]\n",
      "\n",
      "P2:\n",
      "P₂ = V₂V₁[G₂,₁cos𝜃₂,₁+B₂,₁sin𝜃₂,₁] + V₂V₂[G₂,₂cos𝜃₂,₂+B₂,₂sin𝜃₂,₂] + V₂V₃[G₂,₃cos𝜃₂,₃+B₂,₃sin𝜃₂,₃] \n",
      "P₂ = V₂*V₁*[G₂,₁*cos𝜃₂,₁+B₂,₁*sin𝜃₂,₁] + V₂*V₂*[G₂,₂*cos𝜃₂,₂+B₂,₂*sin𝜃₂,₂] + V₂*V₃*[G₂,₃*cos𝜃₂,₃+B₂,₃*sin𝜃₂,₃]\n",
      "P₂ = V₂*V₁*[G₂,₁*cos𝜃₂,₁+B₂,₁*sin𝜃₂,₁] + V₂²*G₂,₂*cos𝜃₂,₂ + V₂*V₃*[G₂,₃*cos𝜃₂,₃+B₂,₃*sin𝜃₂,₃]\n",
      "-1.5 = V₂*1.05*[-2.0*cos(𝜃₂-0)+4.0*sin(𝜃₂-0)] + V₂²*4.0*cos(𝜃₂-𝜃₂) + V₂*1*[-2.0*cos(𝜃₂-𝜃₃)+4.0*sin(𝜃₂-𝜃₃)]\n",
      "-1.5 = 1.0500V₂[-2.0000cos(𝜃₂)+4.0000sin(𝜃₂)] + 4.0000V₂² + 1.0000V₂[-2.0000cos(𝜃₂-𝜃₃)+4.0000sin(𝜃₂-𝜃₃)].....[Implicit]\n",
      "\n",
      "P3:\n",
      "P₃ = V₃V₁[G₃,₁cos𝜃₃,₁+B₃,₁sin𝜃₃,₁] + V₃V₂[G₃,₂cos𝜃₃,₂+B₃,₂sin𝜃₃,₂] + V₃V₃[G₃,₃cos𝜃₃,₃+B₃,₃sin𝜃₃,₃] \n",
      "P₃ = V₃*V₂*[G₃,₂*cos𝜃₃,₂+B₃,₂*sin𝜃₃,₂] + V₃*V₃*[G₃,₃*cos𝜃₃,₃+B₃,₃*sin𝜃₃,₃]\n",
      "P₃ = V₃*V₂*[G₃,₂*cos𝜃₃,₂+B₃,₂*sin𝜃₃,₂] + V₃²*G₃,₃*cos𝜃₃,₃\n",
      "1 = 1*V₂*[-2.0*cos(𝜃₃-𝜃₂)+4.0*sin(𝜃₃-𝜃₂)] + 1²*2.0*cos(𝜃₃-𝜃₃)\n",
      "1 = 1.0000V₂[-2.0000cos(𝜃₃-𝜃₂)+4.0000sin(𝜃₃-𝜃₂)] + 2.0000.....[Implicit]\n",
      "\n",
      "Q1:\n",
      "Q₁ = V₁V₁[G₁,₁sin𝜃₁,₁-B₁,₁cos𝜃₁,₁] + V₁V₂[G₁,₂sin𝜃₁,₂-B₁,₂cos𝜃₁,₂] + V₁V₃[G₁,₃sin𝜃₁,₃-B₁,₃cos𝜃₁,₃] \n",
      "Q₁ = V₁*V₁*[G₁,₁*sin𝜃₁,₁-B₁,₁*cos𝜃₁,₁] + V₁*V₂*[G₁,₂*sin𝜃₁,₂-B₁,₂*cos𝜃₁,₂]\n",
      "Q₁ = V₁²*-B₁,₁ + V₁*V₂*[G₁,₂*sin𝜃₁,₂-B₁,₂*cos𝜃₁,₂]\n",
      "Q₁ = 1.05²*--4.0 + 1.05*V₂*[-2.0*sin(0-𝜃₂)-4.0*cos(0-𝜃₂)]\n",
      "Q₁ = 4.4100 + 1.0500V₂[2.0000sin(𝜃₂)-4.0000cos(𝜃₂)].....[Explicit]\n",
      "\n",
      "Q2:\n",
      "Q₂ = V₂V₁[G₂,₁sin𝜃₂,₁-B₂,₁cos𝜃₂,₁] + V₂V₂[G₂,₂sin𝜃₂,₂-B₂,₂cos𝜃₂,₂] + V₂V₃[G₂,₃sin𝜃₂,₃-B₂,₃cos𝜃₂,₃] \n",
      "Q₂ = V₂*V₁*[G₂,₁*sin𝜃₂,₁-B₂,₁*cos𝜃₂,₁] + V₂*V₂*[G₂,₂*sin𝜃₂,₂-B₂,₂*cos𝜃₂,₂] + V₂*V₃*[G₂,₃*sin𝜃₂,₃-B₂,₃*cos𝜃₂,₃]\n",
      "Q₂ = V₂*V₁*[G₂,₁*sin𝜃₂,₁-B₂,₁*cos𝜃₂,₁] + V₂²*-B₂,₂ + V₂*V₃*[G₂,₃*sin𝜃₂,₃-B₂,₃*cos𝜃₂,₃]\n",
      "-0.5 = V₂*1.05*[-2.0*sin(𝜃₂-0)-4.0*cos(𝜃₂-0)] + V₂²*--8.0 + V₂*1*[-2.0*sin(𝜃₂-𝜃₃)-4.0*cos(𝜃₂-𝜃₃)]\n",
      "-0.5 = 1.0500V₂[-2.0000sin(𝜃₂)-4.0000cos(𝜃₂)] + 8.0000V₂² + 1.0000V₂[-2.0000sin(𝜃₂-𝜃₃)-4.0000cos(𝜃₂-𝜃₃)].....[Implicit]\n",
      "\n",
      "Q3:\n",
      "Q₃ = V₃V₁[G₃,₁sin𝜃₃,₁-B₃,₁cos𝜃₃,₁] + V₃V₂[G₃,₂sin𝜃₃,₂-B₃,₂cos𝜃₃,₂] + V₃V₃[G₃,₃sin𝜃₃,₃-B₃,₃cos𝜃₃,₃] \n",
      "Q₃ = V₃*V₂*[G₃,₂*sin𝜃₃,₂-B₃,₂*cos𝜃₃,₂] + V₃*V₃*[G₃,₃*sin𝜃₃,₃-B₃,₃*cos𝜃₃,₃]\n",
      "Q₃ = V₃*V₂*[G₃,₂*sin𝜃₃,₂-B₃,₂*cos𝜃₃,₂] + V₃²*-B₃,₃\n",
      "Q₃ = 1*V₂*[-2.0*sin(𝜃₃-𝜃₂)-4.0*cos(𝜃₃-𝜃₂)] + 1²*--4.0\n",
      "Q₃ = 1.0000V₂[-2.0000sin(𝜃₃-𝜃₂)-4.0000cos(𝜃₃-𝜃₂)] + 4.0000.....[Explicit]\n",
      "\n",
      "The implicit equations correspond to:\n",
      "P2 P3 Q2 \n",
      "The unknown variables are:\n",
      "𝜃2 𝜃3 V2 \n",
      "\n",
      "Vector of missmatches\n",
      "ΔP₂ = 1.0500V₂[-2.0000cos𝜃₂+4.0000sin𝜃₂] + 4.0000V₂² + 1.0000V₂[-2.0000cos(𝜃₂-𝜃₃)+4.0000sin(𝜃₂-𝜃₃)] + 1.5000\n",
      "ΔP₃ = 1.0000V₂[-2.0000cos(𝜃₃-𝜃₂)+4.0000sin(𝜃₃-𝜃₂)] + 2.0000 - 1.0000\n",
      "ΔQ₂ = 1.0500V₂[-2.0000sin𝜃₂-4.0000cos𝜃₂] + 8.0000V₂² + 1.0000V₂[-2.0000sin(𝜃₂-𝜃₃)-4.0000cos(𝜃₂-𝜃₃)] + 0.5000\n",
      "\n",
      "Equations that form the Jacobian matrix\n",
      "∂ΔP₂/∂𝜃2 = 1.0500V₂[2.0000sin𝜃₂+4.0000cos𝜃₂] + 1.0000V₂[2.0000sin(𝜃₂-𝜃₃)+4.0000cos(𝜃₂-𝜃₃)]\n",
      "∂ΔP₂/∂𝜃3 = 1.0000V₂[-2.0000sin(𝜃₂-𝜃₃)+-4.0000cos(𝜃₂-𝜃₃)]\n",
      "∂ΔP₂/∂V2 = 1.0500[-2.0000sin+4.0000𝜃₂] + 8.0000 + 1.0000[-2.0000sin+4.0000(𝜃₂-𝜃₃)]\n",
      "\n",
      "∂ΔP₃/∂𝜃2 = 1.0000V₂[-2.0000sin(𝜃₃-𝜃₂)+-4.0000cos(𝜃₃-𝜃₂)]\n",
      "∂ΔP₃/∂𝜃3 = 1.0000V₂[2.0000sin(𝜃₃-𝜃₂)+4.0000cos(𝜃₃-𝜃₂)]\n",
      "∂ΔP₃/∂V2 = 1.0000[-2.0000sin+4.0000(𝜃₃-𝜃₂)]\n",
      "\n",
      "∂ΔQ₂/∂𝜃2 = 1.0500V₂[-2.0000cos𝜃₂4.0000sin𝜃₂] + 1.0000V₂[-2.0000cos(𝜃₂-𝜃₃)4.0000sin(𝜃₂-𝜃₃)]\n",
      "∂ΔQ₂/∂𝜃3 = 1.0000V₂[2.0000cos(𝜃₂-𝜃₃)-4.0000sin(𝜃₂-𝜃₃)]\n",
      "∂ΔQ₂/∂V2 = 1.0500[-2.0000cos-4.0000𝜃₂] + 16.0000 + 1.0000[-2.0000cos-4.0000(𝜃₂-𝜃₃)]\n",
      "\n",
      "ITERATION: 1\n",
      "Vector of mismatches: [1.4, -1.0, 0.2999999999999998]\n",
      "Jacobian:\n",
      " [[ 8.2 -4.   3.9]\n",
      " [-4.   4.  -2. ]\n",
      " [-4.1  2.   7.8]]\n",
      "dx [ 0.04884005 -0.1498779   0.1025641 ]\n",
      "Updated voltage magnitudes [pu]:  [1.05, 0.8974358974358975, 1]\n",
      "Updated voltage angles    [rad]:  [0, -0.04884004884004882, 0.1498778998778999]\n",
      "\n",
      "RESULTS:\n",
      "V: [1.05, 0.8691165526991047, 1] (pu)\n",
      "𝜃: [0, -0.08162223626333102, 0.12181839766697433] (rad)\n",
      "\n",
      "VOLTAGES  [pu] [deg]:\n",
      " 1)   1.0500 +j   0.0000 (  1.0500 ∠   0.0000)\n",
      " 2)   0.8662 +j  -0.0709 (  0.8691 ∠  -4.6766)\n",
      " 3)   0.9926 +j   0.1215 (  1.0000 ∠   6.9797)\n",
      "NET POWER INJECTIONS [MVA]:\n",
      " 1)  68.3546 +j  62.3056\n",
      " 2) -150.0000 +j -50.0000\n",
      " 3) 100.0000 +j  24.4035\n",
      "CURRENTS [pu] [deg]:\n",
      " 1- 2)   0.6510 +j  -0.5934 (  0.8809 ∠ -42.3494)\n",
      " 2- 3)  -1.0222 +j   0.1207 (  1.0293 ∠ 173.2655)\n",
      "POWER FLOWS [MVA]:\n",
      "      From:                To:                   Loss:\n",
      " 1- 2)  68.3546 +j  62.3056 -60.5955 +j -46.7875 (  7.7590 +j  15.5181)\n",
      " 2- 3) -89.4045 +j  -3.2125 100.0000 +j  24.4035 ( 10.5955 +j  21.1911)\n"
     ]
    }
   ],
   "source": [
    "Connectivity = [\n",
    "    [1, 2, complex(0.1, 0.2)],\n",
    "    [2, 3, complex(0.1, 0.2)]\n",
    "]\n",
    "Load = [\n",
    "    [2, complex(1.5, 0.5)]\n",
    "]\n",
    "Generator = [\n",
    "    {'Bus':1, 'V':1.05, '𝜃':0 },\n",
    "    {'Bus':3, 'P':1, 'V':1 }\n",
    "]\n",
    "\n",
    "# From Week 01\n",
    "Ybus = get_Ybus(Connectivity, True)\n",
    "\n",
    "# From Week 02\n",
    "P_Data, Q_Data = develop_PF_Equations(Load, Generator, Ybus, True)\n",
    "Bus_Data, Bus_Type = get_Bus_Type(Ybus, Load, Generator)\n",
    "\n",
    "# From Week 03\n",
    "develop_Jacobian(P_Data, Q_Data, Bus_Type, Generator)\n",
    "V_All, 𝜃_All, Threshold, Succes = Newtons_Method(P_Data, Q_Data, Bus_Data, Bus_Type, Generator)\n",
    "Visualize_Elec(Connectivity, V_All, 𝜃_All, Succes)"
   ]
  },
  {
   "cell_type": "markdown",
   "metadata": {},
   "source": [
    "[Back to top](#EEEN30131-Power-System-Analysis:-Week-03---Newton-Raphson)"
   ]
  },
  {
   "cell_type": "markdown",
   "metadata": {},
   "source": [
    "## Create your own example"
   ]
  },
  {
   "cell_type": "markdown",
   "metadata": {},
   "source": [
    "Try to create your own examples:"
   ]
  },
  {
   "cell_type": "code",
   "execution_count": 15,
   "metadata": {},
   "outputs": [
    {
     "name": "stdout",
     "output_type": "stream",
     "text": [
      "The network has 2 branches and 3 buses\n",
      "______________________________\n",
      "Branch | From - To | Impedance\n",
      "------------------------------\n",
      "    1  |    1 -  2 | (0.1+0.2j)\n",
      "    2  |    2 -  3 | (0.1+0.2j)\n",
      "_______|___________|__________\n",
      "\n",
      "Ybus = \n",
      " [[ 2.-4.j -2.+4.j  0.+0.j]\n",
      " [-2.+4.j  4.-8.j -2.+4.j]\n",
      " [ 0.+0.j -2.+4.j  2.-4.j]]\n",
      "\n",
      "Bus:  Type:       V:       𝜃:     Pinj:     Qinj:\n",
      "   1  Slack   1.0500   0.0000         ?         ?\n",
      "   2     PQ        ?        ?   -1.5000   -0.5000\n",
      "   3     PV   1.0000        ?    1.0000         ?\n",
      "\n",
      "***DEVELOP AND SIMPLIFY***\n",
      "P1:\n",
      "P₁ = V₁V₁[G₁,₁cos𝜃₁,₁+B₁,₁sin𝜃₁,₁] + V₁V₂[G₁,₂cos𝜃₁,₂+B₁,₂sin𝜃₁,₂] + V₁V₃[G₁,₃cos𝜃₁,₃+B₁,₃sin𝜃₁,₃] \n",
      "P₁ = V₁*V₁*[G₁,₁*cos𝜃₁,₁+B₁,₁*sin𝜃₁,₁] + V₁*V₂*[G₁,₂*cos𝜃₁,₂+B₁,₂*sin𝜃₁,₂]\n",
      "P₁ = V₁²*G₁,₁*cos𝜃₁,₁ + V₁*V₂*[G₁,₂*cos𝜃₁,₂+B₁,₂*sin𝜃₁,₂]\n",
      "P₁ = 1.05²*2.0*cos(0-0) + 1.05*V₂*[-2.0*cos(0-𝜃₂)+4.0*sin(0-𝜃₂)]\n",
      "P₁ = 2.2050 + 1.0500V₂[-2.0000cos(𝜃₂)-4.0000sin(𝜃₂)].....[Explicit]\n",
      "\n",
      "P2:\n",
      "P₂ = V₂V₁[G₂,₁cos𝜃₂,₁+B₂,₁sin𝜃₂,₁] + V₂V₂[G₂,₂cos𝜃₂,₂+B₂,₂sin𝜃₂,₂] + V₂V₃[G₂,₃cos𝜃₂,₃+B₂,₃sin𝜃₂,₃] \n",
      "P₂ = V₂*V₁*[G₂,₁*cos𝜃₂,₁+B₂,₁*sin𝜃₂,₁] + V₂*V₂*[G₂,₂*cos𝜃₂,₂+B₂,₂*sin𝜃₂,₂] + V₂*V₃*[G₂,₃*cos𝜃₂,₃+B₂,₃*sin𝜃₂,₃]\n",
      "P₂ = V₂*V₁*[G₂,₁*cos𝜃₂,₁+B₂,₁*sin𝜃₂,₁] + V₂²*G₂,₂*cos𝜃₂,₂ + V₂*V₃*[G₂,₃*cos𝜃₂,₃+B₂,₃*sin𝜃₂,₃]\n",
      "-1.5 = V₂*1.05*[-2.0*cos(𝜃₂-0)+4.0*sin(𝜃₂-0)] + V₂²*4.0*cos(𝜃₂-𝜃₂) + V₂*1*[-2.0*cos(𝜃₂-𝜃₃)+4.0*sin(𝜃₂-𝜃₃)]\n",
      "-1.5 = 1.0500V₂[-2.0000cos(𝜃₂)+4.0000sin(𝜃₂)] + 4.0000V₂² + 1.0000V₂[-2.0000cos(𝜃₂-𝜃₃)+4.0000sin(𝜃₂-𝜃₃)].....[Implicit]\n",
      "\n",
      "P3:\n",
      "P₃ = V₃V₁[G₃,₁cos𝜃₃,₁+B₃,₁sin𝜃₃,₁] + V₃V₂[G₃,₂cos𝜃₃,₂+B₃,₂sin𝜃₃,₂] + V₃V₃[G₃,₃cos𝜃₃,₃+B₃,₃sin𝜃₃,₃] \n",
      "P₃ = V₃*V₂*[G₃,₂*cos𝜃₃,₂+B₃,₂*sin𝜃₃,₂] + V₃*V₃*[G₃,₃*cos𝜃₃,₃+B₃,₃*sin𝜃₃,₃]\n",
      "P₃ = V₃*V₂*[G₃,₂*cos𝜃₃,₂+B₃,₂*sin𝜃₃,₂] + V₃²*G₃,₃*cos𝜃₃,₃\n",
      "1 = 1*V₂*[-2.0*cos(𝜃₃-𝜃₂)+4.0*sin(𝜃₃-𝜃₂)] + 1²*2.0*cos(𝜃₃-𝜃₃)\n",
      "1 = 1.0000V₂[-2.0000cos(𝜃₃-𝜃₂)+4.0000sin(𝜃₃-𝜃₂)] + 2.0000.....[Implicit]\n",
      "\n",
      "Q1:\n",
      "Q₁ = V₁V₁[G₁,₁sin𝜃₁,₁-B₁,₁cos𝜃₁,₁] + V₁V₂[G₁,₂sin𝜃₁,₂-B₁,₂cos𝜃₁,₂] + V₁V₃[G₁,₃sin𝜃₁,₃-B₁,₃cos𝜃₁,₃] \n",
      "Q₁ = V₁*V₁*[G₁,₁*sin𝜃₁,₁-B₁,₁*cos𝜃₁,₁] + V₁*V₂*[G₁,₂*sin𝜃₁,₂-B₁,₂*cos𝜃₁,₂]\n",
      "Q₁ = V₁²*-B₁,₁ + V₁*V₂*[G₁,₂*sin𝜃₁,₂-B₁,₂*cos𝜃₁,₂]\n",
      "Q₁ = 1.05²*--4.0 + 1.05*V₂*[-2.0*sin(0-𝜃₂)-4.0*cos(0-𝜃₂)]\n",
      "Q₁ = 4.4100 + 1.0500V₂[2.0000sin(𝜃₂)-4.0000cos(𝜃₂)].....[Explicit]\n",
      "\n",
      "Q2:\n",
      "Q₂ = V₂V₁[G₂,₁sin𝜃₂,₁-B₂,₁cos𝜃₂,₁] + V₂V₂[G₂,₂sin𝜃₂,₂-B₂,₂cos𝜃₂,₂] + V₂V₃[G₂,₃sin𝜃₂,₃-B₂,₃cos𝜃₂,₃] \n",
      "Q₂ = V₂*V₁*[G₂,₁*sin𝜃₂,₁-B₂,₁*cos𝜃₂,₁] + V₂*V₂*[G₂,₂*sin𝜃₂,₂-B₂,₂*cos𝜃₂,₂] + V₂*V₃*[G₂,₃*sin𝜃₂,₃-B₂,₃*cos𝜃₂,₃]\n",
      "Q₂ = V₂*V₁*[G₂,₁*sin𝜃₂,₁-B₂,₁*cos𝜃₂,₁] + V₂²*-B₂,₂ + V₂*V₃*[G₂,₃*sin𝜃₂,₃-B₂,₃*cos𝜃₂,₃]\n",
      "-0.5 = V₂*1.05*[-2.0*sin(𝜃₂-0)-4.0*cos(𝜃₂-0)] + V₂²*--8.0 + V₂*1*[-2.0*sin(𝜃₂-𝜃₃)-4.0*cos(𝜃₂-𝜃₃)]\n",
      "-0.5 = 1.0500V₂[-2.0000sin(𝜃₂)-4.0000cos(𝜃₂)] + 8.0000V₂² + 1.0000V₂[-2.0000sin(𝜃₂-𝜃₃)-4.0000cos(𝜃₂-𝜃₃)].....[Implicit]\n",
      "\n",
      "Q3:\n",
      "Q₃ = V₃V₁[G₃,₁sin𝜃₃,₁-B₃,₁cos𝜃₃,₁] + V₃V₂[G₃,₂sin𝜃₃,₂-B₃,₂cos𝜃₃,₂] + V₃V₃[G₃,₃sin𝜃₃,₃-B₃,₃cos𝜃₃,₃] \n",
      "Q₃ = V₃*V₂*[G₃,₂*sin𝜃₃,₂-B₃,₂*cos𝜃₃,₂] + V₃*V₃*[G₃,₃*sin𝜃₃,₃-B₃,₃*cos𝜃₃,₃]\n",
      "Q₃ = V₃*V₂*[G₃,₂*sin𝜃₃,₂-B₃,₂*cos𝜃₃,₂] + V₃²*-B₃,₃\n",
      "Q₃ = 1*V₂*[-2.0*sin(𝜃₃-𝜃₂)-4.0*cos(𝜃₃-𝜃₂)] + 1²*--4.0\n",
      "Q₃ = 1.0000V₂[-2.0000sin(𝜃₃-𝜃₂)-4.0000cos(𝜃₃-𝜃₂)] + 4.0000.....[Explicit]\n",
      "\n",
      "The implicit equations correspond to:\n",
      "P2 P3 Q2 \n",
      "The unknown variables are:\n",
      "𝜃2 𝜃3 V2 \n",
      "\n",
      "Vector of missmatches\n",
      "ΔP₂ = 1.0500V₂[-2.0000cos𝜃₂+4.0000sin𝜃₂] + 4.0000V₂² + 1.0000V₂[-2.0000cos(𝜃₂-𝜃₃)+4.0000sin(𝜃₂-𝜃₃)] + 1.5000\n",
      "ΔP₃ = 1.0000V₂[-2.0000cos(𝜃₃-𝜃₂)+4.0000sin(𝜃₃-𝜃₂)] + 2.0000 - 1.0000\n",
      "ΔQ₂ = 1.0500V₂[-2.0000sin𝜃₂-4.0000cos𝜃₂] + 8.0000V₂² + 1.0000V₂[-2.0000sin(𝜃₂-𝜃₃)-4.0000cos(𝜃₂-𝜃₃)] + 0.5000\n",
      "\n",
      "Equations that form the Jacobian matrix\n",
      "∂ΔP₂/∂𝜃2 = 1.0500V₂[2.0000sin𝜃₂+4.0000cos𝜃₂] + 1.0000V₂[2.0000sin(𝜃₂-𝜃₃)+4.0000cos(𝜃₂-𝜃₃)]\n",
      "∂ΔP₂/∂𝜃3 = 1.0000V₂[-2.0000sin(𝜃₂-𝜃₃)+-4.0000cos(𝜃₂-𝜃₃)]\n",
      "∂ΔP₂/∂V2 = 1.0500[-2.0000sin+4.0000𝜃₂] + 8.0000 + 1.0000[-2.0000sin+4.0000(𝜃₂-𝜃₃)]\n",
      "\n",
      "∂ΔP₃/∂𝜃2 = 1.0000V₂[-2.0000sin(𝜃₃-𝜃₂)+-4.0000cos(𝜃₃-𝜃₂)]\n",
      "∂ΔP₃/∂𝜃3 = 1.0000V₂[2.0000sin(𝜃₃-𝜃₂)+4.0000cos(𝜃₃-𝜃₂)]\n",
      "∂ΔP₃/∂V2 = 1.0000[-2.0000sin+4.0000(𝜃₃-𝜃₂)]\n",
      "\n",
      "∂ΔQ₂/∂𝜃2 = 1.0500V₂[-2.0000cos𝜃₂4.0000sin𝜃₂] + 1.0000V₂[-2.0000cos(𝜃₂-𝜃₃)4.0000sin(𝜃₂-𝜃₃)]\n",
      "∂ΔQ₂/∂𝜃3 = 1.0000V₂[2.0000cos(𝜃₂-𝜃₃)-4.0000sin(𝜃₂-𝜃₃)]\n",
      "∂ΔQ₂/∂V2 = 1.0500[-2.0000cos-4.0000𝜃₂] + 16.0000 + 1.0000[-2.0000cos-4.0000(𝜃₂-𝜃₃)]\n",
      "\n",
      "ITERATION: 1\n",
      "Vector of mismatches: [1.4, -1.0, 0.2999999999999998]\n",
      "Jacobian:\n",
      " [[ 8.2 -4.   3.9]\n",
      " [-4.   4.  -2. ]\n",
      " [-4.1  2.   7.8]]\n",
      "dx [ 0.04884005 -0.1498779   0.1025641 ]\n",
      "Updated voltage magnitudes [pu]:  [1.05, 0.8974358974358975, 1]\n",
      "Updated voltage angles    [rad]:  [0, -0.04884004884004882, 0.1498778998778999]\n",
      "\n",
      "RESULTS:\n",
      "V: [1.05, 0.8691165526991047, 1] (pu)\n",
      "𝜃: [0, -0.08162223626333102, 0.12181839766697433] (rad)\n",
      "\n",
      "VOLTAGES  [pu] [deg]:\n",
      " 1)   1.0500 +j   0.0000 (  1.0500 ∠   0.0000)\n",
      " 2)   0.8662 +j  -0.0709 (  0.8691 ∠  -4.6766)\n",
      " 3)   0.9926 +j   0.1215 (  1.0000 ∠   6.9797)\n",
      "NET POWER INJECTIONS [MVA]:\n",
      " 1)  68.3546 +j  62.3056\n",
      " 2) -150.0000 +j -50.0000\n",
      " 3) 100.0000 +j  24.4035\n",
      "CURRENTS [pu] [deg]:\n",
      " 1- 2)   0.6510 +j  -0.5934 (  0.8809 ∠ -42.3494)\n",
      " 2- 3)  -1.0222 +j   0.1207 (  1.0293 ∠ 173.2655)\n",
      "POWER FLOWS [MVA]:\n",
      "      From:                To:                   Loss:\n",
      " 1- 2)  68.3546 +j  62.3056 -60.5955 +j -46.7875 (  7.7590 +j  15.5181)\n",
      " 2- 3) -89.4045 +j  -3.2125 100.0000 +j  24.4035 ( 10.5955 +j  21.1911)\n"
     ]
    }
   ],
   "source": [
    "Connectivity = [\n",
    "    [1, 2, complex(0.1, 0.2)],\n",
    "    [2, 3, complex(0.1, 0.2)]\n",
    "]\n",
    "Load = [\n",
    "    [2, complex(1.5, 0.5)]\n",
    "]\n",
    "Generator = [\n",
    "    {'Bus':1, 'V':1.05, '𝜃':0 },\n",
    "    {'Bus':3, 'P':1, 'V':1 }\n",
    "]\n",
    "\n",
    "# From Week 01\n",
    "Ybus = get_Ybus(Connectivity, True)\n",
    "\n",
    "# From Week 02\n",
    "P_Data, Q_Data = develop_PF_Equations(Load, Generator, Ybus, True)\n",
    "Bus_Data, Bus_Type = get_Bus_Type(Ybus, Load, Generator)\n",
    "\n",
    "# From Week 03\n",
    "develop_Jacobian(P_Data, Q_Data, Bus_Type, Generator)\n",
    "V_All, 𝜃_All, Threshold, Succes = Newtons_Method(P_Data, Q_Data, Bus_Data, Bus_Type, Generator)\n",
    "Visualize_Elec(Connectivity, V_All, 𝜃_All, Succes)"
   ]
  },
  {
   "cell_type": "markdown",
   "metadata": {},
   "source": [
    "[Back to top](#EEEN30131-Power-System-Analysis:-Week-03---Newton-Raphson)"
   ]
  }
 ],
 "metadata": {
  "kernelspec": {
   "display_name": "Python 3 (ipykernel)",
   "language": "python",
   "name": "python3"
  },
  "language_info": {
   "codemirror_mode": {
    "name": "ipython",
    "version": 3
   },
   "file_extension": ".py",
   "mimetype": "text/x-python",
   "name": "python",
   "nbconvert_exporter": "python",
   "pygments_lexer": "ipython3",
   "version": "3.11.4"
  },
  "toc": {
   "base_numbering": 1,
   "nav_menu": {},
   "number_sections": true,
   "sideBar": true,
   "skip_h1_title": true,
   "title_cell": "Table of Contents",
   "title_sidebar": "Contents",
   "toc_cell": false,
   "toc_position": {
    "height": "calc(100% - 180px)",
    "left": "10px",
    "top": "150px",
    "width": "194.41px"
   },
   "toc_section_display": true,
   "toc_window_display": true
  }
 },
 "nbformat": 4,
 "nbformat_minor": 4
}
