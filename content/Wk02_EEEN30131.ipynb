{
 "cells": [
  {
   "cell_type": "markdown",
   "metadata": {},
   "source": [
    "# EEEN30131 Power System Analysis: Week 02 - Power Flow Formulation"
   ]
  },
  {
   "cell_type": "markdown",
   "metadata": {},
   "source": [
    "***&copy; 2024 Martínez Ceseña — University of Manchester, UK***"
   ]
  },
  {
   "cell_type": "markdown",
   "metadata": {},
   "source": [
    "This notebook provides an example of the approaches used to develop and simplify the power flow equations, including the proceduer to develop the relevant tools. \n",
    "\n",
    "The use of the notebooks is optional and will not be marked. That said, you are strongly encouraged to play with the tools and examples, as you can explore many different variations of the power flow formulation, which will better prepare you for the exams."
   ]
  },
  {
   "cell_type": "markdown",
   "metadata": {},
   "source": [
    "## List of contents"
   ]
  },
  {
   "cell_type": "markdown",
   "metadata": {},
   "source": [
    "- [Load and generation data](#Load-and-generation-data)\n",
    "- [Developing the power flow equations](#Developing-the-power-flow-equations)\n",
    "- [Simplifying the equations](#Simplifying-the-equations)\n",
    "- [Considering known values](#Considering-known-values)\n",
    "- [Developing as a tool](#Developing-as-a-tool)\n",
    "- [Case studies](#Case-studies)\n",
    "  - [Three-bus network](#Three-bus-network)\n",
    "  - [Two-bus network](#Two-bus-network)\n",
    "  - [Four-bus network](#Four-bus-network)\n",
    "  - [Three-bus radial network](#Three-bus-radial-network)\n",
    "  - [Create your own example](#Create-your-own-example)"
   ]
  },
  {
   "cell_type": "markdown",
   "metadata": {},
   "source": [
    "## Before we begin"
   ]
  },
  {
   "cell_type": "markdown",
   "metadata": {},
   "source": [
    "Before we begin: \n",
    "- Make sure to review the asynchronous materials provided in blackboard for EEEN30131:\n",
    "  - Week 1 - Nodal analysis \n",
    "  - Week 2 - Power Flow Formulation \n",
    "- If you have any questions, please post them in the discussion boards or, if that is not possible, send an email to alex.martinezcesena@manchester.ac.uk"
   ]
  },
  {
   "cell_type": "markdown",
   "metadata": {},
   "source": [
    "If this data notebook is being used in Jupyter lite, the folders where the python code that supports this notebook are stored, have to be enabled."
   ]
  },
  {
   "cell_type": "code",
   "execution_count": 1,
   "metadata": {},
   "outputs": [],
   "source": [
    "from pathlib import Path\n",
    "if Path.cwd().drive == '':\n",
    "    a_dir = Path(\"dir\")\n",
    "    a_dir.mkdir(exist_ok=True)"
   ]
  },
  {
   "cell_type": "markdown",
   "metadata": {},
   "source": [
    "Some tools have already been developed in other notebooks (e.g., $Y_{bus}$)."
   ]
  },
  {
   "cell_type": "code",
   "execution_count": 2,
   "metadata": {},
   "outputs": [],
   "source": [
    "from Code.Wk1_EEEN30131 import get_Ybus\n",
    "import math\n",
    "import numpy"
   ]
  },
  {
   "cell_type": "markdown",
   "metadata": {},
   "source": [
    "The tool can now be used using the approach explained in the ***EEEN30131_Week01*** notebook."
   ]
  },
  {
   "cell_type": "code",
   "execution_count": 3,
   "metadata": {},
   "outputs": [
    {
     "name": "stdout",
     "output_type": "stream",
     "text": [
      "The network has 3 branches and 3 buses\n",
      "______________________________\n",
      "Branch | From - To | Impedance\n",
      "------------------------------\n",
      "    1  |    1 -  2 | 0.1j\n",
      "    2  |    1 -  3 | 0.2j\n",
      "    3  |    2 -  3 | 0.25j\n",
      "_______|___________|__________\n",
      "\n",
      "Ybus = \n",
      " [[ 0.-15.j -0.+10.j -0. +5.j]\n",
      " [-0.+10.j  0.-14.j -0. +4.j]\n",
      " [-0. +5.j -0. +4.j  0. -9.j]]\n"
     ]
    }
   ],
   "source": [
    "Connectivity = [\n",
    "    [1, 2, complex(0, 0.10)],\n",
    "    [1, 3, complex(0, 0.20)],\n",
    "    [2, 3, complex(0, 0.25)]\n",
    "]\n",
    "Ybus = get_Ybus(Connectivity, True)"
   ]
  },
  {
   "cell_type": "markdown",
   "metadata": {},
   "source": [
    "[Back to top](#EEEN30131-Power-System-Analysis:-Week-02---Power-Flow-Formulation)"
   ]
  },
  {
   "cell_type": "markdown",
   "metadata": {},
   "source": [
    "## Load and generation data"
   ]
  },
  {
   "cell_type": "markdown",
   "metadata": {},
   "source": [
    "The $Y_{bus}$ matrix imported above corresponds to the following system."
   ]
  },
  {
   "cell_type": "markdown",
   "metadata": {},
   "source": [
    "<img src=\"Figures/Week02_3Bus.png\" alt=\"Fig01\" class=\"bg-primary\" width=\"500px\">"
   ]
  },
  {
   "cell_type": "markdown",
   "metadata": {},
   "source": [
    "The $Y_{bus}$ matrix only provide the line data, but it does not include information about the loads and generators. This information would have to be added to a new dataset.\n",
    "\n",
    "The same format used for the connectivity data is used here to represent the loads as we only need to declare the bus where the loads are connected and the relevant active and reactive power."
   ]
  },
  {
   "cell_type": "code",
   "execution_count": 4,
   "metadata": {},
   "outputs": [],
   "source": [
    "Load = [\n",
    "    [2, complex(1.5, 0.8)]\n",
    "]"
   ]
  },
  {
   "cell_type": "markdown",
   "metadata": {},
   "source": [
    "The characteristics of the generators also has to be considered for our study. This time we will use python dictionaries to define the generation data, as this can include voltage magnitudes ($V$) and angles ($\\Theta$), and active ($P$) and reactive ($Q$) power:\n",
    "- The voltage magnitude ($V$) has to be defined for slack generators and for generators with voltage control capabilities.\n",
    "- The voltage angle ($\\theta$) has to be defined for slack generators.\n",
    "- The active power ($P$) has to be defined for generators with and without voltage control capabilities\n",
    "- The reactive power ($Q$) has to be defined for generators without voltage control capabilities"
   ]
  },
  {
   "cell_type": "code",
   "execution_count": 5,
   "metadata": {},
   "outputs": [],
   "source": [
    "Generator = [\n",
    "    {'Bus':1, 'V':1, '𝜃':0 },\n",
    "    {'Bus':3, 'P':1, 'V':1}\n",
    "]"
   ]
  },
  {
   "cell_type": "markdown",
   "metadata": {},
   "source": [
    "The first step is to check the information associated with every bus. That is, we need to check which power injections and voltages are known by analysing what is connected to each bus."
   ]
  },
  {
   "cell_type": "code",
   "execution_count": 6,
   "metadata": {},
   "outputs": [
    {
     "name": "stdout",
     "output_type": "stream",
     "text": [
      "[{'V': 1, '𝜃': 0, 'P': 0, 'Q': 0}, {'V': None, '𝜃': None, 'P': -1.5, 'Q': -0.8}, {'V': 1, '𝜃': None, 'P': 1, 'Q': 0}]\n"
     ]
    }
   ],
   "source": [
    "def get_Bus_Data(Load, Generator, Ybus):\n",
    "    Number_Buses = len(Ybus)\n",
    "    Bus_Data = [{'V': None, '𝜃': None, 'P': 0, 'Q': 0}\n",
    "                for bus in range(Number_Buses)]\n",
    "\n",
    "    for load in Load:  # Load can inject active and reactive power\n",
    "        bus = load[0]-1\n",
    "        Bus_Data[bus]['P'] -= load[1].real\n",
    "        Bus_Data[bus]['Q'] -= load[1].imag\n",
    "\n",
    "    for gen in Generator:  # Generators are a bit more complicated\n",
    "        if len(gen.keys()) != 3:\n",
    "            print('Invalid generation data:', gen)\n",
    "            break\n",
    "        bus = gen['Bus'] - 1\n",
    "        # Some generators may inject active and reactive power\n",
    "        if 'P' in gen.keys() and 'Q' in gen.keys():\n",
    "            Bus_Data[bus]['P'] += gen['P']\n",
    "            Bus_Data[bus]['Q'] += gen['Q']\n",
    "            # Others control voltages\n",
    "        elif 'P' in gen.keys() and 'V' in gen.keys():\n",
    "            if Bus_Data[bus]['V'] is not None:\n",
    "                print('There should only be one generator ', end='')\n",
    "                print('defining the voltage of bus ', gen['Bus'])\n",
    "            Bus_Data[bus]['P'] += gen['P']\n",
    "            Bus_Data[bus]['V'] = gen['V']\n",
    "            # Others can act as the slack generator\n",
    "        elif 'V' in gen.keys() and '𝜃' in gen.keys():\n",
    "            if Bus_Data[bus]['V'] is not None:\n",
    "                print('There should only be one generator ', end='')\n",
    "                print('defining the voltage of bus ', gen['Bus'])\n",
    "            if Bus_Data[bus]['𝜃'] is not None:\n",
    "                print('There should only be one generator ', end='')\n",
    "                print('defining the angle of bus ', gen['Bus'])\n",
    "            Bus_Data[bus]['V'] = gen['V']\n",
    "            Bus_Data[bus]['𝜃'] = gen['𝜃']\n",
    "        else:\n",
    "            print('Invalid generation data:', gen)\n",
    "            break\n",
    "    return Bus_Data\n",
    "\n",
    "Bus_Data_Raw = get_Bus_Data(Load, Generator, Ybus)\n",
    "print(Bus_Data_Raw)"
   ]
  },
  {
   "cell_type": "markdown",
   "metadata": {},
   "source": [
    "Now that we have collected the information (i.e., the known and unknown parameters), is is possible to use the data can be used to identify the bus types across the network."
   ]
  },
  {
   "cell_type": "code",
   "execution_count": 7,
   "metadata": {},
   "outputs": [
    {
     "name": "stdout",
     "output_type": "stream",
     "text": [
      "Bus:  Type:       V:       𝜃:     Pinj:     Qinj:\n",
      "   1  Slack   1.0000   0.0000         ?         ?\n",
      "   2     PQ        ?        ?   -1.5000   -0.8000\n",
      "   3     PV   1.0000        ?    1.0000         ?\n"
     ]
    }
   ],
   "source": [
    "def get_Bus_Type(Ybus, Load, Generator):\n",
    "    Bus_Data = get_Bus_Data(Load, Generator, Ybus)\n",
    "    Bus_Type = []\n",
    "    Number_Buses = len(Ybus)\n",
    "\n",
    "    for bus in range(Number_Buses):\n",
    "        # If 𝜃 is known, it has to be a slack bus\n",
    "        if Bus_Data[bus]['𝜃'] is not None:\n",
    "            Bus_Type.append(3)\n",
    "            Bus_Data[bus].pop('P')\n",
    "            Bus_Data[bus].pop('Q')\n",
    "\n",
    "            # If its not the slack and we know V, it has to be a PV bus\n",
    "        elif Bus_Data[bus]['V'] is not None:\n",
    "            Bus_Type.append(2)\n",
    "            Bus_Data[bus].pop('Q')\n",
    "            Bus_Data[bus].pop('𝜃')\n",
    "\n",
    "            # ALl we have left is PQ buses\n",
    "        else:\n",
    "            Bus_Type.append(1)\n",
    "            Bus_Data[bus].pop('V')\n",
    "            Bus_Data[bus].pop('𝜃')\n",
    "    return Bus_Data, Bus_Type\n",
    "\n",
    "def display_Bus_Type(Bus_Data, Bus_Type):\n",
    "    print('Bus:  Type:       V:       𝜃:     Pinj:     Qinj:')\n",
    "    for bus in range(len(Bus_Data)):\n",
    "        print('%4.0f' % (bus+1), end='')\n",
    "        if Bus_Type[bus] == 1:\n",
    "            print('     PQ        ?        ?  %8.4f  %8.4f'\n",
    "                  % (Bus_Data[bus]['P'], Bus_Data[bus]['Q']))\n",
    "        elif Bus_Type[bus] == 2:\n",
    "            print('     PV %8.4f        ?  %8.4f         ?'\n",
    "                  % (Bus_Data[bus]['V'], Bus_Data[bus]['P']))\n",
    "        else:\n",
    "            print('  Slack %8.4f %8.4f         ?         ?'\n",
    "                  % (Bus_Data[bus]['V'], Bus_Data[bus]['𝜃']))\n",
    "    \n",
    "Bus_Data, Bus_Type = get_Bus_Type(Ybus, Load, Generator)\n",
    "display_Bus_Type(Bus_Data, Bus_Type)"
   ]
  },
  {
   "cell_type": "markdown",
   "metadata": {},
   "source": [
    "[Back to top](#EEEN30131-Power-System-Analysis:-Week-02---Power-Flow-Formulation)"
   ]
  },
  {
   "cell_type": "markdown",
   "metadata": {},
   "source": [
    "## Developing the power flow equations"
   ]
  },
  {
   "cell_type": "markdown",
   "metadata": {},
   "source": [
    "We now have enough information to develop the power flow equations. Let us begin with the general formulation of the equations:"
   ]
  },
  {
   "cell_type": "markdown",
   "metadata": {},
   "source": [
    "$$\n",
    "P_k = \\sum_{i=1}^{N}V_k V_i \\left[ G_{k,i} cos (\\theta _{k,i}) + B_{k,i} sin (\\theta _{k,i})\\right]\n",
    "$$\n",
    "\n",
    "$$\n",
    "Q_k = \\sum_{i=1}^{N}V_k V_i \\left[ G_{k,i} sin (\\theta _{k,i}) - B_{k,i} cos (\\theta _{k,i})\\right]\n",
    "$$"
   ]
  },
  {
   "cell_type": "markdown",
   "metadata": {},
   "source": [
    "In order to display the procedure to develop the equations, it is convenient to create a method to help us print the equations (e.g., including subscripts)."
   ]
  },
  {
   "cell_type": "code",
   "execution_count": 8,
   "metadata": {},
   "outputs": [],
   "source": [
    "def get_string(txt, bus1, bus2=None):\n",
    "    '''Create string with subscripts'''\n",
    "    SUB = str.maketrans(\"0123456789\", \"₀₁₂₃₄₅₆₇₈₉\")\n",
    "    str1 = str(bus1+1).translate(SUB)\n",
    "    if bus2 is None:\n",
    "        str2 = ''\n",
    "    else:\n",
    "        str2 = ',' + str(bus2+1).translate(SUB)\n",
    "\n",
    "    return txt+str1+str2"
   ]
  },
  {
   "cell_type": "markdown",
   "metadata": {},
   "source": [
    "It can be seen that the equations for the active power and reactive power injections are similar, with only some differences in the trigonometric functions (i.e., `sine` and `cosine`) and signs. Therefore, we create a method to check these differences."
   ]
  },
  {
   "cell_type": "code",
   "execution_count": 9,
   "metadata": {},
   "outputs": [],
   "source": [
    "def get_P_Q(txt, No, val=0):\n",
    "    if txt == 'P':\n",
    "        if No == 1:\n",
    "            Str = 'cos'\n",
    "            Val = math.cos(val)\n",
    "        elif No == 2:\n",
    "            Str = '+'\n",
    "            Val = 1\n",
    "        elif No == 3:\n",
    "            Str = 'sin'\n",
    "            Val = math.sin(val)\n",
    "    elif txt == 'Q':\n",
    "        if No == 1:\n",
    "            Str = 'sin'\n",
    "            Val = math.sin(val)\n",
    "        elif No == 2:\n",
    "            Str = '-'\n",
    "            Val = -1\n",
    "        elif No == 3:\n",
    "            Str = 'cos'\n",
    "            Val = math.cos(val)\n",
    "\n",
    "    return Str, Val"
   ]
  },
  {
   "cell_type": "markdown",
   "metadata": {},
   "source": [
    "These python methods can help develop the equations, just by replicating the formulas. This can be done with a reasonably small piece of code as we are just collecting the data per bus, and plugging the equation."
   ]
  },
  {
   "cell_type": "code",
   "execution_count": 10,
   "metadata": {},
   "outputs": [
    {
     "name": "stdout",
     "output_type": "stream",
     "text": [
      "P₁ = V₁V₁[G₁,₁cos𝜃₁,₁+B₁,₁sin𝜃₁,₁] + V₁V₂[G₁,₂cos𝜃₁,₂+B₁,₂sin𝜃₁,₂] + V₁V₃[G₁,₃cos𝜃₁,₃+B₁,₃sin𝜃₁,₃] \n",
      "P₂ = V₂V₁[G₂,₁cos𝜃₂,₁+B₂,₁sin𝜃₂,₁] + V₂V₂[G₂,₂cos𝜃₂,₂+B₂,₂sin𝜃₂,₂] + V₂V₃[G₂,₃cos𝜃₂,₃+B₂,₃sin𝜃₂,₃] \n",
      "P₃ = V₃V₁[G₃,₁cos𝜃₃,₁+B₃,₁sin𝜃₃,₁] + V₃V₂[G₃,₂cos𝜃₃,₂+B₃,₂sin𝜃₃,₂] + V₃V₃[G₃,₃cos𝜃₃,₃+B₃,₃sin𝜃₃,₃] \n",
      "\n",
      "Q₁ = V₁V₁[G₁,₁sin𝜃₁,₁-B₁,₁cos𝜃₁,₁] + V₁V₂[G₁,₂sin𝜃₁,₂-B₁,₂cos𝜃₁,₂] + V₁V₃[G₁,₃sin𝜃₁,₃-B₁,₃cos𝜃₁,₃] \n",
      "Q₂ = V₂V₁[G₂,₁sin𝜃₂,₁-B₂,₁cos𝜃₂,₁] + V₂V₂[G₂,₂sin𝜃₂,₂-B₂,₂cos𝜃₂,₂] + V₂V₃[G₂,₃sin𝜃₂,₃-B₂,₃cos𝜃₂,₃] \n",
      "Q₃ = V₃V₁[G₃,₁sin𝜃₃,₁-B₃,₁cos𝜃₃,₁] + V₃V₂[G₃,₂sin𝜃₃,₂-B₃,₂cos𝜃₃,₂] + V₃V₃[G₃,₃sin𝜃₃,₃-B₃,₃cos𝜃₃,₃] \n"
     ]
    }
   ],
   "source": [
    "def develop_PQ_V01(txt, bus1, Ybus, Bus_Data, Prnt=True):\n",
    "\n",
    "    PQ = get_string(txt, bus1)\n",
    "    print('%s = ' % PQ, end='')\n",
    "\n",
    "    V1 = get_string('V', bus1)\n",
    "\n",
    "    Number_Buses = len(Ybus)\n",
    "    for bus2 in range(Number_Buses):\n",
    "\n",
    "        V2 = get_string('V', bus2)\n",
    "        𝜃12 = get_string('𝜃', bus1, bus2)\n",
    "        G12 = get_string('G', bus1, bus2)\n",
    "        B12 = get_string('B', bus1, bus2)\n",
    "\n",
    "        sc1, _ = get_P_Q(txt, 1)\n",
    "        sgn, _ = get_P_Q(txt, 2)\n",
    "        sc2, _ = get_P_Q(txt, 3)\n",
    "\n",
    "        if Prnt:\n",
    "            print('%s%s[%s%s%s%s%s%s%s]'\n",
    "                  % (V1, V2, G12, sc1, 𝜃12, sgn, B12, sc2, 𝜃12), end=' ')\n",
    "            if bus2 < Number_Buses-1:\n",
    "                print('+ ', end='')\n",
    "            else:\n",
    "                print()\n",
    "\n",
    "Number_Buses = len(Ybus)\n",
    "for bus1 in range(Number_Buses):\n",
    "    develop_PQ_V01('P', bus1, Ybus, Bus_Data)\n",
    "print()\n",
    "for bus1 in range(Number_Buses):\n",
    "    develop_PQ_V01('Q', bus1, Ybus, Bus_Data)"
   ]
  },
  {
   "cell_type": "markdown",
   "metadata": {},
   "source": [
    "[Back to top](#EEEN30131-Power-System-Analysis:-Week-02---Power-Flow-Formulation)"
   ]
  },
  {
   "cell_type": "markdown",
   "metadata": {},
   "source": [
    "## Simplifying the equations"
   ]
  },
  {
   "cell_type": "markdown",
   "metadata": {},
   "source": [
    "To simplify the equations, we can update the equations by removing the conductances ($G$) and susceptances ($B$) that have a value of zero. The same code above is used, but additional lines are included to check the values of the impedances (the model is growing!)."
   ]
  },
  {
   "cell_type": "code",
   "execution_count": 11,
   "metadata": {},
   "outputs": [
    {
     "name": "stdout",
     "output_type": "stream",
     "text": [
      "P₁ = V₁*V₁*B₁,₁*sin𝜃₁,₁ + V₁*V₂*B₁,₂*sin𝜃₁,₂ + V₁*V₃*B₁,₃*sin𝜃₁,₃\n",
      "P₂ = V₂*V₁*B₂,₁*sin𝜃₂,₁ + V₂*V₂*B₂,₂*sin𝜃₂,₂ + V₂*V₃*B₂,₃*sin𝜃₂,₃\n",
      "P₃ = V₃*V₁*B₃,₁*sin𝜃₃,₁ + V₃*V₂*B₃,₂*sin𝜃₃,₂ + V₃*V₃*B₃,₃*sin𝜃₃,₃\n",
      "\n",
      "Q₁ = V₁*V₁*-B₁,₁*cos𝜃₁,₁ + V₁*V₂*-B₁,₂*cos𝜃₁,₂ + V₁*V₃*-B₁,₃*cos𝜃₁,₃\n",
      "Q₂ = V₂*V₁*-B₂,₁*cos𝜃₂,₁ + V₂*V₂*-B₂,₂*cos𝜃₂,₂ + V₂*V₃*-B₂,₃*cos𝜃₂,₃\n",
      "Q₃ = V₃*V₁*-B₃,₁*cos𝜃₃,₁ + V₃*V₂*-B₃,₂*cos𝜃₃,₂ + V₃*V₃*-B₃,₃*cos𝜃₃,₃\n"
     ]
    }
   ],
   "source": [
    "def develop_PQ_V02(txt, bus1, Ybus, Bus_Data, Prnt=True):\n",
    "\n",
    "    PQ = get_string(txt, bus1)\n",
    "    if Prnt:\n",
    "        print('%s = ' % PQ, end='')\n",
    "\n",
    "    V1 = get_string('V', bus1)\n",
    "\n",
    "    Gflag = []\n",
    "    Bflag = []\n",
    "    flg = False\n",
    "    for bus2 in range(len(Ybus)):\n",
    "\n",
    "        # Is G greater than zero?\n",
    "        if abs(Ybus[bus1][bus2].real) > 0.0001:\n",
    "            flgg = True\n",
    "        else:\n",
    "            flgg = False\n",
    "        Gflag.append(flgg)\n",
    "\n",
    "        # Is B is greater than zero zero?\n",
    "        if abs(Ybus[bus1][bus2].imag) > 0.0001:\n",
    "            flgb = True\n",
    "        else:\n",
    "            flgb = False\n",
    "        Bflag.append(flgb)\n",
    "\n",
    "        if flgg or flgb:\n",
    "            if flg and Prnt:\n",
    "                print(' + ', end='')\n",
    "            flg = True\n",
    "            V2 = get_string('V', bus2)\n",
    "            𝜃12 = get_string('𝜃', bus1, bus2)\n",
    "            if Prnt:\n",
    "                print('%s*%s*' % (V1, V2), end='')\n",
    "\n",
    "        if flgg and flgb and Prnt:\n",
    "            print('[', end='')\n",
    "\n",
    "        if flgg:\n",
    "            G12 = get_string('G', bus1, bus2)\n",
    "            sc1, _ = get_P_Q(txt, 1)\n",
    "            if Prnt:\n",
    "                print('%s*%s%s' % (G12, sc1, 𝜃12), end='')\n",
    "\n",
    "        if flgb:\n",
    "            _, sgnv = get_P_Q(txt, 2)\n",
    "            if sgnv < 0:\n",
    "                if Prnt:\n",
    "                    print('-', end='')\n",
    "            else:\n",
    "                if flgg:\n",
    "                    if Prnt:\n",
    "                        print('+', end='')\n",
    "            B12 = get_string('B', bus1, bus2)\n",
    "            sc2, _ = get_P_Q(txt, 3)\n",
    "            if Prnt:\n",
    "                print('%s*%s%s' % (B12, sc2, 𝜃12), end='')\n",
    "\n",
    "        if flgg and flgb and Prnt:\n",
    "            print(']', end='')\n",
    "    if Prnt:\n",
    "        print()\n",
    "\n",
    "    return Gflag, Bflag\n",
    "\n",
    "P_Gflg = []\n",
    "P_Bflg = []\n",
    "for bus in range(Number_Buses):\n",
    "    Gflag, Bflag = develop_PQ_V02('P', bus, Ybus, Bus_Data)\n",
    "    P_Gflg.append(Gflag)\n",
    "    P_Bflg.append(Bflag)\n",
    "\n",
    "print()\n",
    "Q_Gflg = []\n",
    "Q_Bflg = []\n",
    "for bus1 in range(Number_Buses):\n",
    "    Gflag, Bflag = develop_PQ_V02('Q',bus1, Ybus, Bus_Data)\n",
    "    Q_Gflg.append(Gflag)\n",
    "    Q_Bflg.append(Bflag)"
   ]
  },
  {
   "cell_type": "markdown",
   "metadata": {},
   "source": [
    "It is possible to further develop the equations considering that:\n",
    "> $sin(0)=0$ \n",
    "\n",
    "> $sin(-𝜃) = - sin(𝜃)$ \n",
    "\n",
    "> $cos(0) = 1$.\n",
    "\n",
    "> $cos(-𝜃) = cos(𝜃)$.\n",
    "\n",
    "Again, we start with the code above, but more lines are added to account for the trigonometric equation (the code continues to grow!). As the model is becoming a bit big, we are going to collect some outputs (e.g., when to ignore parts of the equaions, etc.) so that the next version of the code will not be as big."
   ]
  },
  {
   "cell_type": "code",
   "execution_count": 12,
   "metadata": {},
   "outputs": [
    {
     "name": "stdout",
     "output_type": "stream",
     "text": [
      "P₁ = V₁*V₂*B₁,₂*sin𝜃₁,₂ + V₁*V₃*B₁,₃*sin𝜃₁,₃\n",
      "P₂ = V₂*V₁*B₂,₁*sin𝜃₂,₁ + V₂*V₃*B₂,₃*sin𝜃₂,₃\n",
      "P₃ = V₃*V₁*B₃,₁*sin𝜃₃,₁ + V₃*V₂*B₃,₂*sin𝜃₃,₂\n",
      "\n",
      "Q₁ = V₁²*-B₁,₁ + V₁*V₂*-B₁,₂*cos𝜃₁,₂ + V₁*V₃*-B₁,₃*cos𝜃₁,₃\n",
      "Q₂ = V₂*V₁*-B₂,₁*cos𝜃₂,₁ + V₂²*-B₂,₂ + V₂*V₃*-B₂,₃*cos𝜃₂,₃\n",
      "Q₃ = V₃*V₁*-B₃,₁*cos𝜃₃,₁ + V₃*V₂*-B₃,₂*cos𝜃₃,₂ + V₃²*-B₃,₃\n"
     ]
    }
   ],
   "source": [
    "def develop_PQ_V03(txt, bus1, Ybus, Bus_Data, Gflg, Bflg, Prnt=True):\n",
    "\n",
    "    PQ = get_string(txt, bus1)\n",
    "    if Prnt:\n",
    "        print('%s = ' % PQ, end='')\n",
    "\n",
    "    V1 = get_string('V', bus1)\n",
    "\n",
    "    Gflag = []\n",
    "    Bflag = []\n",
    "    flg = False\n",
    "    Nxt = [False for x in range(len(Ybus))]\n",
    "    for bus2 in range(len(Ybus)):\n",
    "\n",
    "        # Is the first component non-zero?\n",
    "        flgg = False\n",
    "        if Gflg[bus2]:\n",
    "            sc1, scv1 = get_P_Q(txt, 1)\n",
    "            if bus1 == bus2:\n",
    "                if scv1 != 0:\n",
    "                    flgg = True\n",
    "            else:\n",
    "                flgg = True\n",
    "        Gflag.append(flgg)\n",
    "\n",
    "        # Is the second component non-zero?\n",
    "        flgb = False\n",
    "        if Bflg[bus2]:\n",
    "            sc2, scv2 = get_P_Q(txt, 3)\n",
    "            if bus1 == bus2:\n",
    "                if scv2 != 0:\n",
    "                    flgb = True\n",
    "            else:\n",
    "                flgb = True\n",
    "        Bflag.append(flgb)\n",
    "\n",
    "        if flgg or flgb:\n",
    "            if flg and Prnt:\n",
    "                Nxt[bus2] = True\n",
    "                print(' + ', end='')\n",
    "            flg = True\n",
    "            if bus1 == bus2:\n",
    "                if Prnt:\n",
    "                    print('%s\\u00b2*' % V1, end='')\n",
    "            else:\n",
    "                V2 = get_string('V', bus2)\n",
    "                𝜃12 = get_string('𝜃', bus1, bus2)\n",
    "                if Prnt:\n",
    "                    print('%s*%s*' % (V1, V2), end='')\n",
    "\n",
    "        if flgg and flgb and Prnt:\n",
    "            print('[', end='')\n",
    "\n",
    "        if flgg:\n",
    "            G12 = get_string('G', bus1, bus2)\n",
    "            𝜃12 = get_string('𝜃', bus1, bus2)\n",
    "            if Prnt:\n",
    "                print('%s*%s%s' % (G12, sc1, 𝜃12), end='')\n",
    "\n",
    "        if flgb:\n",
    "            _, sgnv = get_P_Q(txt, 2)\n",
    "            if sgnv < 0:\n",
    "                if Prnt:\n",
    "                    print('-', end='')\n",
    "            else:\n",
    "                if flgg and Prnt:\n",
    "                    print('+', end='')\n",
    "            B12 = get_string('B', bus1, bus2)\n",
    "            if Prnt:\n",
    "                if bus1 == bus2:\n",
    "                    print('%s' % B12, end='')\n",
    "                else:\n",
    "                    print('%s*%s%s' % (B12, sc2, 𝜃12), end='')\n",
    "\n",
    "        if flgg and flgb and Prnt:\n",
    "            print(']', end='')\n",
    "\n",
    "    if Prnt:\n",
    "        print()\n",
    "\n",
    "    return Gflag, Bflag, Nxt\n",
    "\n",
    "P_Gflag = []\n",
    "P_Bflag = []\n",
    "P_Next = []\n",
    "for bus in range(Number_Buses):\n",
    "    Gflag, Bflag, Nxt = develop_PQ_V03('P', bus, Ybus, Bus_Data, P_Gflg[bus], P_Bflg[bus])\n",
    "    P_Gflag.append(Gflag)\n",
    "    P_Bflag.append(Bflag)\n",
    "    P_Next.append(Nxt)\n",
    "\n",
    "print()\n",
    "Q_Gflag = []\n",
    "Q_Bflag = []\n",
    "Q_Next = []\n",
    "for bus in range(Number_Buses):\n",
    "    Gflag, Bflag, Nxt = develop_PQ_V03('Q', bus, Ybus, Bus_Data, Q_Gflg[bus], Q_Bflg[bus])\n",
    "    Q_Gflag.append(Gflag)\n",
    "    Q_Bflag.append(Bflag)\n",
    "    Q_Next.append(Nxt)"
   ]
  },
  {
   "cell_type": "markdown",
   "metadata": {},
   "source": [
    "[Back to top](#EEEN30131-Power-System-Analysis:-Week-02---Power-Flow-Formulation)"
   ]
  },
  {
   "cell_type": "markdown",
   "metadata": {},
   "source": [
    "## Considering known values"
   ]
  },
  {
   "cell_type": "markdown",
   "metadata": {},
   "source": [
    "Let us continue simplifying the equations, now considering the known values."
   ]
  },
  {
   "cell_type": "markdown",
   "metadata": {},
   "source": [
    "This time, we will use the data produced from the previous method and, for the sake of convenience, a supplementary method is created to manage the trigonometric functions."
   ]
  },
  {
   "cell_type": "code",
   "execution_count": 13,
   "metadata": {},
   "outputs": [],
   "source": [
    "def get_Bus_Value(Bus_Data, txt, bus):\n",
    "    '''Get known and unknown data'''\n",
    "\n",
    "    # Is the data known?\n",
    "    if txt in Bus_Data[bus].keys():\n",
    "        Val = Bus_Data[bus][txt]  # Get value\n",
    "        Str1 = str(Val)  # Get string (number of symbol)\n",
    "        Str2 = ''  # Get string (number of empty)\n",
    "        flg = True\n",
    "    else:\n",
    "        Str1 = get_string(txt, bus)  # Get string (number of symbol)\n",
    "        Str2 = Str1  # Get string (number of empty)\n",
    "        Val = 1\n",
    "        flg = False\n",
    "\n",
    "    return Str1, Str2, Val, flg"
   ]
  },
  {
   "cell_type": "markdown",
   "metadata": {},
   "source": [
    "The equations are now updated by replacing the variables with known values. This time, thanks for the data we collected, and the method above, the new piece of code is not as big as before as it only includes the new parts."
   ]
  },
  {
   "cell_type": "code",
   "execution_count": 14,
   "metadata": {},
   "outputs": [
    {
     "name": "stdout",
     "output_type": "stream",
     "text": [
      "P₁ = 1*V₂*10.0*sin(0-𝜃₂) + 1*1*5.0*sin(0-𝜃₃)\n",
      "-1.5 = V₂*1*10.0*sin(𝜃₂-0) + V₂*1*4.0*sin(𝜃₂-𝜃₃)\n",
      "1 = 1*1*5.0*sin(𝜃₃-0) + 1*V₂*4.0*sin(𝜃₃-𝜃₂)\n",
      "\n",
      "Q₁ = 1²*--15.0 + 1*V₂*-10.0*cos(0-𝜃₂) + 1*1*-5.0*cos(0-𝜃₃)\n",
      "-0.8 = V₂*1*-10.0*cos(𝜃₂-0) + V₂²*--14.0 + V₂*1*-4.0*cos(𝜃₂-𝜃₃)\n",
      "Q₃ = 1*1*-5.0*cos(𝜃₃-0) + 1*V₂*-4.0*cos(𝜃₃-𝜃₂) + 1²*--9.0\n"
     ]
    }
   ],
   "source": [
    "def develop_PQ_V04(txt, bus1, Ybus, Bus_Data, Gflg, Bflg, Nxt):\n",
    "\n",
    "    PQ, _, _, _ = get_Bus_Value(Bus_Data, txt, bus1)\n",
    "    print('%s = ' % PQ, end='')\n",
    "\n",
    "    V1, _, _, _ = get_Bus_Value(Bus_Data, 'V', bus1)\n",
    "    𝜃1, _, _, _ = get_Bus_Value(Bus_Data, '𝜃', bus1)\n",
    "\n",
    "    for bus2 in range(len(Ybus)):\n",
    "        flgg = Gflg[bus2]\n",
    "        flgb = Bflg[bus2]\n",
    "\n",
    "        if flgg or flgb:\n",
    "            if Nxt[bus2]:\n",
    "                print(' + ', end='')\n",
    "\n",
    "            if bus1 == bus2:\n",
    "                print('%s\\u00b2*' % V1, end='')\n",
    "            else:\n",
    "                V2, _, _, _ = get_Bus_Value(Bus_Data, 'V', bus2)\n",
    "                𝜃2, _, _, _ = get_Bus_Value(Bus_Data, '𝜃', bus2)\n",
    "                print('%s*%s*' % (V1, V2), end='')\n",
    "\n",
    "        if flgg and flgb:\n",
    "            print('[', end='')\n",
    "\n",
    "        if flgg:\n",
    "            G12 = str(Ybus[bus1][bus2].real)\n",
    "            𝜃2, _, _, _ = get_Bus_Value(Bus_Data, '𝜃', bus2)\n",
    "            sc1, _ = get_P_Q(txt, 1)\n",
    "            print('%s*%s(%s-%s)' % (G12, sc1, 𝜃1, 𝜃2), end='')\n",
    "\n",
    "        if flgb:\n",
    "            _, sgnv = get_P_Q(txt, 2)\n",
    "            if sgnv < 0:\n",
    "                print('-', end='')\n",
    "            else:\n",
    "                if flgg:\n",
    "                    print('+', end='')\n",
    "            B12 = str(Ybus[bus1][bus2].imag)\n",
    "            if bus1 == bus2:\n",
    "                print('%s' % B12, end='')\n",
    "            else:\n",
    "                sc2, _ = get_P_Q(txt, 3)\n",
    "                print('%s*%s(%s-%s)' % (B12, sc2, 𝜃1, 𝜃2), end='')\n",
    "\n",
    "        if flgg and flgb:\n",
    "            print(']', end='')\n",
    "\n",
    "    print()\n",
    "\n",
    "for bus in range(Number_Buses):\n",
    "    develop_PQ_V04('P', bus, Ybus, Bus_Data, P_Gflag[bus], P_Bflag[bus], P_Next[bus])\n",
    "print()\n",
    "for bus in range(Number_Buses):\n",
    "    develop_PQ_V04('Q', bus, Ybus, Bus_Data, Q_Gflag[bus], Q_Bflag[bus], Q_Next[bus])"
   ]
  },
  {
   "cell_type": "raw",
   "metadata": {},
   "source": [
    "However, if we take a step further, and fully simplify the equations, the model will now have to account for mulriple special cases (e.g., multiplication of different signs, when to use brackets, and signs, etc.). Thus, regardless of the timplifications above, the method below is farily large:"
   ]
  },
  {
   "cell_type": "code",
   "execution_count": 15,
   "metadata": {},
   "outputs": [
    {
     "name": "stdout",
     "output_type": "stream",
     "text": [
      "P₁ = -10.0000V₂sin(𝜃₂)-5.0000sin(𝜃₃).....[Explicit]\n",
      "-1.5 = 10.0000V₂sin(𝜃₂) + 4.0000V₂sin(𝜃₂-𝜃₃).....[Implicit]\n",
      "1 = 5.0000sin(𝜃₃) + 4.0000V₂sin(𝜃₃-𝜃₂).....[Implicit]\n",
      "\n",
      "Q₁ = 15.0000-10.0000V₂cos(𝜃₂)-5.0000cos(𝜃₃).....[Explicit]\n",
      "-0.8 = -10.0000V₂cos(𝜃₂) + 14.0000V₂²-4.0000V₂cos(𝜃₂-𝜃₃).....[Implicit]\n",
      "Q₃ = -5.0000cos(𝜃₃)-4.0000V₂cos(𝜃₃-𝜃₂) + 9.0000.....[Explicit]\n"
     ]
    }
   ],
   "source": [
    "def develop_𝜃(txt, Bus_Data, No, bus1, bus2, 𝜃s1, 𝜃v1, 𝜃f1, 𝜃s2, 𝜃v2, 𝜃f2):\n",
    "    if bus1 == bus2:\n",
    "        _, Val = get_P_Q(txt, No, 0)\n",
    "        Str1 = ''\n",
    "        Str = None\n",
    "    elif 𝜃f1 and 𝜃f2:\n",
    "        _, Val = get_P_Q(txt, No, 𝜃v1-𝜃v2)\n",
    "        Str1 = ''\n",
    "        Str = None\n",
    "    elif 𝜃f1:\n",
    "        Str, Val = get_P_Q(txt, No, -1)\n",
    "        if 𝜃v1 == 0:\n",
    "            if Val < 0:\n",
    "                Val = -1\n",
    "            else:\n",
    "                Val = 1\n",
    "            Str1 = Str + '(' + 𝜃s2 + ')'\n",
    "        else:\n",
    "            Str1 = Str + '(' + str(𝜃v1) + '-' + 𝜃s2 + ')'\n",
    "    elif 𝜃f2:\n",
    "        Str, _ = get_P_Q(txt, No)\n",
    "        Val = 1\n",
    "        if 𝜃v2 == 0:\n",
    "            Str1 = Str + '(' + 𝜃s1 + ')'\n",
    "        else:\n",
    "            print('Part 2', 𝜃s2, 𝜃v2, 𝜃f2)\n",
    "            Str1 = Str + '(' + 𝜃s1 + '-' + str(𝜃v2) + ')'\n",
    "    else:\n",
    "        Str, _ = get_P_Q(txt, No)\n",
    "        Val = 1\n",
    "        Str1 = Str + '(' + 𝜃s1 + '-' + 𝜃s2 + ')'\n",
    "\n",
    "    return Val, Str1, Str\n",
    "\n",
    "def develop_PQ_V05(txt, bus1, Ybus, Bus_Data, Gflg, Bflg, Nxt, flg=False,\n",
    "                   Prnt=True):\n",
    "\n",
    "    PQ, _, PQv, PQf = get_Bus_Value(Bus_Data, txt, bus1)\n",
    "    if Prnt:\n",
    "        print('%s = ' % PQ, end='')\n",
    "    if PQf:\n",
    "        Delta_Data = PQv\n",
    "    else:\n",
    "        Delta_Data = None\n",
    "\n",
    "    _, Vs1, Vv1, Vf1 = get_Bus_Value(Bus_Data, 'V', bus1)\n",
    "    𝜃1, 𝜃s1, 𝜃v1, 𝜃f1 = get_Bus_Value(Bus_Data, '𝜃', bus1)\n",
    "\n",
    "    PQ_Data = []\n",
    "    for bus2 in range(len(Ybus)):\n",
    "        PQ_Dt = {'V1': None, 'V2': None,\n",
    "                 'scA': None, '𝜃A1': None, '𝜃A2': None,\n",
    "                 'scB': None, '𝜃B1': None, '𝜃B2': None,\n",
    "                 'val1': None, 'val2': None, 'val3': None}\n",
    "\n",
    "        flgg = Gflg[bus2]\n",
    "        flgb = Bflg[bus2]\n",
    "\n",
    "        _, Vs2, Vv2, Vf2 = get_Bus_Value(Bus_Data, 'V', bus2)\n",
    "        𝜃2, 𝜃s2, 𝜃v2, 𝜃f2 = get_Bus_Value(Bus_Data, '𝜃', bus2)\n",
    "\n",
    "        if bus1 == bus2 and Vs1 != '':\n",
    "            Vs12 = Vs1 + '\\u00b2'\n",
    "        else:\n",
    "            Vs12 = Vs1+Vs2\n",
    "\n",
    "        scv1, scs1, sc1 = develop_𝜃(txt, Bus_Data, 1, bus1, bus2, 𝜃s1, 𝜃v1,\n",
    "                                    𝜃f1, 𝜃s2, 𝜃v2, 𝜃f2)\n",
    "        scv2, scs2, sc2 = develop_𝜃(txt, Bus_Data, 3, bus1, bus2, 𝜃s1, 𝜃v1,\n",
    "                                    𝜃f1, 𝜃s2, 𝜃v2, 𝜃f2)\n",
    "\n",
    "        _, sgnv = get_P_Q(txt, 2)\n",
    "\n",
    "        # Should both G and B components be considered?\n",
    "        if flgg and flgb:\n",
    "            if Nxt[bus2] and Prnt:\n",
    "                print(' + ', end='')\n",
    "            PQ_Dt['val1'] = Vv1*Vv2\n",
    "            if Prnt:\n",
    "                print('%.4f%s[' % (PQ_Dt['val1'], Vs12), end='')\n",
    "\n",
    "            PQ_Dt['val2'] = scv1*Ybus[bus1][bus2].real\n",
    "            PQ_Dt['scA'] = sc1\n",
    "            if Prnt:\n",
    "                print('%.4f%s' % (PQ_Dt['val2'], scs1), end='')\n",
    "\n",
    "            PQ_Dt['val3'] = sgnv*scv2*Ybus[bus1][bus2].imag\n",
    "            if PQ_Dt['val3'] > 0 and Prnt:\n",
    "                print('+', end='')\n",
    "\n",
    "            PQ_Dt['scB'] = sc2\n",
    "            if Prnt:\n",
    "                print('%.4f%s' % (PQ_Dt['val3'], scs2), end='')\n",
    "                print(']', end='')\n",
    "\n",
    "        elif flgg:  # Should only G be considered?\n",
    "            PQ_Dt['val1'] = Vv1*Vv2*scv1*Ybus[bus1][bus2].real\n",
    "            if Nxt[bus2] and Nxt[bus2] > 0 and Prnt:\n",
    "                print(' + ', end='')\n",
    "            PQ_Dt['scA'] = sc1\n",
    "            if Prnt:\n",
    "                print('%.4f%s' % (PQ_Dt['val1'], Vs12+scs1), end='')\n",
    "\n",
    "        elif flgb:  # Should only B be considered\n",
    "            PQ_Dt['val1'] = Vv1*Vv2*scv2*sgnv*Ybus[bus1][bus2].imag\n",
    "            if Nxt[bus2] and PQ_Dt['val1'] > 0 and Prnt:\n",
    "                print(' + ', end='')\n",
    "            PQ_Dt['scA'] = sc2\n",
    "            if Prnt:\n",
    "                print('%.4f%s' % (PQ_Dt['val1'], Vs12+scs2), end='')\n",
    "\n",
    "        if flgg or flgb:\n",
    "            if not Vf1:\n",
    "                PQ_Dt['V1'] = bus1\n",
    "                if not Vf2:\n",
    "                    PQ_Dt['V2'] = bus2\n",
    "            else:\n",
    "                if not Vf2:\n",
    "                    PQ_Dt['V1'] = bus2\n",
    "\n",
    "            aux = '𝜃A'\n",
    "            if flgg and scs1 != '':\n",
    "                if not 𝜃f1:\n",
    "                    PQ_Dt['𝜃A1'] = bus1\n",
    "                    aux = '𝜃B'\n",
    "                    if not 𝜃f2:\n",
    "                        PQ_Dt['𝜃A2'] = bus2\n",
    "                else:\n",
    "                    if not 𝜃f2:\n",
    "                        PQ_Dt['𝜃A1'] = bus2\n",
    "                        aux = '𝜃B'\n",
    "\n",
    "            if flgb and scs2 != '':\n",
    "                if not 𝜃f1:\n",
    "                    PQ_Dt[aux+'1'] = bus1\n",
    "                    if not 𝜃f2:\n",
    "                        PQ_Dt[aux+'2'] = bus2\n",
    "                else:\n",
    "                    if not 𝜃f2:\n",
    "                        PQ_Dt[aux+'1'] = bus2\n",
    "\n",
    "            PQ_Data.append(PQ_Dt)\n",
    "    if Prnt:\n",
    "        if PQf:\n",
    "            print('.....[Implicit]')\n",
    "        else:\n",
    "            print('.....[Explicit]')\n",
    "\n",
    "    if flg:\n",
    "        return (PQ_Data, Delta_Data, bus1, txt)\n",
    "\n",
    "for bus in range(Number_Buses):\n",
    "    develop_PQ_V05('P', bus, Ybus, Bus_Data, P_Gflag[bus], P_Bflag[bus], P_Next[bus])\n",
    "print()\n",
    "for bus in range(Number_Buses):\n",
    "    develop_PQ_V05('Q', bus, Ybus, Bus_Data, Q_Gflag[bus], Q_Bflag[bus], Q_Next[bus])"
   ]
  },
  {
   "cell_type": "markdown",
   "metadata": {},
   "source": [
    "[Back to top](#EEEN30131-Power-System-Analysis:-Week-02---Power-Flow-Formulation)"
   ]
  },
  {
   "cell_type": "markdown",
   "metadata": {},
   "source": [
    "## Developing as a tool"
   ]
  },
  {
   "cell_type": "markdown",
   "metadata": {},
   "source": [
    "You may not be interested in what is inside the model, but rather on using it as a tool. To cater for that need, the code developed above is added to a single method, which is called `develop_PF_Equations`."
   ]
  },
  {
   "cell_type": "code",
   "execution_count": 16,
   "metadata": {},
   "outputs": [],
   "source": [
    "def develop_PF_Equations(Load, Generator, Ybus, flg=False, Prnt=True):\n",
    "    import math\n",
    "    Bus_Data, Bus_Type = get_Bus_Type(Ybus, Load, Generator)\n",
    "    if Prnt:\n",
    "        print()\n",
    "        display_Bus_Type(Bus_Data, Bus_Type)\n",
    "    if Prnt:\n",
    "        print()\n",
    "        print('***DEVELOP AND SIMPLIFY***')\n",
    "    Number_Buses = len(Ybus)\n",
    "\n",
    "    P_Data = []\n",
    "    for bus in range(Number_Buses):\n",
    "        if Prnt:\n",
    "            print('P%d:'%(bus+1))\n",
    "            develop_PQ_V01('P', bus, Ybus, Bus_Data)\n",
    "        Gflag, Bflag = develop_PQ_V02('P',bus, Ybus, Bus_Data, Prnt)\n",
    "        Gflag, Bflag, Nxt = develop_PQ_V03('P', bus, Ybus, Bus_Data, Gflag, Bflag, Prnt)\n",
    "        if Prnt:\n",
    "            develop_PQ_V04('P', bus, Ybus, Bus_Data, Gflag, Bflag, Nxt)\n",
    "        P_Dt = develop_PQ_V05('P', bus, Ybus, Bus_Data, Gflag, Bflag, Nxt, flg, Prnt)\n",
    "        P_Data.append(P_Dt)\n",
    "        if Prnt:\n",
    "            print()\n",
    "\n",
    "    Q_Data = []\n",
    "    for bus in range(Number_Buses):\n",
    "        if Prnt:\n",
    "            print('Q%d:'%(bus+1))\n",
    "            develop_PQ_V01('Q', bus, Ybus, Bus_Data)\n",
    "        Gflag, Bflag = develop_PQ_V02('Q',bus, Ybus, Bus_Data, Prnt)\n",
    "        Gflag, Bflag, Nxt = develop_PQ_V03('Q', bus, Ybus, Bus_Data, Gflag, Bflag, Prnt)\n",
    "        if Prnt:\n",
    "            develop_PQ_V04('Q', bus, Ybus, Bus_Data, Gflag, Bflag, Nxt)\n",
    "        Q_Dt = develop_PQ_V05('Q', bus, Ybus, Bus_Data, Gflag, Bflag, Nxt, flg, Prnt)\n",
    "        Q_Data.append(Q_Dt)\n",
    "        if Prnt:\n",
    "            print()\n",
    "\n",
    "    if flg:\n",
    "        return P_Data, Q_Data"
   ]
  },
  {
   "cell_type": "markdown",
   "metadata": {},
   "source": [
    "Now that the method has been created, the step-by-step development of the power flow equations can be simulated as follows:"
   ]
  },
  {
   "cell_type": "code",
   "execution_count": 17,
   "metadata": {},
   "outputs": [
    {
     "name": "stdout",
     "output_type": "stream",
     "text": [
      "\n",
      "Bus:  Type:       V:       𝜃:     Pinj:     Qinj:\n",
      "   1  Slack   1.0000   0.0000         ?         ?\n",
      "   2     PQ        ?        ?   -1.5000   -0.8000\n",
      "   3     PV   1.0000        ?    1.0000         ?\n",
      "\n",
      "***DEVELOP AND SIMPLIFY***\n",
      "P1:\n",
      "P₁ = V₁V₁[G₁,₁cos𝜃₁,₁+B₁,₁sin𝜃₁,₁] + V₁V₂[G₁,₂cos𝜃₁,₂+B₁,₂sin𝜃₁,₂] + V₁V₃[G₁,₃cos𝜃₁,₃+B₁,₃sin𝜃₁,₃] \n",
      "P₁ = V₁*V₁*B₁,₁*sin𝜃₁,₁ + V₁*V₂*B₁,₂*sin𝜃₁,₂ + V₁*V₃*B₁,₃*sin𝜃₁,₃\n",
      "P₁ = V₁*V₂*B₁,₂*sin𝜃₁,₂ + V₁*V₃*B₁,₃*sin𝜃₁,₃\n",
      "P₁ = 1*V₂*10.0*sin(0-𝜃₂) + 1*1*5.0*sin(0-𝜃₃)\n",
      "P₁ = -10.0000V₂sin(𝜃₂)-5.0000sin(𝜃₃).....[Explicit]\n",
      "\n",
      "P2:\n",
      "P₂ = V₂V₁[G₂,₁cos𝜃₂,₁+B₂,₁sin𝜃₂,₁] + V₂V₂[G₂,₂cos𝜃₂,₂+B₂,₂sin𝜃₂,₂] + V₂V₃[G₂,₃cos𝜃₂,₃+B₂,₃sin𝜃₂,₃] \n",
      "P₂ = V₂*V₁*B₂,₁*sin𝜃₂,₁ + V₂*V₂*B₂,₂*sin𝜃₂,₂ + V₂*V₃*B₂,₃*sin𝜃₂,₃\n",
      "P₂ = V₂*V₁*B₂,₁*sin𝜃₂,₁ + V₂*V₃*B₂,₃*sin𝜃₂,₃\n",
      "-1.5 = V₂*1*10.0*sin(𝜃₂-0) + V₂*1*4.0*sin(𝜃₂-𝜃₃)\n",
      "-1.5 = 10.0000V₂sin(𝜃₂) + 4.0000V₂sin(𝜃₂-𝜃₃).....[Implicit]\n",
      "\n",
      "P3:\n",
      "P₃ = V₃V₁[G₃,₁cos𝜃₃,₁+B₃,₁sin𝜃₃,₁] + V₃V₂[G₃,₂cos𝜃₃,₂+B₃,₂sin𝜃₃,₂] + V₃V₃[G₃,₃cos𝜃₃,₃+B₃,₃sin𝜃₃,₃] \n",
      "P₃ = V₃*V₁*B₃,₁*sin𝜃₃,₁ + V₃*V₂*B₃,₂*sin𝜃₃,₂ + V₃*V₃*B₃,₃*sin𝜃₃,₃\n",
      "P₃ = V₃*V₁*B₃,₁*sin𝜃₃,₁ + V₃*V₂*B₃,₂*sin𝜃₃,₂\n",
      "1 = 1*1*5.0*sin(𝜃₃-0) + 1*V₂*4.0*sin(𝜃₃-𝜃₂)\n",
      "1 = 5.0000sin(𝜃₃) + 4.0000V₂sin(𝜃₃-𝜃₂).....[Implicit]\n",
      "\n",
      "Q1:\n",
      "Q₁ = V₁V₁[G₁,₁sin𝜃₁,₁-B₁,₁cos𝜃₁,₁] + V₁V₂[G₁,₂sin𝜃₁,₂-B₁,₂cos𝜃₁,₂] + V₁V₃[G₁,₃sin𝜃₁,₃-B₁,₃cos𝜃₁,₃] \n",
      "Q₁ = V₁*V₁*-B₁,₁*cos𝜃₁,₁ + V₁*V₂*-B₁,₂*cos𝜃₁,₂ + V₁*V₃*-B₁,₃*cos𝜃₁,₃\n",
      "Q₁ = V₁²*-B₁,₁ + V₁*V₂*-B₁,₂*cos𝜃₁,₂ + V₁*V₃*-B₁,₃*cos𝜃₁,₃\n",
      "Q₁ = 1²*--15.0 + 1*V₂*-10.0*cos(0-𝜃₂) + 1*1*-5.0*cos(0-𝜃₃)\n",
      "Q₁ = 15.0000-10.0000V₂cos(𝜃₂)-5.0000cos(𝜃₃).....[Explicit]\n",
      "\n",
      "Q2:\n",
      "Q₂ = V₂V₁[G₂,₁sin𝜃₂,₁-B₂,₁cos𝜃₂,₁] + V₂V₂[G₂,₂sin𝜃₂,₂-B₂,₂cos𝜃₂,₂] + V₂V₃[G₂,₃sin𝜃₂,₃-B₂,₃cos𝜃₂,₃] \n",
      "Q₂ = V₂*V₁*-B₂,₁*cos𝜃₂,₁ + V₂*V₂*-B₂,₂*cos𝜃₂,₂ + V₂*V₃*-B₂,₃*cos𝜃₂,₃\n",
      "Q₂ = V₂*V₁*-B₂,₁*cos𝜃₂,₁ + V₂²*-B₂,₂ + V₂*V₃*-B₂,₃*cos𝜃₂,₃\n",
      "-0.8 = V₂*1*-10.0*cos(𝜃₂-0) + V₂²*--14.0 + V₂*1*-4.0*cos(𝜃₂-𝜃₃)\n",
      "-0.8 = -10.0000V₂cos(𝜃₂) + 14.0000V₂²-4.0000V₂cos(𝜃₂-𝜃₃).....[Implicit]\n",
      "\n",
      "Q3:\n",
      "Q₃ = V₃V₁[G₃,₁sin𝜃₃,₁-B₃,₁cos𝜃₃,₁] + V₃V₂[G₃,₂sin𝜃₃,₂-B₃,₂cos𝜃₃,₂] + V₃V₃[G₃,₃sin𝜃₃,₃-B₃,₃cos𝜃₃,₃] \n",
      "Q₃ = V₃*V₁*-B₃,₁*cos𝜃₃,₁ + V₃*V₂*-B₃,₂*cos𝜃₃,₂ + V₃*V₃*-B₃,₃*cos𝜃₃,₃\n",
      "Q₃ = V₃*V₁*-B₃,₁*cos𝜃₃,₁ + V₃*V₂*-B₃,₂*cos𝜃₃,₂ + V₃²*-B₃,₃\n",
      "Q₃ = 1*1*-5.0*cos(𝜃₃-0) + 1*V₂*-4.0*cos(𝜃₃-𝜃₂) + 1²*--9.0\n",
      "Q₃ = -5.0000cos(𝜃₃)-4.0000V₂cos(𝜃₃-𝜃₂) + 9.0000.....[Explicit]\n",
      "\n"
     ]
    }
   ],
   "source": [
    "develop_PF_Equations(Load, Generator, Ybus)"
   ]
  },
  {
   "cell_type": "markdown",
   "metadata": {},
   "source": [
    "You can now use this new tool to get detailed step-by-step examples of the development and simplification of the power flow equations."
   ]
  },
  {
   "cell_type": "markdown",
   "metadata": {},
   "source": [
    "[Back to top](#EEEN30131-Power-System-Analysis:-Week-02---Power-Flow-Formulation)"
   ]
  },
  {
   "cell_type": "markdown",
   "metadata": {},
   "source": [
    "## Case studies"
   ]
  },
  {
   "cell_type": "markdown",
   "metadata": {},
   "source": [
    "### Three-bus network"
   ]
  },
  {
   "cell_type": "markdown",
   "metadata": {},
   "source": [
    "The example presented above can be solved with the developed tool as follows:"
   ]
  },
  {
   "cell_type": "markdown",
   "metadata": {},
   "source": [
    "<img src=\"Figures/Week02_3Bus.png\" alt=\"Fig01\" class=\"bg-primary\" width=\"500px\">"
   ]
  },
  {
   "cell_type": "code",
   "execution_count": 18,
   "metadata": {},
   "outputs": [
    {
     "name": "stdout",
     "output_type": "stream",
     "text": [
      "The network has 3 branches and 3 buses\n",
      "______________________________\n",
      "Branch | From - To | Impedance\n",
      "------------------------------\n",
      "    1  |    1 -  2 | 0.1j\n",
      "    2  |    1 -  3 | 0.2j\n",
      "    3  |    2 -  3 | 0.25j\n",
      "_______|___________|__________\n",
      "\n",
      "Ybus = \n",
      " [[ 0.-15.j -0.+10.j -0. +5.j]\n",
      " [-0.+10.j  0.-14.j -0. +4.j]\n",
      " [-0. +5.j -0. +4.j  0. -9.j]]\n",
      "\n",
      "Bus:  Type:       V:       𝜃:     Pinj:     Qinj:\n",
      "   1  Slack   1.0000   0.0000         ?         ?\n",
      "   2     PQ        ?        ?   -1.5000   -0.8000\n",
      "   3     PV   1.0000        ?    1.0000         ?\n",
      "\n",
      "***DEVELOP AND SIMPLIFY***\n",
      "P1:\n",
      "P₁ = V₁V₁[G₁,₁cos𝜃₁,₁+B₁,₁sin𝜃₁,₁] + V₁V₂[G₁,₂cos𝜃₁,₂+B₁,₂sin𝜃₁,₂] + V₁V₃[G₁,₃cos𝜃₁,₃+B₁,₃sin𝜃₁,₃] \n",
      "P₁ = V₁*V₁*B₁,₁*sin𝜃₁,₁ + V₁*V₂*B₁,₂*sin𝜃₁,₂ + V₁*V₃*B₁,₃*sin𝜃₁,₃\n",
      "P₁ = V₁*V₂*B₁,₂*sin𝜃₁,₂ + V₁*V₃*B₁,₃*sin𝜃₁,₃\n",
      "P₁ = 1*V₂*10.0*sin(0-𝜃₂) + 1*1*5.0*sin(0-𝜃₃)\n",
      "P₁ = -10.0000V₂sin(𝜃₂)-5.0000sin(𝜃₃).....[Explicit]\n",
      "\n",
      "P2:\n",
      "P₂ = V₂V₁[G₂,₁cos𝜃₂,₁+B₂,₁sin𝜃₂,₁] + V₂V₂[G₂,₂cos𝜃₂,₂+B₂,₂sin𝜃₂,₂] + V₂V₃[G₂,₃cos𝜃₂,₃+B₂,₃sin𝜃₂,₃] \n",
      "P₂ = V₂*V₁*B₂,₁*sin𝜃₂,₁ + V₂*V₂*B₂,₂*sin𝜃₂,₂ + V₂*V₃*B₂,₃*sin𝜃₂,₃\n",
      "P₂ = V₂*V₁*B₂,₁*sin𝜃₂,₁ + V₂*V₃*B₂,₃*sin𝜃₂,₃\n",
      "-1.5 = V₂*1*10.0*sin(𝜃₂-0) + V₂*1*4.0*sin(𝜃₂-𝜃₃)\n",
      "-1.5 = 10.0000V₂sin(𝜃₂) + 4.0000V₂sin(𝜃₂-𝜃₃).....[Implicit]\n",
      "\n",
      "P3:\n",
      "P₃ = V₃V₁[G₃,₁cos𝜃₃,₁+B₃,₁sin𝜃₃,₁] + V₃V₂[G₃,₂cos𝜃₃,₂+B₃,₂sin𝜃₃,₂] + V₃V₃[G₃,₃cos𝜃₃,₃+B₃,₃sin𝜃₃,₃] \n",
      "P₃ = V₃*V₁*B₃,₁*sin𝜃₃,₁ + V₃*V₂*B₃,₂*sin𝜃₃,₂ + V₃*V₃*B₃,₃*sin𝜃₃,₃\n",
      "P₃ = V₃*V₁*B₃,₁*sin𝜃₃,₁ + V₃*V₂*B₃,₂*sin𝜃₃,₂\n",
      "1 = 1*1*5.0*sin(𝜃₃-0) + 1*V₂*4.0*sin(𝜃₃-𝜃₂)\n",
      "1 = 5.0000sin(𝜃₃) + 4.0000V₂sin(𝜃₃-𝜃₂).....[Implicit]\n",
      "\n",
      "Q1:\n",
      "Q₁ = V₁V₁[G₁,₁sin𝜃₁,₁-B₁,₁cos𝜃₁,₁] + V₁V₂[G₁,₂sin𝜃₁,₂-B₁,₂cos𝜃₁,₂] + V₁V₃[G₁,₃sin𝜃₁,₃-B₁,₃cos𝜃₁,₃] \n",
      "Q₁ = V₁*V₁*-B₁,₁*cos𝜃₁,₁ + V₁*V₂*-B₁,₂*cos𝜃₁,₂ + V₁*V₃*-B₁,₃*cos𝜃₁,₃\n",
      "Q₁ = V₁²*-B₁,₁ + V₁*V₂*-B₁,₂*cos𝜃₁,₂ + V₁*V₃*-B₁,₃*cos𝜃₁,₃\n",
      "Q₁ = 1²*--15.0 + 1*V₂*-10.0*cos(0-𝜃₂) + 1*1*-5.0*cos(0-𝜃₃)\n",
      "Q₁ = 15.0000-10.0000V₂cos(𝜃₂)-5.0000cos(𝜃₃).....[Explicit]\n",
      "\n",
      "Q2:\n",
      "Q₂ = V₂V₁[G₂,₁sin𝜃₂,₁-B₂,₁cos𝜃₂,₁] + V₂V₂[G₂,₂sin𝜃₂,₂-B₂,₂cos𝜃₂,₂] + V₂V₃[G₂,₃sin𝜃₂,₃-B₂,₃cos𝜃₂,₃] \n",
      "Q₂ = V₂*V₁*-B₂,₁*cos𝜃₂,₁ + V₂*V₂*-B₂,₂*cos𝜃₂,₂ + V₂*V₃*-B₂,₃*cos𝜃₂,₃\n",
      "Q₂ = V₂*V₁*-B₂,₁*cos𝜃₂,₁ + V₂²*-B₂,₂ + V₂*V₃*-B₂,₃*cos𝜃₂,₃\n",
      "-0.8 = V₂*1*-10.0*cos(𝜃₂-0) + V₂²*--14.0 + V₂*1*-4.0*cos(𝜃₂-𝜃₃)\n",
      "-0.8 = -10.0000V₂cos(𝜃₂) + 14.0000V₂²-4.0000V₂cos(𝜃₂-𝜃₃).....[Implicit]\n",
      "\n",
      "Q3:\n",
      "Q₃ = V₃V₁[G₃,₁sin𝜃₃,₁-B₃,₁cos𝜃₃,₁] + V₃V₂[G₃,₂sin𝜃₃,₂-B₃,₂cos𝜃₃,₂] + V₃V₃[G₃,₃sin𝜃₃,₃-B₃,₃cos𝜃₃,₃] \n",
      "Q₃ = V₃*V₁*-B₃,₁*cos𝜃₃,₁ + V₃*V₂*-B₃,₂*cos𝜃₃,₂ + V₃*V₃*-B₃,₃*cos𝜃₃,₃\n",
      "Q₃ = V₃*V₁*-B₃,₁*cos𝜃₃,₁ + V₃*V₂*-B₃,₂*cos𝜃₃,₂ + V₃²*-B₃,₃\n",
      "Q₃ = 1*1*-5.0*cos(𝜃₃-0) + 1*V₂*-4.0*cos(𝜃₃-𝜃₂) + 1²*--9.0\n",
      "Q₃ = -5.0000cos(𝜃₃)-4.0000V₂cos(𝜃₃-𝜃₂) + 9.0000.....[Explicit]\n",
      "\n"
     ]
    }
   ],
   "source": [
    "Connectivity = [\n",
    "    [1, 2, complex(0, 0.10)],\n",
    "    [1, 3, complex(0, 0.20)],\n",
    "    [2, 3, complex(0, 0.25)]\n",
    "]\n",
    "Load = [\n",
    "    [2, complex(1.5, 0.8)]\n",
    "]\n",
    "Generator = [\n",
    "    {'Bus':1, 'V':1, '𝜃':0 },\n",
    "    {'Bus':3, 'P':1, 'V':1}\n",
    "]\n",
    "Ybus = get_Ybus(Connectivity, True)\n",
    "develop_PF_Equations(Load, Generator, Ybus)"
   ]
  },
  {
   "cell_type": "markdown",
   "metadata": {},
   "source": [
    "[Back to top](#EEEN30131-Power-System-Analysis:-Week-02---Power-Flow-Formulation)"
   ]
  },
  {
   "cell_type": "markdown",
   "metadata": {},
   "source": [
    "### Two-bus network"
   ]
  },
  {
   "cell_type": "markdown",
   "metadata": {},
   "source": [
    "Let us now try a different example, a 2-bus system:"
   ]
  },
  {
   "cell_type": "markdown",
   "metadata": {},
   "source": [
    "![Week02_2Bus.png](Figures/Week02_2Bus.png)"
   ]
  },
  {
   "cell_type": "code",
   "execution_count": 19,
   "metadata": {},
   "outputs": [
    {
     "name": "stdout",
     "output_type": "stream",
     "text": [
      "The network has 1 branches and 2 buses\n",
      "______________________________\n",
      "Branch | From - To | Impedance\n",
      "------------------------------\n",
      "    1  |    1 -  2 | 0.1j\n",
      "_______|___________|__________\n",
      "\n",
      "Ybus = \n",
      " [[ 0.-10.j -0.+10.j]\n",
      " [-0.+10.j  0.-10.j]]\n",
      "\n",
      "Bus:  Type:       V:       𝜃:     Pinj:     Qinj:\n",
      "   1  Slack   1.0000   0.0000         ?         ?\n",
      "   2     PQ        ?        ?   -0.5000   -0.5000\n",
      "\n",
      "***DEVELOP AND SIMPLIFY***\n",
      "P1:\n",
      "P₁ = V₁V₁[G₁,₁cos𝜃₁,₁+B₁,₁sin𝜃₁,₁] + V₁V₂[G₁,₂cos𝜃₁,₂+B₁,₂sin𝜃₁,₂] \n",
      "P₁ = V₁*V₁*B₁,₁*sin𝜃₁,₁ + V₁*V₂*B₁,₂*sin𝜃₁,₂\n",
      "P₁ = V₁*V₂*B₁,₂*sin𝜃₁,₂\n",
      "P₁ = 1*V₂*10.0*sin(0-𝜃₂)\n",
      "P₁ = -10.0000V₂sin(𝜃₂).....[Explicit]\n",
      "\n",
      "P2:\n",
      "P₂ = V₂V₁[G₂,₁cos𝜃₂,₁+B₂,₁sin𝜃₂,₁] + V₂V₂[G₂,₂cos𝜃₂,₂+B₂,₂sin𝜃₂,₂] \n",
      "P₂ = V₂*V₁*B₂,₁*sin𝜃₂,₁ + V₂*V₂*B₂,₂*sin𝜃₂,₂\n",
      "P₂ = V₂*V₁*B₂,₁*sin𝜃₂,₁\n",
      "-0.5 = V₂*1*10.0*sin(𝜃₂-0)\n",
      "-0.5 = 10.0000V₂sin(𝜃₂).....[Implicit]\n",
      "\n",
      "Q1:\n",
      "Q₁ = V₁V₁[G₁,₁sin𝜃₁,₁-B₁,₁cos𝜃₁,₁] + V₁V₂[G₁,₂sin𝜃₁,₂-B₁,₂cos𝜃₁,₂] \n",
      "Q₁ = V₁*V₁*-B₁,₁*cos𝜃₁,₁ + V₁*V₂*-B₁,₂*cos𝜃₁,₂\n",
      "Q₁ = V₁²*-B₁,₁ + V₁*V₂*-B₁,₂*cos𝜃₁,₂\n",
      "Q₁ = 1²*--10.0 + 1*V₂*-10.0*cos(0-𝜃₂)\n",
      "Q₁ = 10.0000-10.0000V₂cos(𝜃₂).....[Explicit]\n",
      "\n",
      "Q2:\n",
      "Q₂ = V₂V₁[G₂,₁sin𝜃₂,₁-B₂,₁cos𝜃₂,₁] + V₂V₂[G₂,₂sin𝜃₂,₂-B₂,₂cos𝜃₂,₂] \n",
      "Q₂ = V₂*V₁*-B₂,₁*cos𝜃₂,₁ + V₂*V₂*-B₂,₂*cos𝜃₂,₂\n",
      "Q₂ = V₂*V₁*-B₂,₁*cos𝜃₂,₁ + V₂²*-B₂,₂\n",
      "-0.5 = V₂*1*-10.0*cos(𝜃₂-0) + V₂²*--10.0\n",
      "-0.5 = -10.0000V₂cos(𝜃₂) + 10.0000V₂².....[Implicit]\n",
      "\n"
     ]
    }
   ],
   "source": [
    "Connectivity = [\n",
    "    [1, 2, complex(0, 0.10)]\n",
    "]\n",
    "Load = [\n",
    "    [2, complex(0.5, 0.5)]\n",
    "]\n",
    "Generator = [\n",
    "    {'Bus':1, 'V':1, '𝜃':0 }\n",
    "]\n",
    "Ybus = get_Ybus(Connectivity, True)\n",
    "develop_PF_Equations(Load, Generator, Ybus)"
   ]
  },
  {
   "cell_type": "markdown",
   "metadata": {},
   "source": [
    "[Back to top](#EEEN30131-Power-System-Analysis:-Week-02---Power-Flow-Formulation)"
   ]
  },
  {
   "cell_type": "markdown",
   "metadata": {},
   "source": [
    "### Four-bus network"
   ]
  },
  {
   "cell_type": "markdown",
   "metadata": {},
   "source": [
    "Let us now try a bigger network:"
   ]
  },
  {
   "cell_type": "markdown",
   "metadata": {},
   "source": [
    "![Week02_4Bus.png](Figures/Week02_4Bus.png)"
   ]
  },
  {
   "cell_type": "code",
   "execution_count": 20,
   "metadata": {},
   "outputs": [
    {
     "name": "stdout",
     "output_type": "stream",
     "text": [
      "The network has 3 branches and 4 buses\n",
      "______________________________\n",
      "Branch | From - To | Impedance\n",
      "------------------------------\n",
      "    1  |    1 -  2 | 0.25j\n",
      "    2  |    1 -  3 | 0.5j\n",
      "    3  |    3 -  4 | 0.25j\n",
      "_______|___________|__________\n",
      "\n",
      "Ybus = \n",
      " [[ 0.-6.j -0.+4.j -0.+2.j  0.+0.j]\n",
      " [-0.+4.j  0.-4.j  0.+0.j  0.+0.j]\n",
      " [-0.+2.j  0.+0.j  0.-6.j -0.+4.j]\n",
      " [ 0.+0.j  0.+0.j -0.+4.j  0.-4.j]]\n",
      "\n",
      "Bus:  Type:       V:       𝜃:     Pinj:     Qinj:\n",
      "   1  Slack   1.0000   0.0000         ?         ?\n",
      "   2     PQ        ?        ?   -0.5000   -0.3000\n",
      "   3     PV   1.0000        ?    0.2000         ?\n",
      "   4     PQ        ?        ?   -1.0000   -0.5000\n",
      "\n",
      "***DEVELOP AND SIMPLIFY***\n",
      "P1:\n",
      "P₁ = V₁V₁[G₁,₁cos𝜃₁,₁+B₁,₁sin𝜃₁,₁] + V₁V₂[G₁,₂cos𝜃₁,₂+B₁,₂sin𝜃₁,₂] + V₁V₃[G₁,₃cos𝜃₁,₃+B₁,₃sin𝜃₁,₃] + V₁V₄[G₁,₄cos𝜃₁,₄+B₁,₄sin𝜃₁,₄] \n",
      "P₁ = V₁*V₁*B₁,₁*sin𝜃₁,₁ + V₁*V₂*B₁,₂*sin𝜃₁,₂ + V₁*V₃*B₁,₃*sin𝜃₁,₃\n",
      "P₁ = V₁*V₂*B₁,₂*sin𝜃₁,₂ + V₁*V₃*B₁,₃*sin𝜃₁,₃\n",
      "P₁ = 1*V₂*4.0*sin(0-𝜃₂) + 1*1*2.0*sin(0-𝜃₃)\n",
      "P₁ = -4.0000V₂sin(𝜃₂)-2.0000sin(𝜃₃).....[Explicit]\n",
      "\n",
      "P2:\n",
      "P₂ = V₂V₁[G₂,₁cos𝜃₂,₁+B₂,₁sin𝜃₂,₁] + V₂V₂[G₂,₂cos𝜃₂,₂+B₂,₂sin𝜃₂,₂] + V₂V₃[G₂,₃cos𝜃₂,₃+B₂,₃sin𝜃₂,₃] + V₂V₄[G₂,₄cos𝜃₂,₄+B₂,₄sin𝜃₂,₄] \n",
      "P₂ = V₂*V₁*B₂,₁*sin𝜃₂,₁ + V₂*V₂*B₂,₂*sin𝜃₂,₂\n",
      "P₂ = V₂*V₁*B₂,₁*sin𝜃₂,₁\n",
      "-0.5 = V₂*1*4.0*sin(𝜃₂-0)\n",
      "-0.5 = 4.0000V₂sin(𝜃₂).....[Implicit]\n",
      "\n",
      "P3:\n",
      "P₃ = V₃V₁[G₃,₁cos𝜃₃,₁+B₃,₁sin𝜃₃,₁] + V₃V₂[G₃,₂cos𝜃₃,₂+B₃,₂sin𝜃₃,₂] + V₃V₃[G₃,₃cos𝜃₃,₃+B₃,₃sin𝜃₃,₃] + V₃V₄[G₃,₄cos𝜃₃,₄+B₃,₄sin𝜃₃,₄] \n",
      "P₃ = V₃*V₁*B₃,₁*sin𝜃₃,₁ + V₃*V₃*B₃,₃*sin𝜃₃,₃ + V₃*V₄*B₃,₄*sin𝜃₃,₄\n",
      "P₃ = V₃*V₁*B₃,₁*sin𝜃₃,₁ + V₃*V₄*B₃,₄*sin𝜃₃,₄\n",
      "0.19999999999999996 = 1*1*2.0*sin(𝜃₃-0) + 1*V₄*4.0*sin(𝜃₃-𝜃₄)\n",
      "0.19999999999999996 = 2.0000sin(𝜃₃) + 4.0000V₄sin(𝜃₃-𝜃₄).....[Implicit]\n",
      "\n",
      "P4:\n",
      "P₄ = V₄V₁[G₄,₁cos𝜃₄,₁+B₄,₁sin𝜃₄,₁] + V₄V₂[G₄,₂cos𝜃₄,₂+B₄,₂sin𝜃₄,₂] + V₄V₃[G₄,₃cos𝜃₄,₃+B₄,₃sin𝜃₄,₃] + V₄V₄[G₄,₄cos𝜃₄,₄+B₄,₄sin𝜃₄,₄] \n",
      "P₄ = V₄*V₃*B₄,₃*sin𝜃₄,₃ + V₄*V₄*B₄,₄*sin𝜃₄,₄\n",
      "P₄ = V₄*V₃*B₄,₃*sin𝜃₄,₃\n",
      "-1.0 = V₄*1*4.0*sin(𝜃₄-𝜃₃)\n",
      "-1.0 = 4.0000V₄sin(𝜃₄-𝜃₃).....[Implicit]\n",
      "\n",
      "Q1:\n",
      "Q₁ = V₁V₁[G₁,₁sin𝜃₁,₁-B₁,₁cos𝜃₁,₁] + V₁V₂[G₁,₂sin𝜃₁,₂-B₁,₂cos𝜃₁,₂] + V₁V₃[G₁,₃sin𝜃₁,₃-B₁,₃cos𝜃₁,₃] + V₁V₄[G₁,₄sin𝜃₁,₄-B₁,₄cos𝜃₁,₄] \n",
      "Q₁ = V₁*V₁*-B₁,₁*cos𝜃₁,₁ + V₁*V₂*-B₁,₂*cos𝜃₁,₂ + V₁*V₃*-B₁,₃*cos𝜃₁,₃\n",
      "Q₁ = V₁²*-B₁,₁ + V₁*V₂*-B₁,₂*cos𝜃₁,₂ + V₁*V₃*-B₁,₃*cos𝜃₁,₃\n",
      "Q₁ = 1²*--6.0 + 1*V₂*-4.0*cos(0-𝜃₂) + 1*1*-2.0*cos(0-𝜃₃)\n",
      "Q₁ = 6.0000-4.0000V₂cos(𝜃₂)-2.0000cos(𝜃₃).....[Explicit]\n",
      "\n",
      "Q2:\n",
      "Q₂ = V₂V₁[G₂,₁sin𝜃₂,₁-B₂,₁cos𝜃₂,₁] + V₂V₂[G₂,₂sin𝜃₂,₂-B₂,₂cos𝜃₂,₂] + V₂V₃[G₂,₃sin𝜃₂,₃-B₂,₃cos𝜃₂,₃] + V₂V₄[G₂,₄sin𝜃₂,₄-B₂,₄cos𝜃₂,₄] \n",
      "Q₂ = V₂*V₁*-B₂,₁*cos𝜃₂,₁ + V₂*V₂*-B₂,₂*cos𝜃₂,₂\n",
      "Q₂ = V₂*V₁*-B₂,₁*cos𝜃₂,₁ + V₂²*-B₂,₂\n",
      "-0.3 = V₂*1*-4.0*cos(𝜃₂-0) + V₂²*--4.0\n",
      "-0.3 = -4.0000V₂cos(𝜃₂) + 4.0000V₂².....[Implicit]\n",
      "\n",
      "Q3:\n",
      "Q₃ = V₃V₁[G₃,₁sin𝜃₃,₁-B₃,₁cos𝜃₃,₁] + V₃V₂[G₃,₂sin𝜃₃,₂-B₃,₂cos𝜃₃,₂] + V₃V₃[G₃,₃sin𝜃₃,₃-B₃,₃cos𝜃₃,₃] + V₃V₄[G₃,₄sin𝜃₃,₄-B₃,₄cos𝜃₃,₄] \n",
      "Q₃ = V₃*V₁*-B₃,₁*cos𝜃₃,₁ + V₃*V₃*-B₃,₃*cos𝜃₃,₃ + V₃*V₄*-B₃,₄*cos𝜃₃,₄\n",
      "Q₃ = V₃*V₁*-B₃,₁*cos𝜃₃,₁ + V₃²*-B₃,₃ + V₃*V₄*-B₃,₄*cos𝜃₃,₄\n",
      "Q₃ = 1*1*-2.0*cos(𝜃₃-0) + 1²*--6.0 + 1*V₄*-4.0*cos(𝜃₃-𝜃₄)\n",
      "Q₃ = -2.0000cos(𝜃₃) + 6.0000-4.0000V₄cos(𝜃₃-𝜃₄).....[Explicit]\n",
      "\n",
      "Q4:\n",
      "Q₄ = V₄V₁[G₄,₁sin𝜃₄,₁-B₄,₁cos𝜃₄,₁] + V₄V₂[G₄,₂sin𝜃₄,₂-B₄,₂cos𝜃₄,₂] + V₄V₃[G₄,₃sin𝜃₄,₃-B₄,₃cos𝜃₄,₃] + V₄V₄[G₄,₄sin𝜃₄,₄-B₄,₄cos𝜃₄,₄] \n",
      "Q₄ = V₄*V₃*-B₄,₃*cos𝜃₄,₃ + V₄*V₄*-B₄,₄*cos𝜃₄,₄\n",
      "Q₄ = V₄*V₃*-B₄,₃*cos𝜃₄,₃ + V₄²*-B₄,₄\n",
      "-0.5 = V₄*1*-4.0*cos(𝜃₄-𝜃₃) + V₄²*--4.0\n",
      "-0.5 = -4.0000V₄cos(𝜃₄-𝜃₃) + 4.0000V₄².....[Implicit]\n",
      "\n"
     ]
    }
   ],
   "source": [
    "Connectivity = [\n",
    "    [1, 2, complex(0, 0.25)],\n",
    "    [1, 3, complex(0, 0.5)],\n",
    "    [3, 4, complex(0, 0.25)]\n",
    "]\n",
    "Load = [\n",
    "    [2, complex(0.5, 0.3)],\n",
    "    [3, complex(1, 0.5)],\n",
    "    [4, complex(1, 0.5)],\n",
    "]\n",
    "Generator = [\n",
    "    {'Bus':1, 'V':1, '𝜃':0 },\n",
    "    {'Bus':3, 'V':1, 'P':1.2 }\n",
    "]\n",
    "Ybus = get_Ybus(Connectivity, True)\n",
    "develop_PF_Equations(Load, Generator, Ybus)"
   ]
  },
  {
   "cell_type": "markdown",
   "metadata": {},
   "source": [
    "[Back to top](#EEEN30131-Power-System-Analysis:-Week-02---Power-Flow-Formulation)"
   ]
  },
  {
   "cell_type": "markdown",
   "metadata": {},
   "source": [
    "### Three-bus radial network"
   ]
  },
  {
   "cell_type": "markdown",
   "metadata": {},
   "source": [
    "We can also develop the equations for networks with complex impedances:"
   ]
  },
  {
   "cell_type": "markdown",
   "metadata": {},
   "source": [
    "![Week02_2Bus_radial.png](Figures/Week02_2Bus_radial.png)"
   ]
  },
  {
   "cell_type": "code",
   "execution_count": 21,
   "metadata": {},
   "outputs": [
    {
     "name": "stdout",
     "output_type": "stream",
     "text": [
      "The network has 2 branches and 3 buses\n",
      "______________________________\n",
      "Branch | From - To | Impedance\n",
      "------------------------------\n",
      "    1  |    1 -  2 | (0.1+0.2j)\n",
      "    2  |    2 -  3 | (0.1+0.2j)\n",
      "_______|___________|__________\n",
      "\n",
      "Ybus = \n",
      " [[ 2.-4.j -2.+4.j  0.+0.j]\n",
      " [-2.+4.j  4.-8.j -2.+4.j]\n",
      " [ 0.+0.j -2.+4.j  2.-4.j]]\n",
      "\n",
      "Bus:  Type:       V:       𝜃:     Pinj:     Qinj:\n",
      "   1  Slack   1.0500   0.0000         ?         ?\n",
      "   2     PQ        ?        ?   -1.5000   -0.5000\n",
      "   3     PV   1.0000        ?    1.0000         ?\n",
      "\n",
      "***DEVELOP AND SIMPLIFY***\n",
      "P1:\n",
      "P₁ = V₁V₁[G₁,₁cos𝜃₁,₁+B₁,₁sin𝜃₁,₁] + V₁V₂[G₁,₂cos𝜃₁,₂+B₁,₂sin𝜃₁,₂] + V₁V₃[G₁,₃cos𝜃₁,₃+B₁,₃sin𝜃₁,₃] \n",
      "P₁ = V₁*V₁*[G₁,₁*cos𝜃₁,₁+B₁,₁*sin𝜃₁,₁] + V₁*V₂*[G₁,₂*cos𝜃₁,₂+B₁,₂*sin𝜃₁,₂]\n",
      "P₁ = V₁²*G₁,₁*cos𝜃₁,₁ + V₁*V₂*[G₁,₂*cos𝜃₁,₂+B₁,₂*sin𝜃₁,₂]\n",
      "P₁ = 1.05²*2.0*cos(0-0) + 1.05*V₂*[-2.0*cos(0-𝜃₂)+4.0*sin(0-𝜃₂)]\n",
      "P₁ = 2.2050 + 1.0500V₂[-2.0000cos(𝜃₂)-4.0000sin(𝜃₂)].....[Explicit]\n",
      "\n",
      "P2:\n",
      "P₂ = V₂V₁[G₂,₁cos𝜃₂,₁+B₂,₁sin𝜃₂,₁] + V₂V₂[G₂,₂cos𝜃₂,₂+B₂,₂sin𝜃₂,₂] + V₂V₃[G₂,₃cos𝜃₂,₃+B₂,₃sin𝜃₂,₃] \n",
      "P₂ = V₂*V₁*[G₂,₁*cos𝜃₂,₁+B₂,₁*sin𝜃₂,₁] + V₂*V₂*[G₂,₂*cos𝜃₂,₂+B₂,₂*sin𝜃₂,₂] + V₂*V₃*[G₂,₃*cos𝜃₂,₃+B₂,₃*sin𝜃₂,₃]\n",
      "P₂ = V₂*V₁*[G₂,₁*cos𝜃₂,₁+B₂,₁*sin𝜃₂,₁] + V₂²*G₂,₂*cos𝜃₂,₂ + V₂*V₃*[G₂,₃*cos𝜃₂,₃+B₂,₃*sin𝜃₂,₃]\n",
      "-1.5 = V₂*1.05*[-2.0*cos(𝜃₂-0)+4.0*sin(𝜃₂-0)] + V₂²*4.0*cos(𝜃₂-𝜃₂) + V₂*1*[-2.0*cos(𝜃₂-𝜃₃)+4.0*sin(𝜃₂-𝜃₃)]\n",
      "-1.5 = 1.0500V₂[-2.0000cos(𝜃₂)+4.0000sin(𝜃₂)] + 4.0000V₂² + 1.0000V₂[-2.0000cos(𝜃₂-𝜃₃)+4.0000sin(𝜃₂-𝜃₃)].....[Implicit]\n",
      "\n",
      "P3:\n",
      "P₃ = V₃V₁[G₃,₁cos𝜃₃,₁+B₃,₁sin𝜃₃,₁] + V₃V₂[G₃,₂cos𝜃₃,₂+B₃,₂sin𝜃₃,₂] + V₃V₃[G₃,₃cos𝜃₃,₃+B₃,₃sin𝜃₃,₃] \n",
      "P₃ = V₃*V₂*[G₃,₂*cos𝜃₃,₂+B₃,₂*sin𝜃₃,₂] + V₃*V₃*[G₃,₃*cos𝜃₃,₃+B₃,₃*sin𝜃₃,₃]\n",
      "P₃ = V₃*V₂*[G₃,₂*cos𝜃₃,₂+B₃,₂*sin𝜃₃,₂] + V₃²*G₃,₃*cos𝜃₃,₃\n",
      "1 = 1*V₂*[-2.0*cos(𝜃₃-𝜃₂)+4.0*sin(𝜃₃-𝜃₂)] + 1²*2.0*cos(𝜃₃-𝜃₃)\n",
      "1 = 1.0000V₂[-2.0000cos(𝜃₃-𝜃₂)+4.0000sin(𝜃₃-𝜃₂)] + 2.0000.....[Implicit]\n",
      "\n",
      "Q1:\n",
      "Q₁ = V₁V₁[G₁,₁sin𝜃₁,₁-B₁,₁cos𝜃₁,₁] + V₁V₂[G₁,₂sin𝜃₁,₂-B₁,₂cos𝜃₁,₂] + V₁V₃[G₁,₃sin𝜃₁,₃-B₁,₃cos𝜃₁,₃] \n",
      "Q₁ = V₁*V₁*[G₁,₁*sin𝜃₁,₁-B₁,₁*cos𝜃₁,₁] + V₁*V₂*[G₁,₂*sin𝜃₁,₂-B₁,₂*cos𝜃₁,₂]\n",
      "Q₁ = V₁²*-B₁,₁ + V₁*V₂*[G₁,₂*sin𝜃₁,₂-B₁,₂*cos𝜃₁,₂]\n",
      "Q₁ = 1.05²*--4.0 + 1.05*V₂*[-2.0*sin(0-𝜃₂)-4.0*cos(0-𝜃₂)]\n",
      "Q₁ = 4.4100 + 1.0500V₂[2.0000sin(𝜃₂)-4.0000cos(𝜃₂)].....[Explicit]\n",
      "\n",
      "Q2:\n",
      "Q₂ = V₂V₁[G₂,₁sin𝜃₂,₁-B₂,₁cos𝜃₂,₁] + V₂V₂[G₂,₂sin𝜃₂,₂-B₂,₂cos𝜃₂,₂] + V₂V₃[G₂,₃sin𝜃₂,₃-B₂,₃cos𝜃₂,₃] \n",
      "Q₂ = V₂*V₁*[G₂,₁*sin𝜃₂,₁-B₂,₁*cos𝜃₂,₁] + V₂*V₂*[G₂,₂*sin𝜃₂,₂-B₂,₂*cos𝜃₂,₂] + V₂*V₃*[G₂,₃*sin𝜃₂,₃-B₂,₃*cos𝜃₂,₃]\n",
      "Q₂ = V₂*V₁*[G₂,₁*sin𝜃₂,₁-B₂,₁*cos𝜃₂,₁] + V₂²*-B₂,₂ + V₂*V₃*[G₂,₃*sin𝜃₂,₃-B₂,₃*cos𝜃₂,₃]\n",
      "-0.5 = V₂*1.05*[-2.0*sin(𝜃₂-0)-4.0*cos(𝜃₂-0)] + V₂²*--8.0 + V₂*1*[-2.0*sin(𝜃₂-𝜃₃)-4.0*cos(𝜃₂-𝜃₃)]\n",
      "-0.5 = 1.0500V₂[-2.0000sin(𝜃₂)-4.0000cos(𝜃₂)] + 8.0000V₂² + 1.0000V₂[-2.0000sin(𝜃₂-𝜃₃)-4.0000cos(𝜃₂-𝜃₃)].....[Implicit]\n",
      "\n",
      "Q3:\n",
      "Q₃ = V₃V₁[G₃,₁sin𝜃₃,₁-B₃,₁cos𝜃₃,₁] + V₃V₂[G₃,₂sin𝜃₃,₂-B₃,₂cos𝜃₃,₂] + V₃V₃[G₃,₃sin𝜃₃,₃-B₃,₃cos𝜃₃,₃] \n",
      "Q₃ = V₃*V₂*[G₃,₂*sin𝜃₃,₂-B₃,₂*cos𝜃₃,₂] + V₃*V₃*[G₃,₃*sin𝜃₃,₃-B₃,₃*cos𝜃₃,₃]\n",
      "Q₃ = V₃*V₂*[G₃,₂*sin𝜃₃,₂-B₃,₂*cos𝜃₃,₂] + V₃²*-B₃,₃\n",
      "Q₃ = 1*V₂*[-2.0*sin(𝜃₃-𝜃₂)-4.0*cos(𝜃₃-𝜃₂)] + 1²*--4.0\n",
      "Q₃ = 1.0000V₂[-2.0000sin(𝜃₃-𝜃₂)-4.0000cos(𝜃₃-𝜃₂)] + 4.0000.....[Explicit]\n",
      "\n"
     ]
    }
   ],
   "source": [
    "Connectivity = [\n",
    "    [1, 2, complex(0.1, 0.2)],\n",
    "    [2, 3, complex(0.1, 0.2)]\n",
    "]\n",
    "Load = [\n",
    "    [2, complex(1.5, 0.5)]\n",
    "]\n",
    "Generator = [\n",
    "    {'Bus':1, 'V':1.05, '𝜃':0 },\n",
    "    {'Bus':3, 'P':1, 'V':1 }\n",
    "]\n",
    "Ybus = get_Ybus(Connectivity, True)\n",
    "develop_PF_Equations(Load, Generator, Ybus)"
   ]
  },
  {
   "cell_type": "markdown",
   "metadata": {},
   "source": [
    "[Back to top](#EEEN30131-Power-System-Analysis:-Week-02---Power-Flow-Formulation)"
   ]
  },
  {
   "cell_type": "markdown",
   "metadata": {},
   "source": [
    "### Create your own example"
   ]
  },
  {
   "cell_type": "markdown",
   "metadata": {},
   "source": [
    "Try to create your own examples:"
   ]
  },
  {
   "cell_type": "code",
   "execution_count": 22,
   "metadata": {},
   "outputs": [
    {
     "name": "stdout",
     "output_type": "stream",
     "text": [
      "The network has 2 branches and 3 buses\n",
      "______________________________\n",
      "Branch | From - To | Impedance\n",
      "------------------------------\n",
      "    1  |    1 -  2 | (0.1+0.2j)\n",
      "    2  |    2 -  3 | (0.1+0.2j)\n",
      "_______|___________|__________\n",
      "\n",
      "Ybus = \n",
      " [[ 2.-4.j -2.+4.j  0.+0.j]\n",
      " [-2.+4.j  4.-8.j -2.+4.j]\n",
      " [ 0.+0.j -2.+4.j  2.-4.j]]\n",
      "\n",
      "Bus:  Type:       V:       𝜃:     Pinj:     Qinj:\n",
      "   1  Slack   1.0500   0.0000         ?         ?\n",
      "   2     PQ        ?        ?   -1.5000   -0.5000\n",
      "   3     PV   1.0000        ?    1.0000         ?\n",
      "\n",
      "***DEVELOP AND SIMPLIFY***\n",
      "P1:\n",
      "P₁ = V₁V₁[G₁,₁cos𝜃₁,₁+B₁,₁sin𝜃₁,₁] + V₁V₂[G₁,₂cos𝜃₁,₂+B₁,₂sin𝜃₁,₂] + V₁V₃[G₁,₃cos𝜃₁,₃+B₁,₃sin𝜃₁,₃] \n",
      "P₁ = V₁*V₁*[G₁,₁*cos𝜃₁,₁+B₁,₁*sin𝜃₁,₁] + V₁*V₂*[G₁,₂*cos𝜃₁,₂+B₁,₂*sin𝜃₁,₂]\n",
      "P₁ = V₁²*G₁,₁*cos𝜃₁,₁ + V₁*V₂*[G₁,₂*cos𝜃₁,₂+B₁,₂*sin𝜃₁,₂]\n",
      "P₁ = 1.05²*2.0*cos(0-0) + 1.05*V₂*[-2.0*cos(0-𝜃₂)+4.0*sin(0-𝜃₂)]\n",
      "P₁ = 2.2050 + 1.0500V₂[-2.0000cos(𝜃₂)-4.0000sin(𝜃₂)].....[Explicit]\n",
      "\n",
      "P2:\n",
      "P₂ = V₂V₁[G₂,₁cos𝜃₂,₁+B₂,₁sin𝜃₂,₁] + V₂V₂[G₂,₂cos𝜃₂,₂+B₂,₂sin𝜃₂,₂] + V₂V₃[G₂,₃cos𝜃₂,₃+B₂,₃sin𝜃₂,₃] \n",
      "P₂ = V₂*V₁*[G₂,₁*cos𝜃₂,₁+B₂,₁*sin𝜃₂,₁] + V₂*V₂*[G₂,₂*cos𝜃₂,₂+B₂,₂*sin𝜃₂,₂] + V₂*V₃*[G₂,₃*cos𝜃₂,₃+B₂,₃*sin𝜃₂,₃]\n",
      "P₂ = V₂*V₁*[G₂,₁*cos𝜃₂,₁+B₂,₁*sin𝜃₂,₁] + V₂²*G₂,₂*cos𝜃₂,₂ + V₂*V₃*[G₂,₃*cos𝜃₂,₃+B₂,₃*sin𝜃₂,₃]\n",
      "-1.5 = V₂*1.05*[-2.0*cos(𝜃₂-0)+4.0*sin(𝜃₂-0)] + V₂²*4.0*cos(𝜃₂-𝜃₂) + V₂*1*[-2.0*cos(𝜃₂-𝜃₃)+4.0*sin(𝜃₂-𝜃₃)]\n",
      "-1.5 = 1.0500V₂[-2.0000cos(𝜃₂)+4.0000sin(𝜃₂)] + 4.0000V₂² + 1.0000V₂[-2.0000cos(𝜃₂-𝜃₃)+4.0000sin(𝜃₂-𝜃₃)].....[Implicit]\n",
      "\n",
      "P3:\n",
      "P₃ = V₃V₁[G₃,₁cos𝜃₃,₁+B₃,₁sin𝜃₃,₁] + V₃V₂[G₃,₂cos𝜃₃,₂+B₃,₂sin𝜃₃,₂] + V₃V₃[G₃,₃cos𝜃₃,₃+B₃,₃sin𝜃₃,₃] \n",
      "P₃ = V₃*V₂*[G₃,₂*cos𝜃₃,₂+B₃,₂*sin𝜃₃,₂] + V₃*V₃*[G₃,₃*cos𝜃₃,₃+B₃,₃*sin𝜃₃,₃]\n",
      "P₃ = V₃*V₂*[G₃,₂*cos𝜃₃,₂+B₃,₂*sin𝜃₃,₂] + V₃²*G₃,₃*cos𝜃₃,₃\n",
      "1 = 1*V₂*[-2.0*cos(𝜃₃-𝜃₂)+4.0*sin(𝜃₃-𝜃₂)] + 1²*2.0*cos(𝜃₃-𝜃₃)\n",
      "1 = 1.0000V₂[-2.0000cos(𝜃₃-𝜃₂)+4.0000sin(𝜃₃-𝜃₂)] + 2.0000.....[Implicit]\n",
      "\n",
      "Q1:\n",
      "Q₁ = V₁V₁[G₁,₁sin𝜃₁,₁-B₁,₁cos𝜃₁,₁] + V₁V₂[G₁,₂sin𝜃₁,₂-B₁,₂cos𝜃₁,₂] + V₁V₃[G₁,₃sin𝜃₁,₃-B₁,₃cos𝜃₁,₃] \n",
      "Q₁ = V₁*V₁*[G₁,₁*sin𝜃₁,₁-B₁,₁*cos𝜃₁,₁] + V₁*V₂*[G₁,₂*sin𝜃₁,₂-B₁,₂*cos𝜃₁,₂]\n",
      "Q₁ = V₁²*-B₁,₁ + V₁*V₂*[G₁,₂*sin𝜃₁,₂-B₁,₂*cos𝜃₁,₂]\n",
      "Q₁ = 1.05²*--4.0 + 1.05*V₂*[-2.0*sin(0-𝜃₂)-4.0*cos(0-𝜃₂)]\n",
      "Q₁ = 4.4100 + 1.0500V₂[2.0000sin(𝜃₂)-4.0000cos(𝜃₂)].....[Explicit]\n",
      "\n",
      "Q2:\n",
      "Q₂ = V₂V₁[G₂,₁sin𝜃₂,₁-B₂,₁cos𝜃₂,₁] + V₂V₂[G₂,₂sin𝜃₂,₂-B₂,₂cos𝜃₂,₂] + V₂V₃[G₂,₃sin𝜃₂,₃-B₂,₃cos𝜃₂,₃] \n",
      "Q₂ = V₂*V₁*[G₂,₁*sin𝜃₂,₁-B₂,₁*cos𝜃₂,₁] + V₂*V₂*[G₂,₂*sin𝜃₂,₂-B₂,₂*cos𝜃₂,₂] + V₂*V₃*[G₂,₃*sin𝜃₂,₃-B₂,₃*cos𝜃₂,₃]\n",
      "Q₂ = V₂*V₁*[G₂,₁*sin𝜃₂,₁-B₂,₁*cos𝜃₂,₁] + V₂²*-B₂,₂ + V₂*V₃*[G₂,₃*sin𝜃₂,₃-B₂,₃*cos𝜃₂,₃]\n",
      "-0.5 = V₂*1.05*[-2.0*sin(𝜃₂-0)-4.0*cos(𝜃₂-0)] + V₂²*--8.0 + V₂*1*[-2.0*sin(𝜃₂-𝜃₃)-4.0*cos(𝜃₂-𝜃₃)]\n",
      "-0.5 = 1.0500V₂[-2.0000sin(𝜃₂)-4.0000cos(𝜃₂)] + 8.0000V₂² + 1.0000V₂[-2.0000sin(𝜃₂-𝜃₃)-4.0000cos(𝜃₂-𝜃₃)].....[Implicit]\n",
      "\n",
      "Q3:\n",
      "Q₃ = V₃V₁[G₃,₁sin𝜃₃,₁-B₃,₁cos𝜃₃,₁] + V₃V₂[G₃,₂sin𝜃₃,₂-B₃,₂cos𝜃₃,₂] + V₃V₃[G₃,₃sin𝜃₃,₃-B₃,₃cos𝜃₃,₃] \n",
      "Q₃ = V₃*V₂*[G₃,₂*sin𝜃₃,₂-B₃,₂*cos𝜃₃,₂] + V₃*V₃*[G₃,₃*sin𝜃₃,₃-B₃,₃*cos𝜃₃,₃]\n",
      "Q₃ = V₃*V₂*[G₃,₂*sin𝜃₃,₂-B₃,₂*cos𝜃₃,₂] + V₃²*-B₃,₃\n",
      "Q₃ = 1*V₂*[-2.0*sin(𝜃₃-𝜃₂)-4.0*cos(𝜃₃-𝜃₂)] + 1²*--4.0\n",
      "Q₃ = 1.0000V₂[-2.0000sin(𝜃₃-𝜃₂)-4.0000cos(𝜃₃-𝜃₂)] + 4.0000.....[Explicit]\n",
      "\n"
     ]
    }
   ],
   "source": [
    "Connectivity = [\n",
    "    [1, 2, complex(0.1, 0.2)],\n",
    "    [2, 3, complex(0.1, 0.2)]\n",
    "]\n",
    "Load = [\n",
    "    [2, complex(1.5, 0.5)]\n",
    "]\n",
    "Generator = [\n",
    "    {'Bus':1, 'V':1.05, '𝜃':0 },\n",
    "    {'Bus':3, 'P':1, 'V':1 }\n",
    "]\n",
    "Ybus = get_Ybus(Connectivity, True)\n",
    "develop_PF_Equations(Load, Generator, Ybus)"
   ]
  },
  {
   "cell_type": "markdown",
   "metadata": {},
   "source": [
    "[Back to top](#EEEN30131-Power-System-Analysis:-Week-02---Power-Flow-Formulation)"
   ]
  }
 ],
 "metadata": {
  "kernelspec": {
   "display_name": "Python 3 (ipykernel)",
   "language": "python",
   "name": "python3"
  },
  "language_info": {
   "codemirror_mode": {
    "name": "ipython",
    "version": 3
   },
   "file_extension": ".py",
   "mimetype": "text/x-python",
   "name": "python",
   "nbconvert_exporter": "python",
   "pygments_lexer": "ipython3",
   "version": "3.10.9"
  },
  "toc": {
   "base_numbering": 1,
   "nav_menu": {},
   "number_sections": true,
   "sideBar": true,
   "skip_h1_title": true,
   "title_cell": "Table of Contents",
   "title_sidebar": "Contents",
   "toc_cell": false,
   "toc_position": {
    "height": "calc(100% - 180px)",
    "left": "10px",
    "top": "150px",
    "width": "273.438px"
   },
   "toc_section_display": true,
   "toc_window_display": true
  }
 },
 "nbformat": 4,
 "nbformat_minor": 4
}
