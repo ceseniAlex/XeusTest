{
 "cells": [
  {
   "cell_type": "markdown",
   "metadata": {},
   "source": [
    "# EEEN30131 Power System Analysis: Week 06 - Examples"
   ]
  },
  {
   "cell_type": "markdown",
   "metadata": {},
   "source": [
    "***&copy; 2024 Martínez Ceseña — University of Manchester, UK***"
   ]
  },
  {
   "cell_type": "markdown",
   "metadata": {},
   "source": [
    "This notebook provides several examples covering frequency regulation and generation control, including general `python` code which can be used to solve the examples and create new ones.\n",
    "\n",
    "The use of the notebooks is optional and will not be marked. That said, you are strongly encouraged to play with the tools and examples, as such activities will better prepare you for the exams."
   ]
  },
  {
   "cell_type": "markdown",
   "metadata": {},
   "source": [
    "## List of contents"
   ]
  },
  {
   "cell_type": "markdown",
   "metadata": {},
   "source": [
    "- [Two-bus system example](#Two-bus-system-example)\n",
    "- [Power circle diagram](#Power-circle-diagram)\n",
    "- [Series compensation](#Series-compensation)\n",
    "- [Generators](#Generators)\n",
    "- [Tap-changing transformers](#Tap-changing-transformers)"
   ]
  },
  {
   "cell_type": "markdown",
   "metadata": {},
   "source": [
    "## Before we begin"
   ]
  },
  {
   "cell_type": "markdown",
   "metadata": {},
   "source": [
    "Before we begin: \n",
    "- Make sure to review the asynchronous materials provided in blackboard for EEEN30131 Week 6 - Primary voltage control \n",
    "\n",
    "This notebook builds on the materials that were presented in previous sessions. Therefore, make sure to review the asynchronous materials provided in blackboard for EEEN30131:\n",
    "  - Week 1 - Nodal analysis \n",
    "  - Week 2 - Power Flow Formulation \n",
    "  - Week 3 - Newton Raphson\n",
    "  - Week 4 - Frequency regulation\n",
    "  - Week 5 - Interconnected systems\n",
    "\n",
    "- If you have any questions, please post them in the discussion boards or, if that is not possible, send an email to alex.martinezcesena@manchester.ac.uk"
   ]
  },
  {
   "cell_type": "markdown",
   "metadata": {},
   "source": [
    "If this data notebook is being used in Jupyter lite, the folders where the python code that supports this notebook are stored, have to be enabled."
   ]
  },
  {
   "cell_type": "code",
   "execution_count": 1,
   "metadata": {},
   "outputs": [],
   "source": [
    "from pathlib import Path\n",
    "if Path.cwd().drive == '':\n",
    "    a_dir = Path(\"dir\")\n",
    "    a_dir.mkdir(exist_ok=True)"
   ]
  },
  {
   "cell_type": "markdown",
   "metadata": {},
   "source": [
    "The following libraries are required by the notebook:"
   ]
  },
  {
   "cell_type": "code",
   "execution_count": 2,
   "metadata": {},
   "outputs": [],
   "source": [
    "try:\n",
    "    import ipywidgets as widgets\n",
    "except:\n",
    "    import micropip\n",
    "    await micropip.install('ipywidgets')\n",
    "    import ipywidgets as widgets\n",
    "from ipywidgets import interact\n",
    "import cmath\n",
    "import numpy\n",
    "import matplotlib.pyplot as plt\n",
    "import math"
   ]
  },
  {
   "cell_type": "markdown",
   "metadata": {},
   "source": [
    "The notebook borrows several tools developed in previous weeks, so we need to import them here:"
   ]
  },
  {
   "cell_type": "code",
   "execution_count": 3,
   "metadata": {},
   "outputs": [],
   "source": [
    "from Code.Wk1_EEEN30131 import get_Ybus\n",
    "from Code.Wk2_EEEN30131 import get_Bus_Type, develop_PF_Equations\n",
    "from Code.Wk3_EEEN30131 import Newtons_Method\n",
    "from Code.Wk6_EEEN30131 import bfs, get_Parameters, get_power_circle, plot_circles, plot_vector, plot_phasor"
   ]
  },
  {
   "cell_type": "markdown",
   "metadata": {},
   "source": [
    "[Back to top](#EEEN30131-Power-System-Analysis:-Week-06---Examples)"
   ]
  },
  {
   "cell_type": "markdown",
   "metadata": {},
   "source": [
    "## Two-bus system example"
   ]
  },
  {
   "cell_type": "markdown",
   "metadata": {},
   "source": [
    "Consider the system presented below.\n",
    "- What can you do to adjust the voltage in bus 2?\n",
    "- What happens if the load changes or becomes negative (e.g., distributed generation)?\n",
    "- Try to keep the voltage at 0.95 pu as you change the loads, is that easy to do?"
   ]
  },
  {
   "cell_type": "markdown",
   "metadata": {},
   "source": [
    "![Week02_2Bus.png](Figures/Week02_2Bus.png)"
   ]
  },
  {
   "cell_type": "code",
   "execution_count": 4,
   "metadata": {},
   "outputs": [
    {
     "data": {
      "application/vnd.jupyter.widget-view+json": {
       "model_id": "4d0fd33717dc458ca94c93b83dc53798",
       "version_major": 2,
       "version_minor": 0
      },
      "text/plain": [
       "interactive(children=(FloatSlider(value=0.5, description='P2 pu', max=5.0, min=-5.0, step=0.01), FloatSlider(v…"
      ]
     },
     "metadata": {},
     "output_type": "display_data"
    }
   ],
   "source": [
    "@interact\n",
    "def VC_01(P = widgets.FloatSlider(min=-5,max=5,step=0.01, value=0.5,description='P2 pu'),\n",
    "         Q = widgets.FloatSlider(min=-5,max=5,step=0.01,value=0.5,description='Q2 pu'),\n",
    "         V = widgets.FloatSlider(min=0.95,max=1.05,step=0.01,value=1,description='V pu')):\n",
    "\n",
    "    Connectivity = [\n",
    "        [1, 2, complex(0, 0.1), 0]\n",
    "    ]\n",
    "    Load = [\n",
    "        [2, complex(P, Q)]\n",
    "    ]\n",
    "    Generator = [\n",
    "        {'Bus':1, 'V':V, '𝜃':0 }\n",
    "    ]\n",
    "    V_All, 𝜃_All, Threshold, Succes = bfs(Generator, Connectivity, Load)\n",
    "    for xb, V, 𝜃 in zip(range(len(V_All)), V_All, 𝜃_All):\n",
    "        print('V%d =  %7.4f ∠ %8.4f [pu][deg]'%(xb+1, V, 𝜃*180/math.pi))"
   ]
  },
  {
   "cell_type": "markdown",
   "metadata": {},
   "source": [
    "[Back to top](#EEEN30131-Power-System-Analysis:-Week-06---Examples)"
   ]
  },
  {
   "cell_type": "markdown",
   "metadata": {},
   "source": [
    "## Power circle diagram"
   ]
  },
  {
   "cell_type": "markdown",
   "metadata": {},
   "source": [
    "Use the 2-bus example and plot both power circle diagrams. Assume the impedance of the line is 0.03+j0.33 $\\Omega$. Once we **fix the voltage at the sending end**, the voltage at the receiving end will remain the same for any PQ **load** combinations (in bus 2) on the perimeter of the circle."
   ]
  },
  {
   "cell_type": "code",
   "execution_count": 5,
   "metadata": {},
   "outputs": [
    {
     "data": {
      "application/vnd.jupyter.widget-view+json": {
       "model_id": "4ee3602c04c941af858aef1b3f9e79d0",
       "version_major": 2,
       "version_minor": 0
      },
      "text/plain": [
       "interactive(children=(FloatSlider(value=0.1, description='P2 pu', max=1.0, step=0.01), FloatSlider(value=0.01,…"
      ]
     },
     "metadata": {},
     "output_type": "display_data"
    }
   ],
   "source": [
    "@interact\n",
    "def PCR_02(P = widgets.FloatSlider(min=0,max=1,step=0.01, value=0.1,description='P2 pu'),\n",
    "         Q = widgets.FloatSlider(min=-0.3,max=0.1,step=0.01,value=0.01,description='Q2 pu')):\n",
    "\n",
    "    Connectivity = [\n",
    "        [1, 2, complex(0.03, 0.33), 0]\n",
    "    ]\n",
    "    Generator = [\n",
    "        {'Bus':1, 'V':1, '𝜃':0 }\n",
    "    ]\n",
    "    Load = [\n",
    "        [2, complex(0.1, 0.01)]\n",
    "    ]\n",
    "    V_Original, _, Threshold, Succes = bfs(Generator, Connectivity, Load)\n",
    "    radius, centreR, centreS = get_power_circle(V_Original, Connectivity)\n",
    "    Vr = V_Original[1]\n",
    "    \n",
    "    Axes = [0, 1, -0.3, 0.1]\n",
    "    print('Adjust the load, especially Q2, to keep V2 at %.4f pu'%Vr)\n",
    "    Load = [\n",
    "        [2, complex(P, Q)]\n",
    "    ]\n",
    "\n",
    "    V_All, 𝜃_All, Threshold, Succes = bfs(Generator, Connectivity, Load)\n",
    "    Results = get_Parameters(Connectivity, V_All, 𝜃_All, Succes)\n",
    "    for xb, V, 𝜃 in zip(range(len(V_All)), V_All, 𝜃_All):\n",
    "        print('  V%d =  %7.4f ∠ %8.4f [pu][deg]'%(xb+1, V, 𝜃*180/math.pi))\n",
    "    \n",
    "    y1 = (radius**2 - (P - centreR[0])**2)**0.5 + centreR[1]\n",
    "    y2 = -(radius**2 - (P - centreR[0])**2)**0.5 + centreR[1]\n",
    "    print('Consider Q2 = %.4f or Q2 = %.4f'%(y1, y2))\n",
    "    PG = Results['Net_Power'][0].real/100\n",
    "    QG = Results['Net_Power'][0].imag/100\n",
    "\n",
    "    plot_circles(centreR, centreS, radius, [P, Q], [PG, QG], Axes)"
   ]
  },
  {
   "cell_type": "markdown",
   "metadata": {},
   "source": [
    "Based on the sending end power circle diagram, once we **fix the voltage at the receiving** end, the voltage at the sending end will remain the same for any PQ **generation** combinations (in bus 1) on the perimeter of the circle."
   ]
  },
  {
   "cell_type": "code",
   "execution_count": 6,
   "metadata": {},
   "outputs": [
    {
     "data": {
      "application/vnd.jupyter.widget-view+json": {
       "model_id": "1e5c9d93bf524962803fb571656738ef",
       "version_major": 2,
       "version_minor": 0
      },
      "text/plain": [
       "interactive(children=(FloatSlider(value=0.1003, description='P1 pu', max=1.0, step=0.01), FloatSlider(value=0.…"
      ]
     },
     "metadata": {},
     "output_type": "display_data"
    }
   ],
   "source": [
    "@interact\n",
    "def PCR_01(PG = widgets.FloatSlider(min=0,max=1,step=0.01, value=0.1003, description='P1 pu'),\n",
    "         QG = widgets.FloatSlider(min=0,max=0.1,step=0.001, value=0.0133, readout_format='.3f', description='Q1 pu')):\n",
    "\n",
    "    Connectivity = [\n",
    "        [1, 2, complex(0.03, 0.33), 0]\n",
    "    ]\n",
    "    Generator = [\n",
    "        {'Bus':1, 'V':1, '𝜃':0 }\n",
    "    ]\n",
    "    Load = [\n",
    "        [2, complex(0.1, 0.01)]\n",
    "    ]\n",
    "    V_Original, _, Threshold, Succes = bfs(Generator, Connectivity, Load)\n",
    "    radius, centreR, centreS = get_power_circle(V_Original, Connectivity)\n",
    "    Vr = V_Original[1]\n",
    "    Vs = V_Original[0]\n",
    "    \n",
    "    Load = [\n",
    "        [2, complex(-PG, -QG)]\n",
    "    ]\n",
    "    Generator = [\n",
    "        {'Bus':1, 'V':Vr, '𝜃':0 }\n",
    "    ]\n",
    "    Axes = [0, 1, -0.3, 0.1]\n",
    "\n",
    "    print('Adjust generation, especially Q1, to keep V1 at %.4f pu'%Vs)\n",
    "    V_All, 𝜃_All, Threshold, Succes = bfs(Generator, Connectivity, Load)\n",
    "    Results = get_Parameters(Connectivity, V_All, 𝜃_All, Succes)\n",
    "    print('  V%d =  %7.4f ∠ %8.4f [pu][deg]'%(1, V_All[1], 𝜃_All[0]*180/math.pi))\n",
    "    print('  V%d =  %7.4f ∠ %8.4f [pu][deg]'%(2, V_All[0], -1*𝜃_All[1]*180/math.pi))\n",
    "    \n",
    "    y1 = -(radius**2 - (PG - centreS[0])**2)**0.5 + centreS[1]\n",
    "    y2 = (radius**2 - (PG - centreS[0])**2)**0.5 + centreS[1]\n",
    "    print('Consider Q1 = %.4f or Q1 = %.4f'%(y1, y2))\n",
    "    P = -Results['Net_Power'][0].real/100\n",
    "    Q = -Results['Net_Power'][0].imag/100\n",
    "    plot_circles(centreR, centreS, radius, [P, Q], [PG, QG], Axes)"
   ]
  },
  {
   "cell_type": "markdown",
   "metadata": {},
   "source": [
    "The power circle diagrams and examples above can be used to explore inpacts on voltages from\n",
    "- Different types of loads, including inductive loads, reactors, capacitors, etc.\n",
    "- Traditional and distributed generators, condensers, etc."
   ]
  },
  {
   "cell_type": "markdown",
   "metadata": {},
   "source": [
    "[Back to top](#EEEN30131-Power-System-Analysis:-Week-06---Examples)"
   ]
  },
  {
   "cell_type": "markdown",
   "metadata": {},
   "source": [
    "## Series compensation"
   ]
  },
  {
   "cell_type": "markdown",
   "metadata": {},
   "source": [
    "The voltage drop across a line can be mitigated by connecting capacitors in series to the lines. This can be explored by simulating the power flows across the lines (using the tools developed in previous notebooks) subject to different line impedances. However, let us also try to visualize the effects of the impedances on the voltages using phasor diagrams.\n",
    "> Try different values for R and X and check how the voltages change."
   ]
  },
  {
   "cell_type": "code",
   "execution_count": 7,
   "metadata": {},
   "outputs": [
    {
     "data": {
      "application/vnd.jupyter.widget-view+json": {
       "model_id": "4d07b1ed31f1402eab930de064f4f1a3",
       "version_major": 2,
       "version_minor": 0
      },
      "text/plain": [
       "interactive(children=(FloatSlider(value=0.1, description='R pu', max=1.0, min=-1.0, step=0.025), FloatSlider(v…"
      ]
     },
     "metadata": {},
     "output_type": "display_data"
    }
   ],
   "source": [
    "@interact\n",
    "def Phasor_01(R = widgets.FloatSlider(min=-1,max=1,step=0.025, value=0.1, description='R pu'),\n",
    "         X = widgets.FloatSlider(min=-1,max=1,step=0.025, value=0.3, description='X pu')):\n",
    "    Connectivity = [\n",
    "        [1, 2, complex(R, X), 0]\n",
    "    ]\n",
    "    Load = [\n",
    "        [2, complex(0.1, 0.01)]\n",
    "    ]\n",
    "    Generator = [\n",
    "        {'Bus':1, 'V':1, '𝜃':0 }\n",
    "    ]\n",
    "    V_All, 𝜃_All, Threshold, Succes = bfs(Generator, Connectivity, Load)\n",
    "    if not Succes:\n",
    "        print('The model failed to converge')\n",
    "    Results = get_Parameters(Connectivity, V_All, 𝜃_All, Succes)\n",
    "    print('  V%d =  %7.4f ∠ %8.4f [pu][deg]'%(1, V_All[0], 𝜃_All[0]*180/math.pi))\n",
    "    print('  V%d =  %7.4f ∠ %8.4f [pu][deg]'%(2, V_All[1], 𝜃_All[1]*180/math.pi))\n",
    "    print('  I  =  %7.4f ∠ %8.4f [pu][deg]'%(abs(Results['Current'][0]),\n",
    "                                             cmath.phase(Results['Current'][0])*180/math.pi))\n",
    "    plot_phasor(Results, Connectivity)"
   ]
  },
  {
   "cell_type": "markdown",
   "metadata": {},
   "source": [
    "[Back to top](#EEEN30131-Power-System-Analysis:-Week-06---Examples)"
   ]
  },
  {
   "cell_type": "markdown",
   "metadata": {},
   "source": [
    "## Generators"
   ]
  },
  {
   "cell_type": "markdown",
   "metadata": {},
   "source": [
    "Synchronous generators can provide voltage support by absorbind or producing reactive power. This is achieved by the automatic voltage regulator (AVR) through adjustments of the field exitation current. A diagram of the generator is presented below."
   ]
  },
  {
   "cell_type": "markdown",
   "metadata": {},
   "source": [
    "![Week06_Generator_Phasor.png](Figures/Week06_Generator_Phasor.png)"
   ]
  },
  {
   "cell_type": "markdown",
   "metadata": {},
   "source": [
    "> Adjust the field exitation current and check how the voltage output of the generator (V) changes"
   ]
  },
  {
   "cell_type": "code",
   "execution_count": 8,
   "metadata": {},
   "outputs": [
    {
     "data": {
      "application/vnd.jupyter.widget-view+json": {
       "model_id": "b1bb90bebc694c80aaca5c2b10225dbb",
       "version_major": 2,
       "version_minor": 0
      },
      "text/plain": [
       "interactive(children=(FloatSlider(value=0.0, description='Angle I deg', max=10.0, min=-10.0, step=1.0), Output…"
      ]
     },
     "metadata": {},
     "output_type": "display_data"
    }
   ],
   "source": [
    "@interact\n",
    "def Phasor_Gen(Th = widgets.FloatSlider(min=-10,max=10,step=1, value=0, description='Angle I deg')):\n",
    "    Ik = 0.4\n",
    "    Ang = Th/180*math.pi\n",
    "    X = complex(0, 0.5)\n",
    "\n",
    "    aux = Ik/math.cos(Ang)\n",
    "    I = complex(Ik, aux*math.sin(Ang))\n",
    "\n",
    "    V = complex(1, 0)\n",
    "    IX = -I*X\n",
    "    E = V-IX\n",
    "\n",
    "    fig, ax = plt.subplots()\n",
    "    Origin = [0, 0]\n",
    "    m, _ = plot_vector(Origin, V, ax, 'V')\n",
    "    m, Er = plot_vector(Origin, E, ax, 'E')\n",
    "    m, _ = plot_vector(Er, IX, ax, 'jIX')\n",
    "    m, _ = plot_vector(Origin, I, ax, 'I')\n",
    "\n",
    "    ax.set_xlim(-0.05, 1.07)\n",
    "    ax.set_ylim(-0.1, 0.25)\n",
    "    plt.grid()\n",
    "    print('  V =  %7.4f ∠ %8.4f [pu][deg]'%(abs(V), cmath.phase(V)*180/math.pi))\n",
    "    print('  E =  %7.4f ∠ %8.4f [pu][deg]'%(abs(E), cmath.phase(E)*180/math.pi))\n",
    "    print('  I =  %7.4f ∠ %8.4f [pu][deg]'%(abs(I), cmath.phase(I)*180/math.pi))\n",
    "    if Th == 0:\n",
    "        print('Normal excitation')\n",
    "    elif Th > 0:\n",
    "        print('Under-excited')\n",
    "    else:\n",
    "        print('Overexcited')"
   ]
  },
  {
   "cell_type": "markdown",
   "metadata": {},
   "source": [
    "[Back to top](#EEEN30131-Power-System-Analysis:-Week-06---Examples)"
   ]
  },
  {
   "cell_type": "markdown",
   "metadata": {},
   "source": [
    "## Tap-changing transformers"
   ]
  },
  {
   "cell_type": "markdown",
   "metadata": {},
   "source": [
    "Tap-changing transformers can be used to provide voltage support by adjusting their turns ratio through changes to the transformer tap position."
   ]
  },
  {
   "cell_type": "markdown",
   "metadata": {},
   "source": [
    "![Week06_Transformer.png](Figures/Week06_Transformer.png)"
   ]
  },
  {
   "cell_type": "markdown",
   "metadata": {},
   "source": [
    "> Adjust the turns ratio (t) and check how the voltages change."
   ]
  },
  {
   "cell_type": "code",
   "execution_count": 9,
   "metadata": {},
   "outputs": [
    {
     "data": {
      "application/vnd.jupyter.widget-view+json": {
       "model_id": "2a97434f5b484cb0a374e9d636f0e5e1",
       "version_major": 2,
       "version_minor": 0
      },
      "text/plain": [
       "interactive(children=(FloatSlider(value=0.9055, description='t', max=1.05, min=0.85, step=0.01), Output()), _d…"
      ]
     },
     "metadata": {},
     "output_type": "display_data"
    }
   ],
   "source": [
    "@interact\n",
    "def Phasor_Gen(t = widgets.FloatSlider(min=0.85,max=1.05,step=0.01, value=0.9055, description='t')):\n",
    "\n",
    "    B = 5\n",
    "    Y = complex(0, B)\n",
    "    Ybus = [[-t**2*B, t*B],[t*B, -B ]]\n",
    "    Load = [\n",
    "        [2, complex(0.5, 0.5)]\n",
    "    ]\n",
    "    Generator = [\n",
    "        {'Bus':1, 'V':.95, '𝜃':0 }\n",
    "    ]\n",
    "\n",
    "    P_Data, Q_Data = develop_PF_Equations(Load, Generator, Ybus, True, False)\n",
    "    Bus_Data, Bus_Type = get_Bus_Type(Ybus, Load, Generator)\n",
    "    V_All, 𝜃_All, Threshold, Succes = Newtons_Method(P_Data, Q_Data, Bus_Data, Bus_Type, Generator, 0)\n",
    "    print('Vs =  %7.4f ∠ %8.4f [pu][deg]'%(V_All[0], 𝜃_All[0]*180/math.pi))\n",
    "    print('Vp =  %7.4f ∠ %8.4f [pu][deg]'%(V_All[1], 𝜃_All[1]*180/math.pi))"
   ]
  },
  {
   "cell_type": "markdown",
   "metadata": {},
   "source": [
    "[Back to top](#EEEN30131-Power-System-Analysis:-Week-06---Examples)"
   ]
  }
 ],
 "metadata": {
  "kernelspec": {
   "display_name": "Python 3 (ipykernel)",
   "language": "python",
   "name": "python3"
  },
  "language_info": {
   "codemirror_mode": {
    "name": "ipython",
    "version": 3
   },
   "file_extension": ".py",
   "mimetype": "text/x-python",
   "name": "python",
   "nbconvert_exporter": "python",
   "pygments_lexer": "ipython3",
   "version": "3.10.9"
  },
  "toc": {
   "base_numbering": 1,
   "nav_menu": {},
   "number_sections": true,
   "sideBar": true,
   "skip_h1_title": true,
   "title_cell": "Table of Contents",
   "title_sidebar": "Contents",
   "toc_cell": false,
   "toc_position": {
    "height": "calc(100% - 180px)",
    "left": "10px",
    "top": "150px",
    "width": "259.316px"
   },
   "toc_section_display": true,
   "toc_window_display": true
  }
 },
 "nbformat": 4,
 "nbformat_minor": 4
}
