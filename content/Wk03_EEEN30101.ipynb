{
 "cells": [
  {
   "cell_type": "markdown",
   "metadata": {},
   "source": [
    "# EEEN30101 Numerical Analysis"
   ]
  },
  {
   "cell_type": "markdown",
   "metadata": {},
   "source": [
    "# Week 03"
   ]
  },
  {
   "cell_type": "markdown",
   "metadata": {},
   "source": [
    "***&copy; 2024 Martínez Ceseña — University of Manchester, UK***"
   ]
  },
  {
   "cell_type": "markdown",
   "metadata": {},
   "source": [
    "This notebook introduces the three topics below:\n",
    "- Heron's algorithm - Convergence rate\n",
    "- Matrix multiplication\n",
    "- IEEE standard for floating point\n",
    "\n",
    "The use of the notebooks is optional and will not be marked. That said, you are strongly encouraged to play with the tools and examples, as you can explore different variations of the examples, which will better prepare you for the exams."
   ]
  },
  {
   "cell_type": "markdown",
   "metadata": {},
   "source": [
    "## List of contents"
   ]
  },
  {
   "cell_type": "markdown",
   "metadata": {},
   "source": [
    "- [Convergence rate of Heron's algorithm](#Convergence-rate-of-Heron's-algorithm)\n",
    "  - [Estimating the relative error](#Estimating-the-relative-error)  \n",
    "  - [Analysing the relative error equations](#Analysing-the-relative-error-equations)\n",
    "  - [Estimating convergence rate](#Estimating-convergence-rate)\n",
    "\n",
    "\n",
    "- [Matrix multiplication](#Matrix-multiplication)\n",
    "  - [Basic theory](#Basic-theory)\n",
    "  - [Algorithms](#Algorithms)\n",
    "\n",
    "\n",
    "- [IEEE for floating point](#IEEE-for-floating-point)\n",
    "  - [Binary and hexadecimal numbers](#Binary-and-hexadecimal-numbers)\n",
    "  - [Converting integer decimal numbers](#Converting-integer-decimal-numbers)\n",
    "  - [Converting fractional decimal numbers](#Converting-fractional-decimal-numbers)\n",
    "  - [64 bits representation](#64-bits-representation)\n",
    "  - [Examples of 64 bit numbers](#Examples-of-64-bit-numbers)\n",
    "  - [Converting decimal numbers](#Converting-decimal-numbers)\n",
    "\n",
    "\n",
    "- [Conclusion](#Conclusion)"
   ]
  },
  {
   "cell_type": "markdown",
   "metadata": {},
   "source": [
    "## Before we begin"
   ]
  },
  {
   "cell_type": "markdown",
   "metadata": {},
   "source": [
    "Before we begin: \n",
    "- Make sure to review the asynchronous materials provided in blackboard for EEEN30101 Week 3 \n",
    "- If you have any questions, please post them in the discussion boards or, if that is not possible, send an email to alex.martinezcesena@manchester.ac.uk"
   ]
  },
  {
   "cell_type": "markdown",
   "metadata": {},
   "source": [
    "This notebook provides some examples in python, for that purpose the following libraries will be loaded:"
   ]
  },
  {
   "cell_type": "code",
   "execution_count": 1,
   "metadata": {},
   "outputs": [],
   "source": [
    "import math  # To use mathematical operation\n",
    "import numpy  # To define and use matrices\n",
    "\n",
    "try:\n",
    "    import ipywidgets as widgets\n",
    "except:\n",
    "    import micropip\n",
    "    await micropip.install('ipywidgets')\n",
    "    import ipywidgets as widgets\n",
    "from ipywidgets import interact"
   ]
  },
  {
   "cell_type": "markdown",
   "metadata": {},
   "source": [
    "[Back to top](#EEEN30101-Numerical-Analysis)"
   ]
  },
  {
   "cell_type": "markdown",
   "metadata": {},
   "source": [
    "## Convergence rate of Heron's algorithm"
   ]
  },
  {
   "cell_type": "markdown",
   "metadata": {},
   "source": [
    "So far, we have explored the results and conditions for Heron's algorighm to converge. It is time to finalise our analysis of this algorithm by exploring its convergence rate."
   ]
  },
  {
   "cell_type": "markdown",
   "metadata": {},
   "source": [
    "### Estimating the relative error"
   ]
  },
  {
   "cell_type": "markdown",
   "metadata": {},
   "source": [
    "As a reminder, the equation used for Heron's algorithm is:\n",
    "\n",
    "$$ x_{k+1} = \\frac{1}{2} \\left( x_k + \\frac{S}{x_k} \\right) $$\n",
    "\n",
    "We also know that, for the algorithm to converge, we need:\n",
    "$$S > 0 $$\n",
    "$$x_k > 0 $$"
   ]
  },
  {
   "cell_type": "markdown",
   "metadata": {},
   "source": [
    "As we know that the solution of the algorithm should be $\\sqrt{S}$, we can define our relative error at an iteration as:\n",
    "\n",
    "$$\\varepsilon_k = \\frac{x_k-\\sqrt{S}}{\\sqrt{S}}$$\n",
    "\n",
    "The equation can be rewritten as:\n",
    "\n",
    "$$x_k = \\sqrt{S} (1+\\varepsilon_k)$$"
   ]
  },
  {
   "cell_type": "markdown",
   "metadata": {},
   "source": [
    "We can apply our new equation to Heron's algorithm to get:\n",
    "\n",
    "$$\n",
    "\\begin{aligned}\n",
    "  x_{k+1} & = \\frac{1}{2} \\left( x_k + \\frac{S}{x_k} \\right) \\\\\n",
    "   & = \\frac{1}{2} \\left( \\sqrt{S} (1+\\varepsilon_k) + \\frac{S}{\\sqrt{S} (1+\\varepsilon_k)} \\right) \\\\ \n",
    "   & = \\frac{\\sqrt{S}}{2} \\left( 1 + \\varepsilon_k + \\frac{1}{1+\\varepsilon_k}\\right) \\\\\n",
    "   & = \\frac{\\sqrt{S}}{2} \\frac{(1 + \\varepsilon_k)^2+1}{1+\\varepsilon_k}\n",
    "\\end{aligned}\n",
    "$$"
   ]
  },
  {
   "cell_type": "markdown",
   "metadata": {},
   "source": [
    "Now, if we consider that the evolution of the error (e.g., when iterating from $x_k$ to $x_{k+1}$) can be defined as:\n",
    "\n",
    "$$\\varepsilon_{k+1} = \\frac{x_{k+1}-\\sqrt{S}}{\\sqrt{S}}$$"
   ]
  },
  {
   "cell_type": "markdown",
   "metadata": {},
   "source": [
    "And we replace $x_{k+1}$ with the equation we just developed to obtain:\n",
    "\n",
    "$$\n",
    "\\begin{aligned}\n",
    "  \\varepsilon_{k+1} & = \\frac{x_{k+1}-\\sqrt{S}}{\\sqrt{S}} \\\\\n",
    "   & = \\frac{\\frac{\\sqrt{S}}{2} \\frac{(1 + \\varepsilon_k)^2+1}{1+\\varepsilon_k}-\\sqrt{S}}{\\sqrt{S}} \\\\\n",
    "   & = \\frac{1}{2} \\frac{(1 + \\varepsilon_k)^2+1}{1+\\varepsilon_k}-1 \\\\\n",
    "   & = \\frac{(1 + \\varepsilon_k)^2+1-2(1+\\varepsilon_k)}{2(1+\\varepsilon_k)} \\\\\n",
    "   & = \\frac{1 + 2\\varepsilon_k+\\varepsilon_k^2+1-2-2\\varepsilon_k}{2(1+\\varepsilon_k)} \\\\\n",
    "   & = \\frac{\\varepsilon_k^2}{2(1+\\varepsilon_k)} \n",
    "\\end{aligned}\n",
    "$$"
   ]
  },
  {
   "cell_type": "markdown",
   "metadata": {},
   "source": [
    "[Back to top](#EEEN30101-Numerical-Analysis)"
   ]
  },
  {
   "cell_type": "markdown",
   "metadata": {},
   "source": [
    "### Analysing the relative error equations"
   ]
  },
  {
   "cell_type": "markdown",
   "metadata": {},
   "source": [
    "We can make the following observations about the equations developed above:"
   ]
  },
  {
   "cell_type": "markdown",
   "metadata": {},
   "source": [
    "- Based on our notes from the past weeks, we know that $x_0$ has to be greater than zero for the algorithm to converge, and all the estimated values of our solution across the different iterations will be greater than zero. That is:\n",
    "\n",
    "$$ x_k > 0 \\;\\;\\; \\forall k \\geq 0 $$"
   ]
  },
  {
   "cell_type": "markdown",
   "metadata": {},
   "source": [
    "- If our relative error ($\\varepsilon_k$) is greater than zero, the error in the next iteration ($\\varepsilon_k$) will also be greater than zero:\n",
    "\n",
    "$$ \\varepsilon_{k+1} = \\frac{\\varepsilon_k^2}{2(1+\\varepsilon_k)} > 0 \\;\\;\\; \\forall \\varepsilon_k>0 $$"
   ]
  },
  {
   "cell_type": "markdown",
   "metadata": {},
   "source": [
    "- Since $x_0 > 0$,  $\\varepsilon_k$ must be greater than $-1$, all relative errors from further iterations must be greater than zero:\n",
    "\n",
    "$$\\varepsilon_0 = \\frac{x_0-\\sqrt{S}}{\\sqrt{S}} > -1 \\;\\;\\; \\forall x_0 > 0$$\n",
    "\n",
    "$$ \\varepsilon_1 = \\frac{\\varepsilon_0^2}{2(1+\\varepsilon_0)} > 0 \\;\\;\\; \\forall \\varepsilon_0>-1 $$"
   ]
  },
  {
   "cell_type": "markdown",
   "metadata": {},
   "source": [
    "If this is unclear, use the python methods below to analyse the behaviour of these equations:"
   ]
  },
  {
   "cell_type": "code",
   "execution_count": 2,
   "metadata": {},
   "outputs": [
    {
     "data": {
      "application/vnd.jupyter.widget-view+json": {
       "model_id": "d289973a02b3475485e8540ceef50714",
       "version_major": 2,
       "version_minor": 0
      },
      "text/plain": [
       "interactive(children=(FloatSlider(value=1.0, continuous_update=False, description='x0', max=10.0, min=-10.0), …"
      ]
     },
     "metadata": {},
     "output_type": "display_data"
    }
   ],
   "source": [
    "@interact\n",
    "def TestError0(x0 = widgets.FloatSlider(min=-10, max=10, value=1, description='x0', continuous_update=False),\n",
    "              S = widgets.FloatSlider(min=0.0001, max=100, value=10, description='S', continuous_update=False),):\n",
    "    \n",
    "    e0 = (x0-math.sqrt(S))/math.sqrt(S)\n",
    "    \n",
    "    print('As long as x0>0, the value of 𝜀0 will be greater than -1\\n')\n",
    "    print('Testing 𝜀0 = (x0-√S)/√S')\n",
    "    print('The value of 𝜀0 is %.4f:'%e0)"
   ]
  },
  {
   "cell_type": "code",
   "execution_count": 3,
   "metadata": {},
   "outputs": [
    {
     "data": {
      "application/vnd.jupyter.widget-view+json": {
       "model_id": "3e8f90ff6c7d49efbb2098b4b1416174",
       "version_major": 2,
       "version_minor": 0
      },
      "text/plain": [
       "interactive(children=(FloatSlider(value=1.0, continuous_update=False, description='𝜀0', max=2.0, min=-2.0), Ou…"
      ]
     },
     "metadata": {},
     "output_type": "display_data"
    }
   ],
   "source": [
    "@interact\n",
    "def TestError1(e0 = widgets.FloatSlider(min=-2, max=2, value=1, description='𝜀0', continuous_update=False)):\n",
    "    \n",
    "    if e0 == -1:\n",
    "        print('Undefined, divided by zero')\n",
    "    else:\n",
    "        e1 = e0**2/2/(1+e0)\n",
    "\n",
    "        print('As long as 𝜀0>-1, the value of 𝜀1 will be greater than 0\\n')\n",
    "        print('Testing 𝜀1 = (e0^2/2/(1+e0)')\n",
    "        print('The value of 𝜀1 is %.4f:'%e1)"
   ]
  },
  {
   "cell_type": "markdown",
   "metadata": {},
   "source": [
    "Based on the equations and analysis above:\n",
    "\n",
    "$$ \\varepsilon_k >0 \\;\\;\\; \\forall k \\geq1 $$"
   ]
  },
  {
   "cell_type": "markdown",
   "metadata": {},
   "source": [
    "[Back to top](#EEEN30101-Numerical-Analysis)"
   ]
  },
  {
   "cell_type": "markdown",
   "metadata": {},
   "source": [
    "### Estimating convergence rate"
   ]
  },
  {
   "cell_type": "markdown",
   "metadata": {},
   "source": [
    "Let us rewrite the relative error equation as follows:\n",
    "$$\n",
    "\\begin{aligned}\n",
    "  \\varepsilon_{k+1} & = \\frac{\\varepsilon_k^2}{2(1+\\varepsilon_k)} \\\\\n",
    "   & = \\left(\\frac{1}{1+\\varepsilon_k} \\right) \\left( \\frac{\\varepsilon_k^2}{2} \\right)\n",
    "\\end{aligned}\n",
    "$$"
   ]
  },
  {
   "cell_type": "markdown",
   "metadata": {},
   "source": [
    "We will now find two expressions of $1/(1+\\varepsilon_k)$:\n",
    "\n",
    "1) Considering that $\\varepsilon_k >0$, we should know that:\n",
    "\n",
    "$$ \\frac{1}{1+\\varepsilon_k} < 1 \\;\\;\\; \\forall \\varepsilon_k >0$$\n",
    "\n",
    "&nbsp; &nbsp; Therefore, we can conclude that we will have quadratic convergence (i.e., fast convergence when $\\varepsilon_{k} <1$) because:\n",
    "\n",
    "$$ \\varepsilon_{k+1} < \\frac{\\varepsilon_k^2}{2} $$"
   ]
  },
  {
   "cell_type": "markdown",
   "metadata": {},
   "source": [
    "2) Now consider:\n",
    "\n",
    "$$ \\frac{1}{1+\\varepsilon_k} < \\frac{1}{\\varepsilon_k}$$\n",
    "\n",
    "&nbsp; &nbsp; Therefore, we can guarantee convergence (i.e., the error is iteratively decreasing) because:\n",
    "\n",
    "$$\n",
    "\\begin{aligned}\n",
    "  \\varepsilon_{k+1} & < \\frac{1}{\\varepsilon_k} \\left( \\frac{\\varepsilon_k^2}{2} \\right) \\\\\n",
    "   & < \\frac{\\varepsilon_k}{2}\n",
    "\\end{aligned}\n",
    "$$\n"
   ]
  },
  {
   "cell_type": "markdown",
   "metadata": {},
   "source": [
    "Let us illustrate the convergence rate of Heron's algorithm using the python method below."
   ]
  },
  {
   "cell_type": "code",
   "execution_count": 4,
   "metadata": {},
   "outputs": [
    {
     "data": {
      "application/vnd.jupyter.widget-view+json": {
       "model_id": "b1e91533fbfa4616bc17fe913780c93b",
       "version_major": 2,
       "version_minor": 0
      },
      "text/plain": [
       "interactive(children=(FloatText(value=2.0, description='S'), FloatText(value=1.0, description='x0'), Output())…"
      ]
     },
     "metadata": {},
     "output_type": "display_data"
    }
   ],
   "source": [
    "@interact\n",
    "def Heron(S=widgets.FloatText(min=0, value=2, description='S'),\n",
    "          x=widgets.FloatText(min=0.0001, value=1, description='x0')):\n",
    "\n",
    "    Threshold = 0.00001\n",
    "    Error = 1000\n",
    "    print('         S         xk        𝜀k:')\n",
    "\n",
    "    iterations = 0\n",
    "    while Error > Threshold:\n",
    "        e = (x-math.sqrt(S))/math.sqrt(S)\n",
    "        print('%10.4f %10.4f %10.6f'%(S, x, e))\n",
    "\n",
    "        iterations+=1\n",
    "        x0 = (x+S/x)/2\n",
    "        Error = abs(x-x0)\n",
    "\n",
    "        x = x0\n",
    "        \n",
    "        if iterations >=100:\n",
    "            Error = 0\n",
    "    \n",
    "    if iterations <100:\n",
    "        print('Converged after %d iterations'%iterations)\n",
    "    else:\n",
    "        print('Failed to converge after %d iterations'%iterations)"
   ]
  },
  {
   "cell_type": "markdown",
   "metadata": {},
   "source": [
    "><mark>Even if the relative error is negative in the first iteration, it turns positive for all subsequent iterations</mark>"
   ]
  },
  {
   "cell_type": "markdown",
   "metadata": {},
   "source": [
    "[Back to top](#EEEN30101-Numerical-Analysis)"
   ]
  },
  {
   "cell_type": "markdown",
   "metadata": {},
   "source": [
    "## Matrix multiplication"
   ]
  },
  {
   "cell_type": "markdown",
   "metadata": {},
   "source": [
    "### Basic theory"
   ]
  },
  {
   "cell_type": "markdown",
   "metadata": {},
   "source": [
    "This section provides some basic algorithms to multiply matrices."
   ]
  },
  {
   "cell_type": "markdown",
   "metadata": {},
   "source": [
    "Before we begin, it is convenient to illustrate some rules for matrix multiplications. Assume you have two matrices\n",
    "- a matrix $\\underline{\\underline{A}}$ with $N$ rows and $M$ columns\n",
    "- a matrix $\\underline{\\underline{B}}$ with $P$ rows and $Q$ columns"
   ]
  },
  {
   "cell_type": "markdown",
   "metadata": {},
   "source": [
    "The matrix multiplication $\\underline{\\underline{A}} \\; \\underline{\\underline{B}}$ can be performed if the number of columns of $A$ and the number of rows of $B$ are the same (i.e., $M=P$).\n",
    "\n",
    "The output of the matrix multiplication will be a matrix (e.g., $C$) with $N$ rows and $Q$ columns."
   ]
  },
  {
   "cell_type": "markdown",
   "metadata": {},
   "source": [
    "Now that we know if the matrices can be multiplied, the equation to perform the multiplication is as follows:\n",
    "\n",
    "$$C_{n,q} = \\sum_{m=1}^{m=M}({A_{n,m}B_{m,q}})  \\;\\;\\; \\forall_{n=1...N, q=1...Q}$$"
   ]
  },
  {
   "cell_type": "markdown",
   "metadata": {},
   "source": [
    "[Back to top](#EEEN30101-Numerical-Analysis)"
   ]
  },
  {
   "cell_type": "markdown",
   "metadata": {},
   "source": [
    "### Algorithms"
   ]
  },
  {
   "cell_type": "markdown",
   "metadata": {},
   "source": [
    "Let us now create an algorithm to apply the above equation for the multiplication of two matrices."
   ]
  },
  {
   "cell_type": "markdown",
   "metadata": {},
   "source": [
    "**Algorithm 1:**\n",
    "\n",
    "`SET C(n, q) = 0 FOR n=1 to N and FOR q=1:Q`<br/><br/>\n",
    "`FOR n=1:N`<br/>\n",
    "`    FOR q=1:Q`<br/>\n",
    "`        FOR m=1:M`<br/>\n",
    "`            C(n,q) = C{n,q) + A(n,m)*B(m,q)`<br/>\n",
    "`        END FOR`<br/>\n",
    "`    END FOR`<br/>\n",
    "`END FOR`"
   ]
  },
  {
   "cell_type": "markdown",
   "metadata": {},
   "source": [
    "To test this algorithm, let us create two matrices that can be multiplied:"
   ]
  },
  {
   "cell_type": "code",
   "execution_count": 5,
   "metadata": {},
   "outputs": [],
   "source": [
    "A =[[1, 2, 3], [4, 5, 6]]  # A is a 2x3 matrix\n",
    "B =[[7, 8, 9, 10], [11, 12, 13, 14], [15, 16, 17, 18]]  # B is a3x4 matrix"
   ]
  },
  {
   "cell_type": "markdown",
   "metadata": {},
   "source": [
    "The python method below is used to display the process used to multiply the matrices."
   ]
  },
  {
   "cell_type": "code",
   "execution_count": 6,
   "metadata": {},
   "outputs": [
    {
     "name": "stdout",
     "output_type": "stream",
     "text": [
      "A row 1 * B column 1\n",
      "C[1][1] =   1.00*  7.00 +   2.00* 11.00 +   3.00* 15.00 + \b\b =  74.00\n",
      "A row 1 * B column 2\n",
      "C[1][2] =   1.00*  8.00 +   2.00* 12.00 +   3.00* 16.00 + \b\b =  80.00\n",
      "A row 1 * B column 3\n",
      "C[1][3] =   1.00*  9.00 +   2.00* 13.00 +   3.00* 17.00 + \b\b =  86.00\n",
      "A row 1 * B column 4\n",
      "C[1][4] =   1.00* 10.00 +   2.00* 14.00 +   3.00* 18.00 + \b\b =  92.00\n",
      "\n",
      "A row 2 * B column 1\n",
      "C[2][1] =   4.00*  7.00 +   5.00* 11.00 +   6.00* 15.00 + \b\b = 173.00\n",
      "A row 2 * B column 2\n",
      "C[2][2] =   4.00*  8.00 +   5.00* 12.00 +   6.00* 16.00 + \b\b = 188.00\n",
      "A row 2 * B column 3\n",
      "C[2][3] =   4.00*  9.00 +   5.00* 13.00 +   6.00* 17.00 + \b\b = 203.00\n",
      "A row 2 * B column 4\n",
      "C[2][4] =   4.00* 10.00 +   5.00* 14.00 +   6.00* 18.00 + \b\b = 218.00\n",
      "\n",
      "\n",
      "C =\n",
      " [[ 74.  80.  86.  92.]\n",
      " [173. 188. 203. 218.]]\n"
     ]
    }
   ],
   "source": [
    "def Algorithm1(A, B):\n",
    "    N = len(A)  # Number of rows of A\n",
    "    M = len(A[0])  # Number of columns of A\n",
    "\n",
    "    P = len(B)  # Number of rows of B\n",
    "    Q = len(B[0])  # Number of columns of B\n",
    "    \n",
    "    C = numpy.zeros((N, Q))  # set x(i) = 0 for i=1 to N\n",
    "    for n in range(N):\n",
    "        for q in range(Q):\n",
    "            print('A row %d * B column %d'%(n+1,q+1))\n",
    "            print('C[%d][%d] = '%(n+1,q+1), end='')\n",
    "            for m in range(M):\n",
    "                print('%6.2f*%6.2f + '%(A[n][m],B[m][q]), end ='')\n",
    "                C[n][q] += A[n][m]*B[m][q]\n",
    "            print('\\b\\b = %6.2f\\n'%C[n][q], end='')\n",
    "        print()\n",
    "\n",
    "    return C\n",
    "       \n",
    "C = Algorithm1(A, B)\n",
    "print('\\nC =\\n',C)"
   ]
  },
  {
   "cell_type": "markdown",
   "metadata": {},
   "source": [
    "As shown in the simulations, this particular algorithm:\n",
    "- processes $\\underline{\\underline{A}}$ one row at a time, \n",
    "- and calculates a full element of $\\underline{\\underline{C}}$ before calculating the next one"
   ]
  },
  {
   "cell_type": "markdown",
   "metadata": {},
   "source": [
    "[Back to top](#EEEN30101-Numerical-Analysis)"
   ]
  },
  {
   "cell_type": "markdown",
   "metadata": {},
   "source": [
    "Let us now try another algorithm. This time, let us swap the first two loops."
   ]
  },
  {
   "cell_type": "code",
   "execution_count": 7,
   "metadata": {},
   "outputs": [
    {
     "name": "stdout",
     "output_type": "stream",
     "text": [
      "A row 1 * B column 1\n",
      "C[1][1] =   1.00*  7.00 +   2.00* 11.00 +   3.00* 15.00 + \b\b =  74.00\n",
      "A row 2 * B column 1\n",
      "C[2][1] =   4.00*  7.00 +   5.00* 11.00 +   6.00* 15.00 + \b\b = 173.00\n",
      "\n",
      "A row 1 * B column 2\n",
      "C[1][2] =   1.00*  8.00 +   2.00* 12.00 +   3.00* 16.00 + \b\b =  80.00\n",
      "A row 2 * B column 2\n",
      "C[2][2] =   4.00*  8.00 +   5.00* 12.00 +   6.00* 16.00 + \b\b = 188.00\n",
      "\n",
      "A row 1 * B column 3\n",
      "C[1][3] =   1.00*  9.00 +   2.00* 13.00 +   3.00* 17.00 + \b\b =  86.00\n",
      "A row 2 * B column 3\n",
      "C[2][3] =   4.00*  9.00 +   5.00* 13.00 +   6.00* 17.00 + \b\b = 203.00\n",
      "\n",
      "A row 1 * B column 4\n",
      "C[1][4] =   1.00* 10.00 +   2.00* 14.00 +   3.00* 18.00 + \b\b =  92.00\n",
      "A row 2 * B column 4\n",
      "C[2][4] =   4.00* 10.00 +   5.00* 14.00 +   6.00* 18.00 + \b\b = 218.00\n",
      "\n",
      "\n",
      "C =\n",
      " [[ 74.  80.  86.  92.]\n",
      " [173. 188. 203. 218.]]\n"
     ]
    }
   ],
   "source": [
    "def Algorithm1(A, B):\n",
    "    N = len(A)  # Number of rows of A\n",
    "    M = len(A[0])  # Number of columns of A\n",
    "\n",
    "    P = len(B)  # Number of rows of B\n",
    "    Q = len(B[0])  # Number of columns of B\n",
    "    \n",
    "    C = numpy.zeros((N, Q))  # set x(i) = 0 for i=1 to N\n",
    "    for q in range(Q):\n",
    "        for n in range(N):\n",
    "            print('A row %d * B column %d'%(n+1,q+1))\n",
    "            print('C[%d][%d] = '%(n+1,q+1), end='')\n",
    "            for m in range(M):\n",
    "                print('%6.2f*%6.2f + '%(A[n][m],B[m][q]), end ='')\n",
    "                C[n][q] += A[n][m]*B[m][q]\n",
    "            print('\\b\\b = %6.2f\\n'%C[n][q], end='')\n",
    "        print()\n",
    "\n",
    "    return C\n",
    "       \n",
    "C = Algorithm1(A, B)\n",
    "print('\\nC =\\n',C)"
   ]
  },
  {
   "cell_type": "markdown",
   "metadata": {},
   "source": [
    "As shown in the simulations, this particular algorithm:\n",
    "- provides the same output as **Algorithm1**\n",
    "- uses the same number of flops as **Algorithm1**\n",
    "- processes $\\underline{\\underline{B}}$ one column at a time, \n",
    "- and calculates a full element of $\\underline{\\underline{C}}$ before calculating the next one"
   ]
  },
  {
   "cell_type": "markdown",
   "metadata": {},
   "source": [
    "We can produce more variations of the algorithm to produce the same results with the same number of flops.\n",
    "\n",
    "However the algorithms are not equivalent even if they produce the same results at the cost of the same number of flops.\n",
    "\n",
    "This is because, for some applications, when manipulating an array (e.g., a matrix) switching between rows may be more efficient than switching between rows. For example, as the elements of arrays are stored in computer memory in the order of their columns, thus moving across columns of an array tends to be more computationally efficient."
   ]
  },
  {
   "cell_type": "markdown",
   "metadata": {},
   "source": [
    "><mark>The efficiency of addressing arrays across rows or columns can be different</mark>"
   ]
  },
  {
   "cell_type": "markdown",
   "metadata": {},
   "source": [
    "[Back to top](#EEEN30101-Numerical-Analysis)"
   ]
  },
  {
   "cell_type": "markdown",
   "metadata": {},
   "source": [
    "## IEEE for floating point"
   ]
  },
  {
   "cell_type": "markdown",
   "metadata": {},
   "source": [
    "In this section, we will review how numbers are store in computers using 64 bits according to the standards set by the Institute of Electrical and Electronic Engineers (IEEE)."
   ]
  },
  {
   "cell_type": "markdown",
   "metadata": {},
   "source": [
    "### Binary and hexadecimal numbers"
   ]
  },
  {
   "cell_type": "markdown",
   "metadata": {},
   "source": [
    "Before we begin, it is important to remember how binary and hexadecimal numbers work."
   ]
  },
  {
   "cell_type": "markdown",
   "metadata": {},
   "source": [
    "Binary numbers offer use binary digits called bits, which offer the smallest unit of data as each bit can only store either $1$ or $0$.\n",
    "\n",
    "$$0 = 0$$\n",
    "\n",
    "$$1 = 1$$"
   ]
  },
  {
   "cell_type": "markdown",
   "metadata": {},
   "source": [
    "In order to represent larger numbers, we need to place more and more digits together. For example, to model up to 16 values (from $0$ to $15$) we need four bits as presented below:\n",
    "\n",
    "|   |   |   |   |\n",
    "|---|---|---|---|\n",
    "| 0 = 0000  | 4 = 0100  | 8 = 1000  | 12 = 1100  |\n",
    "| 1 = 0001  | 5 = 0101  | 9 = 1001  | 13 = 1101  |\n",
    "| 2 = 0010  | 6 = 0110  | 10 = 1010  | 14 = 1110  |\n",
    "| 3 = 0011  | 7 = 0111  | 11 = 1011  | 15 = 1111  |"
   ]
  },
  {
   "cell_type": "markdown",
   "metadata": {},
   "source": [
    "From the examples presented so far, you may be able to deduce that, considering that up to $2$ numbers can be represented per bit, you can convert bits to integer decimal numbers with the following equation (Note that $N$ is the number of bits in the list): \n",
    "\n",
    "$$Integers = \\sum_{bit=1}^{bit=Number \\; of \\; bits}{Binary_{bit}(2)^{Number \\; of \\; bits-bit}}$$"
   ]
  },
  {
   "cell_type": "markdown",
   "metadata": {},
   "source": [
    "Use the python method below to test how to convert different binary numbers to integer decimal numbers.\n",
    "- Can you replicate the numbers in the table?\n",
    "- Can you model larger numbers, e.g., decimal 100?"
   ]
  },
  {
   "cell_type": "code",
   "execution_count": 8,
   "metadata": {},
   "outputs": [
    {
     "data": {
      "application/vnd.jupyter.widget-view+json": {
       "model_id": "4f7c997deb504220860958df9f91ef32",
       "version_major": 2,
       "version_minor": 0
      },
      "text/plain": [
       "interactive(children=(Text(value='1111', description='Bits:'), Output()), _dom_classes=('widget-interact',))"
      ]
     },
     "metadata": {},
     "output_type": "display_data"
    }
   ],
   "source": [
    "def Digit2Decimal(bits, base=2, step=-1):\n",
    "    '''Calculate value of a binary list (bits)'''\n",
    "    No = len(bits)\n",
    "    decimal = 0\n",
    "    y = 0\n",
    "    if step<0:\n",
    "        y = No\n",
    "    for x in range(No):\n",
    "        y += step\n",
    "        decimal += bits[x]*base**y\n",
    "\n",
    "    return decimal\n",
    "\n",
    "@interact\n",
    "def TestError0(string = widgets.Text(value='1111', description='Bits:', disabled=False)):\n",
    "    bits = [int(string[x]) for x in range(len(string))]\n",
    "    print('Integer:', Digit2Decimal(bits))"
   ]
  },
  {
   "cell_type": "markdown",
   "metadata": {},
   "source": [
    "From the simulations, it should be clear that the binary format requires a large number of digits (bits in binary) to represent large decimal numbers. For example 7 bits are needed to model the number 100 (Decimal 100 = Binary 1100100).\n",
    "\n",
    "To reduce the number of digits needed to represent large numbers, we can use hexadecimal numbers where a single digit can represent up to 16 decimal numbers or 4 bits as shown in the table below:\n",
    "\n",
    "|   |   |   |   |\n",
    "|---|---|---|---|\n",
    "| 0 = 0000 = 0  | 4 = 0100 = 4  | 8 = 1000 = 8  | 12 = 1100 = C  |\n",
    "| 1 = 0001 = 1  | 5 = 0101 = 5  | 9 = 1001 = 9  | 13 = 1101 = D  |\n",
    "| 2 = 0010 = 2  | 6 = 0110 = 6  | 10 = 1010 = A  | 14 = 1110 = E  |\n",
    "| 3 = 0011 = 3  | 7 = 0111 = 7  | 11 = 1011 = B  | 15 = 1111 = F  |"
   ]
  },
  {
   "cell_type": "markdown",
   "metadata": {},
   "source": [
    "[Back to top](#EEEN30101-Numerical-Analysis)"
   ]
  },
  {
   "cell_type": "markdown",
   "metadata": {},
   "source": [
    "Now considering that up to $16$ numbers can be represented per hexadecimal digit, you can convert hexadecimal to integer decimal numbers with the following equation (Note that $N$ is the number of digits in the hexadecimal list): \n",
    "\n",
    "$$Integer = \\sum_{digit=1}^{digit=Number \\; of \\; digits}{Hexadecimal_{bit}(16)^{Number \\; of \\; digits-digit}}$$"
   ]
  },
  {
   "cell_type": "markdown",
   "metadata": {},
   "source": [
    "Use the python method below to test how to convert different hexadecimal numbers to decimal.\n",
    "- Can you replicate the numbers in the table?\n",
    "- What is the largest number that you can represent with four hexadecimal digits?\n",
    "- Can you model larger numbers, e.g., decimal 100?"
   ]
  },
  {
   "cell_type": "markdown",
   "metadata": {},
   "source": [
    "[Back to top](#EEEN30101-Numerical-Analysis)"
   ]
  },
  {
   "cell_type": "code",
   "execution_count": 9,
   "metadata": {},
   "outputs": [
    {
     "data": {
      "application/vnd.jupyter.widget-view+json": {
       "model_id": "525126c595f340e38a88c7b0df378396",
       "version_major": 2,
       "version_minor": 0
      },
      "text/plain": [
       "interactive(children=(Text(value='ffff', description='Hexadecimal:'), Output()), _dom_classes=('widget-interac…"
      ]
     },
     "metadata": {},
     "output_type": "display_data"
    }
   ],
   "source": [
    "def valueHex(str):\n",
    "    '''Conver hex digit to value 0-15'''\n",
    "    h = ord(str)\n",
    "    if h > 96:\n",
    "        h -= 87\n",
    "    elif h > 64:\n",
    "        h -= 55\n",
    "    else:\n",
    "        h -= 48\n",
    "\n",
    "    return h\n",
    "\n",
    "def printDigits(str, space=4):\n",
    "    '''Print series of digits'''\n",
    "    No = len(str)\n",
    "    x = math.fmod(No, space)\n",
    "    if x > 0:\n",
    "        x = space - x\n",
    "    for i in range(No):\n",
    "        x += 1\n",
    "        print('%c'%str[i], end='')\n",
    "        if x>=space:\n",
    "            print(end=' ')\n",
    "            x = 0\n",
    "@interact\n",
    "def TestError0(string = widgets.Text(value='ffff', description='Hexadecimal:', disabled=False)):\n",
    "    digits = [valueHex(string[x]) for x in range(len(string))]\n",
    "    print('Decimal: ', end='')\n",
    "    printDigits(str(Digit2Decimal(digits, 16)), 3)\n",
    "    print()"
   ]
  },
  {
   "cell_type": "markdown",
   "metadata": {},
   "source": [
    "From the outputs of the simulations, it can be concluded that large decimal numbers can be represented with a few hexadecimal digits. For example:\n",
    "\n",
    "$$Integer \\; 100 = Hexadecimal \\; 64$$\n",
    "\n",
    "$$Integer \\; 65535 = Hexadecimal \\; ffff$$"
   ]
  },
  {
   "cell_type": "markdown",
   "metadata": {},
   "source": [
    "After developing the equations for binary ($Base=2$) and hexadecimal ($Base=16$), we can develop the following general equation to convert digits in different bases to decimal:\n",
    "\n",
    "$$Integer = \\sum_{digit=1}^{digit=Number \\; of \\; digits}{Digits_{bit}(Base)^{Number \\; of \\; digits-digit}}$$"
   ]
  },
  {
   "cell_type": "markdown",
   "metadata": {},
   "source": [
    "As a final step, we will present the formula to convert binary, hexadecimal and other digits to fractional decimal numbers (the only difference is the exponent of the base):\n",
    "\n",
    "$$Fractional = \\sum_{digit=1}^{digit=Number \\; of \\; digits}{Digits_{bit}(Base)^{digit}}$$\n"
   ]
  },
  {
   "cell_type": "markdown",
   "metadata": {},
   "source": [
    "Now that we can convert digits in different bases into integer and fractional decimal numbers, use the following python method to investigate the following:\n",
    "- What is the decimal value of the digits 1111 on a base of 2, 16, 1/2 and 1/16?\n",
    "- Can you get a fractional number using digits and a base of 2?\n",
    "- Can you get an integer number using digits and a base of 1/2?"
   ]
  },
  {
   "cell_type": "code",
   "execution_count": 10,
   "metadata": {},
   "outputs": [
    {
     "data": {
      "application/vnd.jupyter.widget-view+json": {
       "model_id": "900edc363d31422f83c8c61e59cea399",
       "version_major": 2,
       "version_minor": 0
      },
      "text/plain": [
       "interactive(children=(Text(value='1111', description='Digits:'), Dropdown(description='Base:', index=2, option…"
      ]
     },
     "metadata": {},
     "output_type": "display_data"
    }
   ],
   "source": [
    "@interact\n",
    "def TestError0(string = widgets.Text(value='1111', description='Digits:', disabled=False),\n",
    "              base = widgets.Dropdown(options=[('2', 2), ('16', 16), ('1/2', 1/2), ('1/16', 1/16)],\n",
    "                                      value=1/2, description='Base:')):\n",
    "    digits = [valueHex(string[x]) for x in range(len(string))]\n",
    "    print('Decimal: ', end='')\n",
    "    if base > 1:\n",
    "        step = -1\n",
    "    else:\n",
    "        step = 1\n",
    "    printDigits(str(Digit2Decimal(digits, base, step)), 100)\n",
    "    print()"
   ]
  },
  {
   "cell_type": "markdown",
   "metadata": {},
   "source": [
    "><mark>The value of the same series of digits (e.g., 1111) changes with the base.</mark>\n",
    "\n",
    "><mark>An integer base (e.g., 2) is needed to model integer decimal numbers</mark>\n",
    "\n",
    "><mark>A fractional base (e.g., 1/2) is needed to model fractional decimal numbers</mark>"
   ]
  },
  {
   "cell_type": "markdown",
   "metadata": {},
   "source": [
    "[Back to top](#EEEN30101-Numerical-Analysis)"
   ]
  },
  {
   "cell_type": "markdown",
   "metadata": {},
   "source": [
    "### Converting integer decimal numbers"
   ]
  },
  {
   "cell_type": "markdown",
   "metadata": {},
   "source": [
    "The equation presented in the subsection above can be used to convert digits on different bases to their decimal equivalent. \n",
    "\n",
    "Let us now reverse the process, and convert integer decimal numbers to series of digits in different bases."
   ]
  },
  {
   "cell_type": "markdown",
   "metadata": {},
   "source": [
    "For this purpose, let us introduce an algorithm, as well as an example, e.g., assume an integer number $x=1000$ and a base of 2 (binary)."
   ]
  },
  {
   "cell_type": "code",
   "execution_count": 11,
   "metadata": {},
   "outputs": [],
   "source": [
    "x = 1000\n",
    "base = 2"
   ]
  },
  {
   "cell_type": "markdown",
   "metadata": {},
   "source": [
    "- Step 1: As this is an iterative approach, let us initialize an iteration counter $k$ and a list of digits $digits$. Also allocate a maximum number of digits that can be used (e.g., available accuracy or memory space)."
   ]
  },
  {
   "cell_type": "code",
   "execution_count": 12,
   "metadata": {},
   "outputs": [],
   "source": [
    "k = 0\n",
    "accuracy = 10\n",
    "digits = []"
   ]
  },
  {
   "cell_type": "markdown",
   "metadata": {},
   "source": [
    "- Step 2: Calculate the value of a digit as the modulo of the number with respect to the base (i.e., the remainder of a division, after $x$ is divided by the $base$.\n",
    "\n",
    "$$digits_k = x \\% base$$"
   ]
  },
  {
   "cell_type": "code",
   "execution_count": 13,
   "metadata": {},
   "outputs": [
    {
     "name": "stdout",
     "output_type": "stream",
     "text": [
      "Update digits: 0 = 1000 % 2\n"
     ]
    }
   ],
   "source": [
    "digits.append(int(x-math.floor(x/base)*base))\n",
    "print('Update digits: %d = %d %% %d'%(digits[k], x, base))"
   ]
  },
  {
   "cell_type": "markdown",
   "metadata": {},
   "source": [
    "- Step 3: Update the number $x$ by removing the digits and dividing by the base as shown in the following equation:\n",
    "\n",
    "$$x_{k+1} = \\frac{x_k-digits_k}{base}$$"
   ]
  },
  {
   "cell_type": "code",
   "execution_count": 14,
   "metadata": {},
   "outputs": [
    {
     "name": "stdout",
     "output_type": "stream",
     "text": [
      "Update number: 500 = (1000 - 0)/2\n"
     ]
    }
   ],
   "source": [
    "x = (x - digits[k])/base\n",
    "print('Update number: %d = (%d - %d)/%d'%(x, x*base+digits[k], digits[k], base))"
   ]
  },
  {
   "cell_type": "markdown",
   "metadata": {},
   "source": [
    "- Step 4: Increase the iteration counter ($k = k+1$)\n",
    "        - Stop the process if $x = 0$, i.e., we have found an exact solution.\n",
    "        - Also, stop the process if the iteration counter is too high, i.e., we run out of digits (memory space).\n",
    "        - Otherwise, repeat the process from step 2."
   ]
  },
  {
   "cell_type": "code",
   "execution_count": 15,
   "metadata": {},
   "outputs": [
    {
     "name": "stdout",
     "output_type": "stream",
     "text": [
      "k = 1\n",
      "Update digits: 0 = 500 % 2\n",
      "Update number: 250 = (500 - 0)/2\n",
      "k = 2\n",
      "Update digits: 0 = 250 % 2\n",
      "Update number: 125 = (250 - 0)/2\n",
      "k = 3\n",
      "Update digits: 1 = 125 % 2\n",
      "Update number: 62 = (125 - 1)/2\n",
      "k = 4\n",
      "Update digits: 0 = 62 % 2\n",
      "Update number: 31 = (62 - 0)/2\n",
      "k = 5\n",
      "Update digits: 1 = 31 % 2\n",
      "Update number: 15 = (31 - 1)/2\n",
      "k = 6\n",
      "Update digits: 1 = 15 % 2\n",
      "Update number: 7 = (15 - 1)/2\n",
      "k = 7\n",
      "Update digits: 1 = 7 % 2\n",
      "Update number: 3 = (7 - 1)/2\n",
      "k = 8\n",
      "Update digits: 1 = 3 % 2\n",
      "Update number: 1 = (3 - 1)/2\n",
      "k = 9\n",
      "Update digits: 1 = 1 % 2\n",
      "Update number: 0 = (1 - 1)/2\n",
      "\n",
      "Result:  [0, 0, 0, 1, 0, 1, 1, 1, 1, 1]\n"
     ]
    }
   ],
   "source": [
    "k = k+1\n",
    "while x>0 and k<accuracy:\n",
    "    print('k = %d'%k)\n",
    "    digits.append(int(math.fmod(x, base)))\n",
    "    print('Update digits: %d = %d %% %d'%(digits[k], x, base))\n",
    "    x = (x - digits[k])/base\n",
    "    print('Update number: %d = (%d - %d)/%d'%(x, x*base+digits[k], digits[k], base))\n",
    "    k = k+1\n",
    "\n",
    "print('\\nResult: ', digits)"
   ]
  },
  {
   "cell_type": "markdown",
   "metadata": {},
   "source": [
    "- Step 5: The result so far places the digits with the highest exponent on the right. However, as the standard we have been using to process binary and hexadecimal numbers requires such digits to be on the left. Accordingly, we will flip the order of the digits in our results. "
   ]
  },
  {
   "cell_type": "code",
   "execution_count": 16,
   "metadata": {},
   "outputs": [
    {
     "name": "stdout",
     "output_type": "stream",
     "text": [
      "\n",
      "Result:  [1, 1, 1, 1, 1, 0, 1, 0, 0, 0]\n"
     ]
    }
   ],
   "source": [
    "print('\\nResult: ', [digits[k-i-1] for i in range(k)])"
   ]
  },
  {
   "cell_type": "markdown",
   "metadata": {},
   "source": [
    "[Back to top](#EEEN30101-Numerical-Analysis)"
   ]
  },
  {
   "cell_type": "markdown",
   "metadata": {},
   "source": [
    "In summary, we can convert a number $x$ to a series of digits in a selected $base$ (e.g., binary and hexadecimal) using the following algorithm:\n",
    "\n",
    "**Algorithm: Integer decimal to Digits:**\n",
    "\n",
    "`SET k = 1`<br/>\n",
    "`SET accuracy = Max_number_digits`<br/>\n",
    "`SET digit(i) = 0 FOR i=1 to accuracy`<br/><br/>\n",
    "\n",
    "`WHIILE x > 0 && k < accuracy`<br/>\n",
    "`    digit(k) = mod(x, base)`<br/>\n",
    "`    x = (x - digit(k)) / base`<br/>\n",
    "`END WHILE`<br/><br/>\n",
    "`SET digit_sorted(i) = 0 FOR i=1 to k`<br/><br/>\n",
    "`FOR i = 1:k`<br/>\n",
    "`    digit_sorted(i) = digit(k+1-i)`<br/>\n",
    "`END FOR`"
   ]
  },
  {
   "cell_type": "markdown",
   "metadata": {},
   "source": [
    "For convenience, the algorithm is coded in the python method below.\n",
    "\n",
    "Let us use the python method below to test the algorithm for integer numbers and using a base of 2 (binary) or 16 (hexadecimal)."
   ]
  },
  {
   "cell_type": "code",
   "execution_count": 17,
   "metadata": {},
   "outputs": [
    {
     "data": {
      "application/vnd.jupyter.widget-view+json": {
       "model_id": "dab1ca826b094ee78008436c00135d56",
       "version_major": 2,
       "version_minor": 0
      },
      "text/plain": [
       "interactive(children=(IntText(value=65535, description='Decimal:'), Dropdown(description='Base:', options=(('2…"
      ]
     },
     "metadata": {},
     "output_type": "display_data"
    }
   ],
   "source": [
    "def Decimal2Digit(x, base=2, accuracy=52):\n",
    "    '''Convert decimal to digit'''\n",
    "    if x==0:\n",
    "        return [0]\n",
    "    k = 0\n",
    "    digit = []\n",
    "    while x > 0 and k < accuracy:\n",
    "        digit.append(math.fmod(x, base))\n",
    "        x = (x-digit[k])/base\n",
    "        k += 1\n",
    "\n",
    "    digit = [int(digit[k-j-1]) for j in range(k)]\n",
    "\n",
    "    return digit\n",
    "\n",
    "def Digit2Chr(x):\n",
    "    '''Convert digit to char'''\n",
    "    if x < 10:\n",
    "        aux = 48\n",
    "    else:\n",
    "        aux = 87\n",
    "    return chr(x+aux)\n",
    "\n",
    "def Digit2Str(x):\n",
    "    '''Convert digit to string'''\n",
    "    return ''.join([Digit2Chr(x[i]) for i in range(len(x))])\n",
    "    \n",
    "@interact\n",
    "def TestError0(x = widgets.IntText(value=65535, min=0, step=1, description='Decimal:', disabled=False),\n",
    "              base = widgets.Dropdown(options=[('2', 2), ('16', 16)], value=2, description='Base:')):\n",
    "    digit = Decimal2Digit(x, base)\n",
    "    printDigits(Digit2Str(digit), 4)"
   ]
  },
  {
   "cell_type": "markdown",
   "metadata": {},
   "source": [
    "[Back to top](#EEEN30101-Numerical-Analysis)"
   ]
  },
  {
   "cell_type": "markdown",
   "metadata": {},
   "source": [
    "### Converting fractional decimal numbers"
   ]
  },
  {
   "cell_type": "markdown",
   "metadata": {},
   "source": [
    "Let us now reverse the process to convert integer decimal numbers to series of digits in different bases.\n",
    "\n",
    "For this purpose, let us introduce an algorithm, as well as an example, e.g., assume an integer number $x=0.625$ and a base of 1/2."
   ]
  },
  {
   "cell_type": "code",
   "execution_count": 18,
   "metadata": {},
   "outputs": [],
   "source": [
    "x = 0.625\n",
    "base = 1/2"
   ]
  },
  {
   "cell_type": "markdown",
   "metadata": {},
   "source": [
    "- Step 1: As this is an iterative approach, let us initialize an iteration counter $k$ and a list of digits $digits$. Also allocate a maximum number of digits that can be used (e.g., available accuracy or memory space)."
   ]
  },
  {
   "cell_type": "code",
   "execution_count": 19,
   "metadata": {},
   "outputs": [],
   "source": [
    "k = 0\n",
    "accuracy = 10\n",
    "digits = []"
   ]
  },
  {
   "cell_type": "markdown",
   "metadata": {},
   "source": [
    "- Step 2: Calculate the value of a digit as the rounded down value of the number $x$ after dividing it by the base.\n",
    "\n",
    "$$digits_k = floor \\left( \\frac{x}{base} \\right)$$"
   ]
  },
  {
   "cell_type": "code",
   "execution_count": 20,
   "metadata": {},
   "outputs": [
    {
     "name": "stdout",
     "output_type": "stream",
     "text": [
      "Update digits: 1 = floor ( 0.625000 / 0.500000)\n"
     ]
    }
   ],
   "source": [
    "digits.append(int(math.floor(x/base)))\n",
    "print('Update digits: %d = floor ( %f / %f)'%(digits[k], x, base))"
   ]
  },
  {
   "cell_type": "markdown",
   "metadata": {},
   "source": [
    "- Step 3: Update the number $x$ by dividing it by the base and, afterwards, removing the digits as shown in the following equation:\n",
    "\n",
    "$$x_{k+1} = \\frac{x_k}{base}-digits_k$$"
   ]
  },
  {
   "cell_type": "code",
   "execution_count": 21,
   "metadata": {},
   "outputs": [
    {
     "name": "stdout",
     "output_type": "stream",
     "text": [
      "Update number: 0.250000 = 0.625000 / 0.500000d - 1\n"
     ]
    }
   ],
   "source": [
    "x = x/base - digits[k]\n",
    "print('Update number: %f = %f / %fd - %d'%(x, (x+digits[k])*base, base, digits[k]))"
   ]
  },
  {
   "cell_type": "markdown",
   "metadata": {},
   "source": [
    "- Step 4: Increase the iteration counter ($k = k+1$)\n",
    "        - Stop the process if x = 0, i.e., we have found an exact solution.\n",
    "        - Also, stop the process if the iteration counter is too high, i.e., we run out of digits (memory space)\n",
    "        - Otherwise, repeat the process from step 2."
   ]
  },
  {
   "cell_type": "code",
   "execution_count": 22,
   "metadata": {},
   "outputs": [
    {
     "name": "stdout",
     "output_type": "stream",
     "text": [
      "k = 1\n",
      "Update digits: 0 = floor ( 0.250000 / 0.500000)\n",
      "Update number: 0.500000 = 0.250000 / 0.500000d - 0\n",
      "k = 2\n",
      "Update digits: 1 = floor ( 0.500000 / 0.500000)\n",
      "Update number: 0.000000 = 0.500000 / 0.500000d - 1\n",
      "\n",
      "Result:  [1, 0, 1]\n"
     ]
    }
   ],
   "source": [
    "k = k+1\n",
    "while x>0 and k<accuracy:\n",
    "    print('k = %d'%k)\n",
    "    digits.append(int(math.floor(x/base)))\n",
    "    print('Update digits: %d = floor ( %f / %f)'%(digits[k], x, base))\n",
    "    x = x/base - digits[k]\n",
    "    print('Update number: %f = %f / %fd - %d'%(x, (x+digits[k])*base, base, digits[k]))\n",
    "    k=k+1\n",
    "\n",
    "print('\\nResult: ', digits)"
   ]
  },
  {
   "cell_type": "markdown",
   "metadata": {},
   "source": [
    "[Back to top](#EEEN30101-Numerical-Analysis)"
   ]
  },
  {
   "cell_type": "markdown",
   "metadata": {},
   "source": [
    "In summary, we can convert a fractional decimal number $x$ to a series of digits in a selected fractional $base$ (e.g., 1/2) using the following algorithm:\n",
    "\n",
    "**Algorithm: Fractional decimal to Digits:**\n",
    "\n",
    "`SET k = 1`<br/>\n",
    "`SET accuracy = Max_number_digits`<br/>\n",
    "`SET digit(i) = 0 for i=1 to accuracy`<br/><br/>\n",
    "`WHILE x > 0 && k < accuracy`<br/>\n",
    "`    digit(k) = floor(x/base)`<br/>\n",
    "`    x = x/base - digit(k)`<br/>\n",
    "`END WHILE`"
   ]
  },
  {
   "cell_type": "markdown",
   "metadata": {},
   "source": [
    "For convenience, the algorithm is coded in the python method below.\n",
    "\n",
    "Let us use the python method below to test the algorithm for fractional numbers and using a base of 1/2 or 1/16."
   ]
  },
  {
   "cell_type": "code",
   "execution_count": 23,
   "metadata": {},
   "outputs": [
    {
     "data": {
      "application/vnd.jupyter.widget-view+json": {
       "model_id": "c8f82a17d56b4946a8e5ba0c0a877419",
       "version_major": 2,
       "version_minor": 0
      },
      "text/plain": [
       "interactive(children=(FloatText(value=0.14285714285714285, description='Fractional:', step=1.0), Dropdown(desc…"
      ]
     },
     "metadata": {},
     "output_type": "display_data"
    }
   ],
   "source": [
    "def Frac2Digit(x, base=2, accuracy=52):\n",
    "    '''Convert decimal to digit'''\n",
    "    k = 0\n",
    "    digit = []\n",
    "    while x > 0 and k < accuracy:\n",
    "        digit.append(math.floor(x/base))\n",
    "        x = x/base - digit[k]\n",
    "        #digit.append(math.floor(x/base**(k+1)))\n",
    "        #x = x - digit[k]*base**(k+1)\n",
    "        k += 1\n",
    "\n",
    "    return digit\n",
    "\n",
    "@interact\n",
    "def TestError0(x = widgets.FloatText(value=1/7, max=1, step=1, description='Fractional:', disabled=False),\n",
    "              base = widgets.Dropdown(options=[('1/2', 1/2), ('1/16', 1/16)], value=1/2, description='Base:')):\n",
    "    digit = Frac2Digit(x, base, 52)\n",
    "    \n",
    "    printDigits(Digit2Str(digit), 4)"
   ]
  },
  {
   "cell_type": "markdown",
   "metadata": {},
   "source": [
    "[Back to top](#EEEN30101-Numerical-Analysis)"
   ]
  },
  {
   "cell_type": "markdown",
   "metadata": {},
   "source": [
    "### 64 bits representation"
   ]
  },
  {
   "cell_type": "markdown",
   "metadata": {},
   "source": [
    "Now that we have reviewed the use of binary and hexadecimal numbers, we can continue reviewing the standard to model 64 bits numbers."
   ]
  },
  {
   "cell_type": "markdown",
   "metadata": {},
   "source": [
    "According to the IEEE double-precision standard, most numbers can be expressed as\n",
    "\n",
    "$$x \\pm (1+f)2^e$$"
   ]
  },
  {
   "cell_type": "markdown",
   "metadata": {},
   "source": [
    "Also, using 64 bits, numbers are represented based on the following assumptions:\n",
    "\n",
    "- 01 bit ($s$) is used to denote the sign.\n",
    "\n",
    "\n",
    "- 11 bits ($e$) are used to represent the exponent. The decimal value of the exponent is calculated with the following formula (you may recognise the formula from the previous section):\n",
    "\n",
    "$$e = \\sum_{bit=1}^{bit=11}{Binary_{bit}(2)^{11-bit}}$$\n",
    "\n",
    "- 52 bits ($m$) are used to represent binary fractions. This is also called the mantissa. The decimal value of the mantissa is calculated with the following formula:\n",
    "\n",
    "$$m = \\sum_{bit=1}^{bit=52}{Binary_{bit} \\left(\\frac{1}{2} \\right)^{bit}}$$"
   ]
  },
  {
   "cell_type": "markdown",
   "metadata": {},
   "source": [
    "We can update our equation with this 64 bits standard as follows:\n",
    "$$x = (-1)^s(1+m)2^{e-1023}$$"
   ]
  },
  {
   "cell_type": "markdown",
   "metadata": {},
   "source": [
    "To illustrate the use of 64 bit numbers according to IEEE standards, let us first create a python class to define number with 64 bits and display them in binary and hexadecimal formats.\n",
    "\n",
    "***Remember that you do NOT need to analyse the python code, so feel free to skip it.***"
   ]
  },
  {
   "cell_type": "code",
   "execution_count": 24,
   "metadata": {},
   "outputs": [
    {
     "name": "stdout",
     "output_type": "stream",
     "text": [
      "Binary:\n",
      "s: 0\n",
      "e: 000 0000 0000 \n",
      "m: 0000 0000 0000 0000 0000 0000 0000 0000 0000 0000 0000 0000 0000 \n",
      "\n",
      "Hexadecimal: \n",
      "0000 0000 0000 0000\n",
      "\n",
      "Decimal:\n",
      "s: 0\n",
      "e: 0\n",
      "m: 0.000000\n",
      "\n"
     ]
    }
   ],
   "source": [
    "class Number64:\n",
    "    def __init__(self):\n",
    "        '''Initializing 64 bit number'''\n",
    "        self.s = numpy.zeros((1), dtype=numpy.int_)\n",
    "        self.e = numpy.zeros((11), dtype=numpy.int_)\n",
    "        self.m = numpy.zeros((52), dtype=numpy.int_)\n",
    "\n",
    "    def print(self):\n",
    "        '''Printing in different formats'''\n",
    "        self.printBin()\n",
    "        print()\n",
    "        self.printHex()\n",
    "        print()\n",
    "        self.printDec()\n",
    "        print()\n",
    "        \n",
    "    def printBin(self):\n",
    "        '''Printing in binary'''\n",
    "        print('Binary:\\ns: %d'%self.s[0])\n",
    "\n",
    "        print('e: ', end='')\n",
    "        printDigits([str(self.e[x]) for x in range(11)], 4)\n",
    "        print()\n",
    "\n",
    "        print('m: ', end='')\n",
    "        printDigits([str(self.m[x]) for x in range(52)], 4)\n",
    "        print()\n",
    "\n",
    "    def printDec(self):\n",
    "        '''Printing in Decimal'''\n",
    "        print('Decimal:\\ns: %d'%self.s[0])\n",
    "        print('e: %d'%self.vale())\n",
    "        print('m: %f'%self.valm())\n",
    "\n",
    "    def printHex(self):\n",
    "        '''Printing in Hexadecimal'''\n",
    "        def Hx(val):\n",
    "            No = val[0]*8+val[1]*4+val[2]*2+val[3]\n",
    "            if No > 9:\n",
    "                No+=55\n",
    "            else:\n",
    "                No+=48\n",
    "            print('%c'%No, end='')\n",
    "\n",
    "        print('Hexadecimal: \\n', end='')\n",
    "        e = self.e\n",
    "        Hx([self.s[0], e[0], e[1], e[2]])\n",
    "\n",
    "        i=3\n",
    "        for j in range(2):\n",
    "            Hx([e[i], e[i+1], e[i+2], e[i+3]])\n",
    "            i+=4\n",
    "\n",
    "        m = self.m\n",
    "        i = 0\n",
    "        for j in range(13):\n",
    "            Hx([m[i], m[i+1], m[i+2], m[i+3]])\n",
    "            i+=4\n",
    "            if i==4 or i==20 or i==36:\n",
    "                print(end=' ')\n",
    "        print()\n",
    "\n",
    "    def sete(self, val):\n",
    "        '''Set a new value for e'''\n",
    "        self.e = numpy.zeros((11), dtype=numpy.int_)\n",
    "        No = min(11, len(val))\n",
    "        j = 11-No\n",
    "        for i in range(No):\n",
    "            self.e[i+j] = val[i]\n",
    "\n",
    "    def setm(self, val):\n",
    "        '''Set a new value for e'''\n",
    "        self.m = numpy.zeros((52), dtype=numpy.int_)\n",
    "        No = min(52, len(val))\n",
    "        for i in range(No):\n",
    "            self.m[i] = val[i]\n",
    "\n",
    "    def vale(self):\n",
    "        '''Calculate value of e'''\n",
    "        return Digit2Decimal(self.e)\n",
    "\n",
    "    def valm(self):\n",
    "        '''Calculate value of m'''\n",
    "        return Digit2Decimal(self.m, base=0.5, step=1)\n",
    "\n",
    "\n",
    "number = Number64()\n",
    "number.print()"
   ]
  },
  {
   "cell_type": "markdown",
   "metadata": {},
   "source": [
    "With this python method, it will be easier to create examples (see next subsection). "
   ]
  },
  {
   "cell_type": "markdown",
   "metadata": {},
   "source": [
    "[Back to top](#EEEN30101-Numerical-Analysis)"
   ]
  },
  {
   "cell_type": "markdown",
   "metadata": {},
   "source": [
    "### Examples of 64 bit numbers"
   ]
  },
  {
   "cell_type": "markdown",
   "metadata": {},
   "source": [
    "As a first example, assume the sign bit ($s$) is zero, only the first exponent bit is nonzero ($e$) and all the mantissa bits are zeroes. In other words, only the first element of $e$ equal to $1$."
   ]
  },
  {
   "cell_type": "code",
   "execution_count": 25,
   "metadata": {},
   "outputs": [
    {
     "name": "stdout",
     "output_type": "stream",
     "text": [
      "Binary:\n",
      "s: 0\n",
      "e: 100 0000 0000 \n",
      "m: 0000 0000 0000 0000 0000 0000 0000 0000 0000 0000 0000 0000 0000 \n",
      "\n",
      "Hexadecimal: \n",
      "4000 0000 0000 0000\n",
      "\n",
      "Decimal:\n",
      "s: 0\n",
      "e: 1024\n",
      "m: 0.000000\n",
      "\n"
     ]
    }
   ],
   "source": [
    "Example1 = Number64()\n",
    "Example1.e[0] = 1\n",
    "\n",
    "Example1.print()"
   ]
  },
  {
   "cell_type": "markdown",
   "metadata": {},
   "source": [
    "Based on our IEEE standard, this corresponds to the number: "
   ]
  },
  {
   "cell_type": "code",
   "execution_count": 26,
   "metadata": {},
   "outputs": [
    {
     "name": "stdout",
     "output_type": "stream",
     "text": [
      "x = (-1)^0(1+0.000000)2^(1024-1023) = 2.000000\n"
     ]
    }
   ],
   "source": [
    "def IEEE64(num, flg=False):\n",
    "    '''Calculate value of 64 bit number'''\n",
    "    \n",
    "    s = num.s[0]\n",
    "    e = num.vale()\n",
    "    m = num.valm()\n",
    "    x = (-1)**s*(1+m)*2**(e-1023)\n",
    "\n",
    "    if flg:\n",
    "        print('x = (-1)^%d(1+%f)2^(%d-1023) = %f'%(s, m, e, x))\n",
    "\n",
    "    return x\n",
    "\n",
    "x= IEEE64(Example1, True)"
   ]
  },
  {
   "cell_type": "markdown",
   "metadata": {},
   "source": [
    "Let us try a different example. This time:\n",
    "- s = 0\n",
    "- e = 011 1111 1111\n",
    "- m = 0000 0000 0000 0000 0000 0000 0000 0000 0000 0000 0000 0000 0000"
   ]
  },
  {
   "cell_type": "code",
   "execution_count": 27,
   "metadata": {},
   "outputs": [
    {
     "name": "stdout",
     "output_type": "stream",
     "text": [
      "Binary:\n",
      "s: 0\n",
      "e: 011 1111 1111 \n",
      "m: 0000 0000 0000 0000 0000 0000 0000 0000 0000 0000 0000 0000 0000 \n",
      "\n",
      "Hexadecimal: \n",
      "3FF0 0000 0000 0000\n",
      "\n",
      "Decimal:\n",
      "s: 0\n",
      "e: 1023\n",
      "m: 0.000000\n",
      "\n",
      "x = (-1)^0(1+0.000000)2^(1023-1023) = 1.000000\n"
     ]
    }
   ],
   "source": [
    "Example2 = Number64()\n",
    "Example2.e = [0, 1, 1, 1, 1, 1, 1, 1, 1, 1, 1]\n",
    "\n",
    "Example2.print()\n",
    "\n",
    "x= IEEE64(Example2, True)"
   ]
  },
  {
   "cell_type": "markdown",
   "metadata": {},
   "source": [
    "As a third example, try:\n",
    "- s = 0\n",
    "- e = 100 0000 0001\n",
    "- m = 0000 0000 0000 0000 0000 0000 0000 0000 0000 0000 0000 0000 0000"
   ]
  },
  {
   "cell_type": "markdown",
   "metadata": {},
   "source": [
    "[Back to top](#EEEN30101-Numerical-Analysis)"
   ]
  },
  {
   "cell_type": "code",
   "execution_count": 28,
   "metadata": {},
   "outputs": [
    {
     "name": "stdout",
     "output_type": "stream",
     "text": [
      "Binary:\n",
      "s: 0\n",
      "e: 100 0000 0001 \n",
      "m: 0000 0000 0000 0000 0000 0000 0000 0000 0000 0000 0000 0000 0000 \n",
      "\n",
      "Hexadecimal: \n",
      "4010 0000 0000 0000\n",
      "\n",
      "Decimal:\n",
      "s: 0\n",
      "e: 1025\n",
      "m: 0.000000\n",
      "\n",
      "x = (-1)^0(1+0.000000)2^(1025-1023) = 4.000000\n"
     ]
    }
   ],
   "source": [
    "Example3 = Number64()\n",
    "Example3.e[0] = 1\n",
    "Example3.e[10] = 1\n",
    "\n",
    "Example3.print()\n",
    "\n",
    "x= IEEE64(Example3, True)"
   ]
  },
  {
   "cell_type": "markdown",
   "metadata": {},
   "source": [
    "Let's make a small change to the previous example. That is, let $s = 1$:\n",
    "- s = 1\n",
    "- e = 100 0000 0001\n",
    "- m = 0000 0000 0000 0000 0000 0000 0000 0000 0000 0000 0000 0000 0000"
   ]
  },
  {
   "cell_type": "code",
   "execution_count": 29,
   "metadata": {},
   "outputs": [
    {
     "name": "stdout",
     "output_type": "stream",
     "text": [
      "Binary:\n",
      "s: 1\n",
      "e: 100 0000 0001 \n",
      "m: 0000 0000 0000 0000 0000 0000 0000 0000 0000 0000 0000 0000 0000 \n",
      "\n",
      "Hexadecimal: \n",
      "C010 0000 0000 0000\n",
      "\n",
      "Decimal:\n",
      "s: 1\n",
      "e: 1025\n",
      "m: 0.000000\n",
      "\n",
      "x = (-1)^1(1+0.000000)2^(1025-1023) = -4.000000\n"
     ]
    }
   ],
   "source": [
    "Example4 = Number64()\n",
    "Example4.s = [1]\n",
    "Example4.e[0] = 1\n",
    "Example4.e[10] = 1\n",
    "\n",
    "Example4.print()\n",
    "\n",
    "x= IEEE64(Example4, True)"
   ]
  },
  {
   "cell_type": "markdown",
   "metadata": {},
   "source": [
    "><mark>Changing the value of $s$ changes the sign of the number</mark>"
   ]
  },
  {
   "cell_type": "markdown",
   "metadata": {},
   "source": [
    "As final example, consider the following:\n",
    "- s = 0\n",
    "- e = 100 0000 0000\n",
    "- m = 1000 0000 0000 0000 0000 0000 0000 0000 0000 0000 0000 0000 0000"
   ]
  },
  {
   "cell_type": "code",
   "execution_count": 30,
   "metadata": {},
   "outputs": [
    {
     "name": "stdout",
     "output_type": "stream",
     "text": [
      "Binary:\n",
      "s: 0\n",
      "e: 100 0000 0000 \n",
      "m: 1000 0000 0000 0000 0000 0000 0000 0000 0000 0000 0000 0000 0000 \n",
      "\n",
      "Hexadecimal: \n",
      "4008 0000 0000 0000\n",
      "\n",
      "Decimal:\n",
      "s: 0\n",
      "e: 1024\n",
      "m: 0.500000\n",
      "\n",
      "x = (-1)^0(1+0.500000)2^(1024-1023) = 3.000000\n"
     ]
    }
   ],
   "source": [
    "Example5 = Number64()\n",
    "Example5.e[0] = 1\n",
    "Example5.m[0] = 1\n",
    "\n",
    "Example5.print()\n",
    "\n",
    "x= IEEE64(Example5, True)"
   ]
  },
  {
   "cell_type": "markdown",
   "metadata": {},
   "source": [
    "[Back to top](#EEEN30101-Numerical-Analysis)"
   ]
  },
  {
   "cell_type": "markdown",
   "metadata": {},
   "source": [
    "### Converting decimal numbers"
   ]
  },
  {
   "cell_type": "markdown",
   "metadata": {},
   "source": [
    "So far, based on the examples above, you should be able to convert 64 bit numbers (or their hexadecimal equivalents) to their corresponding decimal numbers.\n",
    "\n",
    "It is time to do the opposite and convert decimal numbers (x) to their corresponding 64 bits representation.\n",
    "\n",
    "To illustrate the process assume a number (e.g., -1000)."
   ]
  },
  {
   "cell_type": "code",
   "execution_count": 31,
   "metadata": {},
   "outputs": [],
   "source": [
    "x = -1000"
   ]
  },
  {
   "cell_type": "markdown",
   "metadata": {},
   "source": [
    "Remember the formula that we have been using to calculate numbers based on the IEEE double-precision standard.\n",
    "\n",
    "$$x = (-1)^s(1+m)2^{e-1023}$$"
   ]
  },
  {
   "cell_type": "markdown",
   "metadata": {},
   "source": [
    "- The sign is modelled by the first term $(-1)^s$ and, therefore, the rest of the equation is positive\n",
    "\n",
    "$\\quad$ Determine the sign ($s$) with the following formula:\n",
    "\n",
    "$$\n",
    "s =\n",
    "\\left\\{ \n",
    "  \\begin{array}{ c l }\n",
    "    1 & \\quad \\textrm{if } x < 0 \\\\\n",
    "    0 & \\quad \\textrm{otherwise}\n",
    "  \\end{array}\n",
    "\\right.$$"
   ]
  },
  {
   "cell_type": "code",
   "execution_count": 32,
   "metadata": {},
   "outputs": [
    {
     "name": "stdout",
     "output_type": "stream",
     "text": [
      "The value of s is:  1\n"
     ]
    }
   ],
   "source": [
    "def gets(x):\n",
    "    '''Get value of s'''\n",
    "    s = 0\n",
    "    if x<0:\n",
    "        s=1\n",
    "    return s\n",
    "\n",
    "print('The value of s is: ', gets(x))"
   ]
  },
  {
   "cell_type": "markdown",
   "metadata": {},
   "source": [
    "- Get the decimal value of the exponent ($e$), which corresponds to the largest integer number that satisfies this equation:\n",
    "\n",
    "$$|x| > 2^{e-1023}$$\n",
    "\n",
    "$\\quad$ This can be calculated as:\n",
    "    \n",
    "$$e = floor(log_2(|x|)) + 1023$$"
   ]
  },
  {
   "cell_type": "code",
   "execution_count": 33,
   "metadata": {},
   "outputs": [
    {
     "name": "stdout",
     "output_type": "stream",
     "text": [
      "The decimal value of e is: 1032\n"
     ]
    }
   ],
   "source": [
    "def gete(x):\n",
    "    '''Get decimal value of e'''\n",
    "    return math.floor(math.log(abs(x), 2))+1023\n",
    "\n",
    "print('The decimal value of e is:', gete(x))"
   ]
  },
  {
   "cell_type": "markdown",
   "metadata": {},
   "source": [
    "This can be expressed as:"
   ]
  },
  {
   "cell_type": "code",
   "execution_count": 34,
   "metadata": {},
   "outputs": [
    {
     "name": "stdout",
     "output_type": "stream",
     "text": [
      "Binary e: 100 0000 1000 "
     ]
    }
   ],
   "source": [
    "digite = Decimal2Digit(gete(x), 2, 11)\n",
    "        \n",
    "print('Binary e: ', end='')\n",
    "printDigits(Digit2Str(digite), 4)"
   ]
  },
  {
   "cell_type": "markdown",
   "metadata": {},
   "source": [
    "- Get the decimal value of the mantissa ($m$) with the following formula:\n",
    "\n",
    "$$m = \\frac{|x|}{2^{e-1023}} -1 $$"
   ]
  },
  {
   "cell_type": "code",
   "execution_count": 35,
   "metadata": {},
   "outputs": [
    {
     "name": "stdout",
     "output_type": "stream",
     "text": [
      "The decimal value of m is: 0.953125\n"
     ]
    }
   ],
   "source": [
    "def getm(x):\n",
    "    '''Get decimal value of m'''\n",
    "    e = gete(x)\n",
    "    return abs(x)/2**(e-1023)-1\n",
    "\n",
    "print('The decimal value of m is:', getm(x))"
   ]
  },
  {
   "cell_type": "markdown",
   "metadata": {},
   "source": [
    "This can be expressed as:"
   ]
  },
  {
   "cell_type": "code",
   "execution_count": 36,
   "metadata": {},
   "outputs": [
    {
     "name": "stdout",
     "output_type": "stream",
     "text": [
      "\n",
      "m: 11 1101 "
     ]
    }
   ],
   "source": [
    "digitm = Frac2Digit(getm(x), 1/2, 52)\n",
    "\n",
    "print('\\nm: ', end='')\n",
    "printDigits(Digit2Str(digitm), 4)"
   ]
  },
  {
   "cell_type": "markdown",
   "metadata": {},
   "source": [
    "[Back to top](#EEEN30101-Numerical-Analysis)"
   ]
  },
  {
   "cell_type": "markdown",
   "metadata": {},
   "source": [
    "In summary, our 64 bits number looks like this:"
   ]
  },
  {
   "cell_type": "code",
   "execution_count": 37,
   "metadata": {},
   "outputs": [
    {
     "name": "stdout",
     "output_type": "stream",
     "text": [
      "The number -1000.000000 is represented as:\n",
      "\n",
      "Binary:\n",
      "s: 1\n",
      "e: 100 0000 1000 \n",
      "m: 1111 0100 0000 0000 0000 0000 0000 0000 0000 0000 0000 0000 0000 \n",
      "\n",
      "Hexadecimal: \n",
      "C08F 4000 0000 0000\n",
      "\n",
      "Decimal:\n",
      "s: 1\n",
      "e: 1032\n",
      "m: 0.953125\n",
      "\n"
     ]
    }
   ],
   "source": [
    "def get64(x):\n",
    "    n = Number64()\n",
    "    n.s[0] = gets(x)\n",
    "    n.sete(Decimal2Digit(gete(x), 2, 11))\n",
    "    n.setm(Frac2Digit(getm(x), 1/2, 52))\n",
    "    n.value = x\n",
    "\n",
    "    return n\n",
    "\n",
    "Example6 = get64(x)\n",
    "print('The number %f is represented as:\\n'%x)\n",
    "Example6.print()"
   ]
  },
  {
   "cell_type": "markdown",
   "metadata": {},
   "source": [
    "Use the following python method to try other examples:"
   ]
  },
  {
   "cell_type": "code",
   "execution_count": 38,
   "metadata": {},
   "outputs": [
    {
     "data": {
      "application/vnd.jupyter.widget-view+json": {
       "model_id": "b774f857a7b84960adea39facdbbae5e",
       "version_major": 2,
       "version_minor": 0
      },
      "text/plain": [
       "interactive(children=(FloatText(value=0.1, description='Number:'), Output()), _dom_classes=('widget-interact',…"
      ]
     },
     "metadata": {},
     "output_type": "display_data"
    }
   ],
   "source": [
    "@interact\n",
    "def Example64(x = widgets.FloatText(value=1/10, description='Number:', disabled=False)):\n",
    "    Example = get64(x)\n",
    "    print('The number %f is represented as:\\n'%x)\n",
    "    Example.print()"
   ]
  },
  {
   "cell_type": "markdown",
   "metadata": {},
   "source": [
    "[Back to top](#EEEN30101-Numerical-Analysis)"
   ]
  },
  {
   "cell_type": "markdown",
   "metadata": {},
   "source": [
    "## Conclusion"
   ]
  },
  {
   "cell_type": "markdown",
   "metadata": {},
   "source": [
    "At the end of this week's lecture and after going through the notebook, you should be able to address the following questions:<br/>\n",
    "- Heron’s algorithm – Convergence rate<br/>\n",
    "      - What is the difference between an absolute error and a relative error?<br/>\n",
    "      - Is the convergence of Heron’s equation linear or quadratic?<br/><br/>\n",
    "- Matrix multiplication:<br/>\n",
    "      - Do you need to analyse the size of two matrices to be able to multiply them? Why?<br/>\n",
    "      - What are the steps required to multiply two matrices?<br/><br/>\n",
    "- IEEE for floating point<br/>\n",
    "      - How do you convert binary and hexadecimal numbers to decimal numbers?<br/>\n",
    "      - How do you convert integer decimal numbers to binary and hexadecimal numbers?<br/>\n",
    "      - How do you convert fractional decimal numbers to binary and hexadecimal numbers?<br/>\n",
    "      - What is the sign, exponent and mantissa according to the IEEE double-precision standard?<br/>\n",
    "\n",
    "If you cannot answer these questions, you may want to check again this notebook and the lecture notes."
   ]
  },
  {
   "cell_type": "markdown",
   "metadata": {},
   "source": [
    "[Back to top](#EEEN30101-Numerical-Analysis)"
   ]
  }
 ],
 "metadata": {
  "kernelspec": {
   "display_name": "Python 3 (ipykernel)",
   "language": "python",
   "name": "python3"
  },
  "language_info": {
   "codemirror_mode": {
    "name": "ipython",
    "version": 3
   },
   "file_extension": ".py",
   "mimetype": "text/x-python",
   "name": "python",
   "nbconvert_exporter": "python",
   "pygments_lexer": "ipython3",
   "version": "3.11.4"
  },
  "toc": {
   "base_numbering": 1,
   "nav_menu": {},
   "number_sections": true,
   "sideBar": true,
   "skip_h1_title": true,
   "title_cell": "Table of Contents",
   "title_sidebar": "Contents",
   "toc_cell": false,
   "toc_position": {},
   "toc_section_display": true,
   "toc_window_display": true
  }
 },
 "nbformat": 4,
 "nbformat_minor": 4
}
