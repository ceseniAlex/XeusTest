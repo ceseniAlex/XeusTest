{
 "cells": [
  {
   "cell_type": "markdown",
   "metadata": {},
   "source": [
    "# EEEN30101 Numerical Analysis"
   ]
  },
  {
   "cell_type": "markdown",
   "metadata": {},
   "source": [
    "# Week 11"
   ]
  },
  {
   "cell_type": "markdown",
   "metadata": {},
   "source": [
    "***&copy; 2024 Martínez Ceseña — University of Manchester, UK***"
   ]
  },
  {
   "cell_type": "markdown",
   "metadata": {},
   "source": [
    "This notebook introduces the following topics:\n",
    "- First order Ordinary Differential Equations (ODEs)\n",
    "- Higher order systems\n",
    "\n",
    "The use of the notebooks is optional and will not be marked. That said, you are strongly encouraged to play with the tools and examples, as you can explore different variations of the examples, which will better prepare you for the exams."
   ]
  },
  {
   "cell_type": "markdown",
   "metadata": {},
   "source": [
    "## List of contents"
   ]
  },
  {
   "cell_type": "markdown",
   "metadata": {},
   "source": [
    "- [Analog simulation of first order ODEs](#Analog-simulation-of-first-order-ODEs)\n",
    "  - [RC circuit analysis](#RC-circuit-analysis)\n",
    "  - [RC circuit - Numerical analysis perspective](#RC-circuit---Numerical-analysis-perspective)\n",
    "  - [General 1st order ODEs](#General-1st-order-ODEs)\n",
    "- [Analog simulation of higher order systems](#Analog-simulation-of-higher-order-systems)\n",
    "  - [Example of a second order ODE](#Example-of-a-second-order-ODE)\n",
    "  - [General 2nd order ODEs](#General-2nd-order-ODEs)\n",
    "- [Conclusion](#Conclusion)"
   ]
  },
  {
   "cell_type": "markdown",
   "metadata": {},
   "source": [
    "## Before we begin"
   ]
  },
  {
   "cell_type": "markdown",
   "metadata": {},
   "source": [
    "Before we begin: \n",
    "- Make sure to review the asynchronous materials provided in blackboard for EEEN30101 Week 11 \n",
    "- If you have any questions, please post them in the discussion boards or, if that is not possible, send an email to alex.martinezcesena@manchester.ac.uk"
   ]
  },
  {
   "cell_type": "markdown",
   "metadata": {},
   "source": [
    "This notebook provides some examples in python, for that purpose the following libraries will be loaded:"
   ]
  },
  {
   "cell_type": "code",
   "execution_count": 1,
   "metadata": {},
   "outputs": [],
   "source": [
    "import matplotlib.pyplot as plt  # To plot figures\n",
    "import numpy as np # To define and use matrices\n",
    "\n",
    "try:\n",
    "    import ipywidgets as widgets\n",
    "except:\n",
    "    import micropip\n",
    "    await micropip.install('ipywidgets')\n",
    "    import ipywidgets as widgets\n",
    "from ipywidgets import interact"
   ]
  },
  {
   "cell_type": "markdown",
   "metadata": {},
   "source": [
    "[Back to top](#EEEN30101-Numerical-Analysis)"
   ]
  },
  {
   "cell_type": "markdown",
   "metadata": {},
   "source": [
    "## Analog simulation of first order ODEs"
   ]
  },
  {
   "cell_type": "markdown",
   "metadata": {},
   "source": [
    "Analog simulation refers to the modelling of functions or signals that have continuous values. Unlike digital simulation, where the only specific samples are analysed due to the nature of the function or metering.\n",
    "\n",
    "For example, your electricity consumption may be relatively continuous as you likely keep some devices connected at all time. However, your electricity bill is based on measurements taken every 30 minutes (if you have a smart meter) or less frequently. Therefore, even if your electricity use may be an analog signal, it is simulated (for the purpose of estimating your bill) as a discrete signal."
   ]
  },
  {
   "cell_type": "markdown",
   "metadata": {},
   "source": [
    "### RC circuit analysis"
   ]
  },
  {
   "cell_type": "markdown",
   "metadata": {},
   "source": [
    "An example of analog simulations of ODEs, is the RC circuit presented below. Remember that ODEs are differential equations that only depend on a single independent variable.\n",
    "\n",
    "The following ODE represents the RC circuit. \n",
    "- It is an ODE because it only depends on a single independent variable, i.e., time ($t$).\n",
    "- It is a first order ODE because the highest derivative in the equation is a first order derivative.\n",
    "\n",
    "$$I = C \\frac{ \\partial V_o}{\\partial t}$$"
   ]
  },
  {
   "cell_type": "markdown",
   "metadata": {},
   "source": [
    "<img src=\"Figures/Week11_RC.png\" alt=\"Fig01\" class=\"bg-primary\" width=\"500px\">"
   ]
  },
  {
   "cell_type": "markdown",
   "metadata": {},
   "source": [
    "A description of ODEs, including applications to the RC circuit can be found in the video below."
   ]
  },
  {
   "cell_type": "code",
   "execution_count": 2,
   "metadata": {},
   "outputs": [
    {
     "data": {
      "text/html": [
       "<iframe width=\"560\" height=\"315\" \n",
       "src=\"https://www.youtube.com/embed/owGqLy1ibeo?si=kxSiM9ZO2XpJP6w2\" \n",
       "title=\"YouTube video player\"\n",
       "frameborder=\"0\" allow=\"accelerometer;\n",
       "autoplay; clipboard-write; encrypted-media; gyroscope; picture-in-picture;\n",
       "web-share\" allowfullscreen></iframe>\n"
      ],
      "text/plain": [
       "<IPython.core.display.HTML object>"
      ]
     },
     "metadata": {},
     "output_type": "display_data"
    }
   ],
   "source": [
    "%%HTML\n",
    "<iframe width=\"560\" height=\"315\" \n",
    "src=\"https://www.youtube.com/embed/owGqLy1ibeo?si=kxSiM9ZO2XpJP6w2\" \n",
    "title=\"YouTube video player\"\n",
    "frameborder=\"0\" allow=\"accelerometer;\n",
    "autoplay; clipboard-write; encrypted-media; gyroscope; picture-in-picture;\n",
    "web-share\" allowfullscreen></iframe>"
   ]
  },
  {
   "cell_type": "markdown",
   "metadata": {},
   "source": [
    "The ODE or the RC system captures the fact that there will only be current across the circuit when the voltage is changing. The magnitude of this current will increase with:\n",
    "- A higher rate of change of the voltage or \n",
    "- A higher capacitance"
   ]
  },
  {
   "cell_type": "markdown",
   "metadata": {},
   "source": [
    "Let us explore this further.\n",
    "\n",
    "The voltage across the resistor, can be calculated as $IR$ and also corresponds to the difference between the input and output voltages ($V_i - V_o$).\n",
    "\n",
    "$$IR = V_i - V_o$$"
   ]
  },
  {
   "cell_type": "markdown",
   "metadata": {},
   "source": [
    "If we replace the current ($I$) with its corresponding ODE, we get the following equation:\n",
    "\n",
    "$$RC \\frac{ \\partial V_o}{\\partial t}  = V_i - V_o $$\n",
    "\n",
    "$$ \\frac{\\partial V_o}{\\partial t} + \\frac{1}{CR}V_o = \\frac{1}{CR}Vi$$"
   ]
  },
  {
   "cell_type": "markdown",
   "metadata": {},
   "source": [
    "[Back to top](#EEEN30101-Numerical-Analysis)"
   ]
  },
  {
   "cell_type": "markdown",
   "metadata": {},
   "source": [
    "This new equations allows us to explore the interdependencies between the input voltage ($V_i$) and output voltage ($V_o$) of the RC circuit. However, we need to select an approach to solve the ODE."
   ]
  },
  {
   "cell_type": "markdown",
   "metadata": {},
   "source": [
    "Taking a signals and systems point of view, we can use the Laplace transform to convert this equation to:\n",
    "\n",
    "$$ s V_o(s) + \\frac{1}{CR} V_o(s) = \\frac{1}{CR}V_i(s)$$\n",
    "\n",
    "$$ V_o(s) = \\frac{1}{CRs+1} V_i(s)$$"
   ]
  },
  {
   "cell_type": "markdown",
   "metadata": {},
   "source": [
    "We can now explore the behaviour of the RC systems subject to different input voltages.\n",
    "\n",
    "For example, we can explore what happens to $V_o$ when $V_i$ is a step function.\n",
    "\n",
    "$$\n",
    "V_i(t) =\n",
    "\\left\\{ \n",
    "  \\begin{array}{ c l }\n",
    "    0 & \\quad \\textrm{when} \\; t \\leq 0 \\\\\n",
    "    1 & \\quad \\textrm{when} \\; t > 0\n",
    "  \\end{array}\n",
    "\\right.$$"
   ]
  },
  {
   "cell_type": "markdown",
   "metadata": {},
   "source": [
    "In Laplace terms, our step voltage function ($V_i$) is denoted by:\n",
    "\n",
    "$$V_i(s) = \\frac{1}{s}$$\n",
    "\n",
    "Therefore, the output voltage function becomes:\n",
    "\n",
    "$$ V_o(s) = \\frac{1}{CRs+1} \\frac{1}{s}$$"
   ]
  },
  {
   "cell_type": "markdown",
   "metadata": {},
   "source": [
    "The equation can be developed as follows:\n",
    "$$\n",
    "\\begin{aligned}\n",
    "  V_o(s) & = \\frac{1}{(CRs+1)s} \\\\\n",
    "  & = \\frac{CRs + 1 - CRs}{(CRs+1)s} \\\\\n",
    "  & = \\frac{CRs+1}{(CRs+1)s}-\\frac{CRs}{(CRs+1)s} \\\\\n",
    "  & = \\frac{1}{s}-\\frac{CR}{CRs+1} \\\\\n",
    "  & = \\frac{1}{s}-\\frac{1}{s+\\frac{1}{CR}}\n",
    "\\end{aligned}\n",
    "$$"
   ]
  },
  {
   "cell_type": "markdown",
   "metadata": {},
   "source": [
    "Finally consider the following Laplace transforms:\n",
    "\n",
    "$$ \\mathcal{L}(1) = \\frac{1}{s} $$\n",
    "\n",
    "$$ \\mathcal{L}(e^{at}) = \\frac{1}{s-a} $$"
   ]
  },
  {
   "cell_type": "markdown",
   "metadata": {},
   "source": [
    "Using the above Laplace transforms, we get:\n",
    "\n",
    "$$ \\mathcal{L}^{-1} \\left( \\frac{1}{s}-\\frac{1}{s+\\frac{1}{CR}} \\right) = 1 - e^{-\\frac{1}{CR}} $$\n",
    "\n",
    "$$ V_o(t) = 1-e^{-\\frac{t}{CR}}$$"
   ]
  },
  {
   "cell_type": "markdown",
   "metadata": {},
   "source": [
    "We can simulate this result with the method presented below:"
   ]
  },
  {
   "cell_type": "code",
   "execution_count": 3,
   "metadata": {},
   "outputs": [
    {
     "data": {
      "application/vnd.jupyter.widget-view+json": {
       "model_id": "48399c6027b34ca7b0825cdbd1d706e4",
       "version_major": 2,
       "version_minor": 0
      },
      "text/plain": [
       "interactive(children=(FloatSlider(value=1.0, continuous_update=False, description='R: ', max=2.0, min=0.1), Fl…"
      ]
     },
     "metadata": {},
     "output_type": "display_data"
    }
   ],
   "source": [
    "def plotRC(R, C):\n",
    "    CR = R*C\n",
    "    t = np.linspace(0, 20, 1000)\n",
    "    Vi = np.ones(1000)\n",
    "    Vi[0] = 0\n",
    "    Vo = 1 - np.exp(-t/CR)\n",
    "\n",
    "    fig, ax = plt.subplots()\n",
    "    ax.plot(t, Vi, label='Vi')\n",
    "    ax.plot(t, Vo, label='Vo')\n",
    "    ax.set(xlabel='time (t)', ylabel='Voltage')\n",
    "    ax.grid()\n",
    "    plt.legend()\n",
    "    plt.show()\n",
    "\n",
    "@interact\n",
    "def TestRCplot(R = widgets.FloatSlider(min=0.1, max = 2, value=1, description='R: ', continuous_update=False),\n",
    "               C = widgets.FloatSlider(min=0.1, max = 2, value=1, description='C: ', continuous_update=False)):\n",
    "    plotRC(R, C)"
   ]
  },
  {
   "cell_type": "markdown",
   "metadata": {},
   "source": [
    "[Back to top](#EEEN30101-Numerical-Analysis)"
   ]
  },
  {
   "cell_type": "markdown",
   "metadata": {},
   "source": [
    "### RC circuit - Numerical analysis perspective"
   ]
  },
  {
   "cell_type": "markdown",
   "metadata": {},
   "source": [
    "From a numerical analysis perspective, we can represent our equation  (presented below) using a block diagram.\n",
    "\n",
    "$$ \\frac{\\partial V_o}{\\partial t} + \\frac{1}{CR}V_o = \\frac{1}{CR}Vi$$"
   ]
  },
  {
   "cell_type": "markdown",
   "metadata": {},
   "source": [
    "However, if it is not evident how to develop the block diagram, we can build it step-by-step.\n",
    "\n",
    "For this purpose, it is convenient to rewrite the equation so that $V_i$ and $V_o$ (input and output) are on one side of the equation (excluding the differential) as follows:\n",
    "\n",
    "$$V_i - V_o = RC \\frac{ \\partial V_o}{\\partial t}$$"
   ]
  },
  {
   "cell_type": "markdown",
   "metadata": {},
   "source": [
    "<img src=\"Figures/Week11_RC01.png\" alt=\"Fig02\" class=\"bg-primary\" width=\"400px\">"
   ]
  },
  {
   "cell_type": "markdown",
   "metadata": {},
   "source": [
    "We rewrite the equation by moving $RC$ to the left side of the equation:\n",
    "\n",
    "$$(V_i - V_o) \\frac{1}{RC} = \\frac{ \\partial V_o}{\\partial t}$$"
   ]
  },
  {
   "cell_type": "markdown",
   "metadata": {},
   "source": [
    "<img src=\"Figures/Week11_RC02.png\" alt=\"Fig03\" class=\"bg-primary\" width=\"400px\">"
   ]
  },
  {
   "cell_type": "markdown",
   "metadata": {},
   "source": [
    "The next step would be to integrate the differential equation to get:\n",
    "\n",
    "$$\\int \\frac{V_i - V_o}{RC} dt = V_o$$"
   ]
  },
  {
   "cell_type": "markdown",
   "metadata": {},
   "source": [
    "<img src=\"Figures/Week11_RC03.png\" alt=\"Fig04\" class=\"bg-primary\" width=\"550px\">"
   ]
  },
  {
   "cell_type": "markdown",
   "metadata": {},
   "source": [
    "We finally introduce a feedback loop to finalise the block diagram:"
   ]
  },
  {
   "cell_type": "markdown",
   "metadata": {},
   "source": [
    "<img src=\"Figures/Week11_RC04.png\" alt=\"Fig05\" class=\"bg-primary\" width=\"600px\">"
   ]
  },
  {
   "cell_type": "markdown",
   "metadata": {},
   "source": [
    "[Back to top](#EEEN30101-Numerical-Analysis)"
   ]
  },
  {
   "cell_type": "markdown",
   "metadata": {},
   "source": [
    "### General 1st order ODEs"
   ]
  },
  {
   "cell_type": "markdown",
   "metadata": {},
   "source": [
    "Consider the following block diagram, which represents a general 1st order linear ODE."
   ]
  },
  {
   "cell_type": "markdown",
   "metadata": {},
   "source": [
    "<img src=\"Figures/Week11_ODE.png\" alt=\"Fig06\" class=\"bg-primary\" width=\"600px\">"
   ]
  },
  {
   "cell_type": "markdown",
   "metadata": {},
   "source": [
    "The state space realisation associated with the block diagram is as follows:\n",
    "\n",
    "$$ \\frac{\\partial x}{\\partial t} = ax +bu$$\n",
    "\n",
    "$$y = cx$$\n",
    "\n",
    "Note that, in this example, we only have a single state: $x(t)$"
   ]
  },
  {
   "cell_type": "markdown",
   "metadata": {},
   "source": [
    "The corresponding ODE is:\n",
    "\n",
    "$$ \\frac{\\partial y}{\\partial t} = C \\frac{\\partial x}{\\partial t} - cax + cbu = ay + cbu$$"
   ]
  },
  {
   "cell_type": "markdown",
   "metadata": {},
   "source": [
    "The corresponding transfer function is:\n",
    "\n",
    "$$ Y(s) = \\frac{1}{s-a}cbu(s)$$\n",
    "\n",
    "Be aware that this representation is not unique."
   ]
  },
  {
   "cell_type": "markdown",
   "metadata": {},
   "source": [
    "[Back to top](#EEEN30101-Numerical-Analysis)"
   ]
  },
  {
   "cell_type": "markdown",
   "metadata": {},
   "source": [
    "## Analog simulation of higher order systems"
   ]
  },
  {
   "cell_type": "markdown",
   "metadata": {},
   "source": [
    "### Example of a second order ODE"
   ]
  },
  {
   "cell_type": "markdown",
   "metadata": {},
   "source": [
    "As an example of higher order systems, consider the following RLC system."
   ]
  },
  {
   "cell_type": "markdown",
   "metadata": {},
   "source": [
    "<img src=\"Figures/Week11_ODE2.png\" alt=\"Fig07\" class=\"bg-primary\" width=\"500px\">"
   ]
  },
  {
   "cell_type": "markdown",
   "metadata": {},
   "source": [
    "The system can be modelled with the following second order differential equation:"
   ]
  },
  {
   "cell_type": "markdown",
   "metadata": {},
   "source": [
    "$$ \\frac{\\partial^2 V_o}{\\partial t^2} + \\frac{R}{L} \\frac{\\partial V_0}{\\partial t} + \\frac{1}{LC}V_o = \\frac{1}{LC} V_i$$"
   ]
  },
  {
   "cell_type": "markdown",
   "metadata": {},
   "source": [
    "As this is a second order equation, we need two states (e.g., $x_1$ and $x_2$)\n",
    "\n",
    "$$x_1 = V_o$$\n",
    "\n",
    "$$ x_2 = \\frac{\\partial x_1}{\\partial t}$$"
   ]
  },
  {
   "cell_type": "markdown",
   "metadata": {},
   "source": [
    "Accordingly, we get:\n",
    "\n",
    "$$ \\frac{\\partial x_2}{\\partial t} + \\frac{R}{L} x_2 + \\frac{1}{LC}x_1 = \\frac{1}{LC} V_i$$\n"
   ]
  },
  {
   "cell_type": "markdown",
   "metadata": {},
   "source": [
    "The realisation of this equation is presented below:"
   ]
  },
  {
   "cell_type": "markdown",
   "metadata": {},
   "source": [
    "<img src=\"Figures/Week11_ODE2Full.png\" alt=\"Fig08\" class=\"bg-primary\" width=\"900px\">"
   ]
  },
  {
   "cell_type": "markdown",
   "metadata": {},
   "source": [
    "[Back to top](#EEEN30101-Numerical-Analysis)"
   ]
  },
  {
   "cell_type": "markdown",
   "metadata": {},
   "source": [
    "The block diagram bring together all the equations presented above, to be more specific:\n",
    "\n",
    "$$ \\frac{\\partial x_1}{\\partial t} = x_2$$\n",
    "\n",
    "$$ \\frac{\\partial}{\\partial t} [x_1] = \\left[ \\begin{array}{cc}0 & 1\\end{array} \\right] \\left[ \\begin{array}{c}x_1 \\\\ x_2\\end{array} \\right] $$"
   ]
  },
  {
   "cell_type": "markdown",
   "metadata": {},
   "source": [
    "<img src=\"Figures/Week11_ODE201.png\" alt=\"Fig09\" class=\"bg-primary\" width=\"170px\">"
   ]
  },
  {
   "cell_type": "markdown",
   "metadata": {},
   "source": [
    "$$V_o = x_1$$\n",
    "\n",
    "$$V_o = \\left[ \\begin{array}{cc}1 & 0\\end{array} \\right] \\left[ \\begin{array}{c}x_1 \\\\ x_2\\end{array} \\right] $$"
   ]
  },
  {
   "cell_type": "markdown",
   "metadata": {},
   "source": [
    "<img src=\"Figures/Week11_ODE202.png\" alt=\"Fig10\" class=\"bg-primary\" width=\"100px\">"
   ]
  },
  {
   "cell_type": "markdown",
   "metadata": {},
   "source": [
    "$$ \\frac{\\partial x_2}{\\partial t} = \\left[ (V_i - x_1) \\frac{1}{C} - Rx_2\\right] \\frac{1}{L}$$\n",
    "\n",
    "$$\\frac{\\partial}{\\partial t} [x_2] = \\left[ \\begin{array}{cc} -\\frac{1}{LC} & -\\frac{R}{L} \\end{array} \\right] \\left[ \\begin{array}{c} x_1 \\\\ x_2 \\end{array} \\right] + \\left[ \\begin{array}{c} 0 \\\\ \\frac{1}{LC} \\end{array} \\right] V_i(t)$$"
   ]
  },
  {
   "cell_type": "markdown",
   "metadata": {},
   "source": [
    "<img src=\"Figures/Week11_ODE203.png\" alt=\"Fig11\" class=\"bg-primary\" width=\"800px\">"
   ]
  },
  {
   "cell_type": "markdown",
   "metadata": {},
   "source": [
    "The full notation in matrix form is as follows:"
   ]
  },
  {
   "cell_type": "markdown",
   "metadata": {},
   "source": [
    "$$\\frac{\\partial}{\\partial t} \\left[ \\begin{array}{c}x_1 \\\\ x_2\\end{array} \\right] = \\left[ \\begin{array}{cc} 0 & 1 \\\\ -\\frac{1}{LC} & -\\frac{R}{L} \\end{array} \\right] \\left[ \\begin{array}{c} x_1 \\\\ x_2 \\end{array} \\right] + \\left[ \\begin{array}{c} 0 \\\\ \\frac{1}{LC} \\end{array} \\right] V_i(t)$$\n",
    "\n",
    "$$ V_o(t) = \\left[ \\begin{array}{cc}1 & 0\\end{array} \\right] \\left[ \\begin{array}{c}x_1 \\\\ x_2\\end{array} \\right]$$"
   ]
  },
  {
   "cell_type": "markdown",
   "metadata": {},
   "source": [
    "The state space formulation is:\n",
    "\n",
    "$$ \\underline{x} = \\left[ \\begin{array}{c}x_1 \\\\ x_2\\end{array} \\right]$$\n",
    "\n",
    "$$ \\underline{\\dot{x}} = A \\underline{x} + Bu$$\n",
    "\n",
    "$$y = C \\underline{x}$$"
   ]
  },
  {
   "cell_type": "markdown",
   "metadata": {},
   "source": [
    "A general second order ODE may take the following form:\n",
    "\n",
    "\n",
    "$$ \\frac{\\partial^2y }{\\partial t^2} + a_1\\frac{\\partial y}{\\partial t} +a_0y = b_1 \\frac{\\partial u}{ \\partial t} + b_0u$$"
   ]
  },
  {
   "cell_type": "markdown",
   "metadata": {},
   "source": [
    "[Back to top](#EEEN30101-Numerical-Analysis)"
   ]
  },
  {
   "cell_type": "markdown",
   "metadata": {},
   "source": [
    "### General 2nd order ODEs"
   ]
  },
  {
   "cell_type": "markdown",
   "metadata": {},
   "source": [
    "There are multiple options to realise this ODE. An example realisation is presented below:"
   ]
  },
  {
   "cell_type": "markdown",
   "metadata": {},
   "source": [
    "<img src=\"Figures/Week11_ODE204.png\" alt=\"Fig12\" class=\"bg-primary\" width=\"750px\">"
   ]
  },
  {
   "cell_type": "markdown",
   "metadata": {},
   "source": [
    "Using standard matrix notation, we get:"
   ]
  },
  {
   "cell_type": "markdown",
   "metadata": {},
   "source": [
    "$$\\frac{\\partial}{\\partial t} \\left[ \\begin{array}{c}x_1 \\\\ x_2\\end{array} \\right] = \\left[ \\begin{array}{cc} 0 & 1 \\\\ -a_0 & -a_1 \\end{array} \\right] \\left[ \\begin{array}{c} x_1 \\\\ x_2 \\end{array} \\right] + \\left[ \\begin{array}{c} 0 \\\\ 1 \\end{array} \\right] u$$\n",
    "\n",
    "$$y = \\left[ \\begin{array}{cc}b_1 & b_0\\end{array} \\right] \\left[ \\begin{array}{c} x_1 \\\\ x_2 \\end{array} \\right] $$"
   ]
  },
  {
   "cell_type": "markdown",
   "metadata": {},
   "source": [
    "To obtain the corresponding transfer function, it is convenient to take the Laplace transform:\n",
    "\n",
    "\n",
    "$$sX(s) = AX(s)+BU(s)$$\n",
    "\n",
    "$$Y(s) = CX(s)$$"
   ]
  },
  {
   "cell_type": "markdown",
   "metadata": {},
   "source": [
    "We can rearrange the equations as follows:\n",
    "\n",
    "$$(sI - A)X(s) = BU(s)$$\n",
    "\n",
    "and hence:\n",
    "\n",
    "$$X(s) = (sI -A)^{-1} BU(s)$$\n",
    "\n",
    "Substituting the results back in the previous equation, we get:\n",
    "\n",
    "$$\n",
    "\\begin{aligned}\n",
    "  Y(s)  & = \\underbrace{C(sI-A)^{-1}B} & U(s)\\\\\n",
    "   & \\quad \\quad \\; P(s) & \n",
    "\\end{aligned}\n",
    "$$"
   ]
  },
  {
   "cell_type": "markdown",
   "metadata": {},
   "source": [
    "In this case:\n",
    "\n",
    "$$ A = \\left[ \\begin{array}{cc} 0 & 1 \\\\ -a_0 & -a_1 \\end{array} \\right] $$\n",
    "\n",
    "$$ B = \\left[ \\begin{array}{c} 0 \\\\ 1 \\end{array} \\right] $$\n",
    "\n",
    "$$C = \\left[ \\begin{array}{cc} b_1 & b_0 \\end{array} \\right] $$"
   ]
  },
  {
   "cell_type": "markdown",
   "metadata": {},
   "source": [
    "Remember the general procedure to invert a 2x2 matrix:\n",
    "\n",
    "$$ \\left[ \\begin{array}{cc} a & b \\\\ c & d \\end{array} \\right]^{-1} = \\frac{1}{ad-bc}\\left[ \\begin{array}{cc} d & -b \\\\ -c & a \\end{array} \\right]$$"
   ]
  },
  {
   "cell_type": "markdown",
   "metadata": {},
   "source": [
    "Accordingly, the transfer function is:\n",
    "\n",
    "$$\n",
    "\\begin{aligned}\n",
    "  P(s) & = C(sI-A)^{-1}B\\\\\n",
    "  & = \\left[ \\begin{array}{cc} b_1 & b_0 \\end{array} \\right] \\left[ \\begin{array}{cc} 0 & 1 \\\\ a_0 & s+a_1 \\end{array} \\right]^{-1} \\left[ \\begin{array}{c} 0 \\\\ 1 \\end{array} \\right] \\\\\n",
    "  & = \\left[ \\begin{array}{cc} b_1 & b_0 \\end{array} \\right] \\frac{1}{s^2+a_1s+a_0}\\left[ \\begin{array}{cc} s+a_1 & 1 \\\\ a_0 & s \\end{array} \\right] \\left[ \\begin{array}{c} 0 \\\\ 1 \\end{array} \\right] \\\\\n",
    "  & = \\frac{1}{s^2+a_1s+a_0}\\left[ \\begin{array}{cc} b_1 & b_0 \\end{array} \\right] \\left[ \\begin{array}{c} 1 \\\\ s \\end{array} \\right] \\\\\n",
    "  & = \\frac{b_1s+b_0}{s^2+a_1s+a_0}\n",
    "\\end{aligned}\n",
    "$$"
   ]
  },
  {
   "cell_type": "markdown",
   "metadata": {},
   "source": [
    "Hence:\n",
    "$$P(s) (s^2+a_1s+a_0) = b_1s+b_0$$\n",
    "\n",
    "\n",
    "$$ \\frac{\\partial ^2y}{\\partial t^2} + a_1 \\frac{\\partial y}{\\partial t} + a_0y = b_1 \\frac{\\partial u}{\\partial t}+b_0u$$\n"
   ]
  },
  {
   "cell_type": "markdown",
   "metadata": {},
   "source": [
    "We can generalise this kind of realisation in different manners:\n",
    "1. higher order differential equations\n",
    "    - the number of integration blocks corresponds to the order of the differential equations\n",
    "    - the number of states correspond to the order of the differential equations"
   ]
  },
  {
   "cell_type": "markdown",
   "metadata": {},
   "source": [
    "2. Multivariable system (e.g., $m$ outputs and $n$ inputs)\n",
    "\n",
    "$$ \\underline{y}(t) = \\left[ \\begin{array}{c} y_1(t) \\\\ \\vdots \\\\ y_m(t) \\end{array} \\right]$$\n",
    "\n",
    "$$ \\underline{u}(t) = \\left[ \\begin{array}{c} u_1(t) \\\\ \\vdots \\\\ u_n(t) \\end{array} \\right]$$"
   ]
  },
  {
   "cell_type": "markdown",
   "metadata": {},
   "source": [
    "\n",
    "\n",
    "3. Nonlinear systems\n",
    "\n",
    "$$ \\frac{\\partial}{\\partial t} x = f(x, u) $$\n",
    "\n",
    "$$ y=g(x) $$\n",
    "\n",
    "The implementation of the nonlinear systems may look as follows:"
   ]
  },
  {
   "cell_type": "markdown",
   "metadata": {},
   "source": [
    "<img src=\"Figures/Week11_ODE205.png\" alt=\"Fig13\" class=\"bg-primary\" width=\"450px\">"
   ]
  },
  {
   "cell_type": "markdown",
   "metadata": {},
   "source": [
    "[Back to top](#EEEN30101-Numerical-Analysis)"
   ]
  },
  {
   "cell_type": "markdown",
   "metadata": {},
   "source": [
    "## Conclusion"
   ]
  },
  {
   "cell_type": "markdown",
   "metadata": {},
   "source": [
    "At the end of this week's lecture and after going through this notebook, you should be able to address the following questions:<br/>\n",
    "- What are first order ODEs?<br/>\n",
    "- What are higher order ODEs?<br/>\n",
    "- How do you sketch the realisation of an ODE?<br/>\n",
    "- How do you define the state space equation associated with an ODE?<br/>\n",
    "- How do you develop the transfer function associated with an ODE?<br/><br/>\n",
    "\n",
    "If you cannot answer these questions, you may want to check again this notebook and the lecture notes."
   ]
  },
  {
   "cell_type": "markdown",
   "metadata": {},
   "source": [
    "[Back to top](#EEEN30101-Numerical-Analysis)"
   ]
  }
 ],
 "metadata": {
  "kernelspec": {
   "display_name": "Python 3 (ipykernel)",
   "language": "python",
   "name": "python3"
  },
  "language_info": {
   "codemirror_mode": {
    "name": "ipython",
    "version": 3
   },
   "file_extension": ".py",
   "mimetype": "text/x-python",
   "name": "python",
   "nbconvert_exporter": "python",
   "pygments_lexer": "ipython3",
   "version": "3.10.9"
  },
  "toc": {
   "base_numbering": 1,
   "nav_menu": {},
   "number_sections": true,
   "sideBar": true,
   "skip_h1_title": true,
   "title_cell": "Table of Contents",
   "title_sidebar": "Contents",
   "toc_cell": false,
   "toc_position": {
    "height": "calc(100% - 180px)",
    "left": "10px",
    "top": "150px",
    "width": "426.667px"
   },
   "toc_section_display": true,
   "toc_window_display": true
  }
 },
 "nbformat": 4,
 "nbformat_minor": 4
}
