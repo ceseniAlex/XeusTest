{
 "cells": [
  {
   "cell_type": "markdown",
   "metadata": {},
   "source": [
    "# EEEN30131 Power System Analysis: Week 06 - Primary Voltage Control"
   ]
  },
  {
   "cell_type": "markdown",
   "metadata": {},
   "source": [
    "***&copy; 2024 Martínez Ceseña — University of Manchester, UK***"
   ]
  },
  {
   "cell_type": "markdown",
   "metadata": {},
   "source": [
    "This notebook provides several examples covering frequency regulation and generation control, including general `python` code which can be used to solve the examples and create new ones.\n",
    "\n",
    "The use of the notebooks is optional and will not be marked. That said, you are strongly encouraged to play with the tools and examples, as such activities will better prepare you for the exams."
   ]
  },
  {
   "cell_type": "markdown",
   "metadata": {},
   "source": [
    "## List of contents"
   ]
  },
  {
   "cell_type": "markdown",
   "metadata": {},
   "source": [
    "- [Power flow models](#Power-flow-models)\n",
    "  - [Backward-Forward Sweep](#Backward-Forward-Sweep)\n",
    "  - [Adding shunt components](#Adding-shunt-components)\n",
    "  - [Comparing the power flow simulators](#Comparing-the-power-flow-simulators)\n",
    "- [Voltage control](#Voltage-control)\n",
    "  - [Two-bus system example](#Two-bus-system-example)\n",
    "  - [Power circle diagram](#Power-circle-diagram)\n",
    "  - [Series compensation](#Series-compensation)\n",
    "  - [Generators](#Generators)\n",
    "  - [Tap-changing transformers](#Tap-changing-transformers)"
   ]
  },
  {
   "cell_type": "markdown",
   "metadata": {},
   "source": [
    "## Before we begin"
   ]
  },
  {
   "cell_type": "markdown",
   "metadata": {},
   "source": [
    "Before we begin: \n",
    "- Make sure to review the asynchronous materials provided in blackboard for EEEN30131 Week 6 - Primary voltage control \n",
    "\n",
    "This notebook builds on the materials that were presented in previous sessions. Therefore, make sure to review the asynchronous materials provided in blackboard for EEEN30131:\n",
    "  - Week 1 - Nodal analysis \n",
    "  - Week 2 - Power Flow Formulation \n",
    "  - Week 3 - Newton Raphson\n",
    "  - Week 4 - Frequency regulation\n",
    "  - Week 5 - Interconnected systems\n",
    "\n",
    "- If you have any questions, please post them in the discussion boards or, if that is not possible, send an email to alex.martinezcesena@manchester.ac.uk"
   ]
  },
  {
   "cell_type": "markdown",
   "metadata": {},
   "source": [
    "If this data notebook is being used in Jupyter lite, the folders where the python code that supports this notebook are stored, have to be enabled."
   ]
  },
  {
   "cell_type": "code",
   "execution_count": 1,
   "metadata": {},
   "outputs": [],
   "source": [
    "from pathlib import Path\n",
    "if Path.cwd().drive == '':\n",
    "    a_dir = Path(\"dir\")\n",
    "    a_dir.mkdir(exist_ok=True)"
   ]
  },
  {
   "cell_type": "markdown",
   "metadata": {},
   "source": [
    "The following libraries are required by the notebook:"
   ]
  },
  {
   "cell_type": "code",
   "execution_count": 2,
   "metadata": {},
   "outputs": [],
   "source": [
    "import cmath\n",
    "import numpy\n",
    "import matplotlib.pyplot as plt\n",
    "import math"
   ]
  },
  {
   "cell_type": "markdown",
   "metadata": {},
   "source": [
    "The notebook borrows several tools developed in previous weeks, so we need to import them here:"
   ]
  },
  {
   "cell_type": "code",
   "execution_count": 3,
   "metadata": {},
   "outputs": [],
   "source": [
    "from Code.Wk1_EEEN30131 import get_Ybus\n",
    "from Code.Wk2_EEEN30131 import get_Bus_Type, develop_PF_Equations\n",
    "from Code.Wk3_EEEN30131 import Newtons_Method"
   ]
  },
  {
   "cell_type": "markdown",
   "metadata": {},
   "source": [
    "[Back to top](#EEEN30131-Power-System-Analysis:-Week-06---Primary-Voltage-Control)"
   ]
  },
  {
   "cell_type": "markdown",
   "metadata": {},
   "source": [
    "## Power flow models"
   ]
  },
  {
   "cell_type": "markdown",
   "metadata": {},
   "source": [
    "### Backward-Forward Sweep"
   ]
  },
  {
   "cell_type": "markdown",
   "metadata": {},
   "source": [
    "Consider the 2-bus system below, which can represent a power line."
   ]
  },
  {
   "cell_type": "markdown",
   "metadata": {},
   "source": [
    "![Week02_2Bus.png](Figures/Week02_2Bus.png)"
   ]
  },
  {
   "cell_type": "markdown",
   "metadata": {},
   "source": [
    "The power flows in this system can be simulated with the tools developed in previous notebooks."
   ]
  },
  {
   "cell_type": "code",
   "execution_count": 4,
   "metadata": {},
   "outputs": [],
   "source": [
    "Connectivity = [\n",
    "    [1, 2, complex(0, 0.1), 0]\n",
    "]\n",
    "Load = [\n",
    "    [2, complex(0.5, 0.5)]\n",
    "]\n",
    "Generator = [\n",
    "    {'Bus':1, 'V':1, '𝜃':0 }\n",
    "]"
   ]
  },
  {
   "cell_type": "markdown",
   "metadata": {},
   "source": [
    "However, there are simpler approaches to simulate the power flows which can take advantages of specific characteristics of some systems. For example, as the system under consideration is radial, we can use the Bakward-Forward Sweep (BFS) approach.\n",
    "\n",
    "The BFS can be implemented with the following 4 steps:\n",
    "   1. Initialize voltages at the receiving end assuming flat-start conditions\n",
    "$$\n",
    "V_r = 1 \\angle 0\n",
    "$$\n",
    "   2. Calculate current across the line's impedance as a function of the voltages, assume PQ loads, (backward sweep)\n",
    "$$\n",
    "I_z = - \\left( \\frac{S_r}{V_r} \\right) ^* +V_r \\frac{B}{2}\n",
    "$$ \n",
    "   3. Calculate new voltages at the receiving end using the calculated current (forward sweep)\n",
    "$$\n",
    "V_r = V_s - I_z \\times Z\n",
    "$$\n",
    "   4. Repeat backward forward sweep until convergence"
   ]
  },
  {
   "cell_type": "code",
   "execution_count": 5,
   "metadata": {},
   "outputs": [],
   "source": [
    "def bfs(Generator, Connectivity, Load):\n",
    "    V1 = Generator[0]['V'] * \\\n",
    "        complex(math.cos(Generator[0]['𝜃']),\n",
    "                math.sin(Generator[0]['𝜃']))\n",
    "    V2 = complex(1, 0)\n",
    "    Z = Connectivity[0][2]\n",
    "    B = complex(0, Connectivity[0][3])\n",
    "    S2 = -Load[0][1]\n",
    "\n",
    "    Threshold = cmath.inf\n",
    "    flg = True\n",
    "    iterations = 0\n",
    "    while flg:\n",
    "        I = -(S2/V2).conjugate() + V2*B/2  # Backward sweep\n",
    "        Threshold = abs(V2 - V1 + I * Z)  # Calculate error\n",
    "        V2 = V1 - I * Z  # Forward sweep\n",
    "\n",
    "        # Convergence criteria\n",
    "        iterations += 1\n",
    "        if iterations > 20:\n",
    "            print('The model failed to converge after 20 iterations')\n",
    "            flg = False\n",
    "            Succes = False\n",
    "        if Threshold < 0.00001:  # Accuracy check\n",
    "            flg = False\n",
    "            Succes = True\n",
    "\n",
    "    V_All = [abs(V1), abs(V2)]\n",
    "    𝜃_All = [cmath.phase(V1), cmath.phase(V2)]\n",
    "\n",
    "    return V_All, 𝜃_All, Threshold, Succes"
   ]
  },
  {
   "cell_type": "markdown",
   "metadata": {},
   "source": [
    "If we compare the outputs of the models, we can see that the results match."
   ]
  },
  {
   "cell_type": "code",
   "execution_count": 6,
   "metadata": {},
   "outputs": [
    {
     "name": "stdout",
     "output_type": "stream",
     "text": [
      "************       BFS:        ************\n",
      "Voltages according to BFS method:\n",
      "V1 =   1.0000 ∠   0.0000 [pu][deg]\n",
      "V2 =   0.9457 ∠  -3.0306 [pu][deg]\n",
      "\n",
      "************ NEWTONs METHOD: ************\n",
      "Voltages according to BFS method:\n",
      "V1 =   1.0000 ∠   0.0000 [pu][deg]\n",
      "V2 =   0.9457 ∠  -3.0306 [pu][deg]\n"
     ]
    }
   ],
   "source": [
    "print('************       BFS:        ************')\n",
    "V_All, 𝜃_All, Threshold, Succes = bfs(Generator, Connectivity, Load)\n",
    "\n",
    "print('Voltages according to BFS method:')\n",
    "for xb, V, 𝜃 in zip(range(len(V_All)), V_All, 𝜃_All):\n",
    "    print('V%d =  %7.4f ∠ %8.4f [pu][deg]'%(xb+1, V, 𝜃*180/math.pi))\n",
    "\n",
    "print('\\n************ NEWTONs METHOD: ************')\n",
    "Ybus = get_Ybus(Connectivity, True, False)\n",
    "P_Data, Q_Data = develop_PF_Equations(Load, Generator, Ybus, True, False)\n",
    "Bus_Data, Bus_Type = get_Bus_Type(Ybus, Load, Generator)\n",
    "V_All, 𝜃_All, Threshold, Succes = Newtons_Method(P_Data, Q_Data, Bus_Data, Bus_Type, Generator, 0)\n",
    "\n",
    "print('Voltages according to BFS method:')\n",
    "for xb, V, 𝜃 in zip(range(len(V_All)), V_All, 𝜃_All):\n",
    "    print('V%d =  %7.4f ∠ %8.4f [pu][deg]'%(xb+1, V, 𝜃*180/math.pi))"
   ]
  },
  {
   "cell_type": "markdown",
   "metadata": {},
   "source": [
    "[Back to top](#EEEN30131-Power-System-Analysis:-Week-06---Primary-Voltage-Control)"
   ]
  },
  {
   "cell_type": "markdown",
   "metadata": {},
   "source": [
    "### Adding shunt components"
   ]
  },
  {
   "cell_type": "markdown",
   "metadata": {},
   "source": [
    "As we are now including the shunt line components $B$, it is convenient to update the method used to calculate network parameters, especially the line currents and power flows. For this purpose, it is assumed that half of the shunt susceptance is connected at each edge of each line. This is called the **pi** line model."
   ]
  },
  {
   "cell_type": "code",
   "execution_count": 7,
   "metadata": {},
   "outputs": [],
   "source": [
    "def get_Parameters(Connectivity, V_All, 𝜃_All, Succes):\n",
    "    ''' Calculate additional parameters '''\n",
    "    if not Succes:\n",
    "        return\n",
    "\n",
    "    Base = 100\n",
    "    Number_Buses = len(V_All)\n",
    "\n",
    "    Results = {}\n",
    "    Results['Connectivity'] = Connectivity\n",
    "    Results['Voltage'] = []\n",
    "    Results['Current'] = []\n",
    "    Results['Current2'] = []\n",
    "    Results['Sending_Power'] = []\n",
    "    Results['Receiving_Power'] = []\n",
    "    Results['Net_Power'] = [0 for bus in range(Number_Buses)]\n",
    "    Results['Loss'] = []\n",
    "    Results['Generation'] = []\n",
    "\n",
    "    # Get complex voltages\n",
    "    for bus in range(Number_Buses):\n",
    "        Results['Voltage'].append(V_All[bus]*complex(math.cos(𝜃_All[bus]),\n",
    "                                                     math.sin(𝜃_All[bus])))\n",
    "\n",
    "    for branch in Connectivity:\n",
    "        s = branch[0]-1\n",
    "        r = branch[1]-1\n",
    "        Y = 1/branch[2]\n",
    "        B = complex(0, branch[3]/2)\n",
    "\n",
    "        # Complex voltages\n",
    "        Vs = Results['Voltage'][s]\n",
    "        Vr = Results['Voltage'][r]\n",
    "\n",
    "        # Complex currents\n",
    "        I = Y * (Vs - Vr)\n",
    "        I1 = Y * (Vs - Vr) + Vs*B\n",
    "        I2 = Y * (Vr - Vs) + Vr*B\n",
    "\n",
    "        # Power at both ends of the line\n",
    "        Ss0 = Vs*I.conjugate()*Base\n",
    "        Sr0 = Vr*I.conjugate()*Base\n",
    "        Ss = Vs*I1.conjugate()*Base\n",
    "        Sr = Vr*I2.conjugate()*Base\n",
    "\n",
    "        # Store data\n",
    "        Results['Current'].append(I1)\n",
    "        Results['Current2'].append(I2)\n",
    "        Results['Sending_Power'].append(Ss)\n",
    "        Results['Receiving_Power'].append(Sr)\n",
    "        Results['Loss'].append(Ss0-Sr0)\n",
    "        Results['Net_Power'][s] += Ss\n",
    "        Results['Net_Power'][r] += Sr\n",
    "\n",
    "    return Results"
   ]
  },
  {
   "cell_type": "markdown",
   "metadata": {},
   "source": [
    "Based on the **pi** model, and using an example with two lines, the susceptances can be modelled by placing half the susceptances at each edge of the lines.\n",
    "\n",
    "Be aware that if $Y = j \\frac{B}{2}$ then $Z = -j \\frac{2}{B}$ and that the susceptances are assumed to connect the buses and the ground (bus zero)."
   ]
  },
  {
   "cell_type": "code",
   "execution_count": 8,
   "metadata": {},
   "outputs": [
    {
     "name": "stdout",
     "output_type": "stream",
     "text": [
      "Ybus =\n",
      "   33.0033 + j  -329.4330 |  -33.0033 + j   330.0330 |    0.0000 + j     0.0000 |\n",
      "  -33.0033 + j   330.0330 |   39.6040 + j  -394.3396 |   -6.6007 + j    66.0066 |\n",
      "    0.0000 + j     0.0000 |   -6.6007 + j    66.0066 |    6.6007 + j   -64.9066 |\n"
     ]
    }
   ],
   "source": [
    "Connectivity = [\n",
    "    [1, 2, complex(0.0003, 0.0030), 1.2],\n",
    "    [2, 3, complex(0.0015, 0.0150), 2.2],\n",
    "    [1, 0, complex(0, -2/1.2)],\n",
    "    [2, 0, complex(0, -2/1.2)],\n",
    "    [2, 0, complex(0, -2/2.2)],\n",
    "    [3, 0, complex(0, -2/2.2)]\n",
    "    ]\n",
    "# From Week 01\n",
    "Ybus = get_Ybus(Connectivity, True, False)\n",
    "print('Ybus =')\n",
    "for Yv in Ybus:\n",
    "    for Y in Yv:\n",
    "        print('%10.4f + j %10.4f |'%(Y.real, Y.imag), end='')\n",
    "    print()"
   ]
  },
  {
   "cell_type": "markdown",
   "metadata": {},
   "source": [
    "However, rather than manually adding each shunt component, it is convenient to update the approach used to calculate the $Y_{bus}$ matrix. "
   ]
  },
  {
   "cell_type": "code",
   "execution_count": 9,
   "metadata": {},
   "outputs": [
    {
     "name": "stdout",
     "output_type": "stream",
     "text": [
      "Ybus =\n",
      "   33.0033 + j  -329.4330 |  -33.0033 + j   330.0330 |    0.0000 + j     0.0000 |\n",
      "  -33.0033 + j   330.0330 |   39.6040 + j  -394.3396 |   -6.6007 + j    66.0066 |\n",
      "    0.0000 + j     0.0000 |   -6.6007 + j    66.0066 |    6.6007 + j   -64.9066 |\n"
     ]
    }
   ],
   "source": [
    "def get_Ybus(Connectivity, flg=False, prnt=True):\n",
    "    # Get number of branches\n",
    "    Number_Branches = len(Connectivity)\n",
    "\n",
    "    # Get number of nodes\n",
    "    Number_Buses = 0\n",
    "    for branch in range(Number_Branches):\n",
    "        Number_Buses = \\\n",
    "            max([Number_Buses, Connectivity[branch][0],\n",
    "                 Connectivity[branch][1]])\n",
    "\n",
    "    # Display network data\n",
    "    if prnt:\n",
    "        print('The network has %d branches and %d buses' %\n",
    "              (Number_Branches, Number_Buses))\n",
    "        print('______________________________')\n",
    "        print('Branch | From - To | Impedance')\n",
    "        print('------------------------------')\n",
    "        for branch in range(Number_Branches):\n",
    "            print('%5.0f  | %4.0f - %2.0f |' %\n",
    "                  (branch+1, Connectivity[branch][0], Connectivity[branch][1]),\n",
    "                  end=' ')\n",
    "            print(Connectivity[branch][2])\n",
    "        print('_______|___________|__________')\n",
    "\n",
    "    # Build Ybus matrix\n",
    "    Ybus = numpy.zeros((Number_Buses, Number_Buses), dtype=complex)\n",
    "    for branch in range(Number_Branches):\n",
    "        From = Connectivity[branch][0] - 1\n",
    "        To = Connectivity[branch][1] - 1\n",
    "\n",
    "        Y = 1/Connectivity[branch][2]\n",
    "        B = complex(0, Connectivity[branch][3])\n",
    "\n",
    "        if From >= 0 and To >= 0:\n",
    "            Ybus[From][To] = -Y\n",
    "            Ybus[To][From] = -Y\n",
    "\n",
    "        if From >= 0:\n",
    "            Ybus[From][From] += Y + B/2\n",
    "\n",
    "        if To >= 0:\n",
    "            Ybus[To][To] += Y + B/2\n",
    "\n",
    "    if prnt:\n",
    "        print('\\nYbus = \\n', Ybus)\n",
    "    if flg:\n",
    "        return Ybus\n",
    "\n",
    "Connectivity = [\n",
    "    [1, 2, complex(0.0003, 0.0030), 1.2],\n",
    "    [2, 3, complex(0.0015, 0.0150), 2.2]\n",
    "    ]\n",
    "# From Week 01\n",
    "Ybus = get_Ybus(Connectivity, True, False)\n",
    "print('Ybus =')\n",
    "for Yv in Ybus:\n",
    "    for Y in Yv:\n",
    "        print('%10.4f + j %10.4f |'%(Y.real, Y.imag), end='')\n",
    "    print()"
   ]
  },
  {
   "cell_type": "markdown",
   "metadata": {},
   "source": [
    "[Back to top](#EEEN30131-Power-System-Analysis:-Week-06---Primary-Voltage-Control)"
   ]
  },
  {
   "cell_type": "markdown",
   "metadata": {},
   "source": [
    "### Comparing the power flow simulators"
   ]
  },
  {
   "cell_type": "markdown",
   "metadata": {},
   "source": [
    "We can now compare both methods with case studies that include shunt components."
   ]
  },
  {
   "cell_type": "code",
   "execution_count": 10,
   "metadata": {},
   "outputs": [
    {
     "name": "stdout",
     "output_type": "stream",
     "text": [
      "************       BFS:        ************\n",
      "Voltages according to BFS method:\n",
      "V1 =   1.0000 ∠   0.0000 [pu][deg]\n",
      "V2 =   1.0699 ∠  -2.6787 [pu][deg]\n",
      "\n",
      "************ NEWTONs METHOD: ************\n",
      "Voltages according to BFS method:\n",
      "V1 =   1.0000 ∠   0.0000 [pu][deg]\n",
      "V2 =   1.0699 ∠  -2.6787 [pu][deg]\n"
     ]
    }
   ],
   "source": [
    "Connectivity = [\n",
    "    [1, 2, complex(0, 0.1), 2.2]\n",
    "]\n",
    "Load = [\n",
    "    [2, complex(0.5, 0.5)]\n",
    "]\n",
    "Generator = [\n",
    "    {'Bus':1, 'V':1, '𝜃':0 }\n",
    "]\n",
    "print('************       BFS:        ************')\n",
    "V_All, 𝜃_All, Threshold, Succes = bfs(Generator, Connectivity, Load)\n",
    "\n",
    "print('Voltages according to BFS method:')\n",
    "for xb, V, 𝜃 in zip(range(len(V_All)), V_All, 𝜃_All):\n",
    "    print('V%d =  %7.4f ∠ %8.4f [pu][deg]'%(xb+1, V, 𝜃*180/math.pi))\n",
    "\n",
    "print('\\n************ NEWTONs METHOD: ************')\n",
    "Ybus = get_Ybus(Connectivity, True, False)\n",
    "P_Data, Q_Data = develop_PF_Equations(Load, Generator, Ybus, True, False)\n",
    "Bus_Data, Bus_Type = get_Bus_Type(Ybus, Load, Generator)\n",
    "V_All, 𝜃_All, Threshold, Succes = Newtons_Method(P_Data, Q_Data, Bus_Data, Bus_Type, Generator, 0)\n",
    "\n",
    "print('Voltages according to BFS method:')\n",
    "for xb, V, 𝜃 in zip(range(len(V_All)), V_All, 𝜃_All):\n",
    "    print('V%d =  %7.4f ∠ %8.4f [pu][deg]'%(xb+1, V, 𝜃*180/math.pi))"
   ]
  },
  {
   "cell_type": "markdown",
   "metadata": {},
   "source": [
    "[Back to top](#EEEN30131-Power-System-Analysis:-Week-06---Primary-Voltage-Control)"
   ]
  },
  {
   "cell_type": "markdown",
   "metadata": {},
   "source": [
    "## Voltage control"
   ]
  },
  {
   "cell_type": "markdown",
   "metadata": {},
   "source": [
    "### Two-bus system example"
   ]
  },
  {
   "cell_type": "markdown",
   "metadata": {},
   "source": [
    "Consider the system presented below.\n",
    "- What can you do to adjust the voltage in bus 2?\n",
    "- What happens if the load changes or becomes negative (e.g., distributed generation)?\n",
    "- Try to keep the voltage at 0.95 pu as you change the loads, is that easy to do?"
   ]
  },
  {
   "cell_type": "markdown",
   "metadata": {},
   "source": [
    "![Week02_2Bus.png](Figures/Week02_2Bus.png)"
   ]
  },
  {
   "cell_type": "code",
   "execution_count": 11,
   "metadata": {},
   "outputs": [],
   "source": [
    "def VC_01(P, Q, V):\n",
    "\n",
    "    Connectivity = [\n",
    "        [1, 2, complex(0, 0.1), 0]\n",
    "    ]\n",
    "    Load = [\n",
    "        [2, complex(P, Q)]\n",
    "    ]\n",
    "    Generator = [\n",
    "        {'Bus': 1, 'V': V, '𝜃': 0}\n",
    "    ]\n",
    "    V_All, 𝜃_All, Threshold, Succes = bfs(Generator, Connectivity, Load)\n",
    "    for xb, V, 𝜃 in zip(range(len(V_All)), V_All, 𝜃_All):\n",
    "        print('V%d =  %7.4f ∠ %8.4f [pu][deg]' % (xb+1, V, 𝜃*180/math.pi))"
   ]
  },
  {
   "cell_type": "code",
   "execution_count": 12,
   "metadata": {},
   "outputs": [
    {
     "name": "stdout",
     "output_type": "stream",
     "text": [
      "V1 =   1.0000 ∠   0.0000 [pu][deg]\n",
      "V2 =   0.9457 ∠  -3.0306 [pu][deg]\n"
     ]
    }
   ],
   "source": [
    "P = 0.5  # Consider values between -5 and 5\n",
    "Q = 0.5  # Consider values between -5 and 5\n",
    "V = 1  # Consider values between 0.95 and 1.05\n",
    "\n",
    "VC_01(P, Q, V)"
   ]
  },
  {
   "cell_type": "markdown",
   "metadata": {},
   "source": [
    "[Back to top](#EEEN30131-Power-System-Analysis:-Week-06---Primary-Voltage-Control)"
   ]
  },
  {
   "cell_type": "markdown",
   "metadata": {},
   "source": [
    "### Power circle diagram"
   ]
  },
  {
   "cell_type": "markdown",
   "metadata": {},
   "source": [
    "From the example above, there is an evident connection between voltage drops and active and reactive power at both ends of the line (sending and receiving ends). However, it can be unclear and, therefore, it is convenient to visualize it. For this purpose, let us take a closer look at the 2-bus system which can represent a power line.\n",
    "\n",
    "When analysing the power flows across the line, it may be deduced that the relationship between the sending end (Bus 1) power and the receiving end (Bus2) powers can be expressed as\n",
    "$$\n",
    "V_s = V_r + ZI_r\\\\\n",
    "I_s = I_r\n",
    "$$\n",
    "\n",
    "This relationship between sending and receiving voltages can be plotted as circles. This is known as the sending end and receiving end **power circle** diagrams. We will create methods to create and plot the diagrams below."
   ]
  },
  {
   "cell_type": "code",
   "execution_count": 13,
   "metadata": {},
   "outputs": [],
   "source": [
    "def get_power_circle(V_All, Connectivity):\n",
    "    '''Method to create power circle diagrams'''\n",
    "    # Radius\n",
    "    radius = abs(V_All[0]) * abs(V_All[1]) / abs(Connectivity[0][2])\n",
    "    Ph = cmath.phase(Connectivity[0][2])\n",
    "\n",
    "    # Sending end\n",
    "    aux = abs(V_All[0])**2/abs(Connectivity[0][2])\n",
    "    centreS = [aux * numpy.cos(Ph), aux * math.sin(Ph)]\n",
    "\n",
    "    # Receiving end\n",
    "    aux = -abs(V_All[1])**2/abs(Connectivity[0][2])\n",
    "    centreR = [aux * numpy.cos(Ph), aux * math.sin(Ph)]\n",
    "\n",
    "    return radius, centreR, centreS\n",
    "\n",
    "def plot_circles(centreR, centreS, radius, Point1=[None], Point2=[None],\n",
    "                 Axes=[None]):\n",
    "    '''Method to plot both powe circle diagrams'''\n",
    "    circle1 = plt.Circle(centreS, radius, color='b', fill=False)\n",
    "    circle2 = plt.Circle(centreR, radius, color='b', fill=False)\n",
    "    fig, ax = plt.subplots()\n",
    "    ax.add_patch(circle1)\n",
    "    ax.add_patch(circle2)\n",
    "    plt.grid(linestyle='--')\n",
    "    plt.xlabel('Real power [pu]')\n",
    "    plt.ylabel('Reactive power [pu]')\n",
    "    if Axes[0] is None:\n",
    "        ax.set_xlim((min([centreS[0], centreR[0]])-radius,\n",
    "                     max([centreS[0], centreR[0]])+radius))\n",
    "        ax.set_ylim((min([centreS[1], centreR[1]])-radius,\n",
    "                     max([centreS[1], centreR[1]])+radius))\n",
    "    else:\n",
    "        ax.set_xlim((Axes[0], Axes[1]))\n",
    "        ax.set_ylim((Axes[2], Axes[3]))\n",
    "    if Point1[0] is not None:\n",
    "        plt.plot(Point1[0], Point1[1], marker='o', label='Load')\n",
    "    if Point2[0] is not None:\n",
    "        plt.plot(Point2[0], Point2[1], marker='o', label='Generation')\n",
    "    plt.legend()\n",
    "    plt.show()"
   ]
  },
  {
   "cell_type": "markdown",
   "metadata": {},
   "source": [
    "Now that we have our tools, let us use a 2-bus example and plot both power circle diagrams."
   ]
  },
  {
   "cell_type": "code",
   "execution_count": 14,
   "metadata": {},
   "outputs": [
    {
     "data": {
      "image/png": "[encoded data removed]",
      "text/plain": [
       "<Figure size 640x480 with 1 Axes>"
      ]
     },
     "metadata": {},
     "output_type": "display_data"
    }
   ],
   "source": [
    "Connectivity = [\n",
    "    [1, 2, complex(0.03, 0.33), 0]\n",
    "]\n",
    "Load = [\n",
    "    [2, complex(0.1, 0.01)]\n",
    "]\n",
    "Generator = [\n",
    "    {'Bus':1, 'V':1, '𝜃':0 }\n",
    "]\n",
    "\n",
    "#\n",
    "V_All, 𝜃_All, Threshold, Succes = bfs(Generator, Connectivity, Load)\n",
    "radius, centreR, centreS = get_power_circle(V_All, Connectivity)\n",
    "Results = get_Parameters(Connectivity, V_All, 𝜃_All, Succes)\n",
    "Vs = V_All[0]\n",
    "Vr = V_All[1]\n",
    "P = Load[0][1].real\n",
    "Q = Load[0][1].imag\n",
    "PG = Results['Net_Power'][0].real/100\n",
    "QG = Results['Net_Power'][0].imag/100\n",
    "plot_circles(centreR, centreS, radius, [P, Q], [PG, QG])"
   ]
  },
  {
   "cell_type": "markdown",
   "metadata": {},
   "source": [
    "[Back to top](#EEEN30131-Power-System-Analysis:-Week-06---Primary-Voltage-Control)"
   ]
  },
  {
   "cell_type": "markdown",
   "metadata": {},
   "source": [
    "> So, how do we use the power circles?"
   ]
  },
  {
   "cell_type": "markdown",
   "metadata": {},
   "source": [
    "Based on the receiving end power circle diagram, once we **fix the voltage at the sending end**, the voltage at the receiving end will remain the same for any PQ **load** combinations (in bus 2) on the perimeter of the circle."
   ]
  },
  {
   "cell_type": "code",
   "execution_count": 15,
   "metadata": {},
   "outputs": [],
   "source": [
    "def PCR_02(P, Q):\n",
    "\n",
    "    global centreR, centreS, radius, Connectivity, Generator, Vr\n",
    "    Load = [\n",
    "        [2, complex(P, Q)]\n",
    "    ]\n",
    "    Axes = [0, 1, -0.3, 0.1]\n",
    "    print('Adjust the load, especially Q2, to keep V2 at %.4f pu' % Vr)\n",
    "\n",
    "    V_All, 𝜃_All, Threshold, Succes = bfs(Generator, Connectivity, Load)\n",
    "    Results = get_Parameters(Connectivity, V_All, 𝜃_All, Succes)\n",
    "    for xb, V, 𝜃 in zip(range(len(V_All)), V_All, 𝜃_All):\n",
    "        print('  V%d =  %7.4f ∠ %8.4f [pu][deg]' % (xb+1, V, 𝜃*180/math.pi))\n",
    "\n",
    "    y1 = (radius**2 - (P - centreR[0])**2)**0.5 + centreR[1]\n",
    "    y2 = -(radius**2 - (P - centreR[0])**2)**0.5 + centreR[1]\n",
    "    print('Consider Q2 = %.4f or Q2 = %.4f' % (y1, y2))\n",
    "    PG = Results['Net_Power'][0].real/100\n",
    "    QG = Results['Net_Power'][0].imag/100\n",
    "\n",
    "    plot_circles(centreR, centreS, radius, [P, Q], [PG, QG], Axes)"
   ]
  },
  {
   "cell_type": "code",
   "execution_count": 16,
   "metadata": {},
   "outputs": [
    {
     "name": "stdout",
     "output_type": "stream",
     "text": [
      "Adjust the load, especially Q2, to keep V2 at 0.9931 pu\n",
      "  V1 =   1.0000 ∠   0.0000 [pu][deg]\n",
      "  V2 =   0.9931 ∠  -1.8869 [pu][deg]\n",
      "Consider Q2 = 0.0100 or Q2 = -5.9384\n"
     ]
    },
    {
     "data": {
      "image/png": "[encoded data removed]",
      "text/plain": [
       "<Figure size 640x480 with 1 Axes>"
      ]
     },
     "metadata": {},
     "output_type": "display_data"
    }
   ],
   "source": [
    "P = 0.1  # Consider values between 0 and 1\n",
    "Q = 0.01  # Consider values between -0.3 and 0.1\n",
    "\n",
    "PCR_02(P, Q)"
   ]
  },
  {
   "cell_type": "markdown",
   "metadata": {},
   "source": [
    "Based on the sending end power circle diagram, once we **fix the voltage at the receiving** end, the voltage at the sending end will remain the same for any PQ **generation** combinations (in bus 1) on the perimeter of the circle."
   ]
  },
  {
   "cell_type": "code",
   "execution_count": 17,
   "metadata": {},
   "outputs": [],
   "source": [
    "def PCR_01(PG, QG):\n",
    "\n",
    "    global centreR, centreS, radius, Connectivity, Vs\n",
    "    Load = [\n",
    "        [2, complex(-PG, -QG)]\n",
    "    ]\n",
    "    Generator = [\n",
    "        {'Bus': 1, 'V': Vr, '𝜃': 0}\n",
    "    ]\n",
    "    Axes = [0, 1, -0.3, 0.1]\n",
    "\n",
    "    print('Adjust generation, especially Q1, to keep V1 at %.4f pu' % Vs)\n",
    "    V_All, 𝜃_All, Threshold, Succes = bfs(Generator, Connectivity, Load)\n",
    "    Results = get_Parameters(Connectivity, V_All, 𝜃_All, Succes)\n",
    "    print('  V%d =  %7.4f ∠ %8.4f [pu][deg]' % (1, V_All[1],\n",
    "                                                𝜃_All[0]*180/math.pi))\n",
    "    print('  V%d =  %7.4f ∠ %8.4f [pu][deg]' % (2, V_All[0],\n",
    "                                                -1*𝜃_All[1]*180/math.pi))\n",
    "\n",
    "    y1 = -(radius**2 - (PG - centreS[0])**2)**0.5 + centreS[1]\n",
    "    y2 = (radius**2 - (PG - centreS[0])**2)**0.5 + centreS[1]\n",
    "    print('Consider Q1 = %.4f or Q1 = %.4f' % (y1, y2))\n",
    "    P = -Results['Net_Power'][0].real/100\n",
    "    Q = -Results['Net_Power'][0].imag/100\n",
    "    plot_circles(centreR, centreS, radius, [P, Q], [PG, QG], Axes)"
   ]
  },
  {
   "cell_type": "code",
   "execution_count": 18,
   "metadata": {},
   "outputs": [
    {
     "name": "stdout",
     "output_type": "stream",
     "text": [
      "Adjust generation, especially Q1, to keep V1 at 1.0000 pu\n",
      "  V1 =   1.0000 ∠   0.0000 [pu][deg]\n",
      "  V2 =   0.9931 ∠  -1.8812 [pu][deg]\n",
      "Consider Q1 = 0.0134 or Q1 = 5.9975\n"
     ]
    },
    {
     "data": {
      "image/png": "[encoded data removed]",
      "text/plain": [
       "<Figure size 640x480 with 1 Axes>"
      ]
     },
     "metadata": {},
     "output_type": "display_data"
    }
   ],
   "source": [
    "PG = 0.1  # Considering values between 0 and 1\n",
    "QG = 0.0133  # Consider values between 0 and 0.1\n",
    "\n",
    "PCR_01(PG, QG)"
   ]
  },
  {
   "cell_type": "markdown",
   "metadata": {},
   "source": [
    "The power circle diagrams and examples above can be used to explore inpacts on voltages from\n",
    "- Different types of loads, including inductive loads, reactors, capacitors, etc.\n",
    "- Traditional and distributed generators, condensers, etc."
   ]
  },
  {
   "cell_type": "markdown",
   "metadata": {},
   "source": [
    "[Back to top](#EEEN30131-Power-System-Analysis:-Week-06---Primary-Voltage-Control)"
   ]
  },
  {
   "cell_type": "markdown",
   "metadata": {},
   "source": [
    "### Series compensation"
   ]
  },
  {
   "cell_type": "markdown",
   "metadata": {},
   "source": [
    "The voltage drop across a line can be mitigated by connecting capacitors in series to the lines. This can be explored by simulating the power flows across the lines (using the tools developed in previous notebooks) subject to different line impedances. However, let us also try to visualize the effects of the impedances on the voltages using phasor diagrams."
   ]
  },
  {
   "cell_type": "code",
   "execution_count": 19,
   "metadata": {},
   "outputs": [],
   "source": [
    "def plot_vector(Ogn, Vec, ax=None, Nme=None, Coor=[0, 0]):\n",
    "    '''Plot a vector'''\n",
    "\n",
    "    V = [Vec.real, Vec.imag]\n",
    "\n",
    "    plt.quiver(Ogn[0], Ogn[1], V[0], V[1], angles='xy', scale_units='xy',\n",
    "               scale=1)\n",
    "\n",
    "    if ax is not None:\n",
    "        ax.annotate(Nme, xy=(Ogn[0]+V[0]/2+Coor[0], Ogn[1]+V[1]/2+Coor[1]),\n",
    "                    fontsize=12)\n",
    "\n",
    "    return [min([Ogn[1], Ogn[1]+V[1]]), max(Ogn[1], Ogn[1]+V[1])], \\\n",
    "        [Ogn[0]+V[0], Ogn[1]+V[1]]\n",
    "    \n",
    "def plot_phasor(Results, Connectivity):\n",
    "    fig, ax = plt.subplots()\n",
    "    Origin = [0, 0]\n",
    "\n",
    "    mm = []\n",
    "    m, Es = plot_vector(Origin, Results['Voltage'][0], ax, 'V1')\n",
    "    mm.append(m)\n",
    "    m, Er = plot_vector(Origin, Results['Voltage'][1], ax, 'V2')\n",
    "    mm.append(m)\n",
    "    m, _ = plot_vector(Origin, Results['Current'][0], ax, 'I')\n",
    "    mm.append(m)\n",
    "    VR = Results['Current'][0]*Connectivity[0][2].real\n",
    "    m, OR = plot_vector(Er, VR, ax, 'IR')\n",
    "    mm.append(m)\n",
    "    VX = Results['Current'][0]*complex(0, Connectivity[0][2].imag)\n",
    "    m, _ = plot_vector(OR, VX, ax, 'jIX')\n",
    "    mm.append(m)\n",
    "    lim = [1000, -1000]\n",
    "    for m in mm:\n",
    "        lim[0] = min(lim[0], m[0])\n",
    "        lim[1] = max(lim[1], m[1])\n",
    "    plt.grid()\n",
    "    ax.set_xlim(-0.05, 1.05)\n",
    "    ax.set_ylim(lim[0], lim[1]+.001)\n",
    "    plt.show()"
   ]
  },
  {
   "cell_type": "markdown",
   "metadata": {},
   "source": [
    "We can now use the phasor diagram to see how the voltage drops across the resistance and reactance of the lines.\n",
    "> Try different values for R and X and check how the voltages change."
   ]
  },
  {
   "cell_type": "code",
   "execution_count": 20,
   "metadata": {},
   "outputs": [],
   "source": [
    "def Phasor_01(R, X):\n",
    "    Connectivity = [\n",
    "        [1, 2, complex(R, X), 0]\n",
    "    ]\n",
    "    Load = [\n",
    "        [2, complex(0.1, 0.01)]\n",
    "    ]\n",
    "    Generator = [\n",
    "        {'Bus': 1, 'V': 1, '𝜃': 0}\n",
    "    ]\n",
    "    V_All, 𝜃_All, Threshold, Succes = bfs(Generator, Connectivity, Load)\n",
    "    if not Succes:\n",
    "        print('The model failed to converge')\n",
    "    Results = get_Parameters(Connectivity, V_All, 𝜃_All, Succes)\n",
    "    print('  V%d =  %7.4f ∠ %8.4f [pu][deg]' % (1, V_All[0],\n",
    "                                                𝜃_All[0]*180/math.pi))\n",
    "    print('  V%d =  %7.4f ∠ %8.4f [pu][deg]' % (2, V_All[1],\n",
    "                                                𝜃_All[1]*180/math.pi))\n",
    "    print('  I  =  %7.4f ∠ %8.4f [pu][deg]' % (abs(Results['Current'][0]),\n",
    "                                               cmath.phase(Results['Current']\n",
    "                                                           [0])*180/math.pi))\n",
    "    plot_phasor(Results, Connectivity)"
   ]
  },
  {
   "cell_type": "code",
   "execution_count": 21,
   "metadata": {},
   "outputs": [
    {
     "name": "stdout",
     "output_type": "stream",
     "text": [
      "  V1 =   1.0000 ∠   0.0000 [pu][deg]\n",
      "  V2 =   0.9864 ∠  -1.6847 [pu][deg]\n",
      "  I  =   0.1019 ∠  -7.3953 [pu][deg]\n"
     ]
    },
    {
     "data": {
      "image/png": "[encoded data removed]",
      "text/plain": [
       "<Figure size 640x480 with 1 Axes>"
      ]
     },
     "metadata": {},
     "output_type": "display_data"
    }
   ],
   "source": [
    "R = 0.1  # Consider values between -1 and 1\n",
    "X = 0.3  # Consider values between -1 and 1\n",
    "\n",
    "Phasor_01(R, X)"
   ]
  },
  {
   "cell_type": "markdown",
   "metadata": {},
   "source": [
    "[Back to top](#EEEN30131-Power-System-Analysis:-Week-06---Primary-Voltage-Control)"
   ]
  },
  {
   "cell_type": "markdown",
   "metadata": {},
   "source": [
    "### Generators"
   ]
  },
  {
   "cell_type": "markdown",
   "metadata": {},
   "source": [
    "Synchronous generators can provide voltage support by absorbind or producing reactive power. This is achieved by the automatic voltage regulator (AVR) through adjustments of the field exitation current. A diagram of the generator is presented below."
   ]
  },
  {
   "cell_type": "markdown",
   "metadata": {},
   "source": [
    "![Week06_Generator_Phasor.png](Figures/Week06_Generator_Phasor.png)"
   ]
  },
  {
   "cell_type": "markdown",
   "metadata": {},
   "source": [
    "> Adjust the field exitation current and check how the voltage output of the generator (V) changes"
   ]
  },
  {
   "cell_type": "code",
   "execution_count": 22,
   "metadata": {},
   "outputs": [],
   "source": [
    "def plot_phasor_Gen(Th):\n",
    "    Ik = 0.4\n",
    "    Ang = Th/180*math.pi\n",
    "    X = complex(0, 0.5)\n",
    "\n",
    "    aux = Ik/math.cos(Ang)\n",
    "    I = complex(Ik, aux*math.sin(Ang))\n",
    "\n",
    "    V = complex(1, 0)\n",
    "    IX = -I*X\n",
    "    E = V-IX\n",
    "\n",
    "    fig, ax = plt.subplots()\n",
    "    Origin = [0, 0]\n",
    "    m, _ = plot_vector(Origin, V, ax, 'V')\n",
    "    m, Er = plot_vector(Origin, E, ax, 'E')\n",
    "    m, _ = plot_vector(Er, IX, ax, 'jIX')\n",
    "    m, _ = plot_vector(Origin, I, ax, 'I')\n",
    "\n",
    "    ax.set_xlim(-0.05, 1.07)\n",
    "    ax.set_ylim(-0.1, 0.25)\n",
    "    plt.grid()\n",
    "    print('  V =  %7.4f ∠ %8.4f [pu][deg]' %\n",
    "          (abs(V), cmath.phase(V)*180/math.pi))\n",
    "    print('  E =  %7.4f ∠ %8.4f [pu][deg]' %\n",
    "          (abs(E), cmath.phase(E)*180/math.pi))\n",
    "    print('  I =  %7.4f ∠ %8.4f [pu][deg]' %\n",
    "          (abs(I), cmath.phase(I)*180/math.pi))\n",
    "    if Th == 0:\n",
    "        print('Normal excitation')\n",
    "    elif Th > 0:\n",
    "        print('Under-excited')\n",
    "    else:\n",
    "        print('Overexcited')"
   ]
  },
  {
   "cell_type": "code",
   "execution_count": 23,
   "metadata": {},
   "outputs": [
    {
     "name": "stdout",
     "output_type": "stream",
     "text": [
      "  V =   1.0000 ∠   0.0000 [pu][deg]\n",
      "  E =   1.0164 ∠  11.3485 [pu][deg]\n",
      "  I =   0.4001 ∠   1.0000 [pu][deg]\n",
      "Under-excited\n"
     ]
    },
    {
     "data": {
      "image/png": "[encoded data removed]",
      "text/plain": [
       "<Figure size 640x480 with 1 Axes>"
      ]
     },
     "metadata": {},
     "output_type": "display_data"
    }
   ],
   "source": [
    "Th = 1  # Consider values between -10 and 10\n",
    "\n",
    "plot_phasor_Gen(Th)"
   ]
  },
  {
   "cell_type": "markdown",
   "metadata": {},
   "source": [
    "[Back to top](#EEEN30131-Power-System-Analysis:-Week-06---Primary-Voltage-Control)"
   ]
  },
  {
   "cell_type": "markdown",
   "metadata": {},
   "source": [
    "### Tap-changing transformers"
   ]
  },
  {
   "cell_type": "markdown",
   "metadata": {},
   "source": [
    "Tap-changing transformers can be used to provide voltage support by adjusting their turns ratio through changes to the transformer tap position."
   ]
  },
  {
   "cell_type": "markdown",
   "metadata": {},
   "source": [
    "![Week06_Transformer.png](Figures/Week06_Transformer.png)"
   ]
  },
  {
   "cell_type": "markdown",
   "metadata": {},
   "source": [
    "> Adjust the turns ratio (t) and check how the voltages change."
   ]
  },
  {
   "cell_type": "code",
   "execution_count": 24,
   "metadata": {},
   "outputs": [],
   "source": [
    "def Phasor_Gen(t):\n",
    "    B = 5\n",
    "    # Y = complex(0, B)\n",
    "    Ybus = [[-t**2*B, t*B], [t*B, -B]]\n",
    "    Load = [\n",
    "        [2, complex(0.5, 0.5)]\n",
    "    ]\n",
    "    Generator = [\n",
    "        {'Bus': 1, 'V': .95, '𝜃': 0}\n",
    "    ]\n",
    "\n",
    "    P_Data, Q_Data = develop_PF_Equations(Load, Generator, Ybus, True, False)\n",
    "    Bus_Data, Bus_Type = get_Bus_Type(Ybus, Load, Generator)\n",
    "    V_All, 𝜃_All, Threshold, Succes = Newtons_Method(P_Data, Q_Data, Bus_Data,\n",
    "                                                     Bus_Type, Generator, 0)\n",
    "    print('Vs =  %7.4f ∠ %8.4f [pu][deg]' % (V_All[0], 𝜃_All[0]*180/math.pi))\n",
    "    print('Vp =  %7.4f ∠ %8.4f [pu][deg]' % (V_All[1], 𝜃_All[1]*180/math.pi))"
   ]
  },
  {
   "cell_type": "code",
   "execution_count": 25,
   "metadata": {},
   "outputs": [
    {
     "name": "stdout",
     "output_type": "stream",
     "text": [
      "Vs =   0.9500 ∠   0.0000 [pu][deg]\n",
      "Vp =   0.9582 ∠  -6.9681 [pu][deg]\n"
     ]
    }
   ],
   "source": [
    "t = 0.9055  # Consider values between 0.85 and 1.05\n",
    "    \n",
    "Phasor_Gen(t)"
   ]
  },
  {
   "cell_type": "markdown",
   "metadata": {},
   "source": [
    "[Back to top](#EEEN30131-Power-System-Analysis:-Week-06---Primary-Voltage-Control)"
   ]
  }
 ],
 "metadata": {
  "kernelspec": {
   "display_name": "Python 3 (ipykernel)",
   "language": "python",
   "name": "python3"
  },
  "language_info": {
   "codemirror_mode": {
    "name": "ipython",
    "version": 3
   },
   "file_extension": ".py",
   "mimetype": "text/x-python",
   "name": "python",
   "nbconvert_exporter": "python",
   "pygments_lexer": "ipython3",
   "version": "3.11.4"
  },
  "toc": {
   "base_numbering": 1,
   "nav_menu": {},
   "number_sections": true,
   "sideBar": true,
   "skip_h1_title": true,
   "title_cell": "Table of Contents",
   "title_sidebar": "Contents",
   "toc_cell": false,
   "toc_position": {
    "height": "calc(100% - 180px)",
    "left": "10px",
    "top": "150px",
    "width": "259.316px"
   },
   "toc_section_display": true,
   "toc_window_display": true
  }
 },
 "nbformat": 4,
 "nbformat_minor": 4
}
