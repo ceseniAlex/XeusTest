{
 "cells": [
  {
   "cell_type": "markdown",
   "metadata": {},
   "source": [
    "# EEEN30131 Power System Analysis: Week 01 - Nodal Analysis"
   ]
  },
  {
   "cell_type": "markdown",
   "metadata": {},
   "source": [
    "***&copy; 2024 Martínez Ceseña — University of Manchester, UK***"
   ]
  },
  {
   "cell_type": "markdown",
   "metadata": {},
   "source": [
    "This notebook provides an example of the shortcut approach used to build a $Y_{bus}$ matrix, including general `python` code which can be used to solve the examples and create new ones.\n",
    "\n",
    "The use of the notebooks is optional and will not be marked. That said, you are strongly encouraged to play with the tools and examples, as you can explore many different variations of the power flow formulation, which will better prepare you for the exams."
   ]
  },
  {
   "cell_type": "markdown",
   "metadata": {},
   "source": [
    "## List of contents"
   ]
  },
  {
   "cell_type": "markdown",
   "metadata": {},
   "source": [
    "- [Building admittance matrix](#Building-admittance-matrix)\n",
    "  - [Defining the problem](#Defining-the-problem)\n",
    "  - [Validating the data](#Validating-the-data)\n",
    "  - [Using shortcut method](#Using-shortcut-method)\n",
    "- [Developing python method](#Developing-python-method)\n",
    "- [Examples](#Examples)\n",
    "  - [Three bus example](#Three-bus-example)\n",
    "  - [Four bus example](#Four-bus-example)\n",
    "  - [Create your own example](#Create-your-own-example)"
   ]
  },
  {
   "cell_type": "markdown",
   "metadata": {},
   "source": [
    "## Before we begin"
   ]
  },
  {
   "cell_type": "markdown",
   "metadata": {},
   "source": [
    "Before we begin: \n",
    "- Make sure to review the asynchronous materials provided in blackboard for EEEN30131 Week 1 - Nodal analysis \n",
    "- If you have any questions, please post them in the discussion boards or, if that is not possible, send an email to alex.martinezcesena@manchester.ac.uk"
   ]
  },
  {
   "cell_type": "markdown",
   "metadata": {},
   "source": [
    "## Building admittance matrix"
   ]
  },
  {
   "cell_type": "markdown",
   "metadata": {},
   "source": [
    "### Defining the problem"
   ]
  },
  {
   "cell_type": "markdown",
   "metadata": {},
   "source": [
    "Let us begin with the last example that was addressed in week 01, which is a 3bus poer system with three lines."
   ]
  },
  {
   "cell_type": "markdown",
   "metadata": {},
   "source": [
    "![Week01_3Bus_Part1.png](Figures/Week01_3Bus_Part1.png)"
   ]
  },
  {
   "cell_type": "markdown",
   "metadata": {},
   "source": [
    "We need to define the data for the problem, which we will place in a matrix, called connectivity"
   ]
  },
  {
   "cell_type": "markdown",
   "metadata": {},
   "source": [
    "| From | To | Impedance |\n",
    "| --- | --- | --- |\n",
    "| 1 | 2 | j0.10 |\n",
    "| 1 | 3 | j0.20 |\n",
    "| 2 | 3 | j0.25 |"
   ]
  },
  {
   "cell_type": "markdown",
   "metadata": {},
   "source": [
    "This can be written in python as follows:\n",
    "\n",
    "***Note that last row of the `Connectivity` matrix should not have a comma at the end***"
   ]
  },
  {
   "cell_type": "code",
   "execution_count": 1,
   "metadata": {},
   "outputs": [],
   "source": [
    "Connectivity = [\n",
    "    [1, 2, complex(0, 0.10)],\n",
    "    [1, 3, complex(0, 0.20)],\n",
    "    [2, 3, complex(0, 0.25)]\n",
    "]"
   ]
  },
  {
   "cell_type": "markdown",
   "metadata": {},
   "source": [
    "[Back to top](#EEEN30131-Power-System-Analysis:-Week-01---Nodal-Analysis)"
   ]
  },
  {
   "cell_type": "markdown",
   "metadata": {},
   "source": [
    "### Validating the data"
   ]
  },
  {
   "cell_type": "markdown",
   "metadata": {},
   "source": [
    "Now that we have the data coded in python, ww want to measure the information. We already know that the system has three lines and three buses, but we need to check this, as we may want to simulate other networks.\n",
    "\n",
    "To get the number of branches, we can use the `len` method to get the length of the Connectivity matrix (i.e., the number of rows)."
   ]
  },
  {
   "cell_type": "code",
   "execution_count": 2,
   "metadata": {},
   "outputs": [],
   "source": [
    "# Get number of branches\n",
    "Number_Branches = len(Connectivity)"
   ]
  },
  {
   "cell_type": "markdown",
   "metadata": {},
   "source": [
    "To get the number of buses, we will use a `for` loop to check every branch, and the `max` method to get the maximum bus number included in the Connectivity matrix."
   ]
  },
  {
   "cell_type": "code",
   "execution_count": 3,
   "metadata": {},
   "outputs": [],
   "source": [
    "# Get number of nodes\n",
    "Number_Buses = 0\n",
    "for branch in range(Number_Branches):\n",
    "    Number_Buses = \\\n",
    "        max([Number_Buses, Connectivity[branch][0],\n",
    "             Connectivity[branch][1]])"
   ]
  },
  {
   "cell_type": "markdown",
   "metadata": {},
   "source": [
    "The code below is used to check that the data has been correctly added and measured."
   ]
  },
  {
   "cell_type": "code",
   "execution_count": 4,
   "metadata": {},
   "outputs": [
    {
     "name": "stdout",
     "output_type": "stream",
     "text": [
      "The network has 3 branches and 3 buses\n",
      "______________________________\n",
      "Branch | From - To | Impedance\n",
      "------------------------------\n",
      "    1  |    1 -  2 | 0.1j\n",
      "    2  |    1 -  3 | 0.2j\n",
      "    3  |    2 -  3 | 0.25j\n",
      "_______|___________|__________\n"
     ]
    }
   ],
   "source": [
    "print('The network has %d branches and %d buses'%(Number_Branches, Number_Buses))\n",
    "print('______________________________')\n",
    "print('Branch | From - To | Impedance')\n",
    "print('------------------------------')\n",
    "for branch in range(Number_Branches):\n",
    "    print('%5.0f  | %4.0f - %2.0f |'%(branch+1, Connectivity[branch][0], Connectivity[branch][1]), end=' ')\n",
    "    print(Connectivity[branch][2])\n",
    "print('_______|___________|__________')"
   ]
  },
  {
   "cell_type": "markdown",
   "metadata": {},
   "source": [
    "[Back to top](#EEEN30131-Power-System-Analysis:-Week-01---Nodal-Analysis)"
   ]
  },
  {
   "cell_type": "markdown",
   "metadata": {},
   "source": [
    "### Using shortcut method"
   ]
  },
  {
   "cell_type": "markdown",
   "metadata": {},
   "source": [
    "It is now time to develop the admittance ($Y_{bus}$) matrix. Le us begin by creating a 3x3 matrix (i.e., Number_Buses x Number_Buses).\n",
    "\n",
    "We will use the `numpy` python library, which will allow us to define a matrix with complex numbers."
   ]
  },
  {
   "cell_type": "code",
   "execution_count": 5,
   "metadata": {},
   "outputs": [
    {
     "name": "stdout",
     "output_type": "stream",
     "text": [
      "Ybus = \n",
      " [[0.+0.j 0.+0.j 0.+0.j]\n",
      " [0.+0.j 0.+0.j 0.+0.j]\n",
      " [0.+0.j 0.+0.j 0.+0.j]]\n"
     ]
    }
   ],
   "source": [
    "import numpy\n",
    "Ybus = numpy.zeros((Number_Buses, Number_Buses), dtype=complex)\n",
    "\n",
    "print('Ybus = \\n', Ybus)"
   ]
  },
  {
   "cell_type": "markdown",
   "metadata": {},
   "source": [
    "Based on the $Y_{bus}$ shortcut:\n",
    "> Get diagonal elements as: the summation of admittances connected to the bus:\n",
    "\n",
    "***Note that, if there is a reference bus (bus zero), is should be skipped***"
   ]
  },
  {
   "cell_type": "code",
   "execution_count": 6,
   "metadata": {},
   "outputs": [
    {
     "name": "stdout",
     "output_type": "stream",
     "text": [
      "Ybus = \n",
      " [[0.-15.j 0. +0.j 0. +0.j]\n",
      " [0. +0.j 0.-14.j 0. +0.j]\n",
      " [0. +0.j 0. +0.j 0. -9.j]]\n"
     ]
    }
   ],
   "source": [
    "for branch in range(Number_Branches):\n",
    "    From = Connectivity[branch][0] - 1\n",
    "    To = Connectivity[branch][1] - 1\n",
    "\n",
    "    if From >= 0:\n",
    "        Ybus[From][From] = Ybus[From][From] + 1/Connectivity[branch][2]\n",
    "\n",
    "    if To >= 0:\n",
    "        Ybus[To][To] = Ybus[To][To] + 1/Connectivity[branch][2]\n",
    "\n",
    "print('Ybus = \\n', Ybus)"
   ]
  },
  {
   "cell_type": "markdown",
   "metadata": {},
   "source": [
    "> Get off-diagonal elements as: minus the admittance of the branch\n",
    "\n",
    "***Note that, if there are connections to a reference bus (bus zero), the connections would be skipped***"
   ]
  },
  {
   "cell_type": "code",
   "execution_count": 7,
   "metadata": {},
   "outputs": [
    {
     "name": "stdout",
     "output_type": "stream",
     "text": [
      "Ybus = \n",
      " [[0.-15.j 0.+10.j 0. +5.j]\n",
      " [0.+10.j 0.-14.j 0. +4.j]\n",
      " [0. +5.j 0. +4.j 0. -9.j]]\n"
     ]
    }
   ],
   "source": [
    "for branch in range(Number_Branches):\n",
    "    From = Connectivity[branch][0] - 1\n",
    "    To = Connectivity[branch][1] - 1\n",
    "\n",
    "    if From >=0 and To >=0:\n",
    "        Ybus[From][To] = -1/Connectivity[branch][2]\n",
    "        Ybus[To][From] = -1/Connectivity[branch][2]\n",
    "\n",
    "print('Ybus = \\n', Ybus)"
   ]
  },
  {
   "cell_type": "markdown",
   "metadata": {},
   "source": [
    "[Back to top](#EEEN30131-Power-System-Analysis:-Week-01---Nodal-Analysis)"
   ]
  },
  {
   "cell_type": "markdown",
   "metadata": {},
   "source": [
    "## Developing python method"
   ]
  },
  {
   "cell_type": "markdown",
   "metadata": {},
   "source": [
    "For convenience, we can create a python method (let us call it `get_Ybus`) based on all the code that was presented above. This will allow us to solve different types of examples, as long as the data is provided in the right format, i.e., the format we created above for the `Connectivity` matrix."
   ]
  },
  {
   "cell_type": "code",
   "execution_count": 8,
   "metadata": {},
   "outputs": [],
   "source": [
    "def get_Ybus(Connectivity, flg=False, prnt=True):\n",
    "\n",
    "    # Get number of branches\n",
    "    Number_Branches = len(Connectivity)\n",
    "\n",
    "    # Get number of nodes\n",
    "    Number_Buses = 0\n",
    "    for branch in range(Number_Branches):\n",
    "        Number_Buses = \\\n",
    "            max([Number_Buses, Connectivity[branch][0],\n",
    "                 Connectivity[branch][1]])\n",
    "\n",
    "    # Display network data\n",
    "    if prnt:\n",
    "        print('The network has %d branches and %d buses' % (Number_Branches,\n",
    "                                                            Number_Buses))\n",
    "        print('______________________________')\n",
    "        print('Branch | From - To | Impedance')\n",
    "        print('------------------------------')\n",
    "        for branch in range(Number_Branches):\n",
    "            print('%5.0f  | %4.0f - %2.0f |' % (branch+1,\n",
    "                                                Connectivity[branch][0],\n",
    "                                                Connectivity[branch][1]),\n",
    "                  end=' ')\n",
    "            print(Connectivity[branch][2])\n",
    "        print('_______|___________|__________')\n",
    "\n",
    "    # Build Ybus matrix\n",
    "    Ybus = numpy.zeros((Number_Buses, Number_Buses), dtype=complex)\n",
    "    for branch in range(Number_Branches):\n",
    "        From = Connectivity[branch][0] - 1\n",
    "        To = Connectivity[branch][1] - 1\n",
    "\n",
    "        Y = 1/Connectivity[branch][2]\n",
    "\n",
    "        if From >= 0 and To >= 0:\n",
    "            Ybus[From][To] = -Y\n",
    "            Ybus[To][From] = -Y\n",
    "\n",
    "        if From >= 0:\n",
    "            Ybus[From][From] += Y\n",
    "\n",
    "        if To >= 0:\n",
    "            Ybus[To][To] += Y\n",
    "\n",
    "    if prnt:\n",
    "        print('\\nYbus = \\n', Ybus)\n",
    "    if flg:\n",
    "        return Ybus"
   ]
  },
  {
   "cell_type": "markdown",
   "metadata": {},
   "source": [
    "This method can be called as follows:\n",
    "> `get_Ybus(Connectivity)`"
   ]
  },
  {
   "cell_type": "markdown",
   "metadata": {},
   "source": [
    "We can take this a step further and create a version of the method with detailed description of each step of the admittance matrix calculations."
   ]
  },
  {
   "cell_type": "code",
   "execution_count": 9,
   "metadata": {},
   "outputs": [],
   "source": [
    "def get_Ybus_Steps(Connectivity, flg=False):\n",
    "    # Get number of branches\n",
    "    Number_Branches = len(Connectivity)\n",
    "\n",
    "    # Get number of nodes\n",
    "    Number_Buses = 0\n",
    "    for branch in range(Number_Branches):\n",
    "        Number_Buses = \\\n",
    "            max([Number_Buses, Connectivity[branch][0],\n",
    "                 Connectivity[branch][1]])\n",
    "\n",
    "    # Display network data\n",
    "    print('The network has %d branches and %d buses' % (Number_Branches,\n",
    "                                                        Number_Buses))\n",
    "    print('______________________________')\n",
    "    print('Branch | From - To | Impedance')\n",
    "    print('------------------------------')\n",
    "    for branch in range(Number_Branches):\n",
    "        print('%5.0f  | %4.0f - %2.0f |' % (branch+1, Connectivity[branch][0],\n",
    "                                            Connectivity[branch][1]), end=' ')\n",
    "        print(Connectivity[branch][2])\n",
    "    print('_______|___________|__________')\n",
    "\n",
    "    print('\\nBUILDING ADMITTANCE MATRIX:')\n",
    "    Ybus = numpy.zeros((Number_Buses, Number_Buses), dtype=complex)\n",
    "    for branch in range(Number_Branches):\n",
    "        F = Connectivity[branch][0]\n",
    "        T = Connectivity[branch][1]\n",
    "        From = F - 1\n",
    "        To = T - 1\n",
    "\n",
    "        Z = Connectivity[branch][2]\n",
    "        Y = 1/Z\n",
    "\n",
    "        print('\\nChecking branch %d (%d-%d)' % (branch+1, F, T), end=' ')\n",
    "        print('with an impedance of', Z, ' (admittance of', Y, ')')\n",
    "\n",
    "        if From >= 0 and To >= 0:\n",
    "            print('The value of the off-diagonal elements ', end='')\n",
    "            print('(%d,%d) and (%d,%d) is:'\n",
    "                  % (F, T, T, F), -Y)\n",
    "            Ybus[From][To] = -Y\n",
    "            Ybus[To][From] = -Y\n",
    "\n",
    "        if From >= 0:\n",
    "            print('The value of the diagonal element (%d,%d)' %\n",
    "                  (F, F), ' changes from ', Ybus[From][From], end=' ')\n",
    "            Ybus[From][From] += Y\n",
    "            print('to', Ybus[From][From])\n",
    "\n",
    "        if To >= 0:\n",
    "            print('The value of the diagonal element (%d,%d)' %\n",
    "                  (T, T), ' changes from ', Ybus[To][To], end=' ')\n",
    "            Ybus[To][To] += Y\n",
    "            print('to', Ybus[To][To])\n",
    "\n",
    "    print('\\nYbus = \\n', Ybus)\n",
    "    if flg:\n",
    "        return Ybus"
   ]
  },
  {
   "cell_type": "markdown",
   "metadata": {},
   "source": [
    "This new method can be called with the follwoing command:\n",
    "> `get_Ybus_Steps(Connectivity)`"
   ]
  },
  {
   "cell_type": "markdown",
   "metadata": {},
   "source": [
    "[Back to top](#EEEN30131-Power-System-Analysis:-Week-01---Nodal-Analysis)"
   ]
  },
  {
   "cell_type": "markdown",
   "metadata": {},
   "source": [
    "## Examples"
   ]
  },
  {
   "cell_type": "markdown",
   "metadata": {},
   "source": [
    "### Three bus example"
   ]
  },
  {
   "cell_type": "markdown",
   "metadata": {},
   "source": [
    "Now that we have coded the method to build the admittance matrix, we can solve our 3bus example by defining the `Connectivity` matrix and calling the `get_Ybus` method.\n",
    "\n",
    "\n",
    "<img src=\"Figures/Week01_3Bus_Part1.png\" alt=\"Fig01\" class=\"bg-primary\" width=\"500px\">\n",
    "\n",
    "| From | To | Impedance |\n",
    "| --- | --- | --- |\n",
    "| 1 | 2 | j0.10 |\n",
    "| 1 | 3 | j0.20 |\n",
    "| 2 | 3 | j0.25 |\n",
    "\n",
    "***Try changing some values and, perhaps, adding lines***"
   ]
  },
  {
   "cell_type": "code",
   "execution_count": 10,
   "metadata": {},
   "outputs": [
    {
     "name": "stdout",
     "output_type": "stream",
     "text": [
      "The network has 3 branches and 3 buses\n",
      "______________________________\n",
      "Branch | From - To | Impedance\n",
      "------------------------------\n",
      "    1  |    1 -  2 | 0.1j\n",
      "    2  |    1 -  3 | 0.2j\n",
      "    3  |    2 -  3 | 0.25j\n",
      "_______|___________|__________\n",
      "\n",
      "Ybus = \n",
      " [[ 0.-15.j -0.+10.j -0. +5.j]\n",
      " [-0.+10.j  0.-14.j -0. +4.j]\n",
      " [-0. +5.j -0. +4.j  0. -9.j]]\n"
     ]
    }
   ],
   "source": [
    "Connectivity = [\n",
    "    [1, 2, complex(0, 0.10)],\n",
    "    [1, 3, complex(0, 0.20)],\n",
    "    [2, 3, complex(0, 0.25)]\n",
    "]\n",
    "\n",
    "get_Ybus(Connectivity)"
   ]
  },
  {
   "cell_type": "markdown",
   "metadata": {},
   "source": [
    "We can use the other method if we want more details about the calculations:"
   ]
  },
  {
   "cell_type": "code",
   "execution_count": 11,
   "metadata": {},
   "outputs": [
    {
     "name": "stdout",
     "output_type": "stream",
     "text": [
      "The network has 3 branches and 3 buses\n",
      "______________________________\n",
      "Branch | From - To | Impedance\n",
      "------------------------------\n",
      "    1  |    1 -  2 | 0.1j\n",
      "    2  |    1 -  3 | 0.2j\n",
      "    3  |    2 -  3 | 0.25j\n",
      "_______|___________|__________\n",
      "\n",
      "BUILDING ADMITTANCE MATRIX:\n",
      "\n",
      "Checking branch 1 (1-2) with an impedance of 0.1j  (admittance of -10j )\n",
      "The value of the off-diagonal elements (1,2) and (2,1) is: (-0+10j)\n",
      "The value of the diagonal element (1,1)  changes from  0j to -10j\n",
      "The value of the diagonal element (2,2)  changes from  0j to -10j\n",
      "\n",
      "Checking branch 2 (1-3) with an impedance of 0.2j  (admittance of -5j )\n",
      "The value of the off-diagonal elements (1,3) and (3,1) is: (-0+5j)\n",
      "The value of the diagonal element (1,1)  changes from  -10j to -15j\n",
      "The value of the diagonal element (3,3)  changes from  0j to -5j\n",
      "\n",
      "Checking branch 3 (2-3) with an impedance of 0.25j  (admittance of -4j )\n",
      "The value of the off-diagonal elements (2,3) and (3,2) is: (-0+4j)\n",
      "The value of the diagonal element (2,2)  changes from  -10j to -14j\n",
      "The value of the diagonal element (3,3)  changes from  -5j to -9j\n",
      "\n",
      "Ybus = \n",
      " [[ 0.-15.j -0.+10.j -0. +5.j]\n",
      " [-0.+10.j  0.-14.j -0. +4.j]\n",
      " [-0. +5.j -0. +4.j  0. -9.j]]\n"
     ]
    }
   ],
   "source": [
    "get_Ybus_Steps(Connectivity)"
   ]
  },
  {
   "cell_type": "markdown",
   "metadata": {},
   "source": [
    "[Back to top](#EEEN30131-Power-System-Analysis:-Week-01---Nodal-Analysis)"
   ]
  },
  {
   "cell_type": "markdown",
   "metadata": {},
   "source": [
    "### Four bus example"
   ]
  },
  {
   "cell_type": "markdown",
   "metadata": {},
   "source": [
    "Lets try another example presented in week 01.\n",
    "\n",
    "![Week01_4Bus_Part1.png](Figures/Week01_4Bus_Part1.png)\n",
    "\n",
    "| From | To | Impedance |\n",
    "| --- | --- | --- |\n",
    "| 1 | 2 | 0.125 |\n",
    "| 1 | 3 | 0.250 |\n",
    "| 1 | 4 | 0.400 |\n",
    "| 2 | 3 | 0.250 |\n",
    "| 2 | 4 | 0.200 |\n",
    "| 3 | 0 | 1.250 |\n",
    "| 4 | 0 | 1.250 |\n",
    "\n",
    "***Try changing some values and, perhaps, adding lines***"
   ]
  },
  {
   "cell_type": "code",
   "execution_count": 12,
   "metadata": {},
   "outputs": [
    {
     "name": "stdout",
     "output_type": "stream",
     "text": [
      "The network has 7 branches and 4 buses\n",
      "______________________________\n",
      "Branch | From - To | Impedance\n",
      "------------------------------\n",
      "    1  |    1 -  2 | (0.125+0j)\n",
      "    2  |    1 -  3 | (0.25+0j)\n",
      "    3  |    1 -  4 | (0.4+0j)\n",
      "    4  |    2 -  3 | (0.25+0j)\n",
      "    5  |    2 -  4 | (0.2+0j)\n",
      "    6  |    3 -  0 | (1.25+0j)\n",
      "    7  |    4 -  0 | (1.25+0j)\n",
      "_______|___________|__________\n",
      "\n",
      "Ybus = \n",
      " [[14.5+0.j -8. -0.j -4. -0.j -2.5-0.j]\n",
      " [-8. -0.j 17. +0.j -4. -0.j -5. -0.j]\n",
      " [-4. -0.j -4. -0.j  8.8+0.j  0. +0.j]\n",
      " [-2.5-0.j -5. -0.j  0. +0.j  8.3+0.j]]\n"
     ]
    }
   ],
   "source": [
    "Connectivity = [\n",
    "    [1, 2, complex(0.125, 0)],\n",
    "    [1, 3, complex(0.250, 0)],\n",
    "    [1, 4, complex(0.400, 0)],\n",
    "    [2, 3, complex(0.250, 0)],\n",
    "    [2, 4, complex(0.200, 0)],\n",
    "    [3, 0, complex(1.250, 0)],\n",
    "    [4, 0, complex(1.250, 0)]\n",
    "]\n",
    "get_Ybus(Connectivity)"
   ]
  },
  {
   "cell_type": "markdown",
   "metadata": {},
   "source": [
    "As above, we can use the other method to get mroe details about the calculations:"
   ]
  },
  {
   "cell_type": "code",
   "execution_count": 13,
   "metadata": {},
   "outputs": [
    {
     "name": "stdout",
     "output_type": "stream",
     "text": [
      "The network has 7 branches and 4 buses\n",
      "______________________________\n",
      "Branch | From - To | Impedance\n",
      "------------------------------\n",
      "    1  |    1 -  2 | (0.125+0j)\n",
      "    2  |    1 -  3 | (0.25+0j)\n",
      "    3  |    1 -  4 | (0.4+0j)\n",
      "    4  |    2 -  3 | (0.25+0j)\n",
      "    5  |    2 -  4 | (0.2+0j)\n",
      "    6  |    3 -  0 | (1.25+0j)\n",
      "    7  |    4 -  0 | (1.25+0j)\n",
      "_______|___________|__________\n",
      "\n",
      "BUILDING ADMITTANCE MATRIX:\n",
      "\n",
      "Checking branch 1 (1-2) with an impedance of (0.125+0j)  (admittance of (8+0j) )\n",
      "The value of the off-diagonal elements (1,2) and (2,1) is: (-8-0j)\n",
      "The value of the diagonal element (1,1)  changes from  0j to (8+0j)\n",
      "The value of the diagonal element (2,2)  changes from  0j to (8+0j)\n",
      "\n",
      "Checking branch 2 (1-3) with an impedance of (0.25+0j)  (admittance of (4+0j) )\n",
      "The value of the off-diagonal elements (1,3) and (3,1) is: (-4-0j)\n",
      "The value of the diagonal element (1,1)  changes from  (8+0j) to (12+0j)\n",
      "The value of the diagonal element (3,3)  changes from  0j to (4+0j)\n",
      "\n",
      "Checking branch 3 (1-4) with an impedance of (0.4+0j)  (admittance of (2.5+0j) )\n",
      "The value of the off-diagonal elements (1,4) and (4,1) is: (-2.5-0j)\n",
      "The value of the diagonal element (1,1)  changes from  (12+0j) to (14.5+0j)\n",
      "The value of the diagonal element (4,4)  changes from  0j to (2.5+0j)\n",
      "\n",
      "Checking branch 4 (2-3) with an impedance of (0.25+0j)  (admittance of (4+0j) )\n",
      "The value of the off-diagonal elements (2,3) and (3,2) is: (-4-0j)\n",
      "The value of the diagonal element (2,2)  changes from  (8+0j) to (12+0j)\n",
      "The value of the diagonal element (3,3)  changes from  (4+0j) to (8+0j)\n",
      "\n",
      "Checking branch 5 (2-4) with an impedance of (0.2+0j)  (admittance of (5+0j) )\n",
      "The value of the off-diagonal elements (2,4) and (4,2) is: (-5-0j)\n",
      "The value of the diagonal element (2,2)  changes from  (12+0j) to (17+0j)\n",
      "The value of the diagonal element (4,4)  changes from  (2.5+0j) to (7.5+0j)\n",
      "\n",
      "Checking branch 6 (3-0) with an impedance of (1.25+0j)  (admittance of (0.8+0j) )\n",
      "The value of the diagonal element (3,3)  changes from  (8+0j) to (8.8+0j)\n",
      "\n",
      "Checking branch 7 (4-0) with an impedance of (1.25+0j)  (admittance of (0.8+0j) )\n",
      "The value of the diagonal element (4,4)  changes from  (7.5+0j) to (8.3+0j)\n",
      "\n",
      "Ybus = \n",
      " [[14.5+0.j -8. -0.j -4. -0.j -2.5-0.j]\n",
      " [-8. -0.j 17. +0.j -4. -0.j -5. -0.j]\n",
      " [-4. -0.j -4. -0.j  8.8+0.j  0. +0.j]\n",
      " [-2.5-0.j -5. -0.j  0. +0.j  8.3+0.j]]\n"
     ]
    }
   ],
   "source": [
    "get_Ybus_Steps(Connectivity)"
   ]
  },
  {
   "cell_type": "markdown",
   "metadata": {},
   "source": [
    "[Back to top](#EEEN30131-Power-System-Analysis:-Week-01---Nodal-Analysis)"
   ]
  },
  {
   "cell_type": "markdown",
   "metadata": {},
   "source": [
    "### Create your own example"
   ]
  },
  {
   "cell_type": "markdown",
   "metadata": {},
   "source": [
    "Now that you have seen how the `get_Ybus` method works, you can create your own examples. ***Try it!***"
   ]
  },
  {
   "cell_type": "code",
   "execution_count": 14,
   "metadata": {},
   "outputs": [
    {
     "name": "stdout",
     "output_type": "stream",
     "text": [
      "The network has 6 branches and 4 buses\n",
      "______________________________\n",
      "Branch | From - To | Impedance\n",
      "------------------------------\n",
      "    1  |    1 -  2 | (0.1+0j)\n",
      "    2  |    1 -  3 | (0.1+0j)\n",
      "    3  |    1 -  4 | (0.1+0j)\n",
      "    4  |    2 -  3 | 0.2j\n",
      "    5  |    2 -  4 | 0.2j\n",
      "    6  |    3 -  4 | (0.1+0.2j)\n",
      "_______|___________|__________\n",
      "\n",
      "BUILDING ADMITTANCE MATRIX:\n",
      "\n",
      "Checking branch 1 (1-2) with an impedance of (0.1+0j)  (admittance of (10+0j) )\n",
      "The value of the off-diagonal elements (1,2) and (2,1) is: (-10-0j)\n",
      "The value of the diagonal element (1,1)  changes from  0j to (10+0j)\n",
      "The value of the diagonal element (2,2)  changes from  0j to (10+0j)\n",
      "\n",
      "Checking branch 2 (1-3) with an impedance of (0.1+0j)  (admittance of (10+0j) )\n",
      "The value of the off-diagonal elements (1,3) and (3,1) is: (-10-0j)\n",
      "The value of the diagonal element (1,1)  changes from  (10+0j) to (20+0j)\n",
      "The value of the diagonal element (3,3)  changes from  0j to (10+0j)\n",
      "\n",
      "Checking branch 3 (1-4) with an impedance of (0.1+0j)  (admittance of (10+0j) )\n",
      "The value of the off-diagonal elements (1,4) and (4,1) is: (-10-0j)\n",
      "The value of the diagonal element (1,1)  changes from  (20+0j) to (30+0j)\n",
      "The value of the diagonal element (4,4)  changes from  0j to (10+0j)\n",
      "\n",
      "Checking branch 4 (2-3) with an impedance of 0.2j  (admittance of -5j )\n",
      "The value of the off-diagonal elements (2,3) and (3,2) is: (-0+5j)\n",
      "The value of the diagonal element (2,2)  changes from  (10+0j) to (10-5j)\n",
      "The value of the diagonal element (3,3)  changes from  (10+0j) to (10-5j)\n",
      "\n",
      "Checking branch 5 (2-4) with an impedance of 0.2j  (admittance of -5j )\n",
      "The value of the off-diagonal elements (2,4) and (4,2) is: (-0+5j)\n",
      "The value of the diagonal element (2,2)  changes from  (10-5j) to (10-10j)\n",
      "The value of the diagonal element (4,4)  changes from  (10+0j) to (10-5j)\n",
      "\n",
      "Checking branch 6 (3-4) with an impedance of (0.1+0.2j)  (admittance of (2-4j) )\n",
      "The value of the off-diagonal elements (3,4) and (4,3) is: (-2+4j)\n",
      "The value of the diagonal element (3,3)  changes from  (10-5j) to (12-9j)\n",
      "The value of the diagonal element (4,4)  changes from  (10-5j) to (12-9j)\n",
      "\n",
      "Ybus = \n",
      " [[ 30. +0.j -10. -0.j -10. -0.j -10. -0.j]\n",
      " [-10. -0.j  10.-10.j  -0. +5.j  -0. +5.j]\n",
      " [-10. -0.j  -0. +5.j  12. -9.j  -2. +4.j]\n",
      " [-10. -0.j  -0. +5.j  -2. +4.j  12. -9.j]]\n"
     ]
    }
   ],
   "source": [
    "Connectivity = [\n",
    "    [1, 2, complex(0.1, 0.0)],\n",
    "    [1, 3, complex(0.1, 0.0)],\n",
    "    [1, 4, complex(0.1, 0.0)],\n",
    "    [2, 3, complex(0.0, 0.2)],\n",
    "    [2, 4, complex(0.0, 0.2)],\n",
    "    [3, 4, complex(0.1, 0.2)]\n",
    "]\n",
    "get_Ybus_Steps(Connectivity)"
   ]
  },
  {
   "cell_type": "markdown",
   "metadata": {},
   "source": [
    "[Back to top](#EEEN30131-Power-System-Analysis:-Week-01---Nodal-Analysis)"
   ]
  }
 ],
 "metadata": {
  "kernelspec": {
   "display_name": "Python 3 (ipykernel)",
   "language": "python",
   "name": "python3"
  },
  "language_info": {
   "codemirror_mode": {
    "name": "ipython",
    "version": 3
   },
   "file_extension": ".py",
   "mimetype": "text/x-python",
   "name": "python",
   "nbconvert_exporter": "python",
   "pygments_lexer": "ipython3",
   "version": "3.11.4"
  },
  "toc": {
   "base_numbering": 1,
   "nav_menu": {},
   "number_sections": true,
   "sideBar": true,
   "skip_h1_title": true,
   "title_cell": "Table of Contents",
   "title_sidebar": "Contents",
   "toc_cell": false,
   "toc_position": {},
   "toc_section_display": true,
   "toc_window_display": true
  }
 },
 "nbformat": 4,
 "nbformat_minor": 4
}
