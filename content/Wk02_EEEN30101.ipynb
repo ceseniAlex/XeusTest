{
 "cells": [
  {
   "cell_type": "markdown",
   "metadata": {},
   "source": [
    "# EEEN30101 Numerical Analysis"
   ]
  },
  {
   "cell_type": "markdown",
   "metadata": {},
   "source": [
    "# Week 02"
   ]
  },
  {
   "cell_type": "markdown",
   "metadata": {},
   "source": [
    "***&copy; 2024 Martínez Ceseña — University of Manchester, UK***"
   ]
  },
  {
   "cell_type": "markdown",
   "metadata": {},
   "source": [
    "This notebook provides more information about Heron's algorithm, and introduces three of the most established root finding algorithms (i.e., bisection algorithm, secant method, and Newton-Raphson's method). \n",
    "\n",
    "That is, the topics covered in this notebook include:\n",
    "- Heron's method - Convergence\n",
    "- Bisection algorithm\n",
    "- Secant method\n",
    "- Newton-Raphson's method\n",
    "\n",
    "The use of the notebooks is optional and will not be marked. That said, you are strongly encouraged to play with the tools and examples, as you can explore different variations of the examples, which will better prepare you for the exams."
   ]
  },
  {
   "cell_type": "markdown",
   "metadata": {},
   "source": [
    "## List of contents"
   ]
  },
  {
   "cell_type": "markdown",
   "metadata": {},
   "source": [
    "- [Heron's method - Convergence](#Heron's-method---Convergence)\n",
    "  - [Approximating the equation](#Approximating-the-equation)\n",
    "  - [Analysing convergence properties](#Analysing-convergence-properties)\n",
    "  - [Testing Heron's equation](#Testing-Heron's-equation)\n",
    "\n",
    "\n",
    "- [Root finding algorithms and the bisection algorithm](#Root-finding-algorithms-and-the-bisection-algorithm)\n",
    "  - [Solving a familiar problem](#Solving-a-familiar-problem)\n",
    "  - [Analysing the locations of roots](#Analysing-the-locations-of-roots)\n",
    "  - [Bisection algorithm](#Bisection-algorithm)\n",
    "\n",
    "\n",
    "- [Secant method](#Secant-method)\n",
    "  - [Formulation of the Secant method](#Formulation-of-the-Secant-method)\n",
    "  - [Testing the Secant method](#Testing-the-Secant-method)\n",
    "\n",
    "\n",
    "- [Newton-Raphson's method](#Newton-Raphson's-method)\n",
    "  - [Formulation of Newton's method](#Formulation-of-Newton's-method)\n",
    "  - [Testing Newton's method](#Testing-Newton's-method)\n",
    "  - [Special applications of Newton's method](#Special-applications-of-Newton's-method)\n",
    "  - [Computational efficiency of Newton's method](#Computational-efficiency-of-Newton's-method)\n",
    "\n",
    "\n",
    "- [Conclusion](#Conclusion)"
   ]
  },
  {
   "cell_type": "markdown",
   "metadata": {},
   "source": [
    "## Before we begin"
   ]
  },
  {
   "cell_type": "markdown",
   "metadata": {},
   "source": [
    "Before we begin: \n",
    "- Make sure to review the asynchronous materials provided in blackboard for EEEN30101 Week 2 \n",
    "- If you have any questions, please post them in the discussion boards or, if that is not possible, send an email to alex.martinezcesena@manchester.ac.uk"
   ]
  },
  {
   "cell_type": "markdown",
   "metadata": {},
   "source": [
    "This notebook provides some examples in python, for that purpose the following libraries will be loaded:"
   ]
  },
  {
   "cell_type": "code",
   "execution_count": 1,
   "metadata": {},
   "outputs": [],
   "source": [
    "import numpy  # To define and use matrices\n",
    "import matplotlib.pyplot as plt  # To plot figures\n",
    "import math\n",
    "\n",
    "try:\n",
    "    import ipywidgets as widgets\n",
    "except:\n",
    "    import micropip\n",
    "    await micropip.install('ipywidgets')\n",
    "    import ipywidgets as widgets\n",
    "from ipywidgets import interact"
   ]
  },
  {
   "cell_type": "markdown",
   "metadata": {},
   "source": [
    "[Back to top](#EEEN30101-Numerical-Analysis)"
   ]
  },
  {
   "cell_type": "markdown",
   "metadata": {},
   "source": [
    "## Heron's method - Convergence"
   ]
  },
  {
   "cell_type": "markdown",
   "metadata": {},
   "source": [
    "As was presented last week, according to Heron's, the square root of a number ($S$) can be iteratively estimated by first making a guess about the value of the square root ($x_k$) and, afterwards, improving our guess ($x_{k+1}$) by solving the following equation iteratively.\n",
    "\n",
    "$$x_{k+1} = \\frac{x_k+S/x_k}{2}$$"
   ]
  },
  {
   "cell_type": "markdown",
   "metadata": {},
   "source": [
    "We also established that, if Heron's algorithm converges, the result should converge to $\\sqrt{S}$\n",
    "\n",
    "This time, we will now explore if the algorithm actually converges. That is, if the difference between successive guesses ($|x_{k+1} - x_k|$) is gradually becoming smaller."
   ]
  },
  {
   "cell_type": "markdown",
   "metadata": {},
   "source": [
    "### Approximating the equation"
   ]
  },
  {
   "cell_type": "markdown",
   "metadata": {},
   "source": [
    "It is not straightforward to calculate $|x_{k+1} - x_k|$ from Heron's method, so it is convenient to express Heron's formula in a different way. For example, we can express it as a series of polynomials based on Taylor's expansion.\n",
    "\n",
    "First, let's redefine Heron's equation as a typical function $g(x)$:\n",
    "$$g(x) = \\frac{x+S/x}{2}$$\n",
    "\n",
    "And let us expand this equation using Taylor series around a selected point ($\\xi$):\n",
    "\n",
    "$$\n",
    "\\begin{aligned}\n",
    "  g(x) & = \\frac{x+S/x}{2} \\\\\n",
    "   & = \\sum_{n=0}^{n=\\infty}{\\frac{g^n(\\xi)}{n!} (x-\\xi)^n} \\\\ \n",
    "   & = g(\\xi) + g'(\\xi)(x-\\xi) + \\frac{g''(\\xi)}{2!}(x-\\xi)^2 + ... + \\frac{g^n(\\xi)}{n!} (x-\\xi)^n\n",
    "\\end{aligned}\n",
    "$$\n"
   ]
  },
  {
   "cell_type": "markdown",
   "metadata": {},
   "source": [
    "One of the key advantages of Taylor's expansion is that, according to Taylor's theorem, the value of the higher order polynomials tends to zero. In other words, it is generally reasonable to just use the first two elements of the equation:\n",
    "\n",
    "$$g(x) = \\frac{x+S/x}{2} \\approx g(\\xi) + g'(\\xi)(x-\\xi)$$\n",
    "\n",
    "><mark>This approximation is easier to use than the full Heron's equation</mark>"
   ]
  },
  {
   "cell_type": "markdown",
   "metadata": {},
   "source": [
    "To illustrate what we just did, let us compare Heron's function with different Taylor expansion approximations, specifically:\n",
    "- Herons equation:\n",
    "$$Heron(x) = \\frac{x+S/x}{2}$$</p>\n",
    "\n",
    "\n",
    "- A Taylor expansion of Heron's equation with the first two elements:\n",
    "\n",
    "$$Taylor2(x) = \\frac{\\xi+S/\\xi}{2} + \\frac{1-S/\\xi^2}{2}(x-\\xi)$$\n",
    "\n",
    "\n",
    "- A Taylor expansion of Heron's equation with the first three elements:\n",
    "\n",
    "$$Taylor3(x) = \\frac{\\xi+S/\\xi}{2} + \\frac{1-S/\\xi^2}{2}(x-\\xi) + \\frac{S}{\\xi^32!}(x-\\xi)^2 $$\n",
    "\n",
    "\n",
    "- A Taylor expansion of Heron's equation with the first four elements:\n",
    "\n",
    "$$Taylor4(x) = \\frac{\\xi+S/\\xi}{2} + \\frac{1-S/\\xi^2}{2}(x-\\xi) + \\frac{S}{\\xi^32!}(x-\\xi)^2 + \\frac{-3S}{\\xi^43!}(x-\\xi)^3$$\n",
    "\n",
    "\n",
    "- A Taylor expansion of Heron's equation with the first five elements:\n",
    "\n",
    "$$Taylor5(x) = \\frac{\\xi+S/\\xi}{2} + \\frac{1-S/\\xi^2}{2}(x-\\xi) + \\frac{S}{\\xi^32!}(x-\\xi)^2 + \\frac{-3S}{\\xi^43!}(x-\\xi)^3 + \\frac{12S}{\\xi^54!}(x-\\xi)^4$$"
   ]
  },
  {
   "cell_type": "markdown",
   "metadata": {},
   "source": [
    "[Back to top](#EEEN30101-Numerical-Analysis)"
   ]
  },
  {
   "cell_type": "code",
   "execution_count": 2,
   "metadata": {},
   "outputs": [
    {
     "data": {
      "application/vnd.jupyter.widget-view+json": {
       "model_id": "70e1790c914845cfb9eaf16d15deb79a",
       "version_major": 2,
       "version_minor": 0
      },
      "text/plain": [
       "interactive(children=(FloatSlider(value=10.0, continuous_update=False, description='S', max=15.0, min=5.0), Fl…"
      ]
     },
     "metadata": {},
     "output_type": "display_data"
    }
   ],
   "source": [
    "@interact\n",
    "def TestTaylor(S = widgets.FloatSlider(min=5, max=15,step=0.1,value=10, description='S', continuous_update=False),\n",
    "               a = widgets.FloatSlider(min=5, max=15,step=0.1,value=10, description='𝜉', continuous_update=False)):\n",
    "    T = 100\n",
    "    X = numpy.linspace(1,20,T)\n",
    "\n",
    "    Heron = numpy.zeros(T)\n",
    "    Taylor2 = numpy.zeros(T)\n",
    "    Taylor3 = numpy.zeros(T)\n",
    "    Taylor4 = numpy.zeros(T)\n",
    "    Taylor5 = numpy.zeros(T)\n",
    "\n",
    "    for n in range(T):\n",
    "        x = X[n]\n",
    "        Heron[n] = g = (x+S/x)/2\n",
    "        Taylor2[n] = (a+S/a)/2 + (1-S/a**2)/2*(x-a) \n",
    "        Taylor3[n] = Taylor2[n] + S/a**3*(x-a)**2/math.factorial(2) \n",
    "        Taylor4[n] = Taylor3[n] + -3*S/a**4*(x-a)**3/math.factorial(3) \n",
    "        Taylor5[n] = Taylor4[n] + 12*S/a**5*(x-a)**4/math.factorial(4)\n",
    "\n",
    "    fig, ax = plt.subplots()\n",
    "    ax.plot(X, Heron, '--', label='Heron')\n",
    "    ax.plot(X, Taylor2, label='Taylor2')\n",
    "    ax.plot(X, Taylor3, label='Taylor3')\n",
    "    ax.plot(X, Taylor4, label='Taylor4')\n",
    "    ax.plot(X, Taylor5, label='Taylor5')\n",
    "\n",
    "    ax.set(xlabel='Guess', ylabel='Updated guess')\n",
    "    ax.grid()\n",
    "    plt.legend()\n",
    "    plt.show()\n"
   ]
  },
  {
   "cell_type": "markdown",
   "metadata": {},
   "source": [
    "From the simulations, it can be concluded that:\n",
    "- The use of Taylor series to approximate Heron's formula is reasonable.\n",
    "- Accuracy is affected by the point selected to perform the series expansion ($a$)."
   ]
  },
  {
   "cell_type": "markdown",
   "metadata": {},
   "source": [
    "[Back to top](#EEEN30101-Numerical-Analysis)"
   ]
  },
  {
   "cell_type": "markdown",
   "metadata": {},
   "source": [
    "### Analysing convergence properties"
   ]
  },
  {
   "cell_type": "markdown",
   "metadata": {},
   "source": [
    "Now that Heron's formula has been approximated as a series of polynomials, we can estimate $x_k$ and $x_{k+1}$ as:\n",
    "\n",
    "$$x_k \\approx g(\\xi) + g'(x_{k-1}-\\xi)$$\n",
    "\n",
    "$$x_{k+1} \\approx g(\\xi) + g'(x_k-\\xi)$$"
   ]
  },
  {
   "cell_type": "markdown",
   "metadata": {},
   "source": [
    "Therefore, $|x_{k+1} - x_k|$ can be calculated as:\n",
    "\n",
    "$$\n",
    "\\begin{aligned}\n",
    "  |x_{k+1} - x_k| & \\approx |g(\\xi) + g'(x_k-\\xi) - g(\\xi) - g'(x_{k-1}-\\xi)| \\\\\n",
    "   & \\approx | g'(x_k-\\xi) - g'(x_{k-1}-\\xi)| \\\\ \n",
    "   & \\approx |x_k - x_{k-1}||g'(\\xi)|\n",
    "\\end{aligned}\n",
    "$$\n"
   ]
  },
  {
   "cell_type": "markdown",
   "metadata": {},
   "source": [
    "Based on the last equation, for the difference between consecutive guesses ($|x_k - x_{k-1}|$) to gradually decrease, $|g'(\\xi)|$ must be lower than one for all possible $\\xi$.\n",
    "\n",
    "So let us examine, $g'(x)$, which is the differential of Heron's formula:\n",
    "\n",
    "$$\\frac{\\partial Heron(x)}{\\partial x} =\\frac{\\partial}{\\partial z} \\left[ \\frac{x+S/x}{2} \\right] = \\frac{1}{2} \\left(1 - \\frac{S}{x^2} \\right)$$\n",
    "\n",
    "\n",
    "><mark>Note that convergence speed will increase if the magnitude of this equation is low, e.g., when $x \\approx S$  </mark>"
   ]
  },
  {
   "cell_type": "markdown",
   "metadata": {},
   "source": [
    "The absolute value of this equation must be lower than one. Therefore:\n",
    "$$-1 < \\frac{1}{2} \\left(1 - \\frac{S}{x^2} \\right) < 1$$\n",
    "\n",
    "This is the same as:\n",
    "$$-3 < - \\frac{S}{x^2} < 1$$"
   ]
  },
  {
   "cell_type": "markdown",
   "metadata": {},
   "source": [
    "The right side of the equation can be rewritten as:\n",
    "$$-S < x^2$$\n",
    "\n",
    "><mark>This condition will be true as long as $S>0$</mark>"
   ]
  },
  {
   "cell_type": "markdown",
   "metadata": {},
   "source": [
    "The left side of the equation can be rewritten as:\n",
    "$$3 > \\frac{S}{x^2}$$\n",
    "\n",
    "$$x^2 > \\frac{S}{3}$$"
   ]
  },
  {
   "cell_type": "markdown",
   "metadata": {},
   "source": [
    "For this to be true **S has to be greater than zero** and the value of $x$ has to be derived from Heron's formula as follows:\n",
    "\n",
    "$$\n",
    "\\begin{aligned}\n",
    "  x_{k+1}^2 & = \\frac{(x_k+S/x_k)^2}{4} \\\\\n",
    "   & = \\frac{1}{4}\\left(x_k^2+2S+\\frac{S^2}{x_k^2} \\right) \\\\ \n",
    "   & = \\frac{S}{2} + \\frac{1}{4}\\left(x_k^2+\\frac{S^2}{x_k^2} \\right)\n",
    "\\end{aligned}\n",
    "$$\n",
    "\n",
    "\n",
    "From this last equation, we know that $x_{k+1}^2$ will be equal to $S/2$ plus some additional values. In other words, considering that the additional values can be zero or more, we can state that x will be greater than $S/2$ and, thus, also greater than $S/3$:\n",
    "\n",
    "$$x_{k+1}^2 \\geq \\frac{S}{3}$$"
   ]
  },
  {
   "cell_type": "markdown",
   "metadata": {},
   "source": [
    "[Back to top](#EEEN30101-Numerical-Analysis)"
   ]
  },
  {
   "cell_type": "markdown",
   "metadata": {},
   "source": [
    "### Testing Heron's equation"
   ]
  },
  {
   "cell_type": "markdown",
   "metadata": {},
   "source": [
    "Based on the information provided above, it can be concluded that Heron's algorithm:\n",
    "- should converge as long as $S \\geq 0$\n",
    "- should converge faster when $x \\approx S$\n",
    "\n",
    "You can test the algorithm using the tool below."
   ]
  },
  {
   "cell_type": "code",
   "execution_count": 3,
   "metadata": {},
   "outputs": [
    {
     "data": {
      "application/vnd.jupyter.widget-view+json": {
       "model_id": "a952b9383ff9436d9ae98eaf61011be5",
       "version_major": 2,
       "version_minor": 0
      },
      "text/plain": [
       "interactive(children=(FloatText(value=10.0, description='Input'), FloatText(value=2.0, description='Guess'), F…"
      ]
     },
     "metadata": {},
     "output_type": "display_data"
    }
   ],
   "source": [
    "def Heron(Number, Guess, Threshold, flg=True):\n",
    "    Error = 1000\n",
    "    if flg:\n",
    "        print('     Input  Estimated     Error:')\n",
    "        print('   number:      root:')\n",
    "        print('%10.4f %10.4f'%(Number, Guess))\n",
    "\n",
    "    iterations = 0\n",
    "    while Error > Threshold:\n",
    "        iterations+=1\n",
    "        NewGuess = (Guess+Number/Guess)/2\n",
    "        Error = abs(NewGuess-Guess)\n",
    "        if flg:\n",
    "            print('%10.4f %10.4f %10.6f'%(Number, NewGuess, Error))\n",
    "        Guess = NewGuess\n",
    "        \n",
    "        if iterations >=100:\n",
    "            Error = 0\n",
    "    if flg:\n",
    "        if iterations <100:\n",
    "            print('Converged after %d iterations'%iterations)\n",
    "        else:\n",
    "            print('Failed to converge after %d iterations'%iterations)\n",
    "\n",
    "    return NewGuess, iterations, Error\n",
    "\n",
    "@interact\n",
    "def Heron_Interactive(Number=widgets.FloatText(value=10, description='Input'),\n",
    "          Guess=widgets.FloatText(value=2, description='Guess'),\n",
    "          Threshold=widgets.FloatText(min=0.000001, value=0.001, description='Threshold')):\n",
    "    NewGuess, iteration, Error = Heron(Number, Guess, Threshold)"
   ]
  },
  {
   "cell_type": "markdown",
   "metadata": {},
   "source": [
    "[Back to top](#EEEN30101-Numerical-Analysis)"
   ]
  },
  {
   "cell_type": "markdown",
   "metadata": {},
   "source": [
    "## Root finding algorithms and the bisection algorithm"
   ]
  },
  {
   "cell_type": "markdown",
   "metadata": {},
   "source": [
    "The Bisection algorithm is one of the key foundations of root finding approaches, which, as their name suggest are approaches developed to find the roots of a given equation.\n",
    "\n",
    "Let us use an example to illustrate how root finding approaches work, and introduce the bisection method."
   ]
  },
  {
   "cell_type": "markdown",
   "metadata": {},
   "source": [
    "### Solving a familiar problem"
   ]
  },
  {
   "cell_type": "markdown",
   "metadata": {},
   "source": [
    "As we have been analysing square roots with Heron's algorithm, let us use a square root equation as an example:\n",
    "\n",
    "$$x = \\sqrt{S}$$\n",
    "\n",
    "We should first rewrite the equation so that it is equal to zero as done below. \n",
    "\n",
    "$$x^2 - S = 0$$\n",
    "\n",
    "The roots of the algorithm are the values of the unknown variables ($x$ in this case) that satisfy the equation.\n"
   ]
  },
  {
   "cell_type": "markdown",
   "metadata": {},
   "source": [
    "We need to assume some numbers for our example. For instance, assume $S=2$:"
   ]
  },
  {
   "cell_type": "code",
   "execution_count": 4,
   "metadata": {},
   "outputs": [
    {
     "name": "stdout",
     "output_type": "stream",
     "text": [
      "S is set to: 2.0000\n"
     ]
    }
   ],
   "source": [
    "S = 2\n",
    "\n",
    "print('S is set to: %.4f'%S)"
   ]
  },
  {
   "cell_type": "markdown",
   "metadata": {},
   "source": [
    "As this is a quadratic equation, and its solution is also the square root of ($S$), we should already know a couple of options to solve this problem, such as:"
   ]
  },
  {
   "cell_type": "markdown",
   "metadata": {},
   "source": [
    "- The general quadratic formula:\n",
    "$$ax^2+bx+c=0$$\n",
    "\n",
    "$$x=\\frac{-b \\pm \\sqrt{b^2-4ac}}{2a}$$"
   ]
  },
  {
   "cell_type": "code",
   "execution_count": 5,
   "metadata": {},
   "outputs": [
    {
     "data": {
      "application/vnd.jupyter.widget-view+json": {
       "model_id": "d960f24127de4a039c59baa5b4eee012",
       "version_major": 2,
       "version_minor": 0
      },
      "text/plain": [
       "interactive(children=(FloatText(value=1.0, description='a'), FloatText(value=0.0, description='b'), FloatText(…"
      ]
     },
     "metadata": {},
     "output_type": "display_data"
    }
   ],
   "source": [
    "@interact\n",
    "def Heron_Interactive(a=widgets.FloatText(value=1, description='a'),\n",
    "          b=widgets.FloatText(value=0, description='b'),\n",
    "          c=widgets.FloatText(value=-S, description='c')):\n",
    "\n",
    "    x = (-b + numpy.sqrt(b**2-4*a*c))/2/a\n",
    "    print('The square root is: %.4f'%x)"
   ]
  },
  {
   "cell_type": "markdown",
   "metadata": {},
   "source": [
    "- Heron's algorithm\n",
    "$$x_{k+1} = \\frac{x_k+S/x_k}{2}$$"
   ]
  },
  {
   "cell_type": "code",
   "execution_count": 6,
   "metadata": {},
   "outputs": [
    {
     "data": {
      "application/vnd.jupyter.widget-view+json": {
       "model_id": "0cc9892397bc431fbaa766d758bd7df9",
       "version_major": 2,
       "version_minor": 0
      },
      "text/plain": [
       "interactive(children=(FloatText(value=2.0, description='Input'), FloatText(value=2.0, description='Guess'), Fl…"
      ]
     },
     "metadata": {},
     "output_type": "display_data"
    }
   ],
   "source": [
    "@interact\n",
    "def Heron_Interactive(Number=widgets.FloatText(value=S, description='Input'),\n",
    "          Guess=widgets.FloatText(value=2, description='Guess'),\n",
    "          Threshold=widgets.FloatText(min=0.000001, value=0.001, description='Threshold')):\n",
    "\n",
    "    NewGuess, iteration, Error = Heron(Number, Guess, Threshold, False)\n",
    "    print('The square root is: %.4f'%NewGuess)"
   ]
  },
  {
   "cell_type": "markdown",
   "metadata": {},
   "source": [
    "However, would you be able to get the roots of other equations? Some of these other equations may be more complex, or you may not have defined yet.\n",
    "\n",
    "We need a more general approach to obtain roots in such cases."
   ]
  },
  {
   "cell_type": "markdown",
   "metadata": {},
   "source": [
    "[Back to top](#EEEN30101-Numerical-Analysis)"
   ]
  },
  {
   "cell_type": "markdown",
   "metadata": {},
   "source": [
    "### Analysing the locations of roots"
   ]
  },
  {
   "cell_type": "markdown",
   "metadata": {},
   "source": [
    "Assume now that we do not know a specific method to obtain the roots of our equation, how would you solve the problem?\n",
    "\n",
    "Let's continue with our example $x^2 - S = 0$ but, this time, we will analyse the function."
   ]
  },
  {
   "cell_type": "markdown",
   "metadata": {},
   "source": [
    "For convenience, we will use a python method that will handle the equations for us. This will also allow us to seamlessly customise our examples later on."
   ]
  },
  {
   "cell_type": "markdown",
   "metadata": {},
   "source": [
    "> Do not worry about the code, it is here for completeness, but you do not need to understand it and it will not be marked."
   ]
  },
  {
   "cell_type": "code",
   "execution_count": 7,
   "metadata": {},
   "outputs": [
    {
     "name": "stdout",
     "output_type": "stream",
     "text": [
      "The polynomial considered in this example is:\n",
      "f(x) = 1x^2 -  2"
     ]
    }
   ],
   "source": [
    "class polynomial:\n",
    "    def __init__(self, arg):\n",
    "        '''Save parameters of polynomial'''\n",
    "        self.pars = arg\n",
    "        self.Nopars = len(arg)\n",
    "\n",
    "    def set_x(self, x):\n",
    "        '''Set x values for polynomial'''\n",
    "        self.x = x\n",
    "        self.Nox = len(x)\n",
    "\n",
    "    def get_y(self):\n",
    "        '''Get the values of f(x)'''\n",
    "        self.y = numpy.zeros((self.Nox))\n",
    "        for n in range(self.Nox):\n",
    "            for p in range(self.Nopars):\n",
    "                self.y[n] += self.pars[p]*self.x[n]**(self.Nopars-p-1)\n",
    "        return self.y\n",
    "    \n",
    "    def get_diff(self):\n",
    "        '''Get the values of f'(x)'''\n",
    "        self.dy = numpy.zeros((self.Nox))\n",
    "        for n in range(self.Nox):\n",
    "            for p in range(self.Nopars-1):\n",
    "                self.dy[n] += (self.Nopars-p-1)*self.pars[p]*self.x[n]**(self.Nopars-p-2)\n",
    "        return self.dy\n",
    "\n",
    "    def display(self):\n",
    "        for p in range(self.Nopars):\n",
    "            if self.pars[p] != 0:\n",
    "                if p == 0:\n",
    "                    print('%d'%self.pars[p], end='')\n",
    "                else:\n",
    "                    if self.pars[p]>=0:\n",
    "                        print(' + ',self.pars[p] ,end='')\n",
    "                    else:\n",
    "                        print(' - ',-self.pars[p] ,end='')\n",
    "                aux = self.Nopars-p-1\n",
    "                if aux>1:\n",
    "                    print('x^%d'%aux, end='')\n",
    "                elif aux==1:\n",
    "                    print('x', end='')\n",
    "\n",
    "Example = polynomial([1, 0, -S])\n",
    "print('The polynomial considered in this example is:\\nf(x) = ', end='')\n",
    "Example.display()"
   ]
  },
  {
   "cell_type": "markdown",
   "metadata": {},
   "source": [
    "Check the figure of our example presented below."
   ]
  },
  {
   "cell_type": "code",
   "execution_count": 8,
   "metadata": {},
   "outputs": [
    {
     "data": {
      "application/vnd.jupyter.widget-view+json": {
       "model_id": "14e5c755719d4d17baa4092036efeebc",
       "version_major": 2,
       "version_minor": 0
      },
      "text/plain": [
       "interactive(children=(FloatSlider(value=0.0, continuous_update=False, description='From', max=0.0, min=-10.0),…"
      ]
     },
     "metadata": {},
     "output_type": "display_data"
    }
   ],
   "source": [
    "@interact\n",
    "def PlotFigure(From = widgets.FloatSlider(min=-10, max=0, value=0, description='From', continuous_update=False),\n",
    "               To = widgets.FloatSlider(min=1, max=10, value=2, description='To', continuous_update=False)):\n",
    "    T = 100\n",
    "    X = numpy.linspace(From, To, T)\n",
    "\n",
    "    Example.set_x(X)\n",
    "    y = Example.get_y()\n",
    "\n",
    "    fig, ax = plt.subplots()\n",
    "    ax.plot(X,y, '--', label='Polynomial')\n",
    "    ax.plot([From, To],[0, 0], label='x-axis')\n",
    "\n",
    "    ax.set(xlabel='(x-axis)', ylabel='(y-axis)')\n",
    "    ax.grid()\n",
    "    plt.legend()\n",
    "    plt.show()"
   ]
  },
  {
   "cell_type": "markdown",
   "metadata": {},
   "source": [
    "After analysing the figure, you can observe that the root of the equation is the value of $x$ that makes the function intersect the x axis.\n",
    "\n",
    "Based on the above information, there are different approaches that can be used to find roots. Let us begin with the Bisection algorithm."
   ]
  },
  {
   "cell_type": "markdown",
   "metadata": {},
   "source": [
    "[Back to top](#EEEN30101-Numerical-Analysis)"
   ]
  },
  {
   "cell_type": "markdown",
   "metadata": {},
   "source": [
    "### Bisection algorithm"
   ]
  },
  {
   "cell_type": "markdown",
   "metadata": {},
   "source": [
    "Based on our observations, if we know that the roots are located in places where the function intersects the x-axis, we can conclude that a root can be found between two $x$ values (i.e., $\\underline{x}$ and $\\bar{x}$) if:\n",
    "\n",
    "- The values are different:\n",
    "\n",
    "$$\\underline{x} \\leq \\bar{x}$$\n",
    "\n",
    "- One of their f(x) values is positive, whereas the other is negative:\n",
    "\n",
    "$$f(\\underline{x})f(\\bar{x})<0$$\n"
   ]
  },
  {
   "cell_type": "markdown",
   "metadata": {},
   "source": [
    "As we know that a root is located between $\\underline{x}$ and $\\bar{x}$, based on the Bisection algorithm, we can select the value in the middle of those two points as our new guess of the root ($\\hat{x}$):\n",
    "\n",
    "$$\\hat{x} = \\frac{1}{2}(\\underline{x}+\\bar{x})$$"
   ]
  },
  {
   "cell_type": "markdown",
   "metadata": {},
   "source": [
    "This new estimate ($\\hat{x}$) will be used to replace either $\\underline{x}$ or $\\bar{x}$ using the following rules:\n",
    "- Do $f(\\hat{x})$ and $f(\\underline{x})$ have the same sign?\n",
    "  - If so, $f(\\hat{x})$ will replace $f(\\underline{x})$, whereas $f(\\bar{x})$ will remain the same for the next iteration.\n",
    "  - If not ($f(\\hat{x})$ and $f(\\hat{x})$ have the same sign), $f(\\hat{x})$ will replace $f(\\bar{x})$, whereas $f(\\underline{x})$ will remain the same for the next iteration\n",
    "\n",
    "This can be expressed as follows:\n",
    "\n",
    "$ \\text{if} f(\\hat{x}_k)f(\\underline{x}_k)>0:$\n",
    "$$\\underline{x}_{k+1} = \\hat{x}_k$$\n",
    "$$\\bar{x}_{k+1} = \\bar{x}_k$$\n",
    "$ \\text{else}:$\n",
    "$$\\underline{x}_{k+1} = \\underline{x}_k$$\n",
    "$$\\bar{x}_{k+1} = \\hat{x}_k$$"
   ]
  },
  {
   "cell_type": "markdown",
   "metadata": {},
   "source": [
    "The process will be repeated until the expected error is within an estimated threshold ($\\varepsilon$):\n",
    "$$Error = \\frac{1}{2}(\\bar{x}_k - \\underline{x}_k) \\leq \\varepsilon$$"
   ]
  },
  {
   "cell_type": "markdown",
   "metadata": {},
   "source": [
    "It is time to use Bisection to find a root of an equation. Use the python tool below to solve the current example, or other examples of your choice."
   ]
  },
  {
   "cell_type": "code",
   "execution_count": 9,
   "metadata": {},
   "outputs": [
    {
     "data": {
      "application/vnd.jupyter.widget-view+json": {
       "model_id": "c0c7deea332f4e5f9fdbac8973f7b11e",
       "version_major": 2,
       "version_minor": 0
      },
      "text/plain": [
       "interactive(children=(FloatSlider(value=0.0, continuous_update=False, description='$xmin$', max=0.0, min=-10.0…"
      ]
     },
     "metadata": {},
     "output_type": "display_data"
    }
   ],
   "source": [
    "@interact\n",
    "def TestBisection(Xmin = widgets.FloatSlider(min=-10, max=0, value=0, description='$xmin$', continuous_update=False),\n",
    "               Xmax = widgets.FloatSlider(min=1, max=10, value=2, description='xmax', continuous_update=False)):\n",
    "    Threshold = 0.0001\n",
    "    Error = 0.5*(Xmax-Xmin)\n",
    "       \n",
    "    Example.set_x([Xmax])\n",
    "    fxmax = Example.get_y()\n",
    "    \n",
    "    Example.set_x([Xmin])\n",
    "    fxmin = Example.get_y()\n",
    "    \n",
    "    iteration = 0\n",
    "    print('  k     xmin     xmax        x    Error  f(xmin)  f(xmax)     f(x)')\n",
    "    while Error > Threshold:\n",
    "        x = 0.5*(Xmax+Xmin)\n",
    "    \n",
    "        Example.set_x([x])\n",
    "        fx = Example.get_y()\n",
    "        \n",
    "        print('%3.0f %8.4f %8.4f %8.4f %8.4f %8.4f %8.4f %8.4f'%\n",
    "              (iteration, Xmin, Xmax, x, Error, fxmin[0], fxmax[0], fx[0]))\n",
    "    \n",
    "        if fx*fxmax>0:\n",
    "            Xmax = x\n",
    "            fxmax = fx\n",
    "        else:\n",
    "            Xmin = x\n",
    "            fxmin = fx\n",
    "        \n",
    "        Error = 0.5*(Xmax-Xmin)\n",
    "        \n",
    "        #print (Xmin, Xmax)\n",
    "        \n",
    "        if iteration > 100:\n",
    "            Error = 0\n",
    "        iteration += 1\n",
    "    print('\\nA root of f(x) = (', end='')\n",
    "    Example.display()\n",
    "    print(') is %.4f'%x)"
   ]
  },
  {
   "cell_type": "markdown",
   "metadata": {},
   "source": [
    "Based on the results of the simulations, you may observe the following:\n",
    "- The algorithm requires a large number of iterations\n",
    "- The error bounds halve at each iteration (linear convergence)"
   ]
  },
  {
   "cell_type": "markdown",
   "metadata": {},
   "source": [
    "[Back to top](#EEEN30101-Numerical-Analysis)"
   ]
  },
  {
   "cell_type": "markdown",
   "metadata": {},
   "source": [
    "## Secant method"
   ]
  },
  {
   "cell_type": "markdown",
   "metadata": {},
   "source": [
    "### Formulation of the Secant method"
   ]
  },
  {
   "cell_type": "markdown",
   "metadata": {},
   "source": [
    "One of the disadvantage of the Bisection method is the need to find an initial range of values ($f(\\hat{x})$ and $f(\\bar{x})$) that include a root.\n",
    "\n",
    "The Secant method tries to address this issue by drawing a line between the selected range of values an extending this secant line until it intercepts the x-axis.\n",
    "\n",
    "$$x_{k+1} = \\underline{x}_k-(\\bar{x}_k - \\underline{x}_k)\\frac{f(\\underline{x}_k)}{f(\\bar{x}_k)-f(\\underline{x}_k)}$$"
   ]
  },
  {
   "cell_type": "markdown",
   "metadata": {},
   "source": [
    "Use the python method below to test this approach to create Secants."
   ]
  },
  {
   "cell_type": "code",
   "execution_count": 10,
   "metadata": {},
   "outputs": [
    {
     "data": {
      "application/vnd.jupyter.widget-view+json": {
       "model_id": "828a88701733454c96b4a07f6bb4cf8d",
       "version_major": 2,
       "version_minor": 0
      },
      "text/plain": [
       "interactive(children=(FloatSlider(value=-1.0, continuous_update=False, description='From', max=10.0, min=-10.0…"
      ]
     },
     "metadata": {},
     "output_type": "display_data"
    }
   ],
   "source": [
    "@interact\n",
    "def PlotSecant(From = widgets.FloatSlider(min=-10, max=10, value=-1, description='From', continuous_update=False),\n",
    "               To = widgets.FloatSlider(min=-10, max=10, value=3, description='To', continuous_update=False),\n",
    "              Xmin = widgets.FloatSlider(min=-2, max=2, value=0, description='xmin', continuous_update=False),\n",
    "              Xmax = widgets.FloatSlider(min=-2, max=2, value=1, description='xmax', continuous_update=False)):\n",
    "    T = 100\n",
    "    X = numpy.linspace(From, To, T)\n",
    "\n",
    "    Example.set_x(X)\n",
    "    y = Example.get_y()\n",
    "    \n",
    "    if Xmin > Xmax:\n",
    "        aux = Xmin\n",
    "        Xmin = Xmax\n",
    "        Xmax = aux\n",
    "    elif Xmin==Xmax:\n",
    "        Xmax = Xmin+0.001\n",
    "    \n",
    "    Example.set_x([Xmin])\n",
    "    fxmin = Example.get_y()\n",
    "    \n",
    "    Example.set_x([Xmax])\n",
    "    fxmax = Example.get_y()\n",
    "\n",
    "    fig, ax = plt.subplots()\n",
    "    ax.plot(X,y, '--', label='Polynomial')\n",
    "    ax.plot([From, To],[0, 0], label='x-axis')\n",
    "    ax.plot([Xmin],[fxmin],'*', label='xmin')\n",
    "    ax.plot([Xmax],[fxmax],'*', label='xmax')\n",
    "    \n",
    "    x = Xmin-(Xmax-Xmin)*fxmin/(fxmax-fxmin)\n",
    "    ax.plot([Xmin, x[0]],[fxmin[0], 0], label='Secant')\n",
    "    \n",
    "    #if fxmin*fxmax<0:\n",
    "        #ax.plot([Xmin, Xmax],[fxmin, fxmax], label='Secant')\n",
    "    #else:\n",
    "        #Secant = Xmin-(Xmax-Xmin)*fxmin/(fxmax-fxmin)\n",
    "        #if Secant>Xmin:\n",
    "            #ax.plot([Xmin, Secant],[fxmin, 0], label='Secant')\n",
    "\n",
    "    ax.set(xlabel='(x-axis)', ylabel='(y-axis)')\n",
    "    ax.grid()\n",
    "    plt.legend()\n",
    "    plt.show()"
   ]
  },
  {
   "cell_type": "markdown",
   "metadata": {},
   "source": [
    "[Back to top](#EEEN30101-Numerical-Analysis)"
   ]
  },
  {
   "cell_type": "markdown",
   "metadata": {},
   "source": [
    "### Testing the Secant method"
   ]
  },
  {
   "cell_type": "markdown",
   "metadata": {},
   "source": [
    "The distance between the two guesses used for the calculation of the secant affect the accuracy of the method, which should also affect the computational costs.\n",
    "\n",
    "To analyse this effect, use the python method below, where only one guess is required as an input ($\\underline{x}$), whereas the second guess is estimated as:\n",
    "\n",
    "<p style=\"text-align: center;\">$$\\bar{x}_k = \\underline{x}_k + \\Delta$$</p>"
   ]
  },
  {
   "cell_type": "code",
   "execution_count": 11,
   "metadata": {},
   "outputs": [
    {
     "data": {
      "application/vnd.jupyter.widget-view+json": {
       "model_id": "4d6e7f7c2c7a472d85f2c983ef0a5d9a",
       "version_major": 2,
       "version_minor": 0
      },
      "text/plain": [
       "interactive(children=(FloatSlider(value=1.0, continuous_update=False, description='x', max=10.0, min=-10.0), F…"
      ]
     },
     "metadata": {},
     "output_type": "display_data"
    }
   ],
   "source": [
    "@interact\n",
    "def TestSecant(x = widgets.FloatSlider(min=-10, max=10, value=1, description='x', continuous_update=False),\n",
    "              D = widgets.FloatSlider(min=0.0001, max=5, value=0.1, description='Δ', continuous_update=False)):\n",
    "    Threshold = 0.0001\n",
    "    \n",
    "    iteration = 0\n",
    "    Error = 1000\n",
    "    print('  k     xmin     xmax        x    Error     f(x)')\n",
    "    while Error > Threshold:\n",
    "        \n",
    "        Xmin = x\n",
    "        Xmax = Xmin+D\n",
    "        \n",
    "        Example.set_x([Xmax])\n",
    "        fxmax = Example.get_y()[0]\n",
    "\n",
    "        Example.set_x([Xmin])\n",
    "        fxmin = Example.get_y()[0]\n",
    "\n",
    "        x = Xmin-(Xmax-Xmin)*fxmin/(fxmax-fxmin)\n",
    "    \n",
    "        Error = abs(x-Xmin)\n",
    "        \n",
    "        print('%3.0f %8.4f %8.4f %8.4f %8.4f %8.4f'%\n",
    "              (iteration, Xmin, Xmax, x, Error, fxmin))\n",
    "        \n",
    "        if iteration > 100:\n",
    "            Error = 0\n",
    "        iteration += 1\n",
    "    print('\\nA root of f(x) = (', end='')\n",
    "    Example.display()\n",
    "    print(') is %.4f'%x)"
   ]
  },
  {
   "cell_type": "markdown",
   "metadata": {},
   "source": [
    "The results of the simulation show that the accuracy of the Secant method tends to improve when the difference between both guesses ($\\Delta$) is small."
   ]
  },
  {
   "cell_type": "markdown",
   "metadata": {},
   "source": [
    "><mark>When $\\Delta$ tends to zero, Secant is equivalent to the gradient of the equation (i.e., differential)</mark>"
   ]
  },
  {
   "cell_type": "markdown",
   "metadata": {},
   "source": [
    "[Back to top](#EEEN30101-Numerical-Analysis)"
   ]
  },
  {
   "cell_type": "markdown",
   "metadata": {},
   "source": [
    "## Newton-Raphson's method"
   ]
  },
  {
   "cell_type": "markdown",
   "metadata": {},
   "source": [
    "### Formulation of Newton's method"
   ]
  },
  {
   "cell_type": "markdown",
   "metadata": {},
   "source": [
    "Based on the information presented in the previous section, the accuracy of the Secant method tends to improve when the pairs of guesses used for the algorithm ($\\bar{x}_k$ and $\\underline{x}_k$) are close together."
   ]
  },
  {
   "cell_type": "markdown",
   "metadata": {},
   "source": [
    "Let us explore the implications of having the guesses very close together. For that purpose, let us begin with the equation of the Secant method:\n",
    "\n",
    "$$x_{k+1} = \\underline{x}_k-(\\bar{x}_k - \\underline{x}_k)\\frac{f(\\underline{x}_k)}{f(\\bar{x}_k)-f(\\underline{x}_k)}$$"
   ]
  },
  {
   "cell_type": "markdown",
   "metadata": {},
   "source": [
    "And let us rewrite it like this:\n",
    "\n",
    "$$x_{k+1} = \\underline{x}_k-\\frac{f(\\underline{x}_k)}{F(x_k)}$$\n",
    "\n",
    "Where:\n",
    "\n",
    "$$F(x_k) = \\frac{f(\\bar{x}_k)-f(\\underline{x}_k)}{\\bar{x}_k - \\underline{x}_k}$$"
   ]
  },
  {
   "cell_type": "markdown",
   "metadata": {},
   "source": [
    "Now, let us make $\\bar{x}_k$ and $\\underline{x}_k$ close together by replacing them with $x$ and $x+\\Delta$:\n",
    "\n",
    "$$\n",
    "\\begin{aligned}\n",
    "  F(x_k) & = \\frac{f(x+\\Delta)-f(x)}{x+\\Delta -x} \\\\\n",
    "   & = \\frac{f(x+\\Delta)-f(x)}{\\Delta}\n",
    "\\end{aligned}\n",
    "$$"
   ]
  },
  {
   "cell_type": "markdown",
   "metadata": {},
   "source": [
    "And make $\\Delta$ as small as possible:\n",
    "$$\\lim_{\\Delta\\to0} F(x_k) = \\frac{f(x+\\Delta)-f(x)}{\\Delta} = f'(x)$$\n",
    "\n",
    "We can now modify the Secant method with the following equation, which is the Newton-Raphson's method (or just Newton's method for short):\n",
    "\n",
    "$$x_{k+1} = x_k-\\frac{f(x)}{f'(x)}$$\n"
   ]
  },
  {
   "cell_type": "markdown",
   "metadata": {},
   "source": [
    "[Back to top](#EEEN30101-Numerical-Analysis)"
   ]
  },
  {
   "cell_type": "markdown",
   "metadata": {},
   "source": [
    "### Testing Newton's method"
   ]
  },
  {
   "cell_type": "markdown",
   "metadata": {},
   "source": [
    "Now that we have the equation for Newton's method, we can analyse how the gradient ($f'(x)'$) can be used to find improved estimations of roots. For this purpose, use the python method below."
   ]
  },
  {
   "cell_type": "code",
   "execution_count": 12,
   "metadata": {},
   "outputs": [
    {
     "data": {
      "application/vnd.jupyter.widget-view+json": {
       "model_id": "0c32ad94952c403e888fbb4267cefdd9",
       "version_major": 2,
       "version_minor": 0
      },
      "text/plain": [
       "interactive(children=(FloatSlider(value=-1.0, continuous_update=False, description='From', max=10.0, min=-10.0…"
      ]
     },
     "metadata": {},
     "output_type": "display_data"
    }
   ],
   "source": [
    "@interact\n",
    "def PlotGradient(From = widgets.FloatSlider(min=-10, max=10, value=-1, description='From', continuous_update=False),\n",
    "                 To = widgets.FloatSlider(min=-10, max=10, value=3, description='To', continuous_update=False),\n",
    "                 x = widgets.FloatSlider(min=0, max=3, value=2, description='x', continuous_update=False)):\n",
    "    T = 100\n",
    "    X = numpy.linspace(From, To, T)\n",
    "\n",
    "    Example.set_x(X)\n",
    "    y = Example.get_y()\n",
    "    \n",
    "    Example.set_x([x])\n",
    "    fx = Example.get_y()\n",
    "    dfx = Example.get_diff()\n",
    "    \n",
    "\n",
    "    fig, ax = plt.subplots()\n",
    "    ax.plot(X,y, '--', label='Polynomial')\n",
    "    ax.plot([From, To],[0, 0], label='x-axis')\n",
    "    ax.plot([x],[fx],'*', label='x')\n",
    "    if dfx == 0:\n",
    "        ax.plot([From, To],[fx[0], fx[0]], label='Gradient')\n",
    "    else:\n",
    "        xk = x - fx/dfx\n",
    "        ax.plot([x, xk[0]],[fx[0], 0], label='Gradient')\n",
    "\n",
    "    ax.set(xlabel='(x-axis)', ylabel='(y-axis)')\n",
    "    ax.grid()\n",
    "    plt.legend()\n",
    "    plt.show()"
   ]
  },
  {
   "cell_type": "markdown",
   "metadata": {},
   "source": [
    "If the process is repeated iteratively (as done with the Bisection and Secant methods), we can estimate the root of an equation within a tolerable margin of error.\n",
    "\n",
    "Use the python method below to test Newton's method:"
   ]
  },
  {
   "cell_type": "code",
   "execution_count": 13,
   "metadata": {},
   "outputs": [
    {
     "data": {
      "application/vnd.jupyter.widget-view+json": {
       "model_id": "772b83f14fa7464d8d7f1606e97883e8",
       "version_major": 2,
       "version_minor": 0
      },
      "text/plain": [
       "interactive(children=(FloatSlider(value=1.0, continuous_update=False, description='x', max=10.0, min=-10.0), O…"
      ]
     },
     "metadata": {},
     "output_type": "display_data"
    }
   ],
   "source": [
    "@interact\n",
    "def TestNewton(x = widgets.FloatSlider(min=-10, max=10, value=1, description='x', continuous_update=False)):\n",
    "    Threshold = 0.0001\n",
    "    \n",
    "    iteration = 0\n",
    "    Error = 1000\n",
    "    print('  k        x    Error     f(x)')\n",
    "    while Error > Threshold:\n",
    "        \n",
    "        Example.set_x([x])\n",
    "        fx = Example.get_y()[0]\n",
    "        dfx = Example.get_diff()[0]\n",
    "\n",
    "        xnew = x-fx/dfx\n",
    "        Error = abs(xnew-x)\n",
    "        x = xnew\n",
    "        \n",
    "        print('%3.0f %8.4f %8.4f %8.4f'%\n",
    "              (iteration, x, Error, fx))\n",
    "        \n",
    "        if iteration > 100:\n",
    "            Error = 0\n",
    "        iteration += 1\n",
    "    print('\\nA root of f(x) = (', end='')\n",
    "    Example.display()\n",
    "    print(') is %.4f'%x)"
   ]
  },
  {
   "cell_type": "markdown",
   "metadata": {},
   "source": [
    "From the simulations, it should be apparent than Newton's method seems to converge faster than the other root finding algorithms, and more or less at the same speed as Heron's method (only applicable to square roots). "
   ]
  },
  {
   "cell_type": "markdown",
   "metadata": {},
   "source": [
    "[Back to top](#EEEN30101-Numerical-Analysis)"
   ]
  },
  {
   "cell_type": "markdown",
   "metadata": {},
   "source": [
    "### Special applications of Newton's method"
   ]
  },
  {
   "cell_type": "markdown",
   "metadata": {},
   "source": [
    "As mentioned above, the convergence speeds of Newton's and Heron's method seem very similar. This is because Heron's method is a special application of Newton's method."
   ]
  },
  {
   "cell_type": "markdown",
   "metadata": {},
   "source": [
    "To illustrate this, let us begin with the quadratic equation that matches the same problem that Heron's method solves (i.e., the square root of a number $S$).\n",
    "$$f(x) = x^2-S$$"
   ]
  },
  {
   "cell_type": "markdown",
   "metadata": {},
   "source": [
    "Let us now get the differential of this equation:\n",
    "\n",
    "$$f'(x) = 2x$$"
   ]
  },
  {
   "cell_type": "markdown",
   "metadata": {},
   "source": [
    "And apply Newton's method:\n",
    "\n",
    "$$\n",
    "\\begin{aligned}\n",
    "  g(x) & = x-\\frac{f(x)}{f'(x)} \\\\\n",
    "   & = x-\\frac{x^2-S}{2x} \\\\ \n",
    "   & = \\frac{2x^2-x^2-S}{2x} \\\\\n",
    "   & = \\frac{x^2-S}{2x} \\\\\n",
    "   & = \\frac{1}{2}(x-S/x)\n",
    "\\end{aligned}\n",
    "$$"
   ]
  },
  {
   "cell_type": "markdown",
   "metadata": {},
   "source": [
    "The result is Heron's formula:\n",
    "$$g(x) = \\frac{1}{2}(x-S/x)$$"
   ]
  },
  {
   "cell_type": "markdown",
   "metadata": {},
   "source": [
    "><mark>Heron's formula is a special case of Newton-Raphson's method.</mark>"
   ]
  },
  {
   "cell_type": "markdown",
   "metadata": {},
   "source": [
    "[Back to top](#EEEN30101-Numerical-Analysis)"
   ]
  },
  {
   "cell_type": "markdown",
   "metadata": {},
   "source": [
    "### Computational efficiency of Newton's method"
   ]
  },
  {
   "cell_type": "markdown",
   "metadata": {},
   "source": [
    "As we did in [Heron's method - Convergence](#Heron's-method---Convergence), let us use Taylor's theorem to produce a polynomial approximation of Newton's method. This approximation, will allow us to explore the computational efficiency of the algorithm).\n",
    "\n",
    "However, we need more accuracy this time, so we will be taking the first three terms of Taylor's expansion:\n",
    "\n",
    "$$f(x + \\delta x) = f(x) + \\delta x f'(x) + \\frac{\\delta x ^2}{2}f''(\\xi)$$\n",
    "\n",
    "As before $\\xi$ should be an interval between $x$ and $\\delta x$."
   ]
  },
  {
   "cell_type": "markdown",
   "metadata": {},
   "source": [
    "We will also define our current estimation of a root $x_k$ as:\n",
    "\n",
    "$$x_k=x$$\n",
    "\n",
    "And the actual value of the root (i.e., the solution) $x^*$ as:\n",
    "\n",
    "$$ x + \\delta x = x^*  \\therefore  \\delta = x^*-x$$"
   ]
  },
  {
   "cell_type": "markdown",
   "metadata": {},
   "source": [
    "As we should remember, the value of a function becomes zero at the root.\n",
    "\n",
    "$$f(x^*) = 0$$"
   ]
  },
  {
   "cell_type": "markdown",
   "metadata": {},
   "source": [
    "We use this information to update our Taylor's expansion:\n",
    "\n",
    "$$\n",
    "\\begin{aligned}\n",
    "  0 & = f(x_k) + (x^*-x_k)f'(x_k) + \\frac{(x^*-x_k)^2}{2}f''(\\xi) \\\\\n",
    "   & =  \\frac{f(x_k)}{f'(x_k)} + \\frac{(x^*-x_k)f'(x_k)}{f'(x_k)} + \\frac{(x^*-x_k)^2}{2f'(x_k)}f''(\\xi)\\\\ \n",
    "   & =  x^*-x_k +\\frac{f(x_k)}{f'(x_k)}+ \\frac{(x^*-x_k)^2}{2}\\frac{f''(\\xi)}{f'(x_k)}\n",
    "\\end{aligned}\n",
    "$$"
   ]
  },
  {
   "cell_type": "markdown",
   "metadata": {},
   "source": [
    "As, based on Newton's method, $-x_{k+1}= -x_k +\\frac{f(x_k)}{f'(x_k)}$, we get:\n",
    "$$0 = x^*-x_{k+1} + \\frac{(x^*-x_k)^2}{2}\\frac{f''(\\xi)}{f'(x_k)}$$"
   ]
  },
  {
   "cell_type": "markdown",
   "metadata": {},
   "source": [
    "We can now rewrite the equation in terms of the error ($e_k = |x^*-x_{k+1}|$):\n",
    "\n",
    "$$|x^*-x_{k+1}| = \\frac{(x^*-x_k)^2}{2}\\frac{|f''(\\xi)|}{|f'(x_k)|}$$\n",
    "\n",
    "$$e_{k+1} = \\frac{e_k^2}{2}\\frac{|f''(\\xi)|}{|f'(x_k)|}$$"
   ]
  },
  {
   "cell_type": "markdown",
   "metadata": {},
   "source": [
    "><mark>What this formula is telling us is that the error in Newton's method, decreases in a quadratic manner (i.e., it is a quadratic function due to $e^2_k$) after each iteration.</mark>"
   ]
  },
  {
   "cell_type": "markdown",
   "metadata": {},
   "source": [
    "[Back to top](#EEEN30101-Numerical-Analysis)"
   ]
  },
  {
   "cell_type": "markdown",
   "metadata": {},
   "source": [
    "## Conclusion"
   ]
  },
  {
   "cell_type": "markdown",
   "metadata": {},
   "source": [
    "At the end of this week's lecture and after going through the notebook, you should be able to address the following questions:<br/>\n",
    "- Heron's method: <br/>\n",
    "      - What are Taylor's expansions used for?<br/>\n",
    "      - What are the conditions that allow Heron's method to converge?<br/>\n",
    "      - What are the conditions that allow Heron's method to converge faster?<br/><br/>\n",
    "- Root finding algorithms and the Bisection algorithm:<br/>\n",
    "      - What are roots?<br/>\n",
    "      - What are root finding algorithms?<br/>\n",
    "      - What is the Bisection algorithm?<br/><br/>\n",
    "- Secant method:<br/>\n",
    "      - What is the Secant method?<br/>\n",
    "      - What are the conditions that improve the performance of the Secant method?<br/><br/>\n",
    "- Newton-Raphson's method: <br/>\n",
    "      - What is Newton's method?<br/>\n",
    "      - How computationally efficient is Newton's method compared with Bisection, Secant and Heron's methods?\n",
    "\n",
    "If you cannot answer these questions, you may want to check again this notebook and the lecture notes."
   ]
  },
  {
   "cell_type": "markdown",
   "metadata": {},
   "source": [
    "[Back to top](#EEEN30101-Numerical-Analysis)"
   ]
  }
 ],
 "metadata": {
  "kernelspec": {
   "display_name": "Python 3 (ipykernel)",
   "language": "python",
   "name": "python3"
  },
  "language_info": {
   "codemirror_mode": {
    "name": "ipython",
    "version": 3
   },
   "file_extension": ".py",
   "mimetype": "text/x-python",
   "name": "python",
   "nbconvert_exporter": "python",
   "pygments_lexer": "ipython3",
   "version": "3.11.4"
  },
  "toc": {
   "base_numbering": 1,
   "nav_menu": {},
   "number_sections": true,
   "sideBar": true,
   "skip_h1_title": true,
   "title_cell": "Table of Contents",
   "title_sidebar": "Contents",
   "toc_cell": false,
   "toc_position": {},
   "toc_section_display": true,
   "toc_window_display": true
  }
 },
 "nbformat": 4,
 "nbformat_minor": 4
}
