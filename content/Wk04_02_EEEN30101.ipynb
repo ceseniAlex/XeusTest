{
 "cells": [
  {
   "cell_type": "markdown",
   "metadata": {},
   "source": [
    "# EEEN30101 Numerical Analysis"
   ]
  },
  {
   "cell_type": "markdown",
   "metadata": {},
   "source": [
    "# Week 04 - Part 02"
   ]
  },
  {
   "cell_type": "markdown",
   "metadata": {},
   "source": [
    "***&copy; 2024 Martínez Ceseña — University of Manchester, UK***"
   ]
  },
  {
   "cell_type": "markdown",
   "metadata": {},
   "source": [
    "This notebook introduces covers the second half of the contents presented in week 04. To be more specific, the notebook addresses:\n",
    "- Analysis of search algorithms using Rosenbrock's banana function\n",
    "- Constrained optimisation\n",
    "- Non-convex optimisation\n",
    "\n",
    "The use of the notebooks is optional and will not be marked. That said, you are strongly encouraged to play with the tools and examples, as you can explore different variations of the examples, which will better prepare you for the exams."
   ]
  },
  {
   "cell_type": "markdown",
   "metadata": {},
   "source": [
    "## List of contents"
   ]
  },
  {
   "cell_type": "markdown",
   "metadata": {},
   "source": [
    "- [Python code](#Python-code)\n",
    "\n",
    "\n",
    "- [Banana function](#Banana-function)\n",
    "  - [Search algorithms](#Search-algorithms)\n",
    "  - [Steepest descend](#Steepest-descend)\n",
    "  - [Newton's search](#Newton's-search)\n",
    "\n",
    "\n",
    "- [Constrained optimisation](#Constrained-optimisation)\n",
    "  - [Optimisation constraints](#Optimisation-constraints)\n",
    "  - [Barrier functions](#Barrier-functions)\n",
    "  - [Interior point algorithm](#Interior-point-algorithm)\n",
    "  - [Convexity](#Convexity)\n",
    "\n",
    "\n",
    "- [Non-convex optimisation](#Non-convex-optimisation)\n",
    "  - [Non-convex functions](#Non-convex-functions)\n",
    "  - [Simulated annealing](#Simulated-annealing)\n",
    "  - [Algorithm](#Algorithm)\n",
    "\n",
    "\n",
    "- [Conclusion](#Conclusion)"
   ]
  },
  {
   "cell_type": "markdown",
   "metadata": {},
   "source": [
    "## Before we begin"
   ]
  },
  {
   "cell_type": "markdown",
   "metadata": {},
   "source": [
    "Before we begin: \n",
    "- Make sure to review the asynchronous materials provided in blackboard for EEEN30101 Week 4 \n",
    "- If you have any questions, please post them in the discussion boards or, if that is not possible, send an email to alex.martinezcesena@manchester.ac.uk"
   ]
  },
  {
   "cell_type": "markdown",
   "metadata": {},
   "source": [
    "This notebook provides some examples in python, for that purpose the following libraries will be loaded:"
   ]
  },
  {
   "cell_type": "code",
   "execution_count": 1,
   "metadata": {},
   "outputs": [],
   "source": [
    "import math  # To use mathematical operation\n",
    "import numpy as np  # To define and use matrices\n",
    "import matplotlib\n",
    "import matplotlib.pyplot as plt  # To plot figures\n",
    "import copy\n",
    "\n",
    "# To create an interface to the code\n",
    "try:\n",
    "    import ipywidgets as widgets\n",
    "except:\n",
    "    import micropip\n",
    "    await micropip.install('ipywidgets')\n",
    "    import ipywidgets as widgets\n",
    "from ipywidgets import interact"
   ]
  },
  {
   "cell_type": "markdown",
   "metadata": {},
   "source": [
    "[Back to top](#EEEN30101-Numerical-Analysis)"
   ]
  },
  {
   "cell_type": "markdown",
   "metadata": {},
   "source": [
    "## Python code"
   ]
  },
  {
   "cell_type": "markdown",
   "metadata": {},
   "source": [
    "This notebook requires some algorithms that were developed in part 01, which have been added below. Please review part 01 if you need more information about these algorithms."
   ]
  },
  {
   "cell_type": "markdown",
   "metadata": {},
   "source": [
    "- Methods to plot 2D figures:"
   ]
  },
  {
   "cell_type": "code",
   "execution_count": 2,
   "metadata": {},
   "outputs": [],
   "source": [
    "def plotFigure(X, Y, Label=[], xlabel='x', ylabel='J(x)', ax=math.nan):\n",
    "    '''Plot a figure'''\n",
    "    if str(ax.__class__) != '<class \\'matplotlib.axes._subplots.AxesSubplot\\'>':\n",
    "        fig, ax = plt.subplots()\n",
    "\n",
    "    for i in range(X.shape[0]):\n",
    "        line, = ax.plot(X[i], Y[i], label=Label[i])\n",
    "\n",
    "    ax.set(xlabel=xlabel, ylabel=ylabel)\n",
    "    ax.grid()\n",
    "    if '_child' not in line.get_label():\n",
    "        plt.legend()\n",
    "    plt.show()\n",
    "\n",
    "def addPoints(ax, X, Y, Label1, Label2, Dx, Dy):\n",
    "    '''Add points to figure'''\n",
    "    mY= min(Y)\n",
    "    for i in range(len(X)):\n",
    "        ax.plot(X[i], Y[i], '*')\n",
    "        ax.text(X[i]-Dx, mY-Dy, Label1[i])\n",
    "        ax.text(X[i]+Dx, Y[i], Label2[i])\n",
    "\n",
    "def plotFullFigures(X, Y, Label1, Label2, xlabel='x',\n",
    "                    ylabel='J(x)', x=[0], y=[0], Label=['']):\n",
    "    '''Plot a figure with both points and lines'''\n",
    "    Dx = (max(X)-min(X))*2/100\n",
    "    Dy = max( (max(Y)-min(Y))*2/10, (np.max(y)-np.min(y))*3/10)\n",
    "    \n",
    "    fig, ax = plt.subplots()\n",
    "\n",
    "    addPoints(ax, X, Y, Label1, Label2, Dx, Dy)\n",
    "\n",
    "    plotFigure(x, y, Label, xlabel, ylabel, ax)"
   ]
  },
  {
   "cell_type": "markdown",
   "metadata": {},
   "source": [
    "- Method to plot scatter 3D figures:"
   ]
  },
  {
   "cell_type": "code",
   "execution_count": 3,
   "metadata": {},
   "outputs": [],
   "source": [
    "def plot3D(ex, T = 20, X=[-5, 5], Y=[-5, 5], prt=False):\n",
    "    '''Plot 3D scatter'''\n",
    "    fig = plt.figure(figsize=(6, 6))\n",
    "    ax = plt.axes(projection='3d')\n",
    "\n",
    "    v1 = np.linspace(X[0], X[1], T)\n",
    "    v2 = np.linspace(Y[0], Y[1], T)\n",
    "    x1 = np.zeros((T**2))\n",
    "    x2 = np.zeros((T**2))\n",
    "    x3 = np.zeros((T**2))\n",
    "    x = np.zeros((2, 1))\n",
    "    k = 0\n",
    "    for i in range(T):    \n",
    "        for j in range(T):\n",
    "            x1[k] = v1[i]\n",
    "            x2[k] = v2[j]\n",
    "            x[0] = x1[k]\n",
    "            x[1] = x2[k]\n",
    "            x3[k] = ex.get_value(x)\n",
    "            k+=1\n",
    "   \n",
    "    ax.scatter(x1, x2, x3)\n",
    "    \n",
    "    x = ex.get_optimal()\n",
    "    ax.scatter(x.item(0), x.item(1), x.item(2), color='black')\n",
    "    Dz = min(x3) - (max(x3)-min(x3))*0.1\n",
    "    ax.text(x.item(0), x.item(1), Dz, \"x*\", color='black')\n",
    "\n",
    "    ax.set(xlabel='(x)', ylabel='(y)', zlabel='(z)')\n",
    "    plt.show()\n",
    "\n",
    "    if prt:\n",
    "        print('x* = [%.4f, %.4f, %.4f]'%(x.item(0), x.item(1), x.item(2)))"
   ]
  },
  {
   "cell_type": "markdown",
   "metadata": {},
   "source": [
    "- Method for contour plots:"
   ]
  },
  {
   "cell_type": "code",
   "execution_count": 4,
   "metadata": {},
   "outputs": [],
   "source": [
    "def plotContour(ex, delta = 1, X=[-5, 5], Y=[-5, 5], prt=False, L=[], P=[]):\n",
    "    '''Contour plot'''\n",
    "    x = np.arange(X[0], X[1], delta)\n",
    "    y = np.arange(Y[0], Y[1], delta)\n",
    "    x, y = np.meshgrid(x, y)\n",
    "\n",
    "    s = x.shape\n",
    "    z = np.zeros((s), dtype = np.float64)\n",
    "    for i in range(s[0]):\n",
    "        for j in range(s[1]):\n",
    "            z[i, j] = ex.get_value(np.transpose(np.matrix([x[i,j],y[i,j]], dtype = np.float64)))\n",
    "\n",
    "    fig, ax = plt.subplots()\n",
    "    CS = ax.contour(x, y, z)\n",
    "    ax.clabel(CS, inline=True, fontsize=10)\n",
    "\n",
    "    if len(L)>0:  # Adding lines (e.g. barrier functions)\n",
    "        ax.plot([L[0,0], L[0,1]], [L[1,0], L[1,0]], color='black')\n",
    "        ax.plot([L[0,0], L[0,1]], [L[1,1], L[1,1]], color='black')\n",
    "        ax.plot([L[0,0], L[0,0]], [L[1,0], L[1,1]], color='black')\n",
    "        ax.plot([L[0,1], L[0,1]], [L[1,0], L[1,1]], color='black')\n",
    "\n",
    "    Dx = (X[1]-X[0])*0.04\n",
    "    if len(P)>0:  # Adding points (e.g., constrained optimal point)\n",
    "        ax.scatter(P.item(0), P.item(1), color='blue')\n",
    "        ax.text(P.item(0)+Dx, P.item(1), \"x*\", color='blue')\n",
    "\n",
    "    x_star = ex.get_optimal()\n",
    "    ax.scatter(x_star.item(0), x_star.item(1), color='black')\n",
    "    ax.text(x_star.item(0)-Dx, x_star.item(1), \"x*\", color='black')\n",
    "    if prt:\n",
    "        print('x* = [%.4f, %.4f, %.4f]'%(x_star.item(0), x_star.item(1), x_star.item(2)))\n",
    "    plt.show()"
   ]
  },
  {
   "cell_type": "markdown",
   "metadata": {},
   "source": [
    "- Method to model polynomial functions:"
   ]
  },
  {
   "cell_type": "code",
   "execution_count": 5,
   "metadata": {},
   "outputs": [],
   "source": [
    "def polynomial(x=[1], K=[1, 1]):\n",
    "    '''Simulate value of polynomial'''\n",
    "    s1 = len(x)\n",
    "    s2 = len(K)\n",
    "    y = np.zeros((s1))\n",
    "    for i in range(s1):\n",
    "        for j in range(s2):\n",
    "            y[i] += K[j]*x[i]**j\n",
    "\n",
    "    return y"
   ]
  },
  {
   "cell_type": "markdown",
   "metadata": {},
   "source": [
    "- Method for the golden search:"
   ]
  },
  {
   "cell_type": "code",
   "execution_count": 6,
   "metadata": {},
   "outputs": [],
   "source": [
    "def goldenSearch(ex, Xu, Xb, prt=False):\n",
    "    '''Golden section search'''\n",
    "    tau = (-1+math.sqrt(5))/2\n",
    "    Wu = Xb - tau*(Xb-Xu)\n",
    "    Wb = Xu + tau*(Xb-Xu)\n",
    "    \n",
    "    Ju = ex.get_value(Wu)\n",
    "    Jb = ex.get_value(Wb)\n",
    "    \n",
    "    if prt:\n",
    "        xu = \"\\u0332\".join(\"x \")\n",
    "        xb = \"\\u0305\".join(\"x \")\n",
    "        wu = \"\\u0332\".join(\"w \")\n",
    "        wb = \"\\u0305\".join(\"w \")\n",
    "        print(\"       \"+xu+\"       \"+wu+\"       \"+wb+\"       \"+xb+\n",
    "              \"  J( \"+wu+\")\"+\"   J( \"+wb+\")\"+\"     \"+wu+\"-\"+xu+\n",
    "              \"    \"+xb+\"-\"+wb+\"    \"+xb+\"-\"+xu+\"   Ratio\")    \n",
    "    Error = 1000\n",
    "    k = 0\n",
    "    while Error > 0.0001:\n",
    "        if prt:\n",
    "            print('%8.4f %8.4f %8.4f %8.4f %8.4f %8.4f %8.4f %8.4f %8.4f %8.4f'\n",
    "                  %(Xu, Wu, Wb, Xb, Ju, Jb, Wu-Xu, Xb-Wb, Xb-Xu, (Wb-Xu)/(Xb-Xu)))\n",
    "        if Ju < Jb:\n",
    "            Xb = Wb\n",
    "            J1 = Jb\n",
    "            Wb = Wu\n",
    "            Jb = Ju\n",
    "            Wu = Xb - tau*(Xb-Xu)\n",
    "            Ju = ex.get_value(Wu)\n",
    "        else:\n",
    "            Xu = Wu\n",
    "            J0 = Ju\n",
    "            Wu = Wb\n",
    "            Ju = Jb\n",
    "            Wb = Xu + tau * (Xb-Xu)\n",
    "            Jb = ex.get_value(Wb)\n",
    "\n",
    "        if len(Xu) == 1:\n",
    "            Error = math.sqrt((Wu[0]-Xb[0])**2)\n",
    "        else:\n",
    "            Error = math.sqrt((Wu[0]-Xb[0])**2+(Wu[1]-Xb[1])**2)\n",
    "        \n",
    "        k += 1\n",
    "        if k>50:\n",
    "            print('Golden section search failed after %d iterations'%k)\n",
    "            Error = 0\n",
    "    x_star = Wb\n",
    "    if k <= 50 and prt:\n",
    "        print('%8.4f %8.4f %8.4f %8.4f'%(Xu, Wu, Wb, Xb))\n",
    "        print('\\nConvereged to %.4f after %d iterations'%(x_star,k))\n",
    "\n",
    "    return x_star"
   ]
  },
  {
   "cell_type": "markdown",
   "metadata": {},
   "source": [
    "- Method to represent the first example:"
   ]
  },
  {
   "cell_type": "code",
   "execution_count": 7,
   "metadata": {},
   "outputs": [],
   "source": [
    "class Example1:\n",
    "    def __init__(self, H, f):\n",
    "        '''Initializing function'''\n",
    "        self.H = H\n",
    "        self.f = f\n",
    "        self.No = len(f)\n",
    "        self.x = np.zeros((self.No+1,1))\n",
    "\n",
    "    def get_value(self, x):\n",
    "        '''Get value of the function'''\n",
    "        J = 0.5 *np.matmul(np.transpose(x),np.matmul(self.H,x)) + \\\n",
    "            np.matmul(np.transpose(self.f),x)\n",
    "        return J\n",
    "\n",
    "    def get_optimal(self):\n",
    "        '''Get optimal value'''\n",
    "        Hi = np.linalg.inv(self.H)\n",
    "        self.x[0:self.No] = - np.matmul(Hi, self.f)\n",
    "        self.x[self.No] = - 0.5 *np.matmul(np.transpose(self.f),np.matmul(Hi,self.f))\n",
    "\n",
    "        return self.x"
   ]
  },
  {
   "cell_type": "markdown",
   "metadata": {},
   "source": [
    "[Back to top](#EEEN30101-Numerical-Analysis)"
   ]
  },
  {
   "cell_type": "markdown",
   "metadata": {},
   "source": [
    "## Banana function"
   ]
  },
  {
   "cell_type": "markdown",
   "metadata": {},
   "source": [
    "In this section, we will explore the applications of a couple of optimisation algorithms using an established multi-dimensional test system, namely Rosenbrock's banana function."
   ]
  },
  {
   "cell_type": "markdown",
   "metadata": {},
   "source": [
    "### Search algorithms"
   ]
  },
  {
   "cell_type": "markdown",
   "metadata": {},
   "source": [
    "Rosenbrock's banana function is an established equation that is typically used to test gradient based optimisation algorithms.\n",
    "\n",
    "The equation is a function of two variables ($x_1$ and $x_2$) as shown below."
   ]
  },
  {
   "cell_type": "markdown",
   "metadata": {},
   "source": [
    "$$ J(x_1,x_2) = (1-x_1)^2 + 100 (x_2-x_1^2)^2 $$\n",
    "\n",
    "One of the advantages of using this equation, is that we can identify the optimum value ($\\underline{x}^*$ just by inspecting the equation. That is\n",
    "- $(1-x_1)^2$ will always be a positive number. The lowest value we can get is when $x_1=1$, i.e., $(1-1)^2 = 0$\n",
    "- $100(x_2-x_1^2)^2$ will also always be positive. The lowest value we can get is when $x_1=x_2=1$, i.e., $100(1-1^2)^2 = 0$\n",
    "\n",
    "$$ \\underline{x}^* = \\left[ \\begin{array}{c} 1 \\\\ 1 \\end{array} \\right]$$"
   ]
  },
  {
   "cell_type": "markdown",
   "metadata": {},
   "source": [
    "Use the following python method to explore the characteristics of the function."
   ]
  },
  {
   "cell_type": "code",
   "execution_count": 8,
   "metadata": {},
   "outputs": [
    {
     "data": {
      "image/png": "[encoded data removed]",
      "text/plain": [
       "<Figure size 600x600 with 1 Axes>"
      ]
     },
     "metadata": {},
     "output_type": "display_data"
    },
    {
     "name": "stdout",
     "output_type": "stream",
     "text": [
      "x* = [1.0000, 1.0000, 0.0000]\n"
     ]
    },
    {
     "data": {
      "image/png": "[encoded data removed]",
      "text/plain": [
       "<Figure size 640x480 with 1 Axes>"
      ]
     },
     "metadata": {},
     "output_type": "display_data"
    }
   ],
   "source": [
    "class Banana:\n",
    "    def __init__(self, K=[1, 100]):\n",
    "        '''Initializing function'''\n",
    "        self.K = K\n",
    "        self.x = np.zeros((3, 1))\n",
    "\n",
    "    def get_value(self, x):\n",
    "        '''Get value of the function'''\n",
    "        J = (self.K[0]-x[0])**2 + self.K[1]*(x[1] - x[0]**2)**2\n",
    "\n",
    "        return J\n",
    "\n",
    "    def get_optimal(self):\n",
    "        '''Get optimal value'''\n",
    "        self.x[0] = self.K[0]\n",
    "        self.x[1] = self.x[0]**0.5\n",
    "        self.x[2] = self.get_value(self.x)\n",
    "\n",
    "        return self.x\n",
    "\n",
    "ex2 = Banana([1, 100])\n",
    "plot3D(ex2, 20, [0.5, 1.5], [0.5, 1.5])\n",
    "plotContour(ex2, 0.05, [0.5, 1.5], [0.5, 1.5], True)"
   ]
  },
  {
   "cell_type": "markdown",
   "metadata": {},
   "source": [
    "Let us now define a search algorithm to find the optimal values of $x_1$ and $x_2$ that minimise the value of the function."
   ]
  },
  {
   "cell_type": "markdown",
   "metadata": {},
   "source": [
    "The algorithm should:\n",
    "\n",
    "- find a direction $\\Delta x_[k]$ where the optimal solution may be\n",
    "\n",
    "\n",
    "- update the current solution (guess) by moving it a given distance ($\\lambda$) in the selected direction\n",
    "\n",
    "$$ x_{k+1} = x_k + \\lambda_k \\Delta x_k$$\n",
    "\n",
    "- Continue the process until a solution is found."
   ]
  },
  {
   "cell_type": "markdown",
   "metadata": {},
   "source": [
    "In summary, the algorithm will look like this:\n",
    "\n",
    "**Search algorithm**\n",
    "\n",
    "`WHILE termination conditions not met`<br/>\n",
    "`    Pick a direction dk`<br/>\n",
    "`    Scale it`<br/>\n",
    "`END WHILE`\n"
   ]
  },
  {
   "cell_type": "markdown",
   "metadata": {},
   "source": [
    "Such an algorithm is presented below. "
   ]
  },
  {
   "cell_type": "code",
   "execution_count": 9,
   "metadata": {},
   "outputs": [],
   "source": [
    "def SearchAlgorithm(ex, SA, x, N=20, prt=False):\n",
    "    '''Search algorithm'''\n",
    "    k = 0\n",
    "    Error = 1000\n",
    "    s = len(x)\n",
    "\n",
    "    while Error > 0.0001:\n",
    "        # Pick a direction  Δ𝑥\n",
    "        df = SA.get_step(ex, x)\n",
    "        x0 = x*1\n",
    "        x1 = x-df\n",
    "\n",
    "        # Scale it with  Λ𝑘  (Golden section search)\n",
    "        x = goldenSearch(ex, x0, x1)\n",
    "        k += 1\n",
    "        if prt:\n",
    "            print('%3.0f,  %10.4f %10.4f'%(k, x[0], x[1]))\n",
    "\n",
    "        if k==N:\n",
    "            Error = 0\n",
    "            print('Failed to converge after %d iterations'%k)\n",
    "            print('The last result was [%.4f, %.4f]'%(x[0], x[1]))\n",
    "        else:\n",
    "            Error = SA.get_error(ex, x)\n",
    "\n",
    "    if k<N:\n",
    "        print('Converged to [%.4f, %.4f]'%(x[0], x[1]))\n",
    "        print(' After %d iterations'%k)\n",
    "\n",
    "    return x, k"
   ]
  },
  {
   "cell_type": "markdown",
   "metadata": {},
   "source": [
    "The search algorithm scales the direction of the search with a golden section search (developed in the previous section).\n",
    "\n",
    "To identify the direction required to update the solution, we will explore two methods in the following subsections:\n",
    "- **Steepest descent**, which is based on the first derivatives of the function, i.e., the gradient of the function (called Jacobian in matrix form), and\n",
    "- **Newton's method**, which extends the search to also consider the second derivatives of the function (Hessian matrix)."
   ]
  },
  {
   "cell_type": "markdown",
   "metadata": {},
   "source": [
    "[Back to top](#EEEN30101-Numerical-Analysis)"
   ]
  },
  {
   "cell_type": "markdown",
   "metadata": {},
   "source": [
    "### Steepest descend"
   ]
  },
  {
   "cell_type": "markdown",
   "metadata": {},
   "source": [
    "The gradient is obtained with first derivatives of the function with respect to each variable at a time ($x_1$ and $x_2$ in our example):\n",
    "\n",
    "$$\n",
    "\\begin{aligned}\n",
    "  \\frac{\\partial J (\\underline{x})}{\\partial x_1} & = \\frac{\\partial}{\\partial x_1} \\left[ (1-x_1)^2 + 100 (x_2-x_1^2)^2 \\right[\\\\\n",
    "   & = 2 (1-x_1)^{2-1} \\frac{\\partial (1-x_1)}{\\partial x_1} + 100(2) (x_2-x_1^2)^{2-1} \\frac{\\partial (x_2-x_1^2)}{\\partial x_1}\\\\\n",
    "   & = 2(1-x_1)(-1) + 200 (x_2-x_1^2)(-2x_1)\\\\\n",
    "   & = 2(x_1-1) + 400 (x_1^2 - x_2)x_1\n",
    "\\end{aligned}\n",
    "$$"
   ]
  },
  {
   "cell_type": "markdown",
   "metadata": {},
   "source": [
    "$$\n",
    "\\begin{aligned}\n",
    "  \\frac{\\partial J (\\underline{x})}{\\partial x_2} & = \\frac{\\partial}{\\partial x_2} \\left[ (1-x_1)^2 + 100 (x_2-x_1^2)^2 \\right[\\\\\n",
    "   & = 0 + 100(2) (x_2-x_1^2)^{2-1} \\frac{\\partial (x_2-x_1^2)}{\\partial x_2}\\\\\n",
    "   & = 200 (x_2-x_1^2)\n",
    "\\end{aligned}\n",
    "$$"
   ]
  },
  {
   "cell_type": "markdown",
   "metadata": {},
   "source": [
    "Accordingly, our gradient looks like this:\n",
    "\n",
    "$$\\bigtriangledown J( \\underline{x}) = \\left[ \\begin{array}{c} \\partial J (\\underline{x})/\\partial x_1 \\\\ \\partial J (\\underline{x})/\\partial x_2 \\end{array} \\right] = \\left[ \\begin{array}{c} 2(x_1-1) + 400 (x_1^2 - x_2)x_1 \\\\ 200 (x_2-x_1^2) \\end{array} \\right]$$"
   ]
  },
  {
   "cell_type": "markdown",
   "metadata": {},
   "source": [
    "Use the python method below to explore these functions."
   ]
  },
  {
   "cell_type": "code",
   "execution_count": 10,
   "metadata": {},
   "outputs": [
    {
     "data": {
      "application/vnd.jupyter.widget-view+json": {
       "model_id": "ebf57cbb43a94c6eaccfdbf9dbdfcc7d",
       "version_major": 2,
       "version_minor": 0
      },
      "text/plain": [
       "interactive(children=(FloatSlider(value=0.0, continuous_update=False, description='x1: ', max=10.0, min=-10.0)…"
      ]
     },
     "metadata": {},
     "output_type": "display_data"
    }
   ],
   "source": [
    "@interact\n",
    "def TestGradient(x1 = widgets.FloatSlider(min=-10, max = 10, value=0, description='x1: ', continuous_update=False),\n",
    "               x2 = widgets.FloatSlider(min=-10, max = 10, value=0, description='x2: ', continuous_update=False)):\n",
    "    \n",
    "    dJx1 = 2*(x1-1) + 400*(x1**2-x2)*x1\n",
    "    dJx2 = 200*(x2-x1**2)\n",
    "    print('Algebraical differentiation:')\n",
    "    print('∂𝐽(𝑥1,x2)/∂𝑥1 = %f'%dJx1)\n",
    "    print('∂𝐽(𝑥1,x2)/∂𝑥2 = %f'%dJx2)"
   ]
  },
  {
   "cell_type": "markdown",
   "metadata": {},
   "source": [
    "The equations developed above are only valid for Rosenbrock's banana function, and new equations would have to be developed for other functions.\n",
    "\n",
    "In order to develop a more general model that can consider other equations, numerical differentiation is used. ***Numerical differentiation will be discussed in detail in a few weeks***.\n",
    "\n",
    "Use the python method below to confirm that numerical differentiation provides reasonable approximations of the gradient."
   ]
  },
  {
   "cell_type": "code",
   "execution_count": 11,
   "metadata": {},
   "outputs": [
    {
     "data": {
      "application/vnd.jupyter.widget-view+json": {
       "model_id": "18ff47b33f504c74bee0a0230f1e8f8c",
       "version_major": 2,
       "version_minor": 0
      },
      "text/plain": [
       "interactive(children=(FloatSlider(value=0.0, continuous_update=False, description='x1: ', max=10.0, min=-10.0)…"
      ]
     },
     "metadata": {},
     "output_type": "display_data"
    }
   ],
   "source": [
    "def numDiff(ex, x, Dv = 0.0001):\n",
    "    '''Numerical differentiation'''\n",
    "    val0 = ex.get_value(x)\n",
    "    \n",
    "    s = len(x)\n",
    "    dff = np.zeros((s,1))\n",
    "    for i in range(s):\n",
    "        dx = copy.deepcopy(x)\n",
    "        dx[i] = x[i]+Dv\n",
    "        dv = ex.get_value(dx)\n",
    "\n",
    "        dff[i] = (dv - val0)/Dv\n",
    "\n",
    "    return dff\n",
    "\n",
    "@interact\n",
    "def TestNumDiff(x1 = widgets.FloatSlider(min=-10, max = 10, value=0, description='x1: ', continuous_update=False),\n",
    "               x2 = widgets.FloatSlider(min=-10, max = 10, value=0, description='x2: ', continuous_update=False),\n",
    "               Threshold=widgets.BoundedFloatText(min=0.0000001, max = 1, value=0.0001, description='Threshold')):\n",
    "    \n",
    "    x = np.transpose(np.matrix([x1,x2], dtype = np.float64))\n",
    "    diff = numDiff(ex2, x, Threshold)\n",
    "    print('Numerical differentiation:')\n",
    "    print('∂𝐽(𝑥1,x2)/∂𝑥1 = %f'%diff[0])\n",
    "    print('∂𝐽(𝑥1,x2)/∂𝑥2 = %f'%diff[1])"
   ]
  },
  {
   "cell_type": "markdown",
   "metadata": {},
   "source": [
    "We can now use the equations to optimise the banana function using steepest descent."
   ]
  },
  {
   "cell_type": "code",
   "execution_count": 12,
   "metadata": {},
   "outputs": [
    {
     "data": {
      "application/vnd.jupyter.widget-view+json": {
       "model_id": "3b713ce64abd47329954bd7cbda2fa40",
       "version_major": 2,
       "version_minor": 0
      },
      "text/plain": [
       "interactive(children=(FloatSlider(value=0.0, continuous_update=False, description='x1: ', max=2.0, min=-2.0), …"
      ]
     },
     "metadata": {},
     "output_type": "display_data"
    }
   ],
   "source": [
    "class Steep():\n",
    "    def get_step(self, ex, x):\n",
    "        '''Get step of steepest descent'''\n",
    "        val = numDiff(ex, x)\n",
    "        aux = math.sqrt(val[0]**2+val[1]**2)\n",
    "        val = [val[0]/aux, val[1]/aux]\n",
    "        \n",
    "        self.dt = np.matrix(val, dtype = np.float64)\n",
    "\n",
    "        return self.dt\n",
    "\n",
    "    def get_error(self, ex, x):\n",
    "        '''Get error of steepest descent'''\n",
    "        Error = 0\n",
    "        for i in range(len(x)):\n",
    "            Error += abs(self.dt[i])\n",
    "        return Error\n",
    "\n",
    "@interact\n",
    "def TestSteep(x1 = widgets.FloatSlider(min=-2, max = 2, value=0, description='x1: ', continuous_update=False),\n",
    "              x2 = widgets.FloatSlider(min=-2, max = 2, value=0, description='x2: ', continuous_update=False),\n",
    "              N = widgets.IntSlider(min=10, max = 300, value=20, description='Max. Iter.: ', continuous_update=False)):\n",
    "    x = np.transpose(np.matrix([x1, x2], dtype = np.float64))\n",
    "    x, k = SearchAlgorithm(ex2, Steep(), x, N, True)"
   ]
  },
  {
   "cell_type": "markdown",
   "metadata": {},
   "source": [
    "Based on the studies above, the steepest search above takes a large number of iterations to converge when finding the solution of the banana function. \n",
    "\n",
    "This can be attribute to the shape of the function, which has a low gradient near the optimal point. We can probably do better if we were to consider the curvature of the function with the second derivative of the function."
   ]
  },
  {
   "cell_type": "markdown",
   "metadata": {},
   "source": [
    "[Back to top](#EEEN30101-Numerical-Analysis)"
   ]
  },
  {
   "cell_type": "markdown",
   "metadata": {},
   "source": [
    "### Newton's search"
   ]
  },
  {
   "cell_type": "markdown",
   "metadata": {},
   "source": [
    "In order to apply Newton's search to find a solution for the banana function, we will have to develop the Hessian matrix. The process is presented below.\n",
    "\n",
    "The second derivative of the function with respect to $x_1$ is:\n",
    "\n",
    "$$\n",
    "\\begin{aligned}\n",
    "  \\frac{\\partial J (\\underline{x})}{\\partial x_1^2} & = \\frac{\\partial}{\\partial x_1} \\left[ 2(x_1-1) + 400 (x_1^2 + x_2)x_1 \\right[\\\\\n",
    "   & = 2 + 400 \\left[ (x_1^2 + x_2) \\frac{\\partial x_1}{\\partial x_1} + x_1 \\frac{\\partial}{\\partial x_1}(x_1^2 + x_2) \\right]\\\\\n",
    "   & = 2 + 400 \\left[ (x_1^2 + x_2)(1) + x_1 (2x_1) \\right]\\\\\n",
    "   & = 2 + 400 \\left[ x_1^2 + x_2 + 2x_1^2 \\right] \\\\\n",
    "   & = 2 + 1200 x_1^2 + 400 x_2\n",
    "\\end{aligned}\n",
    "$$"
   ]
  },
  {
   "cell_type": "markdown",
   "metadata": {},
   "source": [
    "The second derivative of the function with respect to $x_2$ is:\n",
    "\n",
    "$$\n",
    "\\begin{aligned}\n",
    "  \\frac{\\partial J (\\underline{x})}{\\partial x_2^2} & = \\frac{\\partial}{\\partial x_2} \\left[ 200 (x_2-x_1^2) \\right[\\\\\n",
    "   & = 200\n",
    "\\end{aligned}\n",
    "$$"
   ]
  },
  {
   "cell_type": "markdown",
   "metadata": {},
   "source": [
    "The derivative of the function to $x_1$ and $x_2$ is:\n",
    "\n",
    "$$\n",
    "\\begin{aligned}\n",
    "  \\frac{\\partial J (\\underline{x})}{\\partial x_2 \\partial x_1} = \\frac{\\partial J (\\underline{x})}{\\partial x_1 \\partial x_2}& = \\frac{\\partial}{\\partial x_1} \\left[ 200 (x_2-x_1^2) \\right[\\\\\n",
    "   & = -400 x_1\n",
    "\\end{aligned}\n",
    "$$"
   ]
  },
  {
   "cell_type": "markdown",
   "metadata": {},
   "source": [
    "We can now form the Hessian matrix as follows:\n",
    "\n",
    "$$\\underline{\\underline{H}} = \\left[ \\begin{array}{cc} \\partial J (\\underline{x})/\\partial x_1^2 & \\partial J (\\underline{x})/\\partial x_1 x_2\\\\ \\partial J (\\underline{x})/\\partial x_2 x_1& \\partial J (\\underline{x})/\\partial x_2^2\\end{array} \\right] = \\left[ \\begin{array}{cc} 2 + 1200 x_1^2 + 400 x_2 & -400x_1 \\\\ -400x_1 & 200 \\end{array} \\right]$$"
   ]
  },
  {
   "cell_type": "markdown",
   "metadata": {},
   "source": [
    "Use the python method below to analyse the Hessian matrix."
   ]
  },
  {
   "cell_type": "code",
   "execution_count": 13,
   "metadata": {},
   "outputs": [
    {
     "data": {
      "application/vnd.jupyter.widget-view+json": {
       "model_id": "2a0f2a8f59de4c3993d476249316095b",
       "version_major": 2,
       "version_minor": 0
      },
      "text/plain": [
       "interactive(children=(FloatSlider(value=0.0, continuous_update=False, description='x1: ', max=10.0, min=-10.0)…"
      ]
     },
     "metadata": {},
     "output_type": "display_data"
    }
   ],
   "source": [
    "@interact\n",
    "def TestGradient(x1 = widgets.FloatSlider(min=-10, max = 10, value=0, description='x1: ', continuous_update=False),\n",
    "               x2 = widgets.FloatSlider(min=-10, max = 10, value=0, description='x2: ', continuous_update=False)):\n",
    "    \n",
    "    dJx1x1 = 2+1200*x1**2+400*x2\n",
    "    dJx1x2 = -400*x1\n",
    "    dJx2x2 = 200\n",
    "\n",
    "    print('Algebraical differentiation:')\n",
    "    print('∂𝐽(𝑥1,x2)/∂𝑥1x1 = %f'%dJx1x1)\n",
    "    print('∂𝐽(𝑥1,x2)/∂x1𝑥2 = %f'%dJx1x2)\n",
    "    print('∂𝐽(𝑥1,x2)/∂𝑥2x1 = %f'%dJx1x2)\n",
    "    print('∂𝐽(𝑥1,x2)/∂𝑥2x2 = %f'%dJx2x2)"
   ]
  },
  {
   "cell_type": "markdown",
   "metadata": {},
   "source": [
    "As we did before with the gradient, numerical differentiation is used as a more general model that can take a variety of equations.\n",
    "\n",
    "Use the python method below to confirm that numerical differentiation provides reasonable approximations of the Hessian."
   ]
  },
  {
   "cell_type": "code",
   "execution_count": 14,
   "metadata": {},
   "outputs": [
    {
     "data": {
      "application/vnd.jupyter.widget-view+json": {
       "model_id": "75f9b5a2b1d14a04bec0ee442d72a9a0",
       "version_major": 2,
       "version_minor": 0
      },
      "text/plain": [
       "interactive(children=(FloatSlider(value=0.0, continuous_update=False, description='x1: ', max=10.0, min=-10.0)…"
      ]
     },
     "metadata": {},
     "output_type": "display_data"
    }
   ],
   "source": [
    "def numDiff2(ex, x, Dv = 0.0001):\n",
    "    '''Numerical differentiation'''\n",
    "    # ∂𝐽(𝑥)/∂𝑥1, ∂𝐽(𝑥)/∂𝑥2, ..., ∂𝐽(𝑥)/∂𝑥n\n",
    "    dff0 = numDiff(ex, x, Dv)\n",
    "\n",
    "    s = len(x)\n",
    "    dff = np.zeros((s,s))\n",
    "    for i in range(s):\n",
    "        dx = copy.deepcopy(x)\n",
    "        dx[i] = x[i]+Dv\n",
    "        dv = numDiff(ex, dx, Dv)\n",
    "\n",
    "        aux= (dv - dff0)/Dv\n",
    "        for j in range(s):\n",
    "            dff[i, j] = aux[j]\n",
    "\n",
    "    return dff\n",
    "\n",
    "@interact\n",
    "def TestGradient(x1 = widgets.FloatSlider(min=-10, max = 10, value=0, description='x1: ', continuous_update=False),\n",
    "                x2 = widgets.FloatSlider(min=-10, max = 10, value=0, description='x2: ', continuous_update=False),\n",
    "                Threshold=widgets.BoundedFloatText(min=0.0000001, max = 1, value=0.0001, description='Threshold')):\n",
    "    x = np.transpose(np.matrix([x2, x2], dtype = np.float64))\n",
    "    H = numDiff2(ex2, x, Threshold)\n",
    "\n",
    "    print('Numerical differentiation:')\n",
    "    print('∂𝐽(𝑥1,x2)/∂𝑥1x1 = %f'%H[0, 0])\n",
    "    print('∂𝐽(𝑥1,x2)/∂x1𝑥2 = %f'%H[0, 1])\n",
    "    print('∂𝐽(𝑥1,x2)/∂𝑥2x1 = %f'%H[1, 0])\n",
    "    print('∂𝐽(𝑥1,x2)/∂𝑥2x2 = %f'%H[1, 1])"
   ]
  },
  {
   "cell_type": "markdown",
   "metadata": {},
   "source": [
    "We can now use the equations to optimise the banana function using steepest descent."
   ]
  },
  {
   "cell_type": "code",
   "execution_count": 15,
   "metadata": {},
   "outputs": [
    {
     "data": {
      "application/vnd.jupyter.widget-view+json": {
       "model_id": "f0854f071a154a64a8773b1861cfcc57",
       "version_major": 2,
       "version_minor": 0
      },
      "text/plain": [
       "interactive(children=(FloatSlider(value=0.0, continuous_update=False, description='x1: ', max=2.0, min=-2.0), …"
      ]
     },
     "metadata": {},
     "output_type": "display_data"
    }
   ],
   "source": [
    "class NewtonS():\n",
    "    def get_step(self, ex, x):\n",
    "        Dt = 0.0000001\n",
    "        df = np.matrix(numDiff(ex, x, Dt), dtype = np.float64)\n",
    "        H = numDiff2(ex, x, Dt)\n",
    "        df = np.matmul(np.linalg.inv(H), df)\n",
    "\n",
    "        aux = math.sqrt(df[0]**2+df[1]**2)\n",
    "        df = [df.item(0)/aux, df.item(1)/aux]\n",
    "\n",
    "        return np.transpose(np.matrix(df, dtype = np.float64))\n",
    "\n",
    "    def get_error(self, ex, x):\n",
    "        Dt = 0.0000001\n",
    "        aux = numDiff(ex, x, Dt)\n",
    "        Error = 0\n",
    "        for i in range(len(aux)):\n",
    "            Error += aux[i]**2\n",
    "\n",
    "        return math.sqrt(Error)\n",
    "\n",
    "@interact\n",
    "def TestNewtonS(x1 = widgets.FloatSlider(min=-2, max = 2, value=0, description='x1: ', continuous_update=False),\n",
    "              x2 = widgets.FloatSlider(min=-2, max = 2, value=0, description='x2: ', continuous_update=False),\n",
    "              N = widgets.IntSlider(min=10, max = 300, value=20, description='Max. Iter.: ', continuous_update=False)):\n",
    "    x = np.transpose(np.matrix([x1, x2], dtype = np.float64))\n",
    "    x, k = SearchAlgorithm(ex2, NewtonS(), x, N, True)"
   ]
  },
  {
   "cell_type": "markdown",
   "metadata": {},
   "source": [
    "[Back to top](#EEEN30101-Numerical-Analysis)"
   ]
  },
  {
   "cell_type": "markdown",
   "metadata": {},
   "source": [
    "## Constrained optimisation"
   ]
  },
  {
   "cell_type": "markdown",
   "metadata": {},
   "source": [
    "In practice, we cannot always get to the optimal solutions of a problem due to different constraints. \n",
    "\n",
    "For example, we cannot immediately upgrade our power system to accommodate all renewable technologies because our budget is limited. That is, we need to develop the most effective power system subject to our budget constraints.\n",
    "\n",
    "In this section, we will explore how to include constraints in our optimisation problems."
   ]
  },
  {
   "cell_type": "markdown",
   "metadata": {},
   "source": [
    "### Optimisation constraints"
   ]
  },
  {
   "cell_type": "markdown",
   "metadata": {},
   "source": [
    "Let us use an example to illustrate how constraints can be included in an optimisation problem.\n",
    "\n",
    "For this purpose, consider the following quadratic program problem (i.e., the function is quadratic), which we have solved before:"
   ]
  },
  {
   "cell_type": "markdown",
   "metadata": {},
   "source": [
    "$$\\underline{x}^* = arg \\; \\min\\limits_{\\underline{x} \\in \\mathbb{R}^n} J(\\underline{x})$$\n",
    "\n",
    "Where:\n",
    "\n",
    "$$J(\\underline{x}) = \\frac{1}{2}\\underline{x}^T \\underline{\\underline{H}}\\underline{x} + \\underline{f}^T\\underline{x}$$"
   ]
  },
  {
   "cell_type": "markdown",
   "metadata": {},
   "source": [
    "This time we will consider a constraint on the optimal solution, that is, our solution is subject to:\n",
    "\n",
    "$$|x_i| \\leq 1$$"
   ]
  },
  {
   "cell_type": "markdown",
   "metadata": {},
   "source": [
    "This means that our solution must be within an area denoted by $-1 \\leq x_1 \\leq 1$ and $-1 \\leq x_2 \\leq 1$"
   ]
  },
  {
   "cell_type": "markdown",
   "metadata": {},
   "source": [
    "Now, there are two possibilities.\n",
    "\n",
    "1. The unconstrained optimal solution is within the area. In this case we could solve the problem using the same approaches we have used before."
   ]
  },
  {
   "cell_type": "code",
   "execution_count": 16,
   "metadata": {},
   "outputs": [
    {
     "name": "stdout",
     "output_type": "stream",
     "text": [
      "x* = [-0.3333, -0.3333, -0.3333]\n"
     ]
    },
    {
     "data": {
      "image/png": "[encoded data removed]",
      "text/plain": [
       "<Figure size 640x480 with 1 Axes>"
      ]
     },
     "metadata": {},
     "output_type": "display_data"
    }
   ],
   "source": [
    "H = np.matrix('2 1; 1 2')\n",
    "f = np.matrix('1; 1')\n",
    "L =  np.matrix('[-1 1; -1 1]')\n",
    "\n",
    "x = np.transpose(np.matrix([0, 0], dtype = np.float64))\n",
    "plotContour(Example1(H, f), 0.05, [L[0,0]-1, L[0,1]+1], [L[1,0]-1, L[1,1]+1], True, L)"
   ]
  },
  {
   "cell_type": "markdown",
   "metadata": {},
   "source": [
    " "
   ]
  },
  {
   "cell_type": "markdown",
   "metadata": {},
   "source": [
    "2. The unconstrained optimal solution is outside the area, i.e., it violates the constraints, so it is infeasible. \n",
    "        - The solution will be by the boundary of one or more constraints\n",
    "        - We need a new approach to solve this problem."
   ]
  },
  {
   "cell_type": "code",
   "execution_count": 17,
   "metadata": {},
   "outputs": [
    {
     "name": "stdout",
     "output_type": "stream",
     "text": [
      "x* = [-1.6667, -0.6667, -4.3333]\n"
     ]
    },
    {
     "data": {
      "image/png": "[encoded data removed]",
      "text/plain": [
       "<Figure size 640x480 with 1 Axes>"
      ]
     },
     "metadata": {},
     "output_type": "display_data"
    }
   ],
   "source": [
    "H = np.matrix('2 1; 1 2')\n",
    "f = np.matrix('4; 3')\n",
    "L =  np.matrix('[-1 1; -1 1]')\n",
    "\n",
    "x = np.transpose(np.matrix([0, 0], dtype = np.float64))\n",
    "plotContour(Example1(H, f), 0.05, [L[0,0]-1, L[0,1]+1], [L[1,0]-1, L[1,1]+1], True, L, np.matrix([-1, -1, -4]))"
   ]
  },
  {
   "cell_type": "markdown",
   "metadata": {},
   "source": [
    "[Back to top](#EEEN30101-Numerical-Analysis)"
   ]
  },
  {
   "cell_type": "markdown",
   "metadata": {},
   "source": [
    "### Barrier functions"
   ]
  },
  {
   "cell_type": "markdown",
   "metadata": {},
   "source": [
    "There are various algorithms that can be used to solve quadratic programming problems. We will use one of the most established approaches, namely the **interior point algorithm**."
   ]
  },
  {
   "cell_type": "markdown",
   "metadata": {},
   "source": [
    "For this purpose, we need to reformulate our problem by adding barrier functions ($B(\\underline(x))$ to our original problem as follows:"
   ]
  },
  {
   "cell_type": "markdown",
   "metadata": {},
   "source": [
    "$$J(\\underline{x}) = \\frac{1}{2}\\underline{x}^T \\underline{\\underline{H}}\\underline{x} + \\underline{f}^T\\underline{x} + \\mu B(\\underline{x})$$\n",
    "\n",
    "$$ B(\\underline{x}) = - \\sum_{i=1}^N {ln \\left(1-\\frac{x_i^2}{b^2} \\right)} \\quad \\text{Barrier function}$$"
   ]
  },
  {
   "cell_type": "markdown",
   "metadata": {},
   "source": [
    "For convenience, we will code this example in the python class below."
   ]
  },
  {
   "cell_type": "code",
   "execution_count": 18,
   "metadata": {},
   "outputs": [],
   "source": [
    "class ExampleBarrier:\n",
    "    def __init__(self, H, f, mu, L):\n",
    "        '''Initializing function'''\n",
    "        self.H = H\n",
    "        self.f = f\n",
    "        self.mu = mu\n",
    "        self.L = L\n",
    "        self.No = len(f)\n",
    "        self.x = np.zeros((self.No+1,1))\n",
    "\n",
    "    def get_value(self, x):\n",
    "        '''Get value of the function'''\n",
    "        B = 0\n",
    "        if x[0]<=self.L[0,0] or x[0]>=self.L[0,1] or x[1]<=self.L[1,0] or x[1]>=self.L[1,1]:\n",
    "            J = 1e10+x[0]+x[1]\n",
    "        else:\n",
    "            J = 0.5 *np.matmul(np.transpose(x), np.matmul(self.H, x)) + \\\n",
    "                np.matmul(np.transpose(self.f), x)\n",
    "            for i in range(2):\n",
    "                if x[i] < 0:\n",
    "                    B -= self.mu*np.log(1-x[i]**2/L[i,0]**2)\n",
    "                else:\n",
    "                    B -= self.mu*np.log(1-x[i]**2/L[i,1]**2)\n",
    "        return J+B\n",
    "\n",
    "    def get_optimal(self):\n",
    "        '''Get optimal value'''\n",
    "        Hi = np.linalg.inv(self.H)\n",
    "        self.x[0:self.No] = - np.matmul(Hi, self.f)\n",
    "        self.x[self.No] = - 0.5 *np.matmul(np.transpose(self.f),np.matmul(Hi,self.f))\n",
    "\n",
    "        return self.x"
   ]
  },
  {
   "cell_type": "markdown",
   "metadata": {},
   "source": [
    "The barrier functions introduce large values which tend to infinity as a solution approaches the constraints. As a result, the optimisation remains below the barrier with the aim of minimising the function.\n",
    "\n",
    "Use the python method below to analyse the characteristics of the barrier functions."
   ]
  },
  {
   "cell_type": "code",
   "execution_count": 19,
   "metadata": {},
   "outputs": [
    {
     "data": {
      "application/vnd.jupyter.widget-view+json": {
       "model_id": "5e0e568acf0d4c6d98f488d4c151e69e",
       "version_major": 2,
       "version_minor": 0
      },
      "text/plain": [
       "interactive(children=(FloatSlider(value=-2.0, continuous_update=False, description='Barrier1:', max=-1.0, min=…"
      ]
     },
     "metadata": {},
     "output_type": "display_data"
    }
   ],
   "source": [
    "@interact\n",
    "def TestBarrier(L1 = widgets.FloatSlider(min=-5, max = -1, value=-2, description='Barrier1:', continuous_update=False),\n",
    "                L2 = widgets.FloatSlider(min=1, max = 5, value=3, description='Barrier2:', continuous_update=False),\n",
    "                mu = widgets.BoundedFloatText(min=0.0000001, max = 1, value=0.1, description='Threshold')):\n",
    "    ''' Plot barrier functions '''\n",
    "    L = [min(L1, L2), max(L1,L2)]\n",
    "    x = np.linspace(L[0]+0.00001, L[1]-0.00001,100)\n",
    "    X = np.zeros((2,100))\n",
    "    X[0] = x\n",
    "    X[1] = x\n",
    "\n",
    "    Y = np.zeros((2,100))\n",
    "    for i in range(100):\n",
    "        for j in range(2):\n",
    "            if x[i]/L[j] > 0:\n",
    "                Y[j, i] = - mu*math.log(1 - (x[i]/L[j])**2)\n",
    "    plotFigure(X, Y, ['Barrier 1', 'Barrier 2'], 'x', 'J(x)')"
   ]
  },
  {
   "cell_type": "markdown",
   "metadata": {},
   "source": [
    "Based on the outputs of the simulation, we can observe that:\n",
    "\n",
    "- The barrier function prevent the solution to exceed the constraints\n",
    "\n",
    "$$ \\text{as} \\quad B(\\underline{x}) \\longrightarrow \\infty \\quad as \\quad \\underline{x} \\; \\text{approaches the constraints}$$\n",
    "\n",
    "- The $\\mu$ parameter has to be gradually reduced to allow the solution to approach the constraints:\n",
    "\n",
    "$$ \\text{as} \\quad \\mu \\longrightarrow 0 \\quad \\quad B(\\underline{x}) \\longrightarrow 0 \\quad \\text{ everywhere between the constraints}$$"
   ]
  },
  {
   "cell_type": "markdown",
   "metadata": {},
   "source": [
    "[Back to top](#EEEN30101-Numerical-Analysis)"
   ]
  },
  {
   "cell_type": "markdown",
   "metadata": {},
   "source": [
    "### Interior point algorithm"
   ]
  },
  {
   "cell_type": "markdown",
   "metadata": {},
   "source": [
    "Based on the characteristics of the barrier function, we can deduce that the optimal solution of our modified problem, $\\underline{x}^*(\\mu)$, will approximate the solution of the original problem, $\\underline{x}^*$, subject to the constraints as $\\mu$ tends to zero. That is:\n",
    "\n",
    "$$x^*(\\mu) \\longrightarrow x^* \\quad \\text{ as: } \\quad \\mu \\longrightarrow 0$$"
   ]
  },
  {
   "cell_type": "markdown",
   "metadata": {},
   "source": [
    "We can now use the above observations to create a simple interior point algorithm:\n",
    "\n",
    "**Interior point algorithm**\n",
    "\n",
    "`WHILE mu > Threshold:`<br/>\n",
    "`    Solve problem (e.g., using Newton searches)`<br/>\n",
    "`    Reduce 𝜇`<br/>\n",
    "`END-WHILE`"
   ]
  },
  {
   "cell_type": "markdown",
   "metadata": {},
   "source": [
    "For convenience, the algorithm is coded as the following python method."
   ]
  },
  {
   "cell_type": "code",
   "execution_count": 20,
   "metadata": {},
   "outputs": [],
   "source": [
    "def intPoint(ex, SA, x, prt=False):\n",
    "    '''Interior point search'''\n",
    "    mult = [0, 0]\n",
    "    while ex.mu > 0.001:\n",
    "        ex.mu *= 0.5\n",
    "        for i in range(10):\n",
    "            df = -SA.get_step(ex, x)\n",
    "            for i in range(2):\n",
    "                if df[i] < 0:\n",
    "                    mult[i] = (L[i, 0]-x[i])/df[i]\n",
    "                else:\n",
    "                    mult[i] = (L[i, 1]-x[i])/df[i]\n",
    "            x1 = x + df*min(mult)\n",
    "            \n",
    "            x = goldenSearch(ex, x1, x)\n",
    "    aux = [x.item(0), x.item(1), ex.get_value(x)]\n",
    "    x = np.transpose(np.matrix(aux, dtype = np.float64))\n",
    "    if prt:\n",
    "        print('x* = [%.4f, %.4f, %.4f]'%(x[0], x[1], x[2]))\n",
    "    return x"
   ]
  },
  {
   "cell_type": "markdown",
   "metadata": {},
   "source": [
    "We can now analyse how the constrained solutions are obtained:\n",
    "\n",
    "- when the optimal solution falls within the constraints:"
   ]
  },
  {
   "cell_type": "code",
   "execution_count": 21,
   "metadata": {},
   "outputs": [
    {
     "ename": "ValueError",
     "evalue": "setting an array element with a sequence. The requested array has an inhomogeneous shape after 1 dimensions. The detected shape was (3,) + inhomogeneous part.",
     "output_type": "error",
     "traceback": [
      "\u001b[1;31m---------------------------------------------------------------------------\u001b[0m",
      "\u001b[1;31mValueError\u001b[0m                                Traceback (most recent call last)",
      "Cell \u001b[1;32mIn[21], line 7\u001b[0m\n\u001b[0;32m      4\u001b[0m ex3 \u001b[38;5;241m=\u001b[39m ExampleBarrier(H, f, \u001b[38;5;241m1000\u001b[39m, L)\n\u001b[0;32m      6\u001b[0m x \u001b[38;5;241m=\u001b[39m np\u001b[38;5;241m.\u001b[39mtranspose(np\u001b[38;5;241m.\u001b[39mmatrix([\u001b[38;5;241m0\u001b[39m, \u001b[38;5;241m0\u001b[39m], dtype \u001b[38;5;241m=\u001b[39m np\u001b[38;5;241m.\u001b[39mfloat64))\n\u001b[1;32m----> 7\u001b[0m intPoint(ex3, NewtonS(), x)\n\u001b[0;32m      8\u001b[0m \u001b[38;5;28mprint\u001b[39m(\u001b[38;5;124m'\u001b[39m\u001b[38;5;124mThe constrained and unconstrained solutions are the same:\u001b[39m\u001b[38;5;124m'\u001b[39m)\n\u001b[0;32m      9\u001b[0m plotContour(Example1(H, f), \u001b[38;5;241m0.05\u001b[39m, [\u001b[38;5;241m-\u001b[39m\u001b[38;5;241m2\u001b[39m, \u001b[38;5;241m2\u001b[39m], [\u001b[38;5;241m-\u001b[39m\u001b[38;5;241m2\u001b[39m, \u001b[38;5;241m2\u001b[39m], \u001b[38;5;28;01mTrue\u001b[39;00m, L)\n",
      "Cell \u001b[1;32mIn[20], line 17\u001b[0m, in \u001b[0;36mintPoint\u001b[1;34m(ex, SA, x, prt)\u001b[0m\n\u001b[0;32m     15\u001b[0m         x \u001b[38;5;241m=\u001b[39m goldenSearch(ex, x1, x)\n\u001b[0;32m     16\u001b[0m aux \u001b[38;5;241m=\u001b[39m [x\u001b[38;5;241m.\u001b[39mitem(\u001b[38;5;241m0\u001b[39m), x\u001b[38;5;241m.\u001b[39mitem(\u001b[38;5;241m1\u001b[39m), ex\u001b[38;5;241m.\u001b[39mget_value(x)]\n\u001b[1;32m---> 17\u001b[0m x \u001b[38;5;241m=\u001b[39m np\u001b[38;5;241m.\u001b[39mtranspose(np\u001b[38;5;241m.\u001b[39mmatrix(aux, dtype \u001b[38;5;241m=\u001b[39m np\u001b[38;5;241m.\u001b[39mfloat64))\n\u001b[0;32m     18\u001b[0m \u001b[38;5;28;01mif\u001b[39;00m prt:\n\u001b[0;32m     19\u001b[0m     \u001b[38;5;28mprint\u001b[39m(\u001b[38;5;124m'\u001b[39m\u001b[38;5;124mx* = [\u001b[39m\u001b[38;5;132;01m%.4f\u001b[39;00m\u001b[38;5;124m, \u001b[39m\u001b[38;5;132;01m%.4f\u001b[39;00m\u001b[38;5;124m, \u001b[39m\u001b[38;5;132;01m%.4f\u001b[39;00m\u001b[38;5;124m]\u001b[39m\u001b[38;5;124m'\u001b[39m\u001b[38;5;241m%\u001b[39m(x[\u001b[38;5;241m0\u001b[39m], x[\u001b[38;5;241m1\u001b[39m], x[\u001b[38;5;241m2\u001b[39m]))\n",
      "File \u001b[1;32m~\\AppData\\Local\\anaconda3\\Lib\\site-packages\\numpy\\matrixlib\\defmatrix.py:145\u001b[0m, in \u001b[0;36mmatrix.__new__\u001b[1;34m(subtype, data, dtype, copy)\u001b[0m\n\u001b[0;32m    142\u001b[0m     data \u001b[38;5;241m=\u001b[39m _convert_from_string(data)\n\u001b[0;32m    144\u001b[0m \u001b[38;5;66;03m# now convert data to an array\u001b[39;00m\n\u001b[1;32m--> 145\u001b[0m arr \u001b[38;5;241m=\u001b[39m N\u001b[38;5;241m.\u001b[39marray(data, dtype\u001b[38;5;241m=\u001b[39mdtype, copy\u001b[38;5;241m=\u001b[39mcopy)\n\u001b[0;32m    146\u001b[0m ndim \u001b[38;5;241m=\u001b[39m arr\u001b[38;5;241m.\u001b[39mndim\n\u001b[0;32m    147\u001b[0m shape \u001b[38;5;241m=\u001b[39m arr\u001b[38;5;241m.\u001b[39mshape\n",
      "\u001b[1;31mValueError\u001b[0m: setting an array element with a sequence. The requested array has an inhomogeneous shape after 1 dimensions. The detected shape was (3,) + inhomogeneous part."
     ]
    }
   ],
   "source": [
    "H = np.matrix('2 1; 1 2')\n",
    "f = np.matrix('1; 1')\n",
    "L =  np.matrix('[-1 1; -1 1]')\n",
    "ex3 = ExampleBarrier(H, f, 1000, L)\n",
    "\n",
    "x = np.transpose(np.matrix([0, 0], dtype = np.float64))\n",
    "intPoint(ex3, NewtonS(), x)\n",
    "print('The constrained and unconstrained solutions are the same:')\n",
    "plotContour(Example1(H, f), 0.05, [-2, 2], [-2, 2], True, L)"
   ]
  },
  {
   "cell_type": "markdown",
   "metadata": {},
   "source": [
    "[Back to top](#EEEN30101-Numerical-Analysis)"
   ]
  },
  {
   "cell_type": "markdown",
   "metadata": {},
   "source": [
    "- when the optimal solution falls outside the constraints:"
   ]
  },
  {
   "cell_type": "code",
   "execution_count": null,
   "metadata": {},
   "outputs": [],
   "source": [
    "H = np.matrix('2 1; 1 2')\n",
    "f = np.matrix('4; 3')\n",
    "L =  np.matrix('[-1 1; -1 1]')\n",
    "ex4 = ExampleBarrier(H, f, 1000, L)\n",
    "\n",
    "x = np.transpose(np.matrix([0, 0], dtype = np.float64))\n",
    "print('Constrained solution:')\n",
    "x_star = intPoint(ex4, NewtonS(), x, True)\n",
    "print('Unconstrained solution:')\n",
    "plotContour(Example1(H, f), 0.05, [-2, 2], [-2, 2], True, L, x_star)"
   ]
  },
  {
   "cell_type": "markdown",
   "metadata": {},
   "source": [
    "And we can also analyse how the solution is affected if the binding constraints are modified."
   ]
  },
  {
   "cell_type": "code",
   "execution_count": null,
   "metadata": {},
   "outputs": [],
   "source": [
    "xLimit = -1.5"
   ]
  },
  {
   "cell_type": "code",
   "execution_count": null,
   "metadata": {},
   "outputs": [],
   "source": [
    "H = np.matrix('2 1; 1 2')\n",
    "f = np.matrix('4; 3')\n",
    "L =  np.matrix([[xLimit, 1],[-1, 1]])\n",
    "ex5 = ExampleBarrier(H, f, 1000, L)\n",
    "\n",
    "x = np.transpose(np.matrix([0, 0], dtype = np.float64))\n",
    "print('Constrained solution:')\n",
    "x_star = intPoint(ex5, NewtonS(), x, True)\n",
    "print('Unconstrained solution:')\n",
    "plotContour(Example1(H, f), 0.05, [-2, 2], [-2, 2], True, L, x_star)"
   ]
  },
  {
   "cell_type": "markdown",
   "metadata": {},
   "source": [
    "[Back to top](#EEEN30101-Numerical-Analysis)"
   ]
  },
  {
   "cell_type": "markdown",
   "metadata": {},
   "source": [
    "### Convexity"
   ]
  },
  {
   "cell_type": "markdown",
   "metadata": {},
   "source": [
    "It is important to note that the constrained problems we have been solving so far are convex, that is, the function have a curved surface similar to the interior of a circle as presented in the figure below."
   ]
  },
  {
   "cell_type": "code",
   "execution_count": null,
   "metadata": {},
   "outputs": [],
   "source": [
    "x = np.zeros((1,100))\n",
    "y = np.ones((1,100))\n",
    "x[0] = np.linspace(-8,8.5,100)\n",
    "y[0] = polynomial(x[0], [500, -24, 48])\n",
    "\n",
    "X = np.zeros((4,1))\n",
    "Y = np.zeros((4,1))\n",
    "X[:,0] = [-7.5, 2.5, 8, 2.5]\n",
    "Y[:,0] = [3380, 740, 3380, 3380]\n",
    "Label1 = ['a', 'c', 'b', ' ']\n",
    "Label2 = [\"J(a)\", \"J(c)\", \"J(b)\", \"(1-λ)J(a)+λJ(b)\"]\n",
    "\n",
    "plotFullFigures(X, Y, Label1, Label2, 'x', 'J(x)', x, y, ['Convex function'])"
   ]
  },
  {
   "cell_type": "markdown",
   "metadata": {},
   "source": [
    "Convexity can also me expressed mathematically. For that purpose consider the points presented in the figure above, namely $a$ and $b$\n",
    "\n",
    "\n",
    "- We will also consider a point $c$ which is located between points $a$ and $b$:\n",
    "\n",
    "\n",
    "$$c = (1 - \\lambda) a + \\lambda b \\quad 0 \\leq \\lambda \\leq 1$$\n",
    "\n",
    "\n",
    "- If we were to project a line between $J(a)$ and $J(b)$, the value of the line above $c$ would be:\n",
    "\n",
    "$$ (1 - \\lambda) J(a) + \\lambda J(b)$$\n",
    "\n",
    "Now, for $J$ to be convex, we need the value of the function at any point $c$ to be below the $(1 - \\lambda) J(a) + \\lambda J(b)$ line for any combination of pairs $(a,b)$:\n",
    "\n",
    "$$J(c) \\leq (1 - \\lambda) J(a) + \\lambda J(b) \\quad \\text{for all pairs }(a,b)$$"
   ]
  },
  {
   "cell_type": "markdown",
   "metadata": {},
   "source": [
    "Let us now add a constraint to our problem, to create a constraint region. We will also pick two points $(a,b)$ and draw a line between those points."
   ]
  },
  {
   "cell_type": "code",
   "execution_count": null,
   "metadata": {},
   "outputs": [],
   "source": [
    "x = np.zeros((3,100))\n",
    "y = np.ones((3,100))\n",
    "x[0] = np.linspace(-8,8.5,100)\n",
    "x[1] = x[0]\n",
    "x[2] = np.linspace(-3, 5,100)\n",
    "y[0] = polynomial(x[0], [500, -24, 48])\n",
    "y[1] = polynomial(x[1], [3700])\n",
    "y[2] = polynomial(x[2], [2062.5, 187.5])\n",
    "\n",
    "X = np.zeros((2,1))\n",
    "Y = np.zeros((2,1))\n",
    "X[:,0] = [-3, 5]\n",
    "Y[:,0] = [1500, 3000]\n",
    "Label1 = ['', '']\n",
    "Label2 = [\"a\", \"b\"]\n",
    "\n",
    "plotFullFigures(X, Y, Label1, Label2, 'x', 'J(x)', x, y, ['Convex function', 'Constraint', 'Line a-b'])"
   ]
  },
  {
   "cell_type": "markdown",
   "metadata": {},
   "source": [
    "This constraint region is still convex as, as long as the points $a$ and $b$ are inside the constrained region, all parts of the lines formed by any pairs $(a,b)$ will also be inside the constrained region."
   ]
  },
  {
   "cell_type": "markdown",
   "metadata": {},
   "source": [
    "[Back to top](#EEEN30101-Numerical-Analysis)"
   ]
  },
  {
   "cell_type": "markdown",
   "metadata": {},
   "source": [
    "## Non-convex optimisation"
   ]
  },
  {
   "cell_type": "markdown",
   "metadata": {},
   "source": [
    "In this section we will explore non-convex optimisation problems, and introduce a new family of optimisation approaches.\n",
    "\n",
    "So far, we have been solving optimisation problems through the manipulation of mathematical equations (e.g., objective functions and constraints) to guarantee finding **globally or locally optimal solutions**. Such family of optimisation approaches are generally called **mathematical programming** approaches.\n",
    "\n",
    "The examples solved so far have been convex, which made mathematical programming relatively *easy* to implement. However, we would need to develop more advanced mathematical programming approaches to solve non-convex optimisation problems.\n",
    "\n",
    "Instead, we will explore **metaheuristic** approaches, which are based on the application of heuristics, known to be successful for different process (e.g., evolution, process of heating materials, etc.), to find **good solutions** to our problems."
   ]
  },
  {
   "cell_type": "markdown",
   "metadata": {},
   "source": [
    "### Non-convex functions"
   ]
  },
  {
   "cell_type": "markdown",
   "metadata": {},
   "source": [
    "As we discussed in a previous subsection, an optimisation problem will only be convex if you can draw lines between any pairs of points $(a, b)$ within the constraint region (or on top of the objective function) and all part of the lines remain inside the region."
   ]
  },
  {
   "cell_type": "markdown",
   "metadata": {},
   "source": [
    "Accordingly, as illustrated below, a problem will be non-convex if any part of any line is outside of the region or below the objective function. "
   ]
  },
  {
   "cell_type": "code",
   "execution_count": null,
   "metadata": {},
   "outputs": [],
   "source": [
    "x = np.zeros((2,100))\n",
    "y = np.ones((2,100))\n",
    "x[0] = np.linspace(0,6,100)\n",
    "y[0] = polynomial(x[0], [40, -30, 30, -10, 1])\n",
    "x[1] = np.linspace(1,5,100)\n",
    "y[1] = polynomial(x[1], [45, -5])\n",
    "\n",
    "X = np.zeros((2,1))\n",
    "Y = np.zeros((2,1))\n",
    "X[:,0] = [1, 5]\n",
    "Y[:,0] = [40, 20]\n",
    "Label1 = ['', '']\n",
    "Label2 = [\"a\", \"b\"]\n",
    "\n",
    "plotFullFigures(X, Y, Label1, Label2, 'x', 'J(x)', x, y, ['Non-convex function', 'Line a-b'])"
   ]
  },
  {
   "cell_type": "markdown",
   "metadata": {},
   "source": [
    "You should remember that these types of problems are difficult to solve because:\n",
    "\n",
    "><mark>Often, it is easy to find a local minimum</mark>\n",
    "\n",
    "><mark>It is hard to guarantee we have found $x^*$</mark>"
   ]
  },
  {
   "cell_type": "markdown",
   "metadata": {},
   "source": [
    "For example, consider the figure below, if our current guess of the solution ($x_k$) is in the vicinity of a local optimum, the gradient based searches we have used so far (e.g., steepest descent, and Newton's method) will lead us to the local optimum."
   ]
  },
  {
   "cell_type": "code",
   "execution_count": null,
   "metadata": {},
   "outputs": [],
   "source": [
    "K2 = [40, -30, 30, -10, 1]\n",
    "x = np.zeros((1,100))\n",
    "x[0] = np.linspace(0,6,100)\n",
    "y[0] = polynomial(x[0], K2)\n",
    "\n",
    "X = np.zeros((3,1))\n",
    "Y = np.zeros((3,1))\n",
    "X[:,0] = [0.7587, 4.5855, 2]\n",
    "Y[:,0] = [30.47184352, 11.18167278, 36]\n",
    "Label1 = ['', '', '']\n",
    "Label2 = [\"x* local\", \"x* global\", 'xk']\n",
    "\n",
    "plotFullFigures(X, Y, Label1, Label2, 'x', 'J(x)', x, y, ['Non-convex function', 'Line a-b'])"
   ]
  },
  {
   "cell_type": "markdown",
   "metadata": {},
   "source": [
    "><mark>We need an approach to escape local optima in non-convex optimisation problems</mark>"
   ]
  },
  {
   "cell_type": "markdown",
   "metadata": {},
   "source": [
    "[Back to top](#EEEN30101-Numerical-Analysis)"
   ]
  },
  {
   "cell_type": "markdown",
   "metadata": {},
   "source": [
    "### Simulated annealing"
   ]
  },
  {
   "cell_type": "markdown",
   "metadata": {},
   "source": [
    "To solve our non-convex problem in a relatively **easy** way, let us explore the metaheuristic family of optimisation approaches.\n",
    "\n",
    "Metaheuristics generally use known heuristics to find good solutions to a problem, for example:\n",
    "- Evolutionary algorithms use heuristics from evolution (e.g., reproduction, mutation, etc.).\n",
    "- Particle swarm optimisation use heuristics from swarms (e.g., behaviour of birds or fish).\n",
    "- Ant colony algorithms are based on heuristics used by ants to find food (e.g., use of pheromones)."
   ]
  },
  {
   "cell_type": "markdown",
   "metadata": {},
   "source": [
    "In this particular section, we will use the simulated annealing algorithm, which is based on the process of heating and cooling down of materials. That is, the material is highly malleable and can take different shapes while it is hot, but it becomes more rigid and sets on a specific shape when as it cools down."
   ]
  },
  {
   "cell_type": "markdown",
   "metadata": {},
   "source": [
    "Let us illustrate the use of simulated annealing by applying it to find the optimal solution for the polynomial function presented in the figure above. We already know the optimal solution of that problem, $x^* = 4.5855$.\n",
    "\n",
    "- Assume the material is our current solution ($x_k$), and we want to shape it into a globally optimal solution ($x^*$). To get an initial solution, we will randomly guess a value."
   ]
  },
  {
   "cell_type": "code",
   "execution_count": null,
   "metadata": {},
   "outputs": [],
   "source": [
    "x = 6*np.random.rand(1)[0]\n",
    "J = polynomial([x], K2)\n",
    "print('Our initial guess is %.4f'%x)\n",
    "print('It has a cost of %.4f'%J)"
   ]
  },
  {
   "cell_type": "markdown",
   "metadata": {},
   "source": [
    "- We will heat up our material to a high temperature ($T$), which will allow it to randomly change its shape ($\\Delta x$)."
   ]
  },
  {
   "cell_type": "code",
   "execution_count": null,
   "metadata": {},
   "outputs": [],
   "source": [
    "T = 100"
   ]
  },
  {
   "cell_type": "markdown",
   "metadata": {},
   "source": [
    "\n",
    "- We will mould the changes by constraining them to be within a given set ($\\Delta x \\; \\in \\; \\mathbb{M}$)."
   ]
  },
  {
   "cell_type": "code",
   "execution_count": null,
   "metadata": {},
   "outputs": [],
   "source": [
    "M = 3\n",
    "Δ𝑥 = M*(np.random.rand(1)[0]-0.5)\n",
    "xnew = x+Δ𝑥\n",
    "Jnew = polynomial([xnew], K2)\n",
    "print('The new proposed solution is %.4f'%xnew)\n",
    "print('It has a cost of %.4f'%Jnew)"
   ]
  },
  {
   "cell_type": "markdown",
   "metadata": {},
   "source": [
    "[Back to top](#EEEN30101-Numerical-Analysis)"
   ]
  },
  {
   "cell_type": "markdown",
   "metadata": {},
   "source": [
    "- If the random change would improve the shape of the material (i.e., offer a lower cost $J(x)$), we assume the material changed successfully."
   ]
  },
  {
   "cell_type": "code",
   "execution_count": null,
   "metadata": {},
   "outputs": [],
   "source": [
    "if Jnew < J:\n",
    "    print('The new solution is better so the material is assumed to change')\n",
    "    J = Jnew\n",
    "    x = xnew\n",
    "else:\n",
    "    print('The new solution is not better so we are still unsure if the material changed')"
   ]
  },
  {
   "cell_type": "markdown",
   "metadata": {},
   "source": [
    "- If the random change would not improve the shape of the material, it may still change. This is taken as a random process where the change is more likely to occur if the temperature of the material is high."
   ]
  },
  {
   "cell_type": "code",
   "execution_count": null,
   "metadata": {},
   "outputs": [],
   "source": [
    "prb = math.exp(-(Jnew-J)/T)\n",
    "if Jnew < J:\n",
    "    print('Even if the new solution was not better,')\n",
    "elif np.random.rand(1)[0] < math.exp(-(Jnew-J)/T):\n",
    "    print('The material is still assumed to change because')\n",
    "    J = Jnew\n",
    "    x = xnew\n",
    "print('at the current temperature of %.2f'%T)\n",
    "print('the probability that the material will change is %.4f%%'%(prb*100))"
   ]
  },
  {
   "cell_type": "markdown",
   "metadata": {},
   "source": [
    "- The procedure is repeated but, as the material slowly cools down, it is less likely to change, and it eventually stops changing."
   ]
  },
  {
   "cell_type": "code",
   "execution_count": null,
   "metadata": {},
   "outputs": [],
   "source": [
    "def SiAn(x, J, T, M, ΔT, K2):\n",
    "    k = 0\n",
    "    while T>0.0001:\n",
    "        k += 1\n",
    "        T *= ΔT\n",
    "\n",
    "        Δ𝑥 = M*(np.random.rand(1)[0]-0.5)\n",
    "        xnew = x+Δ𝑥\n",
    "        Jnew = polynomial([xnew], K2)\n",
    "\n",
    "        if Jnew < J:\n",
    "            J = Jnew\n",
    "            x = xnew\n",
    "        elif np.random.rand(1)[0] < math.exp(-(Jnew-J)/T):\n",
    "            J = Jnew\n",
    "            x = xnew\n",
    "    return x, k\n",
    "\n",
    "x, k = SiAn(x, J, T, M, 0.999, K2)\n",
    "print('The solution converged to %.4f in %d iterations'%(x,k))"
   ]
  },
  {
   "cell_type": "markdown",
   "metadata": {},
   "source": [
    "As shown above, metaheuristics such as simulated annealing tend to:\n",
    "- offer **good** solutions, \n",
    "- but they may require calibration (e.g., $\\mathbb{M}$ and initial $T$), and \n",
    "- it can be challenging to guarantee global optimality. "
   ]
  },
  {
   "cell_type": "markdown",
   "metadata": {},
   "source": [
    "Use the python method below to further explore the characteristics of the simulated annealing algorithm, especially the role of calibration."
   ]
  },
  {
   "cell_type": "code",
   "execution_count": null,
   "metadata": {
    "scrolled": true
   },
   "outputs": [],
   "source": [
    "@interact\n",
    "def TestSA1(M = widgets.FloatSlider(min=0, max = 3, value=1, description='M:', continuous_update=False),\n",
    "            T = widgets.FloatSlider(min=0, max = 5, value=1, description='T:', continuous_update=False),\n",
    "            ΔT = widgets.BoundedFloatText(min=0.1, max = 0.99999, value=0.99, description='ΔT')):\n",
    "    ''' Test 1 for simulated annealing '''\n",
    "    print('Performing 10 sets of simulations')\n",
    "    for i in range(10):\n",
    "        x = 6*np.random.rand(1)[0]\n",
    "        J = polynomial([x], K2)\n",
    "        x, k = SiAn(x, J, T, M, ΔT, K2)\n",
    "        print('Solution %2.0f converged to %.4f in %d iterations'%(i+1, x, k))\n",
    "    print('\\nRemember that the global optimum is 4.5855')\n",
    "    "
   ]
  },
  {
   "cell_type": "markdown",
   "metadata": {},
   "source": [
    "><mark>Metaheuristic algorithms need calibration to consistently produce good results at relatively low computational costs.</mark>"
   ]
  },
  {
   "cell_type": "markdown",
   "metadata": {},
   "source": [
    "[Back to top](#EEEN30101-Numerical-Analysis)"
   ]
  },
  {
   "cell_type": "markdown",
   "metadata": {},
   "source": [
    "### Algorithm"
   ]
  },
  {
   "cell_type": "markdown",
   "metadata": {},
   "source": [
    "As presented above, the simulated annealing algorithm requires some customisation (especially in $x$ and $\\mathbb{M}$) to be applied to specific problems."
   ]
  },
  {
   "cell_type": "markdown",
   "metadata": {},
   "source": [
    "Regardless, there are some general algorithms that we can use such as the Metropolis algorithm presented below.\n",
    "\n",
    "**Metropolis algorithm**\n",
    "\n",
    "` Given an initial x, a move class 𝕄 and a \"temperature\" T,`<br/>\n",
    "\n",
    "`WHILE stopping criterion not met`<br/>\n",
    "`    Choose a Δx from M at random`<br/>\n",
    "`    ΔJ = J(x + Δx) - J(x)`<br/>\n",
    "`    IF ΔJ < 0`<br/>\n",
    "`        x := x + Δx`<br/>\n",
    "`    ELSE generate a uniform random number R on [0; 1]`<br/>\n",
    "`        IF R < exp(-ΔJ/T )`<br/>\n",
    "`            x := x + Δx`<br/>\n",
    "`        END IF`<br/>\n",
    "`    END IF`<br/>\n",
    "`END WHILE`"
   ]
  },
  {
   "cell_type": "markdown",
   "metadata": {},
   "source": [
    "Let us develop this algorithm to solve **Problem 4**, which is a typical travelling salesman problem.\n",
    "\n",
    "The travelling salesman problem involves finding a path that offers the shortest distance to visit different locations. In practice, there are many applications of this problem, such as to find short distance paths to deliver goods, expand a power system, restore electricity supply to our customers, etc."
   ]
  },
  {
   "cell_type": "markdown",
   "metadata": {},
   "source": [
    "In this particular example, our objective is to visit six local football clubs, namely Accrington Stanley, Blackburn Rovers, Bolton Wanderers, Burnley, Everton, and Preston North End (see figure below)."
   ]
  },
  {
   "cell_type": "code",
   "execution_count": null,
   "metadata": {},
   "outputs": [],
   "source": [
    "def showClubs(club, x_star=[]):\n",
    "    '''Show football clubs'''\n",
    "    XY = [[42, 16],[33.1, 19],[25, 5.51],[46.2, 20],[0, 0],[22.9, 27]]\n",
    "    \n",
    "    if len(x_star) == 0:\n",
    "        x = np.zeros((1,100))\n",
    "        y = np.zeros((1,100))\n",
    "        Legends = ['']\n",
    "    else:\n",
    "        Legends = ['Path01','Path02','Path03','Path04','Path05']\n",
    "        x = np.zeros((5,100))\n",
    "        y = np.zeros((5,100))\n",
    "        for i in range(5):\n",
    "            x[i] = np.linspace(XY[x_star[i]][0],XY[x_star[i+1]][0],100)\n",
    "            for j in range(100):\n",
    "                y[i][j] = XY[x_star[i]][1] + \\\n",
    "                    (XY[x_star[i+1]][1]-XY[x_star[i]][1]) /\\\n",
    "                    (XY[x_star[i+1]][0]-XY[x_star[i]][0])* \\\n",
    "                    (x[i][j]-XY[x_star[i]][0])\n",
    "    \n",
    "    X = np.zeros((6,1))\n",
    "    Y = np.zeros((6,1))\n",
    "    X[:,0] = [XY[0][0], XY[1][0], XY[2][0], XY[3][0], XY[4][0], XY[5][0]]\n",
    "    Y[:,0] = [XY[0][1], XY[1][1], XY[2][1], XY[3][1], XY[4][1], XY[5][1]]\n",
    "    Label2 = club\n",
    "    Label1 = [\" \", \" \", \" \", \" \", \" \", \" \"]\n",
    "\n",
    "    plotFullFigures(X, Y, Label1, Label2, 'x', 'J(x)', x, y, Legends)\n",
    "club = ['Accrington Stanley', 'Blackburn Rovers', 'Bolton Wanderers', 'Burnley', 'Everton', 'Preston North End']\n",
    "showClubs(club)"
   ]
  },
  {
   "cell_type": "markdown",
   "metadata": {},
   "source": [
    "[Back to top](#EEEN30101-Numerical-Analysis)"
   ]
  },
  {
   "cell_type": "markdown",
   "metadata": {},
   "source": [
    "- The first step is to define how an answer ($x$) should look like. \n",
    "\n",
    "$\\quad$ For this purpose, we first assign numbers to each location:\n",
    "\n",
    "    0. Accrington Stanley \n",
    "    1. Blackburn Rovers\n",
    "    2. Bolton Wanderers\n",
    "    3. Burnley \n",
    "    4. Everton \n",
    "    5. Preston North End\n",
    "\n",
    "$\\quad$ And define our answer as a sequence of numbers. \n",
    "\n",
    "$\\quad$ For example, the path Everton - Accrington - Preston - Burnley - Blackburn - Bolton becomes:\n",
    "\n",
    "$$x = [4, 0, 5, 3, 1, 2] $$"
   ]
  },
  {
   "cell_type": "code",
   "execution_count": null,
   "metadata": {},
   "outputs": [],
   "source": [
    "x = [4, 0, 5, 3, 1, 2]\n",
    "showClubs(club, x)"
   ]
  },
  {
   "cell_type": "markdown",
   "metadata": {},
   "source": [
    "***It is important to note that this problem is non-convex because the problem is not continuous. That is, even though our solution can take integer numbers such as 1 and 2, we cannot use any values between these numbers (e.g., 1.1, 1.5, 1.75, etc.).***"
   ]
  },
  {
   "cell_type": "markdown",
   "metadata": {},
   "source": [
    "- Next, we need to define an objective function.\n",
    "\n",
    "$\\quad$ Our objective function is to minimise the distance of our solution, that is:\n",
    "\n",
    "$$J(x) = \\sum_i^6{distance_{x_i,x_{i+1}}}$$"
   ]
  },
  {
   "cell_type": "markdown",
   "metadata": {},
   "source": [
    "$\\quad$ Where $distance$ is a matrix representing distances between sites corresponding to its rows and columns:\n",
    "\n",
    "\n",
    "|                    | Accrington Stanley | Blackburn Rovers | Bolton Wanderers | Burnley | Everton | Preston North End |\n",
    "|--------------------|--------------------|------------------|------------------|---------|---------|-------------------|\n",
    "| Accrington Stanley |  0                 |       8.9        |       25.8       |   8.8   |   44.6  |     15.7          |\n",
    "| Blackburn Rovers   |  8.9               |       0          |       15.7       |   14.6  |   38.2  |     13.8          |\n",
    "| Bolton Wanderers   |  25.8              |       15.7       |       0          |   31.4  |   25.6  |     17.9          |\n",
    "| Burnley            |  8.8               |       14.6       |       31.4       |   0     |   50.3  |     21.3          |\n",
    "| Everton            |  44.6              |       38.2       |       25.6       |   50.6  |   0     |     35.4          |\n",
    "| Preston North End  |  15.7              |       13.8       |       17.9       |   21.3  |   35.4  |     0             |"
   ]
  },
  {
   "cell_type": "code",
   "execution_count": null,
   "metadata": {},
   "outputs": [],
   "source": [
    "M =[[0, 8.9, 25.8, 8.8, 44.6, 15.7],\n",
    "    [8.9, 0, 15.7, 14.6, 38.2, 13.8],\n",
    "    [25.8, 15.7, 0, 31.4, 25.6, 17.9],\n",
    "    [8.8, 14.6, 31.4, 0, 50.3, 21.3],\n",
    "    [44.6, 38.2, 25.6, 50.3, 0, 35.4],\n",
    "    [15.7, 13.8, 17.9, 21.3, 35.4, 0]]"
   ]
  },
  {
   "cell_type": "markdown",
   "metadata": {},
   "source": [
    "- Finally, we need a process to update our current solution, i.e., $\\Delta x \\; \\in \\; \\mathbb{M}$.\n",
    "\n",
    "$\\quad$ As our solution will always contain the same numbers, it can be updated by changing their order.\n",
    "\n",
    "$\\quad$ Accordingly, we introduce a process to reverse the order of some elements of $x$. This is illustrated with the python code below."
   ]
  },
  {
   "cell_type": "markdown",
   "metadata": {},
   "source": [
    "[Back to top](#EEEN30101-Numerical-Analysis)"
   ]
  },
  {
   "cell_type": "code",
   "execution_count": null,
   "metadata": {},
   "outputs": [],
   "source": [
    "def prntX(x):\n",
    "    print('Position:', end='')\n",
    "    for i in range(6):\n",
    "        print('%3.0f'%i, end='')\n",
    "    print('\\nValue   :', end='')\n",
    "    for i in range(6):\n",
    "        print('%3.0f'%x[i], end='')\n",
    "    print()\n",
    "\n",
    "@interact\n",
    "def TestSA1(a = widgets.IntSlider(min=0, max = 4, value=2, description='a:', continuous_update=False),\n",
    "            b = widgets.IntSlider(min=1, max = 5, value=4, description='b:', continuous_update=False)):\n",
    "    ''' Test 1 for simulated annealing '''\n",
    "    if a > b:\n",
    "        aux = a\n",
    "        a = b\n",
    "        b = aux\n",
    "    print('Change the order of the solution between positions a and b\\n')\n",
    "    x = [0, 1, 2, 3, 4, 5]\n",
    "    print('Original solution')\n",
    "    prntX(x)\n",
    "    \n",
    "    ind = copy.deepcopy(x) \n",
    "    ind[int(a):int(b+1)] = np.flip(x[int(a):int(b+1)])\n",
    "    x = ind\n",
    "    print('\\nUpdated solution')\n",
    "    prntX(x)"
   ]
  },
  {
   "cell_type": "markdown",
   "metadata": {},
   "source": [
    "We can now deploy our algorithm and solve the problem:"
   ]
  },
  {
   "cell_type": "code",
   "execution_count": null,
   "metadata": {},
   "outputs": [],
   "source": [
    "def simAnn(M, club, prt=False):\n",
    "    '''Simulated annealing'''\n",
    "    def getOF(M, x):\n",
    "        '''Calculate objective function'''\n",
    "        J = 0\n",
    "        for i in range(len(x)-1):\n",
    "            J += M[x[i]][x[i+1]]\n",
    "        return J\n",
    "\n",
    "    s = len(club)\n",
    "    x = [i for i in range(s)]\n",
    "    J = getOF(M, x)\n",
    "    \n",
    "    JJ = []\n",
    "    JJ.append(J)\n",
    "    T = 100\n",
    "    k = 1\n",
    "    while T>0.0001:\n",
    "        mov = np.random.randint(0, s, (2, 1), dtype=int)\n",
    "        if mov[0] != mov[1]:\n",
    "            if mov[0] > mov[1]:\n",
    "                mov = np.flip(mov)\n",
    "            ind = copy.deepcopy(x) \n",
    "            ind[int(mov[0]):int(mov[1]+1)] = np.flip(x[int(mov[0]):int(mov[1]+1)])\n",
    "            xnew = ind\n",
    "            Jnew = getOF(M, xnew)\n",
    "            if Jnew < J:\n",
    "                x = xnew\n",
    "                J = Jnew\n",
    "                JJ.append(J)\n",
    "                k += 1\n",
    "            else:\n",
    "                R = np.random.rand(1)[0]\n",
    "                if R < math.exp(-(Jnew-J)/T):\n",
    "                    x = xnew\n",
    "                    J = Jnew\n",
    "                    JJ.append(J)\n",
    "                    k += 1\n",
    "            T *= 0.999\n",
    "    if prt:\n",
    "        print('The optimal route is:')\n",
    "        for i in range(s):\n",
    "            print('\\t',club[x[i]])\n",
    "        print('With a total distance of %f'%J)\n",
    "    return x\n",
    "x = simAnn(M, club, True)\n",
    "showClubs(club, x)"
   ]
  },
  {
   "cell_type": "markdown",
   "metadata": {},
   "source": [
    "[Back to top](#EEEN30101-Numerical-Analysis)"
   ]
  },
  {
   "cell_type": "markdown",
   "metadata": {},
   "source": [
    "## Conclusion"
   ]
  },
  {
   "cell_type": "markdown",
   "metadata": {},
   "source": [
    "At the end of this week's lecture and after going through this (part 02) and the previous (part 01) notebooks, you should be able to address the following questions:<br/>\n",
    "- Analysis of search algorithms using Rosenbrock's banana function<br/>\n",
    "      - What is the banana function typically used for and why?<br/>\n",
    "      - What are the differences between steepest descent and Newton’s searches?<br/><br/>\n",
    "- Constrained optimisation<br/>\n",
    "      - Why would we need to add constraints to an optimisation problem?<br/>\n",
    "      - What is a barrier function?<br/>\n",
    "      - How do you apply the interior point algorithm?<br/><br/>\n",
    "- Non-convex optimisation<br/>\n",
    "      - What are the characteristics of convex and non-convex optimisation problems?<br/>\n",
    "      - Why are non-convex problems more difficult to solve than convex problems?<br/>\n",
    "      - How do you apply the simulated annealing algorithm?\n",
    "\n",
    "If you cannot answer these questions, you may want to check again the notebook and the lecture notes. "
   ]
  },
  {
   "cell_type": "markdown",
   "metadata": {},
   "source": [
    "[Back to top](#EEEN30101-Numerical-Analysis)"
   ]
  }
 ],
 "metadata": {
  "kernelspec": {
   "display_name": "Python 3 (ipykernel)",
   "language": "python",
   "name": "python3"
  },
  "language_info": {
   "codemirror_mode": {
    "name": "ipython",
    "version": 3
   },
   "file_extension": ".py",
   "mimetype": "text/x-python",
   "name": "python",
   "nbconvert_exporter": "python",
   "pygments_lexer": "ipython3",
   "version": "3.11.4"
  },
  "toc": {
   "base_numbering": 1,
   "nav_menu": {},
   "number_sections": true,
   "sideBar": true,
   "skip_h1_title": true,
   "title_cell": "Table of Contents",
   "title_sidebar": "Contents",
   "toc_cell": false,
   "toc_position": {
    "height": "calc(100% - 180px)",
    "left": "10px",
    "top": "150px",
    "width": "426.667px"
   },
   "toc_section_display": true,
   "toc_window_display": true
  }
 },
 "nbformat": 4,
 "nbformat_minor": 4
}
