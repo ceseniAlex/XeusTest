{
 "cells": [
  {
   "cell_type": "markdown",
   "metadata": {},
   "source": [
    "# EEEN30101 Numerical Analysis"
   ]
  },
  {
   "cell_type": "markdown",
   "metadata": {},
   "source": [
    "# Week 12"
   ]
  },
  {
   "cell_type": "markdown",
   "metadata": {},
   "source": [
    "***&copy; 2024 Martínez Ceseña — University of Manchester, UK***"
   ]
  },
  {
   "cell_type": "markdown",
   "metadata": {},
   "source": [
    "This notebook introduces the following topics associated with digital simulation:\n",
    "- Euler's method\n",
    "- Higher order methods\n",
    "\n",
    "The use of the notebooks is optional and will not be marked. That said, you are strongly encouraged to play with the tools and examples, as you can explore different variations of the examples, which will better prepare you for the exams."
   ]
  },
  {
   "cell_type": "markdown",
   "metadata": {},
   "source": [
    "## List of contents"
   ]
  },
  {
   "cell_type": "markdown",
   "metadata": {},
   "source": [
    "- [Euler's method](#Euler's-method)\n",
    "  - [Introduction to digital simulation](#Introduction-to-digital-simulation)\n",
    "  - [Application of Euler's method](#Application-of-Euler's-method)\n",
    "  - [Examples of Euler's method](#Examples-of-Euler's-method)\n",
    "  - [Error analysis of Euler's method](#Error-analysis-of-Euler's-method)\n",
    "- [Higher order methods for digital simulation](#Higher-order-methods-for-digital-simulation)\n",
    "- [Conclusion](#Conclusion)"
   ]
  },
  {
   "cell_type": "markdown",
   "metadata": {},
   "source": [
    "## Before we begin"
   ]
  },
  {
   "cell_type": "markdown",
   "metadata": {},
   "source": [
    "Before we begin: \n",
    "- Make sure to review the asynchronous materials provided in blackboard for EEEN30101 Week 12 \n",
    "- If you have any questions, please post them in the discussion boards or, if that is not possible, send an email to alex.martinezcesena@manchester.ac.uk"
   ]
  },
  {
   "cell_type": "markdown",
   "metadata": {},
   "source": [
    "This notebook provides some examples in python, for that purpose the following libraries will be loaded:"
   ]
  },
  {
   "cell_type": "code",
   "execution_count": 1,
   "metadata": {},
   "outputs": [],
   "source": [
    "import math  # To use mathematical operation\n",
    "import numpy as np  # To define and use matrices\n",
    "import matplotlib.pyplot as plt  # To plot figures\n",
    "\n",
    "try:\n",
    "    import ipywidgets as widgets\n",
    "except:\n",
    "    import micropip\n",
    "    await micropip.install('ipywidgets')\n",
    "    import ipywidgets as widgets\n",
    "from ipywidgets import interact"
   ]
  },
  {
   "cell_type": "markdown",
   "metadata": {},
   "source": [
    "[Back to top](#EEEN30101-Numerical-Analysis)"
   ]
  },
  {
   "cell_type": "markdown",
   "metadata": {},
   "source": [
    "## Python code"
   ]
  },
  {
   "cell_type": "markdown",
   "metadata": {},
   "source": [
    "This notebook requires some algorithms that were developed in previous notebooks, which have been added below. Please review the relevant notebooks for information about these algorithms."
   ]
  },
  {
   "cell_type": "markdown",
   "metadata": {},
   "source": [
    "- Methods to model polynomials from the notebooks developed for week 04 ([EEEN30101_Week04](./EEEN30101_Week04.ipynb)):"
   ]
  },
  {
   "cell_type": "code",
   "execution_count": 2,
   "metadata": {},
   "outputs": [],
   "source": [
    "def polynomial(x=[1], K=[1, 1]):\n",
    "    '''Simulate value of polynomial'''\n",
    "    s1 = len(x)\n",
    "    s2 = len(K)\n",
    "    y = np.zeros((s1))\n",
    "    for i in range(s1):\n",
    "        for j in range(s2):\n",
    "            y[i] += K[j]*x[i]**j\n",
    "\n",
    "    return y"
   ]
  },
  {
   "cell_type": "markdown",
   "metadata": {},
   "source": [
    "- Methods to plot figures and legends from the notebooks developed for ([EEEN30101_Week04](./EEEN30101_Week04.ipynb)):"
   ]
  },
  {
   "cell_type": "code",
   "execution_count": 3,
   "metadata": {},
   "outputs": [],
   "source": [
    "def plotFigure(X, Y, Label=[], xlabel='x', ylabel='J(x)', ax=math.nan):\n",
    "    '''Plot a figure'''\n",
    "    if ax.__class__ == math.nan.__class__:\n",
    "        fig, ax = plt.subplots()\n",
    "\n",
    "    for i in range(X.shape[0]):\n",
    "        line, = ax.plot(X[i], Y[i], label=Label[i])\n",
    "\n",
    "    ax.set(xlabel=xlabel, ylabel=ylabel)\n",
    "    ax.grid()\n",
    "    if '_child' not in line.get_label():\n",
    "        plt.legend()\n",
    "    plt.show()\n",
    "\n",
    "def addPoints(ax, X, Y, Label1, Label2, Dx, Dy):\n",
    "    '''Add points to figure'''\n",
    "    mY= min(Y)\n",
    "    for i in range(len(X)):\n",
    "        ax.plot(X[i], Y[i], '*')\n",
    "        ax.text(X[i]-Dx, mY-Dy, Label1[i])\n",
    "        ax.text(X[i]+Dx, Y[i], Label2[i])\n",
    "\n",
    "def plotFullFigures(X, Y, Label1, Label2, xlabel='x',\n",
    "                    ylabel='J(x)', x=[0], y=[0], Label=['']):\n",
    "    '''Plot a figure with both points and lines'''\n",
    "    Dx = (max(X)-min(X))*2/100\n",
    "    Dy = max( (max(Y)-min(Y))*2/10, (np.max(y)-np.min(y))*3/10)\n",
    "    \n",
    "    fig, ax = plt.subplots()\n",
    "\n",
    "    addPoints(ax, X, Y, Label1, Label2, Dx, Dy)\n",
    "\n",
    "    plotFigure(x, y, Label, xlabel, ylabel, ax)"
   ]
  },
  {
   "cell_type": "markdown",
   "metadata": {},
   "source": [
    "[Back to top](#EEEN30101-Numerical-Analysis)"
   ]
  },
  {
   "cell_type": "markdown",
   "metadata": {},
   "source": [
    "## Euler's method"
   ]
  },
  {
   "cell_type": "markdown",
   "metadata": {},
   "source": [
    "### Introduction to digital simulation"
   ]
  },
  {
   "cell_type": "markdown",
   "metadata": {},
   "source": [
    "As an introduction to digital simulation, let us consider the following example:\n",
    "\n",
    "$$ \\frac{\\partial y}{\\partial t} + ay = bu$$"
   ]
  },
  {
   "cell_type": "markdown",
   "metadata": {},
   "source": [
    "If we sketch the realisation of this equation, we get:"
   ]
  },
  {
   "cell_type": "markdown",
   "metadata": {},
   "source": [
    "<img src=\"Figures/Week12_Digital.png\" alt=\"Fig01\" class=\"bg-primary\" width=\"450px\">"
   ]
  },
  {
   "cell_type": "markdown",
   "metadata": {},
   "source": [
    "Note that we included and additional variable $z$:\n",
    "\n",
    "$$ z = \\frac{\\partial x}{\\partial t}$$"
   ]
  },
  {
   "cell_type": "markdown",
   "metadata": {},
   "source": [
    "To use digital simulation, we will replace the integrator ($\\int$) with a discrete time approximation."
   ]
  },
  {
   "cell_type": "markdown",
   "metadata": {},
   "source": [
    "For that purpose, consider a time interval, $h$, of a short duration.\n",
    "\n",
    "$$ t_{k+1} = t_k + h$$"
   ]
  },
  {
   "cell_type": "markdown",
   "metadata": {},
   "source": [
    "Accordingly, the integral of $z$ until time $t_{k+1}$ can be calculated with two integrals, one until time $t_k$ and a second one from time $t_k$ until $t_k+1$.\n",
    "\n",
    "$$\n",
    "\\begin{aligned}\n",
    "  \\int^{t_k+1} z(t) dt& =  \\int^{t_k} z(t) dt + \\int^{t_k+1}_{t_k} z(t) dt\\\\\n",
    "   & = x_k + \\int ^{t_k+1}_{t_k} z(t)dt \n",
    "\\end{aligned}\n",
    "$$"
   ]
  },
  {
   "cell_type": "markdown",
   "metadata": {},
   "source": [
    "Let us now approximate the integral numerically using a rectangular rule. That is, the integral can be calculated as the area of a rectangle of height $z_k$ and width $h$.\n",
    "\n",
    "$$\n",
    "\\begin{aligned}\n",
    "  \\int^{t_k+1} z(t) dt& =  x_k + \\int ^{t_k+1}_{t_k} z(t)dt \\\\\n",
    "   & \\approx x_k + hz_k\n",
    "\\end{aligned}\n",
    "$$"
   ]
  },
  {
   "cell_type": "markdown",
   "metadata": {},
   "source": [
    "What we just did was to produce an estimation, $\\hat{x}_{k+1}$, of the value of $x_{k+1}$, using the gradient of the function $z = \\partial x / \\partial t$ and the value of the interval $h$."
   ]
  },
  {
   "cell_type": "code",
   "execution_count": 4,
   "metadata": {},
   "outputs": [
    {
     "data": {
      "image/png": "[encoded data removed]",
      "text/plain": [
       "<Figure size 640x480 with 1 Axes>"
      ]
     },
     "metadata": {},
     "output_type": "display_data"
    }
   ],
   "source": [
    "K1 = [0, 0, 3]\n",
    "t = 4\n",
    "x = np.zeros((2,100))\n",
    "y = np.ones((2,100))\n",
    "x[0] = np.linspace(0,10,100)\n",
    "y[0] = polynomial(x[0], K1)\n",
    "x[1] = np.linspace(t,8,100)\n",
    "B = (polynomial([t+0.0001], K1)-polynomial([t], K1))/0.0001\n",
    "A = polynomial([t], K1) -t*B\n",
    "y[1] = A+B*x[1]\n",
    "\n",
    "X = np.zeros((1,2))\n",
    "Y = np.zeros((1,2))\n",
    "X[0] = [t, 8]\n",
    "Y[0] = [polynomial(X[0], K1)[0], A[0]+B[0]*X[0,1]]\n",
    "\n",
    "Label1 = ['$t_k$', '$t_{k+1}$']\n",
    "Label2 = ['$x_k$', '$\\hat{x}_{k+1}$']\n",
    "plotFullFigures(np.transpose(X), np.transpose(Y), Label1, Label2, 't',\n",
    "                'x=f(t)', x, y,  ['f(x)', 'Approximation'])"
   ]
  },
  {
   "cell_type": "markdown",
   "metadata": {},
   "source": [
    "This is known as Euler's method."
   ]
  },
  {
   "cell_type": "markdown",
   "metadata": {},
   "source": [
    "[Back to top](#EEEN30101-Numerical-Analysis)"
   ]
  },
  {
   "cell_type": "markdown",
   "metadata": {},
   "source": [
    "### Application of Euler's method"
   ]
  },
  {
   "cell_type": "markdown",
   "metadata": {},
   "source": [
    "Euler's method is an approach used to solve ODEs considering:\n",
    "\n",
    "- Initial conditions, e.g., value of the function at a given point.\n",
    "- The tangent of the function subject to the initial conditions, e.g., the gradient of the function at the selected point."
   ]
  },
  {
   "cell_type": "markdown",
   "metadata": {},
   "source": [
    "More generally, consider the following state space differential equation where the time derivative of $x$, $z(t)$ is a function of $x$, $u$, and $t$.\n",
    "\n",
    "$$ z(t) = f(x, u, t)$$"
   ]
  },
  {
   "cell_type": "markdown",
   "metadata": {},
   "source": [
    "Using our previous example (see block diagram), we can define $z(t)$ as:\n",
    "\n",
    "$$ z(t) = u(t) - ax(t) $$\n",
    "\n",
    "That is:\n",
    "\n",
    "$$f(x, u, t) = u - ax$$\n",
    "\n",
    "This is the gradient of our function $x$ evaluated at time $t_k$."
   ]
  },
  {
   "cell_type": "markdown",
   "metadata": {},
   "source": [
    "Let us explore the use of $f(x,u,t)$ by analysing how $x$ evolves as a function of time $t$. For this purpose, we will use the same example as before."
   ]
  },
  {
   "cell_type": "code",
   "execution_count": 5,
   "metadata": {},
   "outputs": [
    {
     "data": {
      "image/png": "[encoded data removed]",
      "text/plain": [
       "<Figure size 640x480 with 1 Axes>"
      ]
     },
     "metadata": {},
     "output_type": "display_data"
    }
   ],
   "source": [
    "t = 4\n",
    "x = np.zeros((2,100))\n",
    "y = np.ones((2,100))\n",
    "x[0] = np.linspace(0,10,100)\n",
    "y[0] = polynomial(x[0], K1)\n",
    "x[1] = np.linspace(t,8,100)\n",
    "B = (polynomial([t+0.0001], K1)-polynomial([t], K1))/0.0001\n",
    "A = polynomial([t], K1) -t*B\n",
    "y[1] = A+B*x[1]\n",
    "\n",
    "X = np.zeros((1,3))\n",
    "Y = np.zeros((1,3))\n",
    "X[0] = [t, 8, 8]\n",
    "Y[0] = [polynomial(X[0], K1)[0], polynomial([8], K1)[0], A[0]+B[0]*X[0,1]]\n",
    "\n",
    "Label1 = ['$t_k$', '', '$t_{k+1}$']\n",
    "Label2 = ['$x_k$', '$x_{k+1}$', '$\\hat{x}_{k+1}$']\n",
    "plotFullFigures(np.transpose(X), np.transpose(Y), Label1, Label2, 't',\n",
    "                'x=f(t)', x, y,  ['f(x)', 'Euler'])"
   ]
  },
  {
   "cell_type": "markdown",
   "metadata": {},
   "source": [
    "Based on the results of the example, our predicted value $\\hat{x}_{k+1}$ can be calculated as:\n",
    "\n",
    "$$ \\hat{x} =  x_k + h (gradient) $$\n",
    "\n",
    "Which is the same as:\n",
    "\n",
    "$$ \\hat{x} =  x_k + (h)f(x_k, u_k, t_k)$$"
   ]
  },
  {
   "cell_type": "markdown",
   "metadata": {},
   "source": [
    "[Back to top](#EEEN30101-Numerical-Analysis)"
   ]
  },
  {
   "cell_type": "markdown",
   "metadata": {},
   "source": [
    "### Examples of Euler's method"
   ]
  },
  {
   "cell_type": "markdown",
   "metadata": {},
   "source": [
    "Let us now explore the use of Euler's method with some examples:"
   ]
  },
  {
   "cell_type": "markdown",
   "metadata": {},
   "source": [
    "Consider the following differential equation:\n",
    "\n",
    "$$\\frac{\\partial x}{\\partial t} = e^{-t}$$\n",
    "\n",
    "And the following conditions:\n",
    "- Case A: $t=0$ and $h=1$\n",
    "- Case B: $t=1$ and $h=1$\n",
    "- Case C: $t=1$ and $h=2$"
   ]
  },
  {
   "cell_type": "markdown",
   "metadata": {},
   "source": [
    "For convenience, we will code this example as a python class."
   ]
  },
  {
   "cell_type": "code",
   "execution_count": 6,
   "metadata": {},
   "outputs": [],
   "source": [
    "class ExampleE:\n",
    "    def __init__(self, K=[1, 1]):\n",
    "        '''Initializing function'''\n",
    "        self.K = K\n",
    "\n",
    "    def get_value(self, x):\n",
    "        '''Get value of the function'''\n",
    "        return self.K[0]*math.exp(self.K[1]*x)\n",
    "\n",
    "    def get_diff(self, x):\n",
    "        '''Get differential'''\n",
    "        return self.K[1]*self.get_value(x)\n",
    "    \n",
    "    def get_prnt(self, xt='x'):\n",
    "        return '%.4f*'%(self.K[0])+'e(%.4f*'%(self.K[1])+xt+')'\n",
    "\n",
    "    def get_prnt2(self, xt='x'):\n",
    "        return '%.4f*'%(self.K[0]*self.K[1])+'e(%.4f*'%(self.K[1])+xt+')'"
   ]
  },
  {
   "cell_type": "markdown",
   "metadata": {},
   "source": [
    "We know that, according to Euler's, method, we can approximate the value of the function $\\hat{x}_{k+1}$ using the following formula.\n",
    "\n",
    "$$\n",
    "\\begin{aligned}\n",
    "  \\hat{x} & =  x_k + h (gradient)\\\\\n",
    "   & = x_k + h e^{-t_k}\n",
    "\\end{aligned}\n",
    "$$"
   ]
  },
  {
   "cell_type": "markdown",
   "metadata": {},
   "source": [
    "Also for convenience, we will code Euler's method as a python method."
   ]
  },
  {
   "cell_type": "code",
   "execution_count": 7,
   "metadata": {},
   "outputs": [],
   "source": [
    "def euler(Ex, t, h):\n",
    "    '''f(t+h) = f(t) + h*df(t)/dt'''\n",
    "    return Ex.get_value(t) + h*Ex.get_diff(t)"
   ]
  },
  {
   "cell_type": "markdown",
   "metadata": {},
   "source": [
    "Before we begin, it is useful to obtain $x$ as:\n",
    "\n",
    "$$\n",
    "\\begin{aligned}\n",
    "  x & = \\int e^{-t}\\\\\n",
    "   & = -e^{-t}\n",
    "\\end{aligned}\n",
    "$$\n",
    "\n",
    "This equation will allow us to plot the function and calculate the relative error of our calculations."
   ]
  },
  {
   "cell_type": "code",
   "execution_count": 8,
   "metadata": {},
   "outputs": [
    {
     "data": {
      "image/png": "[encoded data removed]",
      "text/plain": [
       "<Figure size 700x300 with 1 Axes>"
      ]
     },
     "metadata": {},
     "output_type": "display_data"
    }
   ],
   "source": [
    "x=np.linspace(0,4,100)\n",
    "y=np.linspace(0,4,100)\n",
    "for i in range(100):\n",
    "    y[i] = -1*math.exp(-1*x[i])\n",
    "fig, ax = plt.subplots(figsize=(7,3))\n",
    "ax.plot(x, y, label='-exp(-x)')\n",
    "ax.set(xlabel='t', ylabel='x=f(t)')\n",
    "ax.grid()\n",
    "plt.legend()\n",
    "plt.show()"
   ]
  },
  {
   "cell_type": "markdown",
   "metadata": {},
   "source": [
    "After analysing the function and before solving the example, it can be deduced that:\n",
    "- The result in Case A will be less accurate than that of case B because of the relatively high gradient at $t=0$\n",
    "- The result in Case C will be less accurate than that of case B because of the relatively high $h=2$ value\n",
    "\n",
    "You can verify these observations using the python method below:"
   ]
  },
  {
   "cell_type": "code",
   "execution_count": 9,
   "metadata": {},
   "outputs": [
    {
     "data": {
      "application/vnd.jupyter.widget-view+json": {
       "model_id": "80329f0ca32149c395ddeacff51ca07c",
       "version_major": 2,
       "version_minor": 0
      },
      "text/plain": [
       "interactive(children=(FloatSlider(value=0.0, continuous_update=False, description='t: ', max=3.0), FloatSlider…"
      ]
     },
     "metadata": {},
     "output_type": "display_data"
    }
   ],
   "source": [
    "@interact\n",
    "def TestEuler(t = widgets.FloatSlider(min=0, max = 3, value=0, description='t: ', continuous_update=False),\n",
    "              h = widgets.FloatSlider(min=0, max = 3, value=1, description='h: ', continuous_update=False)):\n",
    "    Exe = ExampleE([-1, -1])\n",
    "    print('f(t)   = '+Exe.get_prnt()+' = %.4f'%(Exe.get_value(t)))\n",
    "    print('f(t+h) = f(%.4f)            = %.4f'%(t+h, Exe.get_value(t+h)))\n",
    "    print('Euler estimation:               %.4f'%(euler(Exe, t, h)))\n",
    "    Err = np.abs(Exe.get_value(t+h)-euler(Exe, t, h))\n",
    "    Err2 = np.abs((Exe.get_value(t+h)-euler(Exe, t, h))/Exe.get_value(t+h))\n",
    "    print('Absolute Error                  %.4f'%Err)\n",
    "    print('Relative Error                  %.4f'%Err2)"
   ]
  },
  {
   "cell_type": "markdown",
   "metadata": {},
   "source": [
    "The results highlight that The accuracy of Euler's method decreases when:\n",
    "- The gradient of the function across the $h$ interval varies significantly\n",
    "- The magnitude of $h$ increases"
   ]
  },
  {
   "cell_type": "markdown",
   "metadata": {},
   "source": [
    "[Back to top](#EEEN30101-Numerical-Analysis)"
   ]
  },
  {
   "cell_type": "markdown",
   "metadata": {},
   "source": [
    "### Error analysis of Euler's method"
   ]
  },
  {
   "cell_type": "markdown",
   "metadata": {},
   "source": [
    "Now that we have defined Euler's method for the simulation of differential equations and have solved some examples, it is time to explore in detail the accuracy of the method."
   ]
  },
  {
   "cell_type": "markdown",
   "metadata": {},
   "source": [
    "As a starting point, let us remember the equation for Euler's method:\n",
    "\n",
    "$$ \\hat{x}_{k+1} =  x_k + (h)f(x_k, u_k, t_k)$$\n",
    "\n",
    "With $t_{k+1} = t_k + h$"
   ]
  },
  {
   "cell_type": "markdown",
   "metadata": {},
   "source": [
    "Let us begin by analysing a simple one step ahead prediction, also known as a local analysis.\n",
    "\n",
    "First assume the simulated value $x_k$ is equal to the true value of the function $x(t_k)$:\n",
    "\n",
    "$$x_k = x(t_k)$$"
   ]
  },
  {
   "cell_type": "markdown",
   "metadata": {},
   "source": [
    "Based on the assumption, we will try to calculate the error as the difference between the real value of the function ($x(t_{k+1})$) and our predicted value ($\\hat{x}_{k+1}$).\n",
    "\n",
    "$$ \\epsilon_{k+1} = x(t_{k +1}) - \\hat{x}_{k+1} $$"
   ]
  },
  {
   "cell_type": "markdown",
   "metadata": {},
   "source": [
    "Solving the equation, we get:\n",
    "$$\n",
    "\\begin{aligned}\n",
    "   \\epsilon_{k+1} & = x(t_{k +1}) - \\hat{x}_{k+1}\\\\\n",
    "   & = x(t_k +h) -x_k - (h)f(x_k, u_k, t_k)\\\\\n",
    "   & = x(t_k + h) - x(t_k) -h \\begin{array}{c|}\\frac{\\partial x}{\\partial t}\\end{array} _{t_k} \n",
    "\\end{aligned}\n",
    "$$"
   ]
  },
  {
   "cell_type": "markdown",
   "metadata": {},
   "source": [
    "As done in previous weeks, we will use Taylor's theorem to produce a more manageable approximation of this equation:\n",
    "\n",
    "$$\n",
    "x(t_k + h) = x(t_k) + h \\begin{array}{c|} \\frac{\\partial x}{\\partial t}\\end{array} _{t_k} + \\frac{h^2}{2} \\begin{array}{c|} \\frac{\\partial ^2 x}{\\partial t^2}\\end{array} _{t_k + \\xi}\n",
    "$$\n",
    "\n",
    "For some $0 \\leq \\xi \\leq h$"
   ]
  },
  {
   "cell_type": "markdown",
   "metadata": {},
   "source": [
    "After rearranging the equation, we get:\n",
    "\n",
    "$$\n",
    "\\begin{aligned}\n",
    "   \\epsilon_{k+1} & = x(t_k + h) - x(t_k) -h \\begin{array}{c|}\\frac{\\partial x}{\\partial t}\\end{array} _{t_k} \\\\\n",
    "   & = x(t_k) + h \\begin{array}{c|} \\frac{\\partial x}{\\partial t}\\end{array} _{t_k} + \\frac{h^2}{2} \\begin{array}{c|} \\frac{\\partial ^2 x}{\\partial t^2}\\end{array} _{t_k + \\xi} - x(t_k) -h \\begin{array}{c|}\\frac{\\partial x}{\\partial t}\\end{array} _{t_k} \\\\\n",
    "   & = \\frac{h^2}{2} \\begin{array}{c|} \\frac{\\partial ^2 x}{\\partial t^2}\\end{array} _{t_k + \\xi}\n",
    "\\end{aligned} \\\\\n",
    "$$"
   ]
  },
  {
   "cell_type": "markdown",
   "metadata": {},
   "source": [
    "Based on the big $O$ notation, the local error is $O(h^2)$"
   ]
  },
  {
   "cell_type": "markdown",
   "metadata": {},
   "source": [
    "To do a global analysis we will set the simulated value $x_{k+1}$ as our predicted value $\\hat{x}_{k+1}$. We will then have to analyse if the results converge after multiple iterations.\n",
    "\n",
    "$$x_{k+1} = \\hat{x}_{k+1}$$"
   ]
  },
  {
   "cell_type": "markdown",
   "metadata": {},
   "source": [
    "[Back to top](#EEEN30101-Numerical-Analysis)"
   ]
  },
  {
   "cell_type": "markdown",
   "metadata": {},
   "source": [
    "To illustrate the convergence of Euler's method, consider the example below (the same example used as an introduction to digital simulation).\n",
    "\n",
    "$$ \\frac{\\partial y }{\\partial t} + ay(t) = bu(t)$$"
   ]
  },
  {
   "cell_type": "markdown",
   "metadata": {},
   "source": [
    "Assume $a > 0$ so that our system is stable.\n",
    "\n",
    "Also consider the following conditions:\n",
    "-  $y(0)=0$\n",
    "- $u(t)=1$ for $t \\geq 0$ "
   ]
  },
  {
   "cell_type": "markdown",
   "metadata": {},
   "source": [
    "To solve this problem, we can use the Laplace transform:\n",
    "\n",
    "$$ sy(s) + ay(s) = bu(s) $$\n",
    "\n",
    "$$ y(s)(s+a) = bu(s) $$\n",
    "\n",
    "$$ y(s)= \\frac{b}{s+a}u(s) $$"
   ]
  },
  {
   "cell_type": "markdown",
   "metadata": {},
   "source": [
    "Considering our step function $u(s) = 1/s$ we get:\n",
    "\n",
    "$$\n",
    "\\begin{aligned}\n",
    "   y(s) & = \\frac{b}{s+a}\\frac{1}{s}\\\\\n",
    "   & = \\frac{b}{a} \\left( \\frac{a}{s(s+a)} \\right)\\\\\n",
    "   & = \\frac{b}{a} \\left( \\frac{a +s -s}{s(s+a)} \\right) \\\\\n",
    "   & = \\frac{b}{a} \\left( \\frac{s + a}{s(s+a)} - \\frac{s}{s(s+a)} \\right)\\\\\n",
    "   & = \\frac{b}{a} \\left( \\frac{1}{s} - \\frac{1}{s+a} \\right)\n",
    "\\end{aligned} \\\\\n",
    "$$"
   ]
  },
  {
   "cell_type": "markdown",
   "metadata": {},
   "source": [
    "To convert the equation to the time domain, we can consider the following Laplace transforms.\n",
    "\n",
    "$$ \\mathcal{L}(1) = \\frac{1}{s} $$\n",
    "\n",
    "$$ \\mathcal{L}(e^{at}) = \\frac{1}{s-a} $$"
   ]
  },
  {
   "cell_type": "markdown",
   "metadata": {},
   "source": [
    "The solution to the problem is therefore:\n",
    "\n",
    "$$ y(t) = \\frac{b}{a}(1-e^{-at})$$"
   ]
  },
  {
   "cell_type": "markdown",
   "metadata": {},
   "source": [
    "Let us now solve the same problem using Euler's method iteratively.\n",
    "\n",
    "We begin with the first iteration to predict $x_{k+1}$.\n",
    "\n",
    "$$\n",
    "\\begin{aligned}\n",
    "   x_{k+1} & = \\hat{x}_{k+1}\\\\\n",
    "   & = x_k + h (u_k - ax_k)\\\\\n",
    "   & = (1-ah)x_k + h\n",
    "\\end{aligned}\n",
    "$$"
   ]
  },
  {
   "cell_type": "markdown",
   "metadata": {},
   "source": [
    "We can then use our predicted value $\\bar{x}_{k+1}$ to simulate $\\hat{x}_{k+2}$."
   ]
  },
  {
   "cell_type": "markdown",
   "metadata": {},
   "source": [
    "$$\n",
    "\\begin{aligned}\n",
    "   x_{k+2} & = (1-ah)\\hat{x}_{k+1} + h\\\\\n",
    "   & = (1-ah) ((1-ah)x_k + h) + h\\\\\n",
    "   & = (1-ah)^2x_k + (1-ah)h + h\n",
    "\\end{aligned}\n",
    "$$"
   ]
  },
  {
   "cell_type": "markdown",
   "metadata": {},
   "source": [
    "And we can continue for $n$ iterations.\n",
    "\n",
    "$$\n",
    "\\begin{aligned}\n",
    "   x_{k+n} & = (1+ah)^nx_k+(1+ah)^{n-1}h + \\cdots + h \\\\\n",
    "   & = (1+ah)^nx_k + \\frac{1-(1-ah)^n}{1-(1-ah)} h \\\\\n",
    "   & = (1+ah)^nx_k + \\frac{1-(1-ah)^n}{a}\n",
    "\\end{aligned}\n",
    "$$"
   ]
  },
  {
   "cell_type": "markdown",
   "metadata": {},
   "source": [
    "If we set our initial value to zero $x_0 = 0$, we get:\n",
    "\n",
    "$$\n",
    "\\begin{aligned}\n",
    "   x_{k+n} & = (1+ah)^n (0) + \\frac{1-(1-ah)^n}{a} \\\\\n",
    "   & = \\frac{1-(1-ah)^n}{a}\n",
    "\\end{aligned}\n",
    "$$"
   ]
  },
  {
   "cell_type": "markdown",
   "metadata": {},
   "source": [
    "Accordingly:\n",
    "\n",
    "$$\n",
    "\\begin{aligned}\n",
    "   y_n & = bx_n\\\\\n",
    "   & = \\frac{b}{a} [1-(1-ah)^n]\n",
    "\\end{aligned}\n",
    "$$"
   ]
  },
  {
   "cell_type": "markdown",
   "metadata": {},
   "source": [
    "From the equation, it can be deduced that the method will not converge when:\n",
    "\n",
    "$$|1-ah| > 1$$\n",
    "\n",
    "Accordingly, for a stable simulation, we require\n",
    "$$h < \\frac{2}{a}$$"
   ]
  },
  {
   "cell_type": "markdown",
   "metadata": {},
   "source": [
    "To estimate the global error, we just need to compare the real and estimated values:\n",
    "\n",
    "$$\n",
    "\\begin{aligned}\n",
    "   y(t_n) - y_n & = \\frac{b}{a} [1-e^{at_n}] - \\frac{b}{a} [1-(1-ah)^n]\\\\\n",
    "   & = \\frac{b}{a} \\left[ \\begin{aligned}\n",
    "  \\underbrace{ \\quad \\quad \\quad (1-ah)^n - e^{-anh} \\quad \\quad \\quad } \\\\\n",
    "  \\text{Both quantities} \\longrightarrow 0 \\; \\text{as} \\; n \\longrightarrow \\infty\n",
    "\\end{aligned}  \\right]\n",
    "\\end{aligned}\n",
    "$$"
   ]
  },
  {
   "cell_type": "markdown",
   "metadata": {},
   "source": [
    "$$\n",
    "\\begin{aligned}\n",
    "   y(t_n) - y_n & = \\frac{b}{a} [1-e^{at_n}] - \\frac{b}{a} [1-(1-ah)^n]\\\\\n",
    "   & = \\begin{aligned} \\frac{b}{a} \\left[\n",
    "  \\underbrace{ \\quad \\quad \\quad \\quad (1-ah)^n - e^{-anh} \\quad \\quad \\quad \\quad} \\right] \\\\\n",
    "  \\text{Both quantities} \\longrightarrow 0 \\; \\text{as} \\; n \\longrightarrow \\infty \\quad \\; \\;\n",
    "\\end{aligned}  \n",
    "\\end{aligned}\n",
    "$$"
   ]
  },
  {
   "cell_type": "markdown",
   "metadata": {},
   "source": [
    "[Back to top](#EEEN30101-Numerical-Analysis)"
   ]
  },
  {
   "cell_type": "markdown",
   "metadata": {},
   "source": [
    "## Higher order methods for digital simulation"
   ]
  },
  {
   "cell_type": "markdown",
   "metadata": {},
   "source": [
    "So far, we have explored the use of Euler's method which predicts values based on the gradient of the function at the current point. In practice, we can use other approaches, such as higher order methods, to provide potentially better solutions."
   ]
  },
  {
   "cell_type": "markdown",
   "metadata": {},
   "source": [
    "To explore this idea, let us consider the time derivative of a dynamic system.\n",
    "\n",
    "$$ z = f(x, u, t) $$\n",
    "\n",
    "And the aim to predict a future value $\\hat{x}_{k+1}$ at time $t_{k+1} = t_k + h$."
   ]
  },
  {
   "cell_type": "markdown",
   "metadata": {},
   "source": [
    "Let us begin with Euler's method:\n",
    "\n",
    "$$ \\hat{x}_{k+1} =  x_k + (h)f(x_k, u_k, t_k)$$\n"
   ]
  },
  {
   "cell_type": "markdown",
   "metadata": {},
   "source": [
    "This time, we will generalise the equation, so that we can consider alternative formulations for the slope of the function.\n",
    "\n",
    "$$ \\hat{x}_{k+1} = x_k + hf$$"
   ]
  },
  {
   "cell_type": "markdown",
   "metadata": {},
   "source": [
    "That is, we will explore $f$ values and equations that better approximate the slope of the function ($\\frac{\\partial x}{\\partial t}$) on the interval $[t_k, t_k+h]$"
   ]
  },
  {
   "cell_type": "markdown",
   "metadata": {},
   "source": [
    "The first option that we will consider is **Heun's method**, where the slope is taken as the mean between two gradients.\n",
    "$$f = \\frac{f_1+f_2}{2}$$"
   ]
  },
  {
   "cell_type": "code",
   "execution_count": 10,
   "metadata": {},
   "outputs": [
    {
     "data": {
      "image/png": "[encoded data removed]",
      "text/plain": [
       "<Figure size 640x480 with 1 Axes>"
      ]
     },
     "metadata": {},
     "output_type": "display_data"
    }
   ],
   "source": [
    "x = np.zeros((3,100))\n",
    "y = np.ones((3,100))\n",
    "x[0] = np.linspace(0,10,100)\n",
    "y[0] = polynomial(x[0], K1)\n",
    "x[1] = np.linspace(2.5,5.5,100)\n",
    "x[2] = np.linspace(6.5,9.5,100)\n",
    "B = (polynomial([4+0.0001], K1)-polynomial([4], K1))/0.0001\n",
    "A = polynomial([4], K1) -4*B\n",
    "y[1] = A+B*x[1]\n",
    "B = (polynomial([8+0.0001], K1)-polynomial([8], K1))/0.0001\n",
    "A = polynomial([8], K1) -t*B\n",
    "y[2] = A+B*x[1]\n",
    "\n",
    "X = np.zeros((1,2))\n",
    "Y = np.zeros((1,2))\n",
    "X[0] = [4, 8]\n",
    "Y[0] = [polynomial(X[0], K1)[0], polynomial([8], K1)[0]]\n",
    "\n",
    "Label1 = ['$t_k$', '$t_{k+1}$']\n",
    "Label2 = ['$f_1$', '$f_2$']\n",
    "plotFullFigures(np.transpose(X), np.transpose(Y), Label1, Label2, 't',\n",
    "                'x=f(t)', x, y,  ['f(x)', 'f1', 'f2'])"
   ]
  },
  {
   "cell_type": "markdown",
   "metadata": {},
   "source": [
    "Note that $f_2$ is calculated based on a predicted value (e.g., Euler's estimate)."
   ]
  },
  {
   "cell_type": "markdown",
   "metadata": {},
   "source": [
    "$$\n",
    "f_2 = f( \\begin{aligned} \\underbrace{\\quad \\quad \\bar{x}^E_{k+1} \\quad \\quad } \\\\\n",
    "\\text{Euler's estimate}\\end{aligned}, \\begin{aligned}\n",
    "  \\underbrace{ u_{k+1}, t_{k+1}} \\\\\n",
    "  \\text{Known}\n",
    "\\end{aligned} )\n",
    "$$"
   ]
  },
  {
   "cell_type": "markdown",
   "metadata": {},
   "source": [
    "[Back to top](#EEEN30101-Numerical-Analysis)"
   ]
  },
  {
   "cell_type": "markdown",
   "metadata": {},
   "source": [
    "The second option that we will consider is the **Midpoint method** which involves selecting a gradient $f_m$ in the midpoint between $t_k$ and $t_{k+1}$.\n",
    "\n",
    "$$f=f_m$$\n",
    "\n",
    "It is assumed that $t_{k+1/2}$ and $u+{k+1/2}$ are known.\n",
    "\n",
    "$$t_{k+1/2} = t_k + h/2$$\n",
    "\n",
    "$$u_{k+1/2} = u(t_k + h/2)$$"
   ]
  },
  {
   "cell_type": "code",
   "execution_count": 11,
   "metadata": {},
   "outputs": [
    {
     "data": {
      "image/png": "[encoded data removed]",
      "text/plain": [
       "<Figure size 640x480 with 1 Axes>"
      ]
     },
     "metadata": {},
     "output_type": "display_data"
    }
   ],
   "source": [
    "t = 6\n",
    "x = np.zeros((2,100))\n",
    "y = np.ones((2,100))\n",
    "x[0] = np.linspace(0,10,100)\n",
    "y[0] = polynomial(x[0], K1)\n",
    "x[1] = np.linspace(4,8,100)\n",
    "B = (polynomial([t+0.0001], K1)-polynomial([t], K1))/0.0001\n",
    "A = polynomial([t], K1) -t*B\n",
    "y[1] = A+B*x[1]\n",
    "\n",
    "X = np.zeros((1,3))\n",
    "Y = np.zeros((1,3))\n",
    "X[0] = [4, 6, 8]\n",
    "Y[0] = [polynomial(X[0], K1)[0], polynomial([6], K1)[0], polynomial([8], K1)[0]]\n",
    "\n",
    "Label1 = ['$t_k$', '$t_{k+h/2}$', '$t_{k+1}$']\n",
    "Label2 = [' ', '$f_{m}$', ' ']\n",
    "plotFullFigures(np.transpose(X), np.transpose(Y), Label1, Label2, 't',\n",
    "                'x=f(t)', x, y,  ['f(x)', 'Euler'])"
   ]
  },
  {
   "cell_type": "markdown",
   "metadata": {},
   "source": [
    "Accordingly:\n",
    "\n",
    "$$ f_m = f(\\hat{x}^E_{k+1/2}, u_{k+1/2},t_{k+1/2}) $$\n",
    "\n",
    "$$\\hat{x}^E_{k+1/2} - x_k + \\frac{h}{2} f_1 (x_k, u_k, t_k)$$\n",
    "\n",
    "In practice, much higher order methods are often used, and $h$ is chosen adaptively (i.e., a new value of $h$ is chosen after each iteration)."
   ]
  },
  {
   "cell_type": "markdown",
   "metadata": {},
   "source": [
    "[Back to top](#EEEN30101-Numerical-Analysis)"
   ]
  },
  {
   "cell_type": "markdown",
   "metadata": {},
   "source": [
    "## Conclusion"
   ]
  },
  {
   "cell_type": "markdown",
   "metadata": {},
   "source": [
    "At the end of this week's lecture and after going through this notebook, you should be able to address the following questions:<br/>\n",
    "- What is Euler's method, and how is it used?<br/>\n",
    "- What is Heun's method, and how is it used?<br/>\n",
    "- What is the Midpoint method, and how is it used?<br/><br/>\n",
    "\n",
    "If you cannot answer these questions, you may want to check again this notebook and the lecture notes."
   ]
  },
  {
   "cell_type": "markdown",
   "metadata": {},
   "source": [
    "[Back to top](#EEEN30101-Numerical-Analysis)"
   ]
  }
 ],
 "metadata": {
  "kernelspec": {
   "display_name": "Python 3 (ipykernel)",
   "language": "python",
   "name": "python3"
  },
  "language_info": {
   "codemirror_mode": {
    "name": "ipython",
    "version": 3
   },
   "file_extension": ".py",
   "mimetype": "text/x-python",
   "name": "python",
   "nbconvert_exporter": "python",
   "pygments_lexer": "ipython3",
   "version": "3.11.4"
  },
  "toc": {
   "base_numbering": 1,
   "nav_menu": {},
   "number_sections": true,
   "sideBar": true,
   "skip_h1_title": true,
   "title_cell": "Table of Contents",
   "title_sidebar": "Contents",
   "toc_cell": false,
   "toc_position": {
    "height": "calc(100% - 180px)",
    "left": "10px",
    "top": "150px",
    "width": "426.667px"
   },
   "toc_section_display": true,
   "toc_window_display": true
  }
 },
 "nbformat": 4,
 "nbformat_minor": 4
}
