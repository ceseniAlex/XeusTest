{
 "cells": [
  {
   "cell_type": "markdown",
   "metadata": {},
   "source": [
    "# EEEN30101 Numerical Analysis"
   ]
  },
  {
   "cell_type": "markdown",
   "metadata": {},
   "source": [
    "# Week 10"
   ]
  },
  {
   "cell_type": "markdown",
   "metadata": {},
   "source": [
    "***&copy; 2024 Martínez Ceseña — University of Manchester, UK***"
   ]
  },
  {
   "cell_type": "markdown",
   "metadata": {},
   "source": [
    "This notebook introduces the following topics:\n",
    "- Numerical differentiation\n",
    "- Numerical integration\n",
    "\n",
    "The use of the notebooks is optional and will not be marked. That said, you are strongly encouraged to play with the tools and examples, as you can explore different variations of the examples, which will better prepare you for the exams."
   ]
  },
  {
   "cell_type": "markdown",
   "metadata": {},
   "source": [
    "## List of contents"
   ]
  },
  {
   "cell_type": "markdown",
   "metadata": {},
   "source": [
    "- [Python code](#Python-code)\n",
    "- [Numerical differentiation](#Numerical-differentiation)\n",
    "  - [Comparison with analytical differentiation](#Comparison-with-analytical-differentiation)\n",
    "  - [Accuracy of numerical differentiation](#Accuracy-of-numerical-differentiation)\n",
    "  - [Limitations of the floating point representation](#Limitations-of-the-floating-point-representation)\n",
    "  - [Alternative numerical differentiation approaches](#Alternative-numerical-differentiation-approaches)\n",
    "- [Numerical integration](#Numerical-integration)\n",
    "  - [Rectangular (midpoint) rule](#Rectangular-(midpoint)-rule)\n",
    "  - [Trapezoidal rule](#Trapezoidal-rule)\n",
    "  - [Simpson's rule](#Simpson's-rule)\n",
    "  - [Richardson extrapolation](#Richardson-extrapolation)\n",
    "-[Conclusion](#Conclusion)"
   ]
  },
  {
   "cell_type": "markdown",
   "metadata": {},
   "source": [
    "## Before we begin"
   ]
  },
  {
   "cell_type": "markdown",
   "metadata": {},
   "source": [
    "Before we begin: \n",
    "- Make sure to review the asynchronous materials provided in blackboard for EEEN30101 Week 10 \n",
    "- If you have any questions, please post them in the discussion boards or, if that is not possible, send an email to alex.martinezcesena@manchester.ac.uk"
   ]
  },
  {
   "cell_type": "markdown",
   "metadata": {},
   "source": [
    "This notebook provides some examples in python, for that purpose the following libraries will be loaded:"
   ]
  },
  {
   "cell_type": "code",
   "execution_count": 1,
   "metadata": {},
   "outputs": [],
   "source": [
    "import math  # To use mathematical operation\n",
    "import numpy as np  # To define and use matrices\n",
    "import copy\n",
    "import matplotlib.pyplot as plt  # To plot figures\n",
    "\n",
    "try:\n",
    "    import ipywidgets as widgets\n",
    "except:\n",
    "    import micropip\n",
    "    await micropip.install('ipywidgets')\n",
    "    import ipywidgets as widgets\n",
    "from ipywidgets import interact"
   ]
  },
  {
   "cell_type": "markdown",
   "metadata": {},
   "source": [
    "[Back to top](#EEEN30101-Numerical-Analysis)"
   ]
  },
  {
   "cell_type": "markdown",
   "metadata": {},
   "source": [
    "## Python code"
   ]
  },
  {
   "cell_type": "markdown",
   "metadata": {},
   "source": [
    "This notebook requires some algorithms that were developed in previous notebooks, which have been added below. Please review the relevant notebooks for information about these algorithms."
   ]
  },
  {
   "cell_type": "markdown",
   "metadata": {},
   "source": [
    "- Methods to model polynomials from the notebooks developed for week 04 ([EEEN30101_Week04](./EEEN30101_Week04.ipynb)):"
   ]
  },
  {
   "cell_type": "code",
   "execution_count": 2,
   "metadata": {},
   "outputs": [],
   "source": [
    "def polynomial(x=[1], K=[1, 1]):\n",
    "    '''Simulate value of polynomial'''\n",
    "    s1 = len(x)\n",
    "    s2 = len(K)\n",
    "    y = np.zeros((s1))\n",
    "    for i in range(s1):\n",
    "        for j in range(s2):\n",
    "            y[i] += K[j]*x[i]**j\n",
    "\n",
    "    return y\n",
    "\n",
    "def diffPoly(K):\n",
    "    '''Differentiate polynomial'''\n",
    "    s = len(K)    \n",
    "    if s == 1:\n",
    "        return [0]\n",
    "    else:\n",
    "        s -= 1\n",
    "        dK = np.zeros(s)\n",
    "        for i in range(s):\n",
    "            dK[i] = K[i+1]*(i+1)\n",
    "        return dK"
   ]
  },
  {
   "cell_type": "markdown",
   "metadata": {},
   "source": [
    "- Methods to plot figures and legends from the notebooks developed for ([EEEN30101_Week04](./EEEN30101_Week04.ipynb)):"
   ]
  },
  {
   "cell_type": "code",
   "execution_count": 3,
   "metadata": {},
   "outputs": [],
   "source": [
    "def plotFigure(X, Y, Label=[], xlabel='x', ylabel='J(x)', ax=math.nan):\n",
    "    '''Plot a figure'''\n",
    "    if ax.__class__ == math.nan.__class__:\n",
    "        fig, ax = plt.subplots()\n",
    "\n",
    "    for i in range(X.shape[0]):\n",
    "        line, = ax.plot(X[i], Y[i], label=Label[i])\n",
    "\n",
    "    ax.set(xlabel=xlabel, ylabel=ylabel)\n",
    "    ax.grid()\n",
    "    if '_child' not in line.get_label():\n",
    "        plt.legend()\n",
    "    plt.show()\n",
    "\n",
    "def addPoints(ax, X, Y, Label1, Label2, Dx, Dy):\n",
    "    '''Add points to figure'''\n",
    "    mY= min(Y)\n",
    "    for i in range(len(X)):\n",
    "        ax.plot(X[i], Y[i], '*')\n",
    "        ax.text(X[i]-Dx, mY-Dy, Label1[i])\n",
    "        ax.text(X[i]+Dx, Y[i], Label2[i])\n",
    "\n",
    "def plotFullFigures(X, Y, Label1, Label2, xlabel='x',\n",
    "                    ylabel='J(x)', x=[0], y=[0], Label=['']):\n",
    "    '''Plot a figure with both points and lines'''\n",
    "    Dx = (max(X)-min(X))*2/100\n",
    "    Dy = max( (max(Y)-min(Y))*2/10, (np.max(y)-np.min(y))*3/10)\n",
    "    \n",
    "    fig, ax = plt.subplots()\n",
    "\n",
    "    addPoints(ax, X, Y, Label1, Label2, Dx, Dy)\n",
    "\n",
    "    plotFigure(x, y, Label, xlabel, ylabel, ax)"
   ]
  },
  {
   "cell_type": "markdown",
   "metadata": {},
   "source": [
    "[Back to top](#EEEN30101-Numerical-Analysis)"
   ]
  },
  {
   "cell_type": "markdown",
   "metadata": {},
   "source": [
    "## Numerical differentiation"
   ]
  },
  {
   "cell_type": "markdown",
   "metadata": {},
   "source": [
    "Numerical differentiation, as the name suggests, is a numerical approach to approximate the value of a differential equation at a selected point.\n",
    "\n",
    "In this section, we will explore the formulation of numerical differentiations compared with their analytical counterpart. We will also explore options to improve the accuracy of numerical differentiation."
   ]
  },
  {
   "cell_type": "markdown",
   "metadata": {},
   "source": [
    "### Comparison with analytical differentiation"
   ]
  },
  {
   "cell_type": "markdown",
   "metadata": {},
   "source": [
    "You should currently be comfortable differentiating equations analytically."
   ]
  },
  {
   "cell_type": "markdown",
   "metadata": {},
   "source": [
    "For example, consider the following polynomial function:\n",
    "\n",
    "$$f(x) = 3x^2$$"
   ]
  },
  {
   "cell_type": "code",
   "execution_count": 4,
   "metadata": {},
   "outputs": [
    {
     "name": "stdout",
     "output_type": "stream",
     "text": [
      "f(x) =   + 3.0000x^2\n"
     ]
    }
   ],
   "source": [
    "def printPoly(K, xt='x'):\n",
    "    '''Display polynomial'''\n",
    "    prnt = ''\n",
    "    for i in range(len(K)):\n",
    "        if K[i] != 0:\n",
    "            if K[i]>0:\n",
    "                prnt += ' + %.4f'%K[i]\n",
    "            else:\n",
    "                prnt += ' - %.4f'%(-K[i])\n",
    "            if i == 1:\n",
    "                prnt += xt\n",
    "            elif i > 1:\n",
    "                prnt += xt+'^%d'%i\n",
    "    return prnt\n",
    "\n",
    "K1 = [0, 0, 3]\n",
    "prnt = printPoly(K1)\n",
    "print('f(x) = ',prnt)"
   ]
  },
  {
   "cell_type": "markdown",
   "metadata": {},
   "source": [
    "You should be able to differentiate this equation to get:\n",
    "$$f'(x) = \\frac{\\partial (3x^2)}{\\partial x} = 6x$$"
   ]
  },
  {
   "cell_type": "code",
   "execution_count": 5,
   "metadata": {},
   "outputs": [
    {
     "name": "stdout",
     "output_type": "stream",
     "text": [
      "f(x) =   + 6.0000x\n"
     ]
    }
   ],
   "source": [
    "prnt = printPoly(diffPoly(K1))\n",
    "print('f''(x) = ',prnt)"
   ]
  },
  {
   "cell_type": "markdown",
   "metadata": {},
   "source": [
    "The differential of an equation is equivalent to its gradient. "
   ]
  },
  {
   "cell_type": "code",
   "execution_count": 6,
   "metadata": {},
   "outputs": [
    {
     "data": {
      "image/png": "[encoded data removed]",
      "text/plain": [
       "<Figure size 640x480 with 1 Axes>"
      ]
     },
     "metadata": {},
     "output_type": "display_data"
    }
   ],
   "source": [
    "x = np.zeros((2,100))\n",
    "y = np.ones((2,100))\n",
    "x[0] = np.linspace(0,10,100)\n",
    "y[0] = polynomial(x[0], K1)\n",
    "x[1] = np.linspace(2,8,100)\n",
    "y[1] = polynomial(x[1], [-72, 30])\n",
    "\n",
    "X = np.zeros((1,2))\n",
    "Y = np.zeros((1,2))\n",
    "X[0] = [4, 6]\n",
    "Y[0] = polynomial(X[0], K1)\n",
    "\n",
    "Label1 = ['x', 'x+\\u03B4']\n",
    "Label2 = ['f(x)', 'f(x+\\u03B4)']\n",
    "plotFullFigures(np.transpose(X), np.transpose(Y), Label1, Label2, 'x', 'f(x)', x, y,  ['f(x)', 'Line'])"
   ]
  },
  {
   "cell_type": "markdown",
   "metadata": {},
   "source": [
    "Accordingly, we could numerically approximate the gradient of the function at a specific point (e.g., $x$), by:\n",
    "- calculating the value of the function at two locations near that point (e.g., $f(x)$ and $f(x+\\delta)$) and\n",
    "- dividing the difference of those to values ($f(x+\\delta) - f(x)$) by the distance between the two points ($\\delta$)"
   ]
  },
  {
   "cell_type": "markdown",
   "metadata": {},
   "source": [
    "$$f'(x) \\approx \\frac{f(x+\\delta) - f(x)}{\\delta}$$"
   ]
  },
  {
   "cell_type": "markdown",
   "metadata": {},
   "source": [
    "To improve the approximate the value of the differential, we can make $\\delta$ as small as possible ($\\delta \\longrightarrow 0$):\n",
    "\n",
    "$$f'(x) = \\lim_{\\delta \\longrightarrow 0}{\\frac{f(x+\\delta) - f(x)}{\\delta}}$$"
   ]
  },
  {
   "cell_type": "markdown",
   "metadata": {},
   "source": [
    "If we apply this equation to our example, we get the following:"
   ]
  },
  {
   "cell_type": "markdown",
   "metadata": {},
   "source": [
    "$$\n",
    "\\begin{aligned}\n",
    "  \\frac{\\partial (3x^2)}{\\partial x} & = \\lim_{\\delta \\longrightarrow 0}{\\frac{3(x+\\delta)^2 - 3x^2}{\\delta}}  \\\\\n",
    "   & = \\lim_{\\delta \\longrightarrow 0}{\\frac{3x^2 + 6x\\delta + 3\\delta^2 - 3x^2}{\\delta}} \\\\\n",
    "   & = \\lim_{\\delta \\longrightarrow 0}{\\frac{6x\\delta + 3\\delta^2}{\\delta}}\n",
    "\\end{aligned}\n",
    "$$"
   ]
  },
  {
   "cell_type": "markdown",
   "metadata": {},
   "source": [
    "As we have defined $\\delta \\longrightarrow 0$, we can argue that: \n",
    "- the value of $\\delta$ is very low\n",
    "- the value of $\\delta^2$ is even smaller, and it is reasonable to neglect it"
   ]
  },
  {
   "cell_type": "markdown",
   "metadata": {},
   "source": [
    "Accordingly, our equation can be rewritten as follows:\n",
    "\n",
    "$$\n",
    "\\begin{aligned}\n",
    "  f'(x) & = \\lim_{\\delta \\longrightarrow 0}{\\frac{6x\\delta}{\\delta}} \\\\\n",
    "  & = \\lim_{\\delta \\longrightarrow 0}{6x} \\\\\n",
    "  & = 6x\n",
    "\\end{aligned}\n",
    "$$"
   ]
  },
  {
   "cell_type": "markdown",
   "metadata": {},
   "source": [
    "><mark>Numerical differentiation can be used to approximate the value of a differential equation at a point ($x$).</mark>"
   ]
  },
  {
   "cell_type": "markdown",
   "metadata": {},
   "source": [
    "[Back to top](#EEEN30101-Numerical-Analysis)"
   ]
  },
  {
   "cell_type": "markdown",
   "metadata": {},
   "source": [
    "Now  that we have shown mathematically that numerical differentiation can provide good estimations of traditional analytical differentiation, let us develop a python class to help us develop an interactive example."
   ]
  },
  {
   "cell_type": "code",
   "execution_count": 7,
   "metadata": {},
   "outputs": [],
   "source": [
    "def numDiff(Ex, x, 𝛿=0.0001):\n",
    "    '''Numerical differentiation'''\n",
    "    val0 = Ex.get_value(x)\n",
    "    val1 = Ex.get_value(x+𝛿)\n",
    "\n",
    "    return (val1-val0)/𝛿\n",
    "    \n",
    "class Example1:\n",
    "    def __init__(self, K=[1, 100]):\n",
    "        '''Initializing function'''\n",
    "        self.K = K\n",
    "\n",
    "    def get_value(self, x):\n",
    "        '''Get value of the function'''\n",
    "        return polynomial(x, self.K)\n",
    "\n",
    "    def get_diff(self, x):\n",
    "        '''Get differential'''\n",
    "        return polynomial(x, diffPoly(self.K))\n",
    "    \n",
    "    def get_prnt(self, xt='x'):\n",
    "        return printPoly(self.K, xt)\n",
    "\n",
    "    def get_prnt2(self, xt='x'):\n",
    "        return printPoly(diffPoly(self.K), xt)"
   ]
  },
  {
   "cell_type": "markdown",
   "metadata": {},
   "source": [
    "Compare the analytical and numerical differentiation approaches using the following interactive example:\n",
    "- Note that the original equation is quadratic ($f(x)=3x^2$). Thus, its differential is a linear equation\n",
    "- Explore how the accuracy of the calculation changes with different values of $\\delta$"
   ]
  },
  {
   "cell_type": "code",
   "execution_count": 8,
   "metadata": {},
   "outputs": [
    {
     "data": {
      "application/vnd.jupyter.widget-view+json": {
       "model_id": "5f7c257590b54a04a033ad59c2696dff",
       "version_major": 2,
       "version_minor": 0
      },
      "text/plain": [
       "interactive(children=(FloatSlider(value=0.0, continuous_update=False, description='K1: ', max=10.0, min=-10.0)…"
      ]
     },
     "metadata": {},
     "output_type": "display_data"
    }
   ],
   "source": [
    "@interact\n",
    "def TestGradient(K1 = widgets.FloatSlider(min=-10, max = 10, value=0, description='K1: ', continuous_update=False),\n",
    "                 K2 = widgets.FloatSlider(min=-10, max = 10, value=0, description='K2: ', continuous_update=False),\n",
    "                 K3 = widgets.FloatSlider(min=-10, max = 10, value=3, description='K3: ', continuous_update=False),\n",
    "                 x = widgets.FloatSlider(min=-10, max = 10, value=5, description='x: ', continuous_update=False),\n",
    "                 𝛿 = widgets.BoundedFloatText(min=0.000000001, max = 10, value=0.0001, description='𝛿: ',\n",
    "                                              continuous_update=False)):\n",
    "    Ex1 = Example1([K1, K2, K3])\n",
    "    x = np.array([x])\n",
    "\n",
    "    print('Evaluating the differential of the function: \\nf(x) = ',Ex1.get_prnt())\n",
    "    print('At the point x = %.4f\\n'%x[0])\n",
    "\n",
    "    print('Based on analytical differentiation')\n",
    "    print('f\\'(x) = ',Ex1.get_prnt2(), end=' = ')\n",
    "    print('%.4f'%Ex1.get_diff(x))\n",
    "\n",
    "    print('\\nBased on numerical differentiation')\n",
    "    print('f\\'(x) = %.4f'%numDiff(Ex1, x, 𝛿))"
   ]
  },
  {
   "cell_type": "markdown",
   "metadata": {},
   "source": [
    "Let us do one more experiment. \n",
    "- This time, the original function will be a linear equation ($f(x)=6x$) and, thus, its differential will be constant\n",
    "- Explore how the accuracy of the calculation changes with different values of $\\delta$"
   ]
  },
  {
   "cell_type": "code",
   "execution_count": 9,
   "metadata": {},
   "outputs": [
    {
     "data": {
      "application/vnd.jupyter.widget-view+json": {
       "model_id": "dbf50e5dea0444a187cb4260a8c76849",
       "version_major": 2,
       "version_minor": 0
      },
      "text/plain": [
       "interactive(children=(FloatSlider(value=0.0, continuous_update=False, description='K1: ', max=10.0, min=-10.0)…"
      ]
     },
     "metadata": {},
     "output_type": "display_data"
    }
   ],
   "source": [
    "@interact\n",
    "def TestGradientL(K1 = widgets.FloatSlider(min=-10, max = 10, value=0, description='K1: ', continuous_update=False),\n",
    "                 K2 = widgets.FloatSlider(min=-10, max = 10, value=6, description='K2: ', continuous_update=False),\n",
    "                 x = widgets.FloatSlider(min=-10, max = 10, value=5, description='x: ', continuous_update=False),\n",
    "                 𝛿 = widgets.BoundedFloatText(min=0.000000001, max = 10, value=0.0001, description='𝛿: ',\n",
    "                                              continuous_update=False)):\n",
    "    Ex1 = Example1([K1, K2])\n",
    "    x = np.array([x])\n",
    "\n",
    "    print('Evaluating the differential of the function: \\nf(x) = ',Ex1.get_prnt())\n",
    "    print('At the point x = %.4f\\n'%x[0])\n",
    "\n",
    "    print('Based on analytical differentiation')\n",
    "    print('f\\'(x) = ',Ex1.get_prnt2(), end=' = ')\n",
    "    print('%.4f'%Ex1.get_diff(x))\n",
    "\n",
    "    print('\\nBased on numerical differentiation')\n",
    "    print('f\\'(x) = %.4f'%numDiff(Ex1, x, 𝛿))"
   ]
  },
  {
   "cell_type": "markdown",
   "metadata": {},
   "source": [
    "><mark>The accuracy of a numerical differentiation typically improves as $\\delta \\longrightarrow 0$ and $\\delta \\geq 0$.</mark>\n",
    "\n",
    "><mark>The numerical differentiation of a linear equation is exact, regardless of the value of $\\delta$ (as long as $\\delta \\geq 0).$</mark>"
   ]
  },
  {
   "cell_type": "markdown",
   "metadata": {},
   "source": [
    "[Back to top](#EEEN30101-Numerical-Analysis)"
   ]
  },
  {
   "cell_type": "markdown",
   "metadata": {},
   "source": [
    "### Accuracy of numerical differentiation"
   ]
  },
  {
   "cell_type": "markdown",
   "metadata": {},
   "source": [
    "Assuming we need to differentiate a nonlinear equation (i.e., the value of $\\delta$ matters),\n",
    "- How good is this approximation?\n",
    "\n",
    "$$f'(x) \\approx \\frac{f(x+\\delta) - f(x)}{\\delta}$$\n",
    "\n",
    "- How do we choose a value for $\\delta$?"
   ]
  },
  {
   "cell_type": "markdown",
   "metadata": {},
   "source": [
    "To answer these questions, we need to approximate the error associated with the equation for small values of $\\delta$.\n",
    "\n",
    "For this purpose, let us first reformulate the numerical differentiation formula using Taylor's theorem. As a reminder, Taylor's theorem allows us to express an equation as a series of polynomials, which are relatively easy to analyse (see [EEEN30101_Week02](./EEEN30101_Week02.ipynb) notebook).\n",
    "\n",
    "\n",
    "$$ f(x+\\delta) = f(x) + \\delta f'(x) + \\frac{\\delta^2}{2} f'' (\\xi) $$\n",
    "\n",
    "Where $\\xi$ is a value within the range that we are using for our numerical differentiation:\n",
    "$$x \\leq \\xi \\leq x + \\delta$$"
   ]
  },
  {
   "cell_type": "markdown",
   "metadata": {},
   "source": [
    "We can rearrange the terms in the equation the following manner:\n",
    "\n",
    "$$ f(x+\\delta) - f(x) - \\frac{\\delta^2}{2} f'' (\\xi) = \\delta f'(x) $$\n",
    "\n",
    "\n",
    "$$f'(x) = \\frac{f(x+\\delta) - f(x)}{\\delta} + \\frac{\\delta}{2}f'' (\\xi)$$"
   ]
  },
  {
   "cell_type": "markdown",
   "metadata": {},
   "source": [
    "As a next step, we use big $O$ notation, which is am established  simplified approach to analyse the efficienty of an algorithm.\n",
    "\n",
    "$$f'(x) = \\frac{f(x+h) - f(x)}{\\delta} + O(\\delta)$$"
   ]
  },
  {
   "cell_type": "markdown",
   "metadata": {},
   "source": [
    "What this notation means is that, as long as we are using small values of $\\delta$, the remainder terms (i.e., the error) denoted by $O(\\delta)$ are bounded by a constant value: \n",
    "\n",
    "$$O(\\delta) \\leq \\frac{M\\delta}{2}$$\n",
    "\n",
    "To explore the use of this application of the big $O$ notation, you can use the method presented below."
   ]
  },
  {
   "cell_type": "code",
   "execution_count": 10,
   "metadata": {},
   "outputs": [
    {
     "data": {
      "application/vnd.jupyter.widget-view+json": {
       "model_id": "0f176461d8ff4dcb88b3d6f69251ad23",
       "version_major": 2,
       "version_minor": 0
      },
      "text/plain": [
       "interactive(children=(FloatSlider(value=0.0, continuous_update=False, description='K1: ', max=10.0, min=-10.0)…"
      ]
     },
     "metadata": {},
     "output_type": "display_data"
    }
   ],
   "source": [
    "@interact\n",
    "def TestO(K1 = widgets.FloatSlider(min=-10, max = 10, value=0, description='K1: ', continuous_update=False),\n",
    "                 K2 = widgets.FloatSlider(min=-10, max = 10, value=0, description='K2: ', continuous_update=False),\n",
    "                 K3 = widgets.FloatSlider(min=-10, max = 10, value=3, description='K3: ', continuous_update=False),\n",
    "                 K4 = widgets.FloatSlider(min=-10, max = 10, value=1, description='K4: ', continuous_update=False),\n",
    "                 x = widgets.FloatSlider(min=-10, max = 10, value=5, description='x: ', continuous_update=False),\n",
    "                 𝛿 = widgets.BoundedFloatText(min=0.000000001, max = 0.1, value=0.0001, description='𝛿: ',\n",
    "                                              continuous_update=False)):\n",
    "    K = [K1, K2, K3, K4]\n",
    "    Ex1 = Example1(K)\n",
    "    x = np.array([x])\n",
    "\n",
    "    print('Evaluating the differential of the function: \\nf(x) = ',Ex1.get_prnt())\n",
    "    print('At the point x = %.4f\\n'%x[0])\n",
    "\n",
    "    print('Based on analytical differentiation')\n",
    "    print('f\\'(x) = ',Ex1.get_prnt2(), end=' = ')\n",
    "    print('%.4f'%Ex1.get_diff(x))\n",
    "\n",
    "    print('\\nBased on numerical differentiation')\n",
    "    print('f\\'(x) = %.4f'%numDiff(Ex1, x, 𝛿))\n",
    "\n",
    "    print('\\nerror = %.6f'%(numDiff(Ex1, x, 𝛿)-Ex1.get_diff(x)))\n",
    "    \n",
    "    Ex2 = Example1(diffPoly(K))\n",
    "    𝜉 = np.array([x])\n",
    "    O = 𝛿/2*Ex2.get_diff(𝜉)\n",
    "    print('\\nBased on big O notation, the error is bounded by %.8f:'%O)\n",
    "    print('i ) Assuming 𝜉=x  , 𝛿/2*f\\'\\'(x) = %.8f'%(𝛿), end='/2*(')\n",
    "    print(Ex2.get_prnt2('𝜉'), ') = %.6f'%O)\n",
    "    \n",
    "    𝜉 = np.array([x+𝛿])\n",
    "    print('ii) Assuming 𝜉=x+𝛿, 𝛿/2*f\\'\\'(x) = %.8f'%(𝛿), end='/2*(')\n",
    "    print(Ex2.get_prnt2('𝜉'), ') = %.6f'%O)"
   ]
  },
  {
   "cell_type": "markdown",
   "metadata": {},
   "source": [
    "><mark>This suggests that the approximation gets better as $\\delta$ becomes smaller.</mark>"
   ]
  },
  {
   "cell_type": "markdown",
   "metadata": {},
   "source": [
    "Based on the above, in order to improve the accuracy of our numerical differentiation, it would be convenient to select the smallest $\\delta$ that our computers can handle."
   ]
  },
  {
   "cell_type": "markdown",
   "metadata": {},
   "source": [
    "[Back to top](#EEEN30101-Numerical-Analysis)"
   ]
  },
  {
   "cell_type": "markdown",
   "metadata": {},
   "source": [
    "### Limitations of the floating point representation"
   ]
  },
  {
   "cell_type": "markdown",
   "metadata": {},
   "source": [
    "In practice, we cannot select a value of $\\delta$ that is too small due to the accuracy of our computers. That is, we are limited by the approach used by our computers to represent and store floating point numbers."
   ]
  },
  {
   "cell_type": "markdown",
   "metadata": {},
   "source": [
    "To illustrate the limitations of the floating point representation, consider the following notation:\n",
    "\n",
    "  - The true values of our functions will be denoted by $f(x)$ and $f(x+\\delta)$, whereas\n",
    "\n",
    "  - The respective floating point representations of these values would be $\\bar{f}(x)$ and $\\bar{f}(x+\\delta)$"
   ]
  },
  {
   "cell_type": "markdown",
   "metadata": {},
   "source": [
    "Accordingly, the errors of our floating point represenations can be represented as:\n",
    "\n",
    "$$|f(x) - \\bar{f}(x)| < \\epsilon$$\n",
    "\n",
    "$$|f(x+\\delta) - \\bar{f}(x+\\delta)| < \\epsilon$$"
   ]
  },
  {
   "cell_type": "markdown",
   "metadata": {},
   "source": [
    "If you remember the IEEE double-precision standard from week 03 ([EEEN30101_Week03](./EEEN30101_Week03.ipynb)), we can represent binary fractions using the 52 elements of the mantissa ($m$).\n",
    "\n",
    "Based on the IEEE standard, the error of our floating point representation is:\n",
    "\n",
    "$$\\epsilon = \\left(\\frac{1}{2} \\right)^{52} = 2^{-53} \\approx 10^{-16} $$"
   ]
  },
  {
   "cell_type": "markdown",
   "metadata": {},
   "source": [
    "Based on the above, the error of a numerical differentiation can be expressed as:\n",
    "\n",
    "$$ \\left| \\frac{\\bar{f}(x+\\delta) - \\bar{f}(x)}{\\delta} - \\frac{f(x+\\delta) - f(x)}{\\delta}\\right| < \\frac{2\\epsilon}{\\delta}$$"
   ]
  },
  {
   "cell_type": "markdown",
   "metadata": {},
   "source": [
    "Now that we have the error associated with the floating point representation, the total error from both the numerical approximation itself (calculated in the previous section) and the floating point representation is:\n",
    "\n",
    "$$ \\left| f'(x) - \\frac{f(x+\\delta) - f(x)}{\\delta}\\right| < \\frac{M\\delta}{2} + \\frac{2\\epsilon}{\\delta}$$"
   ]
  },
  {
   "cell_type": "markdown",
   "metadata": {},
   "source": [
    "We can use this equation to estimate the value of $\\delta$ that minimises the error of a numerical differentiation, whereas considering the limitations of the floating point estimation."
   ]
  },
  {
   "cell_type": "markdown",
   "metadata": {},
   "source": [
    "For this purpose, we will calculate the minimum value of the equation, which is the value of $\\delta$ that makes the equation equal to zero as discussed in week 04 ([EEEN30101_Week04 - Part01](./EEEN30101_Week04%20-%20Part01.ipynb) and [EEEN30101_Week04 - Part02](./EEEN30101_Week04%20-%20Part02.ipynb))."
   ]
  },
  {
   "cell_type": "markdown",
   "metadata": {},
   "source": [
    "$$ f(\\delta) = \\frac{M\\delta}{2} + \\frac{2\\epsilon}{\\delta}$$\n",
    "\n",
    "$$ \\frac{\\partial f(\\delta)}{\\partial \\delta} = \\frac{M}{2} - \\frac{2\\epsilon}{\\delta^2}$$"
   ]
  },
  {
   "cell_type": "markdown",
   "metadata": {},
   "source": [
    "Solving for the optimal value $\\delta^*$ when $\\partial f(\\delta)/\\partial \\delta = 0$ we get:\n",
    "\n",
    "$$ 0 = \\frac{M}{2} - \\frac{2\\epsilon}{(\\delta^*)^2}$$\n",
    "\n",
    "$$\\frac{M}{2} = \\frac{2\\epsilon}{(\\delta^*)^2}$$\n",
    "\n",
    "$$(\\delta^*)^2 = \\frac{4\\epsilon}{M}$$\n",
    "\n",
    "$$\\delta^* = 2\\sqrt{\\frac{\\epsilon}{M}}$$"
   ]
  },
  {
   "cell_type": "markdown",
   "metadata": {},
   "source": [
    "Accordingly, the error of the numerical approximation when the optimal value of $\\sigma$ ($\\sigma^*$) is used is:\n",
    "\n",
    "$$\n",
    "\\begin{aligned}\n",
    "  f(\\delta) & = \\frac{M}{2}2\\sqrt{\\frac{\\epsilon}{M}} + \\frac{2\\epsilon}{2\\sqrt{\\epsilon/M}} \\\\\n",
    "  & = M \\sqrt{\\frac{\\epsilon}{M}} + \\epsilon \\sqrt{\\frac{M}{\\epsilon}}\\\\\n",
    "  & = \\sqrt{\\epsilon M} + \\sqrt{\\epsilon M} \\\\\n",
    "  & = 2 \\sqrt{\\epsilon M}\n",
    "\\end{aligned}\n",
    "$$"
   ]
  },
  {
   "cell_type": "markdown",
   "metadata": {},
   "source": [
    "[Back to top](#EEEN30101-Numerical-Analysis)"
   ]
  },
  {
   "cell_type": "markdown",
   "metadata": {},
   "source": [
    "Let us explore these findings with an example:\n",
    "$$ f(x) = sin(x) $$ "
   ]
  },
  {
   "cell_type": "markdown",
   "metadata": {},
   "source": [
    "We will represent this example with a class that includes the function, its derivative and methods to print them."
   ]
  },
  {
   "cell_type": "code",
   "execution_count": 11,
   "metadata": {},
   "outputs": [],
   "source": [
    "class Example2:\n",
    "    def __init__(self):\n",
    "        '''Initializing function'''\n",
    "\n",
    "    def get_value(self, x):\n",
    "        '''Get value of the function'''\n",
    "        return np.sin(x)\n",
    "\n",
    "    def get_diff(self, x):\n",
    "        '''Get differential'''\n",
    "        return np.cos(x)\n",
    "    \n",
    "    def get_prnt(self, xt='x'):\n",
    "        return 'sin(' + '%.4f'%x[0] + ')'\n",
    "\n",
    "    def get_prnt2(self, xt='x'):\n",
    "        return 'cos(' + '%.4f'%x[0] + ')'"
   ]
  },
  {
   "cell_type": "markdown",
   "metadata": {},
   "source": [
    "Let us now explore the accuracy of the numerical approximation using the method below. Thy using different values for $\\delta$."
   ]
  },
  {
   "cell_type": "code",
   "execution_count": 12,
   "metadata": {},
   "outputs": [
    {
     "data": {
      "application/vnd.jupyter.widget-view+json": {
       "model_id": "d84ce769ec314a8ab3f7c382b4b63ad0",
       "version_major": 2,
       "version_minor": 0
      },
      "text/plain": [
       "interactive(children=(BoundedFloatText(value=1.0, description='𝛿: ', max=1.0, min=1e-05), Output()), _dom_clas…"
      ]
     },
     "metadata": {},
     "output_type": "display_data"
    }
   ],
   "source": [
    "@interact\n",
    "def TestND(𝛿 = widgets.BoundedFloatText(min=0.00001, max = 1, value=1,description='𝛿: ', continuous_update=False)):\n",
    "    Ex2 = Example2()\n",
    "    T = 100\n",
    "    a = np.linspace(0, 2*np.pi, T)\n",
    "    x = np.zeros((2,T))\n",
    "    y = np.zeros((2,T))\n",
    "\n",
    "    𝜖 = -1000\n",
    "    for i in range(T):\n",
    "        x[0, i] = a[i]\n",
    "        x[1, i] = a[i]\n",
    "        y[0, i] = Ex2.get_diff(a[i])\n",
    "        y[1, i] = numDiff(Ex2, a[i], 𝛿)\n",
    "        e = np.abs(y[0, i]-y[1, i])\n",
    "        if e>𝜖:\n",
    "            𝜖=e\n",
    "\n",
    "    plotFigure(x, y, ['Analytical','Numerical'], xlabel='x', ylabel='sin(x)')"
   ]
  },
  {
   "cell_type": "markdown",
   "metadata": {},
   "source": [
    "The advantages of using $sin(x)$ as an example are that:\n",
    "- $-1 \\leq f(x) \\leq 1$\n",
    "- $-1 \\leq f'(x) \\leq 1$\n",
    "- $-1 \\leq f''(x) \\leq 1$\n",
    "\n",
    "As we know that $\\epsilon \\approx 10^{-16}$:\n",
    "- $M=1$\n",
    "- The optimal choice of $\\delta$ is $\\delta^* = 2x10^{-8}$\n",
    "- The lowest error is roughly $2x10^{-8}$"
   ]
  },
  {
   "cell_type": "markdown",
   "metadata": {},
   "source": [
    "If we look at the maximum error associated with the numerical differentiation of $sin(x)$ subject to different values of $\\delta$ (see figure below)."
   ]
  },
  {
   "cell_type": "code",
   "execution_count": 13,
   "metadata": {},
   "outputs": [
    {
     "data": {
      "image/png": "[encoded data removed]",
      "text/plain": [
       "<Figure size 640x480 with 1 Axes>"
      ]
     },
     "metadata": {},
     "output_type": "display_data"
    }
   ],
   "source": [
    "def plotloglog(x, y, L=''):\n",
    "    fig, ax = plt.subplots()\n",
    "    ax.loglog(x, y, label=L)\n",
    "    ax.set(xlabel='\\u03B4', ylabel='error')\n",
    "    ax.grid()\n",
    "    plt.legend()\n",
    "    plt.show()\n",
    "\n",
    "Ex2 = Example2()\n",
    "T = 300\n",
    "S = 100\n",
    "N= 4\n",
    "a = np.logspace(-10, -5, T)\n",
    "b = np.linspace(0, np.pi, S)\n",
    "x = np.zeros((T,N))\n",
    "y = np.zeros((T,N))\n",
    "for i in range(T):\n",
    "    𝛿 = a[i]\n",
    "    for j in range(N):\n",
    "        x[i,j] = 𝛿\n",
    "    y[i,0] = -1000\n",
    "    for j in range(S):\n",
    "        e =np.abs(Ex2.get_diff(b[j])-numDiff(Ex2, b[j], 𝛿))\n",
    "        if e>y[i, 0]:\n",
    "            if e!=0:\n",
    "                y[i, 0] = e\n",
    "    y[i,1] = 10**-16*2/𝛿\n",
    "    y[i,2] = 2e-8\n",
    "    y[i,3] = 𝛿/2\n",
    "\n",
    "plotloglog(x, y, ['Error','','',''])"
   ]
  },
  {
   "cell_type": "markdown",
   "metadata": {},
   "source": [
    "The simulations show that:\n",
    "- the error decreases as the value of $\\sigma$ drops as the accuracy of the numerical approximation improves, however\n",
    "- if $\\sigma$ becomes too low, the errir increases again due to the accuracy of the computer used for the simulations"
   ]
  },
  {
   "cell_type": "markdown",
   "metadata": {},
   "source": [
    "[Back to top](#EEEN30101-Numerical-Analysis)"
   ]
  },
  {
   "cell_type": "markdown",
   "metadata": {},
   "source": [
    "### Alternative numerical differentiation approaches"
   ]
  },
  {
   "cell_type": "markdown",
   "metadata": {},
   "source": [
    "So far, we have used one numerical approximation approach, namely the forward approximation:\n",
    "\n",
    "$$f'(x) \\approx \\frac{f(x+\\delta) - f(x)}{\\delta}$$\n",
    "\n",
    "However, there are other options such as:\n",
    "- Backward appximation\n",
    "\n",
    "$$f'(x) \\approx \\frac{f(x) - f(x-\\delta)}{\\delta}$$\n",
    "\n",
    "- The mean of the backard and forward approximation\n",
    "\n",
    "$$f'(x) \\approx \\frac{f(x+\\delta) - f(x-\\delta)}{2\\delta}$$"
   ]
  },
  {
   "cell_type": "markdown",
   "metadata": {},
   "source": [
    "These approximations are similar, but can offer different accuracy levels."
   ]
  },
  {
   "cell_type": "markdown",
   "metadata": {},
   "source": [
    "Let us explore the mean numerical approximation using Taylor's theorem. "
   ]
  },
  {
   "cell_type": "code",
   "execution_count": 14,
   "metadata": {},
   "outputs": [],
   "source": [
    "def numDiffM(Ex, x, 𝛿=0.0001):\n",
    "    '''Numerical differentiation'''\n",
    "    val0 = Ex.get_value(x-𝛿)\n",
    "    val1 = Ex.get_value(x+𝛿)\n",
    "\n",
    "    return (val1-val0)/𝛿/2"
   ]
  },
  {
   "cell_type": "markdown",
   "metadata": {},
   "source": [
    "We begin with the first part of the equation $f(x+\\delta)$:\n",
    "\n",
    "$$ f(x+\\delta) = f(x) + \\delta f'(x) + \\frac{\\delta^2}{2} f'' (x) + \\frac{\\delta^3}{6} f''' (\\xi_1)$$\n",
    "\n",
    "For some $x \\leq \\xi_1 \\leq x + \\delta$."
   ]
  },
  {
   "cell_type": "markdown",
   "metadata": {},
   "source": [
    "A similar analysis can be done for $f(x-\\delta)$:\n",
    "\n",
    "$$ f(x-\\delta) = f(x) - \\delta f'(x) + \\frac{\\delta^2}{2} f'' (x) - \\frac{\\delta^3}{6} f''' (\\xi_2)$$\n",
    "\n",
    "For some $x - \\delta\\leq \\xi_2 \\leq x$."
   ]
  },
  {
   "cell_type": "markdown",
   "metadata": {},
   "source": [
    "If we get the difference between these equations and, as done at the beginning of this section, solve for $f'(x)$, we get:\n",
    "\n",
    "$$ f'(x) = \\frac{f(x+\\delta) - f(x-\\delta)}{2\\delta} + \\frac{\\delta^2}{6} \\left( f''' (\\xi_1) - f''' (\\xi_2) \\right)$$"
   ]
  },
  {
   "cell_type": "markdown",
   "metadata": {},
   "source": [
    "Using the big $O$ notation, this equation becomes:\n",
    "\n",
    "$$ f'(x) = \\frac{f(x+\\delta) - f(x-\\delta)}{2\\delta} + O(\\delta^2)$$"
   ]
  },
  {
   "cell_type": "markdown",
   "metadata": {},
   "source": [
    "><mark>The new approximation has $O(\\delta^2)$, which is much better than our previous $O(\\delta^2)$ for small values of $\\delta$.</mark>"
   ]
  },
  {
   "cell_type": "markdown",
   "metadata": {},
   "source": [
    "As shown in the methods below, this new approach offers a better performance than forward numerical differentiation.\n",
    "- You can explore the performance of the methods subject to different $\\delta$ values"
   ]
  },
  {
   "cell_type": "code",
   "execution_count": 15,
   "metadata": {},
   "outputs": [
    {
     "data": {
      "application/vnd.jupyter.widget-view+json": {
       "model_id": "a141ea51dfda438a801bb85330230207",
       "version_major": 2,
       "version_minor": 0
      },
      "text/plain": [
       "interactive(children=(BoundedFloatText(value=1.0, description='𝛿: ', max=1.0, min=1e-05), Output()), _dom_clas…"
      ]
     },
     "metadata": {},
     "output_type": "display_data"
    }
   ],
   "source": [
    "@interact\n",
    "def TestSin(𝛿 = widgets.BoundedFloatText(min=0.00001, max = 1, value=1,description='𝛿: ', continuous_update=False)):\n",
    "    Ex2 = Example2()\n",
    "    T = 100\n",
    "    a = np.linspace(0, 2*np.pi, T)\n",
    "    x = np.zeros((3,T))\n",
    "    y = np.zeros((3,T))\n",
    "\n",
    "    𝜖 = [-1000, -1000]\n",
    "    e = [0, 0]\n",
    "    for i in range(T):\n",
    "        for j in range(3):\n",
    "            x[j, i] = a[i]\n",
    "        y[0, i] = Ex2.get_diff(a[i])\n",
    "        y[1, i] = numDiff(Ex2, a[i], 𝛿)\n",
    "        y[2, i] = numDiffM(Ex2, a[i], 𝛿)\n",
    "        for j in range(2):\n",
    "            e[j] = np.abs(y[0, i]-y[j+1, i])\n",
    "            if e[j]>𝜖[j]:\n",
    "                𝜖[j]=e[j]\n",
    "\n",
    "    plotFigure(x, y, ['Analytical','Forward','Mean'], xlabel='x', ylabel='sin(x)')"
   ]
  },
  {
   "cell_type": "markdown",
   "metadata": {},
   "source": [
    "A log-log plot of the errora sseociated with these methods is presented below."
   ]
  },
  {
   "cell_type": "code",
   "execution_count": 16,
   "metadata": {},
   "outputs": [
    {
     "data": {
      "image/png": "[encoded data removed]",
      "text/plain": [
       "<Figure size 640x480 with 1 Axes>"
      ]
     },
     "metadata": {},
     "output_type": "display_data"
    }
   ],
   "source": [
    "def NDplot(Ex, ND, rng, Lgnd):\n",
    "    Ex2 = Example2()\n",
    "    T = 300\n",
    "    S = 100\n",
    "    N = len(ND)\n",
    "    a = np.logspace(rng[0], rng[1], T)\n",
    "    b = np.linspace(0, np.pi, S)\n",
    "    x = np.zeros((T,N))\n",
    "    y = np.zeros((T,N))\n",
    "    e = np.zeros(N)\n",
    "    for i in range(T):\n",
    "        𝛿 = a[i]\n",
    "        for j in range(N):\n",
    "            x[i,j] = 𝛿\n",
    "        for j in range(S):\n",
    "            for k in range(N):\n",
    "                e[k] = np.abs(Ex2.get_diff(b[j])-ND[k](Ex2, b[j], 𝛿))\n",
    "                if e[k]>y[i, k]:\n",
    "                    if e[k]!=0:\n",
    "                        y[i, k] = e[k]\n",
    "    plotloglog(x, y, Lgnd)\n",
    "\n",
    "NDplot(Example2(),[numDiff, numDiffM], [-10, -2], ['Forward', 'Mean'])"
   ]
  },
  {
   "cell_type": "markdown",
   "metadata": {},
   "source": [
    "[Back to top](#EEEN30101-Numerical-Analysis)"
   ]
  },
  {
   "cell_type": "markdown",
   "metadata": {},
   "source": [
    "It is important to note that the performance of the algorithm can be further improved.\n",
    "\n",
    "For example, as shown above, if the performance of the approximation can be improved by taking the mean of the forward and backward numerical approximation formulas, it makes sense that more advanced approaches to calculate mean values would lead to even better results."
   ]
  },
  {
   "cell_type": "markdown",
   "metadata": {},
   "source": [
    "Accordingly, let us take the five-point stencil, which is an estimation based on four points. We will select $f(x+\\delta)$, $f(x-\\delta)$, $f(x+2\\delta)$ and $f(x-2\\delta)$."
   ]
  },
  {
   "cell_type": "markdown",
   "metadata": {},
   "source": [
    "As before, let us use Taylor's theorem and big $O$ notation.\n",
    "\n",
    "$$ f(x \\pm \\delta) = f(x) \\pm \\delta f' (x) + \\frac{\\delta^2}{2} f''(x) \\pm \\frac{h^3}{6} f'''(x) + \\frac{h^4}{24}f''''(x) + O(h^5) $$\n",
    "\n",
    "$$ f(x \\pm 2\\delta) = f(x) \\pm 2\\delta f' (x) + \\delta^2 f''(x) \\pm \\frac{4h^3}{3} f'''(x) + \\frac{2h^4}{3}f''''(x) + O(h^5) $$"
   ]
  },
  {
   "cell_type": "markdown",
   "metadata": {},
   "source": [
    "The formulas can be rearranged and simplified as: \n",
    "    \n",
    "$$f(x+\\delta) - f(x-\\delta) = 2\\delta f'(x) + \\frac{\\delta^3}{3} f'''(x) + O(\\delta^5)$$\n",
    "\n",
    "$$f(x+2\\delta) - f(x-2\\delta) = 4\\delta f'(x) + \\frac{8\\delta^3}{3} f'''(x) + O(\\delta^5)$$"
   ]
  },
  {
   "cell_type": "markdown",
   "metadata": {},
   "source": [
    "Rearranging the equations and solving for $f'(x)$, we obtain:\n",
    "\n",
    "$$8[f(x+\\delta) - f(x-\\delta)] - [f(x+2\\delta) - f(x-2\\delta)] = 12\\delta f'(x) + O(\\delta^5)$$\n",
    "\n",
    "\n",
    "$$ f'(x) = \\frac{-f(x+2\\delta) + 8 f(x+\\delta) - 8 f(x-\\delta) + f(x-2\\delta)}{12\\delta} + O(\\delta^5)$$"
   ]
  },
  {
   "cell_type": "markdown",
   "metadata": {},
   "source": [
    "For convenience, we create a python method with this equation."
   ]
  },
  {
   "cell_type": "code",
   "execution_count": 17,
   "metadata": {},
   "outputs": [],
   "source": [
    "def numDiff5(Ex, x, 𝛿=0.0001):\n",
    "    '''Numerical differentiation'''\n",
    "    val0 = -Ex.get_value(x+2*𝛿)\n",
    "    val1 = 8*Ex.get_value(x+𝛿)   #Check\n",
    "    val2 = -8*Ex.get_value(x-𝛿)\n",
    "    val3 = Ex.get_value(x-2*𝛿)\n",
    "\n",
    "    return (val0+val1+val2+val3)/𝛿/12"
   ]
  },
  {
   "cell_type": "markdown",
   "metadata": {},
   "source": [
    "Test the impacts of the value of $\\delta$ on the accuracy of the different numerical differentiation approaches using the method below."
   ]
  },
  {
   "cell_type": "code",
   "execution_count": 18,
   "metadata": {},
   "outputs": [
    {
     "data": {
      "application/vnd.jupyter.widget-view+json": {
       "model_id": "d24aca959a9f4164ac30dbc3afe057b1",
       "version_major": 2,
       "version_minor": 0
      },
      "text/plain": [
       "interactive(children=(BoundedFloatText(value=1.0, description='𝛿: ', max=1.0, min=1e-05), Output()), _dom_clas…"
      ]
     },
     "metadata": {},
     "output_type": "display_data"
    }
   ],
   "source": [
    "@interact\n",
    "def TestDel(𝛿 = widgets.BoundedFloatText(min=0.00001, max = 1, value=1,description='𝛿: ', continuous_update=False)):\n",
    "    Ex2 = Example2()\n",
    "    T = 100\n",
    "    a = np.linspace(0, 2*np.pi, T)\n",
    "    x = np.zeros((4,T))\n",
    "    y = np.zeros((4,T))\n",
    "\n",
    "    𝜖 = [-1000, -1000, -1000]\n",
    "    e = [0, 0, 0]\n",
    "    for i in range(T):\n",
    "        for j in range(4):\n",
    "            x[j, i] = a[i]\n",
    "        y[0, i] = Ex2.get_diff(a[i])\n",
    "        y[1, i] = numDiff(Ex2, a[i], 𝛿)\n",
    "        y[2, i] = numDiffM(Ex2, a[i], 𝛿)\n",
    "        y[3, i] = numDiff5(Ex2, a[i], 𝛿)\n",
    "        for j in range(3):\n",
    "            e[j] = np.abs(y[0, i]-y[j+1, i])\n",
    "            if e[j]>𝜖[j]:\n",
    "                𝜖[j]=e[j]\n",
    "\n",
    "    plotFigure(x, y, ['Analytical','Forward','Mean','5point'], xlabel='x', ylabel='sin(x)')"
   ]
  },
  {
   "cell_type": "markdown",
   "metadata": {},
   "source": [
    "As shown below, this new approach further improves the accuracy of the numerical differentiation."
   ]
  },
  {
   "cell_type": "code",
   "execution_count": 19,
   "metadata": {},
   "outputs": [
    {
     "data": {
      "image/png": "[encoded data removed]",
      "text/plain": [
       "<Figure size 640x480 with 1 Axes>"
      ]
     },
     "metadata": {},
     "output_type": "display_data"
    }
   ],
   "source": [
    "NDplot(Example2(),[numDiff, numDiffM, numDiff5], [-10, -2], ['Forward', 'Mean', '5-Point'])"
   ]
  },
  {
   "cell_type": "markdown",
   "metadata": {},
   "source": [
    "[Back to top](#EEEN30101-Numerical-Analysis)"
   ]
  },
  {
   "cell_type": "markdown",
   "metadata": {},
   "source": [
    "## Numerical integration"
   ]
  },
  {
   "cell_type": "markdown",
   "metadata": {},
   "source": [
    "Numerical integration is an approach to approximate the value of an integral. Thats is, we use numerical integration to answer the following question:\n",
    "\n",
    "- How can we approximate the value of an integral without explicitly solving it?\n",
    "\n",
    "$$ \\int_a^b f(x)dx \\approx ? $$"
   ]
  },
  {
   "cell_type": "markdown",
   "metadata": {},
   "source": [
    "As a reminder, the integral of a function $f(x)$ within the limits $a$ and $b$ is the area under the curve within that interval.\n",
    "\n",
    "As an example:\n",
    "\n",
    "$$ \\int_2^8 x^2dx = \\frac{1}{3} \\left[ x^3 \\right]_2^8 = \\frac{1}{3} (8^3 - 2^3) = 168$$"
   ]
  },
  {
   "cell_type": "code",
   "execution_count": 20,
   "metadata": {},
   "outputs": [
    {
     "name": "stdout",
     "output_type": "stream",
     "text": [
      "The differential of  + 1.0000x^2 is  + 0.3333x^3\n",
      "Its value within the range 2.0000 - 8.0000 is 168.0000\n"
     ]
    }
   ],
   "source": [
    "def intPoly(K, a, b):\n",
    "    '''Integrate polynomial'''\n",
    "    N = len(K)\n",
    "    ik = np.zeros(N+1)\n",
    "    for i in range(N):\n",
    "        ik[i+1] = K[i]/(i+1)\n",
    "    \n",
    "    ex = Example1(ik)\n",
    "    v = ex.get_value([a, b])\n",
    "    Iv = v[1]-v[0]\n",
    "    \n",
    "    return ik, Iv, ex\n",
    "\n",
    "K = [0, 0, 1]\n",
    "a = 2\n",
    "b = 8\n",
    "Ex1 = Example1(K)\n",
    "dK, Iv, Ex2 = intPoly(K, a, b)\n",
    "print('The differential of %s is %s'%(Ex1.get_prnt(), Ex2.get_prnt()))\n",
    "print('Its value within the range %6.4f - %6.4f is %6.4f'%(a, b, Iv))"
   ]
  },
  {
   "cell_type": "markdown",
   "metadata": {},
   "source": [
    "A figure showing this integral is presented below."
   ]
  },
  {
   "cell_type": "code",
   "execution_count": 21,
   "metadata": {},
   "outputs": [
    {
     "name": "stdout",
     "output_type": "stream",
     "text": [
      "Integral of f(x) =  + 1.0000x^2\n",
      "In the range 2 - 8\n"
     ]
    },
    {
     "data": {
      "image/png": "[encoded data removed]",
      "text/plain": [
       "<Figure size 640x480 with 1 Axes>"
      ]
     },
     "metadata": {},
     "output_type": "display_data"
    }
   ],
   "source": [
    "def plotArea(Ex, a, b, rng):\n",
    "    x = np.arange(rng[0],rng[1],1/40)\n",
    "    fig, ax = plt.subplots()\n",
    "    ax.plot(x,Ex.get_value(x))\n",
    "    ax.fill_between(x= x, y1= Ex.get_value(x), where= (a < x)&(x < b), color= \"b\", alpha= 0.2)\n",
    "    ax.set(xlabel='x', ylabel='f(x)')\n",
    "    print('Integral of f(x) = ' + Ex.get_prnt())\n",
    "    print('In the range %d - %d'%(a, b))\n",
    "    return ax \n",
    "\n",
    "ax = plotArea(Example1([0, 0, 1]), 2, 8, [0, 10])\n",
    "plt.show()"
   ]
  },
  {
   "cell_type": "markdown",
   "metadata": {},
   "source": [
    "><mark>Numerical integration can be used to approximate the area under a function $f(x)$ within two points ($a$ and $b$).</mark>"
   ]
  },
  {
   "cell_type": "markdown",
   "metadata": {},
   "source": [
    "[Back to top](#EEEN30101-Numerical-Analysis)"
   ]
  },
  {
   "cell_type": "markdown",
   "metadata": {},
   "source": [
    "### Rectangular (midpoint) rule"
   ]
  },
  {
   "cell_type": "markdown",
   "metadata": {},
   "source": [
    "Our first attempt to approximate this area is by dividing this area as a group of rectangles."
   ]
  },
  {
   "cell_type": "code",
   "execution_count": 22,
   "metadata": {},
   "outputs": [
    {
     "name": "stdout",
     "output_type": "stream",
     "text": [
      "Integral of f(x) =  + 1.0000x^2\n",
      "In the range 2 - 8\n"
     ]
    },
    {
     "data": {
      "image/png": "[encoded data removed]",
      "text/plain": [
       "<Figure size 640x480 with 1 Axes>"
      ]
     },
     "metadata": {},
     "output_type": "display_data"
    }
   ],
   "source": [
    "def getMidpoint(Ex, a, b, 𝛿):\n",
    "    N = int((b-a)/𝛿)\n",
    "    v = np.zeros(N)\n",
    "    ar = np.zeros(N)\n",
    "    for i in range(N):\n",
    "        v[i] = Ex.get_value([a+(i+0.5)*𝛿])\n",
    "\n",
    "    for i in range(N):\n",
    "        ar[i] = v[i]*𝛿\n",
    "\n",
    "    A = sum(ar)\n",
    "    return (v, ar, A)\n",
    "\n",
    "def plotAreaR(Ex, a, b, 𝛿):\n",
    "    ax = plotArea(Ex, a, b, [0, 10])\n",
    "    v, _, _ = getMidpoint(Ex, a, b, 𝛿)\n",
    "    aux = [0, 0, 1, 1, 0]\n",
    "    j = 0\n",
    "    x = np.zeros(int(4*(b-a)/𝛿))\n",
    "    y = np.zeros(int(4*(b-a)/𝛿))\n",
    "    for i in range(int((b-a)/𝛿)):\n",
    "        for k in range(4):\n",
    "            x[j] = a+(i+aux[k])*𝛿\n",
    "            y[j] = v[i]*aux[k+1]\n",
    "            j += 1\n",
    "    ax.plot(x, y)\n",
    "    plt.show()\n",
    "\n",
    "Ex = Example1([0, 0, 1])\n",
    "𝛿 = 2\n",
    "a = 2\n",
    "b = 8\n",
    "plotAreaR(Ex, a, b, 𝛿)"
   ]
  },
  {
   "cell_type": "markdown",
   "metadata": {},
   "source": [
    "Based on this approximation, the area of each rectangle can be defined as:\n",
    "\n",
    "$$ A_k = (x_{k+1} - x_{k})f(x_k) = \\delta f(x_k)$$\n",
    "\n",
    "Where:\n",
    "- $f(x_k)$ is the height of a rectangle, i.e., the value of the function at point $x_k$ which is in the middle of each rectangle\n",
    "- $\\delta$ is the length of the rectanle, i.e, the difference between two consecutive points ($x_k$ and $x_{k+1}$)"
   ]
  },
  {
   "cell_type": "markdown",
   "metadata": {},
   "source": [
    "Using this formula, the integral can be estimated as the sum of all rectangles within the same range (assume $n$ rectangles fit under the curve).\n",
    "\n",
    "$$ \\int_a^b f(x)dx \\approx \\sum_{k=0}^{k=n-1} A_k \\approx \\delta \\sum_{k=0}^{k=n-1} f_k$$"
   ]
  },
  {
   "cell_type": "code",
   "execution_count": 23,
   "metadata": {},
   "outputs": [
    {
     "name": "stdout",
     "output_type": "stream",
     "text": [
      "Numerical integration - Midpoint\n",
      "Area: 166.0000\n",
      "Number of rectangles: 3\n",
      "Area per rectangle\n",
      " 18.0000\n",
      " 50.0000\n",
      " 98.0000\n"
     ]
    }
   ],
   "source": [
    "def printAreas(Ex, gt, a, b, 𝛿, legend1='Midpoint', legend2='rectangle'):\n",
    "    v, ar, A = gt(Ex, a, b, 𝛿)\n",
    "    N = len(ar)\n",
    "    print('Numerical integration - %s'%legend1)\n",
    "    print('Area: %.4f'%A)\n",
    "    print('Number of %ss: %d'%(legend2, N))\n",
    "    print('Area per %s'%legend2)\n",
    "    for i in range(N):\n",
    "        print('%8.4f'%ar[i])\n",
    "\n",
    "printAreas(Ex, getMidpoint, 2, 8, 2)"
   ]
  },
  {
   "cell_type": "markdown",
   "metadata": {},
   "source": [
    "Based on the big $O$ notation, we can rewrite this equation as follows.\n",
    "\n",
    "$$ \\int_a^b f(x)dx = \\delta \\sum_{k=0}^{k=n-1} f_k + O(\\delta)$$"
   ]
  },
  {
   "cell_type": "markdown",
   "metadata": {},
   "source": [
    "The term $O(\\delta)$ highlights the accuracy of the model, which could be improved.\n",
    "\n",
    "You may nottice that, an option to improve the accuracy of our approximation is to use more rectanlges (e.g., lower values of $\\delta$)."
   ]
  },
  {
   "cell_type": "code",
   "execution_count": 24,
   "metadata": {},
   "outputs": [
    {
     "data": {
      "application/vnd.jupyter.widget-view+json": {
       "model_id": "1946b64ed1294bae9e3de4f94d80ae02",
       "version_major": 2,
       "version_minor": 0
      },
      "text/plain": [
       "interactive(children=(BoundedFloatText(value=0.5, description='𝛿: ', max=1.0, min=0.1), Output()), _dom_classe…"
      ]
     },
     "metadata": {},
     "output_type": "display_data"
    }
   ],
   "source": [
    "@interact\n",
    "def TestMid(𝛿 = widgets.BoundedFloatText(min=0.1, max = 1, value=0.5,description='𝛿: ', continuous_update=False)):\n",
    "    plotAreaR(Example1([0, 0, 1]), 2, 8, 𝛿)\n",
    "    printAreas(Example1([0, 0, 1]), getMidpoint, 2, 8, 𝛿)"
   ]
  },
  {
   "cell_type": "markdown",
   "metadata": {},
   "source": [
    "Decreasing $\\delta$ is a good option to improve the accuracy of the algorithm, but we could do better with other approaches, e.g., using other geometrical shapes or curves to approximate the function."
   ]
  },
  {
   "cell_type": "markdown",
   "metadata": {},
   "source": [
    "><mark>The rectangular rule consists on approximating the area under a function ($f(x)$) with a series of rectangles.</mark>"
   ]
  },
  {
   "cell_type": "markdown",
   "metadata": {},
   "source": [
    "[Back to top](#EEEN30101-Numerical-Analysis)"
   ]
  },
  {
   "cell_type": "markdown",
   "metadata": {},
   "source": [
    "### Trapezoidal rule"
   ]
  },
  {
   "cell_type": "markdown",
   "metadata": {},
   "source": [
    "As the name suggests, the trapezoidal rule involves estimating the area under a function (i.e., value of an integral) with a series of trapeziums.\n",
    "\n",
    "An application of the trapezoidal rule is presented below."
   ]
  },
  {
   "cell_type": "code",
   "execution_count": 25,
   "metadata": {},
   "outputs": [
    {
     "name": "stdout",
     "output_type": "stream",
     "text": [
      "Integral of f(x) =  + 1.0000x^2\n",
      "In the range 2 - 8\n"
     ]
    },
    {
     "data": {
      "image/png": "[encoded data removed]",
      "text/plain": [
       "<Figure size 640x480 with 1 Axes>"
      ]
     },
     "metadata": {},
     "output_type": "display_data"
    }
   ],
   "source": [
    "def getTrapezoid(Ex, a, b, 𝛿):\n",
    "    N = int((b-a)/𝛿)+1\n",
    "    v = np.zeros(N)\n",
    "    ar = np.zeros(N-1)\n",
    "    for i in range(N):\n",
    "        v[i] = Ex.get_value([a+i*𝛿])\n",
    "\n",
    "    for i in range(N-1):\n",
    "        ar[i] = v[i]*𝛿 + (v[i+1]-v[i])*𝛿/2\n",
    "        \n",
    "    A = sum(ar)\n",
    "    return (v, ar, A)\n",
    "\n",
    "def plotAreaT(Ex, a, b, 𝛿):\n",
    "    ax = plotArea(Ex, a, b, [0, 10])\n",
    "    v, _, _ = getTrapezoid(Ex, a, b, 𝛿)\n",
    "    aux = [0, 0, 1, 1, 0]\n",
    "    j = 0\n",
    "    x = np.zeros(int(4*(b-a)/𝛿))\n",
    "    y = np.zeros(int(4*(b-a)/𝛿))\n",
    "    for i in range(int((b-a)/𝛿)):\n",
    "        for k in range(4):\n",
    "            x[j] = a+(i+aux[k])*𝛿\n",
    "            y[j] = v[i+aux[k]]*aux[k+1]\n",
    "            j += 1\n",
    "    ax.plot(x, y)\n",
    "    plt.show()\n",
    "\n",
    "plotAreaT(Example1([0, 0, 1]), 2, 8, 3)"
   ]
  },
  {
   "cell_type": "markdown",
   "metadata": {},
   "source": [
    "The area of each trapezium can be calculated as the combined area of a rectingle of height $f_k$ and a triangle of height $(f_{k+1}-f_k)$. Both figures have a length of $\\delta$ (i.e., $(x_{k+1} - x_{k}$):\n",
    "\n",
    "$$ A_k = \\delta f_k + \\delta\\frac{f_{k+1}-f_k}{2} = \\delta\\frac{f_{k+1}+f_k}{2}$$"
   ]
  },
  {
   "cell_type": "markdown",
   "metadata": {},
   "source": [
    "Using the equation above, the integral can be approximated as the sum of a series of trapeziums. The formula can be simplifed as:"
   ]
  },
  {
   "cell_type": "markdown",
   "metadata": {},
   "source": [
    "$$\n",
    "\\begin{aligned}\n",
    "  \\int_a^b f(x)dx & = \\sum_{k=0}^{k=n-1} A_k \\\\\n",
    "  & = \\delta \\left( \\frac{f_0+f_1}{2} +  \\frac{f_1+f_2}{2} + \\cdots +  \\frac{f_{n-2}+f_{n-1}}{2} +  \\frac{f_{n-1}+f_n}{2} \\right)\\\\\n",
    "  & = \\delta \\left( \\frac{f_0}{2} +  \\sum_{k=1}^{k=n-1} f_k + \\frac{f_n}{2} \\right)\n",
    "\\end{aligned}\n",
    "$$"
   ]
  },
  {
   "cell_type": "code",
   "execution_count": 26,
   "metadata": {},
   "outputs": [
    {
     "name": "stdout",
     "output_type": "stream",
     "text": [
      "Numerical integration - Trapezoid\n",
      "Area: 177.0000\n",
      "Number of trapeziums: 2\n",
      "Area per trapezium\n",
      " 43.5000\n",
      "133.5000\n"
     ]
    }
   ],
   "source": [
    "printAreas(Example1([0, 0, 1]), getTrapezoid, 2, 8, 3, 'Trapezoid', 'trapezium')"
   ]
  },
  {
   "cell_type": "code",
   "execution_count": 27,
   "metadata": {},
   "outputs": [
    {
     "name": "stdout",
     "output_type": "stream",
     "text": [
      "Area according to the formula: 169.0000\n"
     ]
    }
   ],
   "source": [
    "def simpTrap(Ex, a, b, 𝛿):\n",
    "    v, _, _ = getTrapezoid(Ex, a, b, 𝛿)\n",
    "    N = len(v)\n",
    "    A = 𝛿*(v[0]/2 + sum(v[1:N-1]) + v[N-1]/2)\n",
    "\n",
    "    return A\n",
    "\n",
    "A = simpTrap(Example1([0, 0, 1]), 2, 8, 1)\n",
    "print('Area according to the formula: %6.4f'%A)"
   ]
  },
  {
   "cell_type": "markdown",
   "metadata": {},
   "source": [
    "It can be shown (using Taylor's expansions and big $O$ notation) that the last equation is equivalent to:"
   ]
  },
  {
   "cell_type": "markdown",
   "metadata": {},
   "source": [
    "$$ \\int_a^b f(x)dx = \\delta \\left( \\frac{f_0}{2} +  \\sum_{k=1}^{k=n-1} f_k + \\frac{f_n}{2} \\right) + O(\\delta^2)$$"
   ]
  },
  {
   "cell_type": "markdown",
   "metadata": {},
   "source": [
    "The error can be calculated as:\n",
    "\n",
    "$$ \\epsilon = \\frac{\\delta ^2}{12} (b-a) f'' (\\xi)$$\n",
    "\n",
    "For some $a \\leq \\xi \\leq b$.\n",
    "\n",
    "Note that the error of the trapezoildal rule is smaller ($O(\\delta^2)$) than the error of the rectangular rule ($O(\\delta)$) for small values of $\\delta$."
   ]
  },
  {
   "cell_type": "code",
   "execution_count": 28,
   "metadata": {},
   "outputs": [
    {
     "data": {
      "application/vnd.jupyter.widget-view+json": {
       "model_id": "e41ab0ca3ec14d6590022c304d490af7",
       "version_major": 2,
       "version_minor": 0
      },
      "text/plain": [
       "interactive(children=(BoundedFloatText(value=0.5, description='𝛿: ', max=3.0, min=0.1), Output()), _dom_classe…"
      ]
     },
     "metadata": {},
     "output_type": "display_data"
    }
   ],
   "source": [
    "@interact\n",
    "def TestTrap(𝛿 = widgets.BoundedFloatText(min=0.1, max = 3, value=0.5,description='𝛿: ', continuous_update=False)):\n",
    "    plotAreaT(Example1([0, 0, 1]), 2, 8, 𝛿)\n",
    "    printAreas(Example1([0, 0, 1]), getTrapezoid, 2, 8, 𝛿, 'Trapezoid', 'trapezium')\n",
    "    A = simpTrap(Example1([0, 0, 1]), 2, 8, 𝛿)\n",
    "    print('Area according to the formula: %6.4f'%A)"
   ]
  },
  {
   "cell_type": "markdown",
   "metadata": {},
   "source": [
    "><mark>The trapezoidal rule consists on approximating the area under a function ($f(x)$) with a series of trapeziums.</mark>"
   ]
  },
  {
   "cell_type": "markdown",
   "metadata": {},
   "source": [
    "[Back to top](#EEEN30101-Numerical-Analysis)"
   ]
  },
  {
   "cell_type": "markdown",
   "metadata": {},
   "source": [
    "### Simpson's rule"
   ]
  },
  {
   "cell_type": "markdown",
   "metadata": {},
   "source": [
    "So far, we have used rectangles and trapeziums to approximate the value of an integral. This time, based on Simpson's rule, we will use second order polynomials ($p_2(x)$).\n",
    "\n",
    "Considering that quadratic equations include three parameters ($A + Bx + Cx^2$), three points are needed to fit each equation. See below an example of a quadratic equation fitted to three points:"
   ]
  },
  {
   "cell_type": "code",
   "execution_count": 29,
   "metadata": {},
   "outputs": [
    {
     "data": {
      "application/vnd.jupyter.widget-view+json": {
       "model_id": "0ef0cc2071234872af8c7e6e44132f46",
       "version_major": 2,
       "version_minor": 0
      },
      "text/plain": [
       "interactive(children=(BoundedFloatText(value=6.0, description='y1: ', max=10.0, min=-10.0), BoundedFloatText(v…"
      ]
     },
     "metadata": {},
     "output_type": "display_data"
    }
   ],
   "source": [
    "def fitQuad(x, 𝛿, y):\n",
    "    '''Fit quadratic equation to inputs'''\n",
    "    C = (y[0] - 2*y[1] + y[2])/(2*𝛿**2)\n",
    "    B = (y[2] - y[1] - 2*C*x*𝛿 - C*𝛿**2)/𝛿\n",
    "    A = y[1] - B*x - C*x**2\n",
    "\n",
    "    return [A, B, C]\n",
    "\n",
    "@interact\n",
    "def TestFit(y1 = widgets.BoundedFloatText(min=-10, max = 10, value=6,description='y1: ', continuous_update=False),\n",
    "                 y2 = widgets.BoundedFloatText(min=-10, max = 10, value=7,description='y2: ', continuous_update=False),\n",
    "                 y3 = widgets.BoundedFloatText(min=-10, max = 10, value=4,description='y3: ', continuous_update=False),\n",
    "                ):\n",
    "    K = fitQuad(2, 1, [y1, y2, y3])\n",
    "    P2 = Example1(K)\n",
    "    print('p2(x) = ' + P2.get_prnt())\n",
    "    for i in range(3):\n",
    "        print('p2(%d) = %.4f'%(i+1, P2.get_value([i+1])))"
   ]
  },
  {
   "cell_type": "markdown",
   "metadata": {},
   "source": [
    "Let us show how the fit looks like in a figure:"
   ]
  },
  {
   "cell_type": "code",
   "execution_count": 30,
   "metadata": {},
   "outputs": [
    {
     "name": "stdout",
     "output_type": "stream",
     "text": [
      "Integral of f(x) =  + 1.0000 + 7.0000x - 2.0000x^2\n",
      "In the range 1 - 3\n"
     ]
    },
    {
     "data": {
      "image/png": "[encoded data removed]",
      "text/plain": [
       "<Figure size 640x480 with 1 Axes>"
      ]
     },
     "metadata": {},
     "output_type": "display_data"
    },
    {
     "name": "stdout",
     "output_type": "stream",
     "text": [
      "Quadratic curve fit to the points:\n",
      "[1, 6]\n",
      "[2, 7]\n",
      "[3, 4]\n"
     ]
    }
   ],
   "source": [
    "def getSimpson(Ex, a, b, 𝛿):\n",
    "    N = int((b-a)/𝛿/2)\n",
    "    v = np.zeros((N, 5))\n",
    "    ar = np.zeros(N)\n",
    "    k = a+𝛿\n",
    "    for i in range(N):\n",
    "        v[i,:3] = fitQuad(k, 𝛿, Ex.get_value([k-𝛿, k, k+𝛿]))\n",
    "        v[i,3:5] = [k-𝛿, k+𝛿]\n",
    "        _, ar[i], _ = intPoly(v[i,:3], k-𝛿, k+𝛿)\n",
    "        k += 2*𝛿\n",
    "\n",
    "    A = sum(ar)\n",
    "    return (v, ar, A)\n",
    "\n",
    "def plotAreaS(Ex, a, b, 𝛿, rng=[1, 10], T=10):\n",
    "    ax = plotArea(Ex, a, b, rng)\n",
    "    v, _, _ = getSimpson(Ex, a, b, 𝛿)\n",
    "    i = 0\n",
    "    j = 0\n",
    "    x = np.zeros(int((b-a)/𝛿*T))\n",
    "    y = np.zeros(int((b-a)/𝛿*T))\n",
    "    for ii in range(int((b-a)/𝛿/2)):\n",
    "        K = v[ii, :3]\n",
    "        P2 = Example1(K)\n",
    "        for iii in range(2):\n",
    "            x[j] = a+i*𝛿\n",
    "            y[j] = 0\n",
    "            j += 1\n",
    "            for k in range(T-2):\n",
    "                x[j] = a + i*𝛿 + k*𝛿/(T-3)\n",
    "                y[j] = P2.get_value([x[j]])\n",
    "                j += 1\n",
    "            x[j] = a+(i+1)*𝛿\n",
    "            y[j] = 0\n",
    "            j += 1\n",
    "            i += 1\n",
    "    ax.plot(x, y)\n",
    "    return ax\n",
    "\n",
    "k = 2\n",
    "𝛿 = 1\n",
    "fk = [6, 7, 4]\n",
    "Ex = Example1(fitQuad(k, 𝛿, fk))\n",
    "ax = plotAreaS(Ex, k-𝛿, k+𝛿, 𝛿, [1, 3])\n",
    "ax.plot([k-𝛿, k, k+𝛿], fk, '*')\n",
    "ax.text(k-𝛿, fk[0], 'fk-1')\n",
    "ax.text(k, fk[1], 'fk')\n",
    "ax.text(k+𝛿, fk[2], 'fk+1')\n",
    "ax.text(k-𝛿/2, fk[1]/2, 'Ak-1')\n",
    "ax.text(k+𝛿/2, fk[1]/2, 'Ak')\n",
    "plt.show()\n",
    "\n",
    "print('Quadratic curve fit to the points:')\n",
    "print('[%d, %d]'%(k-𝛿, fk[0]))\n",
    "print('[%d, %d]'%(k, fk[1]))\n",
    "print('[%d, %d]'%(k+𝛿, fk[2]))"
   ]
  },
  {
   "cell_type": "markdown",
   "metadata": {},
   "source": [
    "[Back to top](#EEEN30101-Numerical-Analysis)"
   ]
  },
  {
   "cell_type": "markdown",
   "metadata": {},
   "source": [
    "As shown in the figure above:\n",
    "\n",
    "\n",
    "$$\n",
    "p_2(x) =\n",
    "\\left\\{ \n",
    "  \\begin{array}{ c l }\n",
    "    f_{k-1} & \\quad \\textrm{when} \\; x = x_k - \\delta \\\\\n",
    "    f_k & \\quad \\textrm{when} \\; x = x_k\\\\\n",
    "    f_{k+1} & \\quad \\textrm{when} \\; x = x_k + \\delta\n",
    "  \\end{array}\n",
    "\\right.$$"
   ]
  },
  {
   "cell_type": "markdown",
   "metadata": {},
   "source": [
    "Based on the figure, it can also be seen that the area under the function $p_2(x)$:\n",
    "- between $x_k-\\delta$ and $x_k$ is called $A_{k-1}$ and \n",
    "- between $x_k$ and $x_k+\\delta$ is called $A_k$\n",
    "\n",
    "Accordingly, Simpson's rule assumes that the integral of $f(x)$ can be approximated as:\n",
    "\n",
    "$$ \\int_{x_k-\\delta}^{x_k+\\delta} p_2(x)dx = A_{k-1} + A_{k}$$"
   ]
  },
  {
   "cell_type": "markdown",
   "metadata": {},
   "source": [
    "Using the same example used in previous sections:\n",
    "\n",
    "$$ f(x) = x^2$$"
   ]
  },
  {
   "cell_type": "code",
   "execution_count": 31,
   "metadata": {},
   "outputs": [
    {
     "name": "stdout",
     "output_type": "stream",
     "text": [
      "Integral of f(x) =  + 1.0000x^2\n",
      "In the range 2 - 8\n"
     ]
    },
    {
     "data": {
      "image/png": "[encoded data removed]",
      "text/plain": [
       "<Figure size 640x480 with 1 Axes>"
      ]
     },
     "metadata": {},
     "output_type": "display_data"
    },
    {
     "name": "stdout",
     "output_type": "stream",
     "text": [
      "Numerical integration - Simpsons\n",
      "Area: 168.0000\n",
      "Number of shapes: 3\n",
      "Area per shape\n",
      " 18.6667\n",
      " 50.6667\n",
      " 98.6667\n"
     ]
    }
   ],
   "source": [
    "ax = plotAreaS(Example1([0, 0, 1]), 2, 8, 1, [1, 10])\n",
    "plt.show()\n",
    "printAreas(Example1([0, 0, 1]), getSimpson, 2, 8, 1, 'Simpsons', 'shape')"
   ]
  },
  {
   "cell_type": "markdown",
   "metadata": {},
   "source": [
    "Conveniently, there is a general approach to fit the quadratic functions $p2(x)$ required to apply Simpson's rule based on the nomenclature we introduced above:\n",
    "\n",
    "$$\n",
    "\\begin{aligned}\n",
    "  p_2(x) & = f_{k-1} \\frac{(x-x_k)(x-x_k-\\delta)}{2\\delta^2} + f_k \\frac{(x-x_k-\\delta)(x-x_k+\\delta)}{-\\delta^2} + f_{k+1} \\frac{(x-x_k)(x-x_k+\\delta)}{2\\delta^2}\\\\\n",
    "  & = \\frac{f_{k-1}-2f_k + f_{k+1}}{2\\delta^2}(x-x_k)^2 + \\frac{f_{k+1}-f_{k-1}}{2\\delta}(x-x_k) + f_k\n",
    "\\end{aligned}\n",
    "$$"
   ]
  },
  {
   "cell_type": "markdown",
   "metadata": {},
   "source": [
    "Accordingly, we can integrate $p_2(x)$ as follows:\n",
    "\n",
    "$$\n",
    "\\begin{aligned}\n",
    "  \\int_{x_k-\\delta}^{x_k+\\delta} p_2(x)dx & = A_{k-1} + A_{k}\\\\\n",
    "  & = \\int_{x_k-\\delta}^{x_k+\\delta} \\left( \\frac{f_{k-1}-2f_k + f_{k+1}}{2\\delta^2}(x-x_k)^2 + \\frac{f_{k+1}-f_{k-1}}{2\\delta}(x-x_k) + f_k \\right) dx \\\\\n",
    "  & = \\int_{-\\delta}^{\\delta} \\left( \\frac{f_{k-1}-2f_k + f_{k+1}}{2\\delta^2}x^2 + \\frac{f_{k+1}-f_{k-1}}{2\\delta}x + f_k \\right) dx \\\\\n",
    "  & = \\frac{f_{k-1}-2f_k + f_{k+1}}{2\\delta^2} \\left[ \\frac{1}{3}x^3 \\right]^\\delta _{-\\delta} + \\frac{f_{k+1}-f_{k-1}}{2\\delta} \\left[ \\frac{1}{2}x^2 \\right]^\\delta _{-\\delta} + f_k [x]^\\delta _{-\\delta} \\\\\n",
    "  & = \\frac{f_{k-1}-2f_k + f_{k+1}}{2\\delta^2} \\frac{1}{3}\\left[ \\delta^3 - (-\\delta)^3\\right] + \\frac{f_{k+1}-f_{k-1}}{2\\delta} \\frac{1}{2}\\left[ \\delta^2 - (-\\delta)^2 \\right] + f_k [\\delta - (-\\delta)] \\\\\n",
    "  & = \\frac{f_{k-1}-2f_k + f_{k+1}}{2\\delta^2} \\frac{2 \\delta^3}{3} + 0 + 2f_k \\delta \\\\\n",
    "  & = (f_{k-1}-2f_k + f_{k+1})\\frac{\\delta}{3} + 2f_k \\\\\n",
    "  & = \\frac{\\delta}{3}f_{k-1} + \\frac{4\\delta}{3}f_k + \\frac{\\delta}{3}f_{k+1} \\\\\n",
    "  & = \\frac{\\delta}{3} \\left( f_{k-1} + 4f_k + f_{k+1} \\right)\n",
    "\\end{aligned}\n",
    "$$"
   ]
  },
  {
   "cell_type": "markdown",
   "metadata": {},
   "source": [
    "Now that we can approximate the value of the integral of $f(x)$ within a small range ($x_k - \\delta$ to $x_k + \\delta$), we can calculate the value for the full range $a$ to $b$ as follows:\n",
    "\n",
    "$$\n",
    "\\begin{aligned}\n",
    "  \\int_{a}^{b} f(x)dx & = (A_0 + A_1) + (A_2 + A_3) + \\cdots + (A_{n-2} + A_{n-1})\\\\\n",
    "  & =  \\frac{\\delta}{3} \\left[ (f_0 + 4f_1 + f_2) + (f_2 + 4f_3 + f_4) + \\cdots + (f_{n-2} + 4f_{n-1} + f_n) \\right] \\\\\n",
    "  & =  \\frac{\\delta}{3} \\left[ f_0 + f_n + 4 \\sum _{k \\; even}f_k + 2 \\sum _{k \\; odd}f_k \\right]\n",
    "\\end{aligned}\n",
    "$$\n",
    "\n",
    "\n",
    "Note that, as we need 3 points to fit the quadratic curves, we need $n$ to be an even number for this approximation."
   ]
  },
  {
   "cell_type": "code",
   "execution_count": 32,
   "metadata": {},
   "outputs": [
    {
     "name": "stdout",
     "output_type": "stream",
     "text": [
      "Area according to the formula: 168.0000\n"
     ]
    }
   ],
   "source": [
    "def simpSimp(Ex, a, b, 𝛿):\n",
    "    v, _, _ = getTrapezoid(Ex, a, b, 𝛿)\n",
    "    N = len(v)\n",
    "    w = v[1:N-1]\n",
    "    A = 𝛿/3*(v[0] + v[N-1] + 4*sum(w[0::2]) + 2*sum(w[1::2]))\n",
    "\n",
    "    return A\n",
    "\n",
    "A = simpSimp(Example1([0, 0, 1]), 2, 8, 0.5)\n",
    "print('Area according to the formula: %6.4f'%A)"
   ]
  },
  {
   "cell_type": "markdown",
   "metadata": {},
   "source": [
    "If we were to explore the equation (e.g., using Taylor's theorem and big $O$ notation), we would find out that the approximation is $O(h^4)$, and the error is:\n",
    "\n",
    "$$ \\epsilon = \\frac{\\delta^4}{180}(b-a)f''''(\\xi) $$\n",
    "\n",
    "For some $a \\leq \\xi \\leq b$"
   ]
  },
  {
   "cell_type": "code",
   "execution_count": 33,
   "metadata": {},
   "outputs": [
    {
     "data": {
      "application/vnd.jupyter.widget-view+json": {
       "model_id": "6540ed6a0cd0493993e31e8e448e7fb4",
       "version_major": 2,
       "version_minor": 0
      },
      "text/plain": [
       "interactive(children=(BoundedFloatText(value=0.5, description='𝛿: ', max=3.0, min=0.1), Output()), _dom_classe…"
      ]
     },
     "metadata": {},
     "output_type": "display_data"
    }
   ],
   "source": [
    "@interact\n",
    "def TestSimp(𝛿 = widgets.BoundedFloatText(min=0.1, max = 3, value=0.5,description='𝛿: ', continuous_update=False)):\n",
    "    ax = plotAreaS(Example1([0, 0, 1]), 2, 8, 𝛿, [1, 10])\n",
    "    plt.show()\n",
    "    printAreas(Example1([0, 0, 1]), getSimpson, 2, 8, 𝛿, 'Simpsons', 'shape')\n",
    "    A = simpSimp(Example1([0, 0, 1]), 2, 8, 0.5)\n",
    "    print('Area according to the formula: %6.4f'%A)"
   ]
  },
  {
   "cell_type": "markdown",
   "metadata": {},
   "source": [
    "><mark>Simpson's rule consists on approximating a function ($f(x)$) with a series of quadratic functions ($p_2$) which are easy to integrate.</mark>"
   ]
  },
  {
   "cell_type": "markdown",
   "metadata": {},
   "source": [
    "[Back to top](#EEEN30101-Numerical-Analysis)"
   ]
  },
  {
   "cell_type": "markdown",
   "metadata": {},
   "source": [
    "### Richardson extrapolation"
   ]
  },
  {
   "cell_type": "markdown",
   "metadata": {},
   "source": [
    "In addition to the numerical integration methods presented above, there are many other approaches that can be used for numerical integration. Some of these approaches use mathematical tricks to better approximate the areas under the functions $f$ such as Richardson extrapolation.\n",
    "\n",
    "Richardson extrapolation is a method that can be used to reduce the error of an approximation (as long as the order of the error is known).\n",
    "\n",
    "For example, this method can be used to improve the trapezoidal rule (linear approximation of $f(x)$) to produce Simpson's rule (quadratic approximation of $f(x)$)."
   ]
  },
  {
   "cell_type": "markdown",
   "metadata": {},
   "source": [
    "Let us begin with a representation of the trapezoidal rule and its error:"
   ]
  },
  {
   "cell_type": "markdown",
   "metadata": {},
   "source": [
    "$$\n",
    "\\begin{aligned}\n",
    "  \\int_{a}^{b} f(x)dx  & = \\underbrace{\\quad I_T(\\delta) \\quad} & + \\quad \\underbrace{\\epsilon_T(\\delta)}\\\\\n",
    "   & \\quad \\text{Trapezoidal} & \\quad \\text{Error}\n",
    "\\end{aligned}\n",
    "$$"
   ]
  },
  {
   "cell_type": "markdown",
   "metadata": {},
   "source": [
    "We can replace $I_T(\\delta)$ and $E_T(\\delta)$ with their corresponding formulas. Remember that we developed these formulats in previous sections of this notebook."
   ]
  },
  {
   "cell_type": "markdown",
   "metadata": {},
   "source": [
    "$$ I_T(\\delta) = \\delta \\left[ \\frac{f(a)}{2} + f(a+\\delta) + \\cdots + f(b-\\delta) + \\frac{f(b)}{2} \\right] $$\n",
    "\n",
    "$$ \\epsilon_T(\\delta) = \\frac{-(b-a)^2}{12} \\delta^2 f''(\\xi) $$\n",
    "\n",
    "For some $a \\leq \\xi \\leq b$"
   ]
  },
  {
   "cell_type": "markdown",
   "metadata": {},
   "source": [
    "We will apply these equations with two different small values of $\\delta$, namely $\\delta_1$ and $\\delta_2$."
   ]
  },
  {
   "cell_type": "markdown",
   "metadata": {},
   "source": [
    "$$ \\int_{a}^{b} f(x)dx = I_T(\\delta_1) + \\epsilon_T(\\delta_1) = I_T(\\delta_2) + \\epsilon_T(\\delta_2)$$"
   ]
  },
  {
   "cell_type": "markdown",
   "metadata": {},
   "source": [
    "The equations can be solved to obtain the ratio of their expected errors. Also, it is assumed that $f''(\\xi_1)/f''(\\xi_2) \\approx 1$."
   ]
  },
  {
   "cell_type": "markdown",
   "metadata": {},
   "source": [
    "$$\n",
    "\\begin{aligned}\n",
    "  \\frac{\\epsilon_T(\\delta_1)}{\\epsilon_T(\\delta_2)} & = \\frac{\\delta_1^2 f''(\\xi_1)}{\\delta_2^2 f''(\\xi_2)} with \n",
    "\\left\\{ \n",
    "  \\begin{array}{ l }\n",
    "    a \\leq \\xi_1 \\leq b \\\\\n",
    "    a \\leq \\xi_2 \\leq b\n",
    "  \\end{array}\n",
    "\\right. \\\\\n",
    "  & \\approx \\frac{\\delta _1^2}{\\delta _2^2}\n",
    "\\end{aligned}\n",
    "$$"
   ]
  },
  {
   "cell_type": "markdown",
   "metadata": {},
   "source": [
    "If we subsitute the approximated error ratio, we get:"
   ]
  },
  {
   "cell_type": "markdown",
   "metadata": {},
   "source": [
    "$$I_T(\\delta_1) + \\frac{\\delta^2_1}{\\delta^2_2}\\epsilon_T{\\delta_2} \\approx I_T(\\delta_2) + \\epsilon_T(\\delta_2) $$"
   ]
  },
  {
   "cell_type": "markdown",
   "metadata": {},
   "source": [
    "Solving for $\\epsilon _T(\\delta_2)$:"
   ]
  },
  {
   "cell_type": "markdown",
   "metadata": {},
   "source": [
    "$$ \\epsilon_T(\\delta_2) \\approx \\frac{I_T(\\delta_1) - I_T(\\delta_2)}{1 - \\delta_1^2/\\delta_2^2} $$"
   ]
  },
  {
   "cell_type": "markdown",
   "metadata": {},
   "source": [
    "Substituting the new $\\epsilon _T(\\delta_2)$ equation:"
   ]
  },
  {
   "cell_type": "markdown",
   "metadata": {},
   "source": [
    "$$\n",
    "\\begin{aligned}\n",
    "  \\int_{a}^{b} f(x)dx & = I_T(\\delta_2) + \\epsilon_T(\\delta_2)\\\\\n",
    "  & \\approx I_T(\\delta_2) + \\frac{I_T(\\delta_1) - I_T(\\delta_2)}{1 - \\delta_1^2/\\delta_2^2} \\\\\n",
    "  & =  \\frac{\\delta_2^2 I_T(\\delta_1) - \\delta_1^2 I_T(\\delta_2)}{\\delta_2^2-\\delta_1^2}\n",
    "\\end{aligned}\n",
    "$$"
   ]
  },
  {
   "cell_type": "markdown",
   "metadata": {},
   "source": [
    "To solve this equation, we need to make assumptions about $\\delta_1$ and $\\delta_2$. Consider that $\\delta_2$ is half the length of $\\delta_1$."
   ]
  },
  {
   "cell_type": "markdown",
   "metadata": {},
   "source": [
    "$$ \\delta_2 = \\frac{\\delta_1}{2}$$"
   ]
  },
  {
   "cell_type": "markdown",
   "metadata": {},
   "source": [
    "Accordingly, the equation becomes:"
   ]
  },
  {
   "cell_type": "markdown",
   "metadata": {},
   "source": [
    "$$\n",
    "\\begin{aligned}\n",
    "  \\int_{a}^{b} f(x)dx & = \\frac{\\delta_1^2 I_T(\\delta_1)/4 - \\delta_1^2 I_T(\\delta_2)}{\\delta_1^2/4 -\\delta_1^2}\\\\\n",
    "  & = \\frac{4}{3}I_T(\\delta_2) - \\frac{1}{3}I_T(\\delta_1) \\\\\n",
    "  & = \\frac{4}{3}\\delta_2 \\left[ \\frac{f(a)}{2} + f(a + \\delta_2) + \\cdots + f(b - \\delta_2) + \\frac{f(b)}{2} \\right] - \\frac{1}{3}(2\\delta_2) \\left[ \\frac{f(a)}{2} + f(a + 2\\delta_2) + \\cdots + f(b - 2\\delta_2) + \\frac{f(b)}{2} \\right] \\\\\n",
    "  & = \\frac{\\delta_2}{3} \\left[ f(a) + 4f(a+\\delta_2) + 2f(a+2\\delta_2) + \\cdots + 2f(b-2\\delta_2) + 2f(b-\\delta_2) + f(b)\\right]\n",
    "\\end{aligned}\n",
    "$$"
   ]
  },
  {
   "cell_type": "markdown",
   "metadata": {},
   "source": [
    "This last equation is Simpson's rule. Thats is, we have shown that Richardson extrapolation can be applied to the trapezoidal rule to develop Simson's rule."
   ]
  },
  {
   "cell_type": "markdown",
   "metadata": {},
   "source": [
    "[Back to top](#EEEN30101-Numerical-Analysis)"
   ]
  },
  {
   "cell_type": "markdown",
   "metadata": {},
   "source": [
    "## Conclusion"
   ]
  },
  {
   "cell_type": "markdown",
   "metadata": {},
   "source": [
    "At the end of this week's lecture and after going through this notebook, you should be able to address the following questions:<br/>\n",
    "- Numerical differentiation: <br/>\n",
    "      - What is numerical differentiation?<br/>\n",
    "      - How can the backward numerical differentiation be applied?<br/>\n",
    "      - How can the forward numerical differentiation be applied?<br/>\n",
    "      - How can the numerical differentiation be improved using mean values and the 5-point stencil?<br/><br/>\n",
    "- Numerical integration: <br/>\n",
    "      - What is numerical integration?<br/>\n",
    "      - How can the rectangular rule be applied?<br/>\n",
    "      - How can the trapezoidal rule be applied?<br/>\n",
    "      - How can Simpson's rule be applied?\n",
    "\n",
    "If you cannot answer these questions, you may want to check again this notebook and the lecture notes."
   ]
  },
  {
   "cell_type": "markdown",
   "metadata": {},
   "source": [
    "[Back to top](#EEEN30101-Numerical-Analysis)"
   ]
  }
 ],
 "metadata": {
  "kernelspec": {
   "display_name": "Python 3 (ipykernel)",
   "language": "python",
   "name": "python3"
  },
  "language_info": {
   "codemirror_mode": {
    "name": "ipython",
    "version": 3
   },
   "file_extension": ".py",
   "mimetype": "text/x-python",
   "name": "python",
   "nbconvert_exporter": "python",
   "pygments_lexer": "ipython3",
   "version": "3.11.4"
  },
  "toc": {
   "base_numbering": 1,
   "nav_menu": {},
   "number_sections": true,
   "sideBar": true,
   "skip_h1_title": true,
   "title_cell": "Table of Contents",
   "title_sidebar": "Contents",
   "toc_cell": false,
   "toc_position": {
    "height": "calc(100% - 180px)",
    "left": "10px",
    "top": "150px",
    "width": "269.333px"
   },
   "toc_section_display": true,
   "toc_window_display": true
  }
 },
 "nbformat": 4,
 "nbformat_minor": 4
}
