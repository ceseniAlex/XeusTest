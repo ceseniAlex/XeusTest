{
 "cells": [
  {
   "cell_type": "markdown",
   "metadata": {},
   "source": [
    "# EEEN30131 Power System Analysis: Week 03 - Newton Raphson"
   ]
  },
  {
   "cell_type": "markdown",
   "metadata": {},
   "source": [
    "***&copy; 2024 Martínez Ceseña — University of Manchester, UK***"
   ]
  },
  {
   "cell_type": "markdown",
   "metadata": {},
   "source": [
    "This notebook provides an example of the applicationo of Newton's method to simulate steady-state power flows across a network, and also provides the relevant `python` code which can be used to solve the examples and create new ones.\n",
    "\n",
    "The use of the notebooks is optional and will not be marked. That said, you are strongly encouraged to play with the tools and examples, as you can explore many different variations of the power flow formulation, which will better prepare you for the exams."
   ]
  },
  {
   "cell_type": "markdown",
   "metadata": {},
   "source": [
    "## List of contents"
   ]
  },
  {
   "cell_type": "markdown",
   "metadata": {},
   "source": [
    "- [Developing the mismatch equations](#Developing-the-mismatch-equations)\n",
    "- [Developing the Jacobian matrix](#Developing-the-Jacobian-matrix)\n",
    "- [Calculate vector of mismatches](#Calculate-vector-of-mismatches)\n",
    "- [Calculate Jacobian matrix](#Calculate-Jacobian-matrix)\n",
    "- [Newton's method](#Newton's-method)\n",
    "- [Case studies](#Case-studies)\n",
    "  - [Three-bus network](#Three-bus-network)\n",
    "  - [Two-bus network](#Two-bus-network)\n",
    "  - [Four-bus network](#Four-bus-network)\n",
    "  - [Three-bus radial network](#Three-bus-radial-network)\n",
    "  - [Create your own example](#Create-your-own-example)"
   ]
  },
  {
   "cell_type": "markdown",
   "metadata": {},
   "source": [
    "## Before we begin"
   ]
  },
  {
   "cell_type": "markdown",
   "metadata": {},
   "source": [
    "This notebook builds on the materials that were presented during the last two weeks. Therefore, before we begin: \n",
    "- Make sure to review the asynchronous materials provided in blackboard for EEEN30131:\n",
    "  - Week 1 - Nodal analysis \n",
    "  - Week 2 - Power Flow Formulation \n",
    "  - Week 3 - Newton Raphson\n",
    "- If you have any questions, please post them in the discussion boards or, if that is not possible, send an email to alex.martinezcesena@manchester.ac.uk"
   ]
  },
  {
   "cell_type": "markdown",
   "metadata": {},
   "source": [
    "If this data notebook is being used in Jupyter lite, the folders where the python code that supports this notebook are stored, have to be enabled."
   ]
  },
  {
   "cell_type": "code",
   "execution_count": null,
   "metadata": {},
   "outputs": [],
   "source": [
    "from pathlib import Path\n",
    "if Path.cwd().drive == '':\n",
    "    a_dir = Path(\"dir\")\n",
    "    a_dir.mkdir(exist_ok=True)"
   ]
  },
  {
   "cell_type": "markdown",
   "metadata": {},
   "source": [
    "We will need the main tools that were developed over the last two weeks (e.g., $Y_{bus}$)."
   ]
  },
  {
   "cell_type": "code",
   "execution_count": 1,
   "metadata": {},
   "outputs": [],
   "source": [
    "import cmath\n",
    "import math\n",
    "import numpy\n",
    "from Code.Wk1_EEEN30131 import get_Ybus\n",
    "from Code.Wk2_EEEN30131 import get_Bus_Type, develop_PF_Equations"
   ]
  },
  {
   "cell_type": "markdown",
   "metadata": {},
   "source": [
    "The tools can now be used using the approach explained in the ***EEEN30131_Week01*** and ***EEEN30131_Week02*** notebooks. \n",
    "\n",
    "FOr example, consider the system presented in the figure below."
   ]
  },
  {
   "cell_type": "markdown",
   "metadata": {},
   "source": [
    "<img src=\"Figures/Week02_3Bus.png\" alt=\"Fig01\" class=\"bg-primary\" width=\"500px\">"
   ]
  },
  {
   "cell_type": "markdown",
   "metadata": {},
   "source": [
    "The information of this system can be coded as follows:"
   ]
  },
  {
   "cell_type": "code",
   "execution_count": 2,
   "metadata": {},
   "outputs": [],
   "source": [
    "Connectivity = [\n",
    "    [1, 2, complex(0, 0.10)],\n",
    "    [1, 3, complex(0, 0.20)],\n",
    "    [2, 3, complex(0, 0.25)]\n",
    "]\n",
    "Load = [\n",
    "    [2, complex(1.5, 0.8)]\n",
    "]\n",
    "Generator = [\n",
    "    {'Bus':1, 'V':1, '𝜃':0 },\n",
    "    {'Bus':3, 'P':1, 'V':1}\n",
    "]"
   ]
  },
  {
   "cell_type": "markdown",
   "metadata": {},
   "source": [
    "The $Y_{bus}$ matrix can be calculated and the power flow equations can be developed with the following two tools:"
   ]
  },
  {
   "cell_type": "code",
   "execution_count": 3,
   "metadata": {},
   "outputs": [
    {
     "name": "stdout",
     "output_type": "stream",
     "text": [
      "The network has 3 branches and 3 buses\n",
      "______________________________\n",
      "Branch | From - To | Impedance\n",
      "------------------------------\n",
      "    1  |    1 -  2 | 0.1j\n",
      "    2  |    1 -  3 | 0.2j\n",
      "    3  |    2 -  3 | 0.25j\n",
      "_______|___________|__________\n",
      "\n",
      "Ybus = \n",
      " [[ 0.-15.j -0.+10.j -0. +5.j]\n",
      " [-0.+10.j  0.-14.j -0. +4.j]\n",
      " [-0. +5.j -0. +4.j  0. -9.j]]\n",
      "\n",
      "Bus:  Type:       V:       𝜃:     Pinj:     Qinj:\n",
      "   1  Slack   1.0000   0.0000         ?         ?\n",
      "   2     PQ        ?        ?   -1.5000   -0.8000\n",
      "   3     PV   1.0000        ?    1.0000         ?\n",
      "\n",
      "***DEVELOP AND SIMPLIFY***\n",
      "P1:\n",
      "P₁ = V₁V₁[G₁,₁cos𝜃₁,₁+B₁,₁sin𝜃₁,₁] + V₁V₂[G₁,₂cos𝜃₁,₂+B₁,₂sin𝜃₁,₂] + V₁V₃[G₁,₃cos𝜃₁,₃+B₁,₃sin𝜃₁,₃] \n",
      "P₁ = V₁*V₁*B₁,₁*sin𝜃₁,₁ + V₁*V₂*B₁,₂*sin𝜃₁,₂ + V₁*V₃*B₁,₃*sin𝜃₁,₃\n",
      "P₁ = V₁*V₂*B₁,₂*sin𝜃₁,₂ + V₁*V₃*B₁,₃*sin𝜃₁,₃\n",
      "P₁ = 1*V₂*10.0*sin(0-𝜃₂) + 1*1*5.0*sin(0-𝜃₃)\n",
      "P₁ = -10.0000V₂sin(𝜃₂)-5.0000sin(𝜃₃).....[Explicit]\n",
      "\n",
      "P2:\n",
      "P₂ = V₂V₁[G₂,₁cos𝜃₂,₁+B₂,₁sin𝜃₂,₁] + V₂V₂[G₂,₂cos𝜃₂,₂+B₂,₂sin𝜃₂,₂] + V₂V₃[G₂,₃cos𝜃₂,₃+B₂,₃sin𝜃₂,₃] \n",
      "P₂ = V₂*V₁*B₂,₁*sin𝜃₂,₁ + V₂*V₂*B₂,₂*sin𝜃₂,₂ + V₂*V₃*B₂,₃*sin𝜃₂,₃\n",
      "P₂ = V₂*V₁*B₂,₁*sin𝜃₂,₁ + V₂*V₃*B₂,₃*sin𝜃₂,₃\n",
      "-1.5 = V₂*1*10.0*sin(𝜃₂-0) + V₂*1*4.0*sin(𝜃₂-𝜃₃)\n",
      "-1.5 = 10.0000V₂sin(𝜃₂) + 4.0000V₂sin(𝜃₂-𝜃₃).....[Implicit]\n",
      "\n",
      "P3:\n",
      "P₃ = V₃V₁[G₃,₁cos𝜃₃,₁+B₃,₁sin𝜃₃,₁] + V₃V₂[G₃,₂cos𝜃₃,₂+B₃,₂sin𝜃₃,₂] + V₃V₃[G₃,₃cos𝜃₃,₃+B₃,₃sin𝜃₃,₃] \n",
      "P₃ = V₃*V₁*B₃,₁*sin𝜃₃,₁ + V₃*V₂*B₃,₂*sin𝜃₃,₂ + V₃*V₃*B₃,₃*sin𝜃₃,₃\n",
      "P₃ = V₃*V₁*B₃,₁*sin𝜃₃,₁ + V₃*V₂*B₃,₂*sin𝜃₃,₂\n",
      "1 = 1*1*5.0*sin(𝜃₃-0) + 1*V₂*4.0*sin(𝜃₃-𝜃₂)\n",
      "1 = 5.0000sin(𝜃₃) + 4.0000V₂sin(𝜃₃-𝜃₂).....[Implicit]\n",
      "\n",
      "Q1:\n",
      "Q₁ = V₁V₁[G₁,₁sin𝜃₁,₁-B₁,₁cos𝜃₁,₁] + V₁V₂[G₁,₂sin𝜃₁,₂-B₁,₂cos𝜃₁,₂] + V₁V₃[G₁,₃sin𝜃₁,₃-B₁,₃cos𝜃₁,₃] \n",
      "Q₁ = V₁*V₁*-B₁,₁*cos𝜃₁,₁ + V₁*V₂*-B₁,₂*cos𝜃₁,₂ + V₁*V₃*-B₁,₃*cos𝜃₁,₃\n",
      "Q₁ = V₁²*-B₁,₁ + V₁*V₂*-B₁,₂*cos𝜃₁,₂ + V₁*V₃*-B₁,₃*cos𝜃₁,₃\n",
      "Q₁ = 1²*--15.0 + 1*V₂*-10.0*cos(0-𝜃₂) + 1*1*-5.0*cos(0-𝜃₃)\n",
      "Q₁ = 15.0000-10.0000V₂cos(𝜃₂)-5.0000cos(𝜃₃).....[Explicit]\n",
      "\n",
      "Q2:\n",
      "Q₂ = V₂V₁[G₂,₁sin𝜃₂,₁-B₂,₁cos𝜃₂,₁] + V₂V₂[G₂,₂sin𝜃₂,₂-B₂,₂cos𝜃₂,₂] + V₂V₃[G₂,₃sin𝜃₂,₃-B₂,₃cos𝜃₂,₃] \n",
      "Q₂ = V₂*V₁*-B₂,₁*cos𝜃₂,₁ + V₂*V₂*-B₂,₂*cos𝜃₂,₂ + V₂*V₃*-B₂,₃*cos𝜃₂,₃\n",
      "Q₂ = V₂*V₁*-B₂,₁*cos𝜃₂,₁ + V₂²*-B₂,₂ + V₂*V₃*-B₂,₃*cos𝜃₂,₃\n",
      "-0.8 = V₂*1*-10.0*cos(𝜃₂-0) + V₂²*--14.0 + V₂*1*-4.0*cos(𝜃₂-𝜃₃)\n",
      "-0.8 = -10.0000V₂cos(𝜃₂) + 14.0000V₂²-4.0000V₂cos(𝜃₂-𝜃₃).....[Implicit]\n",
      "\n",
      "Q3:\n",
      "Q₃ = V₃V₁[G₃,₁sin𝜃₃,₁-B₃,₁cos𝜃₃,₁] + V₃V₂[G₃,₂sin𝜃₃,₂-B₃,₂cos𝜃₃,₂] + V₃V₃[G₃,₃sin𝜃₃,₃-B₃,₃cos𝜃₃,₃] \n",
      "Q₃ = V₃*V₁*-B₃,₁*cos𝜃₃,₁ + V₃*V₂*-B₃,₂*cos𝜃₃,₂ + V₃*V₃*-B₃,₃*cos𝜃₃,₃\n",
      "Q₃ = V₃*V₁*-B₃,₁*cos𝜃₃,₁ + V₃*V₂*-B₃,₂*cos𝜃₃,₂ + V₃²*-B₃,₃\n",
      "Q₃ = 1*1*-5.0*cos(𝜃₃-0) + 1*V₂*-4.0*cos(𝜃₃-𝜃₂) + 1²*--9.0\n",
      "Q₃ = -5.0000cos(𝜃₃)-4.0000V₂cos(𝜃₃-𝜃₂) + 9.0000.....[Explicit]\n",
      "\n"
     ]
    }
   ],
   "source": [
    "Ybus = get_Ybus(Connectivity, True)\n",
    "P_Data, Q_Data = develop_PF_Equations(Load, Generator, Ybus, True)"
   ]
  },
  {
   "cell_type": "markdown",
   "metadata": {},
   "source": [
    "[Back to top](#EEEN30131-Power-System-Analysis:-Week-03---Newton-Raphson)"
   ]
  },
  {
   "cell_type": "markdown",
   "metadata": {},
   "source": [
    "## Developing the mismatch equations"
   ]
  },
  {
   "cell_type": "markdown",
   "metadata": {},
   "source": [
    "Now that the power flow equations have been defined, it is time to develop the mismatch equations. However, before that, it is convenient to identify all known parameters ($P$ and $Q$) and unknown variables ($V$ and $\\theta$)."
   ]
  },
  {
   "cell_type": "code",
   "execution_count": 4,
   "metadata": {},
   "outputs": [
    {
     "name": "stdout",
     "output_type": "stream",
     "text": [
      "The implicit equations correspond to:\n",
      "P2 P3 Q2 \n",
      "The unknown variables are:\n",
      "𝜃2 𝜃3 V2 "
     ]
    }
   ],
   "source": [
    "# Using tool from week 02 to get bus types\n",
    "Bus_Data, Bus_Type = get_Bus_Type(Ybus, Load, Generator)\n",
    "\n",
    "def get_Imp_Unk(Bus_Type, Generator):\n",
    "    ''' Get implicit equations and unknown variables '''\n",
    "    Number_Buses = len(Bus_Type)\n",
    "    V_All = [1 for bus in range(Number_Buses)]\n",
    "    𝜃_All = [0 for bus in range(Number_Buses)]\n",
    "    for gen in Generator:\n",
    "        if 'V' in gen.keys():\n",
    "            bus = gen['Bus']-1\n",
    "            V_All[bus] = gen['V']\n",
    "        if '𝜃' in gen.keys():\n",
    "            bus = gen['Bus']-1\n",
    "            𝜃_All[bus] = gen['𝜃']\n",
    "\n",
    "    J_P = []  # Known P\n",
    "    J_Q = []  # Known Q\n",
    "    J_V = []  # Unknown V\n",
    "    J_𝜃 = []  # Unknown 𝜃\n",
    "    for bus in range(Number_Buses):\n",
    "        if Bus_Type[bus] == 1:  # PQ\n",
    "            J_P.append(bus)\n",
    "            J_Q.append(bus)\n",
    "            J_V.append(bus)\n",
    "            J_𝜃.append(bus)\n",
    "        if Bus_Type[bus] == 2:  # PV\n",
    "            J_P.append(bus)\n",
    "            J_𝜃.append(bus)\n",
    "            V_All[bus]\n",
    "\n",
    "    return J_P, J_Q, J_V, J_𝜃, V_All, 𝜃_All\n",
    "\n",
    "# Calling new method\n",
    "J_P, J_Q, J_V, J_𝜃, V_All, 𝜃_All = get_Imp_Unk(Bus_Type, Generator)\n",
    "\n",
    "# Printing results\n",
    "print('The implicit equations correspond to:')\n",
    "for bus in J_P:\n",
    "    print('P'+str(bus+1), end=' ')\n",
    "for bus in J_Q:\n",
    "    print('Q'+str(bus+1), end=' ')\n",
    "print('\\nThe unknown variables are:')\n",
    "for bus in J_𝜃:\n",
    "    print('𝜃'+str(bus+1), end=' ')\n",
    "for bus in J_V:\n",
    "    print('V'+str(bus+1), end=' ')"
   ]
  },
  {
   "cell_type": "markdown",
   "metadata": {},
   "source": [
    "Our objective is now to create a `string` with the developed mismatch equations. Let us begin by creating a method that would allow us to print the equation using subscripts"
   ]
  },
  {
   "cell_type": "code",
   "execution_count": 5,
   "metadata": {},
   "outputs": [],
   "source": [
    "def get_string(txt, bus1, bus2=None):\n",
    "    '''Create string with subscripts'''\n",
    "    SUB = str.maketrans(\"0123456789\", \"₀₁₂₃₄₅₆₇₈₉\")\n",
    "    str1 = str(bus1+1).translate(SUB)\n",
    "    if bus2 is None:\n",
    "        str2 = ''\n",
    "    else:\n",
    "        str2 = ',' + str(bus2+1).translate(SUB)\n",
    "\n",
    "    return txt+str1+str2"
   ]
  },
  {
   "cell_type": "markdown",
   "metadata": {},
   "source": [
    "It is time to develop a couple of method to print the equations. We begin with a method (`develop_ΔPQ`) that handles the addition of signs ($+$ or $-$) between the componentt of the equation, and a second method (`develop_ΔPQ_string`) to handle brackets, trigonometric functions, etc."
   ]
  },
  {
   "cell_type": "code",
   "execution_count": 6,
   "metadata": {},
   "outputs": [],
   "source": [
    "def develop_ΔPQ(Dt_Raw):\n",
    "    Dt = Dt_Raw[0]\n",
    "    PQ = Dt_Raw[1]\n",
    "    bus = Dt_Raw[2]\n",
    "    txt = Dt_Raw[3]\n",
    "\n",
    "    print('Δ%s = ' % get_string(txt, bus), end='')\n",
    "    flg = False\n",
    "    for part in range(len(Dt)):\n",
    "        if Dt[part]['val1'] > 0 and flg:\n",
    "            print(' + ', end='')\n",
    "        flg = True\n",
    "        develop_ΔPQ_string(Dt[part])\n",
    "\n",
    "    if PQ is None:\n",
    "        print(' - %s', get_string(txt, bus))\n",
    "    else:\n",
    "        if PQ < 0:\n",
    "            print(' + %.4f' % (-1*PQ))\n",
    "        else:\n",
    "            print(' - %.4f' % PQ)\n",
    "\n",
    "def develop_ΔPQ_string(Dt):\n",
    "    Str = ''\n",
    "    if Dt['V1'] is not None:\n",
    "        Str += get_string('V', Dt['V1'])\n",
    "    if Dt['V2'] is not None:\n",
    "        if Dt['V1'] == Dt['V2']:\n",
    "            Str += '\\u00b2'\n",
    "        else:\n",
    "            Str += get_string('V', Dt['V2'])\n",
    "\n",
    "    StrA = ''\n",
    "    if Dt['𝜃A1'] is not None:\n",
    "        StrA = Dt['scA']\n",
    "        if Dt['𝜃A2'] is None:\n",
    "            StrA += get_string('𝜃', Dt['𝜃A1'])\n",
    "        else:\n",
    "            StrA += '(' + get_string('𝜃', Dt['𝜃A1']) + '-' + \\\n",
    "                get_string('𝜃', Dt['𝜃A2']) + ')'\n",
    "\n",
    "    StrB = ''\n",
    "    if Dt['𝜃B1'] is not None:\n",
    "        StrB = Dt['scB']\n",
    "        if Dt['𝜃B2'] is None:\n",
    "            StrB += get_string('𝜃', Dt['𝜃B1'])\n",
    "        else:\n",
    "            StrB += '(' + get_string('𝜃', Dt['𝜃B1']) + '-' + \\\n",
    "                get_string('𝜃', Dt['𝜃B2']) + ')'\n",
    "\n",
    "    if Dt['val2'] is None:\n",
    "        print('%.4f%s' % (Dt['val1'], Str+StrA), end='')\n",
    "    else:\n",
    "        if Dt['val3'] > 0:\n",
    "            aux = '+'\n",
    "        else:\n",
    "            aux = ''\n",
    "        print('%.4f%s[%.4f%s%s%.4f%s]' % (Dt['val1'], Str, Dt['val2'], StrA,\n",
    "                                          aux, Dt['val3'], StrB), end='')"
   ]
  },
  {
   "cell_type": "markdown",
   "metadata": {},
   "source": [
    "The mismatch equations can now be printed by calling the `develop_ΔPQ` method with the implicit equations (in `J_P` and `J_Q`)."
   ]
  },
  {
   "cell_type": "code",
   "execution_count": 7,
   "metadata": {},
   "outputs": [
    {
     "name": "stdout",
     "output_type": "stream",
     "text": [
      "ΔP₂ = 10.0000V₂sin𝜃₂ + 4.0000V₂sin(𝜃₂-𝜃₃) + 1.5000\n",
      "ΔP₃ = 5.0000sin𝜃₃ + 4.0000V₂sin(𝜃₃-𝜃₂) - 1.0000\n",
      "ΔQ₂ = -10.0000V₂cos𝜃₂ + 14.0000V₂²-4.0000V₂cos(𝜃₂-𝜃₃) + 0.8000\n"
     ]
    }
   ],
   "source": [
    "for bus in J_P:\n",
    "    develop_ΔPQ(P_Data[bus])\n",
    "\n",
    "for bus in J_Q:\n",
    "    develop_ΔPQ(Q_Data[bus])"
   ]
  },
  {
   "cell_type": "markdown",
   "metadata": {},
   "source": [
    "[Back to top](#EEEN30131-Power-System-Analysis:-Week-03---Newton-Raphson)"
   ]
  },
  {
   "cell_type": "markdown",
   "metadata": {},
   "source": [
    "## Developing the Jacobian matrix"
   ]
  },
  {
   "cell_type": "markdown",
   "metadata": {},
   "source": [
    "The Jacobian matrix can be developed by differentiating the implicit equations with respect to the unknown variables. We already have the equations and variables, so it is time to develop a method to differentiate the equations.\n",
    "\n",
    "Considering the characteristics of the power flow equations, it is convenient to develop a dedicated method to differentiate the sine and cosine functions."
   ]
  },
  {
   "cell_type": "code",
   "execution_count": 8,
   "metadata": {},
   "outputs": [],
   "source": [
    "def diff_sin_cos(Dt_sc, Dt_𝜃1, Dt_𝜃2, 𝜃):\n",
    "    '''Developing the differentials of sine and cosine'''\n",
    "    Str = ''\n",
    "    Val = 1\n",
    "    if Dt_𝜃1 is not None:\n",
    "        if Dt_sc == 'sin':\n",
    "            Str = 'cos'\n",
    "        if Dt_sc == 'cos':\n",
    "            Str = 'sin'\n",
    "            Val = -1\n",
    "        if Dt_𝜃2 is None:\n",
    "            Str += get_string('𝜃', Dt_𝜃1)\n",
    "        else:\n",
    "            Str += '(' + get_string('𝜃', Dt_𝜃1) + '-' + \\\n",
    "                get_string('𝜃', Dt_𝜃2) + ')'\n",
    "            if 𝜃 == Dt_𝜃2:\n",
    "                Val *= -1\n",
    "\n",
    "    return Str, Val"
   ]
  },
  {
   "cell_type": "markdown",
   "metadata": {},
   "source": [
    "A method to write the string for the differential of implicit equations with respect to $\\theta$ can be created with the following code."
   ]
  },
  {
   "cell_type": "code",
   "execution_count": 9,
   "metadata": {},
   "outputs": [],
   "source": [
    "def develop_J_𝜃(Dt_Raw, 𝜃):\n",
    "    '''Develop equations ∂P/Q with respect to 𝜃'''\n",
    "    Dt = Dt_Raw[0]\n",
    "    # PQ = Dt_Raw[1]\n",
    "    bus = Dt_Raw[2]\n",
    "    txt = Dt_Raw[3]\n",
    "\n",
    "    print('∂Δ%s/∂𝜃%d = ' % (get_string(txt, bus), 𝜃+1), end='')\n",
    "    flg = False\n",
    "    for part in range(len(Dt)):\n",
    "        flg = develop_ΔPQ_𝜃(Dt[part], 𝜃, flg)\n",
    "    if not flg:\n",
    "        print('0')\n",
    "    else:\n",
    "        print()\n",
    "\n",
    "def develop_ΔPQ_𝜃(Dt, 𝜃, flg):\n",
    "    ''' String for differential of P/Q with respect to 𝜃'''\n",
    "    if 𝜃 != Dt['𝜃A1'] and 𝜃 != Dt['𝜃A2'] and 𝜃 != Dt['𝜃B1'] and 𝜃 != Dt['𝜃B2']:\n",
    "        return flg\n",
    "\n",
    "    Str = ''\n",
    "    if Dt['V1'] is not None:\n",
    "        Str += get_string('V', Dt['V1'])\n",
    "    if Dt['V2'] is not None:\n",
    "        if Dt['V1'] == Dt['V2']:\n",
    "            Str += '\\u00b2'\n",
    "        else:\n",
    "            Str += get_string('V', Dt['V2'])\n",
    "\n",
    "    StrA, ValA = diff_sin_cos(Dt['scA'], Dt['𝜃A1'], Dt['𝜃A2'], 𝜃)\n",
    "\n",
    "    StrB, ValB = diff_sin_cos(Dt['scB'], Dt['𝜃B1'], Dt['𝜃B2'], 𝜃)\n",
    "\n",
    "    if Dt['val2'] is None:\n",
    "        if Dt['val1']*ValA > 0 and flg:\n",
    "            print(' + ', end='')\n",
    "\n",
    "        print('%.4f%s' % (Dt['val1']*ValA, Str+StrA), end='')\n",
    "    else:\n",
    "        if Dt['val1'] > 0 and flg:\n",
    "            print(' + ', end='')\n",
    "        if Dt['val3'] > 0:\n",
    "            aux = '+'\n",
    "        else:\n",
    "            aux = ''\n",
    "        print('%.4f%s[%.4f%s%s%.4f%s]'\n",
    "              % (Dt['val1'], Str, Dt['val2']*ValA, StrA, aux, Dt['val3']*ValB,\n",
    "                 StrB), end='')\n",
    "    return True"
   ]
  },
  {
   "cell_type": "markdown",
   "metadata": {},
   "source": [
    "[Back to top](#EEEN30131-Power-System-Analysis:-Week-03---Newton-Raphson)"
   ]
  },
  {
   "cell_type": "markdown",
   "metadata": {},
   "source": [
    "A method to write the string for the differential of implicit equations with respect to $V$ can be created with the following code."
   ]
  },
  {
   "cell_type": "code",
   "execution_count": 10,
   "metadata": {},
   "outputs": [],
   "source": [
    "def develop_ΔPQ_V(Dt, V, flg):\n",
    "    ''' Differential of P/Q with respect to V'''\n",
    "    if V != Dt['V1'] and V != Dt['V2']:\n",
    "        return flg\n",
    "\n",
    "    Str = ''\n",
    "    Val = 1\n",
    "    if Dt['V1'] is not None:\n",
    "        if V != Dt['V1']:\n",
    "            Str += get_string('V', Dt['V1'])\n",
    "    if Dt['V2'] is not None:\n",
    "        if Dt['V1'] == Dt['V2']:\n",
    "            Val = 2\n",
    "        elif V != Dt['V2']:\n",
    "            Str += get_string('V', Dt['V2'])\n",
    "\n",
    "    StrA = ''\n",
    "    if Dt['𝜃A1'] is not None:\n",
    "        StrA = Dt['scA']\n",
    "        if Dt['𝜃A2'] is None:\n",
    "            StrA += get_string('𝜃', Dt['𝜃A1'])\n",
    "        else:\n",
    "            StrA += '(' + get_string('𝜃', Dt['𝜃A1']) + '-' + \\\n",
    "                get_string('𝜃', Dt['𝜃A2']) + ')'\n",
    "\n",
    "    StrB = ''\n",
    "    if Dt['𝜃B1'] is not None:\n",
    "        StrA = Dt['scB']\n",
    "        if Dt['𝜃B2'] is None:\n",
    "            StrB += get_string('𝜃', Dt['𝜃B1'])\n",
    "        else:\n",
    "            StrB += '(' + get_string('𝜃', Dt['𝜃B1']) + '-' + \\\n",
    "                get_string('𝜃', Dt['𝜃B2']) + ')'\n",
    "\n",
    "    if Dt['val1']*Val > 0 and flg:\n",
    "        print(' + ', end='')\n",
    "\n",
    "    if Dt['val2'] is None:\n",
    "        print('%.4f%s' % (Dt['val1']*Val, Str+StrA), end='')\n",
    "    else:\n",
    "        if Dt['val3'] > 0:\n",
    "            aux = '+'\n",
    "        else:\n",
    "            aux = ''\n",
    "        print('%.4f%s[%.4f%s%s%.4f%s]' % (Dt['val1']*Val, Str, Dt['val2'],\n",
    "                                          StrA, aux, Dt['val3'], StrB), end='')\n",
    "\n",
    "    return True\n",
    "    \n",
    "def develop_J_V(Dt_Raw, V):\n",
    "    Dt = Dt_Raw[0]\n",
    "    # PQ = Dt_Raw[1]\n",
    "    bus = Dt_Raw[2]\n",
    "    txt = Dt_Raw[3]\n",
    "\n",
    "    print('∂Δ%s/∂V%d = ' % (get_string(txt, bus), V+1), end='')\n",
    "    flg = False\n",
    "    for part in range(len(Dt)):\n",
    "        flg = develop_ΔPQ_V(Dt[part], V, flg)\n",
    "    if not flg:\n",
    "        print('0')\n",
    "    else:\n",
    "        print()"
   ]
  },
  {
   "cell_type": "markdown",
   "metadata": {},
   "source": [
    "[Back to top](#EEEN30131-Power-System-Analysis:-Week-03---Newton-Raphson)"
   ]
  },
  {
   "cell_type": "markdown",
   "metadata": {},
   "source": [
    "The new methods can be used to print the developed equations that form the Jacobian matrix:"
   ]
  },
  {
   "cell_type": "code",
   "execution_count": 11,
   "metadata": {},
   "outputs": [
    {
     "name": "stdout",
     "output_type": "stream",
     "text": [
      "∂ΔP₂/∂𝜃2 = 10.0000V₂cos𝜃₂ + 4.0000V₂cos(𝜃₂-𝜃₃)\n",
      "∂ΔP₂/∂𝜃3 = -4.0000V₂cos(𝜃₂-𝜃₃)\n",
      "∂ΔP₂/∂V2 = 10.0000sin𝜃₂ + 4.0000sin(𝜃₂-𝜃₃)\n",
      "\n",
      "∂ΔP₃/∂𝜃2 = -4.0000V₂cos(𝜃₃-𝜃₂)\n",
      "∂ΔP₃/∂𝜃3 = 5.0000cos𝜃₃ + 4.0000V₂cos(𝜃₃-𝜃₂)\n",
      "∂ΔP₃/∂V2 = 4.0000sin(𝜃₃-𝜃₂)\n",
      "\n",
      "∂ΔQ₂/∂𝜃2 = 10.0000V₂sin𝜃₂ + 4.0000V₂sin(𝜃₂-𝜃₃)\n",
      "∂ΔQ₂/∂𝜃3 = -4.0000V₂sin(𝜃₂-𝜃₃)\n",
      "∂ΔQ₂/∂V2 = -10.0000cos𝜃₂ + 28.0000-4.0000cos(𝜃₂-𝜃₃)\n",
      "\n"
     ]
    }
   ],
   "source": [
    "for bus in J_P:\n",
    "    for 𝜃 in J_𝜃:\n",
    "        develop_J_𝜃(P_Data[bus], 𝜃)\n",
    "    for 𝜃 in J_V:\n",
    "        develop_J_V(P_Data[bus], 𝜃)\n",
    "    print()\n",
    "\n",
    "for bus in J_Q:\n",
    "    for 𝜃 in J_𝜃:\n",
    "        develop_J_𝜃(Q_Data[bus], 𝜃)\n",
    "    for 𝜃 in J_V:\n",
    "        develop_J_V(Q_Data[bus], 𝜃)\n",
    "    print()"
   ]
  },
  {
   "cell_type": "markdown",
   "metadata": {},
   "source": [
    "For the sake of convenience, we can create a method with all the code needed to display the implicit equations, unknown variables and developed jacobian matrix equations."
   ]
  },
  {
   "cell_type": "code",
   "execution_count": 12,
   "metadata": {},
   "outputs": [
    {
     "name": "stdout",
     "output_type": "stream",
     "text": [
      "The implicit equations correspond to:\n",
      "P2 P3 Q2 \n",
      "The unknown variables are:\n",
      "𝜃2 𝜃3 V2 \n",
      "\n",
      "Vector of missmatches\n",
      "ΔP₂ = 10.0000V₂sin𝜃₂ + 4.0000V₂sin(𝜃₂-𝜃₃) + 1.5000\n",
      "ΔP₃ = 5.0000sin𝜃₃ + 4.0000V₂sin(𝜃₃-𝜃₂) - 1.0000\n",
      "ΔQ₂ = -10.0000V₂cos𝜃₂ + 14.0000V₂²-4.0000V₂cos(𝜃₂-𝜃₃) + 0.8000\n",
      "\n",
      "Equations that form the Jacobian matrix\n",
      "∂ΔP₂/∂𝜃2 = 10.0000V₂cos𝜃₂ + 4.0000V₂cos(𝜃₂-𝜃₃)\n",
      "∂ΔP₂/∂𝜃3 = -4.0000V₂cos(𝜃₂-𝜃₃)\n",
      "∂ΔP₂/∂V2 = 10.0000sin𝜃₂ + 4.0000sin(𝜃₂-𝜃₃)\n",
      "\n",
      "∂ΔP₃/∂𝜃2 = -4.0000V₂cos(𝜃₃-𝜃₂)\n",
      "∂ΔP₃/∂𝜃3 = 5.0000cos𝜃₃ + 4.0000V₂cos(𝜃₃-𝜃₂)\n",
      "∂ΔP₃/∂V2 = 4.0000sin(𝜃₃-𝜃₂)\n",
      "\n",
      "∂ΔQ₂/∂𝜃2 = 10.0000V₂sin𝜃₂ + 4.0000V₂sin(𝜃₂-𝜃₃)\n",
      "∂ΔQ₂/∂𝜃3 = -4.0000V₂sin(𝜃₂-𝜃₃)\n",
      "∂ΔQ₂/∂V2 = -10.0000cos𝜃₂ + 28.0000-4.0000cos(𝜃₂-𝜃₃)\n",
      "\n"
     ]
    }
   ],
   "source": [
    "def develop_Jacobian(P_Data, Q_Data, Bus_Type, Generator):\n",
    "    J_P, J_Q, J_V, J_𝜃, V_All, 𝜃_All = get_Imp_Unk(Bus_Type, Generator)\n",
    "\n",
    "    print('The implicit equations correspond to:')\n",
    "    for bus in J_P:\n",
    "        print('P'+str(bus+1), end=' ')\n",
    "    for bus in J_Q:\n",
    "        print('Q'+str(bus+1), end=' ')\n",
    "\n",
    "    print('\\nThe unknown variables are:')\n",
    "    for bus in J_𝜃:\n",
    "        print('𝜃'+str(bus+1), end=' ')\n",
    "    for bus in J_V:\n",
    "        print('V'+str(bus+1), end=' ')\n",
    "\n",
    "    print('\\n\\nVector of missmatches')\n",
    "    for bus in J_P:\n",
    "        develop_ΔPQ(P_Data[bus])\n",
    "    for bus in J_Q:\n",
    "        develop_ΔPQ(Q_Data[bus])\n",
    "\n",
    "    print('\\nEquations that form the Jacobian matrix')\n",
    "    for bus in J_P:\n",
    "        for 𝜃 in J_𝜃:\n",
    "            develop_J_𝜃(P_Data[bus], 𝜃)\n",
    "        for 𝜃 in J_V:\n",
    "            develop_J_V(P_Data[bus], 𝜃)\n",
    "        print()\n",
    "    for bus in J_Q:\n",
    "        for 𝜃 in J_𝜃:\n",
    "            develop_J_𝜃(Q_Data[bus], 𝜃)\n",
    "        for 𝜃 in J_V:\n",
    "            develop_J_V(Q_Data[bus], 𝜃)\n",
    "        print()\n",
    "develop_Jacobian(P_Data, Q_Data, Bus_Type, Generator)"
   ]
  },
  {
   "cell_type": "markdown",
   "metadata": {},
   "source": [
    "So far, we have produced tools to display the equations needed to develop the vector of mismatches and Jacobian matrix. It is now time to calculate the relevant numerical values."
   ]
  },
  {
   "cell_type": "markdown",
   "metadata": {},
   "source": [
    "[Back to top](#EEEN30131-Power-System-Analysis:-Week-03---Newton-Raphson)"
   ]
  },
  {
   "cell_type": "markdown",
   "metadata": {},
   "source": [
    "## Calculate vector of mismatches"
   ]
  },
  {
   "cell_type": "markdown",
   "metadata": {},
   "source": [
    "To calculate the vector of mismatches,we can begin by producing a method to handle the trigonometric functions."
   ]
  },
  {
   "cell_type": "code",
   "execution_count": 13,
   "metadata": {},
   "outputs": [],
   "source": [
    "def get_sin_cos(Dt_sc, Dt_𝜃1, Dt_𝜃2, 𝜃_All):\n",
    "    if Dt_sc is None:\n",
    "        return 1\n",
    "\n",
    "    if Dt_𝜃1 is not None:\n",
    "        Ang = 𝜃_All[Dt_𝜃1]\n",
    "    else:\n",
    "        Ang = 0\n",
    "    if Dt_𝜃2 is not None:\n",
    "        Ang -= 𝜃_All[Dt_𝜃2]\n",
    "\n",
    "    if Dt_sc == 'sin':\n",
    "        Val = math.sin(Ang)\n",
    "    else:\n",
    "        Val = math.cos(Ang)\n",
    "\n",
    "    return Val"
   ]
  },
  {
   "cell_type": "markdown",
   "metadata": {},
   "source": [
    "We then develop a method to check whether we are solving for $P$ or $Q$ and another method to do the calculations."
   ]
  },
  {
   "cell_type": "code",
   "execution_count": 14,
   "metadata": {},
   "outputs": [],
   "source": [
    "def get_ΔPQ(P_Data, Q_Data, J_P, J_Q, J_V, J_𝜃, V_All, 𝜃_All):\n",
    "    Δ = []\n",
    "\n",
    "    for bus in J_P:\n",
    "        Δ.append(get_Δ(P_Data[bus], V_All, 𝜃_All))\n",
    "\n",
    "    for bus in J_Q:\n",
    "        Δ.append(get_Δ(Q_Data[bus], V_All, 𝜃_All))\n",
    "\n",
    "    return Δ\n",
    "\n",
    "def get_Δ(Dt_Raw, V_All, 𝜃_All):\n",
    "    Dta = Dt_Raw[0]\n",
    "    PQ = Dt_Raw[1]\n",
    "    # bus = Dt_Raw[2]\n",
    "    # txt = Dt_Raw[3]\n",
    "\n",
    "    Val = 0\n",
    "    for part in range(len(Dta)):\n",
    "        Dt = Dta[part]\n",
    "\n",
    "        aux = 1\n",
    "        if Dt['V1'] is not None:\n",
    "            aux *= V_All[Dt['V1']]\n",
    "        if Dt['V2'] is not None:\n",
    "            aux *= V_All[Dt['V2']]\n",
    "\n",
    "        if Dt['val2'] is None:\n",
    "            Val += aux*Dt['val1']*get_sin_cos(Dt['scA'], Dt['𝜃A1'], Dt['𝜃A2'],\n",
    "                                              𝜃_All)\n",
    "        else:\n",
    "            Val += aux*Dt['val1'] * \\\n",
    "                (Dt['val2']*get_sin_cos(Dt['scA'], Dt['𝜃A1'], Dt['𝜃A2'],\n",
    "                                        𝜃_All) +\n",
    "                 Dt['val3']*get_sin_cos(Dt['scB'], Dt['𝜃B1'], Dt['𝜃B2'],\n",
    "                                        𝜃_All))\n",
    "    Val -= PQ\n",
    "\n",
    "    return Val"
   ]
  },
  {
   "cell_type": "markdown",
   "metadata": {},
   "source": [
    "The vector of missmatches can now be calculated as follows:"
   ]
  },
  {
   "cell_type": "code",
   "execution_count": 15,
   "metadata": {},
   "outputs": [
    {
     "name": "stdout",
     "output_type": "stream",
     "text": [
      "Vector of mismatches: [1.5, -1.0, 0.8]\n"
     ]
    }
   ],
   "source": [
    "Number_Buses = len(Bus_Type)\n",
    "Δ = get_ΔPQ(P_Data, Q_Data, J_P, J_Q, J_V, J_𝜃, V_All, 𝜃_All)\n",
    "\n",
    "print('Vector of mismatches:',Δ)"
   ]
  },
  {
   "cell_type": "markdown",
   "metadata": {},
   "source": [
    "[Back to top](#EEEN30131-Power-System-Analysis:-Week-03---Newton-Raphson)"
   ]
  },
  {
   "cell_type": "markdown",
   "metadata": {},
   "source": [
    "## Calculate Jacobian matrix"
   ]
  },
  {
   "cell_type": "markdown",
   "metadata": {},
   "source": [
    "To calculate the Jacobian matrix, we begin with a method to handle the diffetentiation of the sine and cosine functions."
   ]
  },
  {
   "cell_type": "code",
   "execution_count": 16,
   "metadata": {},
   "outputs": [],
   "source": [
    "def get_diff_sin_cos(Dt_sc, Dt_𝜃1, Dt_𝜃2, 𝜃_All, 𝜃):\n",
    "    if 𝜃 != Dt_𝜃1 and 𝜃 != Dt_𝜃2:\n",
    "        return 0\n",
    "\n",
    "    Val = 1\n",
    "    if Dt_𝜃1 is not None:\n",
    "        Ang = 𝜃_All[Dt_𝜃1]\n",
    "    else:\n",
    "        Ang = 0\n",
    "    if Dt_𝜃2 is not None:\n",
    "        Ang -= 𝜃_All[Dt_𝜃2]\n",
    "        if 𝜃 == Dt_𝜃2:\n",
    "            Val = -1\n",
    "\n",
    "    if Dt_sc == 'sin':\n",
    "        Val *= math.cos(Ang)\n",
    "    else:\n",
    "        Val *= -1*math.sin(Ang)\n",
    "\n",
    "    return Val"
   ]
  },
  {
   "cell_type": "markdown",
   "metadata": {},
   "source": [
    "The methods to differentiate the missmatch equations with respect to $\\theta$ and $V$ are then coded."
   ]
  },
  {
   "cell_type": "code",
   "execution_count": 17,
   "metadata": {},
   "outputs": [],
   "source": [
    "def get_J_V(Dt_Raw, V_All, 𝜃_All, V):\n",
    "    Dta = Dt_Raw[0]\n",
    "    # PQ = Dt_Raw[1]\n",
    "    # bus = Dt_Raw[2]\n",
    "    # txt = Dt_Raw[3]\n",
    "\n",
    "    Val = 0\n",
    "    for part in range(len(Dta)):\n",
    "        Dt = Dta[part]\n",
    "\n",
    "        if Dt['V1'] == V or Dt['V2'] == V:\n",
    "\n",
    "            aux = 1\n",
    "            if Dt['V1'] is not None:\n",
    "                if Dt['V1'] != V:\n",
    "                    aux *= V_All[Dt['V1']]\n",
    "                elif Dt['V1'] == Dt['V2']:\n",
    "                    aux *= 2*V_All[Dt['V1']]\n",
    "\n",
    "            if Dt['val2'] is None:\n",
    "                Val += aux*Dt['val1']*get_sin_cos(Dt['scA'], Dt['𝜃A1'],\n",
    "                                                  Dt['𝜃A2'], 𝜃_All)\n",
    "            else:\n",
    "                Val += aux*Dt['val1'] * \\\n",
    "                    (Dt['val2']*get_sin_cos(Dt['scA'], Dt['𝜃A1'], Dt['𝜃A2'],\n",
    "                                            𝜃_All) +\n",
    "                     Dt['val3']*get_sin_cos(Dt['scB'], Dt['𝜃B1'], Dt['𝜃B2'],\n",
    "                                            𝜃_All))\n",
    "\n",
    "    return Val\n",
    "\n",
    "def get_J_𝜃(Dt_Raw, V_All, 𝜃_All, 𝜃):\n",
    "    Dta = Dt_Raw[0]\n",
    "    # PQ = Dt_Raw[1]\n",
    "    # bus = Dt_Raw[2]\n",
    "    # txt = Dt_Raw[3]\n",
    "\n",
    "    Val = 0\n",
    "    for part in range(len(Dta)):\n",
    "        Dt = Dta[part]\n",
    "\n",
    "        aux = 1\n",
    "        if Dt['V1'] is not None:\n",
    "            aux *= V_All[Dt['V1']]\n",
    "        if Dt['V2'] is not None:\n",
    "            aux *= V_All[Dt['V2']]\n",
    "\n",
    "        if Dt['scB'] is None:\n",
    "            Val += aux*Dt['val1']*get_diff_sin_cos(Dt['scA'], Dt['𝜃A1'],\n",
    "                                                   Dt['𝜃A2'], 𝜃_All, 𝜃)\n",
    "        else:\n",
    "            Val += aux*Dt['val1'] * \\\n",
    "                (Dt['val2']*get_diff_sin_cos(Dt['scA'], Dt['𝜃A1'], Dt['𝜃A2'],\n",
    "                                             𝜃_All, 𝜃) +\n",
    "                 Dt['val3']*get_diff_sin_cos(Dt['scB'], Dt['𝜃B1'], Dt['𝜃B2'],\n",
    "                                             𝜃_All, 𝜃))\n",
    "\n",
    "    return Val"
   ]
  },
  {
   "cell_type": "markdown",
   "metadata": {},
   "source": [
    "Finally, a method to select the proper differentials to use (i.e., $\\partial \\Delta P/\\partial \\theta$, $\\partial \\Delta P/\\partial V$, $\\partial \\Delta Q/\\partial \\theta$ or $\\partial \\Delta Q/\\partial V$) is produced."
   ]
  },
  {
   "cell_type": "code",
   "execution_count": 18,
   "metadata": {},
   "outputs": [
    {
     "name": "stdout",
     "output_type": "stream",
     "text": [
      "Jacobian:\n",
      " [[14. -4.  0.]\n",
      " [-4.  9.  0.]\n",
      " [ 0.  0. 14.]]\n"
     ]
    }
   ],
   "source": [
    "def get_Jacobian(P_Data, Q_Data, J_P, J_Q, J_V, J_𝜃, V_All, 𝜃_All):\n",
    "    Number_J = len(J_V) + len(J_𝜃)\n",
    "    J = numpy.zeros((Number_J, Number_J))\n",
    "\n",
    "    i = 0\n",
    "    for bus in J_P:\n",
    "        j = 0\n",
    "        for 𝜃 in J_𝜃:\n",
    "            J[i][j] = get_J_𝜃(P_Data[bus], V_All, 𝜃_All, 𝜃)\n",
    "            j += 1\n",
    "        for V in J_V:\n",
    "            J[i][j] = get_J_V(P_Data[bus], V_All, 𝜃_All, V)\n",
    "            j += 1\n",
    "        i += 1\n",
    "\n",
    "    for bus in J_Q:\n",
    "        j = 0\n",
    "        for 𝜃 in J_𝜃:\n",
    "            J[i][j] = get_J_𝜃(Q_Data[bus], V_All, 𝜃_All, 𝜃)\n",
    "            j += 1\n",
    "        for V in J_V:\n",
    "            J[i][j] = get_J_V(Q_Data[bus], V_All, 𝜃_All, V)\n",
    "            j += 1\n",
    "        i += 1\n",
    "\n",
    "    return J\n",
    "\n",
    "J=get_Jacobian(P_Data, Q_Data, J_P, J_Q, J_V, J_𝜃, V_All, 𝜃_All)\n",
    "print('Jacobian:\\n', J)"
   ]
  },
  {
   "cell_type": "markdown",
   "metadata": {},
   "source": [
    "[Back to top](#EEEN30131-Power-System-Analysis:-Week-03---Newton-Raphson)"
   ]
  },
  {
   "cell_type": "markdown",
   "metadata": {},
   "source": [
    "## Newton's method"
   ]
  },
  {
   "cell_type": "markdown",
   "metadata": {},
   "source": [
    "To complete the first iteration of Newton's method, we need to calculate the vector of corrections and use it to update the vector of unknown variables."
   ]
  },
  {
   "cell_type": "code",
   "execution_count": 19,
   "metadata": {},
   "outputs": [
    {
     "name": "stdout",
     "output_type": "stream",
     "text": [
      "Updated voltage magnitudes [pu]:  [1, 0.9428571428571428, 1]\n",
      "Updated voltage angles    [rad]:  [0, -0.08636363636363636, 0.07272727272727272]\n"
     ]
    }
   ],
   "source": [
    "def update_Unknowns(J, Δ, J_𝜃, J_V, 𝜃_All, V_All):\n",
    "    import numpy\n",
    "    dx = numpy.linalg.inv(J).dot(Δ)\n",
    "    Threshold = max(abs(dx))\n",
    "\n",
    "    j = 0\n",
    "    for 𝜃 in J_𝜃:\n",
    "        𝜃_All[𝜃] -= dx[j]\n",
    "        j += 1\n",
    "    for V in J_V:\n",
    "        V_All[V] -= dx[j]\n",
    "        j += 1\n",
    "    return V_All, 𝜃_All, dx, Threshold\n",
    "\n",
    "V_All, 𝜃_All, dx, Threshold = update_Unknowns(J, Δ, J_𝜃, J_V, 𝜃_All, V_All)\n",
    "print('Updated voltage magnitudes [pu]: ', V_All)\n",
    "print('Updated voltage angles    [rad]: ', 𝜃_All)"
   ]
  },
  {
   "cell_type": "markdown",
   "metadata": {},
   "source": [
    "Newton's method can now be coded by adding the methods above within a loop, which will iteratively repeat the procedure until the results converge (i.e., error tolerance falls within a threshold). "
   ]
  },
  {
   "cell_type": "code",
   "execution_count": 20,
   "metadata": {},
   "outputs": [
    {
     "name": "stdout",
     "output_type": "stream",
     "text": [
      "The network has 3 branches and 3 buses\n",
      "______________________________\n",
      "Branch | From - To | Impedance\n",
      "------------------------------\n",
      "    1  |    1 -  2 | 0.1j\n",
      "    2  |    1 -  3 | 0.2j\n",
      "    3  |    2 -  3 | 0.25j\n",
      "_______|___________|__________\n",
      "\n",
      "Ybus = \n",
      " [[ 0.-15.j -0.+10.j -0. +5.j]\n",
      " [-0.+10.j  0.-14.j -0. +4.j]\n",
      " [-0. +5.j -0. +4.j  0. -9.j]]\n",
      "\n",
      "Bus:  Type:       V:       𝜃:     Pinj:     Qinj:\n",
      "   1  Slack   1.0000   0.0000         ?         ?\n",
      "   2     PQ        ?        ?   -1.5000   -0.8000\n",
      "   3     PV   1.0000        ?    1.0000         ?\n",
      "\n",
      "***DEVELOP AND SIMPLIFY***\n",
      "P1:\n",
      "P₁ = V₁V₁[G₁,₁cos𝜃₁,₁+B₁,₁sin𝜃₁,₁] + V₁V₂[G₁,₂cos𝜃₁,₂+B₁,₂sin𝜃₁,₂] + V₁V₃[G₁,₃cos𝜃₁,₃+B₁,₃sin𝜃₁,₃] \n",
      "P₁ = V₁*V₁*B₁,₁*sin𝜃₁,₁ + V₁*V₂*B₁,₂*sin𝜃₁,₂ + V₁*V₃*B₁,₃*sin𝜃₁,₃\n",
      "P₁ = V₁*V₂*B₁,₂*sin𝜃₁,₂ + V₁*V₃*B₁,₃*sin𝜃₁,₃\n",
      "P₁ = 1*V₂*10.0*sin(0-𝜃₂) + 1*1*5.0*sin(0-𝜃₃)\n",
      "P₁ = -10.0000V₂sin(𝜃₂)-5.0000sin(𝜃₃).....[Explicit]\n",
      "\n",
      "P2:\n",
      "P₂ = V₂V₁[G₂,₁cos𝜃₂,₁+B₂,₁sin𝜃₂,₁] + V₂V₂[G₂,₂cos𝜃₂,₂+B₂,₂sin𝜃₂,₂] + V₂V₃[G₂,₃cos𝜃₂,₃+B₂,₃sin𝜃₂,₃] \n",
      "P₂ = V₂*V₁*B₂,₁*sin𝜃₂,₁ + V₂*V₂*B₂,₂*sin𝜃₂,₂ + V₂*V₃*B₂,₃*sin𝜃₂,₃\n",
      "P₂ = V₂*V₁*B₂,₁*sin𝜃₂,₁ + V₂*V₃*B₂,₃*sin𝜃₂,₃\n",
      "-1.5 = V₂*1*10.0*sin(𝜃₂-0) + V₂*1*4.0*sin(𝜃₂-𝜃₃)\n",
      "-1.5 = 10.0000V₂sin(𝜃₂) + 4.0000V₂sin(𝜃₂-𝜃₃).....[Implicit]\n",
      "\n",
      "P3:\n",
      "P₃ = V₃V₁[G₃,₁cos𝜃₃,₁+B₃,₁sin𝜃₃,₁] + V₃V₂[G₃,₂cos𝜃₃,₂+B₃,₂sin𝜃₃,₂] + V₃V₃[G₃,₃cos𝜃₃,₃+B₃,₃sin𝜃₃,₃] \n",
      "P₃ = V₃*V₁*B₃,₁*sin𝜃₃,₁ + V₃*V₂*B₃,₂*sin𝜃₃,₂ + V₃*V₃*B₃,₃*sin𝜃₃,₃\n",
      "P₃ = V₃*V₁*B₃,₁*sin𝜃₃,₁ + V₃*V₂*B₃,₂*sin𝜃₃,₂\n",
      "1 = 1*1*5.0*sin(𝜃₃-0) + 1*V₂*4.0*sin(𝜃₃-𝜃₂)\n",
      "1 = 5.0000sin(𝜃₃) + 4.0000V₂sin(𝜃₃-𝜃₂).....[Implicit]\n",
      "\n",
      "Q1:\n",
      "Q₁ = V₁V₁[G₁,₁sin𝜃₁,₁-B₁,₁cos𝜃₁,₁] + V₁V₂[G₁,₂sin𝜃₁,₂-B₁,₂cos𝜃₁,₂] + V₁V₃[G₁,₃sin𝜃₁,₃-B₁,₃cos𝜃₁,₃] \n",
      "Q₁ = V₁*V₁*-B₁,₁*cos𝜃₁,₁ + V₁*V₂*-B₁,₂*cos𝜃₁,₂ + V₁*V₃*-B₁,₃*cos𝜃₁,₃\n",
      "Q₁ = V₁²*-B₁,₁ + V₁*V₂*-B₁,₂*cos𝜃₁,₂ + V₁*V₃*-B₁,₃*cos𝜃₁,₃\n",
      "Q₁ = 1²*--15.0 + 1*V₂*-10.0*cos(0-𝜃₂) + 1*1*-5.0*cos(0-𝜃₃)\n",
      "Q₁ = 15.0000-10.0000V₂cos(𝜃₂)-5.0000cos(𝜃₃).....[Explicit]\n",
      "\n",
      "Q2:\n",
      "Q₂ = V₂V₁[G₂,₁sin𝜃₂,₁-B₂,₁cos𝜃₂,₁] + V₂V₂[G₂,₂sin𝜃₂,₂-B₂,₂cos𝜃₂,₂] + V₂V₃[G₂,₃sin𝜃₂,₃-B₂,₃cos𝜃₂,₃] \n",
      "Q₂ = V₂*V₁*-B₂,₁*cos𝜃₂,₁ + V₂*V₂*-B₂,₂*cos𝜃₂,₂ + V₂*V₃*-B₂,₃*cos𝜃₂,₃\n",
      "Q₂ = V₂*V₁*-B₂,₁*cos𝜃₂,₁ + V₂²*-B₂,₂ + V₂*V₃*-B₂,₃*cos𝜃₂,₃\n",
      "-0.8 = V₂*1*-10.0*cos(𝜃₂-0) + V₂²*--14.0 + V₂*1*-4.0*cos(𝜃₂-𝜃₃)\n",
      "-0.8 = -10.0000V₂cos(𝜃₂) + 14.0000V₂²-4.0000V₂cos(𝜃₂-𝜃₃).....[Implicit]\n",
      "\n",
      "Q3:\n",
      "Q₃ = V₃V₁[G₃,₁sin𝜃₃,₁-B₃,₁cos𝜃₃,₁] + V₃V₂[G₃,₂sin𝜃₃,₂-B₃,₂cos𝜃₃,₂] + V₃V₃[G₃,₃sin𝜃₃,₃-B₃,₃cos𝜃₃,₃] \n",
      "Q₃ = V₃*V₁*-B₃,₁*cos𝜃₃,₁ + V₃*V₂*-B₃,₂*cos𝜃₃,₂ + V₃*V₃*-B₃,₃*cos𝜃₃,₃\n",
      "Q₃ = V₃*V₁*-B₃,₁*cos𝜃₃,₁ + V₃*V₂*-B₃,₂*cos𝜃₃,₂ + V₃²*-B₃,₃\n",
      "Q₃ = 1*1*-5.0*cos(𝜃₃-0) + 1*V₂*-4.0*cos(𝜃₃-𝜃₂) + 1²*--9.0\n",
      "Q₃ = -5.0000cos(𝜃₃)-4.0000V₂cos(𝜃₃-𝜃₂) + 9.0000.....[Explicit]\n",
      "\n",
      "ITERATION: 1\n",
      "Vector of mismatches: [1.5, -1.0, 0.8]\n",
      "Jacobian:\n",
      " [[14. -4.  0.]\n",
      " [-4.  9.  0.]\n",
      " [ 0.  0. 14.]]\n",
      "dx [ 0.08636364 -0.07272727  0.05714286]\n",
      "Updated voltage magnitudes [pu]:  [1, 0.9428571428571428, 1]\n",
      "Updated voltage angles    [rad]:  [0, -0.08636363636363636, 0.07272727272727272]\n",
      "\n",
      "RESULTS:\n",
      "V: [1, 0.9314373515543346, 1] (pu)\n",
      "𝜃: [0, -0.09396781843186998, 0.07486267875586886] (rad)\n",
      "\n",
      "Voltage magnitudes [pu]:  [1, 0.9314373515543346, 1]\n",
      "Voltage angles    [rad]:  [0, -0.09396781843186998, 0.07486267875586886]\n"
     ]
    }
   ],
   "source": [
    "Ybus = get_Ybus(Connectivity, True)\n",
    "P_Data, Q_Data = develop_PF_Equations(Load, Generator, Ybus, True)\n",
    "Bus_Data, Bus_Type = get_Bus_Type(Ybus, Load, Generator)\n",
    "def Newtons_Method(P_Data, Q_Data, Bus_Data, Bus_Type, Generator, Disp_Iter=1):\n",
    "    J_P, J_Q, J_V, J_𝜃, V_All, 𝜃_All = get_Imp_Unk(Bus_Type, Generator)\n",
    "\n",
    "    iterations = 0\n",
    "    flg = True\n",
    "    while flg:\n",
    "        Δ = get_ΔPQ(P_Data, Q_Data, J_P, J_Q, J_V, J_𝜃, V_All, 𝜃_All)\n",
    "        J = get_Jacobian(P_Data, Q_Data, J_P, J_Q, J_V, J_𝜃, V_All, 𝜃_All)\n",
    "        V_All, 𝜃_All, dx, Threshold = update_Unknowns(J, Δ, J_𝜃, J_V, 𝜃_All,\n",
    "                                                      V_All)\n",
    "\n",
    "        iterations += 1\n",
    "        if iterations <= Disp_Iter:\n",
    "            print('ITERATION:', iterations)\n",
    "            print('Vector of mismatches:', Δ)\n",
    "            print('Jacobian:\\n', J)\n",
    "            print('dx', dx)\n",
    "            print('Updated voltage magnitudes [pu]: ', V_All)\n",
    "            print('Updated voltage angles    [rad]: ', 𝜃_All)\n",
    "            print()\n",
    "\n",
    "        if iterations > 20:\n",
    "            print('The model failed to converge after 20 iterations')\n",
    "            flg = False\n",
    "            Succes = False\n",
    "        if Threshold < 0.0001:\n",
    "            flg = False\n",
    "            Succes = True\n",
    "    if Disp_Iter > 0:\n",
    "        print('RESULTS:')\n",
    "        print('V:', V_All, '(pu)')\n",
    "        print('𝜃:', 𝜃_All, '(rad)')\n",
    "        print()\n",
    "\n",
    "    return V_All, 𝜃_All, Threshold, Succes\n",
    "\n",
    "V_All, 𝜃_All, Threshold, Succes = Newtons_Method(P_Data, Q_Data, Bus_Data, Bus_Type, Generator)\n",
    "print('Voltage magnitudes [pu]: ', V_All)\n",
    "print('Voltage angles    [rad]: ', 𝜃_All)"
   ]
  },
  {
   "cell_type": "markdown",
   "metadata": {},
   "source": [
    "[Back to top](#EEEN30131-Power-System-Analysis:-Week-03---Newton-Raphson)"
   ]
  },
  {
   "cell_type": "markdown",
   "metadata": {},
   "source": [
    "Calculating the voltages is generally not sufficient to assess the conditions of the power system. Thus, it is convenient to also calculate the net power injections, currents, and power flows and losses."
   ]
  },
  {
   "cell_type": "code",
   "execution_count": 21,
   "metadata": {},
   "outputs": [],
   "source": [
    "def get_Parameters(Connectivity, V_All, 𝜃_All, Succes):\n",
    "    ''' Calculate additional parameters '''\n",
    "    if not Succes:\n",
    "        return\n",
    "\n",
    "    Base = 100\n",
    "    Number_Buses = len(V_All)\n",
    "\n",
    "    Results = {}\n",
    "    Results['Connectivity'] = Connectivity\n",
    "    Results['Voltage'] = []\n",
    "    Results['Current'] = []\n",
    "    Results['Sending_Power'] = []\n",
    "    Results['Receiving_Power'] = []\n",
    "    Results['Net_Power'] = [0 for bus in range(Number_Buses)]\n",
    "    Results['Loss'] = []\n",
    "\n",
    "    # Get complex voltages\n",
    "    for bus in range(Number_Buses):\n",
    "        Results['Voltage'].append(V_All[bus]*complex(math.cos(𝜃_All[bus]),\n",
    "                                                     math.sin(𝜃_All[bus])))\n",
    "\n",
    "    for branch in Connectivity:\n",
    "        s = branch[0]-1\n",
    "        r = branch[1]-1\n",
    "        Y = 1/branch[2]\n",
    "\n",
    "        # Complex voltages\n",
    "        Vs = Results['Voltage'][s]\n",
    "        Vr = Results['Voltage'][r]\n",
    "\n",
    "        # Complex current\n",
    "        I = Y * (Vs - Vr)\n",
    "\n",
    "        # Power at both ends of the line\n",
    "        Ss = Vs*I.conjugate()*Base\n",
    "        Sr = -Vr*I.conjugate()*Base\n",
    "\n",
    "        # Store data\n",
    "        Results['Current'].append(I)\n",
    "        Results['Sending_Power'].append(Ss)\n",
    "        Results['Receiving_Power'].append(Sr)\n",
    "        Results['Loss'].append(Ss+Sr)\n",
    "        Results['Net_Power'][s] += Ss\n",
    "        Results['Net_Power'][r] += Sr\n",
    "\n",
    "    return Results"
   ]
  },
  {
   "cell_type": "markdown",
   "metadata": {},
   "source": [
    "Finally, let us develop a method to visualize all the calculated network parameters."
   ]
  },
  {
   "cell_type": "code",
   "execution_count": 22,
   "metadata": {},
   "outputs": [
    {
     "name": "stdout",
     "output_type": "stream",
     "text": [
      "VOLTAGES  [pu] [deg]:\n",
      " 1)   1.0000 +j   0.0000 (  1.0000 ∠   0.0000)\n",
      " 2)   0.9273 +j  -0.0874 (  0.9314 ∠  -5.3840)\n",
      " 3)   0.9972 +j   0.0748 (  1.0000 ∠   4.2893)\n",
      "NET POWER INJECTIONS [MVA]:\n",
      " 1)  50.0000 +j  74.0723\n",
      " 2) -150.0000 +j -80.0000\n",
      " 3) 100.0000 +j  34.1228\n",
      "CURRENTS [pu] [deg]:\n",
      " 1- 2)   0.8740 +j  -0.7267 (  1.1366 ∠ -39.7442)\n",
      " 1- 3)  -0.3740 +j  -0.0140 (  0.3742 ∠ -177.8553)\n",
      " 2- 3)  -0.6488 +j   0.2795 (  0.7064 ∠ 156.6937)\n",
      "POWER FLOWS [MVA]:\n",
      "      From:                To:                   Loss:\n",
      " 1- 2)  87.3964 +j  72.6719 -87.3964 +j -59.7526 (  0.0000 +j  12.9193)\n",
      " 1- 3) -37.3964 +j   1.4005  37.3964 +j   1.4005 (  0.0000 +j   2.8009)\n",
      " 2- 3) -62.6036 +j -20.2474  62.6036 +j  32.7223 (  0.0000 +j  12.4749)\n"
     ]
    }
   ],
   "source": [
    "def Visualize_Elec(Connectivity, V_All, 𝜃_All, Succes):\n",
    "    Results = get_Parameters(Connectivity, V_All, 𝜃_All, Succes)\n",
    "    if not Succes:\n",
    "        return\n",
    "\n",
    "    # Number_Buses = len(V_All)\n",
    "    print('VOLTAGES  [pu] [deg]:')\n",
    "    xn = 0\n",
    "    for V in Results['Voltage']:\n",
    "        xn += 1\n",
    "        print('%2.0f) %8.4f +j %8.4f (%8.4f ∠ %8.4f)'\n",
    "              % (xn, V.real, V.imag, abs(V), cmath.phase(V)*180/math.pi))\n",
    "\n",
    "    print('NET POWER INJECTIONS [MVA]:')\n",
    "    xn = 0\n",
    "    for S in Results['Net_Power']:\n",
    "        xn += 1\n",
    "        print('%2.0f) %8.4f +j %8.4f' % (xn, S.real, S.imag))\n",
    "\n",
    "    print('CURRENTS [pu] [deg]:')\n",
    "    xb = 0\n",
    "    for branch in Results['Connectivity']:\n",
    "        s = branch[0]\n",
    "        r = branch[1]\n",
    "        I = Results['Current'][xb]\n",
    "        xb += 1\n",
    "        print('%2.0f-%2.0f) %8.4f +j %8.4f (%8.4f ∠ %8.4f)'\n",
    "              % (s, r, I.real, I.imag, abs(I), cmath.phase(I)*180/math.pi))\n",
    "\n",
    "    print('POWER FLOWS [MVA]:')\n",
    "    print('      From:                To:                   Loss:')\n",
    "    xb = 0\n",
    "    for branch in Results['Connectivity']:\n",
    "        s = branch[0]\n",
    "        r = branch[1]\n",
    "        Ss = Results['Sending_Power'][xb]\n",
    "        Sr = Results['Receiving_Power'][xb]\n",
    "        xb += 1\n",
    "        print('%2.0f-%2.0f) %8.4f +j %8.4f %8.4f +j %8.4f (%8.4f +j %8.4f)'\n",
    "              % (s, r, Ss.real, Ss.imag, Sr.real, Sr.imag, Ss.real+Sr.real,\n",
    "                 Ss.imag+Sr.imag))\n",
    "\n",
    "Visualize_Elec(Connectivity, V_All, 𝜃_All, Succes)"
   ]
  },
  {
   "cell_type": "markdown",
   "metadata": {},
   "source": [
    "[Back to top](#EEEN30131-Power-System-Analysis:-Week-03---Newton-Raphson)"
   ]
  },
  {
   "cell_type": "markdown",
   "metadata": {},
   "source": [
    "## Case studies"
   ]
  },
  {
   "cell_type": "markdown",
   "metadata": {},
   "source": [
    "### Three-bus network"
   ]
  },
  {
   "cell_type": "markdown",
   "metadata": {},
   "source": [
    "The example presented above can be solved with the tools as follows:"
   ]
  },
  {
   "cell_type": "markdown",
   "metadata": {},
   "source": [
    "<img src=\"Figures/Week02_3Bus.png\" alt=\"Fig01\" class=\"bg-primary\" width=\"500px\">"
   ]
  },
  {
   "cell_type": "code",
   "execution_count": 23,
   "metadata": {},
   "outputs": [
    {
     "name": "stdout",
     "output_type": "stream",
     "text": [
      "The network has 3 branches and 3 buses\n",
      "______________________________\n",
      "Branch | From - To | Impedance\n",
      "------------------------------\n",
      "    1  |    1 -  2 | 0.1j\n",
      "    2  |    1 -  3 | 0.2j\n",
      "    3  |    2 -  3 | 0.25j\n",
      "_______|___________|__________\n",
      "\n",
      "Ybus = \n",
      " [[ 0.-15.j -0.+10.j -0. +5.j]\n",
      " [-0.+10.j  0.-14.j -0. +4.j]\n",
      " [-0. +5.j -0. +4.j  0. -9.j]]\n",
      "\n",
      "Bus:  Type:       V:       𝜃:     Pinj:     Qinj:\n",
      "   1  Slack   1.0000   0.0000         ?         ?\n",
      "   2     PQ        ?        ?   -1.5000   -0.8000\n",
      "   3     PV   1.0000        ?    1.0000         ?\n",
      "\n",
      "***DEVELOP AND SIMPLIFY***\n",
      "P1:\n",
      "P₁ = V₁V₁[G₁,₁cos𝜃₁,₁+B₁,₁sin𝜃₁,₁] + V₁V₂[G₁,₂cos𝜃₁,₂+B₁,₂sin𝜃₁,₂] + V₁V₃[G₁,₃cos𝜃₁,₃+B₁,₃sin𝜃₁,₃] \n",
      "P₁ = V₁*V₁*B₁,₁*sin𝜃₁,₁ + V₁*V₂*B₁,₂*sin𝜃₁,₂ + V₁*V₃*B₁,₃*sin𝜃₁,₃\n",
      "P₁ = V₁*V₂*B₁,₂*sin𝜃₁,₂ + V₁*V₃*B₁,₃*sin𝜃₁,₃\n",
      "P₁ = 1*V₂*10.0*sin(0-𝜃₂) + 1*1*5.0*sin(0-𝜃₃)\n",
      "P₁ = -10.0000V₂sin(𝜃₂)-5.0000sin(𝜃₃).....[Explicit]\n",
      "\n",
      "P2:\n",
      "P₂ = V₂V₁[G₂,₁cos𝜃₂,₁+B₂,₁sin𝜃₂,₁] + V₂V₂[G₂,₂cos𝜃₂,₂+B₂,₂sin𝜃₂,₂] + V₂V₃[G₂,₃cos𝜃₂,₃+B₂,₃sin𝜃₂,₃] \n",
      "P₂ = V₂*V₁*B₂,₁*sin𝜃₂,₁ + V₂*V₂*B₂,₂*sin𝜃₂,₂ + V₂*V₃*B₂,₃*sin𝜃₂,₃\n",
      "P₂ = V₂*V₁*B₂,₁*sin𝜃₂,₁ + V₂*V₃*B₂,₃*sin𝜃₂,₃\n",
      "-1.5 = V₂*1*10.0*sin(𝜃₂-0) + V₂*1*4.0*sin(𝜃₂-𝜃₃)\n",
      "-1.5 = 10.0000V₂sin(𝜃₂) + 4.0000V₂sin(𝜃₂-𝜃₃).....[Implicit]\n",
      "\n",
      "P3:\n",
      "P₃ = V₃V₁[G₃,₁cos𝜃₃,₁+B₃,₁sin𝜃₃,₁] + V₃V₂[G₃,₂cos𝜃₃,₂+B₃,₂sin𝜃₃,₂] + V₃V₃[G₃,₃cos𝜃₃,₃+B₃,₃sin𝜃₃,₃] \n",
      "P₃ = V₃*V₁*B₃,₁*sin𝜃₃,₁ + V₃*V₂*B₃,₂*sin𝜃₃,₂ + V₃*V₃*B₃,₃*sin𝜃₃,₃\n",
      "P₃ = V₃*V₁*B₃,₁*sin𝜃₃,₁ + V₃*V₂*B₃,₂*sin𝜃₃,₂\n",
      "1 = 1*1*5.0*sin(𝜃₃-0) + 1*V₂*4.0*sin(𝜃₃-𝜃₂)\n",
      "1 = 5.0000sin(𝜃₃) + 4.0000V₂sin(𝜃₃-𝜃₂).....[Implicit]\n",
      "\n",
      "Q1:\n",
      "Q₁ = V₁V₁[G₁,₁sin𝜃₁,₁-B₁,₁cos𝜃₁,₁] + V₁V₂[G₁,₂sin𝜃₁,₂-B₁,₂cos𝜃₁,₂] + V₁V₃[G₁,₃sin𝜃₁,₃-B₁,₃cos𝜃₁,₃] \n",
      "Q₁ = V₁*V₁*-B₁,₁*cos𝜃₁,₁ + V₁*V₂*-B₁,₂*cos𝜃₁,₂ + V₁*V₃*-B₁,₃*cos𝜃₁,₃\n",
      "Q₁ = V₁²*-B₁,₁ + V₁*V₂*-B₁,₂*cos𝜃₁,₂ + V₁*V₃*-B₁,₃*cos𝜃₁,₃\n",
      "Q₁ = 1²*--15.0 + 1*V₂*-10.0*cos(0-𝜃₂) + 1*1*-5.0*cos(0-𝜃₃)\n",
      "Q₁ = 15.0000-10.0000V₂cos(𝜃₂)-5.0000cos(𝜃₃).....[Explicit]\n",
      "\n",
      "Q2:\n",
      "Q₂ = V₂V₁[G₂,₁sin𝜃₂,₁-B₂,₁cos𝜃₂,₁] + V₂V₂[G₂,₂sin𝜃₂,₂-B₂,₂cos𝜃₂,₂] + V₂V₃[G₂,₃sin𝜃₂,₃-B₂,₃cos𝜃₂,₃] \n",
      "Q₂ = V₂*V₁*-B₂,₁*cos𝜃₂,₁ + V₂*V₂*-B₂,₂*cos𝜃₂,₂ + V₂*V₃*-B₂,₃*cos𝜃₂,₃\n",
      "Q₂ = V₂*V₁*-B₂,₁*cos𝜃₂,₁ + V₂²*-B₂,₂ + V₂*V₃*-B₂,₃*cos𝜃₂,₃\n",
      "-0.8 = V₂*1*-10.0*cos(𝜃₂-0) + V₂²*--14.0 + V₂*1*-4.0*cos(𝜃₂-𝜃₃)\n",
      "-0.8 = -10.0000V₂cos(𝜃₂) + 14.0000V₂²-4.0000V₂cos(𝜃₂-𝜃₃).....[Implicit]\n",
      "\n",
      "Q3:\n",
      "Q₃ = V₃V₁[G₃,₁sin𝜃₃,₁-B₃,₁cos𝜃₃,₁] + V₃V₂[G₃,₂sin𝜃₃,₂-B₃,₂cos𝜃₃,₂] + V₃V₃[G₃,₃sin𝜃₃,₃-B₃,₃cos𝜃₃,₃] \n",
      "Q₃ = V₃*V₁*-B₃,₁*cos𝜃₃,₁ + V₃*V₂*-B₃,₂*cos𝜃₃,₂ + V₃*V₃*-B₃,₃*cos𝜃₃,₃\n",
      "Q₃ = V₃*V₁*-B₃,₁*cos𝜃₃,₁ + V₃*V₂*-B₃,₂*cos𝜃₃,₂ + V₃²*-B₃,₃\n",
      "Q₃ = 1*1*-5.0*cos(𝜃₃-0) + 1*V₂*-4.0*cos(𝜃₃-𝜃₂) + 1²*--9.0\n",
      "Q₃ = -5.0000cos(𝜃₃)-4.0000V₂cos(𝜃₃-𝜃₂) + 9.0000.....[Explicit]\n",
      "\n",
      "The implicit equations correspond to:\n",
      "P2 P3 Q2 \n",
      "The unknown variables are:\n",
      "𝜃2 𝜃3 V2 \n",
      "\n",
      "Vector of missmatches\n",
      "ΔP₂ = 10.0000V₂sin𝜃₂ + 4.0000V₂sin(𝜃₂-𝜃₃) + 1.5000\n",
      "ΔP₃ = 5.0000sin𝜃₃ + 4.0000V₂sin(𝜃₃-𝜃₂) - 1.0000\n",
      "ΔQ₂ = -10.0000V₂cos𝜃₂ + 14.0000V₂²-4.0000V₂cos(𝜃₂-𝜃₃) + 0.8000\n",
      "\n",
      "Equations that form the Jacobian matrix\n",
      "∂ΔP₂/∂𝜃2 = 10.0000V₂cos𝜃₂ + 4.0000V₂cos(𝜃₂-𝜃₃)\n",
      "∂ΔP₂/∂𝜃3 = -4.0000V₂cos(𝜃₂-𝜃₃)\n",
      "∂ΔP₂/∂V2 = 10.0000sin𝜃₂ + 4.0000sin(𝜃₂-𝜃₃)\n",
      "\n",
      "∂ΔP₃/∂𝜃2 = -4.0000V₂cos(𝜃₃-𝜃₂)\n",
      "∂ΔP₃/∂𝜃3 = 5.0000cos𝜃₃ + 4.0000V₂cos(𝜃₃-𝜃₂)\n",
      "∂ΔP₃/∂V2 = 4.0000sin(𝜃₃-𝜃₂)\n",
      "\n",
      "∂ΔQ₂/∂𝜃2 = 10.0000V₂sin𝜃₂ + 4.0000V₂sin(𝜃₂-𝜃₃)\n",
      "∂ΔQ₂/∂𝜃3 = -4.0000V₂sin(𝜃₂-𝜃₃)\n",
      "∂ΔQ₂/∂V2 = -10.0000cos𝜃₂ + 28.0000-4.0000cos(𝜃₂-𝜃₃)\n",
      "\n",
      "ITERATION: 1\n",
      "Vector of mismatches: [1.5, -1.0, 0.8]\n",
      "Jacobian:\n",
      " [[14. -4.  0.]\n",
      " [-4.  9.  0.]\n",
      " [ 0.  0. 14.]]\n",
      "dx [ 0.08636364 -0.07272727  0.05714286]\n",
      "Updated voltage magnitudes [pu]:  [1, 0.9428571428571428, 1]\n",
      "Updated voltage angles    [rad]:  [0, -0.08636363636363636, 0.07272727272727272]\n",
      "\n",
      "RESULTS:\n",
      "V: [1, 0.9314373515543346, 1] (pu)\n",
      "𝜃: [0, -0.09396781843186998, 0.07486267875586886] (rad)\n",
      "\n",
      "VOLTAGES  [pu] [deg]:\n",
      " 1)   1.0000 +j   0.0000 (  1.0000 ∠   0.0000)\n",
      " 2)   0.9273 +j  -0.0874 (  0.9314 ∠  -5.3840)\n",
      " 3)   0.9972 +j   0.0748 (  1.0000 ∠   4.2893)\n",
      "NET POWER INJECTIONS [MVA]:\n",
      " 1)  50.0000 +j  74.0723\n",
      " 2) -150.0000 +j -80.0000\n",
      " 3) 100.0000 +j  34.1228\n",
      "CURRENTS [pu] [deg]:\n",
      " 1- 2)   0.8740 +j  -0.7267 (  1.1366 ∠ -39.7442)\n",
      " 1- 3)  -0.3740 +j  -0.0140 (  0.3742 ∠ -177.8553)\n",
      " 2- 3)  -0.6488 +j   0.2795 (  0.7064 ∠ 156.6937)\n",
      "POWER FLOWS [MVA]:\n",
      "      From:                To:                   Loss:\n",
      " 1- 2)  87.3964 +j  72.6719 -87.3964 +j -59.7526 (  0.0000 +j  12.9193)\n",
      " 1- 3) -37.3964 +j   1.4005  37.3964 +j   1.4005 (  0.0000 +j   2.8009)\n",
      " 2- 3) -62.6036 +j -20.2474  62.6036 +j  32.7223 (  0.0000 +j  12.4749)\n"
     ]
    }
   ],
   "source": [
    "Connectivity = [\n",
    "    [1, 2, complex(0, 0.10)],\n",
    "    [1, 3, complex(0, 0.20)],\n",
    "    [2, 3, complex(0, 0.25)]\n",
    "]\n",
    "Load = [\n",
    "    [2, complex(1.5, 0.8)]\n",
    "]\n",
    "Generator = [\n",
    "    {'Bus':1, 'V':1, '𝜃':0 },\n",
    "    {'Bus':3, 'P':1, 'V':1}\n",
    "]\n",
    "\n",
    "# From Week 01\n",
    "Ybus = get_Ybus(Connectivity, True)\n",
    "\n",
    "# From Week 02\n",
    "P_Data, Q_Data = develop_PF_Equations(Load, Generator, Ybus, True)\n",
    "Bus_Data, Bus_Type = get_Bus_Type(Ybus, Load, Generator)\n",
    "\n",
    "# From Week 03\n",
    "develop_Jacobian(P_Data, Q_Data, Bus_Type, Generator)\n",
    "V_All, 𝜃_All, Threshold, Succes = Newtons_Method(P_Data, Q_Data, Bus_Data, Bus_Type, Generator)\n",
    "Visualize_Elec(Connectivity, V_All, 𝜃_All, Succes)"
   ]
  },
  {
   "cell_type": "markdown",
   "metadata": {},
   "source": [
    "[Back to top](#EEEN30131-Power-System-Analysis:-Week-03---Newton-Raphson)"
   ]
  },
  {
   "cell_type": "markdown",
   "metadata": {},
   "source": [
    "### Two-bus network"
   ]
  },
  {
   "cell_type": "markdown",
   "metadata": {},
   "source": [
    "Let us now try a different example, a 2-bus system:"
   ]
  },
  {
   "cell_type": "markdown",
   "metadata": {},
   "source": [
    "![Week02_2Bus.png](Figures/Week02_2Bus.png)"
   ]
  },
  {
   "cell_type": "code",
   "execution_count": 24,
   "metadata": {},
   "outputs": [
    {
     "name": "stdout",
     "output_type": "stream",
     "text": [
      "The network has 1 branches and 2 buses\n",
      "______________________________\n",
      "Branch | From - To | Impedance\n",
      "------------------------------\n",
      "    1  |    1 -  2 | 0.1j\n",
      "_______|___________|__________\n",
      "\n",
      "Ybus = \n",
      " [[ 0.-10.j -0.+10.j]\n",
      " [-0.+10.j  0.-10.j]]\n",
      "\n",
      "Bus:  Type:       V:       𝜃:     Pinj:     Qinj:\n",
      "   1  Slack   1.0000   0.0000         ?         ?\n",
      "   2     PQ        ?        ?   -0.5000   -0.5000\n",
      "\n",
      "***DEVELOP AND SIMPLIFY***\n",
      "P1:\n",
      "P₁ = V₁V₁[G₁,₁cos𝜃₁,₁+B₁,₁sin𝜃₁,₁] + V₁V₂[G₁,₂cos𝜃₁,₂+B₁,₂sin𝜃₁,₂] \n",
      "P₁ = V₁*V₁*B₁,₁*sin𝜃₁,₁ + V₁*V₂*B₁,₂*sin𝜃₁,₂\n",
      "P₁ = V₁*V₂*B₁,₂*sin𝜃₁,₂\n",
      "P₁ = 1*V₂*10.0*sin(0-𝜃₂)\n",
      "P₁ = -10.0000V₂sin(𝜃₂).....[Explicit]\n",
      "\n",
      "P2:\n",
      "P₂ = V₂V₁[G₂,₁cos𝜃₂,₁+B₂,₁sin𝜃₂,₁] + V₂V₂[G₂,₂cos𝜃₂,₂+B₂,₂sin𝜃₂,₂] \n",
      "P₂ = V₂*V₁*B₂,₁*sin𝜃₂,₁ + V₂*V₂*B₂,₂*sin𝜃₂,₂\n",
      "P₂ = V₂*V₁*B₂,₁*sin𝜃₂,₁\n",
      "-0.5 = V₂*1*10.0*sin(𝜃₂-0)\n",
      "-0.5 = 10.0000V₂sin(𝜃₂).....[Implicit]\n",
      "\n",
      "Q1:\n",
      "Q₁ = V₁V₁[G₁,₁sin𝜃₁,₁-B₁,₁cos𝜃₁,₁] + V₁V₂[G₁,₂sin𝜃₁,₂-B₁,₂cos𝜃₁,₂] \n",
      "Q₁ = V₁*V₁*-B₁,₁*cos𝜃₁,₁ + V₁*V₂*-B₁,₂*cos𝜃₁,₂\n",
      "Q₁ = V₁²*-B₁,₁ + V₁*V₂*-B₁,₂*cos𝜃₁,₂\n",
      "Q₁ = 1²*--10.0 + 1*V₂*-10.0*cos(0-𝜃₂)\n",
      "Q₁ = 10.0000-10.0000V₂cos(𝜃₂).....[Explicit]\n",
      "\n",
      "Q2:\n",
      "Q₂ = V₂V₁[G₂,₁sin𝜃₂,₁-B₂,₁cos𝜃₂,₁] + V₂V₂[G₂,₂sin𝜃₂,₂-B₂,₂cos𝜃₂,₂] \n",
      "Q₂ = V₂*V₁*-B₂,₁*cos𝜃₂,₁ + V₂*V₂*-B₂,₂*cos𝜃₂,₂\n",
      "Q₂ = V₂*V₁*-B₂,₁*cos𝜃₂,₁ + V₂²*-B₂,₂\n",
      "-0.5 = V₂*1*-10.0*cos(𝜃₂-0) + V₂²*--10.0\n",
      "-0.5 = -10.0000V₂cos(𝜃₂) + 10.0000V₂².....[Implicit]\n",
      "\n",
      "The implicit equations correspond to:\n",
      "P2 Q2 \n",
      "The unknown variables are:\n",
      "𝜃2 V2 \n",
      "\n",
      "Vector of missmatches\n",
      "ΔP₂ = 10.0000V₂sin𝜃₂ + 0.5000\n",
      "ΔQ₂ = -10.0000V₂cos𝜃₂ + 10.0000V₂² + 0.5000\n",
      "\n",
      "Equations that form the Jacobian matrix\n",
      "∂ΔP₂/∂𝜃2 = 10.0000V₂cos𝜃₂\n",
      "∂ΔP₂/∂V2 = 10.0000sin𝜃₂\n",
      "\n",
      "∂ΔQ₂/∂𝜃2 = 10.0000V₂sin𝜃₂\n",
      "∂ΔQ₂/∂V2 = -10.0000cos𝜃₂ + 20.0000\n",
      "\n",
      "ITERATION: 1\n",
      "Vector of mismatches: [0.5, 0.5]\n",
      "Jacobian:\n",
      " [[10.  0.]\n",
      " [ 0. 10.]]\n",
      "dx [0.05 0.05]\n",
      "Updated voltage magnitudes [pu]:  [1, 0.95]\n",
      "Updated voltage angles    [rad]:  [0, -0.05]\n",
      "\n",
      "RESULTS:\n",
      "V: [1, 0.9457323735452622] (pu)\n",
      "𝜃: [0, -0.052893739510771955] (rad)\n",
      "\n",
      "VOLTAGES  [pu] [deg]:\n",
      " 1)   1.0000 +j   0.0000 (  1.0000 ∠   0.0000)\n",
      " 2)   0.9444 +j  -0.0500 (  0.9457 ∠  -3.0306)\n",
      "NET POWER INJECTIONS [MVA]:\n",
      " 1)  50.0000 +j  55.5903\n",
      " 2) -50.0000 +j -50.0000\n",
      "CURRENTS [pu] [deg]:\n",
      " 1- 2)   0.5000 +j  -0.5559 (  0.7477 ∠ -48.0306)\n",
      "POWER FLOWS [MVA]:\n",
      "      From:                To:                   Loss:\n",
      " 1- 2)  50.0000 +j  55.5903 -50.0000 +j -50.0000 (  0.0000 +j   5.5903)\n"
     ]
    }
   ],
   "source": [
    "Connectivity = [\n",
    "    [1, 2, complex(0, 0.10)]\n",
    "]\n",
    "Load = [\n",
    "    [2, complex(0.5, 0.5)]\n",
    "]\n",
    "Generator = [\n",
    "    {'Bus':1, 'V':1, '𝜃':0 }\n",
    "]\n",
    "\n",
    "# From Week 01\n",
    "Ybus = get_Ybus(Connectivity, True)\n",
    "\n",
    "# From Week 02\n",
    "P_Data, Q_Data = develop_PF_Equations(Load, Generator, Ybus, True)\n",
    "Bus_Data, Bus_Type = get_Bus_Type(Ybus, Load, Generator)\n",
    "\n",
    "# From Week 03\n",
    "develop_Jacobian(P_Data, Q_Data, Bus_Type, Generator)\n",
    "V_All, 𝜃_All, Threshold, Succes = Newtons_Method(P_Data, Q_Data, Bus_Data, Bus_Type, Generator)\n",
    "Visualize_Elec(Connectivity, V_All, 𝜃_All, Succes)"
   ]
  },
  {
   "cell_type": "markdown",
   "metadata": {},
   "source": [
    "[Back to top](#EEEN30131-Power-System-Analysis:-Week-03---Newton-Raphson)"
   ]
  },
  {
   "cell_type": "markdown",
   "metadata": {},
   "source": [
    "### Four-bus network"
   ]
  },
  {
   "cell_type": "markdown",
   "metadata": {},
   "source": [
    "Let us now try a bigger network:"
   ]
  },
  {
   "cell_type": "markdown",
   "metadata": {},
   "source": [
    "![Week02_4Bus.png](Figures/Week02_4Bus.png)"
   ]
  },
  {
   "cell_type": "code",
   "execution_count": 25,
   "metadata": {},
   "outputs": [
    {
     "name": "stdout",
     "output_type": "stream",
     "text": [
      "The network has 3 branches and 4 buses\n",
      "______________________________\n",
      "Branch | From - To | Impedance\n",
      "------------------------------\n",
      "    1  |    1 -  2 | 0.25j\n",
      "    2  |    1 -  3 | 0.5j\n",
      "    3  |    3 -  4 | 0.25j\n",
      "_______|___________|__________\n",
      "\n",
      "Ybus = \n",
      " [[ 0.-6.j -0.+4.j -0.+2.j  0.+0.j]\n",
      " [-0.+4.j  0.-4.j  0.+0.j  0.+0.j]\n",
      " [-0.+2.j  0.+0.j  0.-6.j -0.+4.j]\n",
      " [ 0.+0.j  0.+0.j -0.+4.j  0.-4.j]]\n",
      "\n",
      "Bus:  Type:       V:       𝜃:     Pinj:     Qinj:\n",
      "   1  Slack   1.0000   0.0000         ?         ?\n",
      "   2     PQ        ?        ?   -0.5000   -0.3000\n",
      "   3     PV   1.0000        ?    0.2000         ?\n",
      "   4     PQ        ?        ?   -1.0000   -0.5000\n",
      "\n",
      "***DEVELOP AND SIMPLIFY***\n",
      "P1:\n",
      "P₁ = V₁V₁[G₁,₁cos𝜃₁,₁+B₁,₁sin𝜃₁,₁] + V₁V₂[G₁,₂cos𝜃₁,₂+B₁,₂sin𝜃₁,₂] + V₁V₃[G₁,₃cos𝜃₁,₃+B₁,₃sin𝜃₁,₃] + V₁V₄[G₁,₄cos𝜃₁,₄+B₁,₄sin𝜃₁,₄] \n",
      "P₁ = V₁*V₁*B₁,₁*sin𝜃₁,₁ + V₁*V₂*B₁,₂*sin𝜃₁,₂ + V₁*V₃*B₁,₃*sin𝜃₁,₃\n",
      "P₁ = V₁*V₂*B₁,₂*sin𝜃₁,₂ + V₁*V₃*B₁,₃*sin𝜃₁,₃\n",
      "P₁ = 1*V₂*4.0*sin(0-𝜃₂) + 1*1*2.0*sin(0-𝜃₃)\n",
      "P₁ = -4.0000V₂sin(𝜃₂)-2.0000sin(𝜃₃).....[Explicit]\n",
      "\n",
      "P2:\n",
      "P₂ = V₂V₁[G₂,₁cos𝜃₂,₁+B₂,₁sin𝜃₂,₁] + V₂V₂[G₂,₂cos𝜃₂,₂+B₂,₂sin𝜃₂,₂] + V₂V₃[G₂,₃cos𝜃₂,₃+B₂,₃sin𝜃₂,₃] + V₂V₄[G₂,₄cos𝜃₂,₄+B₂,₄sin𝜃₂,₄] \n",
      "P₂ = V₂*V₁*B₂,₁*sin𝜃₂,₁ + V₂*V₂*B₂,₂*sin𝜃₂,₂\n",
      "P₂ = V₂*V₁*B₂,₁*sin𝜃₂,₁\n",
      "-0.5 = V₂*1*4.0*sin(𝜃₂-0)\n",
      "-0.5 = 4.0000V₂sin(𝜃₂).....[Implicit]\n",
      "\n",
      "P3:\n",
      "P₃ = V₃V₁[G₃,₁cos𝜃₃,₁+B₃,₁sin𝜃₃,₁] + V₃V₂[G₃,₂cos𝜃₃,₂+B₃,₂sin𝜃₃,₂] + V₃V₃[G₃,₃cos𝜃₃,₃+B₃,₃sin𝜃₃,₃] + V₃V₄[G₃,₄cos𝜃₃,₄+B₃,₄sin𝜃₃,₄] \n",
      "P₃ = V₃*V₁*B₃,₁*sin𝜃₃,₁ + V₃*V₃*B₃,₃*sin𝜃₃,₃ + V₃*V₄*B₃,₄*sin𝜃₃,₄\n",
      "P₃ = V₃*V₁*B₃,₁*sin𝜃₃,₁ + V₃*V₄*B₃,₄*sin𝜃₃,₄\n",
      "0.19999999999999996 = 1*1*2.0*sin(𝜃₃-0) + 1*V₄*4.0*sin(𝜃₃-𝜃₄)\n",
      "0.19999999999999996 = 2.0000sin(𝜃₃) + 4.0000V₄sin(𝜃₃-𝜃₄).....[Implicit]\n",
      "\n",
      "P4:\n",
      "P₄ = V₄V₁[G₄,₁cos𝜃₄,₁+B₄,₁sin𝜃₄,₁] + V₄V₂[G₄,₂cos𝜃₄,₂+B₄,₂sin𝜃₄,₂] + V₄V₃[G₄,₃cos𝜃₄,₃+B₄,₃sin𝜃₄,₃] + V₄V₄[G₄,₄cos𝜃₄,₄+B₄,₄sin𝜃₄,₄] \n",
      "P₄ = V₄*V₃*B₄,₃*sin𝜃₄,₃ + V₄*V₄*B₄,₄*sin𝜃₄,₄\n",
      "P₄ = V₄*V₃*B₄,₃*sin𝜃₄,₃\n",
      "-1.0 = V₄*1*4.0*sin(𝜃₄-𝜃₃)\n",
      "-1.0 = 4.0000V₄sin(𝜃₄-𝜃₃).....[Implicit]\n",
      "\n",
      "Q1:\n",
      "Q₁ = V₁V₁[G₁,₁sin𝜃₁,₁-B₁,₁cos𝜃₁,₁] + V₁V₂[G₁,₂sin𝜃₁,₂-B₁,₂cos𝜃₁,₂] + V₁V₃[G₁,₃sin𝜃₁,₃-B₁,₃cos𝜃₁,₃] + V₁V₄[G₁,₄sin𝜃₁,₄-B₁,₄cos𝜃₁,₄] \n",
      "Q₁ = V₁*V₁*-B₁,₁*cos𝜃₁,₁ + V₁*V₂*-B₁,₂*cos𝜃₁,₂ + V₁*V₃*-B₁,₃*cos𝜃₁,₃\n",
      "Q₁ = V₁²*-B₁,₁ + V₁*V₂*-B₁,₂*cos𝜃₁,₂ + V₁*V₃*-B₁,₃*cos𝜃₁,₃\n",
      "Q₁ = 1²*--6.0 + 1*V₂*-4.0*cos(0-𝜃₂) + 1*1*-2.0*cos(0-𝜃₃)\n",
      "Q₁ = 6.0000-4.0000V₂cos(𝜃₂)-2.0000cos(𝜃₃).....[Explicit]\n",
      "\n",
      "Q2:\n",
      "Q₂ = V₂V₁[G₂,₁sin𝜃₂,₁-B₂,₁cos𝜃₂,₁] + V₂V₂[G₂,₂sin𝜃₂,₂-B₂,₂cos𝜃₂,₂] + V₂V₃[G₂,₃sin𝜃₂,₃-B₂,₃cos𝜃₂,₃] + V₂V₄[G₂,₄sin𝜃₂,₄-B₂,₄cos𝜃₂,₄] \n",
      "Q₂ = V₂*V₁*-B₂,₁*cos𝜃₂,₁ + V₂*V₂*-B₂,₂*cos𝜃₂,₂\n",
      "Q₂ = V₂*V₁*-B₂,₁*cos𝜃₂,₁ + V₂²*-B₂,₂\n",
      "-0.3 = V₂*1*-4.0*cos(𝜃₂-0) + V₂²*--4.0\n",
      "-0.3 = -4.0000V₂cos(𝜃₂) + 4.0000V₂².....[Implicit]\n",
      "\n",
      "Q3:\n",
      "Q₃ = V₃V₁[G₃,₁sin𝜃₃,₁-B₃,₁cos𝜃₃,₁] + V₃V₂[G₃,₂sin𝜃₃,₂-B₃,₂cos𝜃₃,₂] + V₃V₃[G₃,₃sin𝜃₃,₃-B₃,₃cos𝜃₃,₃] + V₃V₄[G₃,₄sin𝜃₃,₄-B₃,₄cos𝜃₃,₄] \n",
      "Q₃ = V₃*V₁*-B₃,₁*cos𝜃₃,₁ + V₃*V₃*-B₃,₃*cos𝜃₃,₃ + V₃*V₄*-B₃,₄*cos𝜃₃,₄\n",
      "Q₃ = V₃*V₁*-B₃,₁*cos𝜃₃,₁ + V₃²*-B₃,₃ + V₃*V₄*-B₃,₄*cos𝜃₃,₄\n",
      "Q₃ = 1*1*-2.0*cos(𝜃₃-0) + 1²*--6.0 + 1*V₄*-4.0*cos(𝜃₃-𝜃₄)\n",
      "Q₃ = -2.0000cos(𝜃₃) + 6.0000-4.0000V₄cos(𝜃₃-𝜃₄).....[Explicit]\n",
      "\n",
      "Q4:\n",
      "Q₄ = V₄V₁[G₄,₁sin𝜃₄,₁-B₄,₁cos𝜃₄,₁] + V₄V₂[G₄,₂sin𝜃₄,₂-B₄,₂cos𝜃₄,₂] + V₄V₃[G₄,₃sin𝜃₄,₃-B₄,₃cos𝜃₄,₃] + V₄V₄[G₄,₄sin𝜃₄,₄-B₄,₄cos𝜃₄,₄] \n",
      "Q₄ = V₄*V₃*-B₄,₃*cos𝜃₄,₃ + V₄*V₄*-B₄,₄*cos𝜃₄,₄\n",
      "Q₄ = V₄*V₃*-B₄,₃*cos𝜃₄,₃ + V₄²*-B₄,₄\n",
      "-0.5 = V₄*1*-4.0*cos(𝜃₄-𝜃₃) + V₄²*--4.0\n",
      "-0.5 = -4.0000V₄cos(𝜃₄-𝜃₃) + 4.0000V₄².....[Implicit]\n",
      "\n",
      "The implicit equations correspond to:\n",
      "P2 P3 P4 Q2 Q4 \n",
      "The unknown variables are:\n",
      "𝜃2 𝜃3 𝜃4 V2 V4 \n",
      "\n",
      "Vector of missmatches\n",
      "ΔP₂ = 4.0000V₂sin𝜃₂ + 0.5000\n",
      "ΔP₃ = 2.0000sin𝜃₃ + 4.0000V₄sin(𝜃₃-𝜃₄) - 0.2000\n",
      "ΔP₄ = 4.0000V₄sin(𝜃₄-𝜃₃) + 1.0000\n",
      "ΔQ₂ = -4.0000V₂cos𝜃₂ + 4.0000V₂² + 0.3000\n",
      "ΔQ₄ = -4.0000V₄cos(𝜃₄-𝜃₃) + 4.0000V₄² + 0.5000\n",
      "\n",
      "Equations that form the Jacobian matrix\n",
      "∂ΔP₂/∂𝜃2 = 4.0000V₂cos𝜃₂\n",
      "∂ΔP₂/∂𝜃3 = 0\n",
      "∂ΔP₂/∂𝜃4 = 0\n",
      "∂ΔP₂/∂V2 = 4.0000sin𝜃₂\n",
      "∂ΔP₂/∂V4 = 0\n",
      "\n",
      "∂ΔP₃/∂𝜃2 = 0\n",
      "∂ΔP₃/∂𝜃3 = 2.0000cos𝜃₃ + 4.0000V₄cos(𝜃₃-𝜃₄)\n",
      "∂ΔP₃/∂𝜃4 = -4.0000V₄cos(𝜃₃-𝜃₄)\n",
      "∂ΔP₃/∂V2 = 0\n",
      "∂ΔP₃/∂V4 = 4.0000sin(𝜃₃-𝜃₄)\n",
      "\n",
      "∂ΔP₄/∂𝜃2 = 0\n",
      "∂ΔP₄/∂𝜃3 = -4.0000V₄cos(𝜃₄-𝜃₃)\n",
      "∂ΔP₄/∂𝜃4 = 4.0000V₄cos(𝜃₄-𝜃₃)\n",
      "∂ΔP₄/∂V2 = 0\n",
      "∂ΔP₄/∂V4 = 4.0000sin(𝜃₄-𝜃₃)\n",
      "\n",
      "∂ΔQ₂/∂𝜃2 = 4.0000V₂sin𝜃₂\n",
      "∂ΔQ₂/∂𝜃3 = 0\n",
      "∂ΔQ₂/∂𝜃4 = 0\n",
      "∂ΔQ₂/∂V2 = -4.0000cos𝜃₂ + 8.0000\n",
      "∂ΔQ₂/∂V4 = 0\n",
      "\n",
      "∂ΔQ₄/∂𝜃2 = 0\n",
      "∂ΔQ₄/∂𝜃3 = -4.0000V₄sin(𝜃₄-𝜃₃)\n",
      "∂ΔQ₄/∂𝜃4 = 4.0000V₄sin(𝜃₄-𝜃₃)\n",
      "∂ΔQ₄/∂V2 = 0\n",
      "∂ΔQ₄/∂V4 = -4.0000cos(𝜃₄-𝜃₃) + 8.0000\n",
      "\n",
      "ITERATION: 1\n",
      "Vector of mismatches: [0.5, -0.19999999999999996, 1.0, 0.3, 0.5]\n",
      "Jacobian:\n",
      " [[ 4.  0.  0.  0.  0.]\n",
      " [ 0.  6. -4.  0.  0.]\n",
      " [ 0. -4.  4.  0.  0.]\n",
      " [ 0.  0.  0.  4.  0.]\n",
      " [ 0.  0.  0.  0.  4.]]\n",
      "dx [0.125 0.4   0.65  0.075 0.125]\n",
      "Updated voltage magnitudes [pu]:  [1, 0.925, 1, 0.875]\n",
      "Updated voltage angles    [rad]:  [0, -0.125, -0.39999999999999997, -0.6499999999999999]\n",
      "\n",
      "RESULTS:\n",
      "V: [1, 0.9078645193897507, 1, 0.790569415042493] (pu)\n",
      "𝜃: [0, -0.13812452201255493, -0.41151684606748806, -0.7332674004637589] (rad)\n",
      "\n",
      "VOLTAGES  [pu] [deg]:\n",
      " 1)   1.0000 +j   0.0000 (  1.0000 ∠   0.0000)\n",
      " 2)   0.8992 +j  -0.1250 (  0.9079 ∠  -7.9140)\n",
      " 3)   0.9165 +j  -0.4000 (  1.0000 ∠ -23.5782)\n",
      " 4)   0.5874 +j  -0.5291 (  0.7906 ∠ -42.0131)\n",
      "NET POWER INJECTIONS [MVA]:\n",
      " 1) 130.0000 +j  57.0098\n",
      " 2) -50.0000 +j -30.0000\n",
      " 3)  20.0000 +j 116.6970\n",
      " 4) -100.0000 +j -50.0000\n",
      "CURRENTS [pu] [deg]:\n",
      " 1- 2)   0.5000 +j  -0.4031 (  0.6423 ∠ -38.8777)\n",
      " 1- 3)   0.8000 +j  -0.1670 (  0.8172 ∠ -11.7891)\n",
      " 3- 4)   0.5165 +j  -1.3165 (  1.4142 ∠ -68.5782)\n",
      "POWER FLOWS [MVA]:\n",
      "      From:                To:                   Loss:\n",
      " 1- 2)  50.0000 +j  40.3128 -50.0000 +j -30.0000 (  0.0000 +j  10.3128)\n",
      " 1- 3)  80.0000 +j  16.6970 -80.0000 +j  16.6970 (  0.0000 +j  33.3939)\n",
      " 3- 4) 100.0000 +j 100.0000 -100.0000 +j -50.0000 (  0.0000 +j  50.0000)\n"
     ]
    }
   ],
   "source": [
    "Connectivity = [\n",
    "    [1, 2, complex(0, 0.25)],\n",
    "    [1, 3, complex(0, 0.5)],\n",
    "    [3, 4, complex(0, 0.25)]\n",
    "]\n",
    "Load = [\n",
    "    [2, complex(0.5, 0.3)],\n",
    "    [3, complex(1, 0.5)],\n",
    "    [4, complex(1, 0.5)],\n",
    "]\n",
    "Generator = [\n",
    "    {'Bus':1, 'V':1, '𝜃':0 },\n",
    "    {'Bus':3, 'V':1, 'P':1.2 }\n",
    "]\n",
    "\n",
    "# From Week 01\n",
    "Ybus = get_Ybus(Connectivity, True)\n",
    "\n",
    "# From Week 02\n",
    "P_Data, Q_Data = develop_PF_Equations(Load, Generator, Ybus, True)\n",
    "Bus_Data, Bus_Type = get_Bus_Type(Ybus, Load, Generator)\n",
    "\n",
    "# From Week 03\n",
    "develop_Jacobian(P_Data, Q_Data, Bus_Type, Generator)\n",
    "V_All, 𝜃_All, Threshold, Succes = Newtons_Method(P_Data, Q_Data, Bus_Data, Bus_Type, Generator)\n",
    "Visualize_Elec(Connectivity, V_All, 𝜃_All, Succes)"
   ]
  },
  {
   "cell_type": "markdown",
   "metadata": {},
   "source": [
    "[Back to top](#EEEN30131-Power-System-Analysis:-Week-03---Newton-Raphson)"
   ]
  },
  {
   "cell_type": "markdown",
   "metadata": {},
   "source": [
    "### Three-bus radial network"
   ]
  },
  {
   "cell_type": "markdown",
   "metadata": {},
   "source": [
    "We can also develop the equations for networks with complex impedances:"
   ]
  },
  {
   "cell_type": "markdown",
   "metadata": {},
   "source": [
    "![Week02_2Bus_radial.png](Figures/Week02_2Bus_radial.png)"
   ]
  },
  {
   "cell_type": "code",
   "execution_count": 26,
   "metadata": {},
   "outputs": [
    {
     "name": "stdout",
     "output_type": "stream",
     "text": [
      "The network has 2 branches and 3 buses\n",
      "______________________________\n",
      "Branch | From - To | Impedance\n",
      "------------------------------\n",
      "    1  |    1 -  2 | (0.1+0.2j)\n",
      "    2  |    2 -  3 | (0.1+0.2j)\n",
      "_______|___________|__________\n",
      "\n",
      "Ybus = \n",
      " [[ 2.-4.j -2.+4.j  0.+0.j]\n",
      " [-2.+4.j  4.-8.j -2.+4.j]\n",
      " [ 0.+0.j -2.+4.j  2.-4.j]]\n",
      "\n",
      "Bus:  Type:       V:       𝜃:     Pinj:     Qinj:\n",
      "   1  Slack   1.0500   0.0000         ?         ?\n",
      "   2     PQ        ?        ?   -1.5000   -0.5000\n",
      "   3     PV   1.0000        ?    1.0000         ?\n",
      "\n",
      "***DEVELOP AND SIMPLIFY***\n",
      "P1:\n",
      "P₁ = V₁V₁[G₁,₁cos𝜃₁,₁+B₁,₁sin𝜃₁,₁] + V₁V₂[G₁,₂cos𝜃₁,₂+B₁,₂sin𝜃₁,₂] + V₁V₃[G₁,₃cos𝜃₁,₃+B₁,₃sin𝜃₁,₃] \n",
      "P₁ = V₁*V₁*[G₁,₁*cos𝜃₁,₁+B₁,₁*sin𝜃₁,₁] + V₁*V₂*[G₁,₂*cos𝜃₁,₂+B₁,₂*sin𝜃₁,₂]\n",
      "P₁ = V₁²*G₁,₁*cos𝜃₁,₁ + V₁*V₂*[G₁,₂*cos𝜃₁,₂+B₁,₂*sin𝜃₁,₂]\n",
      "P₁ = 1.05²*2.0*cos(0-0) + 1.05*V₂*[-2.0*cos(0-𝜃₂)+4.0*sin(0-𝜃₂)]\n",
      "P₁ = 2.2050 + 1.0500V₂[-2.0000cos(𝜃₂)-4.0000sin(𝜃₂)].....[Explicit]\n",
      "\n",
      "P2:\n",
      "P₂ = V₂V₁[G₂,₁cos𝜃₂,₁+B₂,₁sin𝜃₂,₁] + V₂V₂[G₂,₂cos𝜃₂,₂+B₂,₂sin𝜃₂,₂] + V₂V₃[G₂,₃cos𝜃₂,₃+B₂,₃sin𝜃₂,₃] \n",
      "P₂ = V₂*V₁*[G₂,₁*cos𝜃₂,₁+B₂,₁*sin𝜃₂,₁] + V₂*V₂*[G₂,₂*cos𝜃₂,₂+B₂,₂*sin𝜃₂,₂] + V₂*V₃*[G₂,₃*cos𝜃₂,₃+B₂,₃*sin𝜃₂,₃]\n",
      "P₂ = V₂*V₁*[G₂,₁*cos𝜃₂,₁+B₂,₁*sin𝜃₂,₁] + V₂²*G₂,₂*cos𝜃₂,₂ + V₂*V₃*[G₂,₃*cos𝜃₂,₃+B₂,₃*sin𝜃₂,₃]\n",
      "-1.5 = V₂*1.05*[-2.0*cos(𝜃₂-0)+4.0*sin(𝜃₂-0)] + V₂²*4.0*cos(𝜃₂-𝜃₂) + V₂*1*[-2.0*cos(𝜃₂-𝜃₃)+4.0*sin(𝜃₂-𝜃₃)]\n",
      "-1.5 = 1.0500V₂[-2.0000cos(𝜃₂)+4.0000sin(𝜃₂)] + 4.0000V₂² + 1.0000V₂[-2.0000cos(𝜃₂-𝜃₃)+4.0000sin(𝜃₂-𝜃₃)].....[Implicit]\n",
      "\n",
      "P3:\n",
      "P₃ = V₃V₁[G₃,₁cos𝜃₃,₁+B₃,₁sin𝜃₃,₁] + V₃V₂[G₃,₂cos𝜃₃,₂+B₃,₂sin𝜃₃,₂] + V₃V₃[G₃,₃cos𝜃₃,₃+B₃,₃sin𝜃₃,₃] \n",
      "P₃ = V₃*V₂*[G₃,₂*cos𝜃₃,₂+B₃,₂*sin𝜃₃,₂] + V₃*V₃*[G₃,₃*cos𝜃₃,₃+B₃,₃*sin𝜃₃,₃]\n",
      "P₃ = V₃*V₂*[G₃,₂*cos𝜃₃,₂+B₃,₂*sin𝜃₃,₂] + V₃²*G₃,₃*cos𝜃₃,₃\n",
      "1 = 1*V₂*[-2.0*cos(𝜃₃-𝜃₂)+4.0*sin(𝜃₃-𝜃₂)] + 1²*2.0*cos(𝜃₃-𝜃₃)\n",
      "1 = 1.0000V₂[-2.0000cos(𝜃₃-𝜃₂)+4.0000sin(𝜃₃-𝜃₂)] + 2.0000.....[Implicit]\n",
      "\n",
      "Q1:\n",
      "Q₁ = V₁V₁[G₁,₁sin𝜃₁,₁-B₁,₁cos𝜃₁,₁] + V₁V₂[G₁,₂sin𝜃₁,₂-B₁,₂cos𝜃₁,₂] + V₁V₃[G₁,₃sin𝜃₁,₃-B₁,₃cos𝜃₁,₃] \n",
      "Q₁ = V₁*V₁*[G₁,₁*sin𝜃₁,₁-B₁,₁*cos𝜃₁,₁] + V₁*V₂*[G₁,₂*sin𝜃₁,₂-B₁,₂*cos𝜃₁,₂]\n",
      "Q₁ = V₁²*-B₁,₁ + V₁*V₂*[G₁,₂*sin𝜃₁,₂-B₁,₂*cos𝜃₁,₂]\n",
      "Q₁ = 1.05²*--4.0 + 1.05*V₂*[-2.0*sin(0-𝜃₂)-4.0*cos(0-𝜃₂)]\n",
      "Q₁ = 4.4100 + 1.0500V₂[2.0000sin(𝜃₂)-4.0000cos(𝜃₂)].....[Explicit]\n",
      "\n",
      "Q2:\n",
      "Q₂ = V₂V₁[G₂,₁sin𝜃₂,₁-B₂,₁cos𝜃₂,₁] + V₂V₂[G₂,₂sin𝜃₂,₂-B₂,₂cos𝜃₂,₂] + V₂V₃[G₂,₃sin𝜃₂,₃-B₂,₃cos𝜃₂,₃] \n",
      "Q₂ = V₂*V₁*[G₂,₁*sin𝜃₂,₁-B₂,₁*cos𝜃₂,₁] + V₂*V₂*[G₂,₂*sin𝜃₂,₂-B₂,₂*cos𝜃₂,₂] + V₂*V₃*[G₂,₃*sin𝜃₂,₃-B₂,₃*cos𝜃₂,₃]\n",
      "Q₂ = V₂*V₁*[G₂,₁*sin𝜃₂,₁-B₂,₁*cos𝜃₂,₁] + V₂²*-B₂,₂ + V₂*V₃*[G₂,₃*sin𝜃₂,₃-B₂,₃*cos𝜃₂,₃]\n",
      "-0.5 = V₂*1.05*[-2.0*sin(𝜃₂-0)-4.0*cos(𝜃₂-0)] + V₂²*--8.0 + V₂*1*[-2.0*sin(𝜃₂-𝜃₃)-4.0*cos(𝜃₂-𝜃₃)]\n",
      "-0.5 = 1.0500V₂[-2.0000sin(𝜃₂)-4.0000cos(𝜃₂)] + 8.0000V₂² + 1.0000V₂[-2.0000sin(𝜃₂-𝜃₃)-4.0000cos(𝜃₂-𝜃₃)].....[Implicit]\n",
      "\n",
      "Q3:\n",
      "Q₃ = V₃V₁[G₃,₁sin𝜃₃,₁-B₃,₁cos𝜃₃,₁] + V₃V₂[G₃,₂sin𝜃₃,₂-B₃,₂cos𝜃₃,₂] + V₃V₃[G₃,₃sin𝜃₃,₃-B₃,₃cos𝜃₃,₃] \n",
      "Q₃ = V₃*V₂*[G₃,₂*sin𝜃₃,₂-B₃,₂*cos𝜃₃,₂] + V₃*V₃*[G₃,₃*sin𝜃₃,₃-B₃,₃*cos𝜃₃,₃]\n",
      "Q₃ = V₃*V₂*[G₃,₂*sin𝜃₃,₂-B₃,₂*cos𝜃₃,₂] + V₃²*-B₃,₃\n",
      "Q₃ = 1*V₂*[-2.0*sin(𝜃₃-𝜃₂)-4.0*cos(𝜃₃-𝜃₂)] + 1²*--4.0\n",
      "Q₃ = 1.0000V₂[-2.0000sin(𝜃₃-𝜃₂)-4.0000cos(𝜃₃-𝜃₂)] + 4.0000.....[Explicit]\n",
      "\n",
      "The implicit equations correspond to:\n",
      "P2 P3 Q2 \n",
      "The unknown variables are:\n",
      "𝜃2 𝜃3 V2 \n",
      "\n",
      "Vector of missmatches\n",
      "ΔP₂ = 1.0500V₂[-2.0000cos𝜃₂+4.0000sin𝜃₂] + 4.0000V₂² + 1.0000V₂[-2.0000cos(𝜃₂-𝜃₃)+4.0000sin(𝜃₂-𝜃₃)] + 1.5000\n",
      "ΔP₃ = 1.0000V₂[-2.0000cos(𝜃₃-𝜃₂)+4.0000sin(𝜃₃-𝜃₂)] + 2.0000 - 1.0000\n",
      "ΔQ₂ = 1.0500V₂[-2.0000sin𝜃₂-4.0000cos𝜃₂] + 8.0000V₂² + 1.0000V₂[-2.0000sin(𝜃₂-𝜃₃)-4.0000cos(𝜃₂-𝜃₃)] + 0.5000\n",
      "\n",
      "Equations that form the Jacobian matrix\n",
      "∂ΔP₂/∂𝜃2 = 1.0500V₂[2.0000sin𝜃₂+4.0000cos𝜃₂] + 1.0000V₂[2.0000sin(𝜃₂-𝜃₃)+4.0000cos(𝜃₂-𝜃₃)]\n",
      "∂ΔP₂/∂𝜃3 = 1.0000V₂[-2.0000sin(𝜃₂-𝜃₃)+-4.0000cos(𝜃₂-𝜃₃)]\n",
      "∂ΔP₂/∂V2 = 1.0500[-2.0000sin+4.0000𝜃₂] + 8.0000 + 1.0000[-2.0000sin+4.0000(𝜃₂-𝜃₃)]\n",
      "\n",
      "∂ΔP₃/∂𝜃2 = 1.0000V₂[-2.0000sin(𝜃₃-𝜃₂)+-4.0000cos(𝜃₃-𝜃₂)]\n",
      "∂ΔP₃/∂𝜃3 = 1.0000V₂[2.0000sin(𝜃₃-𝜃₂)+4.0000cos(𝜃₃-𝜃₂)]\n",
      "∂ΔP₃/∂V2 = 1.0000[-2.0000sin+4.0000(𝜃₃-𝜃₂)]\n",
      "\n",
      "∂ΔQ₂/∂𝜃2 = 1.0500V₂[-2.0000cos𝜃₂4.0000sin𝜃₂] + 1.0000V₂[-2.0000cos(𝜃₂-𝜃₃)4.0000sin(𝜃₂-𝜃₃)]\n",
      "∂ΔQ₂/∂𝜃3 = 1.0000V₂[2.0000cos(𝜃₂-𝜃₃)-4.0000sin(𝜃₂-𝜃₃)]\n",
      "∂ΔQ₂/∂V2 = 1.0500[-2.0000cos-4.0000𝜃₂] + 16.0000 + 1.0000[-2.0000cos-4.0000(𝜃₂-𝜃₃)]\n",
      "\n",
      "ITERATION: 1\n",
      "Vector of mismatches: [1.4, -1.0, 0.2999999999999998]\n",
      "Jacobian:\n",
      " [[ 8.2 -4.   3.9]\n",
      " [-4.   4.  -2. ]\n",
      " [-4.1  2.   7.8]]\n",
      "dx [ 0.04884005 -0.1498779   0.1025641 ]\n",
      "Updated voltage magnitudes [pu]:  [1.05, 0.8974358974358975, 1]\n",
      "Updated voltage angles    [rad]:  [0, -0.04884004884004882, 0.1498778998778999]\n",
      "\n",
      "RESULTS:\n",
      "V: [1.05, 0.8691165526991047, 1] (pu)\n",
      "𝜃: [0, -0.08162223626333102, 0.12181839766697433] (rad)\n",
      "\n",
      "VOLTAGES  [pu] [deg]:\n",
      " 1)   1.0500 +j   0.0000 (  1.0500 ∠   0.0000)\n",
      " 2)   0.8662 +j  -0.0709 (  0.8691 ∠  -4.6766)\n",
      " 3)   0.9926 +j   0.1215 (  1.0000 ∠   6.9797)\n",
      "NET POWER INJECTIONS [MVA]:\n",
      " 1)  68.3546 +j  62.3056\n",
      " 2) -150.0000 +j -50.0000\n",
      " 3) 100.0000 +j  24.4035\n",
      "CURRENTS [pu] [deg]:\n",
      " 1- 2)   0.6510 +j  -0.5934 (  0.8809 ∠ -42.3494)\n",
      " 2- 3)  -1.0222 +j   0.1207 (  1.0293 ∠ 173.2655)\n",
      "POWER FLOWS [MVA]:\n",
      "      From:                To:                   Loss:\n",
      " 1- 2)  68.3546 +j  62.3056 -60.5955 +j -46.7875 (  7.7590 +j  15.5181)\n",
      " 2- 3) -89.4045 +j  -3.2125 100.0000 +j  24.4035 ( 10.5955 +j  21.1911)\n"
     ]
    }
   ],
   "source": [
    "Connectivity = [\n",
    "    [1, 2, complex(0.1, 0.2)],\n",
    "    [2, 3, complex(0.1, 0.2)]\n",
    "]\n",
    "Load = [\n",
    "    [2, complex(1.5, 0.5)]\n",
    "]\n",
    "Generator = [\n",
    "    {'Bus':1, 'V':1.05, '𝜃':0 },\n",
    "    {'Bus':3, 'P':1, 'V':1 }\n",
    "]\n",
    "\n",
    "# From Week 01\n",
    "Ybus = get_Ybus(Connectivity, True)\n",
    "\n",
    "# From Week 02\n",
    "P_Data, Q_Data = develop_PF_Equations(Load, Generator, Ybus, True)\n",
    "Bus_Data, Bus_Type = get_Bus_Type(Ybus, Load, Generator)\n",
    "\n",
    "# From Week 03\n",
    "develop_Jacobian(P_Data, Q_Data, Bus_Type, Generator)\n",
    "V_All, 𝜃_All, Threshold, Succes = Newtons_Method(P_Data, Q_Data, Bus_Data, Bus_Type, Generator)\n",
    "Visualize_Elec(Connectivity, V_All, 𝜃_All, Succes)"
   ]
  },
  {
   "cell_type": "markdown",
   "metadata": {},
   "source": [
    "[Back to top](#EEEN30131-Power-System-Analysis:-Week-03---Newton-Raphson)"
   ]
  },
  {
   "cell_type": "markdown",
   "metadata": {},
   "source": [
    "### Create your own example"
   ]
  },
  {
   "cell_type": "markdown",
   "metadata": {},
   "source": [
    "Try to create your own examples:"
   ]
  },
  {
   "cell_type": "code",
   "execution_count": 27,
   "metadata": {},
   "outputs": [
    {
     "name": "stdout",
     "output_type": "stream",
     "text": [
      "The network has 2 branches and 3 buses\n",
      "______________________________\n",
      "Branch | From - To | Impedance\n",
      "------------------------------\n",
      "    1  |    1 -  2 | (0.1+0.2j)\n",
      "    2  |    2 -  3 | (0.1+0.2j)\n",
      "_______|___________|__________\n",
      "\n",
      "Ybus = \n",
      " [[ 2.-4.j -2.+4.j  0.+0.j]\n",
      " [-2.+4.j  4.-8.j -2.+4.j]\n",
      " [ 0.+0.j -2.+4.j  2.-4.j]]\n",
      "\n",
      "Bus:  Type:       V:       𝜃:     Pinj:     Qinj:\n",
      "   1  Slack   1.0500   0.0000         ?         ?\n",
      "   2     PQ        ?        ?   -1.5000   -0.5000\n",
      "   3     PV   1.0000        ?    1.0000         ?\n",
      "\n",
      "***DEVELOP AND SIMPLIFY***\n",
      "P1:\n",
      "P₁ = V₁V₁[G₁,₁cos𝜃₁,₁+B₁,₁sin𝜃₁,₁] + V₁V₂[G₁,₂cos𝜃₁,₂+B₁,₂sin𝜃₁,₂] + V₁V₃[G₁,₃cos𝜃₁,₃+B₁,₃sin𝜃₁,₃] \n",
      "P₁ = V₁*V₁*[G₁,₁*cos𝜃₁,₁+B₁,₁*sin𝜃₁,₁] + V₁*V₂*[G₁,₂*cos𝜃₁,₂+B₁,₂*sin𝜃₁,₂]\n",
      "P₁ = V₁²*G₁,₁*cos𝜃₁,₁ + V₁*V₂*[G₁,₂*cos𝜃₁,₂+B₁,₂*sin𝜃₁,₂]\n",
      "P₁ = 1.05²*2.0*cos(0-0) + 1.05*V₂*[-2.0*cos(0-𝜃₂)+4.0*sin(0-𝜃₂)]\n",
      "P₁ = 2.2050 + 1.0500V₂[-2.0000cos(𝜃₂)-4.0000sin(𝜃₂)].....[Explicit]\n",
      "\n",
      "P2:\n",
      "P₂ = V₂V₁[G₂,₁cos𝜃₂,₁+B₂,₁sin𝜃₂,₁] + V₂V₂[G₂,₂cos𝜃₂,₂+B₂,₂sin𝜃₂,₂] + V₂V₃[G₂,₃cos𝜃₂,₃+B₂,₃sin𝜃₂,₃] \n",
      "P₂ = V₂*V₁*[G₂,₁*cos𝜃₂,₁+B₂,₁*sin𝜃₂,₁] + V₂*V₂*[G₂,₂*cos𝜃₂,₂+B₂,₂*sin𝜃₂,₂] + V₂*V₃*[G₂,₃*cos𝜃₂,₃+B₂,₃*sin𝜃₂,₃]\n",
      "P₂ = V₂*V₁*[G₂,₁*cos𝜃₂,₁+B₂,₁*sin𝜃₂,₁] + V₂²*G₂,₂*cos𝜃₂,₂ + V₂*V₃*[G₂,₃*cos𝜃₂,₃+B₂,₃*sin𝜃₂,₃]\n",
      "-1.5 = V₂*1.05*[-2.0*cos(𝜃₂-0)+4.0*sin(𝜃₂-0)] + V₂²*4.0*cos(𝜃₂-𝜃₂) + V₂*1*[-2.0*cos(𝜃₂-𝜃₃)+4.0*sin(𝜃₂-𝜃₃)]\n",
      "-1.5 = 1.0500V₂[-2.0000cos(𝜃₂)+4.0000sin(𝜃₂)] + 4.0000V₂² + 1.0000V₂[-2.0000cos(𝜃₂-𝜃₃)+4.0000sin(𝜃₂-𝜃₃)].....[Implicit]\n",
      "\n",
      "P3:\n",
      "P₃ = V₃V₁[G₃,₁cos𝜃₃,₁+B₃,₁sin𝜃₃,₁] + V₃V₂[G₃,₂cos𝜃₃,₂+B₃,₂sin𝜃₃,₂] + V₃V₃[G₃,₃cos𝜃₃,₃+B₃,₃sin𝜃₃,₃] \n",
      "P₃ = V₃*V₂*[G₃,₂*cos𝜃₃,₂+B₃,₂*sin𝜃₃,₂] + V₃*V₃*[G₃,₃*cos𝜃₃,₃+B₃,₃*sin𝜃₃,₃]\n",
      "P₃ = V₃*V₂*[G₃,₂*cos𝜃₃,₂+B₃,₂*sin𝜃₃,₂] + V₃²*G₃,₃*cos𝜃₃,₃\n",
      "1 = 1*V₂*[-2.0*cos(𝜃₃-𝜃₂)+4.0*sin(𝜃₃-𝜃₂)] + 1²*2.0*cos(𝜃₃-𝜃₃)\n",
      "1 = 1.0000V₂[-2.0000cos(𝜃₃-𝜃₂)+4.0000sin(𝜃₃-𝜃₂)] + 2.0000.....[Implicit]\n",
      "\n",
      "Q1:\n",
      "Q₁ = V₁V₁[G₁,₁sin𝜃₁,₁-B₁,₁cos𝜃₁,₁] + V₁V₂[G₁,₂sin𝜃₁,₂-B₁,₂cos𝜃₁,₂] + V₁V₃[G₁,₃sin𝜃₁,₃-B₁,₃cos𝜃₁,₃] \n",
      "Q₁ = V₁*V₁*[G₁,₁*sin𝜃₁,₁-B₁,₁*cos𝜃₁,₁] + V₁*V₂*[G₁,₂*sin𝜃₁,₂-B₁,₂*cos𝜃₁,₂]\n",
      "Q₁ = V₁²*-B₁,₁ + V₁*V₂*[G₁,₂*sin𝜃₁,₂-B₁,₂*cos𝜃₁,₂]\n",
      "Q₁ = 1.05²*--4.0 + 1.05*V₂*[-2.0*sin(0-𝜃₂)-4.0*cos(0-𝜃₂)]\n",
      "Q₁ = 4.4100 + 1.0500V₂[2.0000sin(𝜃₂)-4.0000cos(𝜃₂)].....[Explicit]\n",
      "\n",
      "Q2:\n",
      "Q₂ = V₂V₁[G₂,₁sin𝜃₂,₁-B₂,₁cos𝜃₂,₁] + V₂V₂[G₂,₂sin𝜃₂,₂-B₂,₂cos𝜃₂,₂] + V₂V₃[G₂,₃sin𝜃₂,₃-B₂,₃cos𝜃₂,₃] \n",
      "Q₂ = V₂*V₁*[G₂,₁*sin𝜃₂,₁-B₂,₁*cos𝜃₂,₁] + V₂*V₂*[G₂,₂*sin𝜃₂,₂-B₂,₂*cos𝜃₂,₂] + V₂*V₃*[G₂,₃*sin𝜃₂,₃-B₂,₃*cos𝜃₂,₃]\n",
      "Q₂ = V₂*V₁*[G₂,₁*sin𝜃₂,₁-B₂,₁*cos𝜃₂,₁] + V₂²*-B₂,₂ + V₂*V₃*[G₂,₃*sin𝜃₂,₃-B₂,₃*cos𝜃₂,₃]\n",
      "-0.5 = V₂*1.05*[-2.0*sin(𝜃₂-0)-4.0*cos(𝜃₂-0)] + V₂²*--8.0 + V₂*1*[-2.0*sin(𝜃₂-𝜃₃)-4.0*cos(𝜃₂-𝜃₃)]\n",
      "-0.5 = 1.0500V₂[-2.0000sin(𝜃₂)-4.0000cos(𝜃₂)] + 8.0000V₂² + 1.0000V₂[-2.0000sin(𝜃₂-𝜃₃)-4.0000cos(𝜃₂-𝜃₃)].....[Implicit]\n",
      "\n",
      "Q3:\n",
      "Q₃ = V₃V₁[G₃,₁sin𝜃₃,₁-B₃,₁cos𝜃₃,₁] + V₃V₂[G₃,₂sin𝜃₃,₂-B₃,₂cos𝜃₃,₂] + V₃V₃[G₃,₃sin𝜃₃,₃-B₃,₃cos𝜃₃,₃] \n",
      "Q₃ = V₃*V₂*[G₃,₂*sin𝜃₃,₂-B₃,₂*cos𝜃₃,₂] + V₃*V₃*[G₃,₃*sin𝜃₃,₃-B₃,₃*cos𝜃₃,₃]\n",
      "Q₃ = V₃*V₂*[G₃,₂*sin𝜃₃,₂-B₃,₂*cos𝜃₃,₂] + V₃²*-B₃,₃\n",
      "Q₃ = 1*V₂*[-2.0*sin(𝜃₃-𝜃₂)-4.0*cos(𝜃₃-𝜃₂)] + 1²*--4.0\n",
      "Q₃ = 1.0000V₂[-2.0000sin(𝜃₃-𝜃₂)-4.0000cos(𝜃₃-𝜃₂)] + 4.0000.....[Explicit]\n",
      "\n",
      "The implicit equations correspond to:\n",
      "P2 P3 Q2 \n",
      "The unknown variables are:\n",
      "𝜃2 𝜃3 V2 \n",
      "\n",
      "Vector of missmatches\n",
      "ΔP₂ = 1.0500V₂[-2.0000cos𝜃₂+4.0000sin𝜃₂] + 4.0000V₂² + 1.0000V₂[-2.0000cos(𝜃₂-𝜃₃)+4.0000sin(𝜃₂-𝜃₃)] + 1.5000\n",
      "ΔP₃ = 1.0000V₂[-2.0000cos(𝜃₃-𝜃₂)+4.0000sin(𝜃₃-𝜃₂)] + 2.0000 - 1.0000\n",
      "ΔQ₂ = 1.0500V₂[-2.0000sin𝜃₂-4.0000cos𝜃₂] + 8.0000V₂² + 1.0000V₂[-2.0000sin(𝜃₂-𝜃₃)-4.0000cos(𝜃₂-𝜃₃)] + 0.5000\n",
      "\n",
      "Equations that form the Jacobian matrix\n",
      "∂ΔP₂/∂𝜃2 = 1.0500V₂[2.0000sin𝜃₂+4.0000cos𝜃₂] + 1.0000V₂[2.0000sin(𝜃₂-𝜃₃)+4.0000cos(𝜃₂-𝜃₃)]\n",
      "∂ΔP₂/∂𝜃3 = 1.0000V₂[-2.0000sin(𝜃₂-𝜃₃)+-4.0000cos(𝜃₂-𝜃₃)]\n",
      "∂ΔP₂/∂V2 = 1.0500[-2.0000sin+4.0000𝜃₂] + 8.0000 + 1.0000[-2.0000sin+4.0000(𝜃₂-𝜃₃)]\n",
      "\n",
      "∂ΔP₃/∂𝜃2 = 1.0000V₂[-2.0000sin(𝜃₃-𝜃₂)+-4.0000cos(𝜃₃-𝜃₂)]\n",
      "∂ΔP₃/∂𝜃3 = 1.0000V₂[2.0000sin(𝜃₃-𝜃₂)+4.0000cos(𝜃₃-𝜃₂)]\n",
      "∂ΔP₃/∂V2 = 1.0000[-2.0000sin+4.0000(𝜃₃-𝜃₂)]\n",
      "\n",
      "∂ΔQ₂/∂𝜃2 = 1.0500V₂[-2.0000cos𝜃₂4.0000sin𝜃₂] + 1.0000V₂[-2.0000cos(𝜃₂-𝜃₃)4.0000sin(𝜃₂-𝜃₃)]\n",
      "∂ΔQ₂/∂𝜃3 = 1.0000V₂[2.0000cos(𝜃₂-𝜃₃)-4.0000sin(𝜃₂-𝜃₃)]\n",
      "∂ΔQ₂/∂V2 = 1.0500[-2.0000cos-4.0000𝜃₂] + 16.0000 + 1.0000[-2.0000cos-4.0000(𝜃₂-𝜃₃)]\n",
      "\n",
      "ITERATION: 1\n",
      "Vector of mismatches: [1.4, -1.0, 0.2999999999999998]\n",
      "Jacobian:\n",
      " [[ 8.2 -4.   3.9]\n",
      " [-4.   4.  -2. ]\n",
      " [-4.1  2.   7.8]]\n",
      "dx [ 0.04884005 -0.1498779   0.1025641 ]\n",
      "Updated voltage magnitudes [pu]:  [1.05, 0.8974358974358975, 1]\n",
      "Updated voltage angles    [rad]:  [0, -0.04884004884004882, 0.1498778998778999]\n",
      "\n",
      "RESULTS:\n",
      "V: [1.05, 0.8691165526991047, 1] (pu)\n",
      "𝜃: [0, -0.08162223626333102, 0.12181839766697433] (rad)\n",
      "\n",
      "VOLTAGES  [pu] [deg]:\n",
      " 1)   1.0500 +j   0.0000 (  1.0500 ∠   0.0000)\n",
      " 2)   0.8662 +j  -0.0709 (  0.8691 ∠  -4.6766)\n",
      " 3)   0.9926 +j   0.1215 (  1.0000 ∠   6.9797)\n",
      "NET POWER INJECTIONS [MVA]:\n",
      " 1)  68.3546 +j  62.3056\n",
      " 2) -150.0000 +j -50.0000\n",
      " 3) 100.0000 +j  24.4035\n",
      "CURRENTS [pu] [deg]:\n",
      " 1- 2)   0.6510 +j  -0.5934 (  0.8809 ∠ -42.3494)\n",
      " 2- 3)  -1.0222 +j   0.1207 (  1.0293 ∠ 173.2655)\n",
      "POWER FLOWS [MVA]:\n",
      "      From:                To:                   Loss:\n",
      " 1- 2)  68.3546 +j  62.3056 -60.5955 +j -46.7875 (  7.7590 +j  15.5181)\n",
      " 2- 3) -89.4045 +j  -3.2125 100.0000 +j  24.4035 ( 10.5955 +j  21.1911)\n"
     ]
    }
   ],
   "source": [
    "Connectivity = [\n",
    "    [1, 2, complex(0.1, 0.2)],\n",
    "    [2, 3, complex(0.1, 0.2)]\n",
    "]\n",
    "Load = [\n",
    "    [2, complex(1.5, 0.5)]\n",
    "]\n",
    "Generator = [\n",
    "    {'Bus':1, 'V':1.05, '𝜃':0 },\n",
    "    {'Bus':3, 'P':1, 'V':1 }\n",
    "]\n",
    "\n",
    "# From Week 01\n",
    "Ybus = get_Ybus(Connectivity, True)\n",
    "\n",
    "# From Week 02\n",
    "P_Data, Q_Data = develop_PF_Equations(Load, Generator, Ybus, True)\n",
    "Bus_Data, Bus_Type = get_Bus_Type(Ybus, Load, Generator)\n",
    "\n",
    "# From Week 03\n",
    "develop_Jacobian(P_Data, Q_Data, Bus_Type, Generator)\n",
    "V_All, 𝜃_All, Threshold, Succes = Newtons_Method(P_Data, Q_Data, Bus_Data, Bus_Type, Generator)\n",
    "Visualize_Elec(Connectivity, V_All, 𝜃_All, Succes)"
   ]
  },
  {
   "cell_type": "markdown",
   "metadata": {},
   "source": [
    "[Back to top](#EEEN30131-Power-System-Analysis:-Week-03---Newton-Raphson)"
   ]
  }
 ],
 "metadata": {
  "kernelspec": {
   "display_name": "Python 3 (ipykernel)",
   "language": "python",
   "name": "python3"
  },
  "language_info": {
   "codemirror_mode": {
    "name": "ipython",
    "version": 3
   },
   "file_extension": ".py",
   "mimetype": "text/x-python",
   "name": "python",
   "nbconvert_exporter": "python",
   "pygments_lexer": "ipython3",
   "version": "3.11.4"
  },
  "toc": {
   "base_numbering": 1,
   "nav_menu": {},
   "number_sections": true,
   "sideBar": true,
   "skip_h1_title": true,
   "title_cell": "Table of Contents",
   "title_sidebar": "Contents",
   "toc_cell": false,
   "toc_position": {
    "height": "calc(100% - 180px)",
    "left": "10px",
    "top": "150px",
    "width": "194.427px"
   },
   "toc_section_display": true,
   "toc_window_display": true
  }
 },
 "nbformat": 4,
 "nbformat_minor": 4
}
